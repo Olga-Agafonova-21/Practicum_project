{
 "cells": [
  {
   "cell_type": "markdown",
   "id": "e06910dd",
   "metadata": {
    "id": "e06910dd"
   },
   "source": [
    "# Исследование данных для развития игры \"Секреты Темнолесья\".\n",
    "\n",
    "- Автор: Агафонова Ольга\n",
    "- Дата: 26.03.2025г."
   ]
  },
  {
   "cell_type": "markdown",
   "id": "4149134c",
   "metadata": {
    "id": "4149134c"
   },
   "source": [
    "### Цели и задачи проекта\n",
    "\n",
    "**Цель проекта** - изучение развития игровой индустрии с 2000г. по 2013г. на основе данных датасета `new_games.csv`.\n",
    "\n",
    "\n",
    "**Задачи проекта:**\n",
    "\n",
    "* Отбор и анализ данных за указанный период;\n",
    "* Группировка данных по трём категориям, исходя из оценок пользователей и экспертов;\n",
    "* Выделение ТОП-7 платформ по количеству игр, выпущенных за весь период."
   ]
  },
  {
   "cell_type": "markdown",
   "id": "728986ea",
   "metadata": {
    "id": "728986ea"
   },
   "source": [
    "### Описание данных\n",
    "\n",
    "Данные датасета `new_games.csv`, которые будут задействованы в проктной работе, имеют следующее описание:\n",
    "\n",
    "\n",
    "* `Name` — название игры;\n",
    "* `Platform` — название платформы;\n",
    "* `Year of Release` — год выпуска игры;\n",
    "* `Genre` — жанр игры;\n",
    "* `NA sales` — продажи в Северной Америке (в миллионах проданных копий);\n",
    "* `EU sales` — продажи в Европе (в миллионах проданных копий);\n",
    "* `JP sales` — продажи в Японии (в миллионах проданных копий);\n",
    "* `Other sales` — продажи в других странах (в миллионах проданных копий);\n",
    "* `Critic Score` — оценка критиков (от 0 до 100);\n",
    "* `User Score` — оценка пользователей (от 0 до 10);\n",
    "* `Rating` — рейтинг организации ESRB (англ. Entertainment Software Rating Board). Эта ассоциация определяет рейтинг компьютерных игр и присваивает им подходящую возрастную категорию."
   ]
  },
  {
   "cell_type": "markdown",
   "id": "4fecaf95",
   "metadata": {
    "id": "4fecaf95"
   },
   "source": [
    "### Содержимое проекта\n",
    "\n",
    "1. Загрузка данных и знакомство с ними.\n",
    "2. Проверка ошибок в данных и их предобработка.\n",
    "3. Фильтрация данных.\n",
    "4. Категоризация данных.\n",
    "5. Итоговый вывод.\n"
   ]
  },
  {
   "cell_type": "markdown",
   "id": "6f7d21d6",
   "metadata": {
    "id": "6f7d21d6"
   },
   "source": [
    "---\n",
    "\n",
    "## Загрузка данных и знакомство с ними\n",
    "\n",
    "Загрузим необходимую библиотеку для анализа данных и данные из датасета new_games.csv. Затем выведем основную информацию о данных с помощью метода info() и первые строки датафрейма.\n"
   ]
  },
  {
   "cell_type": "code",
   "execution_count": 1,
   "id": "ebb66dc5",
   "metadata": {
    "id": "ebb66dc5"
   },
   "outputs": [],
   "source": [
    "# Импортируем библиотеку pandas\n",
    "import pandas as pd"
   ]
  },
  {
   "cell_type": "code",
   "execution_count": 2,
   "id": "ce87c1db",
   "metadata": {
    "id": "ce87c1db"
   },
   "outputs": [],
   "source": [
    "# Выгружаем данные из датасета new_games.csv в датафрейм games\n",
    "games = pd.read_csv('https://code.s3.yandex.net/datasets/new_games.csv')\n"
   ]
  },
  {
   "cell_type": "code",
   "execution_count": 3,
   "id": "3937acf7",
   "metadata": {
    "id": "3937acf7"
   },
   "outputs": [
    {
     "name": "stdout",
     "output_type": "stream",
     "text": [
      "<class 'pandas.core.frame.DataFrame'>\n",
      "RangeIndex: 16956 entries, 0 to 16955\n",
      "Data columns (total 11 columns):\n",
      " #   Column           Non-Null Count  Dtype  \n",
      "---  ------           --------------  -----  \n",
      " 0   Name             16954 non-null  object \n",
      " 1   Platform         16956 non-null  object \n",
      " 2   Year of Release  16681 non-null  float64\n",
      " 3   Genre            16954 non-null  object \n",
      " 4   NA sales         16956 non-null  float64\n",
      " 5   EU sales         16956 non-null  object \n",
      " 6   JP sales         16956 non-null  object \n",
      " 7   Other sales      16956 non-null  float64\n",
      " 8   Critic Score     8242 non-null   float64\n",
      " 9   User Score       10152 non-null  object \n",
      " 10  Rating           10085 non-null  object \n",
      "dtypes: float64(4), object(7)\n",
      "memory usage: 1.4+ MB\n"
     ]
    }
   ],
   "source": [
    "# Выводим информацию о датафрейме\n",
    "games.info()"
   ]
  },
  {
   "cell_type": "code",
   "execution_count": 4,
   "id": "d7c8eb4b",
   "metadata": {
    "id": "d7c8eb4b"
   },
   "outputs": [
    {
     "data": {
      "text/html": [
       "<div>\n",
       "<style scoped>\n",
       "    .dataframe tbody tr th:only-of-type {\n",
       "        vertical-align: middle;\n",
       "    }\n",
       "\n",
       "    .dataframe tbody tr th {\n",
       "        vertical-align: top;\n",
       "    }\n",
       "\n",
       "    .dataframe thead th {\n",
       "        text-align: right;\n",
       "    }\n",
       "</style>\n",
       "<table border=\"1\" class=\"dataframe\">\n",
       "  <thead>\n",
       "    <tr style=\"text-align: right;\">\n",
       "      <th></th>\n",
       "      <th>Name</th>\n",
       "      <th>Platform</th>\n",
       "      <th>Year of Release</th>\n",
       "      <th>Genre</th>\n",
       "      <th>NA sales</th>\n",
       "      <th>EU sales</th>\n",
       "      <th>JP sales</th>\n",
       "      <th>Other sales</th>\n",
       "      <th>Critic Score</th>\n",
       "      <th>User Score</th>\n",
       "      <th>Rating</th>\n",
       "    </tr>\n",
       "  </thead>\n",
       "  <tbody>\n",
       "    <tr>\n",
       "      <th>0</th>\n",
       "      <td>Wii Sports</td>\n",
       "      <td>Wii</td>\n",
       "      <td>2006.0</td>\n",
       "      <td>Sports</td>\n",
       "      <td>41.36</td>\n",
       "      <td>28.96</td>\n",
       "      <td>3.77</td>\n",
       "      <td>8.45</td>\n",
       "      <td>76.0</td>\n",
       "      <td>8</td>\n",
       "      <td>E</td>\n",
       "    </tr>\n",
       "    <tr>\n",
       "      <th>1</th>\n",
       "      <td>Super Mario Bros.</td>\n",
       "      <td>NES</td>\n",
       "      <td>1985.0</td>\n",
       "      <td>Platform</td>\n",
       "      <td>29.08</td>\n",
       "      <td>3.58</td>\n",
       "      <td>6.81</td>\n",
       "      <td>0.77</td>\n",
       "      <td>NaN</td>\n",
       "      <td>NaN</td>\n",
       "      <td>NaN</td>\n",
       "    </tr>\n",
       "    <tr>\n",
       "      <th>2</th>\n",
       "      <td>Mario Kart Wii</td>\n",
       "      <td>Wii</td>\n",
       "      <td>2008.0</td>\n",
       "      <td>Racing</td>\n",
       "      <td>15.68</td>\n",
       "      <td>12.76</td>\n",
       "      <td>3.79</td>\n",
       "      <td>3.29</td>\n",
       "      <td>82.0</td>\n",
       "      <td>8.3</td>\n",
       "      <td>E</td>\n",
       "    </tr>\n",
       "    <tr>\n",
       "      <th>3</th>\n",
       "      <td>Wii Sports Resort</td>\n",
       "      <td>Wii</td>\n",
       "      <td>2009.0</td>\n",
       "      <td>Sports</td>\n",
       "      <td>15.61</td>\n",
       "      <td>10.93</td>\n",
       "      <td>3.28</td>\n",
       "      <td>2.95</td>\n",
       "      <td>80.0</td>\n",
       "      <td>8</td>\n",
       "      <td>E</td>\n",
       "    </tr>\n",
       "    <tr>\n",
       "      <th>4</th>\n",
       "      <td>Pokemon Red/Pokemon Blue</td>\n",
       "      <td>GB</td>\n",
       "      <td>1996.0</td>\n",
       "      <td>Role-Playing</td>\n",
       "      <td>11.27</td>\n",
       "      <td>8.89</td>\n",
       "      <td>10.22</td>\n",
       "      <td>1.00</td>\n",
       "      <td>NaN</td>\n",
       "      <td>NaN</td>\n",
       "      <td>NaN</td>\n",
       "    </tr>\n",
       "  </tbody>\n",
       "</table>\n",
       "</div>"
      ],
      "text/plain": [
       "                       Name Platform  Year of Release         Genre  NA sales  \\\n",
       "0                Wii Sports      Wii           2006.0        Sports     41.36   \n",
       "1         Super Mario Bros.      NES           1985.0      Platform     29.08   \n",
       "2            Mario Kart Wii      Wii           2008.0        Racing     15.68   \n",
       "3         Wii Sports Resort      Wii           2009.0        Sports     15.61   \n",
       "4  Pokemon Red/Pokemon Blue       GB           1996.0  Role-Playing     11.27   \n",
       "\n",
       "  EU sales JP sales  Other sales  Critic Score User Score Rating  \n",
       "0    28.96     3.77         8.45          76.0          8      E  \n",
       "1     3.58     6.81         0.77           NaN        NaN    NaN  \n",
       "2    12.76     3.79         3.29          82.0        8.3      E  \n",
       "3    10.93     3.28         2.95          80.0          8      E  \n",
       "4     8.89    10.22         1.00           NaN        NaN    NaN  "
      ]
     },
     "execution_count": 4,
     "metadata": {},
     "output_type": "execute_result"
    }
   ],
   "source": [
    "# Выводим первые строки датафрейма на экран\n",
    "games.head()"
   ]
  },
  {
   "cell_type": "markdown",
   "id": "26267bc0",
   "metadata": {
    "id": "26267bc0"
   },
   "source": [
    "\n",
    "Датафрейм games занимает объем оперативной памяти 1.4 МВ и содержит 16956 строк и 11 столбцов, в которых содержится информация о продажах компьютерных игр.\n",
    "\n",
    "Изучим типы данных и их корректность:\n",
    "В датасете представлены всего два типа данных: \n",
    "\n",
    "\n",
    "**Числовые значения с плавающей точкой (float64).** Четыре столбца представлены в данном типе: \n",
    "\n",
    "* `Year of Release` - год выпуска игры. Тип данных float64 не подходит для содержимого данного столбца, данные лучше представить в целочисленном формате (int64).\n",
    "* `NA sales`, `Other sales` - содержит информацию о количестве проданных копий (в миллионах) в Северной Америке и других странах. Здесь вещественный тип данных подходит, так как значение может быть дробным числом.\n",
    "* `Critic Score` - оценка критиков, в формате от 0 до 100. Тип float64 типичен для данных столбца.\n",
    "\n",
    "**Строковые данные (object).** Семь столбцов имеют тип данных object:\n",
    "\n",
    "* `Name`, `Platform`, `Genre`, `Rating`- столбцы имеют строковые значения (object), что вполне соответствует их содержимому: о названии игры и названии платформы, о жанре игры и рейтинге ESRB, который имеет буквенное или смешанное обозначение в зависимости от ограничений возрастной категории.  \n",
    "* `EU sales`, `JP sales` - в столбцах указана информация о количестве проданных копий (в миллионах) в Европе и Японии. Эти данные могут быть представлены в виде дробных числовых значений, поэтому их нужно перевести в тип данных float64.\n",
    "* `User Score` - столбец содержит оценку пользователей (от 0 до 10), которая также может быть дробным числом. Здесь логично будет присвоить значениям столбца тип данных float64.\n",
    "\n",
    "Проанализировав типы данных видно, что большинство столбцов представлены корректно. А значения остальных столбцов необходимо привести к соответствующим типам данных.\n",
    "Так же, в некоторых столбцах присутствуют пропуски, а именно: \n",
    "* `Name`- 2 пропуска,\n",
    "* `Year of Release`- 275 пропусков,\n",
    "* `Genre`- 2 пропуска,\n",
    "* `Critic Score`- 8714 пропуска,\n",
    "* `User Score`- 6804 пропуска,\n",
    "* `Rating`- 6871 пропуск.\n",
    "\n",
    "Пропущенным значениям необходимо уделить особое внимание. \n",
    "\n",
    "Так же необходимо обратить внимание на стиль написания названия столбцов. Они должны быть прописаны в нижнем регистре с разделением слов подчеркиваниями вместо пробелов, то есть в стиле snake case.\n"
   ]
  },
  {
   "cell_type": "markdown",
   "id": "774bf76e",
   "metadata": {
    "id": "774bf76e"
   },
   "source": [
    "---\n",
    "\n",
    "## Проверка ошибок в данных и их предобработка\n",
    "\n",
    "\n",
    "### Названия, или метки, столбцов датафрейма\n",
    "\n",
    "Выведем на экран названия всех столбцов датафрейма, проверим их стиль написания и приведем все столбцы датафрейма к стилю snake case. \n"
   ]
  },
  {
   "cell_type": "code",
   "execution_count": 5,
   "id": "b9276a2b",
   "metadata": {
    "id": "b9276a2b"
   },
   "outputs": [
    {
     "name": "stdout",
     "output_type": "stream",
     "text": [
      "Index(['Name', 'Platform', 'Year of Release', 'Genre', 'NA sales', 'EU sales',\n",
      "       'JP sales', 'Other sales', 'Critic Score', 'User Score', 'Rating'],\n",
      "      dtype='object')\n"
     ]
    }
   ],
   "source": [
    "# Выведем все названия столбцов датафрейма games и проверим их стиль написания\n",
    "print(games.columns)"
   ]
  },
  {
   "cell_type": "code",
   "execution_count": 6,
   "id": "d554563c",
   "metadata": {
    "id": "d554563c"
   },
   "outputs": [
    {
     "name": "stdout",
     "output_type": "stream",
     "text": [
      "Index(['name', 'platform', 'year_of_release', 'genre', 'na_sales', 'eu_sales',\n",
      "       'jp_sales', 'other_sales', 'critic_score', 'user_score', 'rating'],\n",
      "      dtype='object')\n"
     ]
    }
   ],
   "source": [
    "# Cоздадим список и сохраним в него новые названия столбцов датафрейма, приведенных к стилю snake case.\n",
    "columns_snake_case = [\n",
    "    'name', 'platform', 'year_of_release', 'genre', 'na_sales', 'eu_sales',\n",
    "       'jp_sales', 'other_sales', 'critic_score', 'user_score', 'rating']\n",
    "\n",
    "# Передадим список атрибуту columns датафрейма\n",
    "games.columns = columns_snake_case\n",
    "\n",
    "# Проверим изменение названия столбцов\n",
    "print(games.columns)\n"
   ]
  },
  {
   "cell_type": "markdown",
   "id": "41bc6bf8",
   "metadata": {
    "id": "41bc6bf8"
   },
   "source": [
    "### Типы данных\n",
    "\n",
    "Проведем преобразование некорректных типов данных."
   ]
  },
  {
   "cell_type": "code",
   "execution_count": 7,
   "id": "7d732bab",
   "metadata": {},
   "outputs": [
    {
     "data": {
      "text/html": [
       "<div>\n",
       "<style scoped>\n",
       "    .dataframe tbody tr th:only-of-type {\n",
       "        vertical-align: middle;\n",
       "    }\n",
       "\n",
       "    .dataframe tbody tr th {\n",
       "        vertical-align: top;\n",
       "    }\n",
       "\n",
       "    .dataframe thead th {\n",
       "        text-align: right;\n",
       "    }\n",
       "</style>\n",
       "<table border=\"1\" class=\"dataframe\">\n",
       "  <thead>\n",
       "    <tr style=\"text-align: right;\">\n",
       "      <th></th>\n",
       "      <th>name</th>\n",
       "      <th>platform</th>\n",
       "      <th>year_of_release</th>\n",
       "      <th>genre</th>\n",
       "      <th>na_sales</th>\n",
       "      <th>eu_sales</th>\n",
       "      <th>jp_sales</th>\n",
       "      <th>other_sales</th>\n",
       "      <th>critic_score</th>\n",
       "      <th>user_score</th>\n",
       "      <th>rating</th>\n",
       "    </tr>\n",
       "  </thead>\n",
       "  <tbody>\n",
       "    <tr>\n",
       "      <th>0</th>\n",
       "      <td>Wii Sports</td>\n",
       "      <td>Wii</td>\n",
       "      <td>2006</td>\n",
       "      <td>Sports</td>\n",
       "      <td>41.36</td>\n",
       "      <td>28.96</td>\n",
       "      <td>3.77</td>\n",
       "      <td>8.45</td>\n",
       "      <td>76.0</td>\n",
       "      <td>8</td>\n",
       "      <td>E</td>\n",
       "    </tr>\n",
       "    <tr>\n",
       "      <th>1</th>\n",
       "      <td>Super Mario Bros.</td>\n",
       "      <td>NES</td>\n",
       "      <td>1985</td>\n",
       "      <td>Platform</td>\n",
       "      <td>29.08</td>\n",
       "      <td>3.58</td>\n",
       "      <td>6.81</td>\n",
       "      <td>0.77</td>\n",
       "      <td>NaN</td>\n",
       "      <td>NaN</td>\n",
       "      <td>NaN</td>\n",
       "    </tr>\n",
       "    <tr>\n",
       "      <th>2</th>\n",
       "      <td>Mario Kart Wii</td>\n",
       "      <td>Wii</td>\n",
       "      <td>2008</td>\n",
       "      <td>Racing</td>\n",
       "      <td>15.68</td>\n",
       "      <td>12.76</td>\n",
       "      <td>3.79</td>\n",
       "      <td>3.29</td>\n",
       "      <td>82.0</td>\n",
       "      <td>8.3</td>\n",
       "      <td>E</td>\n",
       "    </tr>\n",
       "    <tr>\n",
       "      <th>3</th>\n",
       "      <td>Wii Sports Resort</td>\n",
       "      <td>Wii</td>\n",
       "      <td>2009</td>\n",
       "      <td>Sports</td>\n",
       "      <td>15.61</td>\n",
       "      <td>10.93</td>\n",
       "      <td>3.28</td>\n",
       "      <td>2.95</td>\n",
       "      <td>80.0</td>\n",
       "      <td>8</td>\n",
       "      <td>E</td>\n",
       "    </tr>\n",
       "    <tr>\n",
       "      <th>4</th>\n",
       "      <td>Pokemon Red/Pokemon Blue</td>\n",
       "      <td>GB</td>\n",
       "      <td>1996</td>\n",
       "      <td>Role-Playing</td>\n",
       "      <td>11.27</td>\n",
       "      <td>8.89</td>\n",
       "      <td>10.22</td>\n",
       "      <td>1.00</td>\n",
       "      <td>NaN</td>\n",
       "      <td>NaN</td>\n",
       "      <td>NaN</td>\n",
       "    </tr>\n",
       "  </tbody>\n",
       "</table>\n",
       "</div>"
      ],
      "text/plain": [
       "                       name platform  year_of_release         genre  na_sales  \\\n",
       "0                Wii Sports      Wii             2006        Sports     41.36   \n",
       "1         Super Mario Bros.      NES             1985      Platform     29.08   \n",
       "2            Mario Kart Wii      Wii             2008        Racing     15.68   \n",
       "3         Wii Sports Resort      Wii             2009        Sports     15.61   \n",
       "4  Pokemon Red/Pokemon Blue       GB             1996  Role-Playing     11.27   \n",
       "\n",
       "  eu_sales jp_sales  other_sales  critic_score user_score rating  \n",
       "0    28.96     3.77         8.45          76.0          8      E  \n",
       "1     3.58     6.81         0.77           NaN        NaN    NaN  \n",
       "2    12.76     3.79         3.29          82.0        8.3      E  \n",
       "3    10.93     3.28         2.95          80.0          8      E  \n",
       "4     8.89    10.22         1.00           NaN        NaN    NaN  "
      ]
     },
     "execution_count": 7,
     "metadata": {},
     "output_type": "execute_result"
    }
   ],
   "source": [
    "# Преобразуем данные столбца 'year_of_release' типа float64 в целочисленный тип данных (int64). \n",
    "# Для этого заменим пропуски, например, на значения \"-1\":\n",
    "games['year_of_release'] = games['year_of_release'].fillna(-1).astype('int64')\n",
    "\n",
    "games.head()"
   ]
  },
  {
   "cell_type": "code",
   "execution_count": 8,
   "id": "5033ee32",
   "metadata": {
    "id": "5033ee32"
   },
   "outputs": [
    {
     "name": "stdout",
     "output_type": "stream",
     "text": [
      "<class 'pandas.core.frame.DataFrame'>\n",
      "RangeIndex: 16956 entries, 0 to 16955\n",
      "Data columns (total 11 columns):\n",
      " #   Column           Non-Null Count  Dtype  \n",
      "---  ------           --------------  -----  \n",
      " 0   name             16954 non-null  object \n",
      " 1   platform         16956 non-null  object \n",
      " 2   year_of_release  16956 non-null  int64  \n",
      " 3   genre            16954 non-null  object \n",
      " 4   na_sales         16956 non-null  float64\n",
      " 5   eu_sales         16950 non-null  float64\n",
      " 6   jp_sales         16952 non-null  float64\n",
      " 7   other_sales      16956 non-null  float64\n",
      " 8   critic_score     8242 non-null   float64\n",
      " 9   user_score       7688 non-null   float64\n",
      " 10  rating           10085 non-null  object \n",
      "dtypes: float64(6), int64(1), object(4)\n",
      "memory usage: 1.4+ MB\n"
     ]
    }
   ],
   "source": [
    "# Используем цикл для метода to_numeric(), чтобы преобразовать данные нескольких числовых столбцов типа object \n",
    "# в тип данных float64, заменив строковые \"неизвестные значения\" на пропуски NaN:\n",
    "for column in ['eu_sales','jp_sales','user_score']:\n",
    "    games[column] = pd.to_numeric(games[column], errors='coerce')\n",
    "games.info()\n"
   ]
  },
  {
   "cell_type": "markdown",
   "id": "b39893cb",
   "metadata": {
    "id": "b39893cb"
   },
   "source": [
    "### Наличие пропусков в данных\n",
    "\n",
    "Считаем количество пропусков в каждом столбце в абсолютных и относительных значениях.\n"
   ]
  },
  {
   "cell_type": "code",
   "execution_count": 9,
   "id": "0f1c91a8",
   "metadata": {
    "id": "0f1c91a8"
   },
   "outputs": [
    {
     "data": {
      "text/plain": [
       "name                  2\n",
       "platform              0\n",
       "year_of_release       0\n",
       "genre                 2\n",
       "na_sales              0\n",
       "eu_sales              6\n",
       "jp_sales              4\n",
       "other_sales           0\n",
       "critic_score       8714\n",
       "user_score         9268\n",
       "rating             6871\n",
       "dtype: int64"
      ]
     },
     "execution_count": 9,
     "metadata": {},
     "output_type": "execute_result"
    }
   ],
   "source": [
    "# Выводим абсолютное значение пропусков в столбцах датафрейма с помощью метода isna():\n",
    "games.isna().sum()\n"
   ]
  },
  {
   "cell_type": "markdown",
   "id": "80886de9",
   "metadata": {
    "id": "86cd1cc1"
   },
   "source": [
    "После преобразований типов данных в столбцах количество пропусков изменилось. Отметим следующие столбцы датафрейма, которые остались с пропусками (их количество): `name`- **2**, `genre` - **2**, `eu_sales` - **6**, `jp_sales` - **4**, `critic_score` - **8714**, `user_score` - **9268** и `rating` - **6871**."
   ]
  },
  {
   "cell_type": "code",
   "execution_count": 10,
   "id": "247a6cf7",
   "metadata": {
    "id": "247a6cf7"
   },
   "outputs": [
    {
     "data": {
      "text/plain": [
       "name                0.011795\n",
       "platform            0.000000\n",
       "year_of_release     0.000000\n",
       "genre               0.011795\n",
       "na_sales            0.000000\n",
       "eu_sales            0.035386\n",
       "jp_sales            0.023590\n",
       "other_sales         0.000000\n",
       "critic_score       51.391838\n",
       "user_score         54.659118\n",
       "rating             40.522529\n",
       "dtype: float64"
      ]
     },
     "execution_count": 10,
     "metadata": {},
     "output_type": "execute_result"
    }
   ],
   "source": [
    "# Определим относительное значение пропусков (долю от общего числа строк):\n",
    "games.isna().sum() / len(games) * 100"
   ]
  },
  {
   "cell_type": "markdown",
   "id": "47f14335",
   "metadata": {
    "id": "b6965b19"
   },
   "source": [
    "Анализируя столбцы с пропущенными значениями, можно сделать предварительный вывод:\n",
    "\n",
    "1. Пропуски в столбцах `name` и `genre` вероятней всего случайны. Причина их возникновения не известна. Возможно, это техническая ошибка. Тип данных пропусков - MCAR. Они составляют менее 1%, следовательно, на анализ данных они не повлияют - их можно смело удалить.\n",
    "2. Пропущенные значения в столбцах `eu_sales` и `jp_sales` можно объяснить, например, случайным отсутствием информации о продажах определенных компьютерных игр в данных регионах (определяются типом MAR). Их также менее 1%. Пропуски можно удалить, проигнорировать или заменить специальным средним значением. \n",
    "3. А вот пропуски в столбцах `critic_score`, `user_score` и `rating` нельзя проигнорировать, их доля в общем количестве строк составляет, примерно, 51%, 55% и 41% соответственно. Данный тип пропусков, вероятней всего, MNAR. Характер возникновения данных пропусков можно определить тем, что в `critic_score` и `user_score` оценка игры критиками и пользователями не указана, а в `rating` - либо у компьтерных игр, априори, отсутствует рейтинг организации ESRB, либо он не указан на сайте. Данные пропуски в столбцах можно заполнить или проигнорировать, как в случае со значениями в столбце `rating`, где, на мой взгдяд, невозможно самостоятельно подобрать рейтинг, поэтому пропуски NaN, которые больше характерны для типа данных 'float64', можно заменить текстовым значением **\"unknown\"**. Для столбцов `critic_score` и `user_score` можно использовать замещающее значение \"-1\", чтобы не исказить реальные данные по оценкам пользователей и критиков. "
   ]
  },
  {
   "cell_type": "code",
   "execution_count": 11,
   "id": "154be65d",
   "metadata": {
    "id": "154be65d"
   },
   "outputs": [
    {
     "data": {
      "text/plain": [
       "name                  0\n",
       "platform              0\n",
       "year_of_release       0\n",
       "genre                 0\n",
       "na_sales              0\n",
       "eu_sales              6\n",
       "jp_sales              4\n",
       "other_sales           0\n",
       "critic_score       8712\n",
       "user_score         9266\n",
       "rating             6869\n",
       "dtype: int64"
      ]
     },
     "execution_count": 11,
     "metadata": {},
     "output_type": "execute_result"
    }
   ],
   "source": [
    "# Удалим пропуски в столбцах `name` и `genre`, используя метод dropna():\n",
    "games = games.dropna(subset=['name'])\n",
    "games.isna().sum()\n",
    "\n",
    "# Результат удаления показывает, что пропуски в столбце `name` соответствовали пропускам в столбце `genre`.\n",
    "# Дополнительное удаление пропусков в столбце `genre` не требуется."
   ]
  },
  {
   "cell_type": "code",
   "execution_count": 12,
   "id": "3f42817b",
   "metadata": {
    "id": "3f42817b"
   },
   "outputs": [
    {
     "data": {
      "text/html": [
       "<div>\n",
       "<style scoped>\n",
       "    .dataframe tbody tr th:only-of-type {\n",
       "        vertical-align: middle;\n",
       "    }\n",
       "\n",
       "    .dataframe tbody tr th {\n",
       "        vertical-align: top;\n",
       "    }\n",
       "\n",
       "    .dataframe thead th {\n",
       "        text-align: right;\n",
       "    }\n",
       "</style>\n",
       "<table border=\"1\" class=\"dataframe\">\n",
       "  <thead>\n",
       "    <tr style=\"text-align: right;\">\n",
       "      <th></th>\n",
       "      <th>name</th>\n",
       "      <th>platform</th>\n",
       "      <th>year_of_release</th>\n",
       "      <th>genre</th>\n",
       "      <th>na_sales</th>\n",
       "      <th>eu_sales</th>\n",
       "      <th>jp_sales</th>\n",
       "      <th>other_sales</th>\n",
       "      <th>critic_score</th>\n",
       "      <th>user_score</th>\n",
       "      <th>rating</th>\n",
       "    </tr>\n",
       "  </thead>\n",
       "  <tbody>\n",
       "    <tr>\n",
       "      <th>0</th>\n",
       "      <td>Wii Sports</td>\n",
       "      <td>Wii</td>\n",
       "      <td>2006</td>\n",
       "      <td>Sports</td>\n",
       "      <td>41.36</td>\n",
       "      <td>28.96</td>\n",
       "      <td>3.77</td>\n",
       "      <td>8.45</td>\n",
       "      <td>76.0</td>\n",
       "      <td>8.0</td>\n",
       "      <td>E</td>\n",
       "    </tr>\n",
       "    <tr>\n",
       "      <th>1</th>\n",
       "      <td>Super Mario Bros.</td>\n",
       "      <td>NES</td>\n",
       "      <td>1985</td>\n",
       "      <td>Platform</td>\n",
       "      <td>29.08</td>\n",
       "      <td>3.58</td>\n",
       "      <td>6.81</td>\n",
       "      <td>0.77</td>\n",
       "      <td>NaN</td>\n",
       "      <td>NaN</td>\n",
       "      <td>NaN</td>\n",
       "    </tr>\n",
       "    <tr>\n",
       "      <th>2</th>\n",
       "      <td>Mario Kart Wii</td>\n",
       "      <td>Wii</td>\n",
       "      <td>2008</td>\n",
       "      <td>Racing</td>\n",
       "      <td>15.68</td>\n",
       "      <td>12.76</td>\n",
       "      <td>3.79</td>\n",
       "      <td>3.29</td>\n",
       "      <td>82.0</td>\n",
       "      <td>8.3</td>\n",
       "      <td>E</td>\n",
       "    </tr>\n",
       "    <tr>\n",
       "      <th>3</th>\n",
       "      <td>Wii Sports Resort</td>\n",
       "      <td>Wii</td>\n",
       "      <td>2009</td>\n",
       "      <td>Sports</td>\n",
       "      <td>15.61</td>\n",
       "      <td>10.93</td>\n",
       "      <td>3.28</td>\n",
       "      <td>2.95</td>\n",
       "      <td>80.0</td>\n",
       "      <td>8.0</td>\n",
       "      <td>E</td>\n",
       "    </tr>\n",
       "    <tr>\n",
       "      <th>4</th>\n",
       "      <td>Pokemon Red/Pokemon Blue</td>\n",
       "      <td>GB</td>\n",
       "      <td>1996</td>\n",
       "      <td>Role-Playing</td>\n",
       "      <td>11.27</td>\n",
       "      <td>8.89</td>\n",
       "      <td>10.22</td>\n",
       "      <td>1.00</td>\n",
       "      <td>NaN</td>\n",
       "      <td>NaN</td>\n",
       "      <td>NaN</td>\n",
       "    </tr>\n",
       "  </tbody>\n",
       "</table>\n",
       "</div>"
      ],
      "text/plain": [
       "                       name platform  year_of_release         genre  na_sales  \\\n",
       "0                Wii Sports      Wii             2006        Sports     41.36   \n",
       "1         Super Mario Bros.      NES             1985      Platform     29.08   \n",
       "2            Mario Kart Wii      Wii             2008        Racing     15.68   \n",
       "3         Wii Sports Resort      Wii             2009        Sports     15.61   \n",
       "4  Pokemon Red/Pokemon Blue       GB             1996  Role-Playing     11.27   \n",
       "\n",
       "   eu_sales  jp_sales  other_sales  critic_score  user_score rating  \n",
       "0     28.96      3.77         8.45          76.0         8.0      E  \n",
       "1      3.58      6.81         0.77           NaN         NaN    NaN  \n",
       "2     12.76      3.79         3.29          82.0         8.3      E  \n",
       "3     10.93      3.28         2.95          80.0         8.0      E  \n",
       "4      8.89     10.22         1.00           NaN         NaN    NaN  "
      ]
     },
     "execution_count": 12,
     "metadata": {},
     "output_type": "execute_result"
    }
   ],
   "source": [
    "# Создадим функцию mean_sales, которая методом isna() выявит пропуски в столбце `eu_sales` и присвоит им среднее значение,  \n",
    "# рассчитанное с помощью метода mean() относительно названия платформы и года выхода игры. \n",
    "# Условные параметры функции сохраним в переменной sales:\n",
    "def mean_sales(row):\n",
    "    if pd.isna(row['eu_sales']):\n",
    "        sales = games[(games['platform'] == row['platform']) & (games['year_of_release'] == row['year_of_release'])]\n",
    "# В случае обнаружения пропуска в столце 'eu_sales' функция подставит специальное среднее значение:\n",
    "        return sales['eu_sales'].mean()\n",
    "# В противном случае - вернёт имеющееся числовое значение рейтинга:\n",
    "    else:\n",
    "        return row['eu_sales']\n",
    "        \n",
    "# Заполним пропуски в столбце 'eu_sales', используя функцию mean_sales и метод apply():\n",
    "games['eu_sales'] = games.apply(mean_sales, axis=1)\n",
    "\n",
    "games.head()"
   ]
  },
  {
   "cell_type": "code",
   "execution_count": 13,
   "id": "2784c760",
   "metadata": {
    "id": "2784c760"
   },
   "outputs": [
    {
     "data": {
      "text/html": [
       "<div>\n",
       "<style scoped>\n",
       "    .dataframe tbody tr th:only-of-type {\n",
       "        vertical-align: middle;\n",
       "    }\n",
       "\n",
       "    .dataframe tbody tr th {\n",
       "        vertical-align: top;\n",
       "    }\n",
       "\n",
       "    .dataframe thead th {\n",
       "        text-align: right;\n",
       "    }\n",
       "</style>\n",
       "<table border=\"1\" class=\"dataframe\">\n",
       "  <thead>\n",
       "    <tr style=\"text-align: right;\">\n",
       "      <th></th>\n",
       "      <th>name</th>\n",
       "      <th>platform</th>\n",
       "      <th>year_of_release</th>\n",
       "      <th>genre</th>\n",
       "      <th>na_sales</th>\n",
       "      <th>eu_sales</th>\n",
       "      <th>jp_sales</th>\n",
       "      <th>other_sales</th>\n",
       "      <th>critic_score</th>\n",
       "      <th>user_score</th>\n",
       "      <th>rating</th>\n",
       "    </tr>\n",
       "  </thead>\n",
       "  <tbody>\n",
       "    <tr>\n",
       "      <th>0</th>\n",
       "      <td>Wii Sports</td>\n",
       "      <td>Wii</td>\n",
       "      <td>2006</td>\n",
       "      <td>Sports</td>\n",
       "      <td>41.36</td>\n",
       "      <td>28.96</td>\n",
       "      <td>3.77</td>\n",
       "      <td>8.45</td>\n",
       "      <td>76.0</td>\n",
       "      <td>8.0</td>\n",
       "      <td>E</td>\n",
       "    </tr>\n",
       "    <tr>\n",
       "      <th>1</th>\n",
       "      <td>Super Mario Bros.</td>\n",
       "      <td>NES</td>\n",
       "      <td>1985</td>\n",
       "      <td>Platform</td>\n",
       "      <td>29.08</td>\n",
       "      <td>3.58</td>\n",
       "      <td>6.81</td>\n",
       "      <td>0.77</td>\n",
       "      <td>NaN</td>\n",
       "      <td>NaN</td>\n",
       "      <td>NaN</td>\n",
       "    </tr>\n",
       "    <tr>\n",
       "      <th>2</th>\n",
       "      <td>Mario Kart Wii</td>\n",
       "      <td>Wii</td>\n",
       "      <td>2008</td>\n",
       "      <td>Racing</td>\n",
       "      <td>15.68</td>\n",
       "      <td>12.76</td>\n",
       "      <td>3.79</td>\n",
       "      <td>3.29</td>\n",
       "      <td>82.0</td>\n",
       "      <td>8.3</td>\n",
       "      <td>E</td>\n",
       "    </tr>\n",
       "    <tr>\n",
       "      <th>3</th>\n",
       "      <td>Wii Sports Resort</td>\n",
       "      <td>Wii</td>\n",
       "      <td>2009</td>\n",
       "      <td>Sports</td>\n",
       "      <td>15.61</td>\n",
       "      <td>10.93</td>\n",
       "      <td>3.28</td>\n",
       "      <td>2.95</td>\n",
       "      <td>80.0</td>\n",
       "      <td>8.0</td>\n",
       "      <td>E</td>\n",
       "    </tr>\n",
       "    <tr>\n",
       "      <th>4</th>\n",
       "      <td>Pokemon Red/Pokemon Blue</td>\n",
       "      <td>GB</td>\n",
       "      <td>1996</td>\n",
       "      <td>Role-Playing</td>\n",
       "      <td>11.27</td>\n",
       "      <td>8.89</td>\n",
       "      <td>10.22</td>\n",
       "      <td>1.00</td>\n",
       "      <td>NaN</td>\n",
       "      <td>NaN</td>\n",
       "      <td>NaN</td>\n",
       "    </tr>\n",
       "  </tbody>\n",
       "</table>\n",
       "</div>"
      ],
      "text/plain": [
       "                       name platform  year_of_release         genre  na_sales  \\\n",
       "0                Wii Sports      Wii             2006        Sports     41.36   \n",
       "1         Super Mario Bros.      NES             1985      Platform     29.08   \n",
       "2            Mario Kart Wii      Wii             2008        Racing     15.68   \n",
       "3         Wii Sports Resort      Wii             2009        Sports     15.61   \n",
       "4  Pokemon Red/Pokemon Blue       GB             1996  Role-Playing     11.27   \n",
       "\n",
       "   eu_sales  jp_sales  other_sales  critic_score  user_score rating  \n",
       "0     28.96      3.77         8.45          76.0         8.0      E  \n",
       "1      3.58      6.81         0.77           NaN         NaN    NaN  \n",
       "2     12.76      3.79         3.29          82.0         8.3      E  \n",
       "3     10.93      3.28         2.95          80.0         8.0      E  \n",
       "4      8.89     10.22         1.00           NaN         NaN    NaN  "
      ]
     },
     "execution_count": 13,
     "metadata": {},
     "output_type": "execute_result"
    }
   ],
   "source": [
    "# Аналогично, используя созданную функцию mean_sales и методы isna() и mean(), проработаем пропуски в столбце `jp_sales`:\n",
    "def mean_sales(row):\n",
    "    if pd.isna(row['jp_sales']):\n",
    "        sales = games[(games['platform'] == row['platform']) & (games['year_of_release'] == row['year_of_release'])]\n",
    "        return sales['jp_sales'].mean()\n",
    "    else:\n",
    "        return row['jp_sales']\n",
    "        \n",
    "# Заполним пропуски по столбцу 'jp_sales', используя функцию mean_sales и метод apply():\n",
    "games['jp_sales'] = games.apply(mean_sales, axis=1)\n",
    "\n",
    "games.head()"
   ]
  },
  {
   "cell_type": "code",
   "execution_count": 14,
   "id": "b244e901",
   "metadata": {},
   "outputs": [
    {
     "data": {
      "text/html": [
       "<div>\n",
       "<style scoped>\n",
       "    .dataframe tbody tr th:only-of-type {\n",
       "        vertical-align: middle;\n",
       "    }\n",
       "\n",
       "    .dataframe tbody tr th {\n",
       "        vertical-align: top;\n",
       "    }\n",
       "\n",
       "    .dataframe thead th {\n",
       "        text-align: right;\n",
       "    }\n",
       "</style>\n",
       "<table border=\"1\" class=\"dataframe\">\n",
       "  <thead>\n",
       "    <tr style=\"text-align: right;\">\n",
       "      <th></th>\n",
       "      <th>name</th>\n",
       "      <th>platform</th>\n",
       "      <th>year_of_release</th>\n",
       "      <th>genre</th>\n",
       "      <th>na_sales</th>\n",
       "      <th>eu_sales</th>\n",
       "      <th>jp_sales</th>\n",
       "      <th>other_sales</th>\n",
       "      <th>critic_score</th>\n",
       "      <th>user_score</th>\n",
       "      <th>rating</th>\n",
       "    </tr>\n",
       "  </thead>\n",
       "  <tbody>\n",
       "    <tr>\n",
       "      <th>0</th>\n",
       "      <td>Wii Sports</td>\n",
       "      <td>Wii</td>\n",
       "      <td>2006</td>\n",
       "      <td>Sports</td>\n",
       "      <td>41.36</td>\n",
       "      <td>28.96</td>\n",
       "      <td>3.77</td>\n",
       "      <td>8.45</td>\n",
       "      <td>76.0</td>\n",
       "      <td>8.0</td>\n",
       "      <td>E</td>\n",
       "    </tr>\n",
       "    <tr>\n",
       "      <th>1</th>\n",
       "      <td>Super Mario Bros.</td>\n",
       "      <td>NES</td>\n",
       "      <td>1985</td>\n",
       "      <td>Platform</td>\n",
       "      <td>29.08</td>\n",
       "      <td>3.58</td>\n",
       "      <td>6.81</td>\n",
       "      <td>0.77</td>\n",
       "      <td>-1.0</td>\n",
       "      <td>-1.0</td>\n",
       "      <td>unknown</td>\n",
       "    </tr>\n",
       "    <tr>\n",
       "      <th>2</th>\n",
       "      <td>Mario Kart Wii</td>\n",
       "      <td>Wii</td>\n",
       "      <td>2008</td>\n",
       "      <td>Racing</td>\n",
       "      <td>15.68</td>\n",
       "      <td>12.76</td>\n",
       "      <td>3.79</td>\n",
       "      <td>3.29</td>\n",
       "      <td>82.0</td>\n",
       "      <td>8.3</td>\n",
       "      <td>E</td>\n",
       "    </tr>\n",
       "    <tr>\n",
       "      <th>3</th>\n",
       "      <td>Wii Sports Resort</td>\n",
       "      <td>Wii</td>\n",
       "      <td>2009</td>\n",
       "      <td>Sports</td>\n",
       "      <td>15.61</td>\n",
       "      <td>10.93</td>\n",
       "      <td>3.28</td>\n",
       "      <td>2.95</td>\n",
       "      <td>80.0</td>\n",
       "      <td>8.0</td>\n",
       "      <td>E</td>\n",
       "    </tr>\n",
       "    <tr>\n",
       "      <th>4</th>\n",
       "      <td>Pokemon Red/Pokemon Blue</td>\n",
       "      <td>GB</td>\n",
       "      <td>1996</td>\n",
       "      <td>Role-Playing</td>\n",
       "      <td>11.27</td>\n",
       "      <td>8.89</td>\n",
       "      <td>10.22</td>\n",
       "      <td>1.00</td>\n",
       "      <td>-1.0</td>\n",
       "      <td>-1.0</td>\n",
       "      <td>unknown</td>\n",
       "    </tr>\n",
       "  </tbody>\n",
       "</table>\n",
       "</div>"
      ],
      "text/plain": [
       "                       name platform  year_of_release         genre  na_sales  \\\n",
       "0                Wii Sports      Wii             2006        Sports     41.36   \n",
       "1         Super Mario Bros.      NES             1985      Platform     29.08   \n",
       "2            Mario Kart Wii      Wii             2008        Racing     15.68   \n",
       "3         Wii Sports Resort      Wii             2009        Sports     15.61   \n",
       "4  Pokemon Red/Pokemon Blue       GB             1996  Role-Playing     11.27   \n",
       "\n",
       "   eu_sales  jp_sales  other_sales  critic_score  user_score   rating  \n",
       "0     28.96      3.77         8.45          76.0         8.0        E  \n",
       "1      3.58      6.81         0.77          -1.0        -1.0  unknown  \n",
       "2     12.76      3.79         3.29          82.0         8.3        E  \n",
       "3     10.93      3.28         2.95          80.0         8.0        E  \n",
       "4      8.89     10.22         1.00          -1.0        -1.0  unknown  "
      ]
     },
     "execution_count": 14,
     "metadata": {},
     "output_type": "execute_result"
    }
   ],
   "source": [
    "# Заменим пропущенные значения в столбцах `critic_score` и `user_score` на условное значение \"-1\":\n",
    "games[['user_score', 'critic_score']] = games[['user_score', 'critic_score']].fillna(-1)\n",
    "\n",
    "# А пропуски в столбце `rating` с данными строкового типа заменим на текстовое значение \"unknown\":\n",
    "games['rating'] = games['rating'].fillna('unknown')\n",
    "\n",
    "# Выведем результат:\n",
    "games.head()"
   ]
  },
  {
   "cell_type": "markdown",
   "id": "dac596f5",
   "metadata": {},
   "source": [
    "Убедимся в отсутствии пропусков в столбцах датафрейма. "
   ]
  },
  {
   "cell_type": "code",
   "execution_count": 15,
   "id": "7619fe1e",
   "metadata": {},
   "outputs": [
    {
     "data": {
      "text/plain": [
       "name               0\n",
       "platform           0\n",
       "year_of_release    0\n",
       "genre              0\n",
       "na_sales           0\n",
       "eu_sales           0\n",
       "jp_sales           0\n",
       "other_sales        0\n",
       "critic_score       0\n",
       "user_score         0\n",
       "rating             0\n",
       "dtype: int64"
      ]
     },
     "execution_count": 15,
     "metadata": {},
     "output_type": "execute_result"
    }
   ],
   "source": [
    "# Выведем итоговый результат:\n",
    "games.isna().sum()\n"
   ]
  },
  {
   "cell_type": "markdown",
   "id": "a63363fd",
   "metadata": {
    "id": "a63363fd"
   },
   "source": [
    "###  Явные и неявные дубликаты в данных\n"
   ]
  },
  {
   "cell_type": "markdown",
   "id": "9116a029",
   "metadata": {
    "id": "491c9c39"
   },
   "source": [
    "Проведем нормализацию данных. "
   ]
  },
  {
   "cell_type": "code",
   "execution_count": 16,
   "id": "f1627198",
   "metadata": {
    "id": "f1627198"
   },
   "outputs": [
    {
     "data": {
      "text/html": [
       "<div>\n",
       "<style scoped>\n",
       "    .dataframe tbody tr th:only-of-type {\n",
       "        vertical-align: middle;\n",
       "    }\n",
       "\n",
       "    .dataframe tbody tr th {\n",
       "        vertical-align: top;\n",
       "    }\n",
       "\n",
       "    .dataframe thead th {\n",
       "        text-align: right;\n",
       "    }\n",
       "</style>\n",
       "<table border=\"1\" class=\"dataframe\">\n",
       "  <thead>\n",
       "    <tr style=\"text-align: right;\">\n",
       "      <th></th>\n",
       "      <th>name</th>\n",
       "      <th>platform</th>\n",
       "      <th>year_of_release</th>\n",
       "      <th>genre</th>\n",
       "      <th>na_sales</th>\n",
       "      <th>eu_sales</th>\n",
       "      <th>jp_sales</th>\n",
       "      <th>other_sales</th>\n",
       "      <th>critic_score</th>\n",
       "      <th>user_score</th>\n",
       "      <th>rating</th>\n",
       "    </tr>\n",
       "  </thead>\n",
       "  <tbody>\n",
       "    <tr>\n",
       "      <th>0</th>\n",
       "      <td>wii sports</td>\n",
       "      <td>wii</td>\n",
       "      <td>2006</td>\n",
       "      <td>sports</td>\n",
       "      <td>41.36</td>\n",
       "      <td>28.96</td>\n",
       "      <td>3.77</td>\n",
       "      <td>8.45</td>\n",
       "      <td>76.0</td>\n",
       "      <td>8.0</td>\n",
       "      <td>E</td>\n",
       "    </tr>\n",
       "    <tr>\n",
       "      <th>1</th>\n",
       "      <td>super mario bros.</td>\n",
       "      <td>nes</td>\n",
       "      <td>1985</td>\n",
       "      <td>platform</td>\n",
       "      <td>29.08</td>\n",
       "      <td>3.58</td>\n",
       "      <td>6.81</td>\n",
       "      <td>0.77</td>\n",
       "      <td>-1.0</td>\n",
       "      <td>-1.0</td>\n",
       "      <td>unknown</td>\n",
       "    </tr>\n",
       "    <tr>\n",
       "      <th>2</th>\n",
       "      <td>mario kart wii</td>\n",
       "      <td>wii</td>\n",
       "      <td>2008</td>\n",
       "      <td>racing</td>\n",
       "      <td>15.68</td>\n",
       "      <td>12.76</td>\n",
       "      <td>3.79</td>\n",
       "      <td>3.29</td>\n",
       "      <td>82.0</td>\n",
       "      <td>8.3</td>\n",
       "      <td>E</td>\n",
       "    </tr>\n",
       "    <tr>\n",
       "      <th>3</th>\n",
       "      <td>wii sports resort</td>\n",
       "      <td>wii</td>\n",
       "      <td>2009</td>\n",
       "      <td>sports</td>\n",
       "      <td>15.61</td>\n",
       "      <td>10.93</td>\n",
       "      <td>3.28</td>\n",
       "      <td>2.95</td>\n",
       "      <td>80.0</td>\n",
       "      <td>8.0</td>\n",
       "      <td>E</td>\n",
       "    </tr>\n",
       "    <tr>\n",
       "      <th>4</th>\n",
       "      <td>pokemon red/pokemon blue</td>\n",
       "      <td>gb</td>\n",
       "      <td>1996</td>\n",
       "      <td>role-playing</td>\n",
       "      <td>11.27</td>\n",
       "      <td>8.89</td>\n",
       "      <td>10.22</td>\n",
       "      <td>1.00</td>\n",
       "      <td>-1.0</td>\n",
       "      <td>-1.0</td>\n",
       "      <td>unknown</td>\n",
       "    </tr>\n",
       "  </tbody>\n",
       "</table>\n",
       "</div>"
      ],
      "text/plain": [
       "                       name platform  year_of_release         genre  na_sales  \\\n",
       "0                wii sports      wii             2006        sports     41.36   \n",
       "1         super mario bros.      nes             1985      platform     29.08   \n",
       "2            mario kart wii      wii             2008        racing     15.68   \n",
       "3         wii sports resort      wii             2009        sports     15.61   \n",
       "4  pokemon red/pokemon blue       gb             1996  role-playing     11.27   \n",
       "\n",
       "   eu_sales  jp_sales  other_sales  critic_score  user_score   rating  \n",
       "0     28.96      3.77         8.45          76.0         8.0        E  \n",
       "1      3.58      6.81         0.77          -1.0        -1.0  unknown  \n",
       "2     12.76      3.79         3.29          82.0         8.3        E  \n",
       "3     10.93      3.28         2.95          80.0         8.0        E  \n",
       "4      8.89     10.22         1.00          -1.0        -1.0  unknown  "
      ]
     },
     "execution_count": 16,
     "metadata": {},
     "output_type": "execute_result"
    }
   ],
   "source": [
    "# Приведем текстовые данные столбцов `name`, `platform`, `genre` к нижнему регистру с помощью метода str.lower():\n",
    "games['name'] = games['name'].str.lower()\n",
    "games['platform'] = games['platform'].str.lower()\n",
    "games['genre'] = games['genre'].str.lower()\n",
    "games.head()"
   ]
  },
  {
   "cell_type": "code",
   "execution_count": 17,
   "id": "a0cac80c",
   "metadata": {
    "id": "a0cac80c"
   },
   "outputs": [
    {
     "data": {
      "text/html": [
       "<div>\n",
       "<style scoped>\n",
       "    .dataframe tbody tr th:only-of-type {\n",
       "        vertical-align: middle;\n",
       "    }\n",
       "\n",
       "    .dataframe tbody tr th {\n",
       "        vertical-align: top;\n",
       "    }\n",
       "\n",
       "    .dataframe thead th {\n",
       "        text-align: right;\n",
       "    }\n",
       "</style>\n",
       "<table border=\"1\" class=\"dataframe\">\n",
       "  <thead>\n",
       "    <tr style=\"text-align: right;\">\n",
       "      <th></th>\n",
       "      <th>name</th>\n",
       "      <th>platform</th>\n",
       "      <th>year_of_release</th>\n",
       "      <th>genre</th>\n",
       "      <th>na_sales</th>\n",
       "      <th>eu_sales</th>\n",
       "      <th>jp_sales</th>\n",
       "      <th>other_sales</th>\n",
       "      <th>critic_score</th>\n",
       "      <th>user_score</th>\n",
       "      <th>rating</th>\n",
       "    </tr>\n",
       "  </thead>\n",
       "  <tbody>\n",
       "    <tr>\n",
       "      <th>0</th>\n",
       "      <td>wii sports</td>\n",
       "      <td>wii</td>\n",
       "      <td>2006</td>\n",
       "      <td>sports</td>\n",
       "      <td>41.36</td>\n",
       "      <td>28.96</td>\n",
       "      <td>3.77</td>\n",
       "      <td>8.45</td>\n",
       "      <td>76.0</td>\n",
       "      <td>8.0</td>\n",
       "      <td>E</td>\n",
       "    </tr>\n",
       "    <tr>\n",
       "      <th>1</th>\n",
       "      <td>super mario bros.</td>\n",
       "      <td>nes</td>\n",
       "      <td>1985</td>\n",
       "      <td>platform</td>\n",
       "      <td>29.08</td>\n",
       "      <td>3.58</td>\n",
       "      <td>6.81</td>\n",
       "      <td>0.77</td>\n",
       "      <td>-1.0</td>\n",
       "      <td>-1.0</td>\n",
       "      <td>UNKNOWN</td>\n",
       "    </tr>\n",
       "    <tr>\n",
       "      <th>2</th>\n",
       "      <td>mario kart wii</td>\n",
       "      <td>wii</td>\n",
       "      <td>2008</td>\n",
       "      <td>racing</td>\n",
       "      <td>15.68</td>\n",
       "      <td>12.76</td>\n",
       "      <td>3.79</td>\n",
       "      <td>3.29</td>\n",
       "      <td>82.0</td>\n",
       "      <td>8.3</td>\n",
       "      <td>E</td>\n",
       "    </tr>\n",
       "    <tr>\n",
       "      <th>3</th>\n",
       "      <td>wii sports resort</td>\n",
       "      <td>wii</td>\n",
       "      <td>2009</td>\n",
       "      <td>sports</td>\n",
       "      <td>15.61</td>\n",
       "      <td>10.93</td>\n",
       "      <td>3.28</td>\n",
       "      <td>2.95</td>\n",
       "      <td>80.0</td>\n",
       "      <td>8.0</td>\n",
       "      <td>E</td>\n",
       "    </tr>\n",
       "    <tr>\n",
       "      <th>4</th>\n",
       "      <td>pokemon red/pokemon blue</td>\n",
       "      <td>gb</td>\n",
       "      <td>1996</td>\n",
       "      <td>role-playing</td>\n",
       "      <td>11.27</td>\n",
       "      <td>8.89</td>\n",
       "      <td>10.22</td>\n",
       "      <td>1.00</td>\n",
       "      <td>-1.0</td>\n",
       "      <td>-1.0</td>\n",
       "      <td>UNKNOWN</td>\n",
       "    </tr>\n",
       "  </tbody>\n",
       "</table>\n",
       "</div>"
      ],
      "text/plain": [
       "                       name platform  year_of_release         genre  na_sales  \\\n",
       "0                wii sports      wii             2006        sports     41.36   \n",
       "1         super mario bros.      nes             1985      platform     29.08   \n",
       "2            mario kart wii      wii             2008        racing     15.68   \n",
       "3         wii sports resort      wii             2009        sports     15.61   \n",
       "4  pokemon red/pokemon blue       gb             1996  role-playing     11.27   \n",
       "\n",
       "   eu_sales  jp_sales  other_sales  critic_score  user_score   rating  \n",
       "0     28.96      3.77         8.45          76.0         8.0        E  \n",
       "1      3.58      6.81         0.77          -1.0        -1.0  UNKNOWN  \n",
       "2     12.76      3.79         3.29          82.0         8.3        E  \n",
       "3     10.93      3.28         2.95          80.0         8.0        E  \n",
       "4      8.89     10.22         1.00          -1.0        -1.0  UNKNOWN  "
      ]
     },
     "execution_count": 17,
     "metadata": {},
     "output_type": "execute_result"
    }
   ],
   "source": [
    "# Столбец `rating` - к верхнему регистру с помощью метода str.upper():\n",
    "games['rating'] = games['rating'].str.upper()\n",
    "games.head()"
   ]
  },
  {
   "cell_type": "markdown",
   "id": "341de701",
   "metadata": {},
   "source": [
    "Избавимся от лишних пробелов в строковых столбцах."
   ]
  },
  {
   "cell_type": "code",
   "execution_count": 18,
   "id": "2f635784",
   "metadata": {},
   "outputs": [
    {
     "data": {
      "text/html": [
       "<div>\n",
       "<style scoped>\n",
       "    .dataframe tbody tr th:only-of-type {\n",
       "        vertical-align: middle;\n",
       "    }\n",
       "\n",
       "    .dataframe tbody tr th {\n",
       "        vertical-align: top;\n",
       "    }\n",
       "\n",
       "    .dataframe thead th {\n",
       "        text-align: right;\n",
       "    }\n",
       "</style>\n",
       "<table border=\"1\" class=\"dataframe\">\n",
       "  <thead>\n",
       "    <tr style=\"text-align: right;\">\n",
       "      <th></th>\n",
       "      <th>name</th>\n",
       "      <th>platform</th>\n",
       "      <th>year_of_release</th>\n",
       "      <th>genre</th>\n",
       "      <th>na_sales</th>\n",
       "      <th>eu_sales</th>\n",
       "      <th>jp_sales</th>\n",
       "      <th>other_sales</th>\n",
       "      <th>critic_score</th>\n",
       "      <th>user_score</th>\n",
       "      <th>rating</th>\n",
       "    </tr>\n",
       "  </thead>\n",
       "  <tbody>\n",
       "    <tr>\n",
       "      <th>0</th>\n",
       "      <td>wii sports</td>\n",
       "      <td>wii</td>\n",
       "      <td>2006</td>\n",
       "      <td>sports</td>\n",
       "      <td>41.36</td>\n",
       "      <td>28.96</td>\n",
       "      <td>3.77</td>\n",
       "      <td>8.45</td>\n",
       "      <td>76.0</td>\n",
       "      <td>8.0</td>\n",
       "      <td>E</td>\n",
       "    </tr>\n",
       "    <tr>\n",
       "      <th>1</th>\n",
       "      <td>super mario bros.</td>\n",
       "      <td>nes</td>\n",
       "      <td>1985</td>\n",
       "      <td>platform</td>\n",
       "      <td>29.08</td>\n",
       "      <td>3.58</td>\n",
       "      <td>6.81</td>\n",
       "      <td>0.77</td>\n",
       "      <td>-1.0</td>\n",
       "      <td>-1.0</td>\n",
       "      <td>UNKNOWN</td>\n",
       "    </tr>\n",
       "    <tr>\n",
       "      <th>2</th>\n",
       "      <td>mario kart wii</td>\n",
       "      <td>wii</td>\n",
       "      <td>2008</td>\n",
       "      <td>racing</td>\n",
       "      <td>15.68</td>\n",
       "      <td>12.76</td>\n",
       "      <td>3.79</td>\n",
       "      <td>3.29</td>\n",
       "      <td>82.0</td>\n",
       "      <td>8.3</td>\n",
       "      <td>E</td>\n",
       "    </tr>\n",
       "    <tr>\n",
       "      <th>3</th>\n",
       "      <td>wii sports resort</td>\n",
       "      <td>wii</td>\n",
       "      <td>2009</td>\n",
       "      <td>sports</td>\n",
       "      <td>15.61</td>\n",
       "      <td>10.93</td>\n",
       "      <td>3.28</td>\n",
       "      <td>2.95</td>\n",
       "      <td>80.0</td>\n",
       "      <td>8.0</td>\n",
       "      <td>E</td>\n",
       "    </tr>\n",
       "    <tr>\n",
       "      <th>4</th>\n",
       "      <td>pokemon red/pokemon blue</td>\n",
       "      <td>gb</td>\n",
       "      <td>1996</td>\n",
       "      <td>role-playing</td>\n",
       "      <td>11.27</td>\n",
       "      <td>8.89</td>\n",
       "      <td>10.22</td>\n",
       "      <td>1.00</td>\n",
       "      <td>-1.0</td>\n",
       "      <td>-1.0</td>\n",
       "      <td>UNKNOWN</td>\n",
       "    </tr>\n",
       "  </tbody>\n",
       "</table>\n",
       "</div>"
      ],
      "text/plain": [
       "                       name platform  year_of_release         genre  na_sales  \\\n",
       "0                wii sports      wii             2006        sports     41.36   \n",
       "1         super mario bros.      nes             1985      platform     29.08   \n",
       "2            mario kart wii      wii             2008        racing     15.68   \n",
       "3         wii sports resort      wii             2009        sports     15.61   \n",
       "4  pokemon red/pokemon blue       gb             1996  role-playing     11.27   \n",
       "\n",
       "   eu_sales  jp_sales  other_sales  critic_score  user_score   rating  \n",
       "0     28.96      3.77         8.45          76.0         8.0        E  \n",
       "1      3.58      6.81         0.77          -1.0        -1.0  UNKNOWN  \n",
       "2     12.76      3.79         3.29          82.0         8.3        E  \n",
       "3     10.93      3.28         2.95          80.0         8.0        E  \n",
       "4      8.89     10.22         1.00          -1.0        -1.0  UNKNOWN  "
      ]
     },
     "execution_count": 18,
     "metadata": {},
     "output_type": "execute_result"
    }
   ],
   "source": [
    "# Используем метод pandas str.strip():\n",
    "games['name'] = games['name'].str.strip()\n",
    "games['platform'] = games['platform'].str.strip()\n",
    "games['genre'] = games['genre'].str.strip()\n",
    "games['rating'] = games['rating'].str.strip()\n",
    "games.head()"
   ]
  },
  {
   "cell_type": "markdown",
   "id": "cbb43b2a",
   "metadata": {},
   "source": [
    "Проанализируем поочередно все уникальные значения столбцов `name`, `platform`, `genre` и `rating`, используя методы unique() и nunique() на выявление неявных дубликатов.\n",
    "\n"
   ]
  },
  {
   "cell_type": "code",
   "execution_count": 19,
   "id": "9abcea9c",
   "metadata": {},
   "outputs": [
    {
     "name": "stdout",
     "output_type": "stream",
     "text": [
      "11559\n"
     ]
    }
   ],
   "source": [
    "# Посчитаем количество уникальных значений столбца `name` в переменной unique_name_count:\n",
    "unique_name_count = games['name'].nunique()\n",
    "\n",
    "print(unique_name_count)"
   ]
  },
  {
   "cell_type": "markdown",
   "id": "0f90d5f2",
   "metadata": {},
   "source": [
    "Учитывая полученное количество уникальных строк (11559), выгружать и анализировать данные столбца `name` не представляется возможным. Перейдём к столбцу `platform`."
   ]
  },
  {
   "cell_type": "code",
   "execution_count": 20,
   "id": "90dc6448",
   "metadata": {},
   "outputs": [
    {
     "name": "stdout",
     "output_type": "stream",
     "text": [
      "31\n"
     ]
    }
   ],
   "source": [
    "# Вычислим количество уникальных значений столбца `platform` в переменной unique_platform_count:\n",
    "unique_platform_count = games['platform'].nunique()\n",
    "\n",
    "print(unique_platform_count)"
   ]
  },
  {
   "cell_type": "markdown",
   "id": "82ed69eb",
   "metadata": {},
   "source": [
    "Количество уникальных значений в столбце `platform` - 31. С помощью метода unique() можно выгрузить массив уникальных данных и проанализировать их."
   ]
  },
  {
   "cell_type": "code",
   "execution_count": 21,
   "id": "ac358ff1",
   "metadata": {},
   "outputs": [
    {
     "name": "stdout",
     "output_type": "stream",
     "text": [
      "['wii' 'nes' 'gb' 'ds' 'x360' 'ps3' 'ps2' 'snes' 'gba' 'ps4' '3ds' 'n64'\n",
      " 'ps' 'xb' 'pc' '2600' 'psp' 'xone' 'wiiu' 'gc' 'gen' 'dc' 'psv' 'sat'\n",
      " 'scd' 'ws' 'ng' 'tg16' '3do' 'gg' 'pcfx']\n"
     ]
    }
   ],
   "source": [
    "# Выведем все уникальные значения столбца `platform` в переменной unique_platform:\n",
    "unique_platform = games['platform'].unique()\n",
    "\n",
    "print(unique_platform)"
   ]
  },
  {
   "cell_type": "markdown",
   "id": "f208ba2b",
   "metadata": {},
   "source": [
    "Названия платформ выглядят уникальными. Проанализируем жанры игр."
   ]
  },
  {
   "cell_type": "code",
   "execution_count": 22,
   "id": "9b712685",
   "metadata": {},
   "outputs": [
    {
     "name": "stdout",
     "output_type": "stream",
     "text": [
      "12\n"
     ]
    }
   ],
   "source": [
    "# Получим количество уникальных значений столбца `genre` в переменной unique_genre_count:\n",
    "unique_genre_count = games['genre'].nunique()\n",
    "\n",
    "print(unique_genre_count)"
   ]
  },
  {
   "cell_type": "markdown",
   "id": "10aa8c58",
   "metadata": {},
   "source": [
    "Изучим детально данные столбца `genre`."
   ]
  },
  {
   "cell_type": "code",
   "execution_count": 23,
   "id": "15856eee",
   "metadata": {},
   "outputs": [
    {
     "name": "stdout",
     "output_type": "stream",
     "text": [
      "['sports' 'platform' 'racing' 'role-playing' 'puzzle' 'misc' 'shooter'\n",
      " 'simulation' 'action' 'fighting' 'adventure' 'strategy']\n"
     ]
    }
   ],
   "source": [
    "# Выгрузим массив всех уникальных значений столбца `genre` в переменной unique_genre:\n",
    "unique_genre = games['genre'].unique()\n",
    "\n",
    "print(unique_genre)"
   ]
  },
  {
   "cell_type": "markdown",
   "id": "19903a35",
   "metadata": {},
   "source": [
    "Все полученные значения столбца `genre` являются уникальными и замена значений не требуется. "
   ]
  },
  {
   "cell_type": "markdown",
   "id": "6c9573a7",
   "metadata": {},
   "source": [
    "Перейдём к столбцу `rating`. Используя метод nunique(), выведем количество уникальных значений."
   ]
  },
  {
   "cell_type": "code",
   "execution_count": 24,
   "id": "538307b9",
   "metadata": {},
   "outputs": [
    {
     "name": "stdout",
     "output_type": "stream",
     "text": [
      "9\n"
     ]
    }
   ],
   "source": [
    "# Посчитаем количество уникальных значений столбца `rating` в переменной unique_rating_count:\n",
    "unique_rating_count = games['rating'].nunique()\n",
    "\n",
    "print(unique_rating_count)"
   ]
  },
  {
   "cell_type": "markdown",
   "id": "5a07ce10",
   "metadata": {},
   "source": [
    "Выгрузим названия возрастных рейтингов."
   ]
  },
  {
   "cell_type": "code",
   "execution_count": 25,
   "id": "49e80c67",
   "metadata": {},
   "outputs": [
    {
     "name": "stdout",
     "output_type": "stream",
     "text": [
      "['E' 'UNKNOWN' 'M' 'T' 'E10+' 'K-A' 'AO' 'EC' 'RP']\n"
     ]
    }
   ],
   "source": [
    "# Выведем все уникальные значения столбца `rating` в переменной unique_rating:\n",
    "unique_rating = games['rating'].unique()\n",
    "\n",
    "print(unique_rating)"
   ]
  },
  {
   "cell_type": "markdown",
   "id": "f6dd40e7",
   "metadata": {},
   "source": [
    "Из полученных значений видно, что рейтинг \"К-А\" в списке рейтингов организации ESRB не существует. Логично будет заменить его на значение рейтинга \"Е\" (Everyone - для всех)."
   ]
  },
  {
   "cell_type": "code",
   "execution_count": 26,
   "id": "ad68b679",
   "metadata": {},
   "outputs": [
    {
     "data": {
      "text/html": [
       "<div>\n",
       "<style scoped>\n",
       "    .dataframe tbody tr th:only-of-type {\n",
       "        vertical-align: middle;\n",
       "    }\n",
       "\n",
       "    .dataframe tbody tr th {\n",
       "        vertical-align: top;\n",
       "    }\n",
       "\n",
       "    .dataframe thead th {\n",
       "        text-align: right;\n",
       "    }\n",
       "</style>\n",
       "<table border=\"1\" class=\"dataframe\">\n",
       "  <thead>\n",
       "    <tr style=\"text-align: right;\">\n",
       "      <th></th>\n",
       "      <th>name</th>\n",
       "      <th>platform</th>\n",
       "      <th>year_of_release</th>\n",
       "      <th>genre</th>\n",
       "      <th>na_sales</th>\n",
       "      <th>eu_sales</th>\n",
       "      <th>jp_sales</th>\n",
       "      <th>other_sales</th>\n",
       "      <th>critic_score</th>\n",
       "      <th>user_score</th>\n",
       "      <th>rating</th>\n",
       "    </tr>\n",
       "  </thead>\n",
       "  <tbody>\n",
       "    <tr>\n",
       "      <th>0</th>\n",
       "      <td>wii sports</td>\n",
       "      <td>wii</td>\n",
       "      <td>2006</td>\n",
       "      <td>sports</td>\n",
       "      <td>41.36</td>\n",
       "      <td>28.96</td>\n",
       "      <td>3.77</td>\n",
       "      <td>8.45</td>\n",
       "      <td>76.0</td>\n",
       "      <td>8.0</td>\n",
       "      <td>E</td>\n",
       "    </tr>\n",
       "    <tr>\n",
       "      <th>1</th>\n",
       "      <td>super mario bros.</td>\n",
       "      <td>nes</td>\n",
       "      <td>1985</td>\n",
       "      <td>platform</td>\n",
       "      <td>29.08</td>\n",
       "      <td>3.58</td>\n",
       "      <td>6.81</td>\n",
       "      <td>0.77</td>\n",
       "      <td>-1.0</td>\n",
       "      <td>-1.0</td>\n",
       "      <td>UNKNOWN</td>\n",
       "    </tr>\n",
       "    <tr>\n",
       "      <th>2</th>\n",
       "      <td>mario kart wii</td>\n",
       "      <td>wii</td>\n",
       "      <td>2008</td>\n",
       "      <td>racing</td>\n",
       "      <td>15.68</td>\n",
       "      <td>12.76</td>\n",
       "      <td>3.79</td>\n",
       "      <td>3.29</td>\n",
       "      <td>82.0</td>\n",
       "      <td>8.3</td>\n",
       "      <td>E</td>\n",
       "    </tr>\n",
       "    <tr>\n",
       "      <th>3</th>\n",
       "      <td>wii sports resort</td>\n",
       "      <td>wii</td>\n",
       "      <td>2009</td>\n",
       "      <td>sports</td>\n",
       "      <td>15.61</td>\n",
       "      <td>10.93</td>\n",
       "      <td>3.28</td>\n",
       "      <td>2.95</td>\n",
       "      <td>80.0</td>\n",
       "      <td>8.0</td>\n",
       "      <td>E</td>\n",
       "    </tr>\n",
       "    <tr>\n",
       "      <th>4</th>\n",
       "      <td>pokemon red/pokemon blue</td>\n",
       "      <td>gb</td>\n",
       "      <td>1996</td>\n",
       "      <td>role-playing</td>\n",
       "      <td>11.27</td>\n",
       "      <td>8.89</td>\n",
       "      <td>10.22</td>\n",
       "      <td>1.00</td>\n",
       "      <td>-1.0</td>\n",
       "      <td>-1.0</td>\n",
       "      <td>UNKNOWN</td>\n",
       "    </tr>\n",
       "    <tr>\n",
       "      <th>...</th>\n",
       "      <td>...</td>\n",
       "      <td>...</td>\n",
       "      <td>...</td>\n",
       "      <td>...</td>\n",
       "      <td>...</td>\n",
       "      <td>...</td>\n",
       "      <td>...</td>\n",
       "      <td>...</td>\n",
       "      <td>...</td>\n",
       "      <td>...</td>\n",
       "      <td>...</td>\n",
       "    </tr>\n",
       "    <tr>\n",
       "      <th>16951</th>\n",
       "      <td>samurai warriors: sanada maru</td>\n",
       "      <td>ps3</td>\n",
       "      <td>2016</td>\n",
       "      <td>action</td>\n",
       "      <td>0.00</td>\n",
       "      <td>0.00</td>\n",
       "      <td>0.01</td>\n",
       "      <td>0.00</td>\n",
       "      <td>-1.0</td>\n",
       "      <td>-1.0</td>\n",
       "      <td>UNKNOWN</td>\n",
       "    </tr>\n",
       "    <tr>\n",
       "      <th>16952</th>\n",
       "      <td>lma manager 2007</td>\n",
       "      <td>x360</td>\n",
       "      <td>2006</td>\n",
       "      <td>sports</td>\n",
       "      <td>0.00</td>\n",
       "      <td>0.01</td>\n",
       "      <td>0.00</td>\n",
       "      <td>0.00</td>\n",
       "      <td>-1.0</td>\n",
       "      <td>-1.0</td>\n",
       "      <td>UNKNOWN</td>\n",
       "    </tr>\n",
       "    <tr>\n",
       "      <th>16953</th>\n",
       "      <td>haitaka no psychedelica</td>\n",
       "      <td>psv</td>\n",
       "      <td>2016</td>\n",
       "      <td>adventure</td>\n",
       "      <td>0.00</td>\n",
       "      <td>0.00</td>\n",
       "      <td>0.01</td>\n",
       "      <td>0.00</td>\n",
       "      <td>-1.0</td>\n",
       "      <td>-1.0</td>\n",
       "      <td>UNKNOWN</td>\n",
       "    </tr>\n",
       "    <tr>\n",
       "      <th>16954</th>\n",
       "      <td>spirits &amp; spells</td>\n",
       "      <td>gba</td>\n",
       "      <td>2003</td>\n",
       "      <td>platform</td>\n",
       "      <td>0.01</td>\n",
       "      <td>0.00</td>\n",
       "      <td>0.00</td>\n",
       "      <td>0.00</td>\n",
       "      <td>-1.0</td>\n",
       "      <td>-1.0</td>\n",
       "      <td>UNKNOWN</td>\n",
       "    </tr>\n",
       "    <tr>\n",
       "      <th>16955</th>\n",
       "      <td>winning post 8 2016</td>\n",
       "      <td>psv</td>\n",
       "      <td>2016</td>\n",
       "      <td>simulation</td>\n",
       "      <td>0.00</td>\n",
       "      <td>0.00</td>\n",
       "      <td>0.01</td>\n",
       "      <td>0.00</td>\n",
       "      <td>-1.0</td>\n",
       "      <td>-1.0</td>\n",
       "      <td>UNKNOWN</td>\n",
       "    </tr>\n",
       "  </tbody>\n",
       "</table>\n",
       "<p>16954 rows × 11 columns</p>\n",
       "</div>"
      ],
      "text/plain": [
       "                                name platform  year_of_release         genre  \\\n",
       "0                         wii sports      wii             2006        sports   \n",
       "1                  super mario bros.      nes             1985      platform   \n",
       "2                     mario kart wii      wii             2008        racing   \n",
       "3                  wii sports resort      wii             2009        sports   \n",
       "4           pokemon red/pokemon blue       gb             1996  role-playing   \n",
       "...                              ...      ...              ...           ...   \n",
       "16951  samurai warriors: sanada maru      ps3             2016        action   \n",
       "16952               lma manager 2007     x360             2006        sports   \n",
       "16953        haitaka no psychedelica      psv             2016     adventure   \n",
       "16954               spirits & spells      gba             2003      platform   \n",
       "16955            winning post 8 2016      psv             2016    simulation   \n",
       "\n",
       "       na_sales  eu_sales  jp_sales  other_sales  critic_score  user_score  \\\n",
       "0         41.36     28.96      3.77         8.45          76.0         8.0   \n",
       "1         29.08      3.58      6.81         0.77          -1.0        -1.0   \n",
       "2         15.68     12.76      3.79         3.29          82.0         8.3   \n",
       "3         15.61     10.93      3.28         2.95          80.0         8.0   \n",
       "4         11.27      8.89     10.22         1.00          -1.0        -1.0   \n",
       "...         ...       ...       ...          ...           ...         ...   \n",
       "16951      0.00      0.00      0.01         0.00          -1.0        -1.0   \n",
       "16952      0.00      0.01      0.00         0.00          -1.0        -1.0   \n",
       "16953      0.00      0.00      0.01         0.00          -1.0        -1.0   \n",
       "16954      0.01      0.00      0.00         0.00          -1.0        -1.0   \n",
       "16955      0.00      0.00      0.01         0.00          -1.0        -1.0   \n",
       "\n",
       "        rating  \n",
       "0            E  \n",
       "1      UNKNOWN  \n",
       "2            E  \n",
       "3            E  \n",
       "4      UNKNOWN  \n",
       "...        ...  \n",
       "16951  UNKNOWN  \n",
       "16952  UNKNOWN  \n",
       "16953  UNKNOWN  \n",
       "16954  UNKNOWN  \n",
       "16955  UNKNOWN  \n",
       "\n",
       "[16954 rows x 11 columns]"
      ]
     },
     "metadata": {},
     "output_type": "display_data"
    }
   ],
   "source": [
    "# С помощью метода str.replace() заменим значение \"К-А\" на \"Е\":\n",
    "games['rating'] = games['rating'].str.replace('K-A', 'E')\n",
    "\n",
    "# Получим результат\n",
    "display(games)"
   ]
  },
  {
   "cell_type": "markdown",
   "id": "fc3d3db4",
   "metadata": {
    "id": "fc3d3db4"
   },
   "source": [
    "Работа по выявлению **неявных** дубликатов проведена. Перейдём к устранению **явных** дубликатов в данных."
   ]
  },
  {
   "cell_type": "code",
   "execution_count": 27,
   "id": "fc5c91b5",
   "metadata": {
    "id": "fc5c91b5"
   },
   "outputs": [
    {
     "name": "stdout",
     "output_type": "stream",
     "text": [
      "Количество строк до удаления дубликатов:16954\n",
      "Количество найденных дубликатов:241\n",
      "Количество строк после удаления дубликатов:16713\n"
     ]
    }
   ],
   "source": [
    "# Посчитаем количество строк до удаления дубликатов с помощью метода shape[0] и результат сохраним \n",
    "# в переменную initial_row_count:\n",
    "initial_row_count = games.shape[0]\n",
    "\n",
    "# Сортируем датафрейм по всем столбцам, используя метод sort_values():\n",
    "games_sorted = games.sort_values(by=list(games.columns))\n",
    "\n",
    "# Определим количество дубликатов методом duplicated():\n",
    "duplicates = games_sorted[games_sorted.duplicated()].shape[0]\n",
    "\n",
    "# Проведем удаление дубликатов в переменной games_no_duplicates с помощью метода drop_duplicates():\n",
    "games_no_duplicates = games_sorted.drop_duplicates()\n",
    "\n",
    "# Сохраним количество строк после удаления дубликатов в переменной final_row_count:\n",
    "final_row_count = games_no_duplicates.shape[0]\n",
    "\n",
    "# Выведем результат:\n",
    "print(f'Количество строк до удаления дубликатов:{initial_row_count}')\n",
    "print(f'Количество найденных дубликатов:{duplicates}')\n",
    "print(f'Количество строк после удаления дубликатов:{final_row_count}')"
   ]
  },
  {
   "cell_type": "markdown",
   "id": "825b9d94",
   "metadata": {
    "id": "2f61e076"
   },
   "source": [
    "Исходя из проведенных вычислений, сделаем промежуточный вывод:\n",
    "\n",
    "1. Для определения количества дубликатов была проведена сортировка даных по всем столбцам. Далее, с помощью метода duplicated() вывели количество дубликатов по всему датафрейму - 241.\n",
    "2. Провели удаление найденных дубликатов, используя метод drop_duplicates()."
   ]
  },
  {
   "cell_type": "markdown",
   "id": "72645ae9",
   "metadata": {
    "id": "72645ae9"
   },
   "source": [
    "В процессе подготовки данных были удалены строки не только с дубликатами, но и с пропусками. Выведем общее количество удалённых строк в абсолютном и относительном значениях."
   ]
  },
  {
   "cell_type": "code",
   "execution_count": 28,
   "id": "f9d8ee19",
   "metadata": {
    "id": "f9d8ee19"
   },
   "outputs": [
    {
     "name": "stdout",
     "output_type": "stream",
     "text": [
      "Исходное количество строк:16956\n",
      "Общее количество удаленных строк:243\n",
      "Доля удаленных строк относительно общего количества:1.43%\n"
     ]
    }
   ],
   "source": [
    "# Определим число всех удаленных строк в процессе предобработки данных и их относительное значение в процентном соотношении, \n",
    "# учитывая исходное количество строк - 16956:\n",
    "total_row = 16956\n",
    "del_row = total_row - final_row_count\n",
    "part_del_row = round(((del_row / total_row) * 100), 2)\n",
    "print(f'Исходное количество строк:{total_row}')\n",
    "print(f'Общее количество удаленных строк:{del_row}')\n",
    "print(f'Доля удаленных строк относительно общего количества:{part_del_row}%')"
   ]
  },
  {
   "cell_type": "markdown",
   "id": "47613d75",
   "metadata": {
    "id": "47613d75"
   },
   "source": [
    "**Процесс оптимизации данных завершен. В итоге, было выявлено:**\n",
    "\n",
    "1. Исходное количество строк - 16956 и 11 столбцов, из которых 7 столбцов с типом данных 'object' и 4столбца - 'float64'.\n",
    "\n",
    "\n",
    "2. Столбцы `eu_sales`, `jp_sales`, `user_score` были преобразованы в тип данных 'float64', а `year_of_release` - в 'int64'.\n",
    "\n",
    "\n",
    "3. В процессе предобработки данных датарейма всего было обнаржено 24867 пропущенных значений, с которыми была проведена следующая работа:\n",
    "* в столбцах `name` и `genre` - 4 пропуска (2 строки), они удалены;\n",
    "* в `year_of_release`, `critic_score` и `user_score` была проведена замена пропусков на условное значение \"-1\";\n",
    "* пропуски в столбцах `eu_sales` и `jp_sales` были заполнены специальными расчетными средними значениями;\n",
    "* а пропущенные значения столбца `rating` заменены текстовым значением \"unknown\".\n",
    "\n",
    "\n",
    "4. Также была проведена работа по выявлению явных и неявных дубликатов, в ходе которой были проведены преобразования ряда строк датафрейма относительно анализа неявных дубликатов и проведено удаление явных дублкатов  количестве 241 строка.\n",
    "\n",
    "\n",
    "5. Таким образом, для дальнейшего корректного анализа данных над строками были проведены все необходимые преобразования, в ходе которого всего было удалено 243 строки, что составляет порядка 1% от общего количества строк. "
   ]
  },
  {
   "cell_type": "markdown",
   "id": "613f0eb0",
   "metadata": {
    "id": "613f0eb0"
   },
   "source": [
    "---\n",
    "\n",
    "## Фильтрация данных\n",
    "\n",
    "Изучим историю продаж игр в период с 2000 по 2013 год включительно. Отберём данные по этому показателю. Сохраним новый срез данных в отдельном датафрейме `df_actual`."
   ]
  },
  {
   "cell_type": "code",
   "execution_count": 29,
   "id": "2344916d",
   "metadata": {
    "id": "2344916d"
   },
   "outputs": [
    {
     "name": "stdout",
     "output_type": "stream",
     "text": [
      "<class 'pandas.core.frame.DataFrame'>\n",
      "Int64Index: 12623 entries, 0 to 16954\n",
      "Data columns (total 11 columns):\n",
      " #   Column           Non-Null Count  Dtype  \n",
      "---  ------           --------------  -----  \n",
      " 0   name             12623 non-null  object \n",
      " 1   platform         12623 non-null  object \n",
      " 2   year_of_release  12623 non-null  int64  \n",
      " 3   genre            12623 non-null  object \n",
      " 4   na_sales         12623 non-null  float64\n",
      " 5   eu_sales         12623 non-null  float64\n",
      " 6   jp_sales         12623 non-null  float64\n",
      " 7   other_sales      12623 non-null  float64\n",
      " 8   critic_score     12623 non-null  float64\n",
      " 9   user_score       12623 non-null  float64\n",
      " 10  rating           12623 non-null  object \n",
      "dtypes: float64(6), int64(1), object(4)\n",
      "memory usage: 1.2+ MB\n"
     ]
    },
    {
     "data": {
      "text/html": [
       "<div>\n",
       "<style scoped>\n",
       "    .dataframe tbody tr th:only-of-type {\n",
       "        vertical-align: middle;\n",
       "    }\n",
       "\n",
       "    .dataframe tbody tr th {\n",
       "        vertical-align: top;\n",
       "    }\n",
       "\n",
       "    .dataframe thead th {\n",
       "        text-align: right;\n",
       "    }\n",
       "</style>\n",
       "<table border=\"1\" class=\"dataframe\">\n",
       "  <thead>\n",
       "    <tr style=\"text-align: right;\">\n",
       "      <th></th>\n",
       "      <th>name</th>\n",
       "      <th>platform</th>\n",
       "      <th>year_of_release</th>\n",
       "      <th>genre</th>\n",
       "      <th>na_sales</th>\n",
       "      <th>eu_sales</th>\n",
       "      <th>jp_sales</th>\n",
       "      <th>other_sales</th>\n",
       "      <th>critic_score</th>\n",
       "      <th>user_score</th>\n",
       "      <th>rating</th>\n",
       "    </tr>\n",
       "  </thead>\n",
       "  <tbody>\n",
       "    <tr>\n",
       "      <th>0</th>\n",
       "      <td>wii sports</td>\n",
       "      <td>wii</td>\n",
       "      <td>2006</td>\n",
       "      <td>sports</td>\n",
       "      <td>41.36</td>\n",
       "      <td>28.96</td>\n",
       "      <td>3.77</td>\n",
       "      <td>8.45</td>\n",
       "      <td>76.0</td>\n",
       "      <td>8.0</td>\n",
       "      <td>E</td>\n",
       "    </tr>\n",
       "    <tr>\n",
       "      <th>2</th>\n",
       "      <td>mario kart wii</td>\n",
       "      <td>wii</td>\n",
       "      <td>2008</td>\n",
       "      <td>racing</td>\n",
       "      <td>15.68</td>\n",
       "      <td>12.76</td>\n",
       "      <td>3.79</td>\n",
       "      <td>3.29</td>\n",
       "      <td>82.0</td>\n",
       "      <td>8.3</td>\n",
       "      <td>E</td>\n",
       "    </tr>\n",
       "    <tr>\n",
       "      <th>3</th>\n",
       "      <td>wii sports resort</td>\n",
       "      <td>wii</td>\n",
       "      <td>2009</td>\n",
       "      <td>sports</td>\n",
       "      <td>15.61</td>\n",
       "      <td>10.93</td>\n",
       "      <td>3.28</td>\n",
       "      <td>2.95</td>\n",
       "      <td>80.0</td>\n",
       "      <td>8.0</td>\n",
       "      <td>E</td>\n",
       "    </tr>\n",
       "    <tr>\n",
       "      <th>6</th>\n",
       "      <td>new super mario bros.</td>\n",
       "      <td>ds</td>\n",
       "      <td>2006</td>\n",
       "      <td>platform</td>\n",
       "      <td>11.28</td>\n",
       "      <td>9.14</td>\n",
       "      <td>6.50</td>\n",
       "      <td>2.88</td>\n",
       "      <td>89.0</td>\n",
       "      <td>8.5</td>\n",
       "      <td>E</td>\n",
       "    </tr>\n",
       "    <tr>\n",
       "      <th>7</th>\n",
       "      <td>wii play</td>\n",
       "      <td>wii</td>\n",
       "      <td>2006</td>\n",
       "      <td>misc</td>\n",
       "      <td>13.96</td>\n",
       "      <td>9.18</td>\n",
       "      <td>2.93</td>\n",
       "      <td>2.84</td>\n",
       "      <td>58.0</td>\n",
       "      <td>6.6</td>\n",
       "      <td>E</td>\n",
       "    </tr>\n",
       "  </tbody>\n",
       "</table>\n",
       "</div>"
      ],
      "text/plain": [
       "                    name platform  year_of_release     genre  na_sales  \\\n",
       "0             wii sports      wii             2006    sports     41.36   \n",
       "2         mario kart wii      wii             2008    racing     15.68   \n",
       "3      wii sports resort      wii             2009    sports     15.61   \n",
       "6  new super mario bros.       ds             2006  platform     11.28   \n",
       "7               wii play      wii             2006      misc     13.96   \n",
       "\n",
       "   eu_sales  jp_sales  other_sales  critic_score  user_score rating  \n",
       "0     28.96      3.77         8.45          76.0         8.0      E  \n",
       "2     12.76      3.79         3.29          82.0         8.3      E  \n",
       "3     10.93      3.28         2.95          80.0         8.0      E  \n",
       "6      9.14      6.50         2.88          89.0         8.5      E  \n",
       "7      9.18      2.93         2.84          58.0         6.6      E  "
      ]
     },
     "execution_count": 29,
     "metadata": {},
     "output_type": "execute_result"
    }
   ],
   "source": [
    "# Отбираем строки датафрейма, которые соответствуют заданному периоду: \n",
    "df_actual = games[(games['year_of_release'] > 2000) & (games['year_of_release'] <= 2013)]\n",
    "\n",
    "# Выводим информацию о новом датасете и первые его строки:\n",
    "df_actual.info()\n",
    "df_actual.head()"
   ]
  },
  {
   "cell_type": "markdown",
   "id": "32e19625",
   "metadata": {},
   "source": [
    "Число строк в датасете `df_actual`, отражающем информацию о периоде с 2000 по 2013г., изменилось на 12623."
   ]
  },
  {
   "cell_type": "markdown",
   "id": "a6f10b01",
   "metadata": {
    "id": "a6f10b01"
   },
   "source": [
    "---\n",
    "\n",
    "## Категоризация данных\n",
    "    \n",
    "Проведем категоризацию данных:\n",
    "- Все игры за период с 2000г. по  2013г. разделим **по оценкам пользователей** и выделим такие категории: \"высокая оценка\" (от 8 до 10 включительно), \"средняя оценка\" (от 3 до 8, не включая правую границу интервала) и \"низкая оценка\" (от 0 до 3, не включая правую границу интервала)."
   ]
  },
  {
   "cell_type": "code",
   "execution_count": 30,
   "id": "3db87229",
   "metadata": {
    "id": "3db87229"
   },
   "outputs": [
    {
     "data": {
      "text/html": [
       "<div>\n",
       "<style scoped>\n",
       "    .dataframe tbody tr th:only-of-type {\n",
       "        vertical-align: middle;\n",
       "    }\n",
       "\n",
       "    .dataframe tbody tr th {\n",
       "        vertical-align: top;\n",
       "    }\n",
       "\n",
       "    .dataframe thead th {\n",
       "        text-align: right;\n",
       "    }\n",
       "</style>\n",
       "<table border=\"1\" class=\"dataframe\">\n",
       "  <thead>\n",
       "    <tr style=\"text-align: right;\">\n",
       "      <th></th>\n",
       "      <th>name</th>\n",
       "      <th>platform</th>\n",
       "      <th>year_of_release</th>\n",
       "      <th>genre</th>\n",
       "      <th>na_sales</th>\n",
       "      <th>eu_sales</th>\n",
       "      <th>jp_sales</th>\n",
       "      <th>other_sales</th>\n",
       "      <th>critic_score</th>\n",
       "      <th>user_score</th>\n",
       "      <th>rating</th>\n",
       "      <th>user_category</th>\n",
       "    </tr>\n",
       "  </thead>\n",
       "  <tbody>\n",
       "    <tr>\n",
       "      <th>0</th>\n",
       "      <td>wii sports</td>\n",
       "      <td>wii</td>\n",
       "      <td>2006</td>\n",
       "      <td>sports</td>\n",
       "      <td>41.36</td>\n",
       "      <td>28.96</td>\n",
       "      <td>3.77</td>\n",
       "      <td>8.45</td>\n",
       "      <td>76.0</td>\n",
       "      <td>8.0</td>\n",
       "      <td>E</td>\n",
       "      <td>высокая оценка</td>\n",
       "    </tr>\n",
       "    <tr>\n",
       "      <th>2</th>\n",
       "      <td>mario kart wii</td>\n",
       "      <td>wii</td>\n",
       "      <td>2008</td>\n",
       "      <td>racing</td>\n",
       "      <td>15.68</td>\n",
       "      <td>12.76</td>\n",
       "      <td>3.79</td>\n",
       "      <td>3.29</td>\n",
       "      <td>82.0</td>\n",
       "      <td>8.3</td>\n",
       "      <td>E</td>\n",
       "      <td>высокая оценка</td>\n",
       "    </tr>\n",
       "    <tr>\n",
       "      <th>3</th>\n",
       "      <td>wii sports resort</td>\n",
       "      <td>wii</td>\n",
       "      <td>2009</td>\n",
       "      <td>sports</td>\n",
       "      <td>15.61</td>\n",
       "      <td>10.93</td>\n",
       "      <td>3.28</td>\n",
       "      <td>2.95</td>\n",
       "      <td>80.0</td>\n",
       "      <td>8.0</td>\n",
       "      <td>E</td>\n",
       "      <td>высокая оценка</td>\n",
       "    </tr>\n",
       "    <tr>\n",
       "      <th>6</th>\n",
       "      <td>new super mario bros.</td>\n",
       "      <td>ds</td>\n",
       "      <td>2006</td>\n",
       "      <td>platform</td>\n",
       "      <td>11.28</td>\n",
       "      <td>9.14</td>\n",
       "      <td>6.50</td>\n",
       "      <td>2.88</td>\n",
       "      <td>89.0</td>\n",
       "      <td>8.5</td>\n",
       "      <td>E</td>\n",
       "      <td>высокая оценка</td>\n",
       "    </tr>\n",
       "    <tr>\n",
       "      <th>7</th>\n",
       "      <td>wii play</td>\n",
       "      <td>wii</td>\n",
       "      <td>2006</td>\n",
       "      <td>misc</td>\n",
       "      <td>13.96</td>\n",
       "      <td>9.18</td>\n",
       "      <td>2.93</td>\n",
       "      <td>2.84</td>\n",
       "      <td>58.0</td>\n",
       "      <td>6.6</td>\n",
       "      <td>E</td>\n",
       "      <td>средняя оценка</td>\n",
       "    </tr>\n",
       "  </tbody>\n",
       "</table>\n",
       "</div>"
      ],
      "text/plain": [
       "                    name platform  year_of_release     genre  na_sales  \\\n",
       "0             wii sports      wii             2006    sports     41.36   \n",
       "2         mario kart wii      wii             2008    racing     15.68   \n",
       "3      wii sports resort      wii             2009    sports     15.61   \n",
       "6  new super mario bros.       ds             2006  platform     11.28   \n",
       "7               wii play      wii             2006      misc     13.96   \n",
       "\n",
       "   eu_sales  jp_sales  other_sales  critic_score  user_score rating  \\\n",
       "0     28.96      3.77         8.45          76.0         8.0      E   \n",
       "2     12.76      3.79         3.29          82.0         8.3      E   \n",
       "3     10.93      3.28         2.95          80.0         8.0      E   \n",
       "6      9.14      6.50         2.88          89.0         8.5      E   \n",
       "7      9.18      2.93         2.84          58.0         6.6      E   \n",
       "\n",
       "    user_category  \n",
       "0  высокая оценка  \n",
       "2  высокая оценка  \n",
       "3  высокая оценка  \n",
       "6  высокая оценка  \n",
       "7  средняя оценка  "
      ]
     },
     "execution_count": 30,
     "metadata": {},
     "output_type": "execute_result"
    }
   ],
   "source": [
    "import warnings\n",
    "warnings.simplefilter(action='ignore')\n",
    "\n",
    "# Проведём категоризацию по указанным параметрам с помощью метода cut() и сохраним изменения в новом столбце `user_category`:\n",
    "df_actual['user_category'] = pd.cut(df_actual['user_score'], bins=[0, 3, 8, 10], labels=['низкая оценка', 'средняя оценка', 'высокая оценка'], right=False)\n",
    "\n",
    "# Выведем первые строки датафрейма:\n",
    "df_actual.head()\n"
   ]
  },
  {
   "cell_type": "markdown",
   "id": "f8f34b40",
   "metadata": {
    "id": "f8f34b40"
   },
   "source": [
    "- Разделим все игры данного периода **по оценкам критиков** и выделим такие категории: \"высокая оценка\" (от 80 до 100 включительно), \"средняя оценка\" (от 30 до 80, не включая правую границу интервала) и \"низкая оценка\" (от 0 до 30, не включая правую границу интервала)."
   ]
  },
  {
   "cell_type": "code",
   "execution_count": 31,
   "id": "e3f7acb0",
   "metadata": {
    "id": "e3f7acb0"
   },
   "outputs": [
    {
     "data": {
      "text/html": [
       "<div>\n",
       "<style scoped>\n",
       "    .dataframe tbody tr th:only-of-type {\n",
       "        vertical-align: middle;\n",
       "    }\n",
       "\n",
       "    .dataframe tbody tr th {\n",
       "        vertical-align: top;\n",
       "    }\n",
       "\n",
       "    .dataframe thead th {\n",
       "        text-align: right;\n",
       "    }\n",
       "</style>\n",
       "<table border=\"1\" class=\"dataframe\">\n",
       "  <thead>\n",
       "    <tr style=\"text-align: right;\">\n",
       "      <th></th>\n",
       "      <th>name</th>\n",
       "      <th>platform</th>\n",
       "      <th>year_of_release</th>\n",
       "      <th>genre</th>\n",
       "      <th>na_sales</th>\n",
       "      <th>eu_sales</th>\n",
       "      <th>jp_sales</th>\n",
       "      <th>other_sales</th>\n",
       "      <th>critic_score</th>\n",
       "      <th>user_score</th>\n",
       "      <th>rating</th>\n",
       "      <th>user_category</th>\n",
       "      <th>critic_category</th>\n",
       "    </tr>\n",
       "  </thead>\n",
       "  <tbody>\n",
       "    <tr>\n",
       "      <th>0</th>\n",
       "      <td>wii sports</td>\n",
       "      <td>wii</td>\n",
       "      <td>2006</td>\n",
       "      <td>sports</td>\n",
       "      <td>41.36</td>\n",
       "      <td>28.96</td>\n",
       "      <td>3.77</td>\n",
       "      <td>8.45</td>\n",
       "      <td>76.0</td>\n",
       "      <td>8.0</td>\n",
       "      <td>E</td>\n",
       "      <td>высокая оценка</td>\n",
       "      <td>средняя оценка</td>\n",
       "    </tr>\n",
       "    <tr>\n",
       "      <th>2</th>\n",
       "      <td>mario kart wii</td>\n",
       "      <td>wii</td>\n",
       "      <td>2008</td>\n",
       "      <td>racing</td>\n",
       "      <td>15.68</td>\n",
       "      <td>12.76</td>\n",
       "      <td>3.79</td>\n",
       "      <td>3.29</td>\n",
       "      <td>82.0</td>\n",
       "      <td>8.3</td>\n",
       "      <td>E</td>\n",
       "      <td>высокая оценка</td>\n",
       "      <td>высокая оценка</td>\n",
       "    </tr>\n",
       "    <tr>\n",
       "      <th>3</th>\n",
       "      <td>wii sports resort</td>\n",
       "      <td>wii</td>\n",
       "      <td>2009</td>\n",
       "      <td>sports</td>\n",
       "      <td>15.61</td>\n",
       "      <td>10.93</td>\n",
       "      <td>3.28</td>\n",
       "      <td>2.95</td>\n",
       "      <td>80.0</td>\n",
       "      <td>8.0</td>\n",
       "      <td>E</td>\n",
       "      <td>высокая оценка</td>\n",
       "      <td>высокая оценка</td>\n",
       "    </tr>\n",
       "    <tr>\n",
       "      <th>6</th>\n",
       "      <td>new super mario bros.</td>\n",
       "      <td>ds</td>\n",
       "      <td>2006</td>\n",
       "      <td>platform</td>\n",
       "      <td>11.28</td>\n",
       "      <td>9.14</td>\n",
       "      <td>6.50</td>\n",
       "      <td>2.88</td>\n",
       "      <td>89.0</td>\n",
       "      <td>8.5</td>\n",
       "      <td>E</td>\n",
       "      <td>высокая оценка</td>\n",
       "      <td>высокая оценка</td>\n",
       "    </tr>\n",
       "    <tr>\n",
       "      <th>7</th>\n",
       "      <td>wii play</td>\n",
       "      <td>wii</td>\n",
       "      <td>2006</td>\n",
       "      <td>misc</td>\n",
       "      <td>13.96</td>\n",
       "      <td>9.18</td>\n",
       "      <td>2.93</td>\n",
       "      <td>2.84</td>\n",
       "      <td>58.0</td>\n",
       "      <td>6.6</td>\n",
       "      <td>E</td>\n",
       "      <td>средняя оценка</td>\n",
       "      <td>средняя оценка</td>\n",
       "    </tr>\n",
       "  </tbody>\n",
       "</table>\n",
       "</div>"
      ],
      "text/plain": [
       "                    name platform  year_of_release     genre  na_sales  \\\n",
       "0             wii sports      wii             2006    sports     41.36   \n",
       "2         mario kart wii      wii             2008    racing     15.68   \n",
       "3      wii sports resort      wii             2009    sports     15.61   \n",
       "6  new super mario bros.       ds             2006  platform     11.28   \n",
       "7               wii play      wii             2006      misc     13.96   \n",
       "\n",
       "   eu_sales  jp_sales  other_sales  critic_score  user_score rating  \\\n",
       "0     28.96      3.77         8.45          76.0         8.0      E   \n",
       "2     12.76      3.79         3.29          82.0         8.3      E   \n",
       "3     10.93      3.28         2.95          80.0         8.0      E   \n",
       "6      9.14      6.50         2.88          89.0         8.5      E   \n",
       "7      9.18      2.93         2.84          58.0         6.6      E   \n",
       "\n",
       "    user_category critic_category  \n",
       "0  высокая оценка  средняя оценка  \n",
       "2  высокая оценка  высокая оценка  \n",
       "3  высокая оценка  высокая оценка  \n",
       "6  высокая оценка  высокая оценка  \n",
       "7  средняя оценка  средняя оценка  "
      ]
     },
     "execution_count": 31,
     "metadata": {},
     "output_type": "execute_result"
    }
   ],
   "source": [
    "import warnings\n",
    "warnings.simplefilter(action='ignore')\n",
    "\n",
    "# Выделим категории по заданным параметрам с помощью метода cut() и сохраним изменения в новом столбце `critic_category`:\n",
    "df_actual['critic_category'] = pd.cut(df_actual['critic_score'], bins=[0, 30, 80, 100], labels=['низкая оценка', 'средняя оценка', 'высокая оценка'], right=False)\n",
    "\n",
    "# Выведем первые строки датафрейма:\n",
    "df_actual.head()\n",
    "\n"
   ]
  },
  {
   "cell_type": "markdown",
   "id": "olkTlTlAUDR9",
   "metadata": {
    "id": "olkTlTlAUDR9"
   },
   "source": [
    "- После категоризации данных проверим результат: сгруппируем данные по выделенным категориям и посчитаем количество игр в каждой категории."
   ]
  },
  {
   "cell_type": "code",
   "execution_count": 32,
   "id": "HW0Nsp-4UMSL",
   "metadata": {
    "id": "HW0Nsp-4UMSL"
   },
   "outputs": [
    {
     "name": "stdout",
     "output_type": "stream",
     "text": [
      "    user_category  name\n",
      "0   низкая оценка   115\n",
      "1  средняя оценка  4094\n",
      "2  высокая оценка  2256\n"
     ]
    }
   ],
   "source": [
    "# Подсчитаем количество игр в каждой категории по оценкам пользователей, используя метод группировки groupby().\n",
    "# Результат сохраним в переменную 'grouped_user_score': \n",
    "grouped_user_score = df_actual.groupby('user_category', as_index=False)['name'].count()\n",
    "\n",
    "print(grouped_user_score)"
   ]
  },
  {
   "cell_type": "code",
   "execution_count": 33,
   "id": "x2ne0HIpUMMD",
   "metadata": {
    "id": "x2ne0HIpUMMD"
   },
   "outputs": [
    {
     "name": "stdout",
     "output_type": "stream",
     "text": [
      "  critic_category  name\n",
      "0   низкая оценка    52\n",
      "1  средняя оценка  5397\n",
      "2  высокая оценка  1674\n"
     ]
    }
   ],
   "source": [
    "# А в переменную 'grouped_critic_score' сохраним результат подсчета количества игр в каждой категории по оценкам критиков:\n",
    "grouped_critic_score = df_actual.groupby('critic_category', as_index=False)['name'].count()\n",
    "\n",
    "print(grouped_critic_score)"
   ]
  },
  {
   "cell_type": "markdown",
   "id": "e9cf97e9",
   "metadata": {},
   "source": [
    "Исходя из подсчета количества игр по столбцам `user_category` и `critic_category`, отметим, что общее число строк по каждому столбцу составляет 12623, что соответствует исходному значению строк датафрейма `df_actual`. Это значит, что при расчете учтены все данные датафрейма. По оценкам пользователей и критиков наибольшее количество игр принадлежат категории со средним оцениванием."
   ]
  },
  {
   "cell_type": "markdown",
   "id": "6a98444c",
   "metadata": {
    "id": "6a98444c"
   },
   "source": [
    "- Выделим топ-7 платформ по количеству игр, выпущенных за весь актуальный период."
   ]
  },
  {
   "cell_type": "code",
   "execution_count": 34,
   "id": "003caa2c",
   "metadata": {
    "id": "003caa2c"
   },
   "outputs": [
    {
     "name": "stdout",
     "output_type": "stream",
     "text": [
      "ds      2146\n",
      "ps2     2072\n",
      "wii     1294\n",
      "psp     1199\n",
      "x360    1138\n",
      "ps3     1107\n",
      "gba      825\n",
      "Name: platform, dtype: int64\n",
      "ds      17.000713\n",
      "ps2     16.414482\n",
      "wii     10.251129\n",
      "psp      9.498534\n",
      "x360     9.015290\n",
      "ps3      8.769706\n",
      "gba      6.535689\n",
      "Name: platform, dtype: float64\n"
     ]
    }
   ],
   "source": [
    "# С помощью метода value_counts() определим число компьютерных игр относительно каждого уникального названия платформы\n",
    "# и результат сохраним в переменную 'sorted_platform':\n",
    "sorted_platform = df_actual['platform'].value_counts()\n",
    "\n",
    "# Выведем ТОП-7 платформ с максимальным количеством игр:\n",
    "print(sorted_platform.head(7))\n",
    "\n",
    "# Определим долю выпущенных компьютерных игр в процентном соотношении на самых популярных платформах:  \n",
    "print((df_actual['platform'].value_counts(normalize=True).head(7)) * 100)  \n"
   ]
  },
  {
   "cell_type": "markdown",
   "id": "16701636",
   "metadata": {},
   "source": [
    "* Основываясь на полученных данных и предпочтениях команды игры «Секреты Темнолесья», выведем компьтерные игры в жанре RPG, выпущенных на самой популярной платформе \"ds\", с высокими оценками пользователей и критиков, при условии, что количество проданных копий более одного миллиона. "
   ]
  },
  {
   "cell_type": "code",
   "execution_count": 35,
   "id": "cb9e4ee3",
   "metadata": {},
   "outputs": [
    {
     "data": {
      "text/html": [
       "<div>\n",
       "<style scoped>\n",
       "    .dataframe tbody tr th:only-of-type {\n",
       "        vertical-align: middle;\n",
       "    }\n",
       "\n",
       "    .dataframe tbody tr th {\n",
       "        vertical-align: top;\n",
       "    }\n",
       "\n",
       "    .dataframe thead th {\n",
       "        text-align: right;\n",
       "    }\n",
       "</style>\n",
       "<table border=\"1\" class=\"dataframe\">\n",
       "  <thead>\n",
       "    <tr style=\"text-align: right;\">\n",
       "      <th></th>\n",
       "      <th>name</th>\n",
       "      <th>platform</th>\n",
       "      <th>year_of_release</th>\n",
       "      <th>genre</th>\n",
       "      <th>na_sales</th>\n",
       "      <th>eu_sales</th>\n",
       "      <th>jp_sales</th>\n",
       "      <th>other_sales</th>\n",
       "      <th>critic_score</th>\n",
       "      <th>user_score</th>\n",
       "      <th>rating</th>\n",
       "      <th>user_category</th>\n",
       "      <th>critic_category</th>\n",
       "    </tr>\n",
       "  </thead>\n",
       "  <tbody>\n",
       "    <tr>\n",
       "      <th>90</th>\n",
       "      <td>pokémon platinum version</td>\n",
       "      <td>ds</td>\n",
       "      <td>2008</td>\n",
       "      <td>role-playing</td>\n",
       "      <td>2.76</td>\n",
       "      <td>1.72</td>\n",
       "      <td>2.69</td>\n",
       "      <td>0.54</td>\n",
       "      <td>83.0</td>\n",
       "      <td>8.5</td>\n",
       "      <td>E</td>\n",
       "      <td>высокая оценка</td>\n",
       "      <td>высокая оценка</td>\n",
       "    </tr>\n",
       "    <tr>\n",
       "      <th>152</th>\n",
       "      <td>dragon quest ix: sentinels of the starry skies</td>\n",
       "      <td>ds</td>\n",
       "      <td>2009</td>\n",
       "      <td>role-playing</td>\n",
       "      <td>0.63</td>\n",
       "      <td>0.67</td>\n",
       "      <td>4.35</td>\n",
       "      <td>0.15</td>\n",
       "      <td>87.0</td>\n",
       "      <td>8.8</td>\n",
       "      <td>E10+</td>\n",
       "      <td>высокая оценка</td>\n",
       "      <td>высокая оценка</td>\n",
       "    </tr>\n",
       "    <tr>\n",
       "      <th>1193</th>\n",
       "      <td>dragon quest v: hand of the heavenly bride</td>\n",
       "      <td>ds</td>\n",
       "      <td>2008</td>\n",
       "      <td>role-playing</td>\n",
       "      <td>0.17</td>\n",
       "      <td>0.02</td>\n",
       "      <td>1.36</td>\n",
       "      <td>0.02</td>\n",
       "      <td>84.0</td>\n",
       "      <td>8.5</td>\n",
       "      <td>E10+</td>\n",
       "      <td>высокая оценка</td>\n",
       "      <td>высокая оценка</td>\n",
       "    </tr>\n",
       "  </tbody>\n",
       "</table>\n",
       "</div>"
      ],
      "text/plain": [
       "                                                name platform  \\\n",
       "90                          pokémon platinum version       ds   \n",
       "152   dragon quest ix: sentinels of the starry skies       ds   \n",
       "1193      dragon quest v: hand of the heavenly bride       ds   \n",
       "\n",
       "      year_of_release         genre  na_sales  eu_sales  jp_sales  \\\n",
       "90               2008  role-playing      2.76      1.72      2.69   \n",
       "152              2009  role-playing      0.63      0.67      4.35   \n",
       "1193             2008  role-playing      0.17      0.02      1.36   \n",
       "\n",
       "      other_sales  critic_score  user_score rating   user_category  \\\n",
       "90           0.54          83.0         8.5      E  высокая оценка   \n",
       "152          0.15          87.0         8.8   E10+  высокая оценка   \n",
       "1193         0.02          84.0         8.5   E10+  высокая оценка   \n",
       "\n",
       "     critic_category  \n",
       "90    высокая оценка  \n",
       "152   высокая оценка  \n",
       "1193  высокая оценка  "
      ]
     },
     "metadata": {},
     "output_type": "display_data"
    }
   ],
   "source": [
    "# Выведем популярные игры согласно условий, применив логическую маску. Результат сохраним в переменной 'actual':\n",
    "actual = df_actual[(df_actual['critic_category'] == 'высокая оценка') & (df_actual['user_category'] == 'высокая оценка') & \n",
    "                   (df_actual['platform'] == 'ds') & (df_actual['genre'] == 'role-playing') &\n",
    "                   ((df_actual['na_sales'] > 1) | (df_actual['jp_sales'] > 1) | (df_actual['eu_sales'] > 1) | (df_actual['other_sales'] > 1))]\n",
    "display(actual.head())"
   ]
  },
  {
   "cell_type": "markdown",
   "id": "c0158881",
   "metadata": {
    "id": "c0158881"
   },
   "source": [
    "---\n",
    "\n",
    "## Итоговый вывод\n",
    "\n",
    "Анализируя всю проделанную работу с исходными данными датасета `new_games.csv`, подитожим:\n",
    "\n",
    "1. Датасет `new_games.csv` содержит 11 столбцов и 16956 строк, которые содержат исторические данные о развитии всей игровой индустрии. При первичном знакомстве с данными и их предобработке были получены следующие результаты:\n",
    "\n",
    "* для оптимизации работы с данными в датафрейме все названия столбцов были приведены к общему стилю snake case, а также были произведены некоторые изменения типов данных:\n",
    "    - `eu_sales`, `jp_sales`, `user_score`: тип данных изменён с 'object' на 'float64';\n",
    "    - `year_of_release`: тип данных изменён с 'float64' на 'int64'.\n",
    "    \n",
    "* в восьми столбцах (`name`, `genre`, `year_of_release`, `critic_score`, `user_score`, `eu_sales`, `jp_sales` и `rating`) были обнаружены пропущенные значения. Максимальные значения пропущенных данных в столбцах `critic_score`, `user_score` и `rating` — 51%, 55% и 41% соответственно. \n",
    "\n",
    "* в результате работы по выявлению явных и неявных дубликатов были проведены преобразования ряда строк датафрейма относительно анализа неявных дубликатов и удалены строки с явными дублкатами в количестве 241. Учитывая работу с пропусками, общее число удаленных строк составлет 243.\n",
    "\n",
    "2. После предобработки данных приступили к анализу данных игровой индустрии за период с 2000 по 2013г. включительно, а именно:\n",
    "\n",
    "* по оценкам пользователей и критиков игры были распределены на три категории: \"низкая оценка\", \"средняя оценка\" и \"высокая оценка\". Наибольшее число игр принадлежат категории среднего оценивания и по оценкам пользователей, и по оценкам критиков. Результаты категоризации были сожранены в новые столбцы `user_category` (категории оценки пользователей) и `critic_category` (категории оценки критиков).\n",
    "\n",
    "* выведены ТОП-7 платформ с ниабольшим количеством выпущенных игр за указанный период. Подробнее (название платформы и кол-во игр): ds - 2146, ps2 - 2072, wii - 1294, psp - 1199, x360 - 1138, ps3 - 1107, gba - 825.\n",
    "\n",
    "3. По предварительному анализу популярности компьютерных игр в жанре \"ролевые игры\", выпущенных, например, на самой востребованной платформе \"ds\", а также, учитывая высокие оценки критиков и пользователей и количество проданных копий (более 1 миллиона), можно рекомендовать команде игры \"Секреты Темнолесья\" в первую очередь обратить внимание на изучение развития следующих игр: **\"pokémon platinum version\"**, **\"dragon quest ix: sentinels of the starry skies\"** и **\"dragon quest v: hand of the heavenly bride\"**.  \n",
    "\n",
    "\n",
    "    "
   ]
  }
 ],
 "metadata": {
  "ExecuteTimeLog": [
   {
    "duration": 400,
    "start_time": "2025-03-27T15:04:45.819Z"
   },
   {
    "duration": 90,
    "start_time": "2025-03-27T15:06:34.137Z"
   },
   {
    "duration": 99,
    "start_time": "2025-03-27T15:06:59.545Z"
   },
   {
    "duration": 233,
    "start_time": "2025-03-27T15:07:11.926Z"
   },
   {
    "duration": 24,
    "start_time": "2025-03-27T15:09:48.506Z"
   },
   {
    "duration": 19,
    "start_time": "2025-03-27T15:10:47.464Z"
   },
   {
    "duration": 3,
    "start_time": "2025-03-27T18:55:05.057Z"
   },
   {
    "duration": 5,
    "start_time": "2025-03-27T19:07:16.285Z"
   },
   {
    "duration": 4,
    "start_time": "2025-03-27T19:13:07.807Z"
   },
   {
    "duration": 4,
    "start_time": "2025-03-27T19:13:27.820Z"
   },
   {
    "duration": 3,
    "start_time": "2025-03-28T08:39:35.274Z"
   },
   {
    "duration": 6,
    "start_time": "2025-03-28T08:45:17.296Z"
   },
   {
    "duration": 39,
    "start_time": "2025-03-28T08:51:23.666Z"
   },
   {
    "duration": 53,
    "start_time": "2025-03-28T08:53:53.625Z"
   },
   {
    "duration": 16,
    "start_time": "2025-03-28T08:54:13.688Z"
   },
   {
    "duration": 16,
    "start_time": "2025-03-28T08:56:23.574Z"
   },
   {
    "duration": 9,
    "start_time": "2025-03-28T08:58:14.763Z"
   },
   {
    "duration": 8,
    "start_time": "2025-03-28T08:58:36.265Z"
   },
   {
    "duration": 15,
    "start_time": "2025-03-28T09:12:51.555Z"
   },
   {
    "duration": 6,
    "start_time": "2025-03-28T09:19:42.725Z"
   },
   {
    "duration": 6,
    "start_time": "2025-03-28T09:20:45.639Z"
   },
   {
    "duration": 6,
    "start_time": "2025-03-28T09:20:58.751Z"
   },
   {
    "duration": 13,
    "start_time": "2025-03-28T09:28:46.538Z"
   },
   {
    "duration": 12,
    "start_time": "2025-03-28T09:29:29.924Z"
   },
   {
    "duration": 8,
    "start_time": "2025-03-28T11:24:56.819Z"
   },
   {
    "duration": 16,
    "start_time": "2025-03-28T11:52:45.362Z"
   },
   {
    "duration": 84,
    "start_time": "2025-03-28T12:02:29.949Z"
   },
   {
    "duration": 8,
    "start_time": "2025-03-28T12:17:35.144Z"
   },
   {
    "duration": 6,
    "start_time": "2025-03-28T12:17:50.081Z"
   },
   {
    "duration": 3,
    "start_time": "2025-03-28T12:18:12.931Z"
   },
   {
    "duration": 3,
    "start_time": "2025-03-28T12:18:16.009Z"
   },
   {
    "duration": 18,
    "start_time": "2025-03-28T12:39:23.833Z"
   },
   {
    "duration": 18,
    "start_time": "2025-03-28T12:40:02.755Z"
   },
   {
    "duration": 16,
    "start_time": "2025-03-28T12:40:54.768Z"
   },
   {
    "duration": 21,
    "start_time": "2025-03-28T12:46:30.774Z"
   },
   {
    "duration": 349,
    "start_time": "2025-03-28T12:47:28.750Z"
   },
   {
    "duration": 342,
    "start_time": "2025-03-28T12:49:25.385Z"
   },
   {
    "duration": 345,
    "start_time": "2025-03-28T12:50:05.757Z"
   },
   {
    "duration": 19,
    "start_time": "2025-03-28T12:50:58.232Z"
   },
   {
    "duration": 332,
    "start_time": "2025-03-28T12:54:45.559Z"
   },
   {
    "duration": 372,
    "start_time": "2025-03-28T12:55:07.177Z"
   },
   {
    "duration": 397,
    "start_time": "2025-03-28T12:55:52.299Z"
   },
   {
    "duration": 365,
    "start_time": "2025-03-28T12:56:39.837Z"
   },
   {
    "duration": 18,
    "start_time": "2025-03-28T12:58:15.430Z"
   },
   {
    "duration": 13,
    "start_time": "2025-03-28T12:59:57.515Z"
   },
   {
    "duration": 392,
    "start_time": "2025-03-28T13:08:34.278Z"
   },
   {
    "duration": 159,
    "start_time": "2025-03-28T13:08:34.671Z"
   },
   {
    "duration": 17,
    "start_time": "2025-03-28T13:08:34.832Z"
   },
   {
    "duration": 37,
    "start_time": "2025-03-28T13:08:34.851Z"
   },
   {
    "duration": 2,
    "start_time": "2025-03-28T13:08:34.890Z"
   },
   {
    "duration": 9,
    "start_time": "2025-03-28T13:08:34.894Z"
   },
   {
    "duration": 75,
    "start_time": "2025-03-28T13:14:12.873Z"
   },
   {
    "duration": 15,
    "start_time": "2025-03-28T13:14:24.207Z"
   },
   {
    "duration": 84,
    "start_time": "2025-03-28T13:37:26.776Z"
   },
   {
    "duration": 283,
    "start_time": "2025-03-28T13:37:51.538Z"
   },
   {
    "duration": 29,
    "start_time": "2025-03-28T13:38:22.627Z"
   },
   {
    "duration": 12,
    "start_time": "2025-03-28T15:04:44.674Z"
   },
   {
    "duration": 11,
    "start_time": "2025-03-28T15:15:40.788Z"
   },
   {
    "duration": 7,
    "start_time": "2025-03-28T15:16:09.346Z"
   },
   {
    "duration": 7,
    "start_time": "2025-03-28T15:18:57.717Z"
   },
   {
    "duration": 7,
    "start_time": "2025-03-28T15:22:47.497Z"
   },
   {
    "duration": 427,
    "start_time": "2025-03-28T15:23:12.304Z"
   },
   {
    "duration": 178,
    "start_time": "2025-03-28T15:23:12.732Z"
   },
   {
    "duration": 16,
    "start_time": "2025-03-28T15:23:12.912Z"
   },
   {
    "duration": 19,
    "start_time": "2025-03-28T15:23:12.930Z"
   },
   {
    "duration": 17,
    "start_time": "2025-03-28T15:23:12.951Z"
   },
   {
    "duration": 10,
    "start_time": "2025-03-28T15:23:12.982Z"
   },
   {
    "duration": 22,
    "start_time": "2025-03-28T15:23:12.993Z"
   },
   {
    "duration": 29,
    "start_time": "2025-03-28T15:23:13.017Z"
   },
   {
    "duration": 42,
    "start_time": "2025-03-28T15:23:13.048Z"
   },
   {
    "duration": 80,
    "start_time": "2025-03-28T15:23:13.093Z"
   },
   {
    "duration": 7,
    "start_time": "2025-03-28T15:23:35.415Z"
   },
   {
    "duration": 7,
    "start_time": "2025-03-28T15:23:59.975Z"
   },
   {
    "duration": 12,
    "start_time": "2025-03-28T15:26:07.200Z"
   },
   {
    "duration": 13,
    "start_time": "2025-03-28T15:26:20.181Z"
   },
   {
    "duration": 7,
    "start_time": "2025-03-28T15:33:37.783Z"
   },
   {
    "duration": 7,
    "start_time": "2025-03-28T15:33:44.224Z"
   },
   {
    "duration": 6,
    "start_time": "2025-03-28T15:34:00.615Z"
   },
   {
    "duration": 7,
    "start_time": "2025-03-28T15:34:05.791Z"
   },
   {
    "duration": 11,
    "start_time": "2025-03-28T16:25:25.874Z"
   },
   {
    "duration": 408,
    "start_time": "2025-03-28T16:26:05.292Z"
   },
   {
    "duration": 128,
    "start_time": "2025-03-28T16:26:05.702Z"
   },
   {
    "duration": 17,
    "start_time": "2025-03-28T16:26:05.831Z"
   },
   {
    "duration": 28,
    "start_time": "2025-03-28T16:26:05.850Z"
   },
   {
    "duration": 4,
    "start_time": "2025-03-28T16:26:05.880Z"
   },
   {
    "duration": 18,
    "start_time": "2025-03-28T16:26:05.885Z"
   },
   {
    "duration": 60,
    "start_time": "2025-03-28T16:26:05.904Z"
   },
   {
    "duration": 28,
    "start_time": "2025-03-28T16:26:05.967Z"
   },
   {
    "duration": 11,
    "start_time": "2025-03-28T16:26:05.997Z"
   },
   {
    "duration": 10,
    "start_time": "2025-03-28T16:26:06.011Z"
   },
   {
    "duration": 8,
    "start_time": "2025-03-28T16:26:06.022Z"
   },
   {
    "duration": 10,
    "start_time": "2025-03-28T16:26:17.680Z"
   },
   {
    "duration": 8,
    "start_time": "2025-03-28T16:26:26.940Z"
   },
   {
    "duration": 8,
    "start_time": "2025-03-28T16:26:50.703Z"
   },
   {
    "duration": 8,
    "start_time": "2025-03-28T16:27:12.822Z"
   },
   {
    "duration": 20,
    "start_time": "2025-03-28T16:27:20.449Z"
   },
   {
    "duration": 17,
    "start_time": "2025-03-28T16:31:13.461Z"
   },
   {
    "duration": 14,
    "start_time": "2025-03-28T16:32:23.144Z"
   },
   {
    "duration": 16,
    "start_time": "2025-03-28T16:33:08.967Z"
   },
   {
    "duration": 10,
    "start_time": "2025-03-28T16:33:56.868Z"
   },
   {
    "duration": 388,
    "start_time": "2025-03-28T16:34:07.094Z"
   },
   {
    "duration": 87,
    "start_time": "2025-03-28T16:34:07.483Z"
   },
   {
    "duration": 17,
    "start_time": "2025-03-28T16:34:07.572Z"
   },
   {
    "duration": 21,
    "start_time": "2025-03-28T16:34:07.591Z"
   },
   {
    "duration": 11,
    "start_time": "2025-03-28T16:34:07.613Z"
   },
   {
    "duration": 11,
    "start_time": "2025-03-28T16:34:07.626Z"
   },
   {
    "duration": 25,
    "start_time": "2025-03-28T16:34:07.639Z"
   },
   {
    "duration": 32,
    "start_time": "2025-03-28T16:34:07.667Z"
   },
   {
    "duration": 9,
    "start_time": "2025-03-28T16:34:07.700Z"
   },
   {
    "duration": 11,
    "start_time": "2025-03-28T16:34:07.711Z"
   },
   {
    "duration": 14,
    "start_time": "2025-03-28T16:35:04.074Z"
   },
   {
    "duration": 205,
    "start_time": "2025-03-28T16:53:21.096Z"
   },
   {
    "duration": 74,
    "start_time": "2025-03-28T17:24:38.382Z"
   },
   {
    "duration": 23,
    "start_time": "2025-03-28T17:24:59.027Z"
   },
   {
    "duration": 161,
    "start_time": "2025-03-28T17:25:48.654Z"
   },
   {
    "duration": 403,
    "start_time": "2025-03-28T17:26:46.126Z"
   },
   {
    "duration": 89,
    "start_time": "2025-03-28T17:26:46.531Z"
   },
   {
    "duration": 14,
    "start_time": "2025-03-28T17:26:46.621Z"
   },
   {
    "duration": 34,
    "start_time": "2025-03-28T17:26:46.636Z"
   },
   {
    "duration": 3,
    "start_time": "2025-03-28T17:26:46.672Z"
   },
   {
    "duration": 4,
    "start_time": "2025-03-28T17:26:46.676Z"
   },
   {
    "duration": 34,
    "start_time": "2025-03-28T17:26:46.681Z"
   },
   {
    "duration": 27,
    "start_time": "2025-03-28T17:26:46.716Z"
   },
   {
    "duration": 14,
    "start_time": "2025-03-28T17:26:46.744Z"
   },
   {
    "duration": 10,
    "start_time": "2025-03-28T17:26:46.760Z"
   },
   {
    "duration": 12,
    "start_time": "2025-03-28T17:26:46.772Z"
   },
   {
    "duration": 184,
    "start_time": "2025-03-28T17:26:46.785Z"
   },
   {
    "duration": 163,
    "start_time": "2025-03-28T17:36:44.206Z"
   },
   {
    "duration": 14,
    "start_time": "2025-03-28T17:40:33.197Z"
   },
   {
    "duration": 64,
    "start_time": "2025-03-28T17:53:27.423Z"
   },
   {
    "duration": 10,
    "start_time": "2025-03-28T17:54:04.995Z"
   },
   {
    "duration": 10,
    "start_time": "2025-03-28T17:54:10.318Z"
   },
   {
    "duration": 20,
    "start_time": "2025-03-28T17:55:31.669Z"
   },
   {
    "duration": 41,
    "start_time": "2025-03-28T17:56:16.047Z"
   },
   {
    "duration": 29,
    "start_time": "2025-03-28T17:58:42.205Z"
   },
   {
    "duration": 18,
    "start_time": "2025-03-28T18:01:08.651Z"
   },
   {
    "duration": 25,
    "start_time": "2025-03-28T18:01:30.424Z"
   },
   {
    "duration": 48,
    "start_time": "2025-03-28T18:10:26.047Z"
   },
   {
    "duration": 10,
    "start_time": "2025-03-28T18:31:32.524Z"
   },
   {
    "duration": 5,
    "start_time": "2025-03-28T18:31:43.011Z"
   },
   {
    "duration": 5,
    "start_time": "2025-03-28T18:32:22.196Z"
   },
   {
    "duration": 7,
    "start_time": "2025-03-28T18:32:58.817Z"
   },
   {
    "duration": 8,
    "start_time": "2025-03-28T18:36:27.351Z"
   },
   {
    "duration": 7,
    "start_time": "2025-03-28T18:53:31.809Z"
   },
   {
    "duration": 6,
    "start_time": "2025-03-28T19:04:53.999Z"
   },
   {
    "duration": 5,
    "start_time": "2025-03-28T19:05:17.758Z"
   },
   {
    "duration": 5,
    "start_time": "2025-03-28T19:09:14.995Z"
   },
   {
    "duration": 5,
    "start_time": "2025-03-28T19:10:39.601Z"
   },
   {
    "duration": 5,
    "start_time": "2025-03-28T19:16:55.583Z"
   },
   {
    "duration": 4,
    "start_time": "2025-03-28T19:23:38.622Z"
   },
   {
    "duration": 52,
    "start_time": "2025-03-28T20:10:13.352Z"
   },
   {
    "duration": 64,
    "start_time": "2025-03-28T20:16:47.480Z"
   },
   {
    "duration": 60,
    "start_time": "2025-03-28T20:17:41.755Z"
   },
   {
    "duration": 59,
    "start_time": "2025-03-28T20:26:06.418Z"
   },
   {
    "duration": 14,
    "start_time": "2025-03-29T11:54:38.595Z"
   },
   {
    "duration": 277,
    "start_time": "2025-03-29T11:54:38.610Z"
   },
   {
    "duration": 16,
    "start_time": "2025-03-29T11:54:38.889Z"
   },
   {
    "duration": 12,
    "start_time": "2025-03-29T11:54:38.907Z"
   },
   {
    "duration": 3,
    "start_time": "2025-03-29T11:54:38.920Z"
   },
   {
    "duration": 32,
    "start_time": "2025-03-29T11:54:38.925Z"
   },
   {
    "duration": 16,
    "start_time": "2025-03-29T11:54:38.958Z"
   },
   {
    "duration": 26,
    "start_time": "2025-03-29T11:54:38.975Z"
   },
   {
    "duration": 8,
    "start_time": "2025-03-29T11:54:39.003Z"
   },
   {
    "duration": 8,
    "start_time": "2025-03-29T11:54:39.013Z"
   },
   {
    "duration": 47,
    "start_time": "2025-03-29T11:54:39.022Z"
   },
   {
    "duration": 186,
    "start_time": "2025-03-29T11:54:39.071Z"
   },
   {
    "duration": 174,
    "start_time": "2025-03-29T11:54:39.259Z"
   },
   {
    "duration": 24,
    "start_time": "2025-03-29T11:54:39.434Z"
   },
   {
    "duration": 29,
    "start_time": "2025-03-29T11:54:39.459Z"
   },
   {
    "duration": 17,
    "start_time": "2025-03-29T11:54:39.490Z"
   },
   {
    "duration": 55,
    "start_time": "2025-03-29T11:54:39.508Z"
   },
   {
    "duration": 7,
    "start_time": "2025-03-29T11:54:39.565Z"
   },
   {
    "duration": 6,
    "start_time": "2025-03-29T11:54:39.573Z"
   },
   {
    "duration": 11,
    "start_time": "2025-03-29T11:54:39.580Z"
   },
   {
    "duration": 8,
    "start_time": "2025-03-29T11:54:39.592Z"
   },
   {
    "duration": 4,
    "start_time": "2025-03-29T11:54:39.601Z"
   },
   {
    "duration": 102,
    "start_time": "2025-03-29T11:54:39.606Z"
   },
   {
    "duration": 3,
    "start_time": "2025-03-29T11:54:39.710Z"
   },
   {
    "duration": 4,
    "start_time": "2025-03-29T11:54:51.536Z"
   },
   {
    "duration": 4,
    "start_time": "2025-03-29T12:16:15.633Z"
   },
   {
    "duration": 4,
    "start_time": "2025-03-29T12:17:54.276Z"
   },
   {
    "duration": 4,
    "start_time": "2025-03-29T12:20:10.345Z"
   },
   {
    "duration": 4,
    "start_time": "2025-03-29T12:20:18.559Z"
   },
   {
    "duration": 4,
    "start_time": "2025-03-29T12:20:42.149Z"
   },
   {
    "duration": 3,
    "start_time": "2025-03-29T12:20:49.248Z"
   },
   {
    "duration": 4,
    "start_time": "2025-03-29T12:20:55.297Z"
   },
   {
    "duration": 36,
    "start_time": "2025-03-29T21:34:46.767Z"
   },
   {
    "duration": 12,
    "start_time": "2025-03-29T21:40:46.025Z"
   },
   {
    "duration": 11,
    "start_time": "2025-03-29T22:04:47.853Z"
   },
   {
    "duration": 436,
    "start_time": "2025-03-30T18:43:44.247Z"
   },
   {
    "duration": 115,
    "start_time": "2025-03-30T18:43:44.685Z"
   },
   {
    "duration": 16,
    "start_time": "2025-03-30T18:43:44.801Z"
   },
   {
    "duration": 19,
    "start_time": "2025-03-30T18:43:44.820Z"
   },
   {
    "duration": 2,
    "start_time": "2025-03-30T18:43:44.841Z"
   },
   {
    "duration": 28,
    "start_time": "2025-03-30T18:43:44.845Z"
   },
   {
    "duration": 57,
    "start_time": "2025-03-30T18:43:44.875Z"
   },
   {
    "duration": 91,
    "start_time": "2025-03-30T18:43:44.933Z"
   },
   {
    "duration": 81,
    "start_time": "2025-03-30T18:43:45.025Z"
   },
   {
    "duration": 20,
    "start_time": "2025-03-30T18:43:45.109Z"
   },
   {
    "duration": 13,
    "start_time": "2025-03-30T18:43:45.131Z"
   },
   {
    "duration": 273,
    "start_time": "2025-03-30T18:43:45.146Z"
   },
   {
    "duration": 181,
    "start_time": "2025-03-30T18:43:45.420Z"
   },
   {
    "duration": 13,
    "start_time": "2025-03-30T18:43:45.602Z"
   },
   {
    "duration": 46,
    "start_time": "2025-03-30T18:43:45.617Z"
   },
   {
    "duration": 21,
    "start_time": "2025-03-30T18:43:45.664Z"
   },
   {
    "duration": 39,
    "start_time": "2025-03-30T18:43:45.687Z"
   },
   {
    "duration": 7,
    "start_time": "2025-03-30T18:43:45.727Z"
   },
   {
    "duration": 6,
    "start_time": "2025-03-30T18:43:45.735Z"
   },
   {
    "duration": 33,
    "start_time": "2025-03-30T18:43:45.742Z"
   },
   {
    "duration": 12,
    "start_time": "2025-03-30T18:43:45.776Z"
   },
   {
    "duration": 4,
    "start_time": "2025-03-30T18:43:45.789Z"
   },
   {
    "duration": 82,
    "start_time": "2025-03-30T18:43:45.794Z"
   },
   {
    "duration": 4,
    "start_time": "2025-03-30T18:43:45.877Z"
   },
   {
    "duration": 60,
    "start_time": "2025-03-30T18:43:45.883Z"
   },
   {
    "duration": 0,
    "start_time": "2025-03-30T18:43:45.945Z"
   },
   {
    "duration": 10,
    "start_time": "2025-03-30T18:48:28.417Z"
   },
   {
    "duration": 6,
    "start_time": "2025-03-30T18:54:29.531Z"
   },
   {
    "duration": 1179,
    "start_time": "2025-03-30T18:55:44.301Z"
   },
   {
    "duration": 757,
    "start_time": "2025-03-30T19:16:15.873Z"
   },
   {
    "duration": 933,
    "start_time": "2025-03-30T19:20:08.300Z"
   },
   {
    "duration": 872,
    "start_time": "2025-03-30T19:21:32.139Z"
   },
   {
    "duration": 786,
    "start_time": "2025-03-30T19:24:28.610Z"
   },
   {
    "duration": 978,
    "start_time": "2025-03-30T19:33:55.659Z"
   },
   {
    "duration": 730,
    "start_time": "2025-03-30T19:34:25.824Z"
   },
   {
    "duration": 746,
    "start_time": "2025-03-30T19:39:18.283Z"
   },
   {
    "duration": 395,
    "start_time": "2025-03-30T19:40:21.601Z"
   },
   {
    "duration": 87,
    "start_time": "2025-03-30T19:40:21.998Z"
   },
   {
    "duration": 16,
    "start_time": "2025-03-30T19:40:22.086Z"
   },
   {
    "duration": 19,
    "start_time": "2025-03-30T19:40:22.104Z"
   },
   {
    "duration": 3,
    "start_time": "2025-03-30T19:40:22.125Z"
   },
   {
    "duration": 9,
    "start_time": "2025-03-30T19:40:22.130Z"
   },
   {
    "duration": 17,
    "start_time": "2025-03-30T19:40:22.172Z"
   },
   {
    "duration": 32,
    "start_time": "2025-03-30T19:40:22.191Z"
   },
   {
    "duration": 12,
    "start_time": "2025-03-30T19:40:22.225Z"
   },
   {
    "duration": 14,
    "start_time": "2025-03-30T19:40:22.273Z"
   },
   {
    "duration": 17,
    "start_time": "2025-03-30T19:40:22.288Z"
   },
   {
    "duration": 223,
    "start_time": "2025-03-30T19:40:22.308Z"
   },
   {
    "duration": 217,
    "start_time": "2025-03-30T19:40:22.533Z"
   },
   {
    "duration": 27,
    "start_time": "2025-03-30T19:40:22.751Z"
   },
   {
    "duration": 30,
    "start_time": "2025-03-30T19:40:22.780Z"
   },
   {
    "duration": 20,
    "start_time": "2025-03-30T19:40:22.811Z"
   },
   {
    "duration": 65,
    "start_time": "2025-03-30T19:40:22.832Z"
   },
   {
    "duration": 10,
    "start_time": "2025-03-30T19:40:22.900Z"
   },
   {
    "duration": 7,
    "start_time": "2025-03-30T19:40:22.912Z"
   },
   {
    "duration": 6,
    "start_time": "2025-03-30T19:40:22.921Z"
   },
   {
    "duration": 49,
    "start_time": "2025-03-30T19:40:22.929Z"
   },
   {
    "duration": 4,
    "start_time": "2025-03-30T19:40:22.980Z"
   },
   {
    "duration": 90,
    "start_time": "2025-03-30T19:40:22.986Z"
   },
   {
    "duration": 4,
    "start_time": "2025-03-30T19:40:23.078Z"
   },
   {
    "duration": 37,
    "start_time": "2025-03-30T19:40:23.083Z"
   },
   {
    "duration": 55,
    "start_time": "2025-03-30T19:40:23.122Z"
   },
   {
    "duration": 19,
    "start_time": "2025-03-30T19:55:52.531Z"
   },
   {
    "duration": 19,
    "start_time": "2025-03-30T20:19:35.186Z"
   },
   {
    "duration": 72,
    "start_time": "2025-03-30T20:26:51.805Z"
   },
   {
    "duration": 119,
    "start_time": "2025-03-30T20:27:58.280Z"
   },
   {
    "duration": 127,
    "start_time": "2025-03-30T20:28:31.626Z"
   },
   {
    "duration": 6,
    "start_time": "2025-03-30T20:28:59.179Z"
   },
   {
    "duration": 10,
    "start_time": "2025-03-30T20:31:19.466Z"
   },
   {
    "duration": 7,
    "start_time": "2025-03-30T20:32:00.354Z"
   },
   {
    "duration": 6,
    "start_time": "2025-03-30T20:32:33.093Z"
   },
   {
    "duration": 7,
    "start_time": "2025-03-30T20:32:36.373Z"
   },
   {
    "duration": 18,
    "start_time": "2025-03-30T20:39:31.558Z"
   },
   {
    "duration": 21,
    "start_time": "2025-03-30T20:39:36.792Z"
   },
   {
    "duration": 7,
    "start_time": "2025-03-30T20:39:41.699Z"
   },
   {
    "duration": 6,
    "start_time": "2025-03-30T20:39:48.381Z"
   },
   {
    "duration": 135,
    "start_time": "2025-03-30T20:40:11.181Z"
   },
   {
    "duration": 6,
    "start_time": "2025-03-30T20:40:33.913Z"
   },
   {
    "duration": 6,
    "start_time": "2025-03-30T20:41:54.696Z"
   },
   {
    "duration": 7,
    "start_time": "2025-03-30T20:42:07.333Z"
   },
   {
    "duration": 416,
    "start_time": "2025-03-30T20:42:32.101Z"
   },
   {
    "duration": 90,
    "start_time": "2025-03-30T20:42:32.519Z"
   },
   {
    "duration": 17,
    "start_time": "2025-03-30T20:42:32.611Z"
   },
   {
    "duration": 31,
    "start_time": "2025-03-30T20:42:32.630Z"
   },
   {
    "duration": 12,
    "start_time": "2025-03-30T20:42:32.663Z"
   },
   {
    "duration": 10,
    "start_time": "2025-03-30T20:42:32.677Z"
   },
   {
    "duration": 25,
    "start_time": "2025-03-30T20:42:32.689Z"
   },
   {
    "duration": 85,
    "start_time": "2025-03-30T20:42:32.716Z"
   },
   {
    "duration": 14,
    "start_time": "2025-03-30T20:42:32.803Z"
   },
   {
    "duration": 17,
    "start_time": "2025-03-30T20:42:32.821Z"
   },
   {
    "duration": 46,
    "start_time": "2025-03-30T20:42:32.839Z"
   },
   {
    "duration": 240,
    "start_time": "2025-03-30T20:42:32.887Z"
   },
   {
    "duration": 192,
    "start_time": "2025-03-30T20:42:33.129Z"
   },
   {
    "duration": 13,
    "start_time": "2025-03-30T20:42:33.323Z"
   },
   {
    "duration": 54,
    "start_time": "2025-03-30T20:42:33.337Z"
   },
   {
    "duration": 19,
    "start_time": "2025-03-30T20:42:33.392Z"
   },
   {
    "duration": 113,
    "start_time": "2025-03-30T20:42:33.413Z"
   },
   {
    "duration": 7,
    "start_time": "2025-03-30T20:42:33.528Z"
   },
   {
    "duration": 14,
    "start_time": "2025-03-30T20:42:33.537Z"
   },
   {
    "duration": 5,
    "start_time": "2025-03-30T20:42:33.552Z"
   },
   {
    "duration": 18,
    "start_time": "2025-03-30T20:42:33.559Z"
   },
   {
    "duration": 20,
    "start_time": "2025-03-30T20:42:33.579Z"
   },
   {
    "duration": 175,
    "start_time": "2025-03-30T20:42:33.601Z"
   },
   {
    "duration": 5,
    "start_time": "2025-03-30T20:42:33.778Z"
   },
   {
    "duration": 27,
    "start_time": "2025-03-30T20:42:33.785Z"
   },
   {
    "duration": 24,
    "start_time": "2025-03-30T20:42:33.814Z"
   },
   {
    "duration": 47,
    "start_time": "2025-03-30T20:42:33.840Z"
   },
   {
    "duration": 72,
    "start_time": "2025-03-30T20:42:33.890Z"
   },
   {
    "duration": 6,
    "start_time": "2025-03-30T20:42:33.964Z"
   },
   {
    "duration": 380,
    "start_time": "2025-03-30T20:43:04.314Z"
   },
   {
    "duration": 133,
    "start_time": "2025-03-30T20:43:04.696Z"
   },
   {
    "duration": 26,
    "start_time": "2025-03-30T20:43:04.833Z"
   },
   {
    "duration": 34,
    "start_time": "2025-03-30T20:43:04.862Z"
   },
   {
    "duration": 5,
    "start_time": "2025-03-30T20:43:04.898Z"
   },
   {
    "duration": 5,
    "start_time": "2025-03-30T20:43:04.905Z"
   },
   {
    "duration": 26,
    "start_time": "2025-03-30T20:43:04.912Z"
   },
   {
    "duration": 58,
    "start_time": "2025-03-30T20:43:04.939Z"
   },
   {
    "duration": 10,
    "start_time": "2025-03-30T20:43:05.000Z"
   },
   {
    "duration": 13,
    "start_time": "2025-03-30T20:43:05.011Z"
   },
   {
    "duration": 54,
    "start_time": "2025-03-30T20:43:05.025Z"
   },
   {
    "duration": 203,
    "start_time": "2025-03-30T20:43:05.081Z"
   },
   {
    "duration": 210,
    "start_time": "2025-03-30T20:43:05.287Z"
   },
   {
    "duration": 16,
    "start_time": "2025-03-30T20:43:05.499Z"
   },
   {
    "duration": 32,
    "start_time": "2025-03-30T20:43:05.516Z"
   },
   {
    "duration": 20,
    "start_time": "2025-03-30T20:43:05.573Z"
   },
   {
    "duration": 55,
    "start_time": "2025-03-30T20:43:05.594Z"
   },
   {
    "duration": 88,
    "start_time": "2025-03-30T20:43:05.651Z"
   },
   {
    "duration": 17,
    "start_time": "2025-03-30T20:43:05.741Z"
   },
   {
    "duration": 12,
    "start_time": "2025-03-30T20:43:05.761Z"
   },
   {
    "duration": 8,
    "start_time": "2025-03-30T20:43:05.776Z"
   },
   {
    "duration": 15,
    "start_time": "2025-03-30T20:43:05.786Z"
   },
   {
    "duration": 94,
    "start_time": "2025-03-30T20:43:05.803Z"
   },
   {
    "duration": 5,
    "start_time": "2025-03-30T20:43:05.899Z"
   },
   {
    "duration": 60,
    "start_time": "2025-03-30T20:43:05.906Z"
   },
   {
    "duration": 20,
    "start_time": "2025-03-30T20:43:05.969Z"
   },
   {
    "duration": 21,
    "start_time": "2025-03-30T20:43:05.992Z"
   },
   {
    "duration": 6,
    "start_time": "2025-03-30T20:43:06.015Z"
   },
   {
    "duration": 18,
    "start_time": "2025-03-30T20:43:06.023Z"
   },
   {
    "duration": 9,
    "start_time": "2025-03-30T20:51:55.865Z"
   },
   {
    "duration": 6,
    "start_time": "2025-03-30T20:52:31.010Z"
   },
   {
    "duration": 9,
    "start_time": "2025-03-30T20:53:06.196Z"
   },
   {
    "duration": 8,
    "start_time": "2025-03-30T20:57:02.793Z"
   },
   {
    "duration": 8,
    "start_time": "2025-03-30T20:58:38.416Z"
   },
   {
    "duration": 10,
    "start_time": "2025-03-30T20:58:49.682Z"
   },
   {
    "duration": 15,
    "start_time": "2025-03-30T21:09:17.988Z"
   },
   {
    "duration": 25,
    "start_time": "2025-03-30T21:09:36.194Z"
   },
   {
    "duration": 37,
    "start_time": "2025-03-30T21:11:11.647Z"
   },
   {
    "duration": 9,
    "start_time": "2025-03-30T21:18:21.236Z"
   },
   {
    "duration": 6,
    "start_time": "2025-03-30T21:26:21.270Z"
   },
   {
    "duration": 17,
    "start_time": "2025-03-30T21:26:39.404Z"
   },
   {
    "duration": 6,
    "start_time": "2025-03-30T21:27:01.978Z"
   },
   {
    "duration": 3,
    "start_time": "2025-03-30T21:34:36.968Z"
   },
   {
    "duration": 19,
    "start_time": "2025-03-30T21:47:50.425Z"
   },
   {
    "duration": 28,
    "start_time": "2025-03-30T21:48:08.006Z"
   },
   {
    "duration": 17,
    "start_time": "2025-03-30T23:09:24.145Z"
   },
   {
    "duration": 6,
    "start_time": "2025-03-30T23:11:46.462Z"
   },
   {
    "duration": 423,
    "start_time": "2025-03-30T23:11:56.761Z"
   },
   {
    "duration": 86,
    "start_time": "2025-03-30T23:11:57.186Z"
   },
   {
    "duration": 17,
    "start_time": "2025-03-30T23:11:57.273Z"
   },
   {
    "duration": 19,
    "start_time": "2025-03-30T23:11:57.291Z"
   },
   {
    "duration": 3,
    "start_time": "2025-03-30T23:11:57.312Z"
   },
   {
    "duration": 4,
    "start_time": "2025-03-30T23:11:57.316Z"
   },
   {
    "duration": 16,
    "start_time": "2025-03-30T23:11:57.322Z"
   },
   {
    "duration": 59,
    "start_time": "2025-03-30T23:11:57.339Z"
   },
   {
    "duration": 9,
    "start_time": "2025-03-30T23:11:57.400Z"
   },
   {
    "duration": 11,
    "start_time": "2025-03-30T23:11:57.411Z"
   },
   {
    "duration": 13,
    "start_time": "2025-03-30T23:11:57.424Z"
   },
   {
    "duration": 216,
    "start_time": "2025-03-30T23:11:57.439Z"
   },
   {
    "duration": 192,
    "start_time": "2025-03-30T23:11:57.656Z"
   },
   {
    "duration": 31,
    "start_time": "2025-03-30T23:11:57.850Z"
   },
   {
    "duration": 30,
    "start_time": "2025-03-30T23:11:57.883Z"
   },
   {
    "duration": 20,
    "start_time": "2025-03-30T23:11:57.914Z"
   },
   {
    "duration": 59,
    "start_time": "2025-03-30T23:11:57.935Z"
   },
   {
    "duration": 6,
    "start_time": "2025-03-30T23:11:57.996Z"
   },
   {
    "duration": 6,
    "start_time": "2025-03-30T23:11:58.004Z"
   },
   {
    "duration": 4,
    "start_time": "2025-03-30T23:11:58.012Z"
   },
   {
    "duration": 7,
    "start_time": "2025-03-30T23:11:58.018Z"
   },
   {
    "duration": 4,
    "start_time": "2025-03-30T23:11:58.027Z"
   },
   {
    "duration": 98,
    "start_time": "2025-03-30T23:11:58.032Z"
   },
   {
    "duration": 4,
    "start_time": "2025-03-30T23:11:58.132Z"
   },
   {
    "duration": 45,
    "start_time": "2025-03-30T23:11:58.137Z"
   },
   {
    "duration": 22,
    "start_time": "2025-03-30T23:11:58.184Z"
   },
   {
    "duration": 19,
    "start_time": "2025-03-30T23:11:58.208Z"
   },
   {
    "duration": 10,
    "start_time": "2025-03-30T23:11:58.231Z"
   },
   {
    "duration": 36,
    "start_time": "2025-03-30T23:11:58.243Z"
   },
   {
    "duration": 57,
    "start_time": "2025-03-30T23:11:58.281Z"
   },
   {
    "duration": 6,
    "start_time": "2025-03-30T23:11:58.340Z"
   },
   {
    "duration": 70,
    "start_time": "2025-03-30T23:15:44.187Z"
   },
   {
    "duration": 10,
    "start_time": "2025-03-30T23:16:02.298Z"
   },
   {
    "duration": 10,
    "start_time": "2025-03-30T23:16:23.963Z"
   },
   {
    "duration": 19,
    "start_time": "2025-03-30T23:16:38.163Z"
   },
   {
    "duration": 15,
    "start_time": "2025-03-30T23:17:13.019Z"
   },
   {
    "duration": 5,
    "start_time": "2025-03-30T23:28:16.809Z"
   },
   {
    "duration": 17,
    "start_time": "2025-03-30T23:28:40.800Z"
   },
   {
    "duration": 13,
    "start_time": "2025-03-30T23:29:38.212Z"
   },
   {
    "duration": 14,
    "start_time": "2025-03-30T23:32:22.084Z"
   },
   {
    "duration": 11,
    "start_time": "2025-03-30T23:32:53.356Z"
   },
   {
    "duration": 13,
    "start_time": "2025-03-30T23:33:15.337Z"
   },
   {
    "duration": 14,
    "start_time": "2025-03-30T23:33:50.066Z"
   },
   {
    "duration": 13,
    "start_time": "2025-03-30T23:37:13.198Z"
   },
   {
    "duration": 4,
    "start_time": "2025-03-30T23:40:55.813Z"
   },
   {
    "duration": 291,
    "start_time": "2025-03-30T23:41:23.723Z"
   },
   {
    "duration": 8,
    "start_time": "2025-03-30T23:41:59.915Z"
   },
   {
    "duration": 13,
    "start_time": "2025-03-30T23:42:32.470Z"
   },
   {
    "duration": 13,
    "start_time": "2025-03-30T23:42:55.057Z"
   },
   {
    "duration": 14,
    "start_time": "2025-03-30T23:44:58.915Z"
   },
   {
    "duration": 14,
    "start_time": "2025-03-30T23:45:14.757Z"
   },
   {
    "duration": 13,
    "start_time": "2025-03-31T00:11:44.270Z"
   },
   {
    "duration": 407,
    "start_time": "2025-03-31T00:14:36.076Z"
   },
   {
    "duration": 81,
    "start_time": "2025-03-31T00:14:36.485Z"
   },
   {
    "duration": 18,
    "start_time": "2025-03-31T00:14:36.568Z"
   },
   {
    "duration": 20,
    "start_time": "2025-03-31T00:14:36.588Z"
   },
   {
    "duration": 3,
    "start_time": "2025-03-31T00:14:36.610Z"
   },
   {
    "duration": 5,
    "start_time": "2025-03-31T00:14:36.614Z"
   },
   {
    "duration": 18,
    "start_time": "2025-03-31T00:14:36.620Z"
   },
   {
    "duration": 54,
    "start_time": "2025-03-31T00:14:36.640Z"
   },
   {
    "duration": 9,
    "start_time": "2025-03-31T00:14:36.696Z"
   },
   {
    "duration": 15,
    "start_time": "2025-03-31T00:14:36.707Z"
   },
   {
    "duration": 17,
    "start_time": "2025-03-31T00:14:36.723Z"
   },
   {
    "duration": 198,
    "start_time": "2025-03-31T00:14:36.741Z"
   },
   {
    "duration": 174,
    "start_time": "2025-03-31T00:14:36.941Z"
   },
   {
    "duration": 13,
    "start_time": "2025-03-31T00:14:37.117Z"
   },
   {
    "duration": 42,
    "start_time": "2025-03-31T00:14:37.132Z"
   },
   {
    "duration": 18,
    "start_time": "2025-03-31T00:14:37.175Z"
   },
   {
    "duration": 33,
    "start_time": "2025-03-31T00:14:37.194Z"
   },
   {
    "duration": 6,
    "start_time": "2025-03-31T00:14:37.228Z"
   },
   {
    "duration": 6,
    "start_time": "2025-03-31T00:14:37.235Z"
   },
   {
    "duration": 31,
    "start_time": "2025-03-31T00:14:37.242Z"
   },
   {
    "duration": 6,
    "start_time": "2025-03-31T00:14:37.274Z"
   },
   {
    "duration": 7,
    "start_time": "2025-03-31T00:14:37.282Z"
   },
   {
    "duration": 86,
    "start_time": "2025-03-31T00:14:37.290Z"
   },
   {
    "duration": 4,
    "start_time": "2025-03-31T00:14:37.377Z"
   },
   {
    "duration": 41,
    "start_time": "2025-03-31T00:14:37.383Z"
   },
   {
    "duration": 17,
    "start_time": "2025-03-31T00:14:37.426Z"
   },
   {
    "duration": 30,
    "start_time": "2025-03-31T00:14:37.444Z"
   },
   {
    "duration": 8,
    "start_time": "2025-03-31T00:14:37.478Z"
   },
   {
    "duration": 8,
    "start_time": "2025-03-31T00:14:37.487Z"
   },
   {
    "duration": 9,
    "start_time": "2025-03-31T00:14:37.497Z"
   },
   {
    "duration": 21,
    "start_time": "2025-03-31T00:14:37.508Z"
   },
   {
    "duration": 14,
    "start_time": "2025-03-31T00:14:37.530Z"
   },
   {
    "duration": 368,
    "start_time": "2025-03-31T00:19:01.619Z"
   },
   {
    "duration": 87,
    "start_time": "2025-03-31T00:19:01.989Z"
   },
   {
    "duration": 15,
    "start_time": "2025-03-31T00:19:02.078Z"
   },
   {
    "duration": 36,
    "start_time": "2025-03-31T00:19:02.095Z"
   },
   {
    "duration": 42,
    "start_time": "2025-03-31T00:19:02.133Z"
   },
   {
    "duration": 39,
    "start_time": "2025-03-31T00:19:02.177Z"
   },
   {
    "duration": 57,
    "start_time": "2025-03-31T00:19:02.218Z"
   },
   {
    "duration": 66,
    "start_time": "2025-03-31T00:19:02.276Z"
   },
   {
    "duration": 20,
    "start_time": "2025-03-31T00:19:02.343Z"
   },
   {
    "duration": 13,
    "start_time": "2025-03-31T00:19:02.366Z"
   },
   {
    "duration": 15,
    "start_time": "2025-03-31T00:19:02.380Z"
   },
   {
    "duration": 202,
    "start_time": "2025-03-31T00:19:02.397Z"
   },
   {
    "duration": 179,
    "start_time": "2025-03-31T00:19:02.601Z"
   },
   {
    "duration": 13,
    "start_time": "2025-03-31T00:19:02.781Z"
   },
   {
    "duration": 50,
    "start_time": "2025-03-31T00:19:02.796Z"
   },
   {
    "duration": 19,
    "start_time": "2025-03-31T00:19:02.849Z"
   },
   {
    "duration": 37,
    "start_time": "2025-03-31T00:19:02.873Z"
   },
   {
    "duration": 17,
    "start_time": "2025-03-31T00:19:02.913Z"
   },
   {
    "duration": 43,
    "start_time": "2025-03-31T00:19:02.932Z"
   },
   {
    "duration": 4,
    "start_time": "2025-03-31T00:19:02.976Z"
   },
   {
    "duration": 18,
    "start_time": "2025-03-31T00:19:02.982Z"
   },
   {
    "duration": 16,
    "start_time": "2025-03-31T00:19:03.002Z"
   },
   {
    "duration": 72,
    "start_time": "2025-03-31T00:19:03.020Z"
   },
   {
    "duration": 4,
    "start_time": "2025-03-31T00:19:03.094Z"
   },
   {
    "duration": 29,
    "start_time": "2025-03-31T00:19:03.100Z"
   },
   {
    "duration": 16,
    "start_time": "2025-03-31T00:19:03.131Z"
   },
   {
    "duration": 35,
    "start_time": "2025-03-31T00:19:03.149Z"
   },
   {
    "duration": 8,
    "start_time": "2025-03-31T00:19:03.187Z"
   },
   {
    "duration": 10,
    "start_time": "2025-03-31T00:19:03.197Z"
   },
   {
    "duration": 7,
    "start_time": "2025-03-31T00:19:03.208Z"
   },
   {
    "duration": 7,
    "start_time": "2025-03-31T00:19:03.217Z"
   },
   {
    "duration": 28,
    "start_time": "2025-03-31T00:19:03.225Z"
   },
   {
    "duration": 50,
    "start_time": "2025-03-31T10:03:34.532Z"
   },
   {
    "duration": 8,
    "start_time": "2025-03-31T10:04:01.978Z"
   },
   {
    "duration": 362,
    "start_time": "2025-03-31T10:04:11.816Z"
   },
   {
    "duration": 84,
    "start_time": "2025-03-31T10:04:12.180Z"
   },
   {
    "duration": 16,
    "start_time": "2025-03-31T10:04:12.265Z"
   },
   {
    "duration": 39,
    "start_time": "2025-03-31T10:04:12.283Z"
   },
   {
    "duration": 3,
    "start_time": "2025-03-31T10:04:12.323Z"
   },
   {
    "duration": 9,
    "start_time": "2025-03-31T10:04:12.327Z"
   },
   {
    "duration": 30,
    "start_time": "2025-03-31T10:04:12.338Z"
   },
   {
    "duration": 27,
    "start_time": "2025-03-31T10:04:12.370Z"
   },
   {
    "duration": 9,
    "start_time": "2025-03-31T10:04:12.399Z"
   },
   {
    "duration": 10,
    "start_time": "2025-03-31T10:04:12.411Z"
   },
   {
    "duration": 15,
    "start_time": "2025-03-31T10:04:12.422Z"
   },
   {
    "duration": 191,
    "start_time": "2025-03-31T10:04:12.463Z"
   },
   {
    "duration": 188,
    "start_time": "2025-03-31T10:04:12.656Z"
   },
   {
    "duration": 26,
    "start_time": "2025-03-31T10:04:12.847Z"
   },
   {
    "duration": 86,
    "start_time": "2025-03-31T10:04:12.875Z"
   },
   {
    "duration": 19,
    "start_time": "2025-03-31T10:04:12.963Z"
   },
   {
    "duration": 44,
    "start_time": "2025-03-31T10:04:12.983Z"
   },
   {
    "duration": 8,
    "start_time": "2025-03-31T10:04:13.028Z"
   },
   {
    "duration": 95,
    "start_time": "2025-03-31T10:04:13.038Z"
   },
   {
    "duration": 8,
    "start_time": "2025-03-31T10:04:13.135Z"
   },
   {
    "duration": 6,
    "start_time": "2025-03-31T10:04:13.144Z"
   },
   {
    "duration": 13,
    "start_time": "2025-03-31T10:04:13.152Z"
   },
   {
    "duration": 77,
    "start_time": "2025-03-31T10:04:13.166Z"
   },
   {
    "duration": 4,
    "start_time": "2025-03-31T10:04:13.245Z"
   },
   {
    "duration": 30,
    "start_time": "2025-03-31T10:04:13.251Z"
   },
   {
    "duration": 18,
    "start_time": "2025-03-31T10:04:13.283Z"
   },
   {
    "duration": 20,
    "start_time": "2025-03-31T10:04:13.303Z"
   },
   {
    "duration": 8,
    "start_time": "2025-03-31T10:04:13.326Z"
   },
   {
    "duration": 9,
    "start_time": "2025-03-31T10:04:13.362Z"
   },
   {
    "duration": 22,
    "start_time": "2025-03-31T10:04:13.372Z"
   },
   {
    "duration": 12,
    "start_time": "2025-03-31T10:04:13.395Z"
   },
   {
    "duration": 20,
    "start_time": "2025-03-31T10:04:13.408Z"
   },
   {
    "duration": 19,
    "start_time": "2025-03-31T10:04:27.285Z"
   },
   {
    "duration": 45,
    "start_time": "2025-03-31T17:24:03.471Z"
   },
   {
    "duration": 360,
    "start_time": "2025-03-31T17:24:11.984Z"
   },
   {
    "duration": 121,
    "start_time": "2025-03-31T17:24:12.346Z"
   },
   {
    "duration": 15,
    "start_time": "2025-03-31T17:24:12.468Z"
   },
   {
    "duration": 18,
    "start_time": "2025-03-31T17:24:12.485Z"
   },
   {
    "duration": 3,
    "start_time": "2025-03-31T17:24:12.504Z"
   },
   {
    "duration": 118,
    "start_time": "2025-03-31T17:24:12.508Z"
   },
   {
    "duration": 17,
    "start_time": "2025-03-31T17:24:12.627Z"
   },
   {
    "duration": 25,
    "start_time": "2025-03-31T17:24:12.645Z"
   },
   {
    "duration": 8,
    "start_time": "2025-03-31T17:24:12.672Z"
   },
   {
    "duration": 73,
    "start_time": "2025-03-31T17:24:12.683Z"
   },
   {
    "duration": 14,
    "start_time": "2025-03-31T17:24:12.757Z"
   },
   {
    "duration": 180,
    "start_time": "2025-03-31T17:24:12.772Z"
   },
   {
    "duration": 176,
    "start_time": "2025-03-31T17:24:12.954Z"
   },
   {
    "duration": 14,
    "start_time": "2025-03-31T17:24:13.132Z"
   },
   {
    "duration": 29,
    "start_time": "2025-03-31T17:24:13.148Z"
   },
   {
    "duration": 17,
    "start_time": "2025-03-31T17:24:13.179Z"
   },
   {
    "duration": 67,
    "start_time": "2025-03-31T17:24:13.198Z"
   },
   {
    "duration": 8,
    "start_time": "2025-03-31T17:24:13.267Z"
   },
   {
    "duration": 6,
    "start_time": "2025-03-31T17:24:13.277Z"
   },
   {
    "duration": 5,
    "start_time": "2025-03-31T17:24:13.285Z"
   },
   {
    "duration": 46,
    "start_time": "2025-03-31T17:24:13.292Z"
   },
   {
    "duration": 3,
    "start_time": "2025-03-31T17:24:13.340Z"
   },
   {
    "duration": 63,
    "start_time": "2025-03-31T17:24:13.345Z"
   },
   {
    "duration": 27,
    "start_time": "2025-03-31T17:24:13.410Z"
   },
   {
    "duration": 58,
    "start_time": "2025-03-31T17:24:13.439Z"
   },
   {
    "duration": 16,
    "start_time": "2025-03-31T17:24:13.499Z"
   },
   {
    "duration": 19,
    "start_time": "2025-03-31T17:24:13.517Z"
   },
   {
    "duration": 10,
    "start_time": "2025-03-31T17:24:13.540Z"
   },
   {
    "duration": 8,
    "start_time": "2025-03-31T17:24:13.552Z"
   },
   {
    "duration": 5,
    "start_time": "2025-03-31T17:24:13.562Z"
   },
   {
    "duration": 77,
    "start_time": "2025-03-31T17:24:13.568Z"
   },
   {
    "duration": 35,
    "start_time": "2025-03-31T17:24:13.646Z"
   },
   {
    "duration": 438,
    "start_time": "2025-03-31T17:40:51.609Z"
   },
   {
    "duration": 132,
    "start_time": "2025-03-31T17:40:52.049Z"
   },
   {
    "duration": 17,
    "start_time": "2025-03-31T17:40:52.183Z"
   },
   {
    "duration": 36,
    "start_time": "2025-03-31T17:40:52.202Z"
   },
   {
    "duration": 4,
    "start_time": "2025-03-31T17:40:52.239Z"
   },
   {
    "duration": 4,
    "start_time": "2025-03-31T17:40:52.245Z"
   },
   {
    "duration": 16,
    "start_time": "2025-03-31T17:40:52.251Z"
   },
   {
    "duration": 28,
    "start_time": "2025-03-31T17:40:52.269Z"
   },
   {
    "duration": 42,
    "start_time": "2025-03-31T17:40:52.298Z"
   },
   {
    "duration": 11,
    "start_time": "2025-03-31T17:40:52.344Z"
   },
   {
    "duration": 14,
    "start_time": "2025-03-31T17:40:52.356Z"
   },
   {
    "duration": 218,
    "start_time": "2025-03-31T17:40:52.371Z"
   },
   {
    "duration": 191,
    "start_time": "2025-03-31T17:40:52.591Z"
   },
   {
    "duration": 14,
    "start_time": "2025-03-31T17:40:52.783Z"
   },
   {
    "duration": 51,
    "start_time": "2025-03-31T17:40:52.799Z"
   },
   {
    "duration": 18,
    "start_time": "2025-03-31T17:40:52.851Z"
   },
   {
    "duration": 33,
    "start_time": "2025-03-31T17:40:52.871Z"
   },
   {
    "duration": 38,
    "start_time": "2025-03-31T17:40:52.906Z"
   },
   {
    "duration": 7,
    "start_time": "2025-03-31T17:40:52.947Z"
   },
   {
    "duration": 11,
    "start_time": "2025-03-31T17:40:52.959Z"
   },
   {
    "duration": 17,
    "start_time": "2025-03-31T17:40:52.972Z"
   },
   {
    "duration": 5,
    "start_time": "2025-03-31T17:40:52.991Z"
   },
   {
    "duration": 96,
    "start_time": "2025-03-31T17:40:52.998Z"
   },
   {
    "duration": 8,
    "start_time": "2025-03-31T17:40:53.095Z"
   },
   {
    "duration": 60,
    "start_time": "2025-03-31T17:40:53.105Z"
   },
   {
    "duration": 17,
    "start_time": "2025-03-31T17:40:53.167Z"
   },
   {
    "duration": 51,
    "start_time": "2025-03-31T17:40:53.185Z"
   },
   {
    "duration": 8,
    "start_time": "2025-03-31T17:40:53.239Z"
   },
   {
    "duration": 6,
    "start_time": "2025-03-31T17:40:53.249Z"
   },
   {
    "duration": 6,
    "start_time": "2025-03-31T17:40:53.256Z"
   },
   {
    "duration": 4,
    "start_time": "2025-03-31T17:40:53.263Z"
   },
   {
    "duration": 68,
    "start_time": "2025-03-31T17:40:53.268Z"
   },
   {
    "duration": 160,
    "start_time": "2025-03-31T21:17:25.312Z"
   },
   {
    "duration": 158,
    "start_time": "2025-03-31T21:19:23.890Z"
   },
   {
    "duration": 16,
    "start_time": "2025-03-31T21:30:44.668Z"
   },
   {
    "duration": 1375,
    "start_time": "2025-03-31T21:31:28.583Z"
   },
   {
    "duration": 17,
    "start_time": "2025-03-31T21:31:45.877Z"
   },
   {
    "duration": 14,
    "start_time": "2025-03-31T21:35:19.193Z"
   },
   {
    "duration": 400,
    "start_time": "2025-03-31T21:35:27.731Z"
   },
   {
    "duration": 139,
    "start_time": "2025-03-31T21:35:28.132Z"
   },
   {
    "duration": 15,
    "start_time": "2025-03-31T21:35:28.273Z"
   },
   {
    "duration": 18,
    "start_time": "2025-03-31T21:35:28.290Z"
   },
   {
    "duration": 3,
    "start_time": "2025-03-31T21:35:28.309Z"
   },
   {
    "duration": 23,
    "start_time": "2025-03-31T21:35:28.313Z"
   },
   {
    "duration": 13,
    "start_time": "2025-03-31T21:35:28.338Z"
   },
   {
    "duration": 28,
    "start_time": "2025-03-31T21:35:28.353Z"
   },
   {
    "duration": 10,
    "start_time": "2025-03-31T21:35:28.383Z"
   },
   {
    "duration": 47,
    "start_time": "2025-03-31T21:35:28.397Z"
   },
   {
    "duration": 69,
    "start_time": "2025-03-31T21:35:28.445Z"
   },
   {
    "duration": 166,
    "start_time": "2025-03-31T21:35:28.515Z"
   },
   {
    "duration": 170,
    "start_time": "2025-03-31T21:35:28.682Z"
   },
   {
    "duration": 13,
    "start_time": "2025-03-31T21:35:28.854Z"
   },
   {
    "duration": 28,
    "start_time": "2025-03-31T21:35:28.869Z"
   },
   {
    "duration": 42,
    "start_time": "2025-03-31T21:35:28.898Z"
   },
   {
    "duration": 32,
    "start_time": "2025-03-31T21:35:28.941Z"
   },
   {
    "duration": 6,
    "start_time": "2025-03-31T21:35:28.974Z"
   },
   {
    "duration": 5,
    "start_time": "2025-03-31T21:35:28.981Z"
   },
   {
    "duration": 90,
    "start_time": "2025-03-31T21:35:28.987Z"
   },
   {
    "duration": 8,
    "start_time": "2025-03-31T21:35:29.078Z"
   },
   {
    "duration": 5,
    "start_time": "2025-03-31T21:35:29.087Z"
   },
   {
    "duration": 60,
    "start_time": "2025-03-31T21:35:29.093Z"
   },
   {
    "duration": 4,
    "start_time": "2025-03-31T21:35:29.155Z"
   },
   {
    "duration": 23,
    "start_time": "2025-03-31T21:35:29.160Z"
   },
   {
    "duration": 17,
    "start_time": "2025-03-31T21:35:29.184Z"
   },
   {
    "duration": 47,
    "start_time": "2025-03-31T21:35:29.202Z"
   },
   {
    "duration": 8,
    "start_time": "2025-03-31T21:35:29.251Z"
   },
   {
    "duration": 7,
    "start_time": "2025-03-31T21:35:29.260Z"
   },
   {
    "duration": 5,
    "start_time": "2025-03-31T21:35:29.269Z"
   },
   {
    "duration": 70,
    "start_time": "2025-03-31T21:35:29.276Z"
   },
   {
    "duration": 19,
    "start_time": "2025-03-31T21:35:29.347Z"
   },
   {
    "duration": 17,
    "start_time": "2025-03-31T21:52:29.044Z"
   },
   {
    "duration": 16,
    "start_time": "2025-03-31T21:52:53.737Z"
   },
   {
    "duration": 5,
    "start_time": "2025-03-31T22:01:21.630Z"
   },
   {
    "duration": 5,
    "start_time": "2025-03-31T22:04:00.391Z"
   },
   {
    "duration": 28,
    "start_time": "2025-03-31T22:21:32.796Z"
   },
   {
    "duration": 31,
    "start_time": "2025-03-31T22:21:58.869Z"
   },
   {
    "duration": 27,
    "start_time": "2025-03-31T22:22:28.266Z"
   },
   {
    "duration": 357,
    "start_time": "2025-03-31T22:33:04.282Z"
   },
   {
    "duration": 105,
    "start_time": "2025-03-31T22:33:04.641Z"
   },
   {
    "duration": 14,
    "start_time": "2025-03-31T22:33:04.748Z"
   },
   {
    "duration": 17,
    "start_time": "2025-03-31T22:33:04.764Z"
   },
   {
    "duration": 10,
    "start_time": "2025-03-31T22:33:04.783Z"
   },
   {
    "duration": 5,
    "start_time": "2025-03-31T22:33:04.795Z"
   },
   {
    "duration": 37,
    "start_time": "2025-03-31T22:33:04.801Z"
   },
   {
    "duration": 26,
    "start_time": "2025-03-31T22:33:04.839Z"
   },
   {
    "duration": 8,
    "start_time": "2025-03-31T22:33:04.867Z"
   },
   {
    "duration": 15,
    "start_time": "2025-03-31T22:33:04.878Z"
   },
   {
    "duration": 13,
    "start_time": "2025-03-31T22:33:04.895Z"
   },
   {
    "duration": 178,
    "start_time": "2025-03-31T22:33:04.936Z"
   },
   {
    "duration": 174,
    "start_time": "2025-03-31T22:33:05.116Z"
   },
   {
    "duration": 17,
    "start_time": "2025-03-31T22:33:05.291Z"
   },
   {
    "duration": 46,
    "start_time": "2025-03-31T22:33:05.309Z"
   },
   {
    "duration": 18,
    "start_time": "2025-03-31T22:33:05.357Z"
   },
   {
    "duration": 55,
    "start_time": "2025-03-31T22:33:05.377Z"
   },
   {
    "duration": 9,
    "start_time": "2025-03-31T22:33:05.433Z"
   },
   {
    "duration": 6,
    "start_time": "2025-03-31T22:33:05.443Z"
   },
   {
    "duration": 4,
    "start_time": "2025-03-31T22:33:05.450Z"
   },
   {
    "duration": 5,
    "start_time": "2025-03-31T22:33:05.456Z"
   },
   {
    "duration": 19,
    "start_time": "2025-03-31T22:33:05.463Z"
   },
   {
    "duration": 16,
    "start_time": "2025-03-31T22:33:05.484Z"
   },
   {
    "duration": 4,
    "start_time": "2025-03-31T22:33:05.502Z"
   },
   {
    "duration": 46,
    "start_time": "2025-03-31T22:33:05.507Z"
   },
   {
    "duration": 60,
    "start_time": "2025-03-31T22:33:05.555Z"
   },
   {
    "duration": 30,
    "start_time": "2025-03-31T22:33:05.617Z"
   },
   {
    "duration": 103,
    "start_time": "2025-03-31T22:33:05.650Z"
   },
   {
    "duration": 16,
    "start_time": "2025-03-31T22:33:05.754Z"
   },
   {
    "duration": 15,
    "start_time": "2025-03-31T22:33:05.772Z"
   },
   {
    "duration": 12,
    "start_time": "2025-03-31T22:33:05.788Z"
   },
   {
    "duration": 35,
    "start_time": "2025-03-31T22:33:05.801Z"
   },
   {
    "duration": 8,
    "start_time": "2025-03-31T22:33:05.838Z"
   },
   {
    "duration": 4,
    "start_time": "2025-03-31T22:33:05.847Z"
   },
   {
    "duration": 18,
    "start_time": "2025-03-31T22:33:05.852Z"
   },
   {
    "duration": 7,
    "start_time": "2025-03-31T22:35:48.368Z"
   },
   {
    "duration": 7,
    "start_time": "2025-03-31T22:35:59.893Z"
   },
   {
    "duration": 6,
    "start_time": "2025-03-31T22:36:09.286Z"
   },
   {
    "duration": 16,
    "start_time": "2025-03-31T22:36:17.973Z"
   },
   {
    "duration": 6,
    "start_time": "2025-03-31T22:36:30.721Z"
   },
   {
    "duration": 407,
    "start_time": "2025-03-31T22:36:36.012Z"
   },
   {
    "duration": 91,
    "start_time": "2025-03-31T22:36:36.421Z"
   },
   {
    "duration": 21,
    "start_time": "2025-03-31T22:36:36.515Z"
   },
   {
    "duration": 19,
    "start_time": "2025-03-31T22:36:36.539Z"
   },
   {
    "duration": 2,
    "start_time": "2025-03-31T22:36:36.560Z"
   },
   {
    "duration": 4,
    "start_time": "2025-03-31T22:36:36.564Z"
   },
   {
    "duration": 20,
    "start_time": "2025-03-31T22:36:36.569Z"
   },
   {
    "duration": 59,
    "start_time": "2025-03-31T22:36:36.590Z"
   },
   {
    "duration": 9,
    "start_time": "2025-03-31T22:36:36.650Z"
   },
   {
    "duration": 50,
    "start_time": "2025-03-31T22:36:36.662Z"
   },
   {
    "duration": 14,
    "start_time": "2025-03-31T22:36:36.713Z"
   },
   {
    "duration": 164,
    "start_time": "2025-03-31T22:36:36.728Z"
   },
   {
    "duration": 173,
    "start_time": "2025-03-31T22:36:36.894Z"
   },
   {
    "duration": 16,
    "start_time": "2025-03-31T22:36:37.068Z"
   },
   {
    "duration": 33,
    "start_time": "2025-03-31T22:36:37.085Z"
   },
   {
    "duration": 18,
    "start_time": "2025-03-31T22:36:37.136Z"
   },
   {
    "duration": 33,
    "start_time": "2025-03-31T22:36:37.156Z"
   },
   {
    "duration": 6,
    "start_time": "2025-03-31T22:36:37.190Z"
   },
   {
    "duration": 40,
    "start_time": "2025-03-31T22:36:37.197Z"
   },
   {
    "duration": 4,
    "start_time": "2025-03-31T22:36:37.239Z"
   },
   {
    "duration": 8,
    "start_time": "2025-03-31T22:36:37.244Z"
   },
   {
    "duration": 4,
    "start_time": "2025-03-31T22:36:37.253Z"
   },
   {
    "duration": 5,
    "start_time": "2025-03-31T22:36:37.258Z"
   },
   {
    "duration": 5,
    "start_time": "2025-03-31T22:36:37.264Z"
   },
   {
    "duration": 71,
    "start_time": "2025-03-31T22:36:37.270Z"
   },
   {
    "duration": 56,
    "start_time": "2025-03-31T22:36:37.343Z"
   },
   {
    "duration": 4,
    "start_time": "2025-03-31T22:36:37.401Z"
   },
   {
    "duration": 50,
    "start_time": "2025-03-31T22:36:37.408Z"
   },
   {
    "duration": 32,
    "start_time": "2025-03-31T22:36:37.460Z"
   },
   {
    "duration": 18,
    "start_time": "2025-03-31T22:36:37.493Z"
   },
   {
    "duration": 8,
    "start_time": "2025-03-31T22:36:37.513Z"
   },
   {
    "duration": 17,
    "start_time": "2025-03-31T22:36:37.523Z"
   },
   {
    "duration": 9,
    "start_time": "2025-03-31T22:36:37.542Z"
   },
   {
    "duration": 4,
    "start_time": "2025-03-31T22:36:37.552Z"
   },
   {
    "duration": 19,
    "start_time": "2025-03-31T22:36:37.558Z"
   },
   {
    "duration": 17,
    "start_time": "2025-03-31T22:37:24.781Z"
   },
   {
    "duration": 17,
    "start_time": "2025-03-31T22:37:31.202Z"
   },
   {
    "duration": 352,
    "start_time": "2025-03-31T22:37:45.594Z"
   },
   {
    "duration": 123,
    "start_time": "2025-03-31T22:37:45.948Z"
   },
   {
    "duration": 15,
    "start_time": "2025-03-31T22:37:46.073Z"
   },
   {
    "duration": 17,
    "start_time": "2025-03-31T22:37:46.090Z"
   },
   {
    "duration": 3,
    "start_time": "2025-03-31T22:37:46.109Z"
   },
   {
    "duration": 23,
    "start_time": "2025-03-31T22:37:46.113Z"
   },
   {
    "duration": 23,
    "start_time": "2025-03-31T22:37:46.138Z"
   },
   {
    "duration": 27,
    "start_time": "2025-03-31T22:37:46.162Z"
   },
   {
    "duration": 9,
    "start_time": "2025-03-31T22:37:46.190Z"
   },
   {
    "duration": 34,
    "start_time": "2025-03-31T22:37:46.202Z"
   },
   {
    "duration": 14,
    "start_time": "2025-03-31T22:37:46.238Z"
   },
   {
    "duration": 190,
    "start_time": "2025-03-31T22:37:46.253Z"
   },
   {
    "duration": 186,
    "start_time": "2025-03-31T22:37:46.444Z"
   },
   {
    "duration": 16,
    "start_time": "2025-03-31T22:37:46.634Z"
   },
   {
    "duration": 27,
    "start_time": "2025-03-31T22:37:46.651Z"
   },
   {
    "duration": 67,
    "start_time": "2025-03-31T22:37:46.680Z"
   },
   {
    "duration": 35,
    "start_time": "2025-03-31T22:37:46.748Z"
   },
   {
    "duration": 7,
    "start_time": "2025-03-31T22:37:46.785Z"
   },
   {
    "duration": 5,
    "start_time": "2025-03-31T22:37:46.793Z"
   },
   {
    "duration": 37,
    "start_time": "2025-03-31T22:37:46.800Z"
   },
   {
    "duration": 8,
    "start_time": "2025-03-31T22:37:46.839Z"
   },
   {
    "duration": 11,
    "start_time": "2025-03-31T22:37:46.849Z"
   },
   {
    "duration": 5,
    "start_time": "2025-03-31T22:37:46.862Z"
   },
   {
    "duration": 7,
    "start_time": "2025-03-31T22:37:46.869Z"
   },
   {
    "duration": 24,
    "start_time": "2025-03-31T22:37:46.878Z"
   },
   {
    "duration": 58,
    "start_time": "2025-03-31T22:37:46.936Z"
   },
   {
    "duration": 4,
    "start_time": "2025-03-31T22:37:46.996Z"
   },
   {
    "duration": 49,
    "start_time": "2025-03-31T22:37:47.003Z"
   },
   {
    "duration": 19,
    "start_time": "2025-03-31T22:37:47.054Z"
   },
   {
    "duration": 17,
    "start_time": "2025-03-31T22:37:47.075Z"
   },
   {
    "duration": 8,
    "start_time": "2025-03-31T22:37:47.093Z"
   },
   {
    "duration": 9,
    "start_time": "2025-03-31T22:37:47.136Z"
   },
   {
    "duration": 7,
    "start_time": "2025-03-31T22:37:47.146Z"
   },
   {
    "duration": 5,
    "start_time": "2025-03-31T22:37:47.154Z"
   },
   {
    "duration": 19,
    "start_time": "2025-03-31T22:37:47.160Z"
   },
   {
    "duration": 63,
    "start_time": "2025-03-31T22:39:56.795Z"
   },
   {
    "duration": 7,
    "start_time": "2025-03-31T22:40:14.880Z"
   },
   {
    "duration": 3,
    "start_time": "2025-03-31T22:41:28.961Z"
   },
   {
    "duration": 2,
    "start_time": "2025-03-31T22:41:34.862Z"
   },
   {
    "duration": 17,
    "start_time": "2025-03-31T22:41:56.933Z"
   },
   {
    "duration": 6,
    "start_time": "2025-03-31T22:42:08.777Z"
   },
   {
    "duration": 6,
    "start_time": "2025-03-31T22:42:14.023Z"
   },
   {
    "duration": 420,
    "start_time": "2025-03-31T22:42:23.017Z"
   },
   {
    "duration": 81,
    "start_time": "2025-03-31T22:42:23.439Z"
   },
   {
    "duration": 15,
    "start_time": "2025-03-31T22:42:23.521Z"
   },
   {
    "duration": 20,
    "start_time": "2025-03-31T22:42:23.538Z"
   },
   {
    "duration": 3,
    "start_time": "2025-03-31T22:42:23.560Z"
   },
   {
    "duration": 4,
    "start_time": "2025-03-31T22:42:23.564Z"
   },
   {
    "duration": 12,
    "start_time": "2025-03-31T22:42:23.570Z"
   },
   {
    "duration": 58,
    "start_time": "2025-03-31T22:42:23.584Z"
   },
   {
    "duration": 25,
    "start_time": "2025-03-31T22:42:23.643Z"
   },
   {
    "duration": 92,
    "start_time": "2025-03-31T22:42:23.670Z"
   },
   {
    "duration": 13,
    "start_time": "2025-03-31T22:42:23.764Z"
   },
   {
    "duration": 172,
    "start_time": "2025-03-31T22:42:23.778Z"
   },
   {
    "duration": 177,
    "start_time": "2025-03-31T22:42:23.951Z"
   },
   {
    "duration": 18,
    "start_time": "2025-03-31T22:42:24.135Z"
   },
   {
    "duration": 34,
    "start_time": "2025-03-31T22:42:24.155Z"
   },
   {
    "duration": 45,
    "start_time": "2025-03-31T22:42:24.190Z"
   },
   {
    "duration": 33,
    "start_time": "2025-03-31T22:42:24.237Z"
   },
   {
    "duration": 6,
    "start_time": "2025-03-31T22:42:24.272Z"
   },
   {
    "duration": 4,
    "start_time": "2025-03-31T22:42:24.280Z"
   },
   {
    "duration": 7,
    "start_time": "2025-03-31T22:42:24.286Z"
   },
   {
    "duration": 41,
    "start_time": "2025-03-31T22:42:24.294Z"
   },
   {
    "duration": 45,
    "start_time": "2025-03-31T22:42:24.337Z"
   },
   {
    "duration": 13,
    "start_time": "2025-03-31T22:42:24.384Z"
   },
   {
    "duration": 6,
    "start_time": "2025-03-31T22:42:24.398Z"
   },
   {
    "duration": 31,
    "start_time": "2025-03-31T22:42:24.405Z"
   },
   {
    "duration": 55,
    "start_time": "2025-03-31T22:42:24.438Z"
   },
   {
    "duration": 5,
    "start_time": "2025-03-31T22:42:24.495Z"
   },
   {
    "duration": 51,
    "start_time": "2025-03-31T22:42:24.502Z"
   },
   {
    "duration": 7,
    "start_time": "2025-03-31T22:42:24.555Z"
   },
   {
    "duration": 17,
    "start_time": "2025-03-31T22:42:24.564Z"
   },
   {
    "duration": 3,
    "start_time": "2025-03-31T22:42:24.582Z"
   },
   {
    "duration": 49,
    "start_time": "2025-03-31T22:42:24.587Z"
   },
   {
    "duration": 9,
    "start_time": "2025-03-31T22:42:24.638Z"
   },
   {
    "duration": 20,
    "start_time": "2025-03-31T22:42:24.648Z"
   },
   {
    "duration": 89,
    "start_time": "2025-03-31T22:42:24.670Z"
   },
   {
    "duration": 21,
    "start_time": "2025-03-31T22:42:24.761Z"
   },
   {
    "duration": 16,
    "start_time": "2025-03-31T22:42:46.360Z"
   },
   {
    "duration": 9,
    "start_time": "2025-03-31T22:44:27.896Z"
   },
   {
    "duration": 9,
    "start_time": "2025-03-31T22:46:55.522Z"
   },
   {
    "duration": 6,
    "start_time": "2025-03-31T22:49:36.777Z"
   },
   {
    "duration": 374,
    "start_time": "2025-03-31T22:56:01.075Z"
   },
   {
    "duration": 139,
    "start_time": "2025-03-31T22:56:01.451Z"
   },
   {
    "duration": 17,
    "start_time": "2025-03-31T22:56:01.592Z"
   },
   {
    "duration": 19,
    "start_time": "2025-03-31T22:56:01.611Z"
   },
   {
    "duration": 4,
    "start_time": "2025-03-31T22:56:01.632Z"
   },
   {
    "duration": 9,
    "start_time": "2025-03-31T22:56:01.638Z"
   },
   {
    "duration": 19,
    "start_time": "2025-03-31T22:56:01.649Z"
   },
   {
    "duration": 28,
    "start_time": "2025-03-31T22:56:01.670Z"
   },
   {
    "duration": 39,
    "start_time": "2025-03-31T22:56:01.700Z"
   },
   {
    "duration": 12,
    "start_time": "2025-03-31T22:56:01.744Z"
   },
   {
    "duration": 58,
    "start_time": "2025-03-31T22:56:01.757Z"
   },
   {
    "duration": 167,
    "start_time": "2025-03-31T22:56:01.817Z"
   },
   {
    "duration": 175,
    "start_time": "2025-03-31T22:56:01.986Z"
   },
   {
    "duration": 18,
    "start_time": "2025-03-31T22:56:02.163Z"
   },
   {
    "duration": 59,
    "start_time": "2025-03-31T22:56:02.183Z"
   },
   {
    "duration": 0,
    "start_time": "2025-03-31T22:56:02.244Z"
   },
   {
    "duration": 0,
    "start_time": "2025-03-31T22:56:02.245Z"
   },
   {
    "duration": 0,
    "start_time": "2025-03-31T22:56:02.246Z"
   },
   {
    "duration": 0,
    "start_time": "2025-03-31T22:56:02.247Z"
   },
   {
    "duration": 0,
    "start_time": "2025-03-31T22:56:02.248Z"
   },
   {
    "duration": 0,
    "start_time": "2025-03-31T22:56:02.249Z"
   },
   {
    "duration": 0,
    "start_time": "2025-03-31T22:56:02.250Z"
   },
   {
    "duration": 0,
    "start_time": "2025-03-31T22:56:02.250Z"
   },
   {
    "duration": 0,
    "start_time": "2025-03-31T22:56:02.251Z"
   },
   {
    "duration": 0,
    "start_time": "2025-03-31T22:56:02.252Z"
   },
   {
    "duration": 0,
    "start_time": "2025-03-31T22:56:02.253Z"
   },
   {
    "duration": 0,
    "start_time": "2025-03-31T22:56:02.254Z"
   },
   {
    "duration": 0,
    "start_time": "2025-03-31T22:56:02.255Z"
   },
   {
    "duration": 0,
    "start_time": "2025-03-31T22:56:02.256Z"
   },
   {
    "duration": 0,
    "start_time": "2025-03-31T22:56:02.257Z"
   },
   {
    "duration": 0,
    "start_time": "2025-03-31T22:56:02.258Z"
   },
   {
    "duration": 0,
    "start_time": "2025-03-31T22:56:02.259Z"
   },
   {
    "duration": 0,
    "start_time": "2025-03-31T22:56:02.260Z"
   },
   {
    "duration": 0,
    "start_time": "2025-03-31T22:56:02.261Z"
   },
   {
    "duration": 0,
    "start_time": "2025-03-31T22:56:02.262Z"
   },
   {
    "duration": 0,
    "start_time": "2025-03-31T22:56:02.263Z"
   },
   {
    "duration": 60,
    "start_time": "2025-03-31T23:03:45.059Z"
   },
   {
    "duration": 360,
    "start_time": "2025-03-31T23:03:55.895Z"
   },
   {
    "duration": 237,
    "start_time": "2025-03-31T23:03:56.257Z"
   },
   {
    "duration": 26,
    "start_time": "2025-03-31T23:03:56.496Z"
   },
   {
    "duration": 22,
    "start_time": "2025-03-31T23:03:56.524Z"
   },
   {
    "duration": 3,
    "start_time": "2025-03-31T23:03:56.548Z"
   },
   {
    "duration": 5,
    "start_time": "2025-03-31T23:03:56.553Z"
   },
   {
    "duration": 17,
    "start_time": "2025-03-31T23:03:56.559Z"
   },
   {
    "duration": 69,
    "start_time": "2025-03-31T23:03:56.578Z"
   },
   {
    "duration": 11,
    "start_time": "2025-03-31T23:03:56.649Z"
   },
   {
    "duration": 12,
    "start_time": "2025-03-31T23:03:56.665Z"
   },
   {
    "duration": 15,
    "start_time": "2025-03-31T23:03:56.679Z"
   },
   {
    "duration": 227,
    "start_time": "2025-03-31T23:03:56.695Z"
   },
   {
    "duration": 187,
    "start_time": "2025-03-31T23:03:56.923Z"
   },
   {
    "duration": 25,
    "start_time": "2025-03-31T23:03:57.111Z"
   },
   {
    "duration": 72,
    "start_time": "2025-03-31T23:03:57.138Z"
   },
   {
    "duration": 0,
    "start_time": "2025-03-31T23:03:57.212Z"
   },
   {
    "duration": 0,
    "start_time": "2025-03-31T23:03:57.213Z"
   },
   {
    "duration": 0,
    "start_time": "2025-03-31T23:03:57.214Z"
   },
   {
    "duration": 0,
    "start_time": "2025-03-31T23:03:57.215Z"
   },
   {
    "duration": 0,
    "start_time": "2025-03-31T23:03:57.217Z"
   },
   {
    "duration": 0,
    "start_time": "2025-03-31T23:03:57.217Z"
   },
   {
    "duration": 0,
    "start_time": "2025-03-31T23:03:57.218Z"
   },
   {
    "duration": 0,
    "start_time": "2025-03-31T23:03:57.219Z"
   },
   {
    "duration": 0,
    "start_time": "2025-03-31T23:03:57.220Z"
   },
   {
    "duration": 0,
    "start_time": "2025-03-31T23:03:57.222Z"
   },
   {
    "duration": 0,
    "start_time": "2025-03-31T23:03:57.223Z"
   },
   {
    "duration": 0,
    "start_time": "2025-03-31T23:03:57.224Z"
   },
   {
    "duration": 0,
    "start_time": "2025-03-31T23:03:57.224Z"
   },
   {
    "duration": 0,
    "start_time": "2025-03-31T23:03:57.225Z"
   },
   {
    "duration": 0,
    "start_time": "2025-03-31T23:03:57.226Z"
   },
   {
    "duration": 0,
    "start_time": "2025-03-31T23:03:57.227Z"
   },
   {
    "duration": 0,
    "start_time": "2025-03-31T23:03:57.228Z"
   },
   {
    "duration": 0,
    "start_time": "2025-03-31T23:03:57.230Z"
   },
   {
    "duration": 0,
    "start_time": "2025-03-31T23:03:57.230Z"
   },
   {
    "duration": 0,
    "start_time": "2025-03-31T23:03:57.231Z"
   },
   {
    "duration": 0,
    "start_time": "2025-03-31T23:03:57.232Z"
   },
   {
    "duration": 60,
    "start_time": "2025-03-31T23:04:08.332Z"
   },
   {
    "duration": 24,
    "start_time": "2025-03-31T23:04:39.194Z"
   },
   {
    "duration": 17,
    "start_time": "2025-03-31T23:04:46.043Z"
   },
   {
    "duration": 17,
    "start_time": "2025-03-31T23:04:50.403Z"
   },
   {
    "duration": 8,
    "start_time": "2025-03-31T23:04:55.684Z"
   },
   {
    "duration": 8,
    "start_time": "2025-03-31T23:04:59.096Z"
   },
   {
    "duration": 418,
    "start_time": "2025-03-31T23:05:03.106Z"
   },
   {
    "duration": 110,
    "start_time": "2025-03-31T23:05:03.526Z"
   },
   {
    "duration": 15,
    "start_time": "2025-03-31T23:05:03.638Z"
   },
   {
    "duration": 22,
    "start_time": "2025-03-31T23:05:03.655Z"
   },
   {
    "duration": 3,
    "start_time": "2025-03-31T23:05:03.679Z"
   },
   {
    "duration": 7,
    "start_time": "2025-03-31T23:05:03.683Z"
   },
   {
    "duration": 45,
    "start_time": "2025-03-31T23:05:03.691Z"
   },
   {
    "duration": 27,
    "start_time": "2025-03-31T23:05:03.738Z"
   },
   {
    "duration": 9,
    "start_time": "2025-03-31T23:05:03.767Z"
   },
   {
    "duration": 19,
    "start_time": "2025-03-31T23:05:03.779Z"
   },
   {
    "duration": 42,
    "start_time": "2025-03-31T23:05:03.800Z"
   },
   {
    "duration": 182,
    "start_time": "2025-03-31T23:05:03.843Z"
   },
   {
    "duration": 193,
    "start_time": "2025-03-31T23:05:04.026Z"
   },
   {
    "duration": 24,
    "start_time": "2025-03-31T23:05:04.220Z"
   },
   {
    "duration": 71,
    "start_time": "2025-03-31T23:05:04.245Z"
   },
   {
    "duration": 0,
    "start_time": "2025-03-31T23:05:04.318Z"
   },
   {
    "duration": 0,
    "start_time": "2025-03-31T23:05:04.320Z"
   },
   {
    "duration": 0,
    "start_time": "2025-03-31T23:05:04.321Z"
   },
   {
    "duration": 0,
    "start_time": "2025-03-31T23:05:04.322Z"
   },
   {
    "duration": 0,
    "start_time": "2025-03-31T23:05:04.323Z"
   },
   {
    "duration": 0,
    "start_time": "2025-03-31T23:05:04.324Z"
   },
   {
    "duration": 0,
    "start_time": "2025-03-31T23:05:04.325Z"
   },
   {
    "duration": 0,
    "start_time": "2025-03-31T23:05:04.326Z"
   },
   {
    "duration": 0,
    "start_time": "2025-03-31T23:05:04.327Z"
   },
   {
    "duration": 0,
    "start_time": "2025-03-31T23:05:04.329Z"
   },
   {
    "duration": 0,
    "start_time": "2025-03-31T23:05:04.330Z"
   },
   {
    "duration": 0,
    "start_time": "2025-03-31T23:05:04.331Z"
   },
   {
    "duration": 0,
    "start_time": "2025-03-31T23:05:04.332Z"
   },
   {
    "duration": 0,
    "start_time": "2025-03-31T23:05:04.333Z"
   },
   {
    "duration": 0,
    "start_time": "2025-03-31T23:05:04.334Z"
   },
   {
    "duration": 0,
    "start_time": "2025-03-31T23:05:04.335Z"
   },
   {
    "duration": 0,
    "start_time": "2025-03-31T23:05:04.336Z"
   },
   {
    "duration": 0,
    "start_time": "2025-03-31T23:05:04.337Z"
   },
   {
    "duration": 0,
    "start_time": "2025-03-31T23:05:04.338Z"
   },
   {
    "duration": 0,
    "start_time": "2025-03-31T23:05:04.339Z"
   },
   {
    "duration": 0,
    "start_time": "2025-03-31T23:05:04.340Z"
   },
   {
    "duration": 408,
    "start_time": "2025-03-31T23:05:21.628Z"
   },
   {
    "duration": 848,
    "start_time": "2025-03-31T23:05:22.039Z"
   },
   {
    "duration": 16,
    "start_time": "2025-03-31T23:05:22.889Z"
   },
   {
    "duration": 18,
    "start_time": "2025-03-31T23:05:22.907Z"
   },
   {
    "duration": 5,
    "start_time": "2025-03-31T23:05:22.926Z"
   },
   {
    "duration": 4,
    "start_time": "2025-03-31T23:05:22.935Z"
   },
   {
    "duration": 13,
    "start_time": "2025-03-31T23:05:22.940Z"
   },
   {
    "duration": 25,
    "start_time": "2025-03-31T23:05:22.955Z"
   },
   {
    "duration": 8,
    "start_time": "2025-03-31T23:05:22.981Z"
   },
   {
    "duration": 44,
    "start_time": "2025-03-31T23:05:22.992Z"
   },
   {
    "duration": 13,
    "start_time": "2025-03-31T23:05:23.038Z"
   },
   {
    "duration": 183,
    "start_time": "2025-03-31T23:05:23.053Z"
   },
   {
    "duration": 171,
    "start_time": "2025-03-31T23:05:23.237Z"
   },
   {
    "duration": 26,
    "start_time": "2025-03-31T23:05:23.410Z"
   },
   {
    "duration": 136,
    "start_time": "2025-03-31T23:05:23.438Z"
   },
   {
    "duration": 0,
    "start_time": "2025-03-31T23:05:23.576Z"
   },
   {
    "duration": 0,
    "start_time": "2025-03-31T23:05:23.577Z"
   },
   {
    "duration": 0,
    "start_time": "2025-03-31T23:05:23.578Z"
   },
   {
    "duration": 0,
    "start_time": "2025-03-31T23:05:23.579Z"
   },
   {
    "duration": 0,
    "start_time": "2025-03-31T23:05:23.580Z"
   },
   {
    "duration": 0,
    "start_time": "2025-03-31T23:05:23.581Z"
   },
   {
    "duration": 0,
    "start_time": "2025-03-31T23:05:23.582Z"
   },
   {
    "duration": 0,
    "start_time": "2025-03-31T23:05:23.583Z"
   },
   {
    "duration": 0,
    "start_time": "2025-03-31T23:05:23.584Z"
   },
   {
    "duration": 0,
    "start_time": "2025-03-31T23:05:23.585Z"
   },
   {
    "duration": 0,
    "start_time": "2025-03-31T23:05:23.586Z"
   },
   {
    "duration": 0,
    "start_time": "2025-03-31T23:05:23.587Z"
   },
   {
    "duration": 0,
    "start_time": "2025-03-31T23:05:23.588Z"
   },
   {
    "duration": 0,
    "start_time": "2025-03-31T23:05:23.588Z"
   },
   {
    "duration": 0,
    "start_time": "2025-03-31T23:05:23.589Z"
   },
   {
    "duration": 0,
    "start_time": "2025-03-31T23:05:23.590Z"
   },
   {
    "duration": 0,
    "start_time": "2025-03-31T23:05:23.591Z"
   },
   {
    "duration": 0,
    "start_time": "2025-03-31T23:05:23.592Z"
   },
   {
    "duration": 0,
    "start_time": "2025-03-31T23:05:23.593Z"
   },
   {
    "duration": 0,
    "start_time": "2025-03-31T23:05:23.594Z"
   },
   {
    "duration": 0,
    "start_time": "2025-03-31T23:05:23.595Z"
   },
   {
    "duration": 387,
    "start_time": "2025-03-31T23:06:17.463Z"
   },
   {
    "duration": 169,
    "start_time": "2025-03-31T23:06:17.851Z"
   },
   {
    "duration": 17,
    "start_time": "2025-03-31T23:06:18.022Z"
   },
   {
    "duration": 19,
    "start_time": "2025-03-31T23:06:18.040Z"
   },
   {
    "duration": 3,
    "start_time": "2025-03-31T23:06:18.061Z"
   },
   {
    "duration": 4,
    "start_time": "2025-03-31T23:06:18.065Z"
   },
   {
    "duration": 14,
    "start_time": "2025-03-31T23:06:18.070Z"
   },
   {
    "duration": 62,
    "start_time": "2025-03-31T23:06:18.085Z"
   },
   {
    "duration": 9,
    "start_time": "2025-03-31T23:06:18.149Z"
   },
   {
    "duration": 11,
    "start_time": "2025-03-31T23:06:18.161Z"
   },
   {
    "duration": 13,
    "start_time": "2025-03-31T23:06:18.174Z"
   },
   {
    "duration": 208,
    "start_time": "2025-03-31T23:06:18.189Z"
   },
   {
    "duration": 179,
    "start_time": "2025-03-31T23:06:18.398Z"
   },
   {
    "duration": 15,
    "start_time": "2025-03-31T23:06:18.578Z"
   },
   {
    "duration": 8,
    "start_time": "2025-03-31T23:06:18.595Z"
   },
   {
    "duration": 55,
    "start_time": "2025-03-31T23:06:18.605Z"
   },
   {
    "duration": 19,
    "start_time": "2025-03-31T23:06:18.662Z"
   },
   {
    "duration": 34,
    "start_time": "2025-03-31T23:06:18.682Z"
   },
   {
    "duration": 6,
    "start_time": "2025-03-31T23:06:18.736Z"
   },
   {
    "duration": 71,
    "start_time": "2025-03-31T23:06:18.744Z"
   },
   {
    "duration": 4,
    "start_time": "2025-03-31T23:06:18.817Z"
   },
   {
    "duration": 7,
    "start_time": "2025-03-31T23:06:18.822Z"
   },
   {
    "duration": 6,
    "start_time": "2025-03-31T23:06:18.830Z"
   },
   {
    "duration": 6,
    "start_time": "2025-03-31T23:06:18.837Z"
   },
   {
    "duration": 4,
    "start_time": "2025-03-31T23:06:18.845Z"
   },
   {
    "duration": 27,
    "start_time": "2025-03-31T23:06:18.850Z"
   },
   {
    "duration": 89,
    "start_time": "2025-03-31T23:06:18.879Z"
   },
   {
    "duration": 4,
    "start_time": "2025-03-31T23:06:18.971Z"
   },
   {
    "duration": 31,
    "start_time": "2025-03-31T23:06:18.977Z"
   },
   {
    "duration": 37,
    "start_time": "2025-03-31T23:06:19.009Z"
   },
   {
    "duration": 18,
    "start_time": "2025-03-31T23:06:19.048Z"
   },
   {
    "duration": 8,
    "start_time": "2025-03-31T23:06:19.068Z"
   },
   {
    "duration": 8,
    "start_time": "2025-03-31T23:06:19.077Z"
   },
   {
    "duration": 7,
    "start_time": "2025-03-31T23:06:19.086Z"
   },
   {
    "duration": 54,
    "start_time": "2025-03-31T23:06:19.095Z"
   },
   {
    "duration": 7,
    "start_time": "2025-03-31T23:06:49.516Z"
   },
   {
    "duration": 6,
    "start_time": "2025-03-31T23:07:02.132Z"
   },
   {
    "duration": 8,
    "start_time": "2025-03-31T23:07:49.510Z"
   },
   {
    "duration": 9,
    "start_time": "2025-03-31T23:08:33.746Z"
   },
   {
    "duration": 9,
    "start_time": "2025-03-31T23:09:30.708Z"
   },
   {
    "duration": 65,
    "start_time": "2025-03-31T23:25:46.293Z"
   },
   {
    "duration": 141,
    "start_time": "2025-03-31T23:26:22.213Z"
   },
   {
    "duration": 378,
    "start_time": "2025-03-31T23:31:24.051Z"
   },
   {
    "duration": 122,
    "start_time": "2025-03-31T23:31:24.432Z"
   },
   {
    "duration": 15,
    "start_time": "2025-03-31T23:31:24.555Z"
   },
   {
    "duration": 18,
    "start_time": "2025-03-31T23:31:24.572Z"
   },
   {
    "duration": 3,
    "start_time": "2025-03-31T23:31:24.591Z"
   },
   {
    "duration": 17,
    "start_time": "2025-03-31T23:31:24.595Z"
   },
   {
    "duration": 34,
    "start_time": "2025-03-31T23:31:24.613Z"
   },
   {
    "duration": 26,
    "start_time": "2025-03-31T23:31:24.648Z"
   },
   {
    "duration": 8,
    "start_time": "2025-03-31T23:31:24.676Z"
   },
   {
    "duration": 10,
    "start_time": "2025-03-31T23:31:24.687Z"
   },
   {
    "duration": 48,
    "start_time": "2025-03-31T23:31:24.698Z"
   },
   {
    "duration": 181,
    "start_time": "2025-03-31T23:31:24.748Z"
   },
   {
    "duration": 171,
    "start_time": "2025-03-31T23:31:24.934Z"
   },
   {
    "duration": 15,
    "start_time": "2025-03-31T23:31:25.107Z"
   },
   {
    "duration": 7,
    "start_time": "2025-03-31T23:31:25.135Z"
   },
   {
    "duration": 30,
    "start_time": "2025-03-31T23:31:25.144Z"
   },
   {
    "duration": 18,
    "start_time": "2025-03-31T23:31:25.175Z"
   },
   {
    "duration": 60,
    "start_time": "2025-03-31T23:31:25.195Z"
   },
   {
    "duration": 7,
    "start_time": "2025-03-31T23:31:25.256Z"
   },
   {
    "duration": 7,
    "start_time": "2025-03-31T23:31:25.265Z"
   },
   {
    "duration": 4,
    "start_time": "2025-03-31T23:31:25.273Z"
   },
   {
    "duration": 5,
    "start_time": "2025-03-31T23:31:25.279Z"
   },
   {
    "duration": 4,
    "start_time": "2025-03-31T23:31:25.285Z"
   },
   {
    "duration": 48,
    "start_time": "2025-03-31T23:31:25.290Z"
   },
   {
    "duration": 4,
    "start_time": "2025-03-31T23:31:25.339Z"
   },
   {
    "duration": 38,
    "start_time": "2025-03-31T23:31:25.345Z"
   },
   {
    "duration": 85,
    "start_time": "2025-03-31T23:31:25.384Z"
   },
   {
    "duration": 4,
    "start_time": "2025-03-31T23:31:25.472Z"
   },
   {
    "duration": 28,
    "start_time": "2025-03-31T23:31:25.477Z"
   },
   {
    "duration": 36,
    "start_time": "2025-03-31T23:31:25.507Z"
   },
   {
    "duration": 16,
    "start_time": "2025-03-31T23:31:25.545Z"
   },
   {
    "duration": 48,
    "start_time": "2025-03-31T23:31:25.562Z"
   },
   {
    "duration": 7,
    "start_time": "2025-03-31T23:31:25.612Z"
   },
   {
    "duration": 9,
    "start_time": "2025-03-31T23:31:25.620Z"
   },
   {
    "duration": 19,
    "start_time": "2025-03-31T23:31:25.631Z"
   },
   {
    "duration": 49,
    "start_time": "2025-04-09T14:51:23.357Z"
   },
   {
    "duration": 431,
    "start_time": "2025-04-09T14:51:31.323Z"
   },
   {
    "duration": 164,
    "start_time": "2025-04-09T14:51:31.756Z"
   },
   {
    "duration": 18,
    "start_time": "2025-04-09T14:51:31.921Z"
   },
   {
    "duration": 81,
    "start_time": "2025-04-09T14:51:31.940Z"
   },
   {
    "duration": 3,
    "start_time": "2025-04-09T14:51:32.022Z"
   },
   {
    "duration": 29,
    "start_time": "2025-04-09T14:51:32.027Z"
   },
   {
    "duration": 35,
    "start_time": "2025-04-09T14:51:32.058Z"
   },
   {
    "duration": 32,
    "start_time": "2025-04-09T14:51:32.095Z"
   },
   {
    "duration": 11,
    "start_time": "2025-04-09T14:51:32.129Z"
   },
   {
    "duration": 14,
    "start_time": "2025-04-09T14:51:32.144Z"
   },
   {
    "duration": 25,
    "start_time": "2025-04-09T14:51:32.160Z"
   },
   {
    "duration": 210,
    "start_time": "2025-04-09T14:51:32.187Z"
   },
   {
    "duration": 187,
    "start_time": "2025-04-09T14:51:32.403Z"
   },
   {
    "duration": 17,
    "start_time": "2025-04-09T14:51:32.603Z"
   },
   {
    "duration": 10,
    "start_time": "2025-04-09T14:51:32.622Z"
   },
   {
    "duration": 68,
    "start_time": "2025-04-09T14:51:32.633Z"
   },
   {
    "duration": 24,
    "start_time": "2025-04-09T14:51:32.703Z"
   },
   {
    "duration": 50,
    "start_time": "2025-04-09T14:51:32.729Z"
   },
   {
    "duration": 7,
    "start_time": "2025-04-09T14:51:32.781Z"
   },
   {
    "duration": 12,
    "start_time": "2025-04-09T14:51:32.789Z"
   },
   {
    "duration": 7,
    "start_time": "2025-04-09T14:51:32.803Z"
   },
   {
    "duration": 10,
    "start_time": "2025-04-09T14:51:32.812Z"
   },
   {
    "duration": 30,
    "start_time": "2025-04-09T14:51:32.824Z"
   },
   {
    "duration": 27,
    "start_time": "2025-04-09T14:51:32.855Z"
   },
   {
    "duration": 5,
    "start_time": "2025-04-09T14:51:32.884Z"
   },
   {
    "duration": 37,
    "start_time": "2025-04-09T14:51:32.891Z"
   },
   {
    "duration": 155,
    "start_time": "2025-04-09T14:51:32.930Z"
   },
   {
    "duration": 4,
    "start_time": "2025-04-09T14:51:33.090Z"
   },
   {
    "duration": 27,
    "start_time": "2025-04-09T14:51:33.096Z"
   },
   {
    "duration": 19,
    "start_time": "2025-04-09T14:51:33.125Z"
   },
   {
    "duration": 96,
    "start_time": "2025-04-09T14:51:33.146Z"
   },
   {
    "duration": 9,
    "start_time": "2025-04-09T14:51:33.244Z"
   },
   {
    "duration": 30,
    "start_time": "2025-04-09T14:51:33.255Z"
   },
   {
    "duration": 21,
    "start_time": "2025-04-09T14:51:33.287Z"
   },
   {
    "duration": 31,
    "start_time": "2025-04-09T14:51:33.310Z"
   }
  ],
  "colab": {
   "provenance": []
  },
  "kernelspec": {
   "display_name": "Python 3 (ipykernel)",
   "language": "python",
   "name": "python3"
  },
  "language_info": {
   "codemirror_mode": {
    "name": "ipython",
    "version": 3
   },
   "file_extension": ".py",
   "mimetype": "text/x-python",
   "name": "python",
   "nbconvert_exporter": "python",
   "pygments_lexer": "ipython3",
   "version": "3.13.5"
  },
  "toc": {
   "base_numbering": 1,
   "nav_menu": {},
   "number_sections": true,
   "sideBar": true,
   "skip_h1_title": true,
   "title_cell": "Table of Contents",
   "title_sidebar": "Contents",
   "toc_cell": false,
   "toc_position": {},
   "toc_section_display": true,
   "toc_window_display": false
  }
 },
 "nbformat": 4,
 "nbformat_minor": 5
}

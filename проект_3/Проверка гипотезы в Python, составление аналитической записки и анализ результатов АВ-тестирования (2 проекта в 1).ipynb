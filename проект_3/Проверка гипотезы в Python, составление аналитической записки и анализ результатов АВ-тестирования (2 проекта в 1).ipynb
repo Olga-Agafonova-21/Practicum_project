{
 "cells": [
  {
   "cell_type": "markdown",
   "id": "_E41Wr5fqnFT",
   "metadata": {
    "id": "_E41Wr5fqnFT"
   },
   "source": [
    "# Часть 1. Проверка гипотезы в Python и составление аналитической записки"
   ]
  },
  {
   "cell_type": "markdown",
   "id": "e06910dd",
   "metadata": {
    "id": "e06910dd"
   },
   "source": [
    "## Сравнительный анализ среднего времени прослушивания книг пользователями Москвы и Санкт-Петербурга: проверка гипотезы в Python и составление аналитической записки.\n",
    "\n",
    "- Автор: Ольга Агафонова\n",
    "- Дата: 28.06.2025г."
   ]
  },
  {
   "cell_type": "markdown",
   "id": "4149134c",
   "metadata": {
    "id": "4149134c"
   },
   "source": [
    "## Цели и задачи проекта:\n",
    "\n",
    "**Цель проекта** - проверка гипотезы о том, что пользователи из Санкт-Петербурга проводят в среднем больше времени за чтением и прослушиванием книг в приложении, чем пользователи из Москвы. Составление на основе проведенных исследований аналитической записки.\n",
    "\n",
    "**Задачи проекта:**\n",
    "\n",
    "* Загрузка данных и знакомство с ними.\n",
    "* Проверка гипотезы с помощью проведения статистического теста.\n",
    "* Составление аналитической записки.\n"
   ]
  },
  {
   "cell_type": "markdown",
   "id": "728986ea",
   "metadata": {
    "id": "728986ea"
   },
   "source": [
    "## Описание данных\n",
    "\n",
    "В работе будут использованы данные датасета `yandex_knigi_data.csv`, содержащий следующие поля:\n",
    "\n",
    "- `city` - город пользователя;\n",
    "\n",
    "- `puid` - идентификатор пользователя;\n",
    "\n",
    "- `hours` - общее количество часов активности."
   ]
  },
  {
   "cell_type": "markdown",
   "id": "4fecaf95",
   "metadata": {
    "id": "4fecaf95"
   },
   "source": [
    "## Содержимое проекта\n",
    "\n",
    "- Загрузка и обработка данных.\n",
    "- Расчет и сравнение размеров выборок, их статистик и распределений.\n",
    "- Определение типа статистического теста на основе полученных данных для корректной проверки гипотезы.\n",
    "---"
   ]
  },
  {
   "cell_type": "markdown",
   "id": "6f7d21d6",
   "metadata": {
    "id": "6f7d21d6"
   },
   "source": [
    "## 1. Загрузка данных и знакомство с ними\n",
    "\n",
    "Загрузим данные пользователей из Москвы и Санкт-Петербурга c их активностью (суммой часов чтения и прослушивания) из файла `/datasets/yandex_knigi_data.csv`."
   ]
  },
  {
   "cell_type": "code",
   "execution_count": 1,
   "id": "408f9239",
   "metadata": {},
   "outputs": [],
   "source": [
    "# Импортируем необходимые для анализа данных библиотеки и модули:\n",
    "import pandas as pd\n",
    "\n",
    "!pip install matplotlib_venn -q\n",
    "from matplotlib_venn import venn2\n",
    "import matplotlib.pyplot as plt\n",
    "\n",
    "import seaborn as sns\n",
    "\n",
    "import numpy as np\n",
    "\n",
    "from scipy import stats\n",
    "from statsmodels.stats.proportion import proportions_ztest\n",
    "from statsmodels.stats.power import NormalIndPower\n",
    "from statsmodels.stats.proportion import proportion_effectsize\n",
    "import math\n",
    "\n",
    "import warnings\n",
    "warnings.simplefilter(action='ignore')"
   ]
  },
  {
   "cell_type": "code",
   "execution_count": 2,
   "id": "05faf34b",
   "metadata": {
    "id": "05faf34b"
   },
   "outputs": [
    {
     "data": {
      "text/html": [
       "<div>\n",
       "<style scoped>\n",
       "    .dataframe tbody tr th:only-of-type {\n",
       "        vertical-align: middle;\n",
       "    }\n",
       "\n",
       "    .dataframe tbody tr th {\n",
       "        vertical-align: top;\n",
       "    }\n",
       "\n",
       "    .dataframe thead th {\n",
       "        text-align: right;\n",
       "    }\n",
       "</style>\n",
       "<table border=\"1\" class=\"dataframe\">\n",
       "  <thead>\n",
       "    <tr style=\"text-align: right;\">\n",
       "      <th></th>\n",
       "      <th>city</th>\n",
       "      <th>puid</th>\n",
       "      <th>hours</th>\n",
       "    </tr>\n",
       "  </thead>\n",
       "  <tbody>\n",
       "    <tr>\n",
       "      <th>0</th>\n",
       "      <td>Москва</td>\n",
       "      <td>9668</td>\n",
       "      <td>26.167776</td>\n",
       "    </tr>\n",
       "    <tr>\n",
       "      <th>1</th>\n",
       "      <td>Москва</td>\n",
       "      <td>16598</td>\n",
       "      <td>82.111217</td>\n",
       "    </tr>\n",
       "    <tr>\n",
       "      <th>2</th>\n",
       "      <td>Москва</td>\n",
       "      <td>80401</td>\n",
       "      <td>4.656906</td>\n",
       "    </tr>\n",
       "    <tr>\n",
       "      <th>3</th>\n",
       "      <td>Москва</td>\n",
       "      <td>140205</td>\n",
       "      <td>1.840556</td>\n",
       "    </tr>\n",
       "    <tr>\n",
       "      <th>4</th>\n",
       "      <td>Москва</td>\n",
       "      <td>248755</td>\n",
       "      <td>151.326434</td>\n",
       "    </tr>\n",
       "  </tbody>\n",
       "</table>\n",
       "</div>"
      ],
      "text/plain": [
       "     city    puid       hours\n",
       "0  Москва    9668   26.167776\n",
       "1  Москва   16598   82.111217\n",
       "2  Москва   80401    4.656906\n",
       "3  Москва  140205    1.840556\n",
       "4  Москва  248755  151.326434"
      ]
     },
     "execution_count": 2,
     "metadata": {},
     "output_type": "execute_result"
    }
   ],
   "source": [
    "# Считаем и сохраним в датафрейм `knigi` датасет `yandex_knigi_data.csv`. \n",
    "# Выведем на экран первые строки полученного датафрейма.\n",
    "knigi = pd.read_csv('https://code.s3.yandex.net/datasets/yandex_knigi_data.csv', index_col=0)\n",
    "knigi.head()"
   ]
  },
  {
   "cell_type": "code",
   "execution_count": 3,
   "id": "ce87c1db",
   "metadata": {
    "id": "ce87c1db"
   },
   "outputs": [
    {
     "name": "stdout",
     "output_type": "stream",
     "text": [
      "<class 'pandas.core.frame.DataFrame'>\n",
      "Int64Index: 8784 entries, 0 to 8783\n",
      "Data columns (total 3 columns):\n",
      " #   Column  Non-Null Count  Dtype  \n",
      "---  ------  --------------  -----  \n",
      " 0   city    8784 non-null   object \n",
      " 1   puid    8784 non-null   int64  \n",
      " 2   hours   8784 non-null   float64\n",
      "dtypes: float64(1), int64(1), object(1)\n",
      "memory usage: 274.5+ KB\n"
     ]
    }
   ],
   "source": [
    "# Выведем основную информацию о датафрейме `knigi`.\n",
    "knigi.info()"
   ]
  },
  {
   "cell_type": "markdown",
   "id": "6c95acf4",
   "metadata": {},
   "source": [
    "*Полученная информация показывает, что поля датафрейма не содержат пропусков, но необходимо проверить данные столбца `puid` на наличие дубликатов.*"
   ]
  },
  {
   "cell_type": "code",
   "execution_count": 4,
   "id": "4d5e8581",
   "metadata": {},
   "outputs": [
    {
     "name": "stdout",
     "output_type": "stream",
     "text": [
      "Исходное количесвто строк: 8784\n",
      "Количество найденных дубликатов: 488\n",
      "Количесвто строк после удаления дубликатов: 8540\n"
     ]
    }
   ],
   "source": [
    "# Посчитаем количество строк до удаления дубликатов с помощью метода shape[0] и результат сохраним \n",
    "# в переменную initial_row_count:\n",
    "initial_row_count = knigi.shape[0]\n",
    "\n",
    "# В переменной duplicat сохраним найденное количество дубликатов по данному столбцу:\n",
    "duplicat = knigi.loc[knigi.duplicated(subset=['puid'], keep=False)].shape[0]\n",
    "\n",
    "# Отсортируем датафрейм по всем столбцам:\n",
    "sorted_df = knigi.sort_values(by=list(knigi.columns))\n",
    "\n",
    "# Удалим дубликаты:\n",
    "new_df = sorted_df.drop_duplicates(subset=['puid'])\n",
    "\n",
    "# Выведем количество строк после удаления дубликатов:\n",
    "final_df = new_df.shape[0]\n",
    "\n",
    "# Результат выведем на экран:\n",
    "print(f'Исходное количесвто строк: {initial_row_count}')\n",
    "print(f'Количество найденных дубликатов: {duplicat}')\n",
    "print(f'Количесвто строк после удаления дубликатов: {final_df}')"
   ]
  },
  {
   "cell_type": "markdown",
   "id": "19f1317f",
   "metadata": {},
   "source": [
    "***Далее, будем работать с датафреймом `new_df`.***"
   ]
  },
  {
   "cell_type": "markdown",
   "id": "956e82e2",
   "metadata": {
    "id": "956e82e2"
   },
   "source": [
    "## 2. Проверка гипотезы в Python\n",
    "\n",
    "*Гипотеза звучит так: пользователи из Санкт-Петербурга проводят в среднем больше времени за чтением и прослушиванием книг в приложении, чем пользователи из Москвы. Попробуем статистически это доказать, используя одностороннюю проверку гипотезы с двумя выборками:*\n",
    "\n",
    "- ***Нулевая гипотеза H₀:*** *Средняя время активности пользователей в часах в Санкт-Петербурге не больше, чем в Москве.*\n",
    "\n",
    "- ***Альтернативная гипотеза H₁:*** *Средняя активность пользователей в Санкт-Петербурге больше, и это различие статистически значимо.*"
   ]
  },
  {
   "cell_type": "code",
   "execution_count": 5,
   "id": "a3a4b7fb",
   "metadata": {
    "id": "67956690"
   },
   "outputs": [
    {
     "name": "stdout",
     "output_type": "stream",
     "text": [
      "\n",
      "--- Размер групп ---\n",
      "Москва: 6234 пользователей\n",
      "Санкт-Петербург: 2306 пользователей\n",
      "\n",
      "--- Описательные статистики ---\n",
      "Москва:\n",
      "count    6234.000000\n",
      "mean       10.881092\n",
      "std        36.851683\n",
      "min         0.000018\n",
      "25%         0.059903\n",
      "50%         0.924498\n",
      "75%         5.939972\n",
      "max       857.209373\n",
      "Name: hours, dtype: float64\n",
      "Санкт-Петербург:\n",
      "count    2306.000000\n",
      "mean       11.264433\n",
      "std        39.831755\n",
      "min         0.000025\n",
      "25%         0.060173\n",
      "50%         0.875355\n",
      "75%         6.138424\n",
      "max       978.764775\n",
      "Name: hours, dtype: float64\n"
     ]
    }
   ],
   "source": [
    "# Разделим пользователей на две группы по городам:\n",
    "moscow_users = new_df[new_df['city'] == 'Москва']['hours']\n",
    "spb_users = new_df[new_df['city'] == 'Санкт-Петербург']['hours']\n",
    "\n",
    "# Зададим уровень значимости: \n",
    "alpha = 0.05\n",
    "\n",
    "# Выведем результат сравнения размеров групп:\n",
    "print('\\n--- Размер групп ---')\n",
    "print(f'Москва: {len(moscow_users)} пользователей')\n",
    "print(f'Санкт-Петербург: {len(spb_users)} пользователей')\n",
    "\n",
    "# Выведем результат сравнения описательных статистик:\n",
    "print('\\n--- Описательные статистики ---')\n",
    "print('Москва:')\n",
    "print(moscow_users.describe())\n",
    "print('Санкт-Петербург:')\n",
    "print(spb_users.describe())"
   ]
  },
  {
   "cell_type": "code",
   "execution_count": 6,
   "id": "0af08533",
   "metadata": {
    "id": "67956690"
   },
   "outputs": [
    {
     "name": "stdout",
     "output_type": "stream",
     "text": [
      "\n",
      "--- Проверка нормальности ---\n",
      "Москва: p-value = 0.0000 Отвергаем Н0 (данные не нормальны)\n",
      "Cанкт_Петербург: p-value = 0.0000 Отвергаем Н0 (данные не нормальны)\n"
     ]
    }
   ],
   "source": [
    "# Проверим, соответствуют ли выборки нормальному распределению. Для этого выполним тест Шапиро-Уилка. \n",
    "# Cформулируем гипотезы:\n",
    "# - Н0: данные подчиняются нормальному распределению;\n",
    "# - Н1: данные не подчиняются нормальному рапределению.\n",
    "\n",
    "# Для не нормального распределения характерен непараметрический тест.\n",
    "print('\\n--- Проверка нормальности ---')\n",
    "shapiro_moscow = stats.shapiro(moscow_users)\n",
    "shapiro_spb = stats.shapiro(spb_users)\n",
    "print(f'Москва: p-value = {shapiro_moscow.pvalue:.4f}', \n",
    "      'Нельзя отвергнуть Н0 (данные нормальны)' if shapiro_moscow.pvalue > alpha else 'Отвергаем Н0 (данные не нормальны)')\n",
    "print(f'Cанкт_Петербург: p-value = {shapiro_spb.pvalue:.4f}', \n",
    "      'Нельзя отвергнуть Н0 (данные нормальны)' if shapiro_spb.pvalue > alpha else 'Отвергаем Н0 (данные не нормальны)')"
   ]
  },
  {
   "cell_type": "code",
   "execution_count": 7,
   "id": "67956690",
   "metadata": {
    "id": "67956690"
   },
   "outputs": [
    {
     "name": "stdout",
     "output_type": "stream",
     "text": [
      "\n",
      "--- Проверка равенства дисперсий ---\n",
      "Тест Леване: p-value = 0.6679 Нельзя отвергнуть Н0 (дисперсии равны)\n"
     ]
    }
   ],
   "source": [
    "# Проверим равенство выборочных дисперсий перед проведением t-теста с помощью теста Леване.\n",
    "# Сформулируем гипотезы:\n",
    "# - Н0: Дисперсии сравниваемых групп равны;\n",
    "# - Н1: Дисперсии сравниваемых групп не равны.\n",
    "\n",
    "print('\\n--- Проверка равенства дисперсий ---')\n",
    "levene_test = stats.levene(moscow_users, spb_users)\n",
    "print(f'Тест Леване: p-value = {levene_test.pvalue:.4f}', \n",
    "      'Нельзя отвергнуть Н0 (дисперсии равны)' if levene_test.pvalue > alpha else 'Отвергаем Н0 (дисперсии разные)')"
   ]
  },
  {
   "cell_type": "markdown",
   "id": "00e13505",
   "metadata": {},
   "source": [
    "*Исходя из полученных статистик, отметим, что группа пользователей из Москвы, пользующихся приложением, по количеству превышает в 2,7 раза группу из Санкт-Петербурга. Также, обратим внимание, что максимальное время прослушивания аудиокниги (или чтения книги в приложении) пользователем были зафиксированы в Санкт-Петербурге. Представим визуально распределение осовного количества времени, проведенного пользователями Москвы и Санкт-Петербурга в приложении.*"
   ]
  },
  {
   "cell_type": "code",
   "execution_count": 8,
   "id": "d527390e",
   "metadata": {},
   "outputs": [
    {
     "data": {
      "image/png": "[encoded data removed]",
      "text/plain": [
       "<Figure size 1800x576 with 1 Axes>"
      ]
     },
     "metadata": {
      "needs_background": "light"
     },
     "output_type": "display_data"
    }
   ],
   "source": [
    "# Визуализацию распределения представим в виде гистограммы:\n",
    "plt.figure(figsize=(25, 8))\n",
    "\n",
    "plt.subplot(1, 2 ,1)\n",
    "sns.histplot(data=moscow_users, color='blue', label='Москва', kde=True, stat='density', common_norm=False, alpha=0.5)\n",
    "sns.histplot(data=spb_users, color='orange', label='Cанкт_Петербург', kde=True, stat='density', common_norm=False, alpha=0.5)\n",
    "plt.title('Нормированные гистограммы распределения количества часов', fontsize=14)\n",
    "plt.legend()\n",
    "plt.xlabel('Количество часов прослушивания')\n",
    "plt.ylabel('Плотность распределения')\n",
    "\n",
    "# Определим лимит значений на осях для наглядности гистограммы, \n",
    "# т.к. основные значения расположены, примерно, в этих пределах:\n",
    "\n",
    "plt.tight_layout()\n",
    "plt.show()"
   ]
  },
  {
   "cell_type": "markdown",
   "id": "02496019",
   "metadata": {},
   "source": [
    "*На гистограмме заметны значения по осям Х и Y, которые являются не типичными для основной группы значений и существенно их превышаютю. Вероятней всегоб это выбросы.*"
   ]
  },
  {
   "cell_type": "code",
   "execution_count": 9,
   "id": "f25da27d",
   "metadata": {},
   "outputs": [
    {
     "data": {
      "image/png": "[encoded data removed]",
      "text/plain": [
       "<Figure size 2520x576 with 1 Axes>"
      ]
     },
     "metadata": {
      "needs_background": "light"
     },
     "output_type": "display_data"
    }
   ],
   "source": [
    "plt.figure(figsize=(35, 8))\n",
    "plt.subplot(1, 2, 2)\n",
    "sns.kdeplot(moscow_users, color='blue', label='Москва', fill=True)\n",
    "sns.kdeplot(spb_users, color='orange', label='Санкт-Петербург', fill=True)\n",
    "plt.title('Ядерные оценки плотности (KDE)', fontsize=14)\n",
    "plt.xlabel('Количество часов прослушивания')\n",
    "plt.ylabel('Плотность распределения')\n",
    "plt.legend()\n",
    "\n",
    "plt.show()"
   ]
  },
  {
   "cell_type": "markdown",
   "id": "19c5ef2a",
   "metadata": {},
   "source": [
    "*На графике видно, что пользователи Москвы уделяли чтению и прослушиванию книг в приложение больше времени.*"
   ]
  },
  {
   "cell_type": "markdown",
   "id": "9edab2bb",
   "metadata": {},
   "source": [
    "***Исходя из полученного распределения количества часов на нормированной гистограмме, где явно прослеживаются аномальные значения, в дальнейшем исследовании будем использовать непараметрический тест - U-тест Манна-Уитни, так как он устойчив к выбросам.***"
   ]
  },
  {
   "cell_type": "code",
   "execution_count": 10,
   "id": "4d8dc829",
   "metadata": {},
   "outputs": [
    {
     "name": "stdout",
     "output_type": "stream",
     "text": [
      "\n",
      "Результат U-теста Манна-Уитни:\n",
      "U-статистика = 7157178 - различия между значениями в группах несущественны, p-value = 0.619\n",
      "Нет оснований отвергнуть нулевую гипотезу: различий нет или они не значимы.\n"
     ]
    }
   ],
   "source": [
    "# Проведем двухвыборочный t-тест Манна-Уитни (односторонний: SPB > Moscow):\n",
    "u_stat, p_value = stats.mannwhitneyu(spb_users, moscow_users, alternative='greater')\n",
    "\n",
    "print('\\nРезультат U-теста Манна-Уитни:')\n",
    "print(f'U-статистика = {u_stat:.0f} - различия между значениями в группах несущественны, p-value = {p_value:.3f}')\n",
    "\n",
    "# Выведем результат:\n",
    "if p_value < alpha:\n",
    "    print('Отвергаем нулевую гипотезу: пользователи Санкт-Петербурга значимо больше времени проводят в приложении.')\n",
    "else:\n",
    "    print('Нет оснований отвергнуть нулевую гипотезу: различий нет или они не значимы.')"
   ]
  },
  {
   "cell_type": "markdown",
   "id": "6953e84c",
   "metadata": {
    "id": "6953e84c"
   },
   "source": [
    "## 3. Аналитическая записка\n",
    "По результатам анализа данных составим аналитическую записку, в которой зафиксируем основные моменты:\n",
    "\n",
    "- По предварительным исследованиям определили, что в данном случае наиболее корректно использование U-теста Манна-Уитни при стандартном уровене статистической значимости alpha = 0.05.\n",
    "\n",
    "- Полученное значение p-value = 0.619, а U-статистика Манна-Уитни = 7157178 - это значит, что значения групп пользователей Москвы и Санкт-Петербурга отличаются с минимальной разницей (возможно, пользователи Москвы имеют чуть более высокие значения, что видно на гистограмме).\n",
    "\n",
    "- По результатам теста (p-value = 0.619 > 0.05 (alpha)) пришли к выводу о том, что нет оснований отвергать нулевую гипотезу - нет значимых отличий между средними активностями пользователей Москвы и Санкт-Петербурга.\n",
    "\n",
    "- Причины, объясняющие полученные результаты анализа, возможно могут быть связаны с тем, что пользователи Москвы более платежеспособны, чем пользователи Санкт-Петербурга, исходя из условий, что подписка в приложении платная. Кроме того, можно предположить, что жители культурной столицы предпочитают пользоваться литературой в виде печатных изданий. Возможно, как следствием, может быть и зависимость от возрасной категории и, например, от числа жителей в этих городах (в Москве жителей более чем в два раза больше, чем в Санкт-Петербурге. И процент молодого поколения, предпочитающего прослушивание аудиокниг и чтение книг в электронном виде, соответственно, тоже выше.).\n",
    "\n"
   ]
  },
  {
   "cell_type": "markdown",
   "id": "hc1d6jVISegz",
   "metadata": {
    "id": "hc1d6jVISegz"
   },
   "source": [
    "----"
   ]
  },
  {
   "cell_type": "markdown",
   "id": "NqOUIYhbrIfC",
   "metadata": {
    "id": "NqOUIYhbrIfC"
   },
   "source": [
    "# Часть 2. Анализ результатов A/B-тестирования"
   ]
  },
  {
   "cell_type": "markdown",
   "id": "26d010bf-73ed-4b55-bb7f-b00513d39a17",
   "metadata": {},
   "source": [
    "## Оценка влияния оптимизации приложения BitMotion Kit на конверсию регистраций в покупки с помощью A/B-тестирования."
   ]
  },
  {
   "cell_type": "markdown",
   "id": "UNXAAyF5r9Rk",
   "metadata": {
    "id": "UNXAAyF5r9Rk"
   },
   "source": [
    "## 1. Формулировка цели исследования.\n",
    "\n"
   ]
  },
  {
   "cell_type": "markdown",
   "id": "kHx-51yES8bd",
   "metadata": {
    "id": "kHx-51yES8bd"
   },
   "source": [
    "**Цель работы** - проведение A/B-теста, который позволит проверить гипотезу, что упрощение интерфейса онлайн-магазина BitMotion Kit приведёт к тому, что в течение семи дней после регистрации в системе конверсия зарегистрированных пользователей в покупателей увеличится как минимум на три процентных пункта. Анализ полученных результатов."
   ]
  },
  {
   "cell_type": "markdown",
   "id": "2e205660",
   "metadata": {},
   "source": [
    "### Описание данных.\n",
    "\n",
    "В проекте будут использованы данные из двух датасетов:\n",
    "\n",
    "**`ab_test_participants.csv ` - таблица участников тестов. Содержит следующие поля:**\n",
    "\n",
    "- `user_id` — идентификатор пользователя;\n",
    "- `group` — группа пользователя;\n",
    "- `ab_test` — название теста;\n",
    "- `device` — устройство, с которого происходила регистрация.\n",
    "\n",
    "**`ab_test_events.zip ` - архив с одним csv-файлом, в котором собраны события 2020 года. Структура файла:**\n",
    "\n",
    "- `user_id` — идентификатор пользователя;\n",
    "- `event_dt` — дата и время события;\n",
    "- `event_name` — тип события;\n",
    "- `details` — дополнительные данные о событии. Содержит числовые и текстовые значения.\n"
   ]
  },
  {
   "cell_type": "markdown",
   "id": "_CZryx2OsH-s",
   "metadata": {
    "id": "_CZryx2OsH-s"
   },
   "source": [
    "## 2. Загрузка данных и оценка их целостности.\n"
   ]
  },
  {
   "cell_type": "markdown",
   "id": "76d4dd15",
   "metadata": {},
   "source": [
    "Загрузим данные и проведем их предобработку."
   ]
  },
  {
   "cell_type": "code",
   "execution_count": 11,
   "id": "DjFcJbeGsTIg",
   "metadata": {
    "id": "DjFcJbeGsTIg"
   },
   "outputs": [],
   "source": [
    "# Загрузим данные датасета `ab_test_participants.csv` и сохраним их в датафрейм `participants`:\n",
    "participants = pd.read_csv('https://code.s3.yandex.net/datasets/ab_test_participants.csv')\n",
    "\n",
    "# Загрузим архив датасета `ab_test_events.zip` и сохраним в датафрейм `events`:\n",
    "events = pd.read_csv('https://code.s3.yandex.net/datasets/ab_test_events.zip',\n",
    "                     parse_dates=['event_dt'], low_memory=False)"
   ]
  },
  {
   "cell_type": "code",
   "execution_count": 12,
   "id": "2732c397",
   "metadata": {},
   "outputs": [
    {
     "data": {
      "text/html": [
       "<div>\n",
       "<style scoped>\n",
       "    .dataframe tbody tr th:only-of-type {\n",
       "        vertical-align: middle;\n",
       "    }\n",
       "\n",
       "    .dataframe tbody tr th {\n",
       "        vertical-align: top;\n",
       "    }\n",
       "\n",
       "    .dataframe thead th {\n",
       "        text-align: right;\n",
       "    }\n",
       "</style>\n",
       "<table border=\"1\" class=\"dataframe\">\n",
       "  <thead>\n",
       "    <tr style=\"text-align: right;\">\n",
       "      <th></th>\n",
       "      <th>user_id</th>\n",
       "      <th>group</th>\n",
       "      <th>ab_test</th>\n",
       "      <th>device</th>\n",
       "    </tr>\n",
       "  </thead>\n",
       "  <tbody>\n",
       "    <tr>\n",
       "      <th>0</th>\n",
       "      <td>0002CE61FF2C4011</td>\n",
       "      <td>B</td>\n",
       "      <td>interface_eu_test</td>\n",
       "      <td>Mac</td>\n",
       "    </tr>\n",
       "    <tr>\n",
       "      <th>1</th>\n",
       "      <td>001064FEAAB631A1</td>\n",
       "      <td>B</td>\n",
       "      <td>recommender_system_test</td>\n",
       "      <td>Android</td>\n",
       "    </tr>\n",
       "    <tr>\n",
       "      <th>2</th>\n",
       "      <td>001064FEAAB631A1</td>\n",
       "      <td>A</td>\n",
       "      <td>interface_eu_test</td>\n",
       "      <td>Android</td>\n",
       "    </tr>\n",
       "    <tr>\n",
       "      <th>3</th>\n",
       "      <td>0010A1C096941592</td>\n",
       "      <td>A</td>\n",
       "      <td>recommender_system_test</td>\n",
       "      <td>Android</td>\n",
       "    </tr>\n",
       "    <tr>\n",
       "      <th>4</th>\n",
       "      <td>001E72F50D1C48FA</td>\n",
       "      <td>A</td>\n",
       "      <td>interface_eu_test</td>\n",
       "      <td>Mac</td>\n",
       "    </tr>\n",
       "  </tbody>\n",
       "</table>\n",
       "</div>"
      ],
      "text/plain": [
       "            user_id group                  ab_test   device\n",
       "0  0002CE61FF2C4011     B        interface_eu_test      Mac\n",
       "1  001064FEAAB631A1     B  recommender_system_test  Android\n",
       "2  001064FEAAB631A1     A        interface_eu_test  Android\n",
       "3  0010A1C096941592     A  recommender_system_test  Android\n",
       "4  001E72F50D1C48FA     A        interface_eu_test      Mac"
      ]
     },
     "execution_count": 12,
     "metadata": {},
     "output_type": "execute_result"
    }
   ],
   "source": [
    "# Выведем первые пять строк таблицы `participants` и основную информацию о ней:\n",
    "participants.head()"
   ]
  },
  {
   "cell_type": "code",
   "execution_count": 13,
   "id": "b6992f45",
   "metadata": {},
   "outputs": [
    {
     "name": "stdout",
     "output_type": "stream",
     "text": [
      "<class 'pandas.core.frame.DataFrame'>\n",
      "RangeIndex: 14525 entries, 0 to 14524\n",
      "Data columns (total 4 columns):\n",
      " #   Column   Non-Null Count  Dtype \n",
      "---  ------   --------------  ----- \n",
      " 0   user_id  14525 non-null  object\n",
      " 1   group    14525 non-null  object\n",
      " 2   ab_test  14525 non-null  object\n",
      " 3   device   14525 non-null  object\n",
      "dtypes: object(4)\n",
      "memory usage: 454.0+ KB\n"
     ]
    }
   ],
   "source": [
    "participants.info()"
   ]
  },
  {
   "cell_type": "markdown",
   "id": "260b067a",
   "metadata": {},
   "source": [
    "*В столбцах датафрейма нет пропущенных значений. Проанализируем данные таблицы на наличие дублиткатов.*"
   ]
  },
  {
   "cell_type": "code",
   "execution_count": 14,
   "id": "7f8b827f",
   "metadata": {},
   "outputs": [
    {
     "name": "stdout",
     "output_type": "stream",
     "text": [
      "0\n"
     ]
    }
   ],
   "source": [
    "# Отсортируем все столбцы датафрейма:\n",
    "participants_sorted = participants.sort_values(by=list(participants.columns))\n",
    "\n",
    "# Определим дубликаты в датафрейме `participants` и выведем их количество\n",
    "duplicates = participants_sorted[participants_sorted.duplicated()].shape[0]\n",
    "print(duplicates)"
   ]
  },
  {
   "cell_type": "markdown",
   "id": "c7e620fc",
   "metadata": {},
   "source": [
    "Дублирующие значения в датафрейме `participants` отсутствуют. Рассмотрим датафрейм `events`."
   ]
  },
  {
   "cell_type": "code",
   "execution_count": 15,
   "id": "97506c61",
   "metadata": {},
   "outputs": [
    {
     "data": {
      "text/html": [
       "<div>\n",
       "<style scoped>\n",
       "    .dataframe tbody tr th:only-of-type {\n",
       "        vertical-align: middle;\n",
       "    }\n",
       "\n",
       "    .dataframe tbody tr th {\n",
       "        vertical-align: top;\n",
       "    }\n",
       "\n",
       "    .dataframe thead th {\n",
       "        text-align: right;\n",
       "    }\n",
       "</style>\n",
       "<table border=\"1\" class=\"dataframe\">\n",
       "  <thead>\n",
       "    <tr style=\"text-align: right;\">\n",
       "      <th></th>\n",
       "      <th>user_id</th>\n",
       "      <th>event_dt</th>\n",
       "      <th>event_name</th>\n",
       "      <th>details</th>\n",
       "    </tr>\n",
       "  </thead>\n",
       "  <tbody>\n",
       "    <tr>\n",
       "      <th>0</th>\n",
       "      <td>GLOBAL</td>\n",
       "      <td>2020-12-01 00:00:00</td>\n",
       "      <td>End of Black Friday Ads Campaign</td>\n",
       "      <td>ZONE_CODE15</td>\n",
       "    </tr>\n",
       "    <tr>\n",
       "      <th>1</th>\n",
       "      <td>CCBE9E7E99F94A08</td>\n",
       "      <td>2020-12-01 00:00:11</td>\n",
       "      <td>registration</td>\n",
       "      <td>0.0</td>\n",
       "    </tr>\n",
       "    <tr>\n",
       "      <th>2</th>\n",
       "      <td>GLOBAL</td>\n",
       "      <td>2020-12-01 00:00:25</td>\n",
       "      <td>product_page</td>\n",
       "      <td>NaN</td>\n",
       "    </tr>\n",
       "    <tr>\n",
       "      <th>3</th>\n",
       "      <td>CCBE9E7E99F94A08</td>\n",
       "      <td>2020-12-01 00:00:33</td>\n",
       "      <td>login</td>\n",
       "      <td>NaN</td>\n",
       "    </tr>\n",
       "    <tr>\n",
       "      <th>4</th>\n",
       "      <td>CCBE9E7E99F94A08</td>\n",
       "      <td>2020-12-01 00:00:52</td>\n",
       "      <td>product_page</td>\n",
       "      <td>NaN</td>\n",
       "    </tr>\n",
       "    <tr>\n",
       "      <th>5</th>\n",
       "      <td>AA346F4D22148024</td>\n",
       "      <td>2020-12-01 00:01:46</td>\n",
       "      <td>registration</td>\n",
       "      <td>-2.0</td>\n",
       "    </tr>\n",
       "    <tr>\n",
       "      <th>6</th>\n",
       "      <td>7EF01D0E72AF449D</td>\n",
       "      <td>2020-12-01 00:02:06</td>\n",
       "      <td>registration</td>\n",
       "      <td>-5.0</td>\n",
       "    </tr>\n",
       "    <tr>\n",
       "      <th>7</th>\n",
       "      <td>9A6276AD14B14252</td>\n",
       "      <td>2020-12-01 00:02:20</td>\n",
       "      <td>registration</td>\n",
       "      <td>-2.0</td>\n",
       "    </tr>\n",
       "    <tr>\n",
       "      <th>8</th>\n",
       "      <td>9B186A3B1A995D36</td>\n",
       "      <td>2020-12-01 00:02:37</td>\n",
       "      <td>registration</td>\n",
       "      <td>-3.5</td>\n",
       "    </tr>\n",
       "    <tr>\n",
       "      <th>9</th>\n",
       "      <td>9A6276AD14B14252</td>\n",
       "      <td>2020-12-01 00:02:53</td>\n",
       "      <td>login</td>\n",
       "      <td>NaN</td>\n",
       "    </tr>\n",
       "    <tr>\n",
       "      <th>10</th>\n",
       "      <td>9A6276AD14B14252</td>\n",
       "      <td>2020-12-01 00:03:00</td>\n",
       "      <td>product_page</td>\n",
       "      <td>NaN</td>\n",
       "    </tr>\n",
       "    <tr>\n",
       "      <th>11</th>\n",
       "      <td>GLOBAL</td>\n",
       "      <td>2020-12-01 00:03:02</td>\n",
       "      <td>product_page</td>\n",
       "      <td>NaN</td>\n",
       "    </tr>\n",
       "    <tr>\n",
       "      <th>12</th>\n",
       "      <td>GLOBAL</td>\n",
       "      <td>2020-12-01 00:03:13</td>\n",
       "      <td>product_page</td>\n",
       "      <td>NaN</td>\n",
       "    </tr>\n",
       "    <tr>\n",
       "      <th>13</th>\n",
       "      <td>099E67CE8BA24E60</td>\n",
       "      <td>2020-12-01 00:03:25</td>\n",
       "      <td>registration</td>\n",
       "      <td>-3.5</td>\n",
       "    </tr>\n",
       "    <tr>\n",
       "      <th>14</th>\n",
       "      <td>099E67CE8BA24E60</td>\n",
       "      <td>2020-12-01 00:03:25</td>\n",
       "      <td>login</td>\n",
       "      <td>NaN</td>\n",
       "    </tr>\n",
       "    <tr>\n",
       "      <th>15</th>\n",
       "      <td>099E67CE8BA24E60</td>\n",
       "      <td>2020-12-01 00:03:26</td>\n",
       "      <td>login</td>\n",
       "      <td>NaN</td>\n",
       "    </tr>\n",
       "    <tr>\n",
       "      <th>16</th>\n",
       "      <td>7C9CB249549D4A28</td>\n",
       "      <td>2020-12-01 00:03:31</td>\n",
       "      <td>product_page</td>\n",
       "      <td>NaN</td>\n",
       "    </tr>\n",
       "    <tr>\n",
       "      <th>17</th>\n",
       "      <td>7C9CB249549D4A28</td>\n",
       "      <td>2020-12-01 00:03:31</td>\n",
       "      <td>registration</td>\n",
       "      <td>-1.5</td>\n",
       "    </tr>\n",
       "    <tr>\n",
       "      <th>18</th>\n",
       "      <td>787935A6C58F412C</td>\n",
       "      <td>2020-12-01 00:03:34</td>\n",
       "      <td>registration</td>\n",
       "      <td>-0.5</td>\n",
       "    </tr>\n",
       "    <tr>\n",
       "      <th>19</th>\n",
       "      <td>55AD4D0BC7444DFB</td>\n",
       "      <td>2020-12-01 00:03:41</td>\n",
       "      <td>registration</td>\n",
       "      <td>-0.5</td>\n",
       "    </tr>\n",
       "    <tr>\n",
       "      <th>20</th>\n",
       "      <td>8C65B5BD80CA2185</td>\n",
       "      <td>2020-12-01 00:04:10</td>\n",
       "      <td>registration</td>\n",
       "      <td>-2.5</td>\n",
       "    </tr>\n",
       "    <tr>\n",
       "      <th>21</th>\n",
       "      <td>8C65B5BD80CA2185</td>\n",
       "      <td>2020-12-01 00:04:11</td>\n",
       "      <td>login</td>\n",
       "      <td>NaN</td>\n",
       "    </tr>\n",
       "    <tr>\n",
       "      <th>22</th>\n",
       "      <td>8C65B5BD80CA2185</td>\n",
       "      <td>2020-12-01 00:04:24</td>\n",
       "      <td>login</td>\n",
       "      <td>NaN</td>\n",
       "    </tr>\n",
       "    <tr>\n",
       "      <th>23</th>\n",
       "      <td>CCBE9E7E99F94A08</td>\n",
       "      <td>2020-12-01 00:04:45</td>\n",
       "      <td>product_page</td>\n",
       "      <td>NaN</td>\n",
       "    </tr>\n",
       "    <tr>\n",
       "      <th>24</th>\n",
       "      <td>9A6276AD14B14252</td>\n",
       "      <td>2020-12-01 00:04:53</td>\n",
       "      <td>product_page</td>\n",
       "      <td>NaN</td>\n",
       "    </tr>\n",
       "    <tr>\n",
       "      <th>25</th>\n",
       "      <td>099E67CE8BA24E60</td>\n",
       "      <td>2020-12-01 00:05:09</td>\n",
       "      <td>login</td>\n",
       "      <td>NaN</td>\n",
       "    </tr>\n",
       "    <tr>\n",
       "      <th>26</th>\n",
       "      <td>C093A97367D34301</td>\n",
       "      <td>2020-12-01 00:05:12</td>\n",
       "      <td>registration</td>\n",
       "      <td>-0.5</td>\n",
       "    </tr>\n",
       "    <tr>\n",
       "      <th>27</th>\n",
       "      <td>C093A97367D34301</td>\n",
       "      <td>2020-12-01 00:05:14</td>\n",
       "      <td>login</td>\n",
       "      <td>NaN</td>\n",
       "    </tr>\n",
       "    <tr>\n",
       "      <th>28</th>\n",
       "      <td>31847A9705784D53</td>\n",
       "      <td>2020-12-01 00:05:16</td>\n",
       "      <td>registration</td>\n",
       "      <td>-5.0</td>\n",
       "    </tr>\n",
       "    <tr>\n",
       "      <th>29</th>\n",
       "      <td>AF71249752B0486E</td>\n",
       "      <td>2020-12-01 00:05:20</td>\n",
       "      <td>registration</td>\n",
       "      <td>0.0</td>\n",
       "    </tr>\n",
       "  </tbody>\n",
       "</table>\n",
       "</div>"
      ],
      "text/plain": [
       "             user_id            event_dt                        event_name  \\\n",
       "0             GLOBAL 2020-12-01 00:00:00  End of Black Friday Ads Campaign   \n",
       "1   CCBE9E7E99F94A08 2020-12-01 00:00:11                      registration   \n",
       "2             GLOBAL 2020-12-01 00:00:25                      product_page   \n",
       "3   CCBE9E7E99F94A08 2020-12-01 00:00:33                             login   \n",
       "4   CCBE9E7E99F94A08 2020-12-01 00:00:52                      product_page   \n",
       "5   AA346F4D22148024 2020-12-01 00:01:46                      registration   \n",
       "6   7EF01D0E72AF449D 2020-12-01 00:02:06                      registration   \n",
       "7   9A6276AD14B14252 2020-12-01 00:02:20                      registration   \n",
       "8   9B186A3B1A995D36 2020-12-01 00:02:37                      registration   \n",
       "9   9A6276AD14B14252 2020-12-01 00:02:53                             login   \n",
       "10  9A6276AD14B14252 2020-12-01 00:03:00                      product_page   \n",
       "11            GLOBAL 2020-12-01 00:03:02                      product_page   \n",
       "12            GLOBAL 2020-12-01 00:03:13                      product_page   \n",
       "13  099E67CE8BA24E60 2020-12-01 00:03:25                      registration   \n",
       "14  099E67CE8BA24E60 2020-12-01 00:03:25                             login   \n",
       "15  099E67CE8BA24E60 2020-12-01 00:03:26                             login   \n",
       "16  7C9CB249549D4A28 2020-12-01 00:03:31                      product_page   \n",
       "17  7C9CB249549D4A28 2020-12-01 00:03:31                      registration   \n",
       "18  787935A6C58F412C 2020-12-01 00:03:34                      registration   \n",
       "19  55AD4D0BC7444DFB 2020-12-01 00:03:41                      registration   \n",
       "20  8C65B5BD80CA2185 2020-12-01 00:04:10                      registration   \n",
       "21  8C65B5BD80CA2185 2020-12-01 00:04:11                             login   \n",
       "22  8C65B5BD80CA2185 2020-12-01 00:04:24                             login   \n",
       "23  CCBE9E7E99F94A08 2020-12-01 00:04:45                      product_page   \n",
       "24  9A6276AD14B14252 2020-12-01 00:04:53                      product_page   \n",
       "25  099E67CE8BA24E60 2020-12-01 00:05:09                             login   \n",
       "26  C093A97367D34301 2020-12-01 00:05:12                      registration   \n",
       "27  C093A97367D34301 2020-12-01 00:05:14                             login   \n",
       "28  31847A9705784D53 2020-12-01 00:05:16                      registration   \n",
       "29  AF71249752B0486E 2020-12-01 00:05:20                      registration   \n",
       "\n",
       "        details  \n",
       "0   ZONE_CODE15  \n",
       "1           0.0  \n",
       "2           NaN  \n",
       "3           NaN  \n",
       "4           NaN  \n",
       "5          -2.0  \n",
       "6          -5.0  \n",
       "7          -2.0  \n",
       "8          -3.5  \n",
       "9           NaN  \n",
       "10          NaN  \n",
       "11          NaN  \n",
       "12          NaN  \n",
       "13         -3.5  \n",
       "14          NaN  \n",
       "15          NaN  \n",
       "16          NaN  \n",
       "17         -1.5  \n",
       "18         -0.5  \n",
       "19         -0.5  \n",
       "20         -2.5  \n",
       "21          NaN  \n",
       "22          NaN  \n",
       "23          NaN  \n",
       "24          NaN  \n",
       "25          NaN  \n",
       "26         -0.5  \n",
       "27          NaN  \n",
       "28         -5.0  \n",
       "29          0.0  "
      ]
     },
     "execution_count": 15,
     "metadata": {},
     "output_type": "execute_result"
    }
   ],
   "source": [
    "# Выведем первые 30 строк (для детального анализа содержимого столбцов) датафрейма `events` и основную информацию о его данных:\n",
    "events.head(30)"
   ]
  },
  {
   "cell_type": "code",
   "execution_count": 16,
   "id": "c53af755",
   "metadata": {},
   "outputs": [
    {
     "name": "stdout",
     "output_type": "stream",
     "text": [
      "<class 'pandas.core.frame.DataFrame'>\n",
      "RangeIndex: 787286 entries, 0 to 787285\n",
      "Data columns (total 4 columns):\n",
      " #   Column      Non-Null Count   Dtype         \n",
      "---  ------      --------------   -----         \n",
      " 0   user_id     787286 non-null  object        \n",
      " 1   event_dt    787286 non-null  datetime64[ns]\n",
      " 2   event_name  787286 non-null  object        \n",
      " 3   details     249022 non-null  object        \n",
      "dtypes: datetime64[ns](1), object(3)\n",
      "memory usage: 24.0+ MB\n"
     ]
    }
   ],
   "source": [
    "events.info()"
   ]
  },
  {
   "cell_type": "markdown",
   "id": "51a59113",
   "metadata": {},
   "source": [
    "*Видно, что столбец `details` содержит пропуски. Изучим данные столбца детальнее. Столбец `details` имеет тип данных 'object', он содержит и числовые, и текстовые значения, в которых находится дополнительная информация о событии, например, указана стоимость покупки или стоимость привлечения клиента, а также код и зона события. Не всем пользователям присущи все типы событий, и этот фактор объясняет наличие пропусков в столбце. Учитывая, что столбец содержит дополнительную информацию в таблице и его данные не так значимы, то есть, особо не повлияют на анализ, считаю, что пропуски здесь можно не удалять и не заменять, а оставить как есть.*"
   ]
  },
  {
   "cell_type": "code",
   "execution_count": 17,
   "id": "8f7e1180",
   "metadata": {},
   "outputs": [
    {
     "name": "stdout",
     "output_type": "stream",
     "text": [
      "Количество строк до удаления дубликатов:787286\n",
      "Количество найденных дубликатов:36318\n",
      "Количество строк после удаления дубликатов:750968\n"
     ]
    }
   ],
   "source": [
    "# Посчитаем количество строк до удаления дубликатов с помощью метода shape[0] и результат сохраним \n",
    "# в переменную initial_row_count:\n",
    "initial_row_count = events.shape[0]\n",
    "\n",
    "# Отсортируем датафрейм по всем столбцам:\n",
    "events_sorted = events.sort_values(by=list(events.columns))\n",
    "\n",
    "# Определим количество дубликатов методом duplicated():\n",
    "duplicatess = events_sorted[events_sorted.duplicated()].shape[0]\n",
    "\n",
    "# Проведем удаление дубликатов в переменной events_no_duplicates с помощью метода drop_duplicates():\n",
    "events_no_dupl = events_sorted.drop_duplicates()\n",
    "\n",
    "# Сохраним количество строк после удаления дубликатов в переменной final_row_count:\n",
    "final_row_count = events_no_dupl.shape[0]\n",
    "\n",
    "# Выведем результат:\n",
    "print(f'Количество строк до удаления дубликатов:{initial_row_count}')\n",
    "print(f'Количество найденных дубликатов:{duplicatess}')\n",
    "print(f'Количество строк после удаления дубликатов:{final_row_count}')"
   ]
  },
  {
   "cell_type": "markdown",
   "id": "fcdd07d4",
   "metadata": {},
   "source": [
    "***Далее в работе будем использовать данные датафрейма `events_no_dupl`.***"
   ]
  },
  {
   "cell_type": "markdown",
   "id": "CnzA-efasUrk",
   "metadata": {
    "id": "CnzA-efasUrk"
   },
   "source": [
    "## 3. Оценка корректности проведения теста по таблице `ab_test_participants`:\n",
    "\n",
    "   3\\.1 Выделим пользователей, участвующих в тесте, и проверим:\n",
    "\n",
    "   - соответствие требованиям технического задания,\n",
    "\n",
    "   - равномерность распределения пользователей по группам теста,\n",
    "\n",
    "   - отсутствие пересечений с конкурирующим тестом (нет пользователей, участвующих одновременно в двух тестовых группах)."
   ]
  },
  {
   "cell_type": "code",
   "execution_count": 18,
   "id": "aNa3zHrKslEN",
   "metadata": {
    "id": "aNa3zHrKslEN"
   },
   "outputs": [
    {
     "name": "stdout",
     "output_type": "stream",
     "text": [
      "Всего пользователей в тесте interface_eu_test: 10850\n",
      "Доля от общего числа пользователей: 74.7%\n"
     ]
    }
   ],
   "source": [
    "# Выделим пользователей, учавствующих в тесте 'interface_eu_test':\n",
    "test_users = participants[participants['ab_test'] == 'interface_eu_test'].copy()\n",
    "\n",
    "print(f'Всего пользователей в тесте interface_eu_test: {len(test_users)}')\n",
    "print(f'Доля от общего числа пользователей: {len(test_users)/len(participants):.1%}')"
   ]
  },
  {
   "cell_type": "markdown",
   "id": "991b5813",
   "metadata": {},
   "source": [
    "Проверим данные на соответствие ТЗ и на нормальность распределения пользователей по группам: должно быть две группы А и В c, примерно, одинаковым количеством наблюдений. Пользователи в группах не должны пересекаться."
   ]
  },
  {
   "cell_type": "code",
   "execution_count": 19,
   "id": "2c4a7427",
   "metadata": {},
   "outputs": [
    {
     "name": "stdout",
     "output_type": "stream",
     "text": [
      "group\n",
      "A    5383\n",
      "B    5467\n",
      "Name: user_id, dtype: int64\n"
     ]
    }
   ],
   "source": [
    "# Сохраним в переменной 'uniq_users' количество уникальных пользователей в группах А и В, участвующих в тесте:\n",
    "uniq_users = test_users.groupby('group')['user_id'].nunique()\n",
    "print(uniq_users)"
   ]
  },
  {
   "cell_type": "code",
   "execution_count": 20,
   "id": "e864282f",
   "metadata": {},
   "outputs": [
    {
     "name": "stdout",
     "output_type": "stream",
     "text": [
      "Процентная разница между группами А и В: 1.56%\n"
     ]
    }
   ],
   "source": [
    "# Выведем разницу в количестве пользователей между группами в относительном значении:\n",
    "A = uniq_users['A']\n",
    "B = uniq_users['B']\n",
    "\n",
    "perc_diff = 100 * abs(A - B) / A\n",
    "print(f'Процентная разница между группами А и В: {perc_diff:.2f}%')"
   ]
  },
  {
   "cell_type": "markdown",
   "id": "80d26b06",
   "metadata": {},
   "source": [
    "*Видно, что групп всего две: А (контрольная) и В (тестовая) и они равномерны по числу наблюдений с незначительной разницей всего в 1.56%.*"
   ]
  },
  {
   "cell_type": "markdown",
   "id": "e25622b7",
   "metadata": {},
   "source": [
    "Проверим пересечение пользователей (определим количество пользователей, которые встречаются одновременно в группах A и B) и убедимся, что группы независимы. "
   ]
  },
  {
   "cell_type": "code",
   "execution_count": 21,
   "id": "8c9c87ad",
   "metadata": {},
   "outputs": [
    {
     "name": "stdout",
     "output_type": "stream",
     "text": [
      "Группы А и В полностью независимы - пересечений нет\n"
     ]
    }
   ],
   "source": [
    "# Выведем группы А и В в виде множеств, используя функцию set():\n",
    "group_A = set(test_users[test_users['group'] == 'A']['user_id'])\n",
    "group_B = set(test_users[test_users['group'] == 'B']['user_id'])\n",
    "\n",
    "# Определим пересечение пользователей (одновременное присутствие пользователей в группе А и В):\n",
    "dubll_users = group_A & group_B\n",
    "\n",
    "# Результат:\n",
    "if not dubll_users:\n",
    "    print('Группы А и В полностью независимы - пересечений нет')\n",
    "else:\n",
    "    print(f'Обнаружено {len(dubll_users)} пересекающихся пользователей: {dubll_users}')"
   ]
  },
  {
   "cell_type": "markdown",
   "id": "570ecd88",
   "metadata": {},
   "source": [
    "Представим визуально результат пересечений с помощью диаграммы Венна."
   ]
  },
  {
   "cell_type": "code",
   "execution_count": 22,
   "id": "99b541dd",
   "metadata": {},
   "outputs": [
    {
     "data": {
      "image/png": "[encoded data removed]",
      "text/plain": [
       "<Figure size 864x360 with 1 Axes>"
      ]
     },
     "metadata": {},
     "output_type": "display_data"
    }
   ],
   "source": [
    "# Зададим параметры визуализации:\n",
    "plt.figure(figsize=(12, 5))\n",
    "venn2([group_A, group_B], ('Группа А', 'Группа В'))\n",
    "plt.title('Пересечение пользователей между группами', fontsize=14)\n",
    "plt.show()"
   ]
  },
  {
   "cell_type": "markdown",
   "id": "730d8fcf",
   "metadata": {},
   "source": [
    "***Расчет и график подтверждают, что группы А и В независимы.***"
   ]
  },
  {
   "cell_type": "markdown",
   "id": "ae268ad6",
   "metadata": {},
   "source": [
    "Проанализируем отсутствие пересечений с конкурирующим тестом 'recommender_system_test' (нет пользователей, участвующих одновременно в двух тестовых группах)."
   ]
  },
  {
   "cell_type": "code",
   "execution_count": 23,
   "id": "a3f5a8f7",
   "metadata": {},
   "outputs": [
    {
     "name": "stdout",
     "output_type": "stream",
     "text": [
      "Обнаружено 116 пересекающихся пользователей.\n"
     ]
    }
   ],
   "source": [
    "# Отфильтруем датафрейм по типу теста и группы В, сохраним полученные множества, используя функцию set():\n",
    "test_recom = set(participants[(participants['ab_test'] == 'recommender_system_test') & \n",
    "                              (participants['group'] == 'B')]['user_id'])\n",
    "test_inter = set(participants[(participants['ab_test'] == 'interface_eu_test') & \n",
    "                              (participants['group'] == 'B')]['user_id'])\n",
    "\n",
    "# Определим пересечение пользователей (одновременное присутствие в двух тестовых группах и в двух эспериментах):\n",
    "dubly_users = test_recom & test_inter\n",
    "\n",
    "# Результат:\n",
    "if not dubly_users:\n",
    "    print('Тестовые группы по двум экспериментам полностью независимы - пересечений нет')\n",
    "else:\n",
    "    print(f'Обнаружено {len(dubly_users)} пересекающихся пользователей.')"
   ]
  },
  {
   "cell_type": "markdown",
   "id": "03920fb4",
   "metadata": {},
   "source": [
    "Визуализируем результат пересечения пользователей двух тестовых групп с помощью диаграммы Венна."
   ]
  },
  {
   "cell_type": "code",
   "execution_count": 24,
   "id": "2334570f",
   "metadata": {},
   "outputs": [
    {
     "data": {
      "image/png": "[encoded data removed]",
      "text/plain": [
       "<Figure size 864x360 with 1 Axes>"
      ]
     },
     "metadata": {},
     "output_type": "display_data"
    }
   ],
   "source": [
    "# Зададим параметры визуализации:\n",
    "plt.figure(figsize=(12, 5))\n",
    "venn2([test_recom, test_inter], ('Тест \"recommender_system_test\"', 'Тест \"interface_eu_test\"'))\n",
    "plt.title('Пересечение пользователей между тестовыми группами двух экспериментов', fontsize=14)\n",
    "plt.show()"
   ]
  },
  {
   "cell_type": "markdown",
   "id": "8e5d8558",
   "metadata": {},
   "source": [
    "***По полученным результатам видно, что есть 116 пользователей, которые попали в тестовые группы В обоих  экспериментов. Естественно, это нарушение проведения независимости тестов, результаты которых будут статистически некорректными. Процент \"пересекающихся\" пользователей составляет 1% от общего числа пользователей в тесте \"interface_eu_test\", поэтому удаление таких пользователей особо не повлияет на размер выборки группы В в  эксперименте \"interface_eu_test\".***"
   ]
  },
  {
   "cell_type": "code",
   "execution_count": 25,
   "id": "15601ee9",
   "metadata": {},
   "outputs": [
    {
     "name": "stdout",
     "output_type": "stream",
     "text": [
      "Осталось пользователей: 10734\n"
     ]
    }
   ],
   "source": [
    "# Удалим \"пересекающихся\" пользователей в тестовой группе \"interface_eu_test\":\n",
    "clean_df = test_users[~test_users['user_id'].isin(dubly_users)]\n",
    "print(f'Осталось пользователей: {len(clean_df)}')"
   ]
  },
  {
   "cell_type": "code",
   "execution_count": 26,
   "id": "7b03f560",
   "metadata": {},
   "outputs": [
    {
     "name": "stdout",
     "output_type": "stream",
     "text": [
      "group\n",
      "A    5383\n",
      "B    5351\n",
      "Name: user_id, dtype: int64\n"
     ]
    }
   ],
   "source": [
    "# Проверим распределение количества уникальных пользователей в группах А и В, участвующих в тесте \"interface_eu_test\":\n",
    "clean_users = clean_df.groupby('group')['user_id'].nunique()\n",
    "print(clean_users)"
   ]
  },
  {
   "cell_type": "code",
   "execution_count": 27,
   "id": "2702f4f8",
   "metadata": {},
   "outputs": [
    {
     "name": "stdout",
     "output_type": "stream",
     "text": [
      "Процентная разница между группами А и В: 0.59%\n"
     ]
    }
   ],
   "source": [
    "# Выведем процентную разницу в количестве пользователей между группами:\n",
    "A = clean_users['A']\n",
    "B = clean_users['B']\n",
    "\n",
    "с_perc_diff = 100 * abs(A - B) / A\n",
    "print(f'Процентная разница между группами А и В: {с_perc_diff:.2f}%')"
   ]
  },
  {
   "cell_type": "markdown",
   "id": "90cf2030",
   "metadata": {},
   "source": [
    "***Видно, что удаление \"пересекающихся\" пользователей в тестовой группе \"interface_eu_test\" не повлияло на равномерность распределения значений в группах А и В. Разница в размерах выборок не значима - 1.19%.***"
   ]
  },
  {
   "cell_type": "markdown",
   "id": "GjulgSrlsqUU",
   "metadata": {
    "id": "GjulgSrlsqUU"
   },
   "source": [
    "3\\.2 Проанализируем данные о пользовательской активности по таблице `ab_test_events`:\n",
    "\n",
    "- оставим только события, связанные с участвующими в изучаемом тесте пользователями;"
   ]
  },
  {
   "cell_type": "markdown",
   "id": "4cf6bdf2",
   "metadata": {},
   "source": [
    "Для получения необходимых данных объединим таблицы `clean_df` (уже содержит информацию об уникальных \"непересекающихся\" пользователях из тестовой группы \"interface_eu_test\") и `events_no_dupl` (датафрейм `events` без дубликатов)."
   ]
  },
  {
   "cell_type": "code",
   "execution_count": 28,
   "id": "167c9c6d",
   "metadata": {},
   "outputs": [
    {
     "data": {
      "text/html": [
       "<div>\n",
       "<style scoped>\n",
       "    .dataframe tbody tr th:only-of-type {\n",
       "        vertical-align: middle;\n",
       "    }\n",
       "\n",
       "    .dataframe tbody tr th {\n",
       "        vertical-align: top;\n",
       "    }\n",
       "\n",
       "    .dataframe thead th {\n",
       "        text-align: right;\n",
       "    }\n",
       "</style>\n",
       "<table border=\"1\" class=\"dataframe\">\n",
       "  <thead>\n",
       "    <tr style=\"text-align: right;\">\n",
       "      <th></th>\n",
       "      <th>user_id</th>\n",
       "      <th>group</th>\n",
       "      <th>ab_test</th>\n",
       "      <th>device</th>\n",
       "      <th>event_dt</th>\n",
       "      <th>event_name</th>\n",
       "      <th>details</th>\n",
       "    </tr>\n",
       "  </thead>\n",
       "  <tbody>\n",
       "    <tr>\n",
       "      <th>0</th>\n",
       "      <td>0002CE61FF2C4011</td>\n",
       "      <td>B</td>\n",
       "      <td>interface_eu_test</td>\n",
       "      <td>Mac</td>\n",
       "      <td>2020-12-07 04:37:31</td>\n",
       "      <td>registration</td>\n",
       "      <td>-2.38</td>\n",
       "    </tr>\n",
       "    <tr>\n",
       "      <th>1</th>\n",
       "      <td>0002CE61FF2C4011</td>\n",
       "      <td>B</td>\n",
       "      <td>interface_eu_test</td>\n",
       "      <td>Mac</td>\n",
       "      <td>2020-12-07 04:37:49</td>\n",
       "      <td>login</td>\n",
       "      <td>NaN</td>\n",
       "    </tr>\n",
       "    <tr>\n",
       "      <th>2</th>\n",
       "      <td>0002CE61FF2C4011</td>\n",
       "      <td>B</td>\n",
       "      <td>interface_eu_test</td>\n",
       "      <td>Mac</td>\n",
       "      <td>2020-12-07 04:37:57</td>\n",
       "      <td>login</td>\n",
       "      <td>NaN</td>\n",
       "    </tr>\n",
       "    <tr>\n",
       "      <th>3</th>\n",
       "      <td>0002CE61FF2C4011</td>\n",
       "      <td>B</td>\n",
       "      <td>interface_eu_test</td>\n",
       "      <td>Mac</td>\n",
       "      <td>2020-12-07 04:38:54</td>\n",
       "      <td>login</td>\n",
       "      <td>NaN</td>\n",
       "    </tr>\n",
       "    <tr>\n",
       "      <th>4</th>\n",
       "      <td>0002CE61FF2C4011</td>\n",
       "      <td>B</td>\n",
       "      <td>interface_eu_test</td>\n",
       "      <td>Mac</td>\n",
       "      <td>2020-12-08 22:15:35</td>\n",
       "      <td>login</td>\n",
       "      <td>NaN</td>\n",
       "    </tr>\n",
       "    <tr>\n",
       "      <th>...</th>\n",
       "      <td>...</td>\n",
       "      <td>...</td>\n",
       "      <td>...</td>\n",
       "      <td>...</td>\n",
       "      <td>...</td>\n",
       "      <td>...</td>\n",
       "      <td>...</td>\n",
       "    </tr>\n",
       "    <tr>\n",
       "      <th>72930</th>\n",
       "      <td>FFEFC0E55C1CCD4F</td>\n",
       "      <td>A</td>\n",
       "      <td>interface_eu_test</td>\n",
       "      <td>PC</td>\n",
       "      <td>2020-12-13 23:52:22</td>\n",
       "      <td>login</td>\n",
       "      <td>NaN</td>\n",
       "    </tr>\n",
       "    <tr>\n",
       "      <th>72931</th>\n",
       "      <td>FFEFC0E55C1CCD4F</td>\n",
       "      <td>A</td>\n",
       "      <td>interface_eu_test</td>\n",
       "      <td>PC</td>\n",
       "      <td>2020-12-28 00:29:10</td>\n",
       "      <td>login</td>\n",
       "      <td>NaN</td>\n",
       "    </tr>\n",
       "    <tr>\n",
       "      <th>72932</th>\n",
       "      <td>FFF58BC33966EB51</td>\n",
       "      <td>A</td>\n",
       "      <td>interface_eu_test</td>\n",
       "      <td>Android</td>\n",
       "      <td>2020-12-13 17:37:34</td>\n",
       "      <td>registration</td>\n",
       "      <td>-0.45</td>\n",
       "    </tr>\n",
       "    <tr>\n",
       "      <th>72933</th>\n",
       "      <td>FFF58BC33966EB51</td>\n",
       "      <td>A</td>\n",
       "      <td>interface_eu_test</td>\n",
       "      <td>Android</td>\n",
       "      <td>2020-12-13 17:56:02</td>\n",
       "      <td>login</td>\n",
       "      <td>NaN</td>\n",
       "    </tr>\n",
       "    <tr>\n",
       "      <th>72934</th>\n",
       "      <td>FFF58BC33966EB51</td>\n",
       "      <td>A</td>\n",
       "      <td>interface_eu_test</td>\n",
       "      <td>Android</td>\n",
       "      <td>2020-12-17 03:21:02</td>\n",
       "      <td>login</td>\n",
       "      <td>NaN</td>\n",
       "    </tr>\n",
       "  </tbody>\n",
       "</table>\n",
       "<p>72935 rows × 7 columns</p>\n",
       "</div>"
      ],
      "text/plain": [
       "                user_id group            ab_test   device            event_dt  \\\n",
       "0      0002CE61FF2C4011     B  interface_eu_test      Mac 2020-12-07 04:37:31   \n",
       "1      0002CE61FF2C4011     B  interface_eu_test      Mac 2020-12-07 04:37:49   \n",
       "2      0002CE61FF2C4011     B  interface_eu_test      Mac 2020-12-07 04:37:57   \n",
       "3      0002CE61FF2C4011     B  interface_eu_test      Mac 2020-12-07 04:38:54   \n",
       "4      0002CE61FF2C4011     B  interface_eu_test      Mac 2020-12-08 22:15:35   \n",
       "...                 ...   ...                ...      ...                 ...   \n",
       "72930  FFEFC0E55C1CCD4F     A  interface_eu_test       PC 2020-12-13 23:52:22   \n",
       "72931  FFEFC0E55C1CCD4F     A  interface_eu_test       PC 2020-12-28 00:29:10   \n",
       "72932  FFF58BC33966EB51     A  interface_eu_test  Android 2020-12-13 17:37:34   \n",
       "72933  FFF58BC33966EB51     A  interface_eu_test  Android 2020-12-13 17:56:02   \n",
       "72934  FFF58BC33966EB51     A  interface_eu_test  Android 2020-12-17 03:21:02   \n",
       "\n",
       "         event_name details  \n",
       "0      registration   -2.38  \n",
       "1             login     NaN  \n",
       "2             login     NaN  \n",
       "3             login     NaN  \n",
       "4             login     NaN  \n",
       "...             ...     ...  \n",
       "72930         login     NaN  \n",
       "72931         login     NaN  \n",
       "72932  registration   -0.45  \n",
       "72933         login     NaN  \n",
       "72934         login     NaN  \n",
       "\n",
       "[72935 rows x 7 columns]"
      ]
     },
     "metadata": {},
     "output_type": "display_data"
    }
   ],
   "source": [
    "# Для получения необходимых данных объединим таблицы :\n",
    "total_df = pd.merge(clean_df, events_no_dupl, on='user_id')\n",
    "display(total_df)"
   ]
  },
  {
   "cell_type": "code",
   "execution_count": 29,
   "id": "QMt0Ybo_swDK",
   "metadata": {
    "id": "QMt0Ybo_swDK"
   },
   "outputs": [
    {
     "name": "stdout",
     "output_type": "stream",
     "text": [
      "Всего событий в тестовой группе \"interface_eu_test\": 72935\n",
      "Количество событий пользователей теста: 72935\n",
      "Уникальных пользователей в тесте: 10734\n"
     ]
    }
   ],
   "source": [
    "# Получим список уникальных пользователей, участвующих в тесте \"interface_eu_test\":\n",
    "ev_inter_us = total_df[total_df['ab_test'] == 'interface_eu_test']['user_id'].unique()\n",
    "\n",
    "# Отфильтруем полученные данные, оставляя только события этих пользователей:\n",
    "inter_event = total_df[total_df['user_id'].isin(ev_inter_us)].copy()\n",
    "\n",
    "# Проверим:\n",
    "print(f'Всего событий в тестовой группе \"interface_eu_test\": {len(total_df)}')\n",
    "print(f'Количество событий пользователей теста: {len(inter_event)}')\n",
    "print(f'Уникальных пользователей в тесте: {len(ev_inter_us)}')"
   ]
  },
  {
   "cell_type": "code",
   "execution_count": 30,
   "id": "e0b8931b",
   "metadata": {},
   "outputs": [
    {
     "name": "stdout",
     "output_type": "stream",
     "text": [
      "\n",
      "Распределение событий по типам:\n",
      "     event_name  count   perc\n",
      "0         login  25902  35.51\n",
      "1  product_page  17508  24.00\n",
      "2  registration  10734  14.72\n",
      "3      purchase   9527  13.06\n",
      "4  product_cart   9264  12.70\n"
     ]
    }
   ],
   "source": [
    "# Распределим события по типам:\n",
    "type_events = inter_event['event_name'].value_counts().reset_index()\n",
    "type_events.columns = ['event_name', 'count']\n",
    "type_events['perc'] = round(((type_events['count'] / len(inter_event)) * 100), 2)\n",
    "print('\\nРаспределение событий по типам:')\n",
    "print(type_events)"
   ]
  },
  {
   "cell_type": "markdown",
   "id": "3e6f28da",
   "metadata": {},
   "source": [
    "Представим визуально активность пользователей относительно событий."
   ]
  },
  {
   "cell_type": "code",
   "execution_count": 31,
   "id": "6daac4f8",
   "metadata": {},
   "outputs": [
    {
     "data": {
      "image/png": "[encoded data removed]",
      "text/plain": [
       "<Figure size 864x432 with 1 Axes>"
      ]
     },
     "metadata": {
      "needs_background": "light"
     },
     "output_type": "display_data"
    }
   ],
   "source": [
    "# Построим столбчатую диаграмму:\n",
    "plt.figure(figsize=(12, 6))\n",
    "\n",
    "sns.barplot(data=type_events, x='event_name', y='count')\n",
    "plt.title('Активность пользователей теста \"interface_eu_test\" по событиям', fontsize=14)\n",
    "plt.xlabel('Тип событий')\n",
    "plt.ylabel('Количество пользователей')\n",
    "plt.xticks(rotation=45)\n",
    "plt.show()"
   ]
  },
  {
   "cell_type": "markdown",
   "id": "6a23f5b7",
   "metadata": {},
   "source": [
    "***На графике и по расчетам видно, что лидирующие позиции занимают авторизирующиеся пользователи в количестве 25902 и пользователи, переходящие на страницу продукта - 17508.***"
   ]
  },
  {
   "cell_type": "markdown",
   "id": "fBZ4DC2xswZJ",
   "metadata": {
    "id": "fBZ4DC2xswZJ"
   },
   "source": [
    "- определим горизонт анализа: рассчитаем время (лайфтайм) совершения события пользователем после регистрации и оставим только те события, которые были выполнены в течение первых семи дней с момента регистрации;"
   ]
  },
  {
   "cell_type": "code",
   "execution_count": 32,
   "id": "dcfff703",
   "metadata": {
    "id": "sES4-dKts0Yb"
   },
   "outputs": [],
   "source": [
    "# Определим время регистрации для каждого пользователя:\n",
    "registr_time = total_df[total_df['event_name'] == 'registration'].groupby('user_id')['event_dt'].first()\n",
    "\n",
    "# Объединим полученную таблицу 'registr_time' с основным датафреймом и \n",
    "# выведем время регистрации для каждого события в новом столбце 'registration_time':\n",
    "total_df = total_df.merge(registr_time.rename('registration_time'), on='user_id')"
   ]
  },
  {
   "cell_type": "code",
   "execution_count": 33,
   "id": "sES4-dKts0Yb",
   "metadata": {
    "id": "sES4-dKts0Yb"
   },
   "outputs": [
    {
     "data": {
      "text/html": [
       "<div>\n",
       "<style scoped>\n",
       "    .dataframe tbody tr th:only-of-type {\n",
       "        vertical-align: middle;\n",
       "    }\n",
       "\n",
       "    .dataframe tbody tr th {\n",
       "        vertical-align: top;\n",
       "    }\n",
       "\n",
       "    .dataframe thead th {\n",
       "        text-align: right;\n",
       "    }\n",
       "</style>\n",
       "<table border=\"1\" class=\"dataframe\">\n",
       "  <thead>\n",
       "    <tr style=\"text-align: right;\">\n",
       "      <th></th>\n",
       "      <th>user_id</th>\n",
       "      <th>group</th>\n",
       "      <th>ab_test</th>\n",
       "      <th>device</th>\n",
       "      <th>event_dt</th>\n",
       "      <th>event_name</th>\n",
       "      <th>details</th>\n",
       "      <th>registration_time</th>\n",
       "      <th>days_since_registr</th>\n",
       "    </tr>\n",
       "  </thead>\n",
       "  <tbody>\n",
       "    <tr>\n",
       "      <th>0</th>\n",
       "      <td>0002CE61FF2C4011</td>\n",
       "      <td>B</td>\n",
       "      <td>interface_eu_test</td>\n",
       "      <td>Mac</td>\n",
       "      <td>2020-12-07 04:37:31</td>\n",
       "      <td>registration</td>\n",
       "      <td>-2.38</td>\n",
       "      <td>2020-12-07 04:37:31</td>\n",
       "      <td>0</td>\n",
       "    </tr>\n",
       "    <tr>\n",
       "      <th>1</th>\n",
       "      <td>0002CE61FF2C4011</td>\n",
       "      <td>B</td>\n",
       "      <td>interface_eu_test</td>\n",
       "      <td>Mac</td>\n",
       "      <td>2020-12-07 04:37:49</td>\n",
       "      <td>login</td>\n",
       "      <td>NaN</td>\n",
       "      <td>2020-12-07 04:37:31</td>\n",
       "      <td>0</td>\n",
       "    </tr>\n",
       "    <tr>\n",
       "      <th>2</th>\n",
       "      <td>0002CE61FF2C4011</td>\n",
       "      <td>B</td>\n",
       "      <td>interface_eu_test</td>\n",
       "      <td>Mac</td>\n",
       "      <td>2020-12-07 04:37:57</td>\n",
       "      <td>login</td>\n",
       "      <td>NaN</td>\n",
       "      <td>2020-12-07 04:37:31</td>\n",
       "      <td>0</td>\n",
       "    </tr>\n",
       "    <tr>\n",
       "      <th>3</th>\n",
       "      <td>0002CE61FF2C4011</td>\n",
       "      <td>B</td>\n",
       "      <td>interface_eu_test</td>\n",
       "      <td>Mac</td>\n",
       "      <td>2020-12-07 04:38:54</td>\n",
       "      <td>login</td>\n",
       "      <td>NaN</td>\n",
       "      <td>2020-12-07 04:37:31</td>\n",
       "      <td>0</td>\n",
       "    </tr>\n",
       "    <tr>\n",
       "      <th>4</th>\n",
       "      <td>0002CE61FF2C4011</td>\n",
       "      <td>B</td>\n",
       "      <td>interface_eu_test</td>\n",
       "      <td>Mac</td>\n",
       "      <td>2020-12-08 22:15:35</td>\n",
       "      <td>login</td>\n",
       "      <td>NaN</td>\n",
       "      <td>2020-12-07 04:37:31</td>\n",
       "      <td>2</td>\n",
       "    </tr>\n",
       "    <tr>\n",
       "      <th>...</th>\n",
       "      <td>...</td>\n",
       "      <td>...</td>\n",
       "      <td>...</td>\n",
       "      <td>...</td>\n",
       "      <td>...</td>\n",
       "      <td>...</td>\n",
       "      <td>...</td>\n",
       "      <td>...</td>\n",
       "      <td>...</td>\n",
       "    </tr>\n",
       "    <tr>\n",
       "      <th>72929</th>\n",
       "      <td>FFEFC0E55C1CCD4F</td>\n",
       "      <td>A</td>\n",
       "      <td>interface_eu_test</td>\n",
       "      <td>PC</td>\n",
       "      <td>2020-12-13 23:52:15</td>\n",
       "      <td>registration</td>\n",
       "      <td>0.0</td>\n",
       "      <td>2020-12-13 23:52:15</td>\n",
       "      <td>0</td>\n",
       "    </tr>\n",
       "    <tr>\n",
       "      <th>72930</th>\n",
       "      <td>FFEFC0E55C1CCD4F</td>\n",
       "      <td>A</td>\n",
       "      <td>interface_eu_test</td>\n",
       "      <td>PC</td>\n",
       "      <td>2020-12-13 23:52:22</td>\n",
       "      <td>login</td>\n",
       "      <td>NaN</td>\n",
       "      <td>2020-12-13 23:52:15</td>\n",
       "      <td>0</td>\n",
       "    </tr>\n",
       "    <tr>\n",
       "      <th>72932</th>\n",
       "      <td>FFF58BC33966EB51</td>\n",
       "      <td>A</td>\n",
       "      <td>interface_eu_test</td>\n",
       "      <td>Android</td>\n",
       "      <td>2020-12-13 17:37:34</td>\n",
       "      <td>registration</td>\n",
       "      <td>-0.45</td>\n",
       "      <td>2020-12-13 17:37:34</td>\n",
       "      <td>0</td>\n",
       "    </tr>\n",
       "    <tr>\n",
       "      <th>72933</th>\n",
       "      <td>FFF58BC33966EB51</td>\n",
       "      <td>A</td>\n",
       "      <td>interface_eu_test</td>\n",
       "      <td>Android</td>\n",
       "      <td>2020-12-13 17:56:02</td>\n",
       "      <td>login</td>\n",
       "      <td>NaN</td>\n",
       "      <td>2020-12-13 17:37:34</td>\n",
       "      <td>0</td>\n",
       "    </tr>\n",
       "    <tr>\n",
       "      <th>72934</th>\n",
       "      <td>FFF58BC33966EB51</td>\n",
       "      <td>A</td>\n",
       "      <td>interface_eu_test</td>\n",
       "      <td>Android</td>\n",
       "      <td>2020-12-17 03:21:02</td>\n",
       "      <td>login</td>\n",
       "      <td>NaN</td>\n",
       "      <td>2020-12-13 17:37:34</td>\n",
       "      <td>3</td>\n",
       "    </tr>\n",
       "  </tbody>\n",
       "</table>\n",
       "<p>63998 rows × 9 columns</p>\n",
       "</div>"
      ],
      "text/plain": [
       "                user_id group            ab_test   device            event_dt  \\\n",
       "0      0002CE61FF2C4011     B  interface_eu_test      Mac 2020-12-07 04:37:31   \n",
       "1      0002CE61FF2C4011     B  interface_eu_test      Mac 2020-12-07 04:37:49   \n",
       "2      0002CE61FF2C4011     B  interface_eu_test      Mac 2020-12-07 04:37:57   \n",
       "3      0002CE61FF2C4011     B  interface_eu_test      Mac 2020-12-07 04:38:54   \n",
       "4      0002CE61FF2C4011     B  interface_eu_test      Mac 2020-12-08 22:15:35   \n",
       "...                 ...   ...                ...      ...                 ...   \n",
       "72929  FFEFC0E55C1CCD4F     A  interface_eu_test       PC 2020-12-13 23:52:15   \n",
       "72930  FFEFC0E55C1CCD4F     A  interface_eu_test       PC 2020-12-13 23:52:22   \n",
       "72932  FFF58BC33966EB51     A  interface_eu_test  Android 2020-12-13 17:37:34   \n",
       "72933  FFF58BC33966EB51     A  interface_eu_test  Android 2020-12-13 17:56:02   \n",
       "72934  FFF58BC33966EB51     A  interface_eu_test  Android 2020-12-17 03:21:02   \n",
       "\n",
       "         event_name details   registration_time  days_since_registr  \n",
       "0      registration   -2.38 2020-12-07 04:37:31                   0  \n",
       "1             login     NaN 2020-12-07 04:37:31                   0  \n",
       "2             login     NaN 2020-12-07 04:37:31                   0  \n",
       "3             login     NaN 2020-12-07 04:37:31                   0  \n",
       "4             login     NaN 2020-12-07 04:37:31                   2  \n",
       "...             ...     ...                 ...                 ...  \n",
       "72929  registration     0.0 2020-12-13 23:52:15                   0  \n",
       "72930         login     NaN 2020-12-13 23:52:15                   0  \n",
       "72932  registration   -0.45 2020-12-13 17:37:34                   0  \n",
       "72933         login     NaN 2020-12-13 17:37:34                   0  \n",
       "72934         login     NaN 2020-12-13 17:37:34                   3  \n",
       "\n",
       "[63998 rows x 9 columns]"
      ]
     },
     "metadata": {},
     "output_type": "display_data"
    }
   ],
   "source": [
    "# Вычислим разницу между временем события и временем регистрации:\n",
    "total_df['days_since_registr'] = ((total_df['event_dt'] - total_df['registration_time']).dt.total_seconds() / \n",
    "                                   (24 * 3600)).round().astype(int)\n",
    "\n",
    "# Оставим только события, которые произошли в течение 7 дней после регистрации:\n",
    "filtr_events = total_df[total_df['days_since_registr'] <= 7]\n",
    "\n",
    "\n",
    "display(filtr_events)"
   ]
  },
  {
   "cell_type": "markdown",
   "id": "7cf1df48",
   "metadata": {},
   "source": [
    "Оценим достаточность выборки для получения статистически значимых результатов A/B-теста. Заданные параметры:\n",
    "\n",
    "- базовый показатель конверсии — 30%,\n",
    "\n",
    "- мощность теста — 80%,\n",
    "\n",
    "- достоверность теста — 95%,\n",
    "\n",
    "- ожидаемый показатель конверсии. - 33% (прогнозируемый прирост на 3 п.п.)"
   ]
  },
  {
   "cell_type": "code",
   "execution_count": 34,
   "id": "f3a754e7",
   "metadata": {},
   "outputs": [],
   "source": [
    "# Зададим параметры:\n",
    "\n",
    "alpha = 0.05 # Уровень значимости при достоверности теста 95%\n",
    "power = 0.8 # Мощность теста\n",
    "p = 0.3 # Базовый уровень конверсии (30%)\n",
    "mde = -0.03 # Минимальный детектируемый эффект (при выбранном относительном MDE = 3%)\n",
    "\n",
    "# Зададим функцию, которая расчитает необходимый размер выборки:\n",
    "def calculate_sample_size(p, mde, alpha, power):\n",
    "    p1 = p + mde # конверсия в экспериментальной группе\n",
    "    effect_size = proportion_effectsize(p, p1) # расчет размера эффекта\n",
    "    \n",
    "    # Инициализируем класс NormalIndPower:\n",
    "    power_analysis = NormalIndPower()\n",
    "\n",
    "    # Рассчитаем размер выборки:\n",
    "    sample_size = power_analysis.solve_power(\n",
    "    effect_size = effect_size,\n",
    "    power = power,\n",
    "    alpha = alpha,\n",
    "    ratio = 1, # равномерное распределение выборок\n",
    "    alternative='larger'\n",
    "    ) \n",
    "    return math.ceil(sample_size)"
   ]
  },
  {
   "cell_type": "code",
   "execution_count": 35,
   "id": "7d97b466",
   "metadata": {},
   "outputs": [
    {
     "name": "stdout",
     "output_type": "stream",
     "text": [
      "Необходимый размер выборки для каждой группы: 2798\n",
      "Ожидаемая конверсия в экспериментальной группе В: 27.00%\n"
     ]
    }
   ],
   "source": [
    "req_sample_size = calculate_sample_size(p, mde, alpha, power)\n",
    "\n",
    "\n",
    "\n",
    "print(f\"Необходимый размер выборки для каждой группы: {int(req_sample_size)}\")\n",
    "print(f'Ожидаемая конверсия в экспериментальной группе В: {(p+mde)*100:.2f}%')"
   ]
  },
  {
   "cell_type": "code",
   "execution_count": 36,
   "id": "729ca3bd",
   "metadata": {},
   "outputs": [
    {
     "name": "stdout",
     "output_type": "stream",
     "text": [
      "\n",
      "--- Сравнение размеров выборок ---\n",
      "Требуемый размер на группу: 2798\n",
      "Группа А: 5383 пользователей (192.4% от требуемого)\n",
      "Группа В: 5351 пользователей (191.2% от требуемого)\n",
      "\n",
      "Размеры выборок достаточны для проведения теста!\n"
     ]
    }
   ],
   "source": [
    "# Сравним фактический и требуемый размеры выборок.\n",
    "# Выведем фиктический размер групп:\n",
    "group_a_count = len(clean_df[clean_df['group'] == 'A'])\n",
    "group_b_count = len(clean_df[clean_df['group'] == 'B'])\n",
    "\n",
    "# Вывод результатов сравнения:\n",
    "print('\\n--- Сравнение размеров выборок ---')\n",
    "print(f'Требуемый размер на группу: {req_sample_size}')\n",
    "print(f'Группа А: {group_a_count} пользователей ({group_a_count/req_sample_size:.1%} от требуемого)')\n",
    "print(f'Группа В: {group_b_count} пользователей ({group_b_count/req_sample_size:.1%} от требуемого)')\n",
    "\n",
    "if min(group_a_count, group_b_count) < req_sample_size:\n",
    "    print('\\nТест может быть недостаточно мощным!')\n",
    "else:\n",
    "    print('\\nРазмеры выборок достаточны для проведения теста!')\n"
   ]
  },
  {
   "cell_type": "markdown",
   "id": "SadyUDgZs0t3",
   "metadata": {
    "id": "SadyUDgZs0t3"
   },
   "source": [
    "- рассчитаем для каждой группы количество посетителей, сделавших покупку, и общее количество посетителей."
   ]
  },
  {
   "cell_type": "markdown",
   "id": "69374da2",
   "metadata": {},
   "source": [
    "**Рассмотрим пользовательскую активность в первые семь дней после регистрации и изучим конверсию зарегистрированных пользователей  в покупатели за первые семь дней после регистрации. Результат сохраним в датафрейм `result_7`.**"
   ]
  },
  {
   "cell_type": "code",
   "execution_count": 37,
   "id": "7ph853Xks4sy",
   "metadata": {
    "id": "7ph853Xks4sy"
   },
   "outputs": [
    {
     "name": "stdout",
     "output_type": "stream",
     "text": [
      "Результаты по группам:\n"
     ]
    },
    {
     "data": {
      "text/html": [
       "<div>\n",
       "<style scoped>\n",
       "    .dataframe tbody tr th:only-of-type {\n",
       "        vertical-align: middle;\n",
       "    }\n",
       "\n",
       "    .dataframe tbody tr th {\n",
       "        vertical-align: top;\n",
       "    }\n",
       "\n",
       "    .dataframe thead th {\n",
       "        text-align: right;\n",
       "    }\n",
       "</style>\n",
       "<table border=\"1\" class=\"dataframe\">\n",
       "  <thead>\n",
       "    <tr style=\"text-align: right;\">\n",
       "      <th></th>\n",
       "      <th>group</th>\n",
       "      <th>total_visit</th>\n",
       "      <th>purch_visit</th>\n",
       "      <th>conversion_rate</th>\n",
       "    </tr>\n",
       "  </thead>\n",
       "  <tbody>\n",
       "    <tr>\n",
       "      <th>0</th>\n",
       "      <td>A</td>\n",
       "      <td>5383</td>\n",
       "      <td>1517</td>\n",
       "      <td>0.281813</td>\n",
       "    </tr>\n",
       "    <tr>\n",
       "      <th>1</th>\n",
       "      <td>B</td>\n",
       "      <td>5351</td>\n",
       "      <td>1625</td>\n",
       "      <td>0.303682</td>\n",
       "    </tr>\n",
       "  </tbody>\n",
       "</table>\n",
       "</div>"
      ],
      "text/plain": [
       "  group  total_visit  purch_visit  conversion_rate\n",
       "0     A         5383         1517         0.281813\n",
       "1     B         5351         1625         0.303682"
      ]
     },
     "metadata": {},
     "output_type": "display_data"
    }
   ],
   "source": [
    "# Рассчитаем общее количество посетителей в каждой группе:\n",
    "total_visit = filtr_events.groupby('group')['user_id'].nunique().reset_index()\n",
    "total_visit.columns = ['group', 'total_visit']\n",
    "\n",
    "# Рассчитаем количество посетителей, совершивших покупку в первые семь дней с момента регистрации:\n",
    "purch_visit = filtr_events[filtr_events['event_name'] == 'purchase'].groupby('group')['user_id'].nunique().reset_index()\n",
    "purch_visit.columns = ['group', 'purch_visit']\n",
    "\n",
    "# Объединим полученные результаты:\n",
    "result_7 = pd.merge(total_visit, purch_visit, on='group', how='left').fillna(0)\n",
    "\n",
    "# Определим конверсию зарегистрированных пользователей  в покупатели за первые семь дней после регистрации:\n",
    "result_7['conversion_rate'] = result_7['purch_visit'] / result_7['total_visit']\n",
    "\n",
    "print('Результаты по группам:')\n",
    "display(result_7)"
   ]
  },
  {
   "cell_type": "code",
   "execution_count": 38,
   "id": "699c601b",
   "metadata": {},
   "outputs": [
    {
     "name": "stdout",
     "output_type": "stream",
     "text": [
      "event_name  purchase  registration  conversion_rate\n",
      "group                                              \n",
      "A               1517          5383         0.281813\n",
      "B               1625          5351         0.303682\n"
     ]
    }
   ],
   "source": [
    "# Выведем данные с помощью таблицы pivot_table(), которую сохраним в переменную 'data':\n",
    "data = filtr_events[filtr_events['event_name'].isin(['purchase', 'registration'])].pivot_table(index='group',\n",
    "                                                                    columns='event_name',\n",
    "                                                                    values='user_id',\n",
    "                                                                    aggfunc='nunique')\n",
    "# Добавим в таблицу столбец с расчетом конверсии:\n",
    "data['conversion_rate'] = data['purchase'] / data['registration']\n",
    "\n",
    "# Результат:\n",
    "print(data)"
   ]
  },
  {
   "cell_type": "markdown",
   "id": "sh1JpGvAs5E3",
   "metadata": {
    "id": "sh1JpGvAs5E3"
   },
   "source": [
    "- сделаем предварительный общий вывод об изменении пользовательской активности в тестовой группе по сравнению с контрольной."
   ]
  },
  {
   "cell_type": "code",
   "execution_count": 39,
   "id": "hHTHPkJYs8mE",
   "metadata": {
    "id": "hHTHPkJYs8mE"
   },
   "outputs": [
    {
     "name": "stdout",
     "output_type": "stream",
     "text": [
      "Разница между группами: 2.2 п.п.\n"
     ]
    }
   ],
   "source": [
    "# Рассчитаем разницу конверсий между группами в процентных пунктах для датафрейма 'result_7':\n",
    "diff_pp_7 = (result_7.loc[result_7['group'] == 'B', 'conversion_rate'].values[0] -\n",
    "           result_7.loc[result_7['group'] == 'A', 'conversion_rate'].values[0]) * 100\n",
    "\n",
    "print(f'Разница между группами: {diff_pp_7:.1f} п.п.')"
   ]
  },
  {
   "cell_type": "markdown",
   "id": "7da0694d",
   "metadata": {},
   "source": [
    "*По полученным результатам видно, что за семь дней эксперимента конверсия посетителей в покупатели в тестовой группе по сравнению с контрольной увеличилась на 2.2 процентных пункта, что не соответствует запланированному приросту в 3 п.п.. Эффект от изменений есть, но он недостаточно высокий.*"
   ]
  },
  {
   "cell_type": "markdown",
   "id": "IKZ1Oo3Ws919",
   "metadata": {
    "id": "IKZ1Oo3Ws919"
   },
   "source": [
    "## 4. Проведение оценки результатов A/B-тестирования:"
   ]
  },
  {
   "cell_type": "markdown",
   "id": "dcUdBSmvtC-E",
   "metadata": {
    "id": "dcUdBSmvtC-E"
   },
   "source": [
    "- Проверим изменение конверсии подходящим статистическим тестом, учитывая все этапы проверки гипотез."
   ]
  },
  {
   "cell_type": "markdown",
   "id": "a4f5cdb6",
   "metadata": {},
   "source": [
    "Используя Z-тест пропорций для проверки односторонней альтернативной гипотезы, рассчитаем, является ли изменение в метрике конверсия пользователей в покупатели статистически значимым.\n",
    "Выведим на экран полученные значения Z-статистики и p-value, а также выводы о статистической значимости, учитывая, что уровень значимости в эксперименте был выбран на уровне 0.05. При проведении теста, будем пользоваться данными датафрейма `result_7`. Нам важно статистически подтвердить изменение конверсии именно за семь дней в тестовой группе. Сформулируем гипотезы:\n",
    "\n",
    "- Нулевая гипотеза Н0: Конверсия в группе В меньше или равна конверсии в группе А.\n",
    "- Альтернативная гипотеза Н1: Конверсия в группе В значимо выше, чем в группе А."
   ]
  },
  {
   "cell_type": "code",
   "execution_count": 40,
   "id": "1d0b2976",
   "metadata": {
    "id": "l_KOziBQtL3t"
   },
   "outputs": [],
   "source": [
    "# Посчитаем количество покупателей (пользователи, совершившие покупки) и \n",
    "# общее число наблюдений в каждой группе (размер выборки):\n",
    "success_A = result_7[result_7['group'] == 'A']['purch_visit'].values[0]\n",
    "total_A = result_7[result_7['group'] == 'A']['total_visit'].values[0]\n",
    "\n",
    "success_B = result_7[result_7['group'] == 'B']['purch_visit'].values[0]\n",
    "total_B = result_7[result_7['group'] == 'B']['total_visit'].values[0]\n",
    "\n",
    "alpha = 0.05\n",
    "\n",
    "# Проведем Z-тест для пропорций:\n",
    "z_stat, p_value = proportions_ztest(count=[success_B, success_A],\n",
    "                                   nobs=[total_B, total_A], alternative='larger')"
   ]
  },
  {
   "cell_type": "code",
   "execution_count": 41,
   "id": "l_KOziBQtL3t",
   "metadata": {
    "id": "l_KOziBQtL3t"
   },
   "outputs": [
    {
     "name": "stdout",
     "output_type": "stream",
     "text": [
      "Z-статистика: 2.49\n",
      "p-value: 0.0064\n",
      "Отвергаем Н0: конверсия в группе В значимо выше (р < 0.05).\n"
     ]
    }
   ],
   "source": [
    "# Выведем результат:\n",
    "print(f'Z-статистика: {z_stat:.2f}')\n",
    "print(f'p-value: {p_value:.4f}')\n",
    "\n",
    "# Проверим статистическую значимость:\n",
    "if p_value < alpha:\n",
    "    print('Отвергаем Н0: конверсия в группе В значимо выше (р < 0.05).')\n",
    "else:\n",
    "    print('Не отвергаем Н0: не достаточно доказательств роста конверсии.')"
   ]
  },
  {
   "cell_type": "markdown",
   "id": "9jkyKOjgtGoc",
   "metadata": {
    "id": "9jkyKOjgtGoc"
   },
   "source": [
    "- Опишем выводы по проведённой оценке результатов A/B-тестирования. Интерпретируем результаты A/B-тестирования. Обозначим, был ли достигнут ожидаемый эффект в изменении конверсии."
   ]
  },
  {
   "cell_type": "markdown",
   "id": "npoPPSKytKvR",
   "metadata": {
    "id": "npoPPSKytKvR"
   },
   "source": [
    "**На основе проведённого анализа результатов А/В-теста сделаем следующие выводы:**\n",
    "\n",
    "- В ходе проведения эксперимента была изучена ключевая метрика продукта: конверсия зарегистрированных пользователей в покупатели за семь дней с момента регистрации. \n",
    "\n",
    "- Перед проведением статистического теста оценили достаточность размера выборки  - 10 пользователей, тем самым убедились в полноразмерности выборок для более точного проведения эксперимента.\n",
    "\n",
    "- На начальном этапе эксперимента группы А и В были проверены на независимость и уникальность данных (отсутствие пересечения пользователей и участие пользователей тестовой группы только в эксперименте 'interface_eu_test') и на совпадение групп по числу пользователей  (разница не существенна -  1.19%).\n",
    "\n",
    "- Определили, что по типам событий больше всего авторизирующихся пользователей (25902) и пользователей, переходящих на страницу товара (17508).\n",
    "\n",
    "- Основные условия для корректного проведения А/В-тестирования были соблюдены. \n",
    "\n",
    "- В результате проведенного Z-теста для сравнения пропорций с односторонней альтернативной гипотезой по итогам эксперимента было выявленно, что конверсия за семь дней эксперимента в тестовой группе (группа В) на 1.9 процентных пункта стала выше, чем в контрольной (группа А), что не соответствуем ожидаемым результатам (увеличение конверсии за семь дней на 3 п.п.). Следовательно, упрощение интерфейса итернет-магазина BitMotion Kit положительно повлияло на рост целевой метрики.\n",
    "\n",
    "- Статистическая значимость выявленного эффекта оценивается значением p-value, равным 0.0064, которое меньше заданного уровня значимости 0.05, а также положительным значением Z-статистики 2.49, которое указывает на рост конверсии в группе В по сравнению с группой А. Таким образом, нулевая гипотеза не находит подтверждения. \n",
    "\n",
    "- Анализ результатов эксперимента подтверждает альтернативную гипотезу и стаистически доказывает, что обновленная версия сайта онлайн-магазина удобна пользователям, тем самым увеличивая их интерес к товарам онлайн-магазина, а следовательно, и к совершению покупок."
   ]
  }
 ],
 "metadata": {
  "ExecuteTimeLog": [
   {
    "duration": 43,
    "start_time": "2025-06-28T18:39:23.633Z"
   },
   {
    "duration": 0,
    "start_time": "2025-06-28T18:39:23.677Z"
   },
   {
    "duration": 0,
    "start_time": "2025-06-28T18:39:23.678Z"
   },
   {
    "duration": 8412,
    "start_time": "2025-06-28T18:42:09.124Z"
   },
   {
    "duration": 2144,
    "start_time": "2025-06-28T18:42:18.227Z"
   },
   {
    "duration": 94,
    "start_time": "2025-06-28T18:42:24.625Z"
   },
   {
    "duration": 43,
    "start_time": "2025-06-28T19:08:12.097Z"
   },
   {
    "duration": 10,
    "start_time": "2025-06-28T19:08:15.195Z"
   },
   {
    "duration": 13,
    "start_time": "2025-06-28T20:17:14.894Z"
   },
   {
    "duration": 10,
    "start_time": "2025-06-28T20:20:54.454Z"
   },
   {
    "duration": 64,
    "start_time": "2025-06-28T20:31:03.619Z"
   },
   {
    "duration": 11,
    "start_time": "2025-06-28T20:40:06.483Z"
   },
   {
    "duration": 11,
    "start_time": "2025-06-28T20:42:42.806Z"
   },
   {
    "duration": 11,
    "start_time": "2025-06-28T20:47:27.456Z"
   },
   {
    "duration": 11,
    "start_time": "2025-06-28T20:49:32.410Z"
   },
   {
    "duration": 49,
    "start_time": "2025-06-29T12:52:46.671Z"
   },
   {
    "duration": 9908,
    "start_time": "2025-06-29T12:52:53.586Z"
   },
   {
    "duration": 90,
    "start_time": "2025-06-29T12:53:03.497Z"
   },
   {
    "duration": 13,
    "start_time": "2025-06-29T12:53:03.589Z"
   },
   {
    "duration": 180,
    "start_time": "2025-06-29T12:53:03.604Z"
   },
   {
    "duration": 20,
    "start_time": "2025-06-29T12:53:03.786Z"
   },
   {
    "duration": 54,
    "start_time": "2025-06-29T12:53:03.807Z"
   },
   {
    "duration": 1465,
    "start_time": "2025-06-29T12:53:03.862Z"
   },
   {
    "duration": 7,
    "start_time": "2025-06-29T12:54:10.190Z"
   },
   {
    "duration": 4,
    "start_time": "2025-06-29T12:56:07.137Z"
   },
   {
    "duration": 4,
    "start_time": "2025-06-29T12:58:08.378Z"
   },
   {
    "duration": 9,
    "start_time": "2025-06-29T13:11:25.938Z"
   },
   {
    "duration": 11,
    "start_time": "2025-06-29T13:11:47.978Z"
   },
   {
    "duration": 13,
    "start_time": "2025-06-29T13:14:16.585Z"
   },
   {
    "duration": 12,
    "start_time": "2025-06-29T13:14:54.013Z"
   },
   {
    "duration": 9,
    "start_time": "2025-06-29T13:15:14.866Z"
   },
   {
    "duration": 7,
    "start_time": "2025-06-29T13:28:07.406Z"
   },
   {
    "duration": 6,
    "start_time": "2025-06-29T13:31:39.100Z"
   },
   {
    "duration": 16,
    "start_time": "2025-06-29T13:37:01.990Z"
   },
   {
    "duration": 11,
    "start_time": "2025-06-29T13:40:26.739Z"
   },
   {
    "duration": 12,
    "start_time": "2025-06-29T13:40:52.304Z"
   },
   {
    "duration": 12,
    "start_time": "2025-06-29T13:41:30.411Z"
   },
   {
    "duration": 11,
    "start_time": "2025-06-29T13:42:45.431Z"
   },
   {
    "duration": 12,
    "start_time": "2025-06-29T13:44:07.384Z"
   },
   {
    "duration": 6,
    "start_time": "2025-06-29T14:28:53.036Z"
   },
   {
    "duration": 3667,
    "start_time": "2025-06-29T14:29:16.410Z"
   },
   {
    "duration": 104,
    "start_time": "2025-06-29T14:29:20.079Z"
   },
   {
    "duration": 13,
    "start_time": "2025-06-29T14:29:20.185Z"
   },
   {
    "duration": 18,
    "start_time": "2025-06-29T14:29:20.201Z"
   },
   {
    "duration": 6,
    "start_time": "2025-06-29T14:29:20.221Z"
   },
   {
    "duration": 0,
    "start_time": "2025-06-29T14:29:20.229Z"
   },
   {
    "duration": 0,
    "start_time": "2025-06-29T14:29:20.231Z"
   },
   {
    "duration": 6,
    "start_time": "2025-06-29T14:35:11.177Z"
   },
   {
    "duration": 6,
    "start_time": "2025-06-29T14:38:22.497Z"
   },
   {
    "duration": 6,
    "start_time": "2025-06-29T14:39:04.711Z"
   },
   {
    "duration": 6,
    "start_time": "2025-06-29T14:39:54.534Z"
   },
   {
    "duration": 6,
    "start_time": "2025-06-29T14:40:40.586Z"
   },
   {
    "duration": 20,
    "start_time": "2025-06-29T14:41:13.031Z"
   },
   {
    "duration": 20,
    "start_time": "2025-06-29T14:42:16.641Z"
   },
   {
    "duration": 26,
    "start_time": "2025-06-29T14:42:30.887Z"
   },
   {
    "duration": 20,
    "start_time": "2025-06-29T14:42:53.029Z"
   },
   {
    "duration": 19,
    "start_time": "2025-06-29T14:46:10.716Z"
   },
   {
    "duration": 13,
    "start_time": "2025-06-29T14:46:13.703Z"
   },
   {
    "duration": 4296,
    "start_time": "2025-06-29T14:58:51.720Z"
   },
   {
    "duration": 5271,
    "start_time": "2025-06-29T14:59:56.828Z"
   },
   {
    "duration": 5198,
    "start_time": "2025-06-29T15:00:18.253Z"
   },
   {
    "duration": 5392,
    "start_time": "2025-06-29T15:00:37.425Z"
   },
   {
    "duration": 4701,
    "start_time": "2025-06-29T15:01:50.311Z"
   },
   {
    "duration": 4880,
    "start_time": "2025-06-29T15:02:18.767Z"
   },
   {
    "duration": 4868,
    "start_time": "2025-06-29T15:03:08.049Z"
   },
   {
    "duration": 4838,
    "start_time": "2025-06-29T15:03:22.221Z"
   },
   {
    "duration": 5367,
    "start_time": "2025-06-29T15:04:02.100Z"
   },
   {
    "duration": 4622,
    "start_time": "2025-06-29T15:09:03.042Z"
   },
   {
    "duration": 4555,
    "start_time": "2025-06-29T15:10:02.482Z"
   },
   {
    "duration": 5408,
    "start_time": "2025-06-29T15:14:14.490Z"
   },
   {
    "duration": 283,
    "start_time": "2025-06-29T15:14:55.565Z"
   },
   {
    "duration": 12,
    "start_time": "2025-06-29T15:39:12.209Z"
   },
   {
    "duration": 12,
    "start_time": "2025-06-29T15:40:13.333Z"
   },
   {
    "duration": 91,
    "start_time": "2025-06-29T16:21:14.426Z"
   },
   {
    "duration": 65,
    "start_time": "2025-06-29T16:21:54.361Z"
   },
   {
    "duration": 11,
    "start_time": "2025-06-29T16:22:33.449Z"
   },
   {
    "duration": 1755,
    "start_time": "2025-06-29T17:13:28.715Z"
   },
   {
    "duration": 8,
    "start_time": "2025-06-29T17:15:21.253Z"
   },
   {
    "duration": 14,
    "start_time": "2025-06-29T17:15:41.474Z"
   },
   {
    "duration": 9,
    "start_time": "2025-06-29T17:17:28.264Z"
   },
   {
    "duration": 127,
    "start_time": "2025-06-29T17:17:33.050Z"
   },
   {
    "duration": 17,
    "start_time": "2025-06-29T17:26:07.692Z"
   },
   {
    "duration": 361,
    "start_time": "2025-06-29T17:27:01.820Z"
   },
   {
    "duration": 11,
    "start_time": "2025-06-29T17:27:29.488Z"
   },
   {
    "duration": 322,
    "start_time": "2025-06-29T17:27:39.248Z"
   },
   {
    "duration": 45,
    "start_time": "2025-06-29T17:32:37.647Z"
   },
   {
    "duration": 1219,
    "start_time": "2025-06-29T17:33:32.544Z"
   },
   {
    "duration": 18,
    "start_time": "2025-06-29T18:07:09.538Z"
   },
   {
    "duration": 17,
    "start_time": "2025-06-29T18:12:22.653Z"
   },
   {
    "duration": 21,
    "start_time": "2025-06-29T18:12:27.169Z"
   },
   {
    "duration": 12,
    "start_time": "2025-06-29T18:12:40.301Z"
   },
   {
    "duration": 29,
    "start_time": "2025-06-29T18:17:40.180Z"
   },
   {
    "duration": 1744,
    "start_time": "2025-06-29T18:25:04.192Z"
   },
   {
    "duration": 1643,
    "start_time": "2025-06-29T18:50:32.194Z"
   },
   {
    "duration": 99,
    "start_time": "2025-06-29T19:20:37.114Z"
   },
   {
    "duration": 7,
    "start_time": "2025-06-29T19:21:32.449Z"
   },
   {
    "duration": 8,
    "start_time": "2025-06-29T19:40:40.947Z"
   },
   {
    "duration": 4,
    "start_time": "2025-06-29T19:47:10.937Z"
   },
   {
    "duration": 1077,
    "start_time": "2025-06-29T19:53:54.445Z"
   },
   {
    "duration": 14,
    "start_time": "2025-06-29T19:55:08.093Z"
   },
   {
    "duration": 12,
    "start_time": "2025-06-29T19:56:58.114Z"
   },
   {
    "duration": 85,
    "start_time": "2025-06-29T19:57:06.332Z"
   },
   {
    "duration": 11,
    "start_time": "2025-06-29T20:16:55.897Z"
   },
   {
    "duration": 13,
    "start_time": "2025-06-29T20:17:33.124Z"
   },
   {
    "duration": 95,
    "start_time": "2025-06-29T20:20:51.025Z"
   },
   {
    "duration": 10,
    "start_time": "2025-06-29T20:37:53.366Z"
   },
   {
    "duration": 7,
    "start_time": "2025-06-29T20:39:52.625Z"
   },
   {
    "duration": 7,
    "start_time": "2025-06-29T20:41:52.914Z"
   },
   {
    "duration": 8,
    "start_time": "2025-06-29T20:42:50.752Z"
   },
   {
    "duration": 9,
    "start_time": "2025-06-29T20:43:03.869Z"
   },
   {
    "duration": 4,
    "start_time": "2025-06-29T20:45:59.285Z"
   },
   {
    "duration": 5,
    "start_time": "2025-06-29T20:50:59.192Z"
   },
   {
    "duration": 5,
    "start_time": "2025-06-29T21:03:40.565Z"
   },
   {
    "duration": 9,
    "start_time": "2025-06-29T21:03:48.316Z"
   },
   {
    "duration": 9,
    "start_time": "2025-06-29T21:04:17.442Z"
   },
   {
    "duration": 11,
    "start_time": "2025-06-29T21:05:27.411Z"
   },
   {
    "duration": 3909,
    "start_time": "2025-06-29T21:05:32.275Z"
   },
   {
    "duration": 55,
    "start_time": "2025-06-29T21:05:36.187Z"
   },
   {
    "duration": 14,
    "start_time": "2025-06-29T21:05:36.244Z"
   },
   {
    "duration": 19,
    "start_time": "2025-06-29T21:05:36.261Z"
   },
   {
    "duration": 21,
    "start_time": "2025-06-29T21:05:36.282Z"
   },
   {
    "duration": 4902,
    "start_time": "2025-06-29T21:05:36.305Z"
   },
   {
    "duration": 11,
    "start_time": "2025-06-29T21:05:41.209Z"
   },
   {
    "duration": 1573,
    "start_time": "2025-06-29T21:05:41.221Z"
   },
   {
    "duration": 9,
    "start_time": "2025-06-29T21:05:42.796Z"
   },
   {
    "duration": 29,
    "start_time": "2025-06-29T21:05:42.808Z"
   },
   {
    "duration": 28,
    "start_time": "2025-06-29T21:05:42.839Z"
   },
   {
    "duration": 12,
    "start_time": "2025-06-29T21:05:42.869Z"
   },
   {
    "duration": 140,
    "start_time": "2025-06-29T21:05:42.883Z"
   },
   {
    "duration": 1755,
    "start_time": "2025-06-29T21:05:43.025Z"
   },
   {
    "duration": 7,
    "start_time": "2025-06-29T21:05:44.781Z"
   },
   {
    "duration": 36,
    "start_time": "2025-06-29T21:05:44.790Z"
   },
   {
    "duration": 4,
    "start_time": "2025-06-29T21:05:44.828Z"
   },
   {
    "duration": 17,
    "start_time": "2025-06-29T21:05:44.834Z"
   },
   {
    "duration": 83,
    "start_time": "2025-06-29T21:05:44.853Z"
   },
   {
    "duration": 11,
    "start_time": "2025-06-29T21:05:44.938Z"
   },
   {
    "duration": 109,
    "start_time": "2025-06-29T21:05:44.951Z"
   },
   {
    "duration": 7,
    "start_time": "2025-06-29T21:05:45.062Z"
   },
   {
    "duration": 29,
    "start_time": "2025-06-29T21:05:45.072Z"
   },
   {
    "duration": 20,
    "start_time": "2025-06-29T21:05:45.103Z"
   },
   {
    "duration": 37,
    "start_time": "2025-06-29T21:05:45.125Z"
   },
   {
    "duration": 5,
    "start_time": "2025-06-29T21:06:54.163Z"
   },
   {
    "duration": 10,
    "start_time": "2025-06-29T21:09:59.514Z"
   },
   {
    "duration": 11,
    "start_time": "2025-06-29T21:16:16.156Z"
   },
   {
    "duration": 1141,
    "start_time": "2025-06-29T21:22:35.973Z"
   },
   {
    "duration": 209,
    "start_time": "2025-06-29T21:31:53.892Z"
   },
   {
    "duration": 175,
    "start_time": "2025-06-29T21:32:09.983Z"
   },
   {
    "duration": 195,
    "start_time": "2025-06-29T21:33:06.306Z"
   },
   {
    "duration": 33,
    "start_time": "2025-06-29T21:34:21.100Z"
   },
   {
    "duration": 31,
    "start_time": "2025-06-29T21:36:19.408Z"
   },
   {
    "duration": 3961,
    "start_time": "2025-06-29T21:36:52.946Z"
   },
   {
    "duration": 102,
    "start_time": "2025-06-29T21:36:56.910Z"
   },
   {
    "duration": 12,
    "start_time": "2025-06-29T21:36:57.014Z"
   },
   {
    "duration": 17,
    "start_time": "2025-06-29T21:36:57.028Z"
   },
   {
    "duration": 22,
    "start_time": "2025-06-29T21:36:57.046Z"
   },
   {
    "duration": 5208,
    "start_time": "2025-06-29T21:36:57.070Z"
   },
   {
    "duration": 13,
    "start_time": "2025-06-29T21:37:02.280Z"
   },
   {
    "duration": 2021,
    "start_time": "2025-06-29T21:37:02.294Z"
   },
   {
    "duration": 9,
    "start_time": "2025-06-29T21:37:04.317Z"
   },
   {
    "duration": 354,
    "start_time": "2025-06-29T21:37:04.337Z"
   },
   {
    "duration": 2174,
    "start_time": "2025-06-29T21:37:04.693Z"
   },
   {
    "duration": 2606,
    "start_time": "2025-06-29T21:37:06.869Z"
   },
   {
    "duration": 3054,
    "start_time": "2025-06-29T21:37:09.477Z"
   },
   {
    "duration": 5050,
    "start_time": "2025-06-29T21:37:12.533Z"
   },
   {
    "duration": 4438,
    "start_time": "2025-06-29T21:37:17.585Z"
   },
   {
    "duration": 2032,
    "start_time": "2025-06-29T21:37:22.026Z"
   },
   {
    "duration": 2892,
    "start_time": "2025-06-29T21:37:24.060Z"
   },
   {
    "duration": 4757,
    "start_time": "2025-06-29T21:37:26.954Z"
   },
   {
    "duration": 2108,
    "start_time": "2025-06-29T21:37:31.713Z"
   },
   {
    "duration": 3490,
    "start_time": "2025-06-29T21:37:33.823Z"
   },
   {
    "duration": 2841,
    "start_time": "2025-06-29T21:37:37.314Z"
   },
   {
    "duration": 3269,
    "start_time": "2025-06-29T21:37:40.156Z"
   },
   {
    "duration": 3407,
    "start_time": "2025-06-29T21:37:43.426Z"
   },
   {
    "duration": 2405,
    "start_time": "2025-06-29T21:37:46.834Z"
   },
   {
    "duration": 1047,
    "start_time": "2025-06-29T21:37:49.241Z"
   },
   {
    "duration": 4352,
    "start_time": "2025-06-29T21:37:50.290Z"
   },
   {
    "duration": 7,
    "start_time": "2025-06-29T21:44:50.990Z"
   },
   {
    "duration": 7,
    "start_time": "2025-06-29T21:45:12.864Z"
   },
   {
    "duration": 11,
    "start_time": "2025-06-29T21:45:36.835Z"
   },
   {
    "duration": 109,
    "start_time": "2025-06-29T21:46:56.943Z"
   },
   {
    "duration": 16,
    "start_time": "2025-06-29T21:47:06.097Z"
   },
   {
    "duration": 26,
    "start_time": "2025-06-29T21:47:42.279Z"
   },
   {
    "duration": 10,
    "start_time": "2025-06-29T21:48:36.488Z"
   },
   {
    "duration": 11,
    "start_time": "2025-06-29T21:49:56.227Z"
   },
   {
    "duration": 13,
    "start_time": "2025-06-29T22:08:05.646Z"
   },
   {
    "duration": 14,
    "start_time": "2025-06-29T22:08:50.599Z"
   },
   {
    "duration": 15,
    "start_time": "2025-06-29T22:10:29.773Z"
   },
   {
    "duration": 16,
    "start_time": "2025-06-29T22:11:00.653Z"
   },
   {
    "duration": 18,
    "start_time": "2025-06-29T22:16:38.081Z"
   },
   {
    "duration": 156,
    "start_time": "2025-06-29T22:18:05.198Z"
   },
   {
    "duration": 171,
    "start_time": "2025-06-29T22:18:34.491Z"
   },
   {
    "duration": 4970,
    "start_time": "2025-06-29T22:19:33.921Z"
   },
   {
    "duration": 160,
    "start_time": "2025-06-29T22:19:57.962Z"
   },
   {
    "duration": 47,
    "start_time": "2025-06-30T11:29:06.220Z"
   },
   {
    "duration": 9862,
    "start_time": "2025-06-30T11:29:13.385Z"
   },
   {
    "duration": 146,
    "start_time": "2025-06-30T11:29:23.249Z"
   },
   {
    "duration": 11,
    "start_time": "2025-06-30T11:29:23.397Z"
   },
   {
    "duration": 15,
    "start_time": "2025-06-30T11:29:23.410Z"
   },
   {
    "duration": 19,
    "start_time": "2025-06-30T11:29:23.428Z"
   },
   {
    "duration": 4451,
    "start_time": "2025-06-30T11:29:23.463Z"
   },
   {
    "duration": 15,
    "start_time": "2025-06-30T11:29:27.917Z"
   },
   {
    "duration": 1428,
    "start_time": "2025-06-30T11:29:27.934Z"
   },
   {
    "duration": 7,
    "start_time": "2025-06-30T11:29:29.364Z"
   },
   {
    "duration": 13,
    "start_time": "2025-06-30T11:29:29.373Z"
   },
   {
    "duration": 27,
    "start_time": "2025-06-30T11:29:29.387Z"
   },
   {
    "duration": 11,
    "start_time": "2025-06-30T11:29:29.416Z"
   },
   {
    "duration": 134,
    "start_time": "2025-06-30T11:29:29.428Z"
   },
   {
    "duration": 1663,
    "start_time": "2025-06-30T11:29:29.565Z"
   },
   {
    "duration": 6,
    "start_time": "2025-06-30T11:29:31.230Z"
   },
   {
    "duration": 24,
    "start_time": "2025-06-30T11:29:31.238Z"
   },
   {
    "duration": 4,
    "start_time": "2025-06-30T11:29:31.264Z"
   },
   {
    "duration": 33,
    "start_time": "2025-06-30T11:29:31.270Z"
   },
   {
    "duration": 77,
    "start_time": "2025-06-30T11:29:31.304Z"
   },
   {
    "duration": 10,
    "start_time": "2025-06-30T11:29:31.382Z"
   },
   {
    "duration": 110,
    "start_time": "2025-06-30T11:29:31.394Z"
   },
   {
    "duration": 6,
    "start_time": "2025-06-30T11:29:31.505Z"
   },
   {
    "duration": 12,
    "start_time": "2025-06-30T11:29:31.513Z"
   },
   {
    "duration": 5,
    "start_time": "2025-06-30T11:29:31.527Z"
   },
   {
    "duration": 232,
    "start_time": "2025-06-30T11:29:31.533Z"
   },
   {
    "duration": 29,
    "start_time": "2025-06-30T11:29:31.766Z"
   },
   {
    "duration": 18,
    "start_time": "2025-06-30T11:29:31.796Z"
   },
   {
    "duration": 180,
    "start_time": "2025-06-30T11:29:31.815Z"
   },
   {
    "duration": 17,
    "start_time": "2025-06-30T11:29:31.996Z"
   },
   {
    "duration": 49,
    "start_time": "2025-06-30T11:42:02.999Z"
   },
   {
    "duration": 1540,
    "start_time": "2025-06-30T11:42:19.082Z"
   },
   {
    "duration": 65,
    "start_time": "2025-06-30T11:44:20.755Z"
   },
   {
    "duration": 3364,
    "start_time": "2025-06-30T11:45:29.203Z"
   },
   {
    "duration": 177,
    "start_time": "2025-06-30T11:45:32.568Z"
   },
   {
    "duration": 12,
    "start_time": "2025-06-30T11:45:32.746Z"
   },
   {
    "duration": 16,
    "start_time": "2025-06-30T11:45:32.759Z"
   },
   {
    "duration": 37,
    "start_time": "2025-06-30T11:45:32.777Z"
   },
   {
    "duration": 4259,
    "start_time": "2025-06-30T11:45:32.815Z"
   },
   {
    "duration": 11,
    "start_time": "2025-06-30T11:45:37.075Z"
   },
   {
    "duration": 1403,
    "start_time": "2025-06-30T11:45:37.087Z"
   },
   {
    "duration": 7,
    "start_time": "2025-06-30T11:45:38.492Z"
   },
   {
    "duration": 25,
    "start_time": "2025-06-30T11:45:38.501Z"
   },
   {
    "duration": 39,
    "start_time": "2025-06-30T11:45:38.528Z"
   },
   {
    "duration": 10,
    "start_time": "2025-06-30T11:45:38.568Z"
   },
   {
    "duration": 124,
    "start_time": "2025-06-30T11:45:38.580Z"
   },
   {
    "duration": 1522,
    "start_time": "2025-06-30T11:45:38.707Z"
   },
   {
    "duration": 6,
    "start_time": "2025-06-30T11:45:40.231Z"
   },
   {
    "duration": 11,
    "start_time": "2025-06-30T11:45:40.238Z"
   },
   {
    "duration": 14,
    "start_time": "2025-06-30T11:45:40.250Z"
   },
   {
    "duration": 78,
    "start_time": "2025-06-30T11:45:40.266Z"
   },
   {
    "duration": 74,
    "start_time": "2025-06-30T11:45:40.346Z"
   },
   {
    "duration": 11,
    "start_time": "2025-06-30T11:45:40.422Z"
   },
   {
    "duration": 100,
    "start_time": "2025-06-30T11:45:40.434Z"
   },
   {
    "duration": 5,
    "start_time": "2025-06-30T11:45:40.535Z"
   },
   {
    "duration": 25,
    "start_time": "2025-06-30T11:45:40.541Z"
   },
   {
    "duration": 3,
    "start_time": "2025-06-30T11:45:40.568Z"
   },
   {
    "duration": 207,
    "start_time": "2025-06-30T11:45:40.572Z"
   },
   {
    "duration": 27,
    "start_time": "2025-06-30T11:45:40.780Z"
   },
   {
    "duration": 13,
    "start_time": "2025-06-30T11:45:40.808Z"
   },
   {
    "duration": 215,
    "start_time": "2025-06-30T11:45:40.823Z"
   },
   {
    "duration": 59,
    "start_time": "2025-06-30T11:45:41.040Z"
   },
   {
    "duration": 1600,
    "start_time": "2025-06-30T11:46:44.253Z"
   },
   {
    "duration": 3417,
    "start_time": "2025-06-30T11:47:32.435Z"
   },
   {
    "duration": 89,
    "start_time": "2025-06-30T11:47:35.854Z"
   },
   {
    "duration": 11,
    "start_time": "2025-06-30T11:47:35.945Z"
   },
   {
    "duration": 177,
    "start_time": "2025-06-30T11:47:35.958Z"
   },
   {
    "duration": 22,
    "start_time": "2025-06-30T11:47:36.137Z"
   },
   {
    "duration": 4342,
    "start_time": "2025-06-30T11:47:36.161Z"
   },
   {
    "duration": 13,
    "start_time": "2025-06-30T11:47:40.505Z"
   },
   {
    "duration": 1349,
    "start_time": "2025-06-30T11:47:40.520Z"
   },
   {
    "duration": 8,
    "start_time": "2025-06-30T11:47:41.871Z"
   },
   {
    "duration": 12,
    "start_time": "2025-06-30T11:47:41.882Z"
   },
   {
    "duration": 25,
    "start_time": "2025-06-30T11:47:41.895Z"
   },
   {
    "duration": 9,
    "start_time": "2025-06-30T11:47:41.922Z"
   },
   {
    "duration": 140,
    "start_time": "2025-06-30T11:47:41.932Z"
   },
   {
    "duration": 1489,
    "start_time": "2025-06-30T11:47:42.074Z"
   },
   {
    "duration": 7,
    "start_time": "2025-06-30T11:47:43.564Z"
   },
   {
    "duration": 12,
    "start_time": "2025-06-30T11:47:43.573Z"
   },
   {
    "duration": 4,
    "start_time": "2025-06-30T11:47:43.586Z"
   },
   {
    "duration": 11,
    "start_time": "2025-06-30T11:47:43.591Z"
   },
   {
    "duration": 99,
    "start_time": "2025-06-30T11:47:43.603Z"
   },
   {
    "duration": 11,
    "start_time": "2025-06-30T11:47:43.704Z"
   },
   {
    "duration": 99,
    "start_time": "2025-06-30T11:47:43.717Z"
   },
   {
    "duration": 6,
    "start_time": "2025-06-30T11:47:43.818Z"
   },
   {
    "duration": 16,
    "start_time": "2025-06-30T11:47:43.825Z"
   },
   {
    "duration": 5,
    "start_time": "2025-06-30T11:47:43.843Z"
   },
   {
    "duration": 211,
    "start_time": "2025-06-30T11:47:43.862Z"
   },
   {
    "duration": 33,
    "start_time": "2025-06-30T11:47:44.075Z"
   },
   {
    "duration": 21,
    "start_time": "2025-06-30T11:47:44.110Z"
   },
   {
    "duration": 220,
    "start_time": "2025-06-30T11:47:44.135Z"
   },
   {
    "duration": 60,
    "start_time": "2025-06-30T11:47:44.357Z"
   },
   {
    "duration": 1560,
    "start_time": "2025-06-30T11:49:19.891Z"
   },
   {
    "duration": 47,
    "start_time": "2025-06-30T11:49:35.637Z"
   },
   {
    "duration": 3499,
    "start_time": "2025-06-30T11:49:45.971Z"
   },
   {
    "duration": 81,
    "start_time": "2025-06-30T11:49:49.472Z"
   },
   {
    "duration": 11,
    "start_time": "2025-06-30T11:49:49.555Z"
   },
   {
    "duration": 14,
    "start_time": "2025-06-30T11:49:49.567Z"
   },
   {
    "duration": 19,
    "start_time": "2025-06-30T11:49:49.583Z"
   },
   {
    "duration": 4311,
    "start_time": "2025-06-30T11:49:49.603Z"
   },
   {
    "duration": 15,
    "start_time": "2025-06-30T11:49:53.916Z"
   },
   {
    "duration": 1458,
    "start_time": "2025-06-30T11:49:53.933Z"
   },
   {
    "duration": 8,
    "start_time": "2025-06-30T11:49:55.392Z"
   },
   {
    "duration": 24,
    "start_time": "2025-06-30T11:49:55.401Z"
   },
   {
    "duration": 39,
    "start_time": "2025-06-30T11:49:55.427Z"
   },
   {
    "duration": 10,
    "start_time": "2025-06-30T11:49:55.468Z"
   },
   {
    "duration": 114,
    "start_time": "2025-06-30T11:49:55.479Z"
   },
   {
    "duration": 1505,
    "start_time": "2025-06-30T11:49:55.596Z"
   },
   {
    "duration": 7,
    "start_time": "2025-06-30T11:49:57.102Z"
   },
   {
    "duration": 7,
    "start_time": "2025-06-30T11:49:57.111Z"
   },
   {
    "duration": 4,
    "start_time": "2025-06-30T11:49:57.120Z"
   },
   {
    "duration": 39,
    "start_time": "2025-06-30T11:49:57.126Z"
   },
   {
    "duration": 78,
    "start_time": "2025-06-30T11:49:57.166Z"
   },
   {
    "duration": 22,
    "start_time": "2025-06-30T11:49:57.246Z"
   },
   {
    "duration": 112,
    "start_time": "2025-06-30T11:49:57.270Z"
   },
   {
    "duration": 6,
    "start_time": "2025-06-30T11:49:57.384Z"
   },
   {
    "duration": 11,
    "start_time": "2025-06-30T11:49:57.391Z"
   },
   {
    "duration": 6,
    "start_time": "2025-06-30T11:49:57.404Z"
   },
   {
    "duration": 221,
    "start_time": "2025-06-30T11:49:57.412Z"
   },
   {
    "duration": 47,
    "start_time": "2025-06-30T11:49:57.635Z"
   },
   {
    "duration": 20,
    "start_time": "2025-06-30T11:49:57.684Z"
   },
   {
    "duration": 162,
    "start_time": "2025-06-30T11:49:57.706Z"
   },
   {
    "duration": 172,
    "start_time": "2025-06-30T11:49:57.869Z"
   },
   {
    "duration": 89,
    "start_time": "2025-06-30T11:50:33.923Z"
   },
   {
    "duration": 1420,
    "start_time": "2025-06-30T11:50:47.462Z"
   },
   {
    "duration": 3395,
    "start_time": "2025-06-30T11:50:58.505Z"
   },
   {
    "duration": 98,
    "start_time": "2025-06-30T11:51:01.902Z"
   },
   {
    "duration": 14,
    "start_time": "2025-06-30T11:51:02.002Z"
   },
   {
    "duration": 113,
    "start_time": "2025-06-30T11:51:02.018Z"
   },
   {
    "duration": 22,
    "start_time": "2025-06-30T11:51:02.133Z"
   },
   {
    "duration": 4192,
    "start_time": "2025-06-30T11:51:02.157Z"
   },
   {
    "duration": 16,
    "start_time": "2025-06-30T11:51:06.351Z"
   },
   {
    "duration": 1446,
    "start_time": "2025-06-30T11:51:06.369Z"
   },
   {
    "duration": 8,
    "start_time": "2025-06-30T11:51:07.817Z"
   },
   {
    "duration": 31,
    "start_time": "2025-06-30T11:51:07.828Z"
   },
   {
    "duration": 33,
    "start_time": "2025-06-30T11:51:07.862Z"
   },
   {
    "duration": 21,
    "start_time": "2025-06-30T11:51:07.897Z"
   },
   {
    "duration": 146,
    "start_time": "2025-06-30T11:51:07.921Z"
   },
   {
    "duration": 1514,
    "start_time": "2025-06-30T11:51:08.069Z"
   },
   {
    "duration": 6,
    "start_time": "2025-06-30T11:51:09.585Z"
   },
   {
    "duration": 9,
    "start_time": "2025-06-30T11:51:09.592Z"
   },
   {
    "duration": 4,
    "start_time": "2025-06-30T11:51:09.602Z"
   },
   {
    "duration": 11,
    "start_time": "2025-06-30T11:51:09.608Z"
   },
   {
    "duration": 101,
    "start_time": "2025-06-30T11:51:09.620Z"
   },
   {
    "duration": 10,
    "start_time": "2025-06-30T11:51:09.723Z"
   },
   {
    "duration": 103,
    "start_time": "2025-06-30T11:51:09.734Z"
   },
   {
    "duration": 7,
    "start_time": "2025-06-30T11:51:09.839Z"
   },
   {
    "duration": 18,
    "start_time": "2025-06-30T11:51:09.848Z"
   },
   {
    "duration": 11,
    "start_time": "2025-06-30T11:51:09.868Z"
   },
   {
    "duration": 203,
    "start_time": "2025-06-30T11:51:09.880Z"
   },
   {
    "duration": 36,
    "start_time": "2025-06-30T11:51:10.084Z"
   },
   {
    "duration": 24,
    "start_time": "2025-06-30T11:51:10.121Z"
   },
   {
    "duration": 149,
    "start_time": "2025-06-30T11:51:10.161Z"
   },
   {
    "duration": 138,
    "start_time": "2025-06-30T11:51:10.312Z"
   },
   {
    "duration": 92,
    "start_time": "2025-06-30T11:52:01.535Z"
   },
   {
    "duration": 3458,
    "start_time": "2025-06-30T11:52:18.436Z"
   },
   {
    "duration": 77,
    "start_time": "2025-06-30T11:52:21.896Z"
   },
   {
    "duration": 12,
    "start_time": "2025-06-30T11:52:21.975Z"
   },
   {
    "duration": 156,
    "start_time": "2025-06-30T11:52:21.988Z"
   },
   {
    "duration": 44,
    "start_time": "2025-06-30T11:52:22.147Z"
   },
   {
    "duration": 4339,
    "start_time": "2025-06-30T11:52:22.193Z"
   },
   {
    "duration": 11,
    "start_time": "2025-06-30T11:52:26.534Z"
   },
   {
    "duration": 1424,
    "start_time": "2025-06-30T11:52:26.546Z"
   },
   {
    "duration": 9,
    "start_time": "2025-06-30T11:52:27.972Z"
   },
   {
    "duration": 137,
    "start_time": "2025-06-30T11:52:27.983Z"
   },
   {
    "duration": 51,
    "start_time": "2025-06-30T11:52:28.122Z"
   },
   {
    "duration": 12,
    "start_time": "2025-06-30T11:52:28.174Z"
   },
   {
    "duration": 125,
    "start_time": "2025-06-30T11:52:28.188Z"
   },
   {
    "duration": 1486,
    "start_time": "2025-06-30T11:52:28.316Z"
   },
   {
    "duration": 6,
    "start_time": "2025-06-30T11:52:29.804Z"
   },
   {
    "duration": 14,
    "start_time": "2025-06-30T11:52:29.812Z"
   },
   {
    "duration": 4,
    "start_time": "2025-06-30T11:52:29.827Z"
   },
   {
    "duration": 17,
    "start_time": "2025-06-30T11:52:29.832Z"
   },
   {
    "duration": 85,
    "start_time": "2025-06-30T11:52:29.863Z"
   },
   {
    "duration": 10,
    "start_time": "2025-06-30T11:52:29.962Z"
   },
   {
    "duration": 107,
    "start_time": "2025-06-30T11:52:29.974Z"
   },
   {
    "duration": 79,
    "start_time": "2025-06-30T11:52:30.083Z"
   },
   {
    "duration": 24,
    "start_time": "2025-06-30T11:52:30.164Z"
   },
   {
    "duration": 39,
    "start_time": "2025-06-30T11:52:30.190Z"
   },
   {
    "duration": 213,
    "start_time": "2025-06-30T11:52:30.231Z"
   },
   {
    "duration": 39,
    "start_time": "2025-06-30T11:52:30.446Z"
   },
   {
    "duration": 58,
    "start_time": "2025-06-30T11:52:30.487Z"
   },
   {
    "duration": 149,
    "start_time": "2025-06-30T11:52:30.547Z"
   },
   {
    "duration": 96,
    "start_time": "2025-06-30T11:52:30.698Z"
   },
   {
    "duration": 54,
    "start_time": "2025-06-30T11:56:08.460Z"
   },
   {
    "duration": 1687,
    "start_time": "2025-06-30T11:56:26.954Z"
   },
   {
    "duration": 3440,
    "start_time": "2025-06-30T11:56:43.878Z"
   },
   {
    "duration": 84,
    "start_time": "2025-06-30T11:56:47.320Z"
   },
   {
    "duration": 12,
    "start_time": "2025-06-30T11:56:47.405Z"
   },
   {
    "duration": 36,
    "start_time": "2025-06-30T11:56:47.418Z"
   },
   {
    "duration": 18,
    "start_time": "2025-06-30T11:56:47.456Z"
   },
   {
    "duration": 4306,
    "start_time": "2025-06-30T11:56:47.476Z"
   },
   {
    "duration": 11,
    "start_time": "2025-06-30T11:56:51.783Z"
   },
   {
    "duration": 1437,
    "start_time": "2025-06-30T11:56:51.796Z"
   },
   {
    "duration": 11,
    "start_time": "2025-06-30T11:56:53.235Z"
   },
   {
    "duration": 30,
    "start_time": "2025-06-30T11:56:53.248Z"
   },
   {
    "duration": 34,
    "start_time": "2025-06-30T11:56:53.280Z"
   },
   {
    "duration": 10,
    "start_time": "2025-06-30T11:56:53.316Z"
   },
   {
    "duration": 132,
    "start_time": "2025-06-30T11:56:53.328Z"
   },
   {
    "duration": 1501,
    "start_time": "2025-06-30T11:56:53.463Z"
   },
   {
    "duration": 5,
    "start_time": "2025-06-30T11:56:54.966Z"
   },
   {
    "duration": 10,
    "start_time": "2025-06-30T11:56:54.973Z"
   },
   {
    "duration": 4,
    "start_time": "2025-06-30T11:56:54.984Z"
   },
   {
    "duration": 14,
    "start_time": "2025-06-30T11:56:54.989Z"
   },
   {
    "duration": 97,
    "start_time": "2025-06-30T11:56:55.005Z"
   },
   {
    "duration": 10,
    "start_time": "2025-06-30T11:56:55.104Z"
   },
   {
    "duration": 108,
    "start_time": "2025-06-30T11:56:55.116Z"
   },
   {
    "duration": 6,
    "start_time": "2025-06-30T11:56:55.226Z"
   },
   {
    "duration": 33,
    "start_time": "2025-06-30T11:56:55.234Z"
   },
   {
    "duration": 5,
    "start_time": "2025-06-30T11:56:55.269Z"
   },
   {
    "duration": 207,
    "start_time": "2025-06-30T11:56:55.276Z"
   },
   {
    "duration": 26,
    "start_time": "2025-06-30T11:56:55.485Z"
   },
   {
    "duration": 14,
    "start_time": "2025-06-30T11:56:55.513Z"
   },
   {
    "duration": 166,
    "start_time": "2025-06-30T11:56:55.529Z"
   },
   {
    "duration": 70,
    "start_time": "2025-06-30T11:56:55.697Z"
   },
   {
    "duration": 3372,
    "start_time": "2025-06-30T14:59:18.112Z"
   },
   {
    "duration": 161,
    "start_time": "2025-06-30T14:59:21.486Z"
   },
   {
    "duration": 14,
    "start_time": "2025-06-30T14:59:21.649Z"
   },
   {
    "duration": 23,
    "start_time": "2025-06-30T14:59:21.664Z"
   },
   {
    "duration": 19,
    "start_time": "2025-06-30T14:59:21.689Z"
   },
   {
    "duration": 4201,
    "start_time": "2025-06-30T14:59:21.709Z"
   },
   {
    "duration": 11,
    "start_time": "2025-06-30T14:59:25.911Z"
   },
   {
    "duration": 1473,
    "start_time": "2025-06-30T14:59:25.924Z"
   },
   {
    "duration": 8,
    "start_time": "2025-06-30T14:59:27.399Z"
   },
   {
    "duration": 14,
    "start_time": "2025-06-30T14:59:27.408Z"
   },
   {
    "duration": 40,
    "start_time": "2025-06-30T14:59:27.423Z"
   },
   {
    "duration": 11,
    "start_time": "2025-06-30T14:59:27.464Z"
   },
   {
    "duration": 128,
    "start_time": "2025-06-30T14:59:27.476Z"
   },
   {
    "duration": 1490,
    "start_time": "2025-06-30T14:59:27.607Z"
   },
   {
    "duration": 6,
    "start_time": "2025-06-30T14:59:29.098Z"
   },
   {
    "duration": 8,
    "start_time": "2025-06-30T14:59:29.106Z"
   },
   {
    "duration": 11,
    "start_time": "2025-06-30T14:59:29.116Z"
   },
   {
    "duration": 15,
    "start_time": "2025-06-30T14:59:29.128Z"
   },
   {
    "duration": 82,
    "start_time": "2025-06-30T14:59:29.145Z"
   },
   {
    "duration": 9,
    "start_time": "2025-06-30T14:59:29.229Z"
   },
   {
    "duration": 111,
    "start_time": "2025-06-30T14:59:29.240Z"
   },
   {
    "duration": 6,
    "start_time": "2025-06-30T14:59:29.352Z"
   },
   {
    "duration": 7,
    "start_time": "2025-06-30T14:59:29.361Z"
   },
   {
    "duration": 4,
    "start_time": "2025-06-30T14:59:29.369Z"
   },
   {
    "duration": 210,
    "start_time": "2025-06-30T14:59:29.374Z"
   },
   {
    "duration": 26,
    "start_time": "2025-06-30T14:59:29.586Z"
   },
   {
    "duration": 13,
    "start_time": "2025-06-30T14:59:29.614Z"
   },
   {
    "duration": 167,
    "start_time": "2025-06-30T14:59:29.629Z"
   },
   {
    "duration": 65,
    "start_time": "2025-06-30T14:59:29.798Z"
   },
   {
    "duration": 14,
    "start_time": "2025-06-30T14:59:29.864Z"
   },
   {
    "duration": 87,
    "start_time": "2025-06-30T15:20:24.802Z"
   },
   {
    "duration": 112,
    "start_time": "2025-06-30T15:20:47.548Z"
   },
   {
    "duration": 3572,
    "start_time": "2025-06-30T15:21:27.400Z"
   },
   {
    "duration": 76,
    "start_time": "2025-06-30T15:21:30.974Z"
   },
   {
    "duration": 13,
    "start_time": "2025-06-30T15:21:31.052Z"
   },
   {
    "duration": 83,
    "start_time": "2025-06-30T15:21:31.067Z"
   },
   {
    "duration": 18,
    "start_time": "2025-06-30T15:21:31.152Z"
   },
   {
    "duration": 4856,
    "start_time": "2025-06-30T15:21:31.172Z"
   },
   {
    "duration": 15,
    "start_time": "2025-06-30T15:21:36.030Z"
   },
   {
    "duration": 1434,
    "start_time": "2025-06-30T15:21:36.047Z"
   },
   {
    "duration": 7,
    "start_time": "2025-06-30T15:21:37.483Z"
   },
   {
    "duration": 19,
    "start_time": "2025-06-30T15:21:37.493Z"
   },
   {
    "duration": 27,
    "start_time": "2025-06-30T15:21:37.513Z"
   },
   {
    "duration": 23,
    "start_time": "2025-06-30T15:21:37.542Z"
   },
   {
    "duration": 147,
    "start_time": "2025-06-30T15:21:37.567Z"
   },
   {
    "duration": 1473,
    "start_time": "2025-06-30T15:21:37.716Z"
   },
   {
    "duration": 8,
    "start_time": "2025-06-30T15:21:39.191Z"
   },
   {
    "duration": 9,
    "start_time": "2025-06-30T15:21:39.200Z"
   },
   {
    "duration": 6,
    "start_time": "2025-06-30T15:21:39.210Z"
   },
   {
    "duration": 11,
    "start_time": "2025-06-30T15:21:39.218Z"
   },
   {
    "duration": 101,
    "start_time": "2025-06-30T15:21:39.231Z"
   },
   {
    "duration": 11,
    "start_time": "2025-06-30T15:21:39.333Z"
   },
   {
    "duration": 108,
    "start_time": "2025-06-30T15:21:39.345Z"
   },
   {
    "duration": 6,
    "start_time": "2025-06-30T15:21:39.462Z"
   },
   {
    "duration": 8,
    "start_time": "2025-06-30T15:21:39.470Z"
   },
   {
    "duration": 4,
    "start_time": "2025-06-30T15:21:39.480Z"
   },
   {
    "duration": 207,
    "start_time": "2025-06-30T15:21:39.486Z"
   },
   {
    "duration": 30,
    "start_time": "2025-06-30T15:21:39.695Z"
   },
   {
    "duration": 35,
    "start_time": "2025-06-30T15:21:39.727Z"
   },
   {
    "duration": 196,
    "start_time": "2025-06-30T15:21:39.766Z"
   },
   {
    "duration": 75,
    "start_time": "2025-06-30T15:21:39.964Z"
   },
   {
    "duration": 150,
    "start_time": "2025-06-30T15:21:40.041Z"
   },
   {
    "duration": 85,
    "start_time": "2025-06-30T15:23:57.303Z"
   },
   {
    "duration": 15,
    "start_time": "2025-06-30T15:24:08.881Z"
   },
   {
    "duration": 18,
    "start_time": "2025-06-30T15:24:56.134Z"
   },
   {
    "duration": 18,
    "start_time": "2025-06-30T15:26:14.543Z"
   },
   {
    "duration": 16,
    "start_time": "2025-06-30T15:26:31.516Z"
   },
   {
    "duration": 16,
    "start_time": "2025-06-30T15:28:42.190Z"
   },
   {
    "duration": 22,
    "start_time": "2025-06-30T15:30:01.921Z"
   },
   {
    "duration": 16,
    "start_time": "2025-06-30T15:30:28.037Z"
   },
   {
    "duration": 18,
    "start_time": "2025-06-30T15:34:19.042Z"
   },
   {
    "duration": 3527,
    "start_time": "2025-06-30T16:12:44.598Z"
   },
   {
    "duration": 141,
    "start_time": "2025-06-30T16:12:48.128Z"
   },
   {
    "duration": 12,
    "start_time": "2025-06-30T16:12:48.271Z"
   },
   {
    "duration": 15,
    "start_time": "2025-06-30T16:12:48.285Z"
   },
   {
    "duration": 21,
    "start_time": "2025-06-30T16:12:48.302Z"
   },
   {
    "duration": 4477,
    "start_time": "2025-06-30T16:12:48.325Z"
   },
   {
    "duration": 10,
    "start_time": "2025-06-30T16:12:52.804Z"
   },
   {
    "duration": 1527,
    "start_time": "2025-06-30T16:12:52.816Z"
   },
   {
    "duration": 7,
    "start_time": "2025-06-30T16:12:54.345Z"
   },
   {
    "duration": 30,
    "start_time": "2025-06-30T16:12:54.354Z"
   },
   {
    "duration": 29,
    "start_time": "2025-06-30T16:12:54.386Z"
   },
   {
    "duration": 11,
    "start_time": "2025-06-30T16:12:54.416Z"
   },
   {
    "duration": 123,
    "start_time": "2025-06-30T16:12:54.428Z"
   },
   {
    "duration": 1509,
    "start_time": "2025-06-30T16:12:54.554Z"
   },
   {
    "duration": 8,
    "start_time": "2025-06-30T16:12:56.064Z"
   },
   {
    "duration": 21,
    "start_time": "2025-06-30T16:12:56.073Z"
   },
   {
    "duration": 4,
    "start_time": "2025-06-30T16:12:56.096Z"
   },
   {
    "duration": 30,
    "start_time": "2025-06-30T16:12:56.102Z"
   },
   {
    "duration": 91,
    "start_time": "2025-06-30T16:12:56.134Z"
   },
   {
    "duration": 13,
    "start_time": "2025-06-30T16:12:56.227Z"
   },
   {
    "duration": 105,
    "start_time": "2025-06-30T16:12:56.242Z"
   },
   {
    "duration": 14,
    "start_time": "2025-06-30T16:12:56.348Z"
   },
   {
    "duration": 7,
    "start_time": "2025-06-30T16:12:56.364Z"
   },
   {
    "duration": 10,
    "start_time": "2025-06-30T16:12:56.373Z"
   },
   {
    "duration": 207,
    "start_time": "2025-06-30T16:12:56.385Z"
   },
   {
    "duration": 29,
    "start_time": "2025-06-30T16:12:56.594Z"
   },
   {
    "duration": 15,
    "start_time": "2025-06-30T16:12:56.625Z"
   },
   {
    "duration": 163,
    "start_time": "2025-06-30T16:12:56.662Z"
   },
   {
    "duration": 69,
    "start_time": "2025-06-30T16:12:56.826Z"
   },
   {
    "duration": 15,
    "start_time": "2025-06-30T16:12:56.896Z"
   },
   {
    "duration": 48,
    "start_time": "2025-06-30T16:12:56.912Z"
   },
   {
    "duration": 29,
    "start_time": "2025-06-30T16:24:20.428Z"
   },
   {
    "duration": 29,
    "start_time": "2025-06-30T16:30:05.214Z"
   },
   {
    "duration": 1555,
    "start_time": "2025-06-30T16:41:31.496Z"
   },
   {
    "duration": 3546,
    "start_time": "2025-06-30T16:41:49.538Z"
   },
   {
    "duration": 79,
    "start_time": "2025-06-30T16:41:53.086Z"
   },
   {
    "duration": 11,
    "start_time": "2025-06-30T16:41:53.167Z"
   },
   {
    "duration": 22,
    "start_time": "2025-06-30T16:41:53.180Z"
   },
   {
    "duration": 29,
    "start_time": "2025-06-30T16:41:53.204Z"
   },
   {
    "duration": 4218,
    "start_time": "2025-06-30T16:41:53.234Z"
   },
   {
    "duration": 17,
    "start_time": "2025-06-30T16:41:57.454Z"
   },
   {
    "duration": 1472,
    "start_time": "2025-06-30T16:41:57.472Z"
   },
   {
    "duration": 9,
    "start_time": "2025-06-30T16:41:58.946Z"
   },
   {
    "duration": 14,
    "start_time": "2025-06-30T16:41:58.964Z"
   },
   {
    "duration": 27,
    "start_time": "2025-06-30T16:41:58.979Z"
   },
   {
    "duration": 11,
    "start_time": "2025-06-30T16:41:59.007Z"
   },
   {
    "duration": 143,
    "start_time": "2025-06-30T16:41:59.019Z"
   },
   {
    "duration": 1550,
    "start_time": "2025-06-30T16:41:59.164Z"
   },
   {
    "duration": 6,
    "start_time": "2025-06-30T16:42:00.716Z"
   },
   {
    "duration": 10,
    "start_time": "2025-06-30T16:42:00.724Z"
   },
   {
    "duration": 4,
    "start_time": "2025-06-30T16:42:00.736Z"
   },
   {
    "duration": 10,
    "start_time": "2025-06-30T16:42:00.761Z"
   },
   {
    "duration": 105,
    "start_time": "2025-06-30T16:42:00.773Z"
   },
   {
    "duration": 10,
    "start_time": "2025-06-30T16:42:00.880Z"
   },
   {
    "duration": 113,
    "start_time": "2025-06-30T16:42:00.891Z"
   },
   {
    "duration": 5,
    "start_time": "2025-06-30T16:42:01.006Z"
   },
   {
    "duration": 10,
    "start_time": "2025-06-30T16:42:01.013Z"
   },
   {
    "duration": 4,
    "start_time": "2025-06-30T16:42:01.024Z"
   },
   {
    "duration": 218,
    "start_time": "2025-06-30T16:42:01.029Z"
   },
   {
    "duration": 34,
    "start_time": "2025-06-30T16:42:01.249Z"
   },
   {
    "duration": 112,
    "start_time": "2025-06-30T16:42:01.285Z"
   },
   {
    "duration": 146,
    "start_time": "2025-06-30T16:42:01.400Z"
   },
   {
    "duration": 77,
    "start_time": "2025-06-30T16:42:01.548Z"
   },
   {
    "duration": 59,
    "start_time": "2025-06-30T16:42:01.627Z"
   },
   {
    "duration": 65,
    "start_time": "2025-06-30T16:42:01.689Z"
   },
   {
    "duration": 29,
    "start_time": "2025-06-30T16:42:01.755Z"
   },
   {
    "duration": 1654,
    "start_time": "2025-06-30T16:42:01.785Z"
   },
   {
    "duration": 5,
    "start_time": "2025-06-30T16:43:15.218Z"
   },
   {
    "duration": 11,
    "start_time": "2025-06-30T16:44:08.484Z"
   },
   {
    "duration": 3379,
    "start_time": "2025-06-30T16:44:18.299Z"
   },
   {
    "duration": 92,
    "start_time": "2025-06-30T16:44:21.680Z"
   },
   {
    "duration": 12,
    "start_time": "2025-06-30T16:44:21.773Z"
   },
   {
    "duration": 82,
    "start_time": "2025-06-30T16:44:21.787Z"
   },
   {
    "duration": 18,
    "start_time": "2025-06-30T16:44:21.872Z"
   },
   {
    "duration": 4299,
    "start_time": "2025-06-30T16:44:21.892Z"
   },
   {
    "duration": 11,
    "start_time": "2025-06-30T16:44:26.193Z"
   },
   {
    "duration": 1373,
    "start_time": "2025-06-30T16:44:26.206Z"
   },
   {
    "duration": 8,
    "start_time": "2025-06-30T16:44:27.581Z"
   },
   {
    "duration": 77,
    "start_time": "2025-06-30T16:44:27.590Z"
   },
   {
    "duration": 24,
    "start_time": "2025-06-30T16:44:27.676Z"
   },
   {
    "duration": 9,
    "start_time": "2025-06-30T16:44:27.702Z"
   },
   {
    "duration": 112,
    "start_time": "2025-06-30T16:44:27.712Z"
   },
   {
    "duration": 1589,
    "start_time": "2025-06-30T16:44:27.826Z"
   },
   {
    "duration": 6,
    "start_time": "2025-06-30T16:44:29.417Z"
   },
   {
    "duration": 12,
    "start_time": "2025-06-30T16:44:29.424Z"
   },
   {
    "duration": 3,
    "start_time": "2025-06-30T16:44:29.438Z"
   },
   {
    "duration": 17,
    "start_time": "2025-06-30T16:44:29.463Z"
   },
   {
    "duration": 97,
    "start_time": "2025-06-30T16:44:29.481Z"
   },
   {
    "duration": 11,
    "start_time": "2025-06-30T16:44:29.579Z"
   },
   {
    "duration": 150,
    "start_time": "2025-06-30T16:44:29.591Z"
   },
   {
    "duration": 6,
    "start_time": "2025-06-30T16:44:29.743Z"
   },
   {
    "duration": 25,
    "start_time": "2025-06-30T16:44:29.750Z"
   },
   {
    "duration": 3,
    "start_time": "2025-06-30T16:44:29.777Z"
   },
   {
    "duration": 229,
    "start_time": "2025-06-30T16:44:29.784Z"
   },
   {
    "duration": 29,
    "start_time": "2025-06-30T16:44:30.014Z"
   },
   {
    "duration": 46,
    "start_time": "2025-06-30T16:44:30.045Z"
   },
   {
    "duration": 180,
    "start_time": "2025-06-30T16:44:30.093Z"
   },
   {
    "duration": 61,
    "start_time": "2025-06-30T16:44:30.275Z"
   },
   {
    "duration": 15,
    "start_time": "2025-06-30T16:44:30.338Z"
   },
   {
    "duration": 63,
    "start_time": "2025-06-30T16:44:30.354Z"
   },
   {
    "duration": 51,
    "start_time": "2025-06-30T16:44:30.418Z"
   },
   {
    "duration": 5,
    "start_time": "2025-06-30T16:44:30.479Z"
   },
   {
    "duration": 30,
    "start_time": "2025-06-30T16:44:30.486Z"
   },
   {
    "duration": 4,
    "start_time": "2025-06-30T16:44:57.249Z"
   },
   {
    "duration": 62,
    "start_time": "2025-06-30T16:57:20.659Z"
   },
   {
    "duration": 32,
    "start_time": "2025-06-30T16:58:02.641Z"
   },
   {
    "duration": 5,
    "start_time": "2025-06-30T16:59:16.115Z"
   },
   {
    "duration": 5,
    "start_time": "2025-06-30T17:00:45.077Z"
   },
   {
    "duration": 5,
    "start_time": "2025-06-30T17:00:47.319Z"
   },
   {
    "duration": 3669,
    "start_time": "2025-06-30T18:53:03.726Z"
   },
   {
    "duration": 119,
    "start_time": "2025-06-30T18:53:07.397Z"
   },
   {
    "duration": 12,
    "start_time": "2025-06-30T18:53:07.518Z"
   },
   {
    "duration": 23,
    "start_time": "2025-06-30T18:53:07.532Z"
   },
   {
    "duration": 27,
    "start_time": "2025-06-30T18:53:07.556Z"
   },
   {
    "duration": 4563,
    "start_time": "2025-06-30T18:53:07.584Z"
   },
   {
    "duration": 23,
    "start_time": "2025-06-30T18:53:12.148Z"
   },
   {
    "duration": 1703,
    "start_time": "2025-06-30T18:53:12.174Z"
   },
   {
    "duration": 9,
    "start_time": "2025-06-30T18:53:13.879Z"
   },
   {
    "duration": 51,
    "start_time": "2025-06-30T18:53:13.891Z"
   },
   {
    "duration": 28,
    "start_time": "2025-06-30T18:53:13.943Z"
   },
   {
    "duration": 12,
    "start_time": "2025-06-30T18:53:13.973Z"
   },
   {
    "duration": 129,
    "start_time": "2025-06-30T18:53:13.986Z"
   },
   {
    "duration": 1737,
    "start_time": "2025-06-30T18:53:14.117Z"
   },
   {
    "duration": 12,
    "start_time": "2025-06-30T18:53:15.855Z"
   },
   {
    "duration": 16,
    "start_time": "2025-06-30T18:53:15.869Z"
   },
   {
    "duration": 4,
    "start_time": "2025-06-30T18:53:15.886Z"
   },
   {
    "duration": 17,
    "start_time": "2025-06-30T18:53:15.892Z"
   },
   {
    "duration": 104,
    "start_time": "2025-06-30T18:53:15.911Z"
   },
   {
    "duration": 9,
    "start_time": "2025-06-30T18:53:16.017Z"
   },
   {
    "duration": 118,
    "start_time": "2025-06-30T18:53:16.028Z"
   },
   {
    "duration": 6,
    "start_time": "2025-06-30T18:53:16.150Z"
   },
   {
    "duration": 92,
    "start_time": "2025-06-30T18:53:16.161Z"
   },
   {
    "duration": 4,
    "start_time": "2025-06-30T18:53:16.255Z"
   },
   {
    "duration": 230,
    "start_time": "2025-06-30T18:53:16.260Z"
   },
   {
    "duration": 26,
    "start_time": "2025-06-30T18:53:16.492Z"
   },
   {
    "duration": 13,
    "start_time": "2025-06-30T18:53:16.520Z"
   },
   {
    "duration": 181,
    "start_time": "2025-06-30T18:53:16.536Z"
   },
   {
    "duration": 76,
    "start_time": "2025-06-30T18:53:16.718Z"
   },
   {
    "duration": 16,
    "start_time": "2025-06-30T18:53:16.796Z"
   },
   {
    "duration": 27,
    "start_time": "2025-06-30T18:53:16.814Z"
   },
   {
    "duration": 54,
    "start_time": "2025-06-30T18:53:16.842Z"
   },
   {
    "duration": 5,
    "start_time": "2025-06-30T18:53:16.898Z"
   },
   {
    "duration": 13,
    "start_time": "2025-06-30T18:53:16.905Z"
   },
   {
    "duration": 121,
    "start_time": "2025-06-30T18:53:16.920Z"
   },
   {
    "duration": 0,
    "start_time": "2025-06-30T18:53:17.043Z"
   },
   {
    "duration": 1870,
    "start_time": "2025-06-30T19:14:16.139Z"
   },
   {
    "duration": 3757,
    "start_time": "2025-06-30T19:14:37.081Z"
   },
   {
    "duration": 95,
    "start_time": "2025-06-30T19:14:40.840Z"
   },
   {
    "duration": 15,
    "start_time": "2025-06-30T19:14:40.937Z"
   },
   {
    "duration": 28,
    "start_time": "2025-06-30T19:14:40.954Z"
   },
   {
    "duration": 21,
    "start_time": "2025-06-30T19:14:40.983Z"
   },
   {
    "duration": 4726,
    "start_time": "2025-06-30T19:14:41.006Z"
   },
   {
    "duration": 11,
    "start_time": "2025-06-30T19:14:45.734Z"
   },
   {
    "duration": 1748,
    "start_time": "2025-06-30T19:14:45.762Z"
   },
   {
    "duration": 8,
    "start_time": "2025-06-30T19:14:47.512Z"
   },
   {
    "duration": 22,
    "start_time": "2025-06-30T19:14:47.523Z"
   },
   {
    "duration": 44,
    "start_time": "2025-06-30T19:14:47.547Z"
   },
   {
    "duration": 11,
    "start_time": "2025-06-30T19:14:47.593Z"
   },
   {
    "duration": 140,
    "start_time": "2025-06-30T19:14:47.606Z"
   },
   {
    "duration": 1745,
    "start_time": "2025-06-30T19:14:47.748Z"
   },
   {
    "duration": 6,
    "start_time": "2025-06-30T19:14:49.495Z"
   },
   {
    "duration": 7,
    "start_time": "2025-06-30T19:14:49.503Z"
   },
   {
    "duration": 3,
    "start_time": "2025-06-30T19:14:49.512Z"
   },
   {
    "duration": 21,
    "start_time": "2025-06-30T19:14:49.517Z"
   },
   {
    "duration": 112,
    "start_time": "2025-06-30T19:14:49.568Z"
   },
   {
    "duration": 12,
    "start_time": "2025-06-30T19:14:49.682Z"
   },
   {
    "duration": 136,
    "start_time": "2025-06-30T19:14:49.697Z"
   },
   {
    "duration": 8,
    "start_time": "2025-06-30T19:14:49.836Z"
   },
   {
    "duration": 81,
    "start_time": "2025-06-30T19:14:49.846Z"
   },
   {
    "duration": 5,
    "start_time": "2025-06-30T19:14:49.929Z"
   },
   {
    "duration": 249,
    "start_time": "2025-06-30T19:14:49.936Z"
   },
   {
    "duration": 41,
    "start_time": "2025-06-30T19:14:50.187Z"
   },
   {
    "duration": 45,
    "start_time": "2025-06-30T19:14:50.230Z"
   },
   {
    "duration": 239,
    "start_time": "2025-06-30T19:14:50.281Z"
   },
   {
    "duration": 71,
    "start_time": "2025-06-30T19:14:50.521Z"
   },
   {
    "duration": 15,
    "start_time": "2025-06-30T19:14:50.594Z"
   },
   {
    "duration": 29,
    "start_time": "2025-06-30T19:14:50.611Z"
   },
   {
    "duration": 38,
    "start_time": "2025-06-30T19:14:50.665Z"
   },
   {
    "duration": 4,
    "start_time": "2025-06-30T19:14:50.705Z"
   },
   {
    "duration": 45,
    "start_time": "2025-06-30T19:14:50.711Z"
   },
   {
    "duration": 1532,
    "start_time": "2025-06-30T19:14:50.758Z"
   },
   {
    "duration": 0,
    "start_time": "2025-06-30T19:14:52.292Z"
   },
   {
    "duration": 37,
    "start_time": "2025-06-30T19:18:45.832Z"
   },
   {
    "duration": 413,
    "start_time": "2025-06-30T19:20:41.499Z"
   },
   {
    "duration": 9,
    "start_time": "2025-06-30T19:33:06.975Z"
   },
   {
    "duration": 10,
    "start_time": "2025-06-30T19:41:57.830Z"
   },
   {
    "duration": 9,
    "start_time": "2025-06-30T19:58:16.387Z"
   },
   {
    "duration": 8,
    "start_time": "2025-06-30T20:00:05.348Z"
   },
   {
    "duration": 12,
    "start_time": "2025-06-30T20:07:46.964Z"
   },
   {
    "duration": 37,
    "start_time": "2025-06-30T20:16:11.752Z"
   },
   {
    "duration": 31,
    "start_time": "2025-06-30T20:17:08.925Z"
   },
   {
    "duration": 27,
    "start_time": "2025-06-30T20:17:26.430Z"
   },
   {
    "duration": 9884,
    "start_time": "2025-07-01T14:33:55.525Z"
   },
   {
    "duration": 175,
    "start_time": "2025-07-01T14:34:05.411Z"
   },
   {
    "duration": 12,
    "start_time": "2025-07-01T14:34:05.588Z"
   },
   {
    "duration": 38,
    "start_time": "2025-07-01T14:34:05.602Z"
   },
   {
    "duration": 14,
    "start_time": "2025-07-01T14:34:05.643Z"
   },
   {
    "duration": 6,
    "start_time": "2025-07-01T14:34:05.659Z"
   },
   {
    "duration": 54,
    "start_time": "2025-07-01T14:34:05.666Z"
   },
   {
    "duration": 4603,
    "start_time": "2025-07-01T14:34:05.722Z"
   },
   {
    "duration": 11,
    "start_time": "2025-07-01T14:34:10.326Z"
   },
   {
    "duration": 1799,
    "start_time": "2025-07-01T14:34:10.338Z"
   },
   {
    "duration": 8,
    "start_time": "2025-07-01T14:34:12.139Z"
   },
   {
    "duration": 26,
    "start_time": "2025-07-01T14:34:12.148Z"
   },
   {
    "duration": 29,
    "start_time": "2025-07-01T14:34:12.176Z"
   },
   {
    "duration": 11,
    "start_time": "2025-07-01T14:34:12.208Z"
   },
   {
    "duration": 128,
    "start_time": "2025-07-01T14:34:12.220Z"
   },
   {
    "duration": 1644,
    "start_time": "2025-07-01T14:34:12.350Z"
   },
   {
    "duration": 7,
    "start_time": "2025-07-01T14:34:13.996Z"
   },
   {
    "duration": 9,
    "start_time": "2025-07-01T14:34:14.004Z"
   },
   {
    "duration": 5,
    "start_time": "2025-07-01T14:34:14.014Z"
   },
   {
    "duration": 9,
    "start_time": "2025-07-01T14:34:14.021Z"
   },
   {
    "duration": 108,
    "start_time": "2025-07-01T14:34:14.031Z"
   },
   {
    "duration": 23,
    "start_time": "2025-07-01T14:34:14.140Z"
   },
   {
    "duration": 113,
    "start_time": "2025-07-01T14:34:14.165Z"
   },
   {
    "duration": 6,
    "start_time": "2025-07-01T14:34:14.280Z"
   },
   {
    "duration": 21,
    "start_time": "2025-07-01T14:34:14.288Z"
   },
   {
    "duration": 13,
    "start_time": "2025-07-01T14:34:14.310Z"
   },
   {
    "duration": 217,
    "start_time": "2025-07-01T14:34:14.325Z"
   },
   {
    "duration": 36,
    "start_time": "2025-07-01T14:34:14.544Z"
   },
   {
    "duration": 14,
    "start_time": "2025-07-01T14:34:14.582Z"
   },
   {
    "duration": 168,
    "start_time": "2025-07-01T14:34:14.597Z"
   },
   {
    "duration": 35,
    "start_time": "2025-07-01T14:34:14.767Z"
   },
   {
    "duration": 29,
    "start_time": "2025-07-01T14:34:14.803Z"
   },
   {
    "duration": 28,
    "start_time": "2025-07-01T14:34:14.834Z"
   },
   {
    "duration": 5,
    "start_time": "2025-07-01T14:34:14.864Z"
   },
   {
    "duration": 20,
    "start_time": "2025-07-01T14:34:14.870Z"
   },
   {
    "duration": 29,
    "start_time": "2025-07-01T14:34:14.891Z"
   },
   {
    "duration": 86,
    "start_time": "2025-07-01T14:34:14.922Z"
   },
   {
    "duration": 6,
    "start_time": "2025-07-01T14:34:15.009Z"
   },
   {
    "duration": 82,
    "start_time": "2025-07-01T14:34:15.016Z"
   },
   {
    "duration": 59,
    "start_time": "2025-07-01T14:34:15.100Z"
   },
   {
    "duration": 83,
    "start_time": "2025-07-01T14:34:15.163Z"
   },
   {
    "duration": 83,
    "start_time": "2025-07-01T14:54:26.497Z"
   },
   {
    "duration": 10,
    "start_time": "2025-07-01T14:54:35.698Z"
   },
   {
    "duration": 5,
    "start_time": "2025-07-01T15:33:55.167Z"
   },
   {
    "duration": 6,
    "start_time": "2025-07-01T15:34:05.309Z"
   },
   {
    "duration": 6,
    "start_time": "2025-07-01T15:46:39.365Z"
   },
   {
    "duration": 6,
    "start_time": "2025-07-01T15:47:15.746Z"
   },
   {
    "duration": 5,
    "start_time": "2025-07-01T15:50:28.783Z"
   },
   {
    "duration": 64,
    "start_time": "2025-07-01T20:40:59.147Z"
   },
   {
    "duration": 9732,
    "start_time": "2025-07-01T20:41:07.452Z"
   },
   {
    "duration": 64,
    "start_time": "2025-07-01T20:41:17.186Z"
   },
   {
    "duration": 50,
    "start_time": "2025-07-01T20:41:17.253Z"
   },
   {
    "duration": 19,
    "start_time": "2025-07-01T20:41:17.305Z"
   },
   {
    "duration": 18,
    "start_time": "2025-07-01T20:41:17.327Z"
   },
   {
    "duration": 13,
    "start_time": "2025-07-01T20:41:17.347Z"
   },
   {
    "duration": 6,
    "start_time": "2025-07-01T20:41:17.362Z"
   },
   {
    "duration": 4586,
    "start_time": "2025-07-01T20:41:17.369Z"
   },
   {
    "duration": 11,
    "start_time": "2025-07-01T20:41:21.957Z"
   },
   {
    "duration": 1508,
    "start_time": "2025-07-01T20:41:21.969Z"
   },
   {
    "duration": 9,
    "start_time": "2025-07-01T20:41:23.478Z"
   },
   {
    "duration": 12,
    "start_time": "2025-07-01T20:41:23.489Z"
   },
   {
    "duration": 53,
    "start_time": "2025-07-01T20:41:23.503Z"
   },
   {
    "duration": 54,
    "start_time": "2025-07-01T20:41:23.560Z"
   },
   {
    "duration": 115,
    "start_time": "2025-07-01T20:41:23.617Z"
   },
   {
    "duration": 1685,
    "start_time": "2025-07-01T20:41:23.734Z"
   },
   {
    "duration": 25,
    "start_time": "2025-07-01T20:41:25.421Z"
   },
   {
    "duration": 8,
    "start_time": "2025-07-01T20:41:25.451Z"
   },
   {
    "duration": 3,
    "start_time": "2025-07-01T20:41:25.461Z"
   },
   {
    "duration": 10,
    "start_time": "2025-07-01T20:41:25.465Z"
   },
   {
    "duration": 105,
    "start_time": "2025-07-01T20:41:25.476Z"
   },
   {
    "duration": 10,
    "start_time": "2025-07-01T20:41:25.582Z"
   },
   {
    "duration": 115,
    "start_time": "2025-07-01T20:41:25.593Z"
   },
   {
    "duration": 5,
    "start_time": "2025-07-01T20:41:25.709Z"
   },
   {
    "duration": 39,
    "start_time": "2025-07-01T20:41:25.716Z"
   },
   {
    "duration": 3,
    "start_time": "2025-07-01T20:41:25.757Z"
   },
   {
    "duration": 222,
    "start_time": "2025-07-01T20:41:25.761Z"
   },
   {
    "duration": 27,
    "start_time": "2025-07-01T20:41:25.984Z"
   },
   {
    "duration": 59,
    "start_time": "2025-07-01T20:41:26.012Z"
   },
   {
    "duration": 218,
    "start_time": "2025-07-01T20:41:26.073Z"
   },
   {
    "duration": 32,
    "start_time": "2025-07-01T20:41:26.292Z"
   },
   {
    "duration": 31,
    "start_time": "2025-07-01T20:41:26.340Z"
   },
   {
    "duration": 4,
    "start_time": "2025-07-01T20:41:26.373Z"
   },
   {
    "duration": 6,
    "start_time": "2025-07-01T20:41:26.378Z"
   },
   {
    "duration": 19,
    "start_time": "2025-07-01T20:41:26.385Z"
   },
   {
    "duration": 48,
    "start_time": "2025-07-01T20:41:26.406Z"
   },
   {
    "duration": 28,
    "start_time": "2025-07-01T20:41:26.455Z"
   },
   {
    "duration": 5,
    "start_time": "2025-07-01T20:41:26.484Z"
   },
   {
    "duration": 13,
    "start_time": "2025-07-01T20:41:26.490Z"
   },
   {
    "duration": 44,
    "start_time": "2025-07-01T20:41:26.505Z"
   },
   {
    "duration": 5,
    "start_time": "2025-07-01T20:41:26.559Z"
   },
   {
    "duration": 4659,
    "start_time": "2025-07-01T20:42:30.653Z"
   },
   {
    "duration": 4725,
    "start_time": "2025-07-01T20:53:54.694Z"
   },
   {
    "duration": 106,
    "start_time": "2025-07-01T21:00:50.295Z"
   },
   {
    "duration": 89,
    "start_time": "2025-07-01T21:20:59.031Z"
   },
   {
    "duration": 74,
    "start_time": "2025-07-01T21:29:51.588Z"
   },
   {
    "duration": 3636,
    "start_time": "2025-07-01T21:30:00.439Z"
   },
   {
    "duration": 72,
    "start_time": "2025-07-01T21:30:04.078Z"
   },
   {
    "duration": 74,
    "start_time": "2025-07-01T21:30:04.153Z"
   },
   {
    "duration": 34,
    "start_time": "2025-07-01T21:30:04.229Z"
   },
   {
    "duration": 20,
    "start_time": "2025-07-01T21:30:04.265Z"
   },
   {
    "duration": 55,
    "start_time": "2025-07-01T21:30:04.286Z"
   },
   {
    "duration": 46,
    "start_time": "2025-07-01T21:30:04.343Z"
   },
   {
    "duration": 4617,
    "start_time": "2025-07-01T21:30:04.390Z"
   },
   {
    "duration": 70,
    "start_time": "2025-07-01T21:30:09.008Z"
   },
   {
    "duration": 0,
    "start_time": "2025-07-01T21:30:09.081Z"
   },
   {
    "duration": 0,
    "start_time": "2025-07-01T21:30:09.083Z"
   },
   {
    "duration": 0,
    "start_time": "2025-07-01T21:30:09.084Z"
   },
   {
    "duration": 0,
    "start_time": "2025-07-01T21:30:09.086Z"
   },
   {
    "duration": 0,
    "start_time": "2025-07-01T21:30:09.087Z"
   },
   {
    "duration": 0,
    "start_time": "2025-07-01T21:30:09.089Z"
   },
   {
    "duration": 0,
    "start_time": "2025-07-01T21:30:09.090Z"
   },
   {
    "duration": 0,
    "start_time": "2025-07-01T21:30:09.092Z"
   },
   {
    "duration": 0,
    "start_time": "2025-07-01T21:30:09.093Z"
   },
   {
    "duration": 0,
    "start_time": "2025-07-01T21:30:09.095Z"
   },
   {
    "duration": 0,
    "start_time": "2025-07-01T21:30:09.096Z"
   },
   {
    "duration": 0,
    "start_time": "2025-07-01T21:30:09.097Z"
   },
   {
    "duration": 0,
    "start_time": "2025-07-01T21:30:09.099Z"
   },
   {
    "duration": 0,
    "start_time": "2025-07-01T21:30:09.100Z"
   },
   {
    "duration": 0,
    "start_time": "2025-07-01T21:30:09.102Z"
   },
   {
    "duration": 0,
    "start_time": "2025-07-01T21:30:09.103Z"
   },
   {
    "duration": 0,
    "start_time": "2025-07-01T21:30:09.104Z"
   },
   {
    "duration": 0,
    "start_time": "2025-07-01T21:30:09.106Z"
   },
   {
    "duration": 0,
    "start_time": "2025-07-01T21:30:09.107Z"
   },
   {
    "duration": 0,
    "start_time": "2025-07-01T21:30:09.109Z"
   },
   {
    "duration": 0,
    "start_time": "2025-07-01T21:30:09.110Z"
   },
   {
    "duration": 0,
    "start_time": "2025-07-01T21:30:09.111Z"
   },
   {
    "duration": 0,
    "start_time": "2025-07-01T21:30:09.113Z"
   },
   {
    "duration": 0,
    "start_time": "2025-07-01T21:30:09.114Z"
   },
   {
    "duration": 0,
    "start_time": "2025-07-01T21:30:09.115Z"
   },
   {
    "duration": 1,
    "start_time": "2025-07-01T21:30:09.116Z"
   },
   {
    "duration": 0,
    "start_time": "2025-07-01T21:30:09.118Z"
   },
   {
    "duration": 0,
    "start_time": "2025-07-01T21:30:09.138Z"
   },
   {
    "duration": 0,
    "start_time": "2025-07-01T21:30:09.139Z"
   },
   {
    "duration": 0,
    "start_time": "2025-07-01T21:30:09.141Z"
   },
   {
    "duration": 0,
    "start_time": "2025-07-01T21:30:09.147Z"
   },
   {
    "duration": 0,
    "start_time": "2025-07-01T21:30:09.149Z"
   },
   {
    "duration": 0,
    "start_time": "2025-07-01T21:30:09.150Z"
   },
   {
    "duration": 219,
    "start_time": "2025-07-01T21:30:56.887Z"
   },
   {
    "duration": 10,
    "start_time": "2025-07-01T21:31:32.537Z"
   },
   {
    "duration": 218,
    "start_time": "2025-07-01T21:31:39.690Z"
   },
   {
    "duration": 224,
    "start_time": "2025-07-01T21:33:33.154Z"
   },
   {
    "duration": 242,
    "start_time": "2025-07-01T21:33:51.808Z"
   },
   {
    "duration": 11,
    "start_time": "2025-07-01T22:03:48.794Z"
   },
   {
    "duration": 3655,
    "start_time": "2025-07-01T22:07:31.018Z"
   },
   {
    "duration": 96,
    "start_time": "2025-07-01T22:07:34.675Z"
   },
   {
    "duration": 12,
    "start_time": "2025-07-01T22:07:34.773Z"
   },
   {
    "duration": 34,
    "start_time": "2025-07-01T22:07:34.787Z"
   },
   {
    "duration": 44,
    "start_time": "2025-07-01T22:07:34.822Z"
   },
   {
    "duration": 6,
    "start_time": "2025-07-01T22:07:34.867Z"
   },
   {
    "duration": 26,
    "start_time": "2025-07-01T22:07:34.875Z"
   },
   {
    "duration": 4656,
    "start_time": "2025-07-01T22:07:34.902Z"
   },
   {
    "duration": 243,
    "start_time": "2025-07-01T22:07:39.560Z"
   },
   {
    "duration": 12,
    "start_time": "2025-07-01T22:07:39.805Z"
   },
   {
    "duration": 1590,
    "start_time": "2025-07-01T22:07:39.818Z"
   },
   {
    "duration": 8,
    "start_time": "2025-07-01T22:07:41.410Z"
   },
   {
    "duration": 27,
    "start_time": "2025-07-01T22:07:41.419Z"
   },
   {
    "duration": 29,
    "start_time": "2025-07-01T22:07:41.456Z"
   },
   {
    "duration": 12,
    "start_time": "2025-07-01T22:07:41.487Z"
   },
   {
    "duration": 152,
    "start_time": "2025-07-01T22:07:41.500Z"
   },
   {
    "duration": 1810,
    "start_time": "2025-07-01T22:07:41.654Z"
   },
   {
    "duration": 6,
    "start_time": "2025-07-01T22:07:43.466Z"
   },
   {
    "duration": 8,
    "start_time": "2025-07-01T22:07:43.474Z"
   },
   {
    "duration": 5,
    "start_time": "2025-07-01T22:07:43.484Z"
   },
   {
    "duration": 9,
    "start_time": "2025-07-01T22:07:43.491Z"
   },
   {
    "duration": 171,
    "start_time": "2025-07-01T22:07:43.501Z"
   },
   {
    "duration": 10,
    "start_time": "2025-07-01T22:07:43.673Z"
   },
   {
    "duration": 113,
    "start_time": "2025-07-01T22:07:43.685Z"
   },
   {
    "duration": 6,
    "start_time": "2025-07-01T22:07:43.799Z"
   },
   {
    "duration": 22,
    "start_time": "2025-07-01T22:07:43.806Z"
   },
   {
    "duration": 3,
    "start_time": "2025-07-01T22:07:43.830Z"
   },
   {
    "duration": 222,
    "start_time": "2025-07-01T22:07:43.837Z"
   },
   {
    "duration": 26,
    "start_time": "2025-07-01T22:07:44.061Z"
   },
   {
    "duration": 17,
    "start_time": "2025-07-01T22:07:44.088Z"
   },
   {
    "duration": 192,
    "start_time": "2025-07-01T22:07:44.107Z"
   },
   {
    "duration": 49,
    "start_time": "2025-07-01T22:07:44.300Z"
   },
   {
    "duration": 27,
    "start_time": "2025-07-01T22:07:44.351Z"
   },
   {
    "duration": 70,
    "start_time": "2025-07-01T22:07:44.379Z"
   },
   {
    "duration": 7,
    "start_time": "2025-07-01T22:07:44.451Z"
   },
   {
    "duration": 20,
    "start_time": "2025-07-01T22:07:44.459Z"
   },
   {
    "duration": 29,
    "start_time": "2025-07-01T22:07:44.481Z"
   },
   {
    "duration": 52,
    "start_time": "2025-07-01T22:07:44.511Z"
   },
   {
    "duration": 4,
    "start_time": "2025-07-01T22:07:44.565Z"
   },
   {
    "duration": 7,
    "start_time": "2025-07-01T22:07:44.570Z"
   },
   {
    "duration": 9,
    "start_time": "2025-07-01T22:07:44.578Z"
   },
   {
    "duration": 5,
    "start_time": "2025-07-01T22:07:44.589Z"
   },
   {
    "duration": 4,
    "start_time": "2025-07-01T23:06:38.953Z"
   },
   {
    "duration": 19,
    "start_time": "2025-07-01T23:07:17.031Z"
   },
   {
    "duration": 90,
    "start_time": "2025-07-01T23:07:29.325Z"
   },
   {
    "duration": 94,
    "start_time": "2025-07-01T23:08:11.625Z"
   },
   {
    "duration": 90,
    "start_time": "2025-07-01T23:08:34.594Z"
   },
   {
    "duration": 6,
    "start_time": "2025-07-01T23:14:05.668Z"
   },
   {
    "duration": 2474,
    "start_time": "2025-07-01T23:23:48.786Z"
   },
   {
    "duration": 5,
    "start_time": "2025-07-01T23:25:41.855Z"
   },
   {
    "duration": 13,
    "start_time": "2025-07-01T23:26:01.300Z"
   },
   {
    "duration": 14,
    "start_time": "2025-07-01T23:26:52.298Z"
   },
   {
    "duration": 5,
    "start_time": "2025-07-01T23:31:47.801Z"
   },
   {
    "duration": 8,
    "start_time": "2025-07-01T23:31:50.612Z"
   },
   {
    "duration": 4,
    "start_time": "2025-07-01T23:32:39.154Z"
   },
   {
    "duration": 9,
    "start_time": "2025-07-01T23:32:42.514Z"
   },
   {
    "duration": 4,
    "start_time": "2025-07-01T23:39:38.927Z"
   },
   {
    "duration": 9,
    "start_time": "2025-07-01T23:39:41.051Z"
   },
   {
    "duration": 3535,
    "start_time": "2025-07-01T23:40:32.731Z"
   },
   {
    "duration": 98,
    "start_time": "2025-07-01T23:40:36.268Z"
   },
   {
    "duration": 11,
    "start_time": "2025-07-01T23:40:36.367Z"
   },
   {
    "duration": 105,
    "start_time": "2025-07-01T23:40:36.379Z"
   },
   {
    "duration": 23,
    "start_time": "2025-07-01T23:40:36.486Z"
   },
   {
    "duration": 8,
    "start_time": "2025-07-01T23:40:36.511Z"
   },
   {
    "duration": 24,
    "start_time": "2025-07-01T23:40:36.522Z"
   },
   {
    "duration": 4421,
    "start_time": "2025-07-01T23:40:36.549Z"
   },
   {
    "duration": 228,
    "start_time": "2025-07-01T23:40:40.972Z"
   },
   {
    "duration": 10,
    "start_time": "2025-07-01T23:40:41.202Z"
   },
   {
    "duration": 1634,
    "start_time": "2025-07-01T23:40:41.213Z"
   },
   {
    "duration": 8,
    "start_time": "2025-07-01T23:40:42.849Z"
   },
   {
    "duration": 12,
    "start_time": "2025-07-01T23:40:42.859Z"
   },
   {
    "duration": 24,
    "start_time": "2025-07-01T23:40:42.874Z"
   },
   {
    "duration": 11,
    "start_time": "2025-07-01T23:40:42.899Z"
   },
   {
    "duration": 139,
    "start_time": "2025-07-01T23:40:42.911Z"
   },
   {
    "duration": 1607,
    "start_time": "2025-07-01T23:40:43.052Z"
   },
   {
    "duration": 6,
    "start_time": "2025-07-01T23:40:44.660Z"
   },
   {
    "duration": 56,
    "start_time": "2025-07-01T23:40:44.667Z"
   },
   {
    "duration": 4,
    "start_time": "2025-07-01T23:40:44.724Z"
   },
   {
    "duration": 20,
    "start_time": "2025-07-01T23:40:44.729Z"
   },
   {
    "duration": 74,
    "start_time": "2025-07-01T23:40:44.751Z"
   },
   {
    "duration": 19,
    "start_time": "2025-07-01T23:40:44.837Z"
   },
   {
    "duration": 102,
    "start_time": "2025-07-01T23:40:44.858Z"
   },
   {
    "duration": 5,
    "start_time": "2025-07-01T23:40:44.961Z"
   },
   {
    "duration": 12,
    "start_time": "2025-07-01T23:40:44.968Z"
   },
   {
    "duration": 6,
    "start_time": "2025-07-01T23:40:44.981Z"
   },
   {
    "duration": 227,
    "start_time": "2025-07-01T23:40:44.989Z"
   },
   {
    "duration": 44,
    "start_time": "2025-07-01T23:40:45.217Z"
   },
   {
    "duration": 15,
    "start_time": "2025-07-01T23:40:45.262Z"
   },
   {
    "duration": 211,
    "start_time": "2025-07-01T23:40:45.278Z"
   },
   {
    "duration": 34,
    "start_time": "2025-07-01T23:40:45.490Z"
   },
   {
    "duration": 40,
    "start_time": "2025-07-01T23:40:45.525Z"
   },
   {
    "duration": 101,
    "start_time": "2025-07-01T23:40:45.566Z"
   },
   {
    "duration": 21,
    "start_time": "2025-07-01T23:40:45.668Z"
   },
   {
    "duration": 28,
    "start_time": "2025-07-01T23:40:45.690Z"
   },
   {
    "duration": 37,
    "start_time": "2025-07-01T23:40:45.720Z"
   },
   {
    "duration": 4,
    "start_time": "2025-07-01T23:40:45.759Z"
   },
   {
    "duration": 6,
    "start_time": "2025-07-01T23:40:45.765Z"
   },
   {
    "duration": 8,
    "start_time": "2025-07-01T23:40:45.772Z"
   },
   {
    "duration": 3,
    "start_time": "2025-07-01T23:40:45.783Z"
   },
   {
    "duration": 4,
    "start_time": "2025-07-01T23:43:50.208Z"
   },
   {
    "duration": 11,
    "start_time": "2025-07-01T23:43:52.355Z"
   },
   {
    "duration": 4,
    "start_time": "2025-07-01T23:44:15.693Z"
   },
   {
    "duration": 9,
    "start_time": "2025-07-01T23:44:18.498Z"
   },
   {
    "duration": 8,
    "start_time": "2025-07-01T23:45:07.716Z"
   },
   {
    "duration": 10,
    "start_time": "2025-07-01T23:45:43.008Z"
   },
   {
    "duration": 4,
    "start_time": "2025-07-01T23:50:11.525Z"
   },
   {
    "duration": 8,
    "start_time": "2025-07-01T23:50:13.712Z"
   },
   {
    "duration": 4,
    "start_time": "2025-07-01T23:51:07.278Z"
   },
   {
    "duration": 10,
    "start_time": "2025-07-01T23:51:08.794Z"
   },
   {
    "duration": 5,
    "start_time": "2025-07-01T23:51:48.848Z"
   },
   {
    "duration": 9,
    "start_time": "2025-07-01T23:51:50.394Z"
   },
   {
    "duration": 18,
    "start_time": "2025-07-02T00:09:07.949Z"
   },
   {
    "duration": 8,
    "start_time": "2025-07-02T00:11:32.116Z"
   },
   {
    "duration": 8,
    "start_time": "2025-07-02T00:12:40.666Z"
   },
   {
    "duration": 31,
    "start_time": "2025-07-02T00:13:50.049Z"
   },
   {
    "duration": 1437,
    "start_time": "2025-07-02T00:15:31.858Z"
   },
   {
    "duration": 3470,
    "start_time": "2025-07-02T00:16:07.900Z"
   },
   {
    "duration": 56,
    "start_time": "2025-07-02T00:16:11.372Z"
   },
   {
    "duration": 27,
    "start_time": "2025-07-02T00:16:11.429Z"
   },
   {
    "duration": 14,
    "start_time": "2025-07-02T00:16:11.458Z"
   },
   {
    "duration": 14,
    "start_time": "2025-07-02T00:16:11.474Z"
   },
   {
    "duration": 5,
    "start_time": "2025-07-02T00:16:11.489Z"
   },
   {
    "duration": 5,
    "start_time": "2025-07-02T00:16:11.496Z"
   },
   {
    "duration": 4618,
    "start_time": "2025-07-02T00:16:11.502Z"
   },
   {
    "duration": 246,
    "start_time": "2025-07-02T00:16:16.121Z"
   },
   {
    "duration": 10,
    "start_time": "2025-07-02T00:16:16.369Z"
   },
   {
    "duration": 1567,
    "start_time": "2025-07-02T00:16:16.380Z"
   },
   {
    "duration": 8,
    "start_time": "2025-07-02T00:16:17.949Z"
   },
   {
    "duration": 15,
    "start_time": "2025-07-02T00:16:17.959Z"
   },
   {
    "duration": 24,
    "start_time": "2025-07-02T00:16:17.977Z"
   },
   {
    "duration": 11,
    "start_time": "2025-07-02T00:16:18.003Z"
   },
   {
    "duration": 156,
    "start_time": "2025-07-02T00:16:18.035Z"
   },
   {
    "duration": 1615,
    "start_time": "2025-07-02T00:16:18.193Z"
   },
   {
    "duration": 6,
    "start_time": "2025-07-02T00:16:19.809Z"
   },
   {
    "duration": 11,
    "start_time": "2025-07-02T00:16:19.816Z"
   },
   {
    "duration": 15,
    "start_time": "2025-07-02T00:16:19.834Z"
   },
   {
    "duration": 10,
    "start_time": "2025-07-02T00:16:19.851Z"
   },
   {
    "duration": 93,
    "start_time": "2025-07-02T00:16:19.863Z"
   },
   {
    "duration": 10,
    "start_time": "2025-07-02T00:16:19.958Z"
   },
   {
    "duration": 98,
    "start_time": "2025-07-02T00:16:19.969Z"
   },
   {
    "duration": 15,
    "start_time": "2025-07-02T00:16:20.068Z"
   },
   {
    "duration": 10,
    "start_time": "2025-07-02T00:16:20.084Z"
   },
   {
    "duration": 14,
    "start_time": "2025-07-02T00:16:20.096Z"
   },
   {
    "duration": 207,
    "start_time": "2025-07-02T00:16:20.112Z"
   },
   {
    "duration": 49,
    "start_time": "2025-07-02T00:16:20.321Z"
   },
   {
    "duration": 98,
    "start_time": "2025-07-02T00:16:20.371Z"
   },
   {
    "duration": 148,
    "start_time": "2025-07-02T00:16:20.471Z"
   },
   {
    "duration": 51,
    "start_time": "2025-07-02T00:16:20.620Z"
   },
   {
    "duration": 26,
    "start_time": "2025-07-02T00:16:20.672Z"
   },
   {
    "duration": 4,
    "start_time": "2025-07-02T00:16:20.700Z"
   },
   {
    "duration": 121,
    "start_time": "2025-07-02T00:16:20.705Z"
   },
   {
    "duration": 19,
    "start_time": "2025-07-02T00:16:20.828Z"
   },
   {
    "duration": 32,
    "start_time": "2025-07-02T00:16:20.851Z"
   },
   {
    "duration": 1305,
    "start_time": "2025-07-02T00:16:20.884Z"
   },
   {
    "duration": 0,
    "start_time": "2025-07-02T00:16:22.191Z"
   },
   {
    "duration": 0,
    "start_time": "2025-07-02T00:16:22.193Z"
   },
   {
    "duration": 0,
    "start_time": "2025-07-02T00:16:22.194Z"
   },
   {
    "duration": 0,
    "start_time": "2025-07-02T00:16:22.196Z"
   },
   {
    "duration": 0,
    "start_time": "2025-07-02T00:16:22.197Z"
   },
   {
    "duration": 23,
    "start_time": "2025-07-02T00:17:12.403Z"
   },
   {
    "duration": 28,
    "start_time": "2025-07-02T00:22:35.231Z"
   },
   {
    "duration": 26,
    "start_time": "2025-07-02T00:22:49.085Z"
   },
   {
    "duration": 23,
    "start_time": "2025-07-02T00:23:43.472Z"
   },
   {
    "duration": 7,
    "start_time": "2025-07-02T00:35:32.664Z"
   },
   {
    "duration": 4,
    "start_time": "2025-07-02T00:35:36.882Z"
   },
   {
    "duration": 7,
    "start_time": "2025-07-02T00:36:33.963Z"
   },
   {
    "duration": 4,
    "start_time": "2025-07-02T00:36:36.583Z"
   },
   {
    "duration": 4,
    "start_time": "2025-07-02T00:37:51.216Z"
   },
   {
    "duration": 4,
    "start_time": "2025-07-02T00:38:12.228Z"
   },
   {
    "duration": 3477,
    "start_time": "2025-07-02T01:04:06.597Z"
   },
   {
    "duration": 94,
    "start_time": "2025-07-02T01:04:10.076Z"
   },
   {
    "duration": 10,
    "start_time": "2025-07-02T01:04:10.171Z"
   },
   {
    "duration": 115,
    "start_time": "2025-07-02T01:04:10.183Z"
   },
   {
    "duration": 14,
    "start_time": "2025-07-02T01:04:10.299Z"
   },
   {
    "duration": 5,
    "start_time": "2025-07-02T01:04:10.314Z"
   },
   {
    "duration": 12,
    "start_time": "2025-07-02T01:04:10.320Z"
   },
   {
    "duration": 4426,
    "start_time": "2025-07-02T01:04:10.333Z"
   },
   {
    "duration": 235,
    "start_time": "2025-07-02T01:04:14.760Z"
   },
   {
    "duration": 11,
    "start_time": "2025-07-02T01:04:14.997Z"
   },
   {
    "duration": 1960,
    "start_time": "2025-07-02T01:04:15.009Z"
   },
   {
    "duration": 8,
    "start_time": "2025-07-02T01:04:16.970Z"
   },
   {
    "duration": 15,
    "start_time": "2025-07-02T01:04:16.980Z"
   },
   {
    "duration": 50,
    "start_time": "2025-07-02T01:04:16.996Z"
   },
   {
    "duration": 10,
    "start_time": "2025-07-02T01:04:17.049Z"
   },
   {
    "duration": 121,
    "start_time": "2025-07-02T01:04:17.061Z"
   },
   {
    "duration": 1629,
    "start_time": "2025-07-02T01:04:17.183Z"
   },
   {
    "duration": 6,
    "start_time": "2025-07-02T01:04:18.813Z"
   },
   {
    "duration": 37,
    "start_time": "2025-07-02T01:04:18.821Z"
   },
   {
    "duration": 79,
    "start_time": "2025-07-02T01:04:18.859Z"
   },
   {
    "duration": 15,
    "start_time": "2025-07-02T01:04:18.940Z"
   },
   {
    "duration": 72,
    "start_time": "2025-07-02T01:04:18.956Z"
   },
   {
    "duration": 19,
    "start_time": "2025-07-02T01:04:19.038Z"
   },
   {
    "duration": 97,
    "start_time": "2025-07-02T01:04:19.058Z"
   },
   {
    "duration": 6,
    "start_time": "2025-07-02T01:04:19.157Z"
   },
   {
    "duration": 8,
    "start_time": "2025-07-02T01:04:19.164Z"
   },
   {
    "duration": 14,
    "start_time": "2025-07-02T01:04:19.173Z"
   },
   {
    "duration": 238,
    "start_time": "2025-07-02T01:04:19.191Z"
   },
   {
    "duration": 34,
    "start_time": "2025-07-02T01:04:19.430Z"
   },
   {
    "duration": 90,
    "start_time": "2025-07-02T01:04:19.465Z"
   },
   {
    "duration": 156,
    "start_time": "2025-07-02T01:04:19.556Z"
   },
   {
    "duration": 51,
    "start_time": "2025-07-02T01:04:19.714Z"
   },
   {
    "duration": 27,
    "start_time": "2025-07-02T01:04:19.766Z"
   },
   {
    "duration": 4,
    "start_time": "2025-07-02T01:04:19.795Z"
   },
   {
    "duration": 17,
    "start_time": "2025-07-02T01:04:19.801Z"
   },
   {
    "duration": 85,
    "start_time": "2025-07-02T01:04:19.835Z"
   },
   {
    "duration": 37,
    "start_time": "2025-07-02T01:04:19.922Z"
   },
   {
    "duration": 23,
    "start_time": "2025-07-02T01:04:19.961Z"
   },
   {
    "duration": 5,
    "start_time": "2025-07-02T01:04:19.985Z"
   },
   {
    "duration": 10,
    "start_time": "2025-07-02T01:04:19.991Z"
   },
   {
    "duration": 20,
    "start_time": "2025-07-02T01:04:20.003Z"
   },
   {
    "duration": 3517,
    "start_time": "2025-07-02T01:08:39.248Z"
   },
   {
    "duration": 54,
    "start_time": "2025-07-02T01:08:42.767Z"
   },
   {
    "duration": 43,
    "start_time": "2025-07-02T01:08:42.822Z"
   },
   {
    "duration": 97,
    "start_time": "2025-07-02T01:08:42.866Z"
   },
   {
    "duration": 13,
    "start_time": "2025-07-02T01:08:42.965Z"
   },
   {
    "duration": 5,
    "start_time": "2025-07-02T01:08:42.979Z"
   },
   {
    "duration": 19,
    "start_time": "2025-07-02T01:08:42.985Z"
   },
   {
    "duration": 4569,
    "start_time": "2025-07-02T01:08:43.006Z"
   },
   {
    "duration": 236,
    "start_time": "2025-07-02T01:08:47.576Z"
   },
   {
    "duration": 31,
    "start_time": "2025-07-02T01:08:47.813Z"
   },
   {
    "duration": 1611,
    "start_time": "2025-07-02T01:08:47.850Z"
   },
   {
    "duration": 8,
    "start_time": "2025-07-02T01:08:49.462Z"
   },
   {
    "duration": 96,
    "start_time": "2025-07-02T01:08:49.471Z"
   },
   {
    "duration": 25,
    "start_time": "2025-07-02T01:08:49.570Z"
   },
   {
    "duration": 10,
    "start_time": "2025-07-02T01:08:49.597Z"
   },
   {
    "duration": 140,
    "start_time": "2025-07-02T01:08:49.608Z"
   },
   {
    "duration": 1643,
    "start_time": "2025-07-02T01:08:49.749Z"
   },
   {
    "duration": 6,
    "start_time": "2025-07-02T01:08:51.393Z"
   },
   {
    "duration": 36,
    "start_time": "2025-07-02T01:08:51.401Z"
   },
   {
    "duration": 7,
    "start_time": "2025-07-02T01:08:51.439Z"
   },
   {
    "duration": 14,
    "start_time": "2025-07-02T01:08:51.448Z"
   },
   {
    "duration": 151,
    "start_time": "2025-07-02T01:08:51.464Z"
   },
   {
    "duration": 12,
    "start_time": "2025-07-02T01:08:51.616Z"
   },
   {
    "duration": 98,
    "start_time": "2025-07-02T01:08:51.629Z"
   },
   {
    "duration": 9,
    "start_time": "2025-07-02T01:08:51.729Z"
   },
   {
    "duration": 15,
    "start_time": "2025-07-02T01:08:51.742Z"
   },
   {
    "duration": 4,
    "start_time": "2025-07-02T01:08:51.758Z"
   },
   {
    "duration": 226,
    "start_time": "2025-07-02T01:08:51.763Z"
   },
   {
    "duration": 28,
    "start_time": "2025-07-02T01:08:51.991Z"
   },
   {
    "duration": 35,
    "start_time": "2025-07-02T01:08:52.020Z"
   },
   {
    "duration": 160,
    "start_time": "2025-07-02T01:08:52.056Z"
   },
   {
    "duration": 49,
    "start_time": "2025-07-02T01:08:52.218Z"
   },
   {
    "duration": 51,
    "start_time": "2025-07-02T01:08:52.269Z"
   },
   {
    "duration": 5,
    "start_time": "2025-07-02T01:08:52.322Z"
   },
   {
    "duration": 37,
    "start_time": "2025-07-02T01:08:52.328Z"
   },
   {
    "duration": 25,
    "start_time": "2025-07-02T01:08:52.367Z"
   },
   {
    "duration": 67,
    "start_time": "2025-07-02T01:08:52.394Z"
   },
   {
    "duration": 23,
    "start_time": "2025-07-02T01:08:52.463Z"
   },
   {
    "duration": 4,
    "start_time": "2025-07-02T01:08:52.487Z"
   },
   {
    "duration": 25,
    "start_time": "2025-07-02T01:08:52.493Z"
   },
   {
    "duration": 26,
    "start_time": "2025-07-02T01:08:52.521Z"
   },
   {
    "duration": 10,
    "start_time": "2025-07-03T16:53:58.000Z"
   },
   {
    "duration": 46,
    "start_time": "2025-07-03T16:54:03.083Z"
   },
   {
    "duration": 9944,
    "start_time": "2025-07-03T16:54:12.419Z"
   },
   {
    "duration": 52,
    "start_time": "2025-07-03T16:54:22.365Z"
   },
   {
    "duration": 13,
    "start_time": "2025-07-03T16:54:22.419Z"
   },
   {
    "duration": 27,
    "start_time": "2025-07-03T16:54:22.434Z"
   },
   {
    "duration": 15,
    "start_time": "2025-07-03T16:54:22.463Z"
   },
   {
    "duration": 6,
    "start_time": "2025-07-03T16:54:22.479Z"
   },
   {
    "duration": 9,
    "start_time": "2025-07-03T16:54:22.487Z"
   },
   {
    "duration": 5009,
    "start_time": "2025-07-03T16:54:22.497Z"
   },
   {
    "duration": 254,
    "start_time": "2025-07-03T16:54:27.509Z"
   },
   {
    "duration": 13,
    "start_time": "2025-07-03T16:54:27.767Z"
   },
   {
    "duration": 1593,
    "start_time": "2025-07-03T16:54:27.781Z"
   },
   {
    "duration": 9,
    "start_time": "2025-07-03T16:54:29.376Z"
   },
   {
    "duration": 29,
    "start_time": "2025-07-03T16:54:29.386Z"
   },
   {
    "duration": 29,
    "start_time": "2025-07-03T16:54:29.418Z"
   },
   {
    "duration": 11,
    "start_time": "2025-07-03T16:54:29.461Z"
   },
   {
    "duration": 126,
    "start_time": "2025-07-03T16:54:29.473Z"
   },
   {
    "duration": 1682,
    "start_time": "2025-07-03T16:54:29.601Z"
   },
   {
    "duration": 8,
    "start_time": "2025-07-03T16:54:31.284Z"
   },
   {
    "duration": 123,
    "start_time": "2025-07-03T16:54:31.293Z"
   },
   {
    "duration": 6,
    "start_time": "2025-07-03T16:54:31.418Z"
   },
   {
    "duration": 20,
    "start_time": "2025-07-03T16:54:31.426Z"
   },
   {
    "duration": 90,
    "start_time": "2025-07-03T16:54:31.448Z"
   },
   {
    "duration": 27,
    "start_time": "2025-07-03T16:54:31.540Z"
   },
   {
    "duration": 115,
    "start_time": "2025-07-03T16:54:31.569Z"
   },
   {
    "duration": 7,
    "start_time": "2025-07-03T16:54:31.687Z"
   },
   {
    "duration": 13,
    "start_time": "2025-07-03T16:54:31.696Z"
   },
   {
    "duration": 5,
    "start_time": "2025-07-03T16:54:31.712Z"
   },
   {
    "duration": 240,
    "start_time": "2025-07-03T16:54:31.722Z"
   },
   {
    "duration": 34,
    "start_time": "2025-07-03T16:54:31.964Z"
   },
   {
    "duration": 119,
    "start_time": "2025-07-03T16:54:32.000Z"
   },
   {
    "duration": 168,
    "start_time": "2025-07-03T16:54:32.121Z"
   },
   {
    "duration": 40,
    "start_time": "2025-07-03T16:54:32.291Z"
   },
   {
    "duration": 59,
    "start_time": "2025-07-03T16:54:32.332Z"
   },
   {
    "duration": 4,
    "start_time": "2025-07-03T16:54:32.393Z"
   },
   {
    "duration": 13,
    "start_time": "2025-07-03T16:54:32.398Z"
   },
   {
    "duration": 13,
    "start_time": "2025-07-03T16:54:32.413Z"
   },
   {
    "duration": 52,
    "start_time": "2025-07-03T16:54:32.428Z"
   },
   {
    "duration": 26,
    "start_time": "2025-07-03T16:54:32.481Z"
   },
   {
    "duration": 4,
    "start_time": "2025-07-03T16:54:32.509Z"
   },
   {
    "duration": 90,
    "start_time": "2025-07-03T16:54:32.515Z"
   },
   {
    "duration": 20,
    "start_time": "2025-07-03T16:54:32.607Z"
   }
  ],
  "colab": {
   "provenance": [],
   "toc_visible": true
  },
  "kernelspec": {
   "display_name": "Python [conda env:base] *",
   "language": "python",
   "name": "conda-base-py"
  },
  "language_info": {
   "codemirror_mode": {
    "name": "ipython",
    "version": 3
   },
   "file_extension": ".py",
   "mimetype": "text/x-python",
   "name": "python",
   "nbconvert_exporter": "python",
   "pygments_lexer": "ipython3",
   "version": "3.13.5"
  },
  "toc": {
   "base_numbering": 1,
   "nav_menu": {},
   "number_sections": true,
   "sideBar": true,
   "skip_h1_title": true,
   "title_cell": "Table of Contents",
   "title_sidebar": "Contents",
   "toc_cell": false,
   "toc_position": {},
   "toc_section_display": true,
   "toc_window_display": false
  }
 },
 "nbformat": 4,
 "nbformat_minor": 5
}

{
 "cells": [
  {
   "cell_type": "markdown",
   "metadata": {
    "id": "LMuaGIE3lGcr"
   },
   "source": [
    "# Исследование эффективности работы сервиса Яндекс Афиша\n",
    "\n",
    "\n",
    "- Автор: Ольга Агафонова\n",
    "- Дата: 14.07.2025г."
   ]
  },
  {
   "cell_type": "markdown",
   "metadata": {},
   "source": [
    "### Цели и задачи проекта:\n",
    "\n",
    "**Цель проекта** - проведение исследовательского анализа данных сервиса Яндекс Афиша в Python с целью выявления инсайтов об изменении пользовательских предпочтений и популярности событий осенью 2024 года, а также проверка гипотез о разнице в поведении пользователей с мобильными и стационарными устройствами.\n",
    "\n",
    "**Задачи проекта:**\n",
    "\n",
    "* Загрузка данных и оценка их целостности.\n",
    "* Предварительная предобработка данных.\n",
    "* Исследовательский анализ данных и определение статистических показателей.\n",
    "* Проверка гипотез с помощью статистического теста.\n",
    "* Общий вывод и рекомендации."
   ]
  },
  {
   "cell_type": "markdown",
   "metadata": {},
   "source": [
    "### Описание данных:\n",
    "\n",
    "В работе будут использованы данные из  трёх датасетов:\n",
    "\n",
    "- `final_tickets_orders_df.csv` — таблица включает информацию обо всех заказах билетов, совершённых с двух типов устройств — мобильных и стационарных.\n",
    "\n",
    "- `final_tickets_events_df.csv` — таблица содержит информацию о событиях, включая город и регион события, а также информацию о площадке проведения мероприятия. \n",
    "\n",
    "- `final_tickets_tenge_df.csv` — таблица с информацией о курсе тенге к российскому рублю за 2024 год. Значения в рублях представлено для 100 тенге. \n",
    "\n",
    "\n",
    "Поля таблицы `final_tickets_orders_df.csv`:\n",
    "\n",
    "- `order_id` — уникальный идентификатор заказа.\n",
    "- `user_id` — уникальный идентификатор пользователя.\n",
    "- `created_dt_msk` — дата создания заказа (московское время).\n",
    "- `created_ts_msk` — дата и время создания заказа (московское время).\n",
    "- `event_id` — идентификатор мероприятия из таблицы events.\n",
    "- `cinema_circuit` — сеть кинотеатров. Если не применимо, то здесь будет значение 'нет'.\n",
    "- `age_limit` — возрастное ограничение мероприятия.\n",
    "- `currency_code` — валюта оплаты, например rub для российских рублей.\n",
    "- `device_type_canonical` — тип устройства, с которого был оформлен заказ (mobile для мобильных устройств, desktop для стационарных).\n",
    "- `revenue` — выручка от заказа.\n",
    "- `service_name` — название билетного оператора.\n",
    "- `tickets_count` — количество купленных билетов.\n",
    "- `total` — общая сумма заказа.\n",
    "- `days_since_prev` — количество дней с предыдущей покупки для каждого пользователя. \n",
    "   Если покупки не было, то данные содержат пропуск.\n",
    "    \n",
    "Cтолбцы датасета `final_tickets_events_df.csv`:  \n",
    "    \n",
    "- `event_id` — уникальный идентификатор мероприятия.\n",
    "- `event_name` — название мероприятия. Аналог поля event_name_code из исходной базы данных.\n",
    "- `event_type_description` — описание типа мероприятия.\n",
    "- `event_type_main` — основной тип мероприятия: театральная постановка, концерт и так далее.\n",
    "- `organizers` — организаторы мероприятия.\n",
    "- `region_name` — название региона.\n",
    "- `city_name` — название города.\n",
    "- `city_id` - идентификатор города проведения мероприятия.  \n",
    "- `venue_id` — уникальный идентификатор площадки.\n",
    "- `venue_name` — название площадки.\n",
    "- `venue_address` — адрес площадки.\n",
    "\n",
    "Поля датасета `final_tickets_tenge_df.csv`:\n",
    "\n",
    "- `nominal` — номинал (100 тенге).\n",
    "- `data` — дата.\n",
    "- `curs` — курс тенге к рублю.\n",
    "- `cdx` — обозначение валюты (kzt).\n",
    "\n"
   ]
  },
  {
   "cell_type": "markdown",
   "metadata": {},
   "source": [
    "### Содержимое проекта:\n",
    "\n",
    "1. Загрузка данных и знакомство с ними.\n",
    "2. Предобработка данных и подготовка их к исследованию.\n",
    "3. Исследовательский анализ данных.\n",
    "4. Статистический анализ данных.\n",
    "5. Общий вывод и рекомендации.\n",
    "\n",
    "---"
   ]
  },
  {
   "cell_type": "markdown",
   "metadata": {},
   "source": [
    "## Загрузка данных и знакомство с ними"
   ]
  },
  {
   "cell_type": "code",
   "execution_count": 1,
   "metadata": {},
   "outputs": [],
   "source": [
    "# Импортируем необходимые для анализа данных библиотеки и модули:\n",
    "import pandas as pd\n",
    "pd.set_option('display.max_columns', 100)\n",
    "\n",
    "!pip install matplotlib_venn -q\n",
    "from matplotlib_venn import venn2\n",
    "import matplotlib.pyplot as plt\n",
    "\n",
    "import seaborn as sns\n",
    "\n",
    "import numpy as np\n",
    "\n",
    "from scipy import stats\n",
    "from statsmodels.stats.proportion import proportions_ztest\n",
    "from statsmodels.stats.power import NormalIndPower\n",
    "from statsmodels.stats.proportion import proportion_effectsize\n",
    "import math\n",
    "\n",
    "import warnings\n",
    "warnings.simplefilter(action='ignore')"
   ]
  },
  {
   "cell_type": "markdown",
   "metadata": {},
   "source": [
    "**Загрузим данные датасетов и проведем их проведем их предварительный анализ.**"
   ]
  },
  {
   "cell_type": "code",
   "execution_count": 2,
   "metadata": {},
   "outputs": [],
   "source": [
    "# Сохраним путь к датасетам в переменную PATH и выгрузим поочередно все датасеты:\n",
    "PATH = 'https://code.s3.yandex.net/datasets/'"
   ]
  },
  {
   "cell_type": "markdown",
   "metadata": {},
   "source": [
    "Загрузка файла **'final_tickets_orders_df.csv'**."
   ]
  },
  {
   "cell_type": "code",
   "execution_count": 3,
   "metadata": {},
   "outputs": [
    {
     "data": {
      "text/html": [
       "<div>\n",
       "<style scoped>\n",
       "    .dataframe tbody tr th:only-of-type {\n",
       "        vertical-align: middle;\n",
       "    }\n",
       "\n",
       "    .dataframe tbody tr th {\n",
       "        vertical-align: top;\n",
       "    }\n",
       "\n",
       "    .dataframe thead th {\n",
       "        text-align: right;\n",
       "    }\n",
       "</style>\n",
       "<table border=\"1\" class=\"dataframe\">\n",
       "  <thead>\n",
       "    <tr style=\"text-align: right;\">\n",
       "      <th></th>\n",
       "      <th>order_id</th>\n",
       "      <th>user_id</th>\n",
       "      <th>created_dt_msk</th>\n",
       "      <th>created_ts_msk</th>\n",
       "      <th>event_id</th>\n",
       "      <th>cinema_circuit</th>\n",
       "      <th>age_limit</th>\n",
       "      <th>currency_code</th>\n",
       "      <th>device_type_canonical</th>\n",
       "      <th>revenue</th>\n",
       "      <th>service_name</th>\n",
       "      <th>tickets_count</th>\n",
       "      <th>total</th>\n",
       "      <th>days_since_prev</th>\n",
       "    </tr>\n",
       "  </thead>\n",
       "  <tbody>\n",
       "    <tr>\n",
       "      <th>0</th>\n",
       "      <td>4359165</td>\n",
       "      <td>0002849b70a3ce2</td>\n",
       "      <td>2024-08-20</td>\n",
       "      <td>2024-08-20 16:08:03</td>\n",
       "      <td>169230</td>\n",
       "      <td>нет</td>\n",
       "      <td>16</td>\n",
       "      <td>rub</td>\n",
       "      <td>mobile</td>\n",
       "      <td>1521.94</td>\n",
       "      <td>Край билетов</td>\n",
       "      <td>4</td>\n",
       "      <td>10870.99</td>\n",
       "      <td>NaN</td>\n",
       "    </tr>\n",
       "    <tr>\n",
       "      <th>1</th>\n",
       "      <td>7965605</td>\n",
       "      <td>0005ca5e93f2cf4</td>\n",
       "      <td>2024-07-23</td>\n",
       "      <td>2024-07-23 18:36:24</td>\n",
       "      <td>237325</td>\n",
       "      <td>нет</td>\n",
       "      <td>0</td>\n",
       "      <td>rub</td>\n",
       "      <td>mobile</td>\n",
       "      <td>289.45</td>\n",
       "      <td>Мой билет</td>\n",
       "      <td>2</td>\n",
       "      <td>2067.51</td>\n",
       "      <td>NaN</td>\n",
       "    </tr>\n",
       "    <tr>\n",
       "      <th>2</th>\n",
       "      <td>7292370</td>\n",
       "      <td>0005ca5e93f2cf4</td>\n",
       "      <td>2024-10-06</td>\n",
       "      <td>2024-10-06 13:56:02</td>\n",
       "      <td>578454</td>\n",
       "      <td>нет</td>\n",
       "      <td>0</td>\n",
       "      <td>rub</td>\n",
       "      <td>mobile</td>\n",
       "      <td>1258.57</td>\n",
       "      <td>За билетом!</td>\n",
       "      <td>4</td>\n",
       "      <td>13984.16</td>\n",
       "      <td>75.0</td>\n",
       "    </tr>\n",
       "    <tr>\n",
       "      <th>3</th>\n",
       "      <td>1139875</td>\n",
       "      <td>000898990054619</td>\n",
       "      <td>2024-07-13</td>\n",
       "      <td>2024-07-13 19:40:48</td>\n",
       "      <td>387271</td>\n",
       "      <td>нет</td>\n",
       "      <td>0</td>\n",
       "      <td>rub</td>\n",
       "      <td>mobile</td>\n",
       "      <td>8.49</td>\n",
       "      <td>Лови билет!</td>\n",
       "      <td>2</td>\n",
       "      <td>212.28</td>\n",
       "      <td>NaN</td>\n",
       "    </tr>\n",
       "    <tr>\n",
       "      <th>4</th>\n",
       "      <td>972400</td>\n",
       "      <td>000898990054619</td>\n",
       "      <td>2024-10-04</td>\n",
       "      <td>2024-10-04 22:33:15</td>\n",
       "      <td>509453</td>\n",
       "      <td>нет</td>\n",
       "      <td>18</td>\n",
       "      <td>rub</td>\n",
       "      <td>mobile</td>\n",
       "      <td>1390.41</td>\n",
       "      <td>Билеты без проблем</td>\n",
       "      <td>3</td>\n",
       "      <td>10695.43</td>\n",
       "      <td>83.0</td>\n",
       "    </tr>\n",
       "  </tbody>\n",
       "</table>\n",
       "</div>"
      ],
      "text/plain": [
       "   order_id          user_id created_dt_msk       created_ts_msk  event_id  \\\n",
       "0   4359165  0002849b70a3ce2     2024-08-20  2024-08-20 16:08:03    169230   \n",
       "1   7965605  0005ca5e93f2cf4     2024-07-23  2024-07-23 18:36:24    237325   \n",
       "2   7292370  0005ca5e93f2cf4     2024-10-06  2024-10-06 13:56:02    578454   \n",
       "3   1139875  000898990054619     2024-07-13  2024-07-13 19:40:48    387271   \n",
       "4    972400  000898990054619     2024-10-04  2024-10-04 22:33:15    509453   \n",
       "\n",
       "  cinema_circuit  age_limit currency_code device_type_canonical  revenue  \\\n",
       "0            нет         16           rub                mobile  1521.94   \n",
       "1            нет          0           rub                mobile   289.45   \n",
       "2            нет          0           rub                mobile  1258.57   \n",
       "3            нет          0           rub                mobile     8.49   \n",
       "4            нет         18           rub                mobile  1390.41   \n",
       "\n",
       "         service_name  tickets_count     total  days_since_prev  \n",
       "0        Край билетов              4  10870.99              NaN  \n",
       "1           Мой билет              2   2067.51              NaN  \n",
       "2         За билетом!              4  13984.16             75.0  \n",
       "3         Лови билет!              2    212.28              NaN  \n",
       "4  Билеты без проблем              3  10695.43             83.0  "
      ]
     },
     "execution_count": 3,
     "metadata": {},
     "output_type": "execute_result"
    }
   ],
   "source": [
    "# Считаем и сохраним в датафрейм `orders` датасет `final_tickets_orders_df.csv`. \n",
    "# Выведем на экран первые строки полученного датафрейма.\n",
    "orders = pd.read_csv(PATH + 'final_tickets_orders_df.csv')\n",
    "orders.head()"
   ]
  },
  {
   "cell_type": "code",
   "execution_count": 4,
   "metadata": {},
   "outputs": [
    {
     "name": "stdout",
     "output_type": "stream",
     "text": [
      "<class 'pandas.core.frame.DataFrame'>\n",
      "RangeIndex: 290849 entries, 0 to 290848\n",
      "Data columns (total 14 columns):\n",
      " #   Column                 Non-Null Count   Dtype  \n",
      "---  ------                 --------------   -----  \n",
      " 0   order_id               290849 non-null  int64  \n",
      " 1   user_id                290849 non-null  object \n",
      " 2   created_dt_msk         290849 non-null  object \n",
      " 3   created_ts_msk         290849 non-null  object \n",
      " 4   event_id               290849 non-null  int64  \n",
      " 5   cinema_circuit         290849 non-null  object \n",
      " 6   age_limit              290849 non-null  int64  \n",
      " 7   currency_code          290849 non-null  object \n",
      " 8   device_type_canonical  290849 non-null  object \n",
      " 9   revenue                290849 non-null  float64\n",
      " 10  service_name           290849 non-null  object \n",
      " 11  tickets_count          290849 non-null  int64  \n",
      " 12  total                  290849 non-null  float64\n",
      " 13  days_since_prev        268909 non-null  float64\n",
      "dtypes: float64(3), int64(4), object(7)\n",
      "memory usage: 31.1+ MB\n"
     ]
    }
   ],
   "source": [
    "# Выведем основную информацию о датафрейме `orders`.\n",
    "orders.info()"
   ]
  },
  {
   "cell_type": "markdown",
   "metadata": {},
   "source": [
    "Загрузка файла **'final_tickets_events_df.csv'**."
   ]
  },
  {
   "cell_type": "code",
   "execution_count": 5,
   "metadata": {},
   "outputs": [
    {
     "data": {
      "text/html": [
       "<div>\n",
       "<style scoped>\n",
       "    .dataframe tbody tr th:only-of-type {\n",
       "        vertical-align: middle;\n",
       "    }\n",
       "\n",
       "    .dataframe tbody tr th {\n",
       "        vertical-align: top;\n",
       "    }\n",
       "\n",
       "    .dataframe thead th {\n",
       "        text-align: right;\n",
       "    }\n",
       "</style>\n",
       "<table border=\"1\" class=\"dataframe\">\n",
       "  <thead>\n",
       "    <tr style=\"text-align: right;\">\n",
       "      <th></th>\n",
       "      <th>event_id</th>\n",
       "      <th>event_name</th>\n",
       "      <th>event_type_description</th>\n",
       "      <th>event_type_main</th>\n",
       "      <th>organizers</th>\n",
       "      <th>region_name</th>\n",
       "      <th>city_name</th>\n",
       "      <th>city_id</th>\n",
       "      <th>venue_id</th>\n",
       "      <th>venue_name</th>\n",
       "      <th>venue_address</th>\n",
       "    </tr>\n",
       "  </thead>\n",
       "  <tbody>\n",
       "    <tr>\n",
       "      <th>0</th>\n",
       "      <td>4436</td>\n",
       "      <td>e4f26fba-da77-4c61-928a-6c3e434d793f</td>\n",
       "      <td>спектакль</td>\n",
       "      <td>театр</td>\n",
       "      <td>№4893</td>\n",
       "      <td>Североярская область</td>\n",
       "      <td>Озёрск</td>\n",
       "      <td>2</td>\n",
       "      <td>1600</td>\n",
       "      <td>Кладбище искусств \"Проблема\" и партнеры</td>\n",
       "      <td>наб. Загородная, д. 785</td>\n",
       "    </tr>\n",
       "    <tr>\n",
       "      <th>1</th>\n",
       "      <td>5785</td>\n",
       "      <td>5cc08a60-fdea-4186-9bb2-bffc3603fb77</td>\n",
       "      <td>спектакль</td>\n",
       "      <td>театр</td>\n",
       "      <td>№1931</td>\n",
       "      <td>Светополянский округ</td>\n",
       "      <td>Глиноград</td>\n",
       "      <td>54</td>\n",
       "      <td>2196</td>\n",
       "      <td>Лекции по искусству \"Свет\" Групп</td>\n",
       "      <td>ул. Ягодная, д. 942</td>\n",
       "    </tr>\n",
       "    <tr>\n",
       "      <th>2</th>\n",
       "      <td>8817</td>\n",
       "      <td>8e379a89-3a10-4811-ba06-ec22ebebe989</td>\n",
       "      <td>спектакль</td>\n",
       "      <td>театр</td>\n",
       "      <td>№4896</td>\n",
       "      <td>Североярская область</td>\n",
       "      <td>Озёрск</td>\n",
       "      <td>2</td>\n",
       "      <td>4043</td>\n",
       "      <td>Кинокомитет \"Золотая\" Инк</td>\n",
       "      <td>ш. Коммуны, д. 92 стр. 6</td>\n",
       "    </tr>\n",
       "    <tr>\n",
       "      <th>3</th>\n",
       "      <td>8849</td>\n",
       "      <td>682e3129-6a32-4952-9d8a-ef7f60d4c247</td>\n",
       "      <td>спектакль</td>\n",
       "      <td>театр</td>\n",
       "      <td>№4960</td>\n",
       "      <td>Каменевский регион</td>\n",
       "      <td>Глиногорск</td>\n",
       "      <td>213</td>\n",
       "      <td>1987</td>\n",
       "      <td>Выставка ремесел \"Свет\" Лтд</td>\n",
       "      <td>пер. Набережный, д. 35</td>\n",
       "    </tr>\n",
       "    <tr>\n",
       "      <th>4</th>\n",
       "      <td>8850</td>\n",
       "      <td>d6e99176-c77f-4af0-9222-07c571f6c624</td>\n",
       "      <td>спектакль</td>\n",
       "      <td>театр</td>\n",
       "      <td>№4770</td>\n",
       "      <td>Лесодальний край</td>\n",
       "      <td>Родниковец</td>\n",
       "      <td>55</td>\n",
       "      <td>4230</td>\n",
       "      <td>Фестивальный проект \"Листья\" Групп</td>\n",
       "      <td>пер. Проезжий, д. 9</td>\n",
       "    </tr>\n",
       "  </tbody>\n",
       "</table>\n",
       "</div>"
      ],
      "text/plain": [
       "   event_id                            event_name event_type_description  \\\n",
       "0      4436  e4f26fba-da77-4c61-928a-6c3e434d793f              спектакль   \n",
       "1      5785  5cc08a60-fdea-4186-9bb2-bffc3603fb77              спектакль   \n",
       "2      8817  8e379a89-3a10-4811-ba06-ec22ebebe989              спектакль   \n",
       "3      8849  682e3129-6a32-4952-9d8a-ef7f60d4c247              спектакль   \n",
       "4      8850  d6e99176-c77f-4af0-9222-07c571f6c624              спектакль   \n",
       "\n",
       "  event_type_main organizers           region_name   city_name  city_id  \\\n",
       "0           театр      №4893  Североярская область      Озёрск        2   \n",
       "1           театр      №1931  Светополянский округ   Глиноград       54   \n",
       "2           театр      №4896  Североярская область      Озёрск        2   \n",
       "3           театр      №4960    Каменевский регион  Глиногорск      213   \n",
       "4           театр      №4770      Лесодальний край  Родниковец       55   \n",
       "\n",
       "   venue_id                               venue_name             venue_address  \n",
       "0      1600  Кладбище искусств \"Проблема\" и партнеры   наб. Загородная, д. 785  \n",
       "1      2196         Лекции по искусству \"Свет\" Групп       ул. Ягодная, д. 942  \n",
       "2      4043                Кинокомитет \"Золотая\" Инк  ш. Коммуны, д. 92 стр. 6  \n",
       "3      1987              Выставка ремесел \"Свет\" Лтд    пер. Набережный, д. 35  \n",
       "4      4230       Фестивальный проект \"Листья\" Групп       пер. Проезжий, д. 9  "
      ]
     },
     "execution_count": 5,
     "metadata": {},
     "output_type": "execute_result"
    }
   ],
   "source": [
    "# Считаем и сохраним в датафрейм `events` файл `final_tickets_events_df.csv`. \n",
    "# Выведем на экран первые строки полученного датафрейма.\n",
    "events = pd.read_csv(PATH + 'final_tickets_events_df.csv')\n",
    "events.head()"
   ]
  },
  {
   "cell_type": "code",
   "execution_count": 6,
   "metadata": {},
   "outputs": [
    {
     "name": "stdout",
     "output_type": "stream",
     "text": [
      "<class 'pandas.core.frame.DataFrame'>\n",
      "RangeIndex: 22427 entries, 0 to 22426\n",
      "Data columns (total 11 columns):\n",
      " #   Column                  Non-Null Count  Dtype \n",
      "---  ------                  --------------  ----- \n",
      " 0   event_id                22427 non-null  int64 \n",
      " 1   event_name              22427 non-null  object\n",
      " 2   event_type_description  22427 non-null  object\n",
      " 3   event_type_main         22427 non-null  object\n",
      " 4   organizers              22427 non-null  object\n",
      " 5   region_name             22427 non-null  object\n",
      " 6   city_name               22427 non-null  object\n",
      " 7   city_id                 22427 non-null  int64 \n",
      " 8   venue_id                22427 non-null  int64 \n",
      " 9   venue_name              22427 non-null  object\n",
      " 10  venue_address           22427 non-null  object\n",
      "dtypes: int64(3), object(8)\n",
      "memory usage: 1.9+ MB\n"
     ]
    }
   ],
   "source": [
    "# Выведем основную информацию о датафрейме `events`.\n",
    "events.info()"
   ]
  },
  {
   "cell_type": "markdown",
   "metadata": {},
   "source": [
    "Загрузка файла **'final_tickets_tenge_df.csv'**."
   ]
  },
  {
   "cell_type": "code",
   "execution_count": 7,
   "metadata": {},
   "outputs": [
    {
     "data": {
      "text/html": [
       "<div>\n",
       "<style scoped>\n",
       "    .dataframe tbody tr th:only-of-type {\n",
       "        vertical-align: middle;\n",
       "    }\n",
       "\n",
       "    .dataframe tbody tr th {\n",
       "        vertical-align: top;\n",
       "    }\n",
       "\n",
       "    .dataframe thead th {\n",
       "        text-align: right;\n",
       "    }\n",
       "</style>\n",
       "<table border=\"1\" class=\"dataframe\">\n",
       "  <thead>\n",
       "    <tr style=\"text-align: right;\">\n",
       "      <th></th>\n",
       "      <th>data</th>\n",
       "      <th>nominal</th>\n",
       "      <th>curs</th>\n",
       "      <th>cdx</th>\n",
       "    </tr>\n",
       "  </thead>\n",
       "  <tbody>\n",
       "    <tr>\n",
       "      <th>0</th>\n",
       "      <td>2024-01-10</td>\n",
       "      <td>100</td>\n",
       "      <td>19.9391</td>\n",
       "      <td>kzt</td>\n",
       "    </tr>\n",
       "    <tr>\n",
       "      <th>1</th>\n",
       "      <td>2024-01-11</td>\n",
       "      <td>100</td>\n",
       "      <td>19.7255</td>\n",
       "      <td>kzt</td>\n",
       "    </tr>\n",
       "    <tr>\n",
       "      <th>2</th>\n",
       "      <td>2024-01-12</td>\n",
       "      <td>100</td>\n",
       "      <td>19.5839</td>\n",
       "      <td>kzt</td>\n",
       "    </tr>\n",
       "    <tr>\n",
       "      <th>3</th>\n",
       "      <td>2024-01-13</td>\n",
       "      <td>100</td>\n",
       "      <td>19.4501</td>\n",
       "      <td>kzt</td>\n",
       "    </tr>\n",
       "    <tr>\n",
       "      <th>4</th>\n",
       "      <td>2024-01-14</td>\n",
       "      <td>100</td>\n",
       "      <td>19.4501</td>\n",
       "      <td>kzt</td>\n",
       "    </tr>\n",
       "  </tbody>\n",
       "</table>\n",
       "</div>"
      ],
      "text/plain": [
       "         data  nominal     curs  cdx\n",
       "0  2024-01-10      100  19.9391  kzt\n",
       "1  2024-01-11      100  19.7255  kzt\n",
       "2  2024-01-12      100  19.5839  kzt\n",
       "3  2024-01-13      100  19.4501  kzt\n",
       "4  2024-01-14      100  19.4501  kzt"
      ]
     },
     "execution_count": 7,
     "metadata": {},
     "output_type": "execute_result"
    }
   ],
   "source": [
    "# Считаем и сохраним в датафрейм `tenge` файл `final_tickets_tenge_df.csv`. \n",
    "# Выведем на экран первые строки полученного датафрейма.\n",
    "tenge = pd.read_csv(PATH + 'final_tickets_tenge_df.csv')\n",
    "tenge.head()"
   ]
  },
  {
   "cell_type": "code",
   "execution_count": 8,
   "metadata": {},
   "outputs": [
    {
     "name": "stdout",
     "output_type": "stream",
     "text": [
      "<class 'pandas.core.frame.DataFrame'>\n",
      "RangeIndex: 357 entries, 0 to 356\n",
      "Data columns (total 4 columns):\n",
      " #   Column   Non-Null Count  Dtype  \n",
      "---  ------   --------------  -----  \n",
      " 0   data     357 non-null    object \n",
      " 1   nominal  357 non-null    int64  \n",
      " 2   curs     357 non-null    float64\n",
      " 3   cdx      357 non-null    object \n",
      "dtypes: float64(1), int64(1), object(2)\n",
      "memory usage: 11.3+ KB\n"
     ]
    }
   ],
   "source": [
    "# Выведем основную информацию о датафрейме `tenge`.\n",
    "tenge.info()"
   ]
  },
  {
   "cell_type": "markdown",
   "metadata": {},
   "source": [
    "---\n",
    "\n",
    "### Сформируем промежуточный вывод относительно полученных данных:\n",
    "\n",
    "\n",
    "\n",
    "\n",
    "**1. Датафрейм `orders`** занимает объем оперативной памяти 31.1 МВ и содержит 290849 строк и 14 столбцов, в которых находится информацию обо всех заказах билетов, совершённых с двух типов устройств — мобильных и стационарных.\n",
    "\n",
    "Изучим типы данных и их корректность.\n",
    "В датасете представлены три типа данных: \n",
    "\n",
    "\n",
    "**Числовые значения с плавающей точкой (float64).** Три столбца представлены в данном типе: \n",
    "\n",
    "* `revenue`, `total` - выручка от заказа и общая сумма заказа соответственно. Тип данных float64 подходит для содержимого данных столбцов, так как значение может быть дробным числом.\n",
    "* `days_since_prev` - содержит информацию о количестве дней с предыдущей покупки для каждого пользователя и, если покупки не было, то данные являются пропусками. Здесь вещественный тип данных не является корректным, так как количество дней соответствует целочисленному типу данных. Следовательно, значения столбца необходимо привести к типу данных Int64. \n",
    "\n",
    "**Строковые данные (object).** Семь столбцов имеют тип данных object:\n",
    "\n",
    "* `user_id`, `cinema_circuit`, `currency_code`, `device_type_canonical`, `service_name` - столбцы имеют строковые значения (object), что вполне соответствует их содержимому: буквенное или буквенно-численное. \n",
    "* `created_dt_msk` и `created_ts_msk` - столбцы с информацией о дате и дате/времени заказа не соответствуют типу данных object, их нужно привести к типу datetime64.\n",
    "\n",
    "**Целочисленные значения (int64).** Четыре столбца с данным типом:\n",
    "\n",
    "* `order_id`, `event_id`, `age_limit`, `tickets_count` - тип данных int64 является типичным для значений указанных столбцов.\n",
    "\n",
    "Проанализировав типы данных видно, что все столбцы представлены корректно, кроме столбцов `created_dt_msk`, `created_ts_msk` и `days_since_prev`, которые удобнее будет привести к типам данных, соответствующим их содержимому. Так же, отметим, что в столбце `days_since_prev` присутствуют пропуски, которые можно заменить на нулевое значение либо оставить без изменений.\n",
    "\n",
    "\n",
    "**2. Обратимся к датафрейму `events`**, который занимает 1.9 МВ объема оперативной памяти и содержит 22427 строк и 11 столбцов, в которых информация о событиях, включая город и регион события, а также информацию о площадке проведения мероприятия.\n",
    "\n",
    "По аналогии с предыдущим датасетом можно отметить, что данные датафрейма представлены в двух типах: \n",
    "\n",
    "\n",
    "**Целочисленные значения (int64).** Три столбца представлены в данном типе: \n",
    "\n",
    "* `event_id`, `city_id` и `venue_id` - идентификаторы мероприятия, города и площадки соответственно. Целочисленный тип данных подходит для содержимого данных столбцов.\n",
    "\n",
    "**Строковые данные (object).** Восемь столбцов имеют тип данных object:\n",
    "\n",
    "* Остальные столбцы датафрейма имеют строковые значения (object), что вполне соответствует их содержимому: буквенное или буквенно-численное. \n",
    "\n",
    "Изучив типы данных видно, что все столбцы представлены корректно. Отметим, что поля датафрейма не содержат пропусков.\n",
    "\n",
    "\n",
    "**3. Перейдем к датафрейму `tenge`** занимает объем оперативной памяти 11.3 KВ и содержит 357 строк и 4 столбца, в которых находится информация о курсе тенге к российскому рублю за 2024 год.\n",
    "\n",
    "В датасете представлены три типа данных: \n",
    "\n",
    "\n",
    "**Числовые значения с плавающей точкой (float64).** Один столбец представлен в данном типе: \n",
    "\n",
    "* `curs` - курс тенге к рублю. Тип данных float64 подходит для значений данного столбца.\n",
    "\n",
    "**Строковые данные (object).** Два столбца имеют тип данных object:\n",
    "\n",
    "* `cdx` - столбцы содержат обозначение валюты (kzt), что вполне соответствует их содержимому. \n",
    "* `data` - столбец с информацией о дате не соответствуют типу данных object, знпчения столбца необходимо привести к типу datetime64.\n",
    "\n",
    "**Целочисленные значения (int64).** Один столбец с данным типом:\n",
    "\n",
    "* `nominal` - номинал, тип данных int64 является типичным для значений указанного столбца.\n",
    "\n",
    "Проанализировав типы данных видно, что все столбцы представлены корректно, кроме столбца `data`, который требует приведения к типу даты. Столбцы данного датафрейма не содержат пропущенных значений.\n",
    "\n",
    "\n",
    "Кроме того, отметим, что названия столбцов датафреймов прописаны в соответствии стилю **snake case** - в нижнем регистре с разделением слов подчеркиваниями вместо пробелов.\n",
    "\n",
    "Судя по первому знакомству с данными датасетов, значения в столбцах соответствуют своему описанию.\n",
    "\n",
    "---"
   ]
  },
  {
   "cell_type": "markdown",
   "metadata": {},
   "source": [
    "## Предобработка данных и подготовка их к исследованию"
   ]
  },
  {
   "cell_type": "markdown",
   "metadata": {},
   "source": [
    "* **Для удобства объединим имеющиеся датафреймы.**"
   ]
  },
  {
   "cell_type": "code",
   "execution_count": 9,
   "metadata": {},
   "outputs": [
    {
     "data": {
      "text/html": [
       "<div>\n",
       "<style scoped>\n",
       "    .dataframe tbody tr th:only-of-type {\n",
       "        vertical-align: middle;\n",
       "    }\n",
       "\n",
       "    .dataframe tbody tr th {\n",
       "        vertical-align: top;\n",
       "    }\n",
       "\n",
       "    .dataframe thead th {\n",
       "        text-align: right;\n",
       "    }\n",
       "</style>\n",
       "<table border=\"1\" class=\"dataframe\">\n",
       "  <thead>\n",
       "    <tr style=\"text-align: right;\">\n",
       "      <th></th>\n",
       "      <th>order_id</th>\n",
       "      <th>user_id</th>\n",
       "      <th>created_dt_msk</th>\n",
       "      <th>created_ts_msk</th>\n",
       "      <th>event_id</th>\n",
       "      <th>cinema_circuit</th>\n",
       "      <th>age_limit</th>\n",
       "      <th>currency_code</th>\n",
       "      <th>device_type_canonical</th>\n",
       "      <th>revenue</th>\n",
       "      <th>service_name</th>\n",
       "      <th>tickets_count</th>\n",
       "      <th>total</th>\n",
       "      <th>days_since_prev</th>\n",
       "      <th>event_name</th>\n",
       "      <th>event_type_description</th>\n",
       "      <th>event_type_main</th>\n",
       "      <th>organizers</th>\n",
       "      <th>region_name</th>\n",
       "      <th>city_name</th>\n",
       "      <th>city_id</th>\n",
       "      <th>venue_id</th>\n",
       "      <th>venue_name</th>\n",
       "      <th>venue_address</th>\n",
       "    </tr>\n",
       "  </thead>\n",
       "  <tbody>\n",
       "    <tr>\n",
       "      <th>0</th>\n",
       "      <td>4359165</td>\n",
       "      <td>0002849b70a3ce2</td>\n",
       "      <td>2024-08-20</td>\n",
       "      <td>2024-08-20 16:08:03</td>\n",
       "      <td>169230</td>\n",
       "      <td>нет</td>\n",
       "      <td>16</td>\n",
       "      <td>rub</td>\n",
       "      <td>mobile</td>\n",
       "      <td>1521.94</td>\n",
       "      <td>Край билетов</td>\n",
       "      <td>4</td>\n",
       "      <td>10870.99</td>\n",
       "      <td>NaN</td>\n",
       "      <td>f0f7b271-04eb-4af6-bcb8-8f05cf46d6ad</td>\n",
       "      <td>спектакль</td>\n",
       "      <td>театр</td>\n",
       "      <td>№3322</td>\n",
       "      <td>Каменевский регион</td>\n",
       "      <td>Глиногорск</td>\n",
       "      <td>213</td>\n",
       "      <td>3972</td>\n",
       "      <td>Сценический центр \"Деталь\" Групп</td>\n",
       "      <td>алл. Машиностроителей, д. 19 стр. 6</td>\n",
       "    </tr>\n",
       "    <tr>\n",
       "      <th>1</th>\n",
       "      <td>7431164</td>\n",
       "      <td>024dc5236465850</td>\n",
       "      <td>2024-07-23</td>\n",
       "      <td>2024-07-23 20:52:02</td>\n",
       "      <td>169230</td>\n",
       "      <td>нет</td>\n",
       "      <td>16</td>\n",
       "      <td>rub</td>\n",
       "      <td>mobile</td>\n",
       "      <td>1902.42</td>\n",
       "      <td>Край билетов</td>\n",
       "      <td>5</td>\n",
       "      <td>13588.74</td>\n",
       "      <td>0.0</td>\n",
       "      <td>f0f7b271-04eb-4af6-bcb8-8f05cf46d6ad</td>\n",
       "      <td>спектакль</td>\n",
       "      <td>театр</td>\n",
       "      <td>№3322</td>\n",
       "      <td>Каменевский регион</td>\n",
       "      <td>Глиногорск</td>\n",
       "      <td>213</td>\n",
       "      <td>3972</td>\n",
       "      <td>Сценический центр \"Деталь\" Групп</td>\n",
       "      <td>алл. Машиностроителей, д. 19 стр. 6</td>\n",
       "    </tr>\n",
       "    <tr>\n",
       "      <th>2</th>\n",
       "      <td>7431106</td>\n",
       "      <td>024dc5236465850</td>\n",
       "      <td>2024-07-23</td>\n",
       "      <td>2024-07-23 20:54:19</td>\n",
       "      <td>169230</td>\n",
       "      <td>нет</td>\n",
       "      <td>16</td>\n",
       "      <td>rub</td>\n",
       "      <td>mobile</td>\n",
       "      <td>1141.45</td>\n",
       "      <td>Край билетов</td>\n",
       "      <td>3</td>\n",
       "      <td>8153.25</td>\n",
       "      <td>0.0</td>\n",
       "      <td>f0f7b271-04eb-4af6-bcb8-8f05cf46d6ad</td>\n",
       "      <td>спектакль</td>\n",
       "      <td>театр</td>\n",
       "      <td>№3322</td>\n",
       "      <td>Каменевский регион</td>\n",
       "      <td>Глиногорск</td>\n",
       "      <td>213</td>\n",
       "      <td>3972</td>\n",
       "      <td>Сценический центр \"Деталь\" Групп</td>\n",
       "      <td>алл. Машиностроителей, д. 19 стр. 6</td>\n",
       "    </tr>\n",
       "    <tr>\n",
       "      <th>3</th>\n",
       "      <td>7431135</td>\n",
       "      <td>024dc5236465850</td>\n",
       "      <td>2024-07-23</td>\n",
       "      <td>2024-07-23 20:59:44</td>\n",
       "      <td>169230</td>\n",
       "      <td>нет</td>\n",
       "      <td>16</td>\n",
       "      <td>rub</td>\n",
       "      <td>mobile</td>\n",
       "      <td>1902.42</td>\n",
       "      <td>Край билетов</td>\n",
       "      <td>5</td>\n",
       "      <td>13588.74</td>\n",
       "      <td>0.0</td>\n",
       "      <td>f0f7b271-04eb-4af6-bcb8-8f05cf46d6ad</td>\n",
       "      <td>спектакль</td>\n",
       "      <td>театр</td>\n",
       "      <td>№3322</td>\n",
       "      <td>Каменевский регион</td>\n",
       "      <td>Глиногорск</td>\n",
       "      <td>213</td>\n",
       "      <td>3972</td>\n",
       "      <td>Сценический центр \"Деталь\" Групп</td>\n",
       "      <td>алл. Машиностроителей, д. 19 стр. 6</td>\n",
       "    </tr>\n",
       "    <tr>\n",
       "      <th>4</th>\n",
       "      <td>7431048</td>\n",
       "      <td>024dc5236465850</td>\n",
       "      <td>2024-07-23</td>\n",
       "      <td>2024-07-23 21:02:08</td>\n",
       "      <td>169230</td>\n",
       "      <td>нет</td>\n",
       "      <td>16</td>\n",
       "      <td>rub</td>\n",
       "      <td>mobile</td>\n",
       "      <td>1521.94</td>\n",
       "      <td>Край билетов</td>\n",
       "      <td>4</td>\n",
       "      <td>10870.99</td>\n",
       "      <td>0.0</td>\n",
       "      <td>f0f7b271-04eb-4af6-bcb8-8f05cf46d6ad</td>\n",
       "      <td>спектакль</td>\n",
       "      <td>театр</td>\n",
       "      <td>№3322</td>\n",
       "      <td>Каменевский регион</td>\n",
       "      <td>Глиногорск</td>\n",
       "      <td>213</td>\n",
       "      <td>3972</td>\n",
       "      <td>Сценический центр \"Деталь\" Групп</td>\n",
       "      <td>алл. Машиностроителей, д. 19 стр. 6</td>\n",
       "    </tr>\n",
       "    <tr>\n",
       "      <th>...</th>\n",
       "      <td>...</td>\n",
       "      <td>...</td>\n",
       "      <td>...</td>\n",
       "      <td>...</td>\n",
       "      <td>...</td>\n",
       "      <td>...</td>\n",
       "      <td>...</td>\n",
       "      <td>...</td>\n",
       "      <td>...</td>\n",
       "      <td>...</td>\n",
       "      <td>...</td>\n",
       "      <td>...</td>\n",
       "      <td>...</td>\n",
       "      <td>...</td>\n",
       "      <td>...</td>\n",
       "      <td>...</td>\n",
       "      <td>...</td>\n",
       "      <td>...</td>\n",
       "      <td>...</td>\n",
       "      <td>...</td>\n",
       "      <td>...</td>\n",
       "      <td>...</td>\n",
       "      <td>...</td>\n",
       "      <td>...</td>\n",
       "    </tr>\n",
       "    <tr>\n",
       "      <th>290606</th>\n",
       "      <td>7375078</td>\n",
       "      <td>ff684621b134cc4</td>\n",
       "      <td>2024-10-06</td>\n",
       "      <td>2024-10-06 12:32:09</td>\n",
       "      <td>12820</td>\n",
       "      <td>нет</td>\n",
       "      <td>18</td>\n",
       "      <td>rub</td>\n",
       "      <td>desktop</td>\n",
       "      <td>279.82</td>\n",
       "      <td>Лови билет!</td>\n",
       "      <td>3</td>\n",
       "      <td>3497.70</td>\n",
       "      <td>3.0</td>\n",
       "      <td>a59dafa6-f5a0-4c98-a460-5f6bb27218df</td>\n",
       "      <td>спектакль</td>\n",
       "      <td>театр</td>\n",
       "      <td>№1871</td>\n",
       "      <td>Каменевский регион</td>\n",
       "      <td>Глиногорск</td>\n",
       "      <td>213</td>\n",
       "      <td>4574</td>\n",
       "      <td>Архив \"Туман\" Лимитед</td>\n",
       "      <td>ш. Водопроводное, д. 87 стр. 572</td>\n",
       "    </tr>\n",
       "    <tr>\n",
       "      <th>290607</th>\n",
       "      <td>343390</td>\n",
       "      <td>ff684621b134cc4</td>\n",
       "      <td>2024-10-31</td>\n",
       "      <td>2024-10-31 12:27:42</td>\n",
       "      <td>357588</td>\n",
       "      <td>нет</td>\n",
       "      <td>6</td>\n",
       "      <td>rub</td>\n",
       "      <td>mobile</td>\n",
       "      <td>427.06</td>\n",
       "      <td>Лови билет!</td>\n",
       "      <td>4</td>\n",
       "      <td>3285.04</td>\n",
       "      <td>1.0</td>\n",
       "      <td>f56f3d67-4673-4fb3-b202-3f2bfd39fcf6</td>\n",
       "      <td>мюзикл</td>\n",
       "      <td>театр</td>\n",
       "      <td>№1469</td>\n",
       "      <td>Североярская область</td>\n",
       "      <td>Озёрск</td>\n",
       "      <td>2</td>\n",
       "      <td>2303</td>\n",
       "      <td>Санкт-Петербургский дом культуры \"Сказка\" Лтд</td>\n",
       "      <td>алл. Макарова, д. 5/2</td>\n",
       "    </tr>\n",
       "    <tr>\n",
       "      <th>290608</th>\n",
       "      <td>7378935</td>\n",
       "      <td>ff6bf53a0207b52</td>\n",
       "      <td>2024-10-02</td>\n",
       "      <td>2024-10-02 20:58:31</td>\n",
       "      <td>300765</td>\n",
       "      <td>нет</td>\n",
       "      <td>6</td>\n",
       "      <td>rub</td>\n",
       "      <td>mobile</td>\n",
       "      <td>224.88</td>\n",
       "      <td>Городской дом культуры</td>\n",
       "      <td>3</td>\n",
       "      <td>2811.03</td>\n",
       "      <td>0.0</td>\n",
       "      <td>cf71bf2b-8e5c-47e0-a0f3-c2d4910c4677</td>\n",
       "      <td>спектакль</td>\n",
       "      <td>театр</td>\n",
       "      <td>№4915</td>\n",
       "      <td>Североярская область</td>\n",
       "      <td>Озёрск</td>\n",
       "      <td>2</td>\n",
       "      <td>3850</td>\n",
       "      <td>Творческое объединение \"Ветер\" Инкорпорэйтед</td>\n",
       "      <td>пр. Тупиковый, д. 9 стр. 8</td>\n",
       "    </tr>\n",
       "    <tr>\n",
       "      <th>290609</th>\n",
       "      <td>195084</td>\n",
       "      <td>ffdadadd5de9c4b</td>\n",
       "      <td>2024-07-22</td>\n",
       "      <td>2024-07-22 13:44:54</td>\n",
       "      <td>540339</td>\n",
       "      <td>нет</td>\n",
       "      <td>6</td>\n",
       "      <td>rub</td>\n",
       "      <td>desktop</td>\n",
       "      <td>92.18</td>\n",
       "      <td>Лови билет!</td>\n",
       "      <td>1</td>\n",
       "      <td>1316.83</td>\n",
       "      <td>0.0</td>\n",
       "      <td>f17a01b7-3cd3-4cd1-919c-3459bd074886</td>\n",
       "      <td>концерт</td>\n",
       "      <td>концерты</td>\n",
       "      <td>№1742</td>\n",
       "      <td>Светополянский округ</td>\n",
       "      <td>Глиноград</td>\n",
       "      <td>54</td>\n",
       "      <td>3692</td>\n",
       "      <td>Цирк \"Зависть\" Групп</td>\n",
       "      <td>ул. Красина, д. 64 стр. 5/7</td>\n",
       "    </tr>\n",
       "    <tr>\n",
       "      <th>290610</th>\n",
       "      <td>2938020</td>\n",
       "      <td>ffdfac9273f943b</td>\n",
       "      <td>2024-10-22</td>\n",
       "      <td>2024-10-22 09:30:54</td>\n",
       "      <td>568852</td>\n",
       "      <td>нет</td>\n",
       "      <td>0</td>\n",
       "      <td>rub</td>\n",
       "      <td>mobile</td>\n",
       "      <td>1696.56</td>\n",
       "      <td>Билеты в руки</td>\n",
       "      <td>6</td>\n",
       "      <td>15423.30</td>\n",
       "      <td>NaN</td>\n",
       "      <td>0fd6df8e-49e5-4337-954d-5a4606b1b899</td>\n",
       "      <td>концерт</td>\n",
       "      <td>концерты</td>\n",
       "      <td>№2689</td>\n",
       "      <td>Североярская область</td>\n",
       "      <td>Озёрск</td>\n",
       "      <td>2</td>\n",
       "      <td>4102</td>\n",
       "      <td>Школа музыки \"Парадигма\" Лтд</td>\n",
       "      <td>пр. Сплавный, д. 236 к. 918</td>\n",
       "    </tr>\n",
       "  </tbody>\n",
       "</table>\n",
       "<p>290611 rows × 24 columns</p>\n",
       "</div>"
      ],
      "text/plain": [
       "        order_id          user_id created_dt_msk       created_ts_msk  \\\n",
       "0        4359165  0002849b70a3ce2     2024-08-20  2024-08-20 16:08:03   \n",
       "1        7431164  024dc5236465850     2024-07-23  2024-07-23 20:52:02   \n",
       "2        7431106  024dc5236465850     2024-07-23  2024-07-23 20:54:19   \n",
       "3        7431135  024dc5236465850     2024-07-23  2024-07-23 20:59:44   \n",
       "4        7431048  024dc5236465850     2024-07-23  2024-07-23 21:02:08   \n",
       "...          ...              ...            ...                  ...   \n",
       "290606   7375078  ff684621b134cc4     2024-10-06  2024-10-06 12:32:09   \n",
       "290607    343390  ff684621b134cc4     2024-10-31  2024-10-31 12:27:42   \n",
       "290608   7378935  ff6bf53a0207b52     2024-10-02  2024-10-02 20:58:31   \n",
       "290609    195084  ffdadadd5de9c4b     2024-07-22  2024-07-22 13:44:54   \n",
       "290610   2938020  ffdfac9273f943b     2024-10-22  2024-10-22 09:30:54   \n",
       "\n",
       "        event_id cinema_circuit  age_limit currency_code  \\\n",
       "0         169230            нет         16           rub   \n",
       "1         169230            нет         16           rub   \n",
       "2         169230            нет         16           rub   \n",
       "3         169230            нет         16           rub   \n",
       "4         169230            нет         16           rub   \n",
       "...          ...            ...        ...           ...   \n",
       "290606     12820            нет         18           rub   \n",
       "290607    357588            нет          6           rub   \n",
       "290608    300765            нет          6           rub   \n",
       "290609    540339            нет          6           rub   \n",
       "290610    568852            нет          0           rub   \n",
       "\n",
       "       device_type_canonical  revenue            service_name  tickets_count  \\\n",
       "0                     mobile  1521.94            Край билетов              4   \n",
       "1                     mobile  1902.42            Край билетов              5   \n",
       "2                     mobile  1141.45            Край билетов              3   \n",
       "3                     mobile  1902.42            Край билетов              5   \n",
       "4                     mobile  1521.94            Край билетов              4   \n",
       "...                      ...      ...                     ...            ...   \n",
       "290606               desktop   279.82             Лови билет!              3   \n",
       "290607                mobile   427.06             Лови билет!              4   \n",
       "290608                mobile   224.88  Городской дом культуры              3   \n",
       "290609               desktop    92.18             Лови билет!              1   \n",
       "290610                mobile  1696.56           Билеты в руки              6   \n",
       "\n",
       "           total  days_since_prev                            event_name  \\\n",
       "0       10870.99              NaN  f0f7b271-04eb-4af6-bcb8-8f05cf46d6ad   \n",
       "1       13588.74              0.0  f0f7b271-04eb-4af6-bcb8-8f05cf46d6ad   \n",
       "2        8153.25              0.0  f0f7b271-04eb-4af6-bcb8-8f05cf46d6ad   \n",
       "3       13588.74              0.0  f0f7b271-04eb-4af6-bcb8-8f05cf46d6ad   \n",
       "4       10870.99              0.0  f0f7b271-04eb-4af6-bcb8-8f05cf46d6ad   \n",
       "...          ...              ...                                   ...   \n",
       "290606   3497.70              3.0  a59dafa6-f5a0-4c98-a460-5f6bb27218df   \n",
       "290607   3285.04              1.0  f56f3d67-4673-4fb3-b202-3f2bfd39fcf6   \n",
       "290608   2811.03              0.0  cf71bf2b-8e5c-47e0-a0f3-c2d4910c4677   \n",
       "290609   1316.83              0.0  f17a01b7-3cd3-4cd1-919c-3459bd074886   \n",
       "290610  15423.30              NaN  0fd6df8e-49e5-4337-954d-5a4606b1b899   \n",
       "\n",
       "       event_type_description event_type_main organizers  \\\n",
       "0                   спектакль           театр      №3322   \n",
       "1                   спектакль           театр      №3322   \n",
       "2                   спектакль           театр      №3322   \n",
       "3                   спектакль           театр      №3322   \n",
       "4                   спектакль           театр      №3322   \n",
       "...                       ...             ...        ...   \n",
       "290606              спектакль           театр      №1871   \n",
       "290607                 мюзикл           театр      №1469   \n",
       "290608              спектакль           театр      №4915   \n",
       "290609                концерт        концерты      №1742   \n",
       "290610                концерт        концерты      №2689   \n",
       "\n",
       "                 region_name   city_name  city_id  venue_id  \\\n",
       "0         Каменевский регион  Глиногорск      213      3972   \n",
       "1         Каменевский регион  Глиногорск      213      3972   \n",
       "2         Каменевский регион  Глиногорск      213      3972   \n",
       "3         Каменевский регион  Глиногорск      213      3972   \n",
       "4         Каменевский регион  Глиногорск      213      3972   \n",
       "...                      ...         ...      ...       ...   \n",
       "290606    Каменевский регион  Глиногорск      213      4574   \n",
       "290607  Североярская область      Озёрск        2      2303   \n",
       "290608  Североярская область      Озёрск        2      3850   \n",
       "290609  Светополянский округ   Глиноград       54      3692   \n",
       "290610  Североярская область      Озёрск        2      4102   \n",
       "\n",
       "                                           venue_name  \\\n",
       "0                    Сценический центр \"Деталь\" Групп   \n",
       "1                    Сценический центр \"Деталь\" Групп   \n",
       "2                    Сценический центр \"Деталь\" Групп   \n",
       "3                    Сценический центр \"Деталь\" Групп   \n",
       "4                    Сценический центр \"Деталь\" Групп   \n",
       "...                                               ...   \n",
       "290606                          Архив \"Туман\" Лимитед   \n",
       "290607  Санкт-Петербургский дом культуры \"Сказка\" Лтд   \n",
       "290608   Творческое объединение \"Ветер\" Инкорпорэйтед   \n",
       "290609                           Цирк \"Зависть\" Групп   \n",
       "290610                   Школа музыки \"Парадигма\" Лтд   \n",
       "\n",
       "                              venue_address  \n",
       "0       алл. Машиностроителей, д. 19 стр. 6  \n",
       "1       алл. Машиностроителей, д. 19 стр. 6  \n",
       "2       алл. Машиностроителей, д. 19 стр. 6  \n",
       "3       алл. Машиностроителей, д. 19 стр. 6  \n",
       "4       алл. Машиностроителей, д. 19 стр. 6  \n",
       "...                                     ...  \n",
       "290606     ш. Водопроводное, д. 87 стр. 572  \n",
       "290607                алл. Макарова, д. 5/2  \n",
       "290608           пр. Тупиковый, д. 9 стр. 8  \n",
       "290609          ул. Красина, д. 64 стр. 5/7  \n",
       "290610          пр. Сплавный, д. 236 к. 918  \n",
       "\n",
       "[290611 rows x 24 columns]"
      ]
     },
     "metadata": {},
     "output_type": "display_data"
    }
   ],
   "source": [
    "# Объединим таблицы orders и events в общий датафрейм oe_df:\n",
    "oe_df = pd.merge(orders, events, on='event_id')\n",
    "display(oe_df)"
   ]
  },
  {
   "cell_type": "markdown",
   "metadata": {},
   "source": [
    "Присоединим к полученному датафрейму `oe_df` таблицу `tenge`."
   ]
  },
  {
   "cell_type": "code",
   "execution_count": 10,
   "metadata": {},
   "outputs": [
    {
     "data": {
      "text/html": [
       "<div>\n",
       "<style scoped>\n",
       "    .dataframe tbody tr th:only-of-type {\n",
       "        vertical-align: middle;\n",
       "    }\n",
       "\n",
       "    .dataframe tbody tr th {\n",
       "        vertical-align: top;\n",
       "    }\n",
       "\n",
       "    .dataframe thead th {\n",
       "        text-align: right;\n",
       "    }\n",
       "</style>\n",
       "<table border=\"1\" class=\"dataframe\">\n",
       "  <thead>\n",
       "    <tr style=\"text-align: right;\">\n",
       "      <th></th>\n",
       "      <th>order_id</th>\n",
       "      <th>user_id</th>\n",
       "      <th>created_dt_msk</th>\n",
       "      <th>created_ts_msk</th>\n",
       "      <th>event_id</th>\n",
       "      <th>cinema_circuit</th>\n",
       "      <th>age_limit</th>\n",
       "      <th>currency_code</th>\n",
       "      <th>device_type_canonical</th>\n",
       "      <th>revenue</th>\n",
       "      <th>service_name</th>\n",
       "      <th>tickets_count</th>\n",
       "      <th>total</th>\n",
       "      <th>days_since_prev</th>\n",
       "      <th>event_name</th>\n",
       "      <th>event_type_description</th>\n",
       "      <th>event_type_main</th>\n",
       "      <th>organizers</th>\n",
       "      <th>region_name</th>\n",
       "      <th>city_name</th>\n",
       "      <th>city_id</th>\n",
       "      <th>venue_id</th>\n",
       "      <th>venue_name</th>\n",
       "      <th>venue_address</th>\n",
       "      <th>data</th>\n",
       "      <th>nominal</th>\n",
       "      <th>curs</th>\n",
       "      <th>cdx</th>\n",
       "    </tr>\n",
       "  </thead>\n",
       "  <tbody>\n",
       "    <tr>\n",
       "      <th>0</th>\n",
       "      <td>4359165</td>\n",
       "      <td>0002849b70a3ce2</td>\n",
       "      <td>2024-08-20</td>\n",
       "      <td>2024-08-20 16:08:03</td>\n",
       "      <td>169230</td>\n",
       "      <td>нет</td>\n",
       "      <td>16</td>\n",
       "      <td>rub</td>\n",
       "      <td>mobile</td>\n",
       "      <td>1521.94</td>\n",
       "      <td>Край билетов</td>\n",
       "      <td>4</td>\n",
       "      <td>10870.99</td>\n",
       "      <td>NaN</td>\n",
       "      <td>f0f7b271-04eb-4af6-bcb8-8f05cf46d6ad</td>\n",
       "      <td>спектакль</td>\n",
       "      <td>театр</td>\n",
       "      <td>№3322</td>\n",
       "      <td>Каменевский регион</td>\n",
       "      <td>Глиногорск</td>\n",
       "      <td>213</td>\n",
       "      <td>3972</td>\n",
       "      <td>Сценический центр \"Деталь\" Групп</td>\n",
       "      <td>алл. Машиностроителей, д. 19 стр. 6</td>\n",
       "      <td>2024-08-20</td>\n",
       "      <td>100</td>\n",
       "      <td>18.6972</td>\n",
       "      <td>kzt</td>\n",
       "    </tr>\n",
       "    <tr>\n",
       "      <th>1</th>\n",
       "      <td>6274963</td>\n",
       "      <td>44c1c640a242aea</td>\n",
       "      <td>2024-08-20</td>\n",
       "      <td>2024-08-20 22:12:04</td>\n",
       "      <td>237325</td>\n",
       "      <td>нет</td>\n",
       "      <td>0</td>\n",
       "      <td>rub</td>\n",
       "      <td>mobile</td>\n",
       "      <td>144.73</td>\n",
       "      <td>Мой билет</td>\n",
       "      <td>1</td>\n",
       "      <td>1033.76</td>\n",
       "      <td>0.0</td>\n",
       "      <td>40efeb04-81b7-4135-b41f-708ff00cc64c</td>\n",
       "      <td>событие</td>\n",
       "      <td>выставки</td>\n",
       "      <td>№4850</td>\n",
       "      <td>Каменевский регион</td>\n",
       "      <td>Глиногорск</td>\n",
       "      <td>213</td>\n",
       "      <td>2941</td>\n",
       "      <td>Музыкальная школа для детей \"Аккаунт\" Лтд</td>\n",
       "      <td>алл. Шмидта, д. 9 стр. 4</td>\n",
       "      <td>2024-08-20</td>\n",
       "      <td>100</td>\n",
       "      <td>18.6972</td>\n",
       "      <td>kzt</td>\n",
       "    </tr>\n",
       "    <tr>\n",
       "      <th>2</th>\n",
       "      <td>474528</td>\n",
       "      <td>2b1f730d7024681</td>\n",
       "      <td>2024-08-20</td>\n",
       "      <td>2024-08-20 15:29:56</td>\n",
       "      <td>373657</td>\n",
       "      <td>нет</td>\n",
       "      <td>18</td>\n",
       "      <td>rub</td>\n",
       "      <td>mobile</td>\n",
       "      <td>318.27</td>\n",
       "      <td>Облачко</td>\n",
       "      <td>3</td>\n",
       "      <td>2448.25</td>\n",
       "      <td>2.0</td>\n",
       "      <td>990b8b09-85d8-4ffb-9074-ab5303cd3c33</td>\n",
       "      <td>шоу</td>\n",
       "      <td>стендап</td>\n",
       "      <td>№1124</td>\n",
       "      <td>Североярская область</td>\n",
       "      <td>Озёрск</td>\n",
       "      <td>2</td>\n",
       "      <td>1631</td>\n",
       "      <td>Музей истории \"Воспоминание\" Групп</td>\n",
       "      <td>наб. Тамбовская, д. 1/4 к. 577</td>\n",
       "      <td>2024-08-20</td>\n",
       "      <td>100</td>\n",
       "      <td>18.6972</td>\n",
       "      <td>kzt</td>\n",
       "    </tr>\n",
       "    <tr>\n",
       "      <th>3</th>\n",
       "      <td>7477361</td>\n",
       "      <td>05ba93f1b1e1fdd</td>\n",
       "      <td>2024-08-20</td>\n",
       "      <td>2024-08-20 17:06:44</td>\n",
       "      <td>534657</td>\n",
       "      <td>нет</td>\n",
       "      <td>16</td>\n",
       "      <td>rub</td>\n",
       "      <td>mobile</td>\n",
       "      <td>339.61</td>\n",
       "      <td>Быстробилет</td>\n",
       "      <td>1</td>\n",
       "      <td>2612.35</td>\n",
       "      <td>1.0</td>\n",
       "      <td>dff567b7-11a5-4c4c-b223-70c8ab7efd15</td>\n",
       "      <td>концерт</td>\n",
       "      <td>концерты</td>\n",
       "      <td>№1134</td>\n",
       "      <td>Ветренский регион</td>\n",
       "      <td>Кокжар</td>\n",
       "      <td>20</td>\n",
       "      <td>2866</td>\n",
       "      <td>Школа фотографии \"Золотое\" Инк</td>\n",
       "      <td>ш. Микрорайон, д. 79 стр. 50</td>\n",
       "      <td>2024-08-20</td>\n",
       "      <td>100</td>\n",
       "      <td>18.6972</td>\n",
       "      <td>kzt</td>\n",
       "    </tr>\n",
       "    <tr>\n",
       "      <th>4</th>\n",
       "      <td>472150</td>\n",
       "      <td>3ee7dc2e115847f</td>\n",
       "      <td>2024-08-20</td>\n",
       "      <td>2024-08-20 02:57:22</td>\n",
       "      <td>534657</td>\n",
       "      <td>нет</td>\n",
       "      <td>16</td>\n",
       "      <td>rub</td>\n",
       "      <td>mobile</td>\n",
       "      <td>339.61</td>\n",
       "      <td>Быстробилет</td>\n",
       "      <td>1</td>\n",
       "      <td>2612.35</td>\n",
       "      <td>0.0</td>\n",
       "      <td>dff567b7-11a5-4c4c-b223-70c8ab7efd15</td>\n",
       "      <td>концерт</td>\n",
       "      <td>концерты</td>\n",
       "      <td>№1134</td>\n",
       "      <td>Ветренский регион</td>\n",
       "      <td>Кокжар</td>\n",
       "      <td>20</td>\n",
       "      <td>2866</td>\n",
       "      <td>Школа фотографии \"Золотое\" Инк</td>\n",
       "      <td>ш. Микрорайон, д. 79 стр. 50</td>\n",
       "      <td>2024-08-20</td>\n",
       "      <td>100</td>\n",
       "      <td>18.6972</td>\n",
       "      <td>kzt</td>\n",
       "    </tr>\n",
       "    <tr>\n",
       "      <th>...</th>\n",
       "      <td>...</td>\n",
       "      <td>...</td>\n",
       "      <td>...</td>\n",
       "      <td>...</td>\n",
       "      <td>...</td>\n",
       "      <td>...</td>\n",
       "      <td>...</td>\n",
       "      <td>...</td>\n",
       "      <td>...</td>\n",
       "      <td>...</td>\n",
       "      <td>...</td>\n",
       "      <td>...</td>\n",
       "      <td>...</td>\n",
       "      <td>...</td>\n",
       "      <td>...</td>\n",
       "      <td>...</td>\n",
       "      <td>...</td>\n",
       "      <td>...</td>\n",
       "      <td>...</td>\n",
       "      <td>...</td>\n",
       "      <td>...</td>\n",
       "      <td>...</td>\n",
       "      <td>...</td>\n",
       "      <td>...</td>\n",
       "      <td>...</td>\n",
       "      <td>...</td>\n",
       "      <td>...</td>\n",
       "      <td>...</td>\n",
       "    </tr>\n",
       "    <tr>\n",
       "      <th>290606</th>\n",
       "      <td>236989</td>\n",
       "      <td>e75abeba6dd1fc4</td>\n",
       "      <td>2024-06-14</td>\n",
       "      <td>2024-06-14 18:21:55</td>\n",
       "      <td>10229</td>\n",
       "      <td>нет</td>\n",
       "      <td>12</td>\n",
       "      <td>rub</td>\n",
       "      <td>desktop</td>\n",
       "      <td>843.87</td>\n",
       "      <td>Лови билет!</td>\n",
       "      <td>5</td>\n",
       "      <td>10548.38</td>\n",
       "      <td>0.0</td>\n",
       "      <td>7e589239-e102-4205-9e8b-5983de8874b0</td>\n",
       "      <td>спектакль</td>\n",
       "      <td>театр</td>\n",
       "      <td>№1684</td>\n",
       "      <td>Каменевский регион</td>\n",
       "      <td>Глиногорск</td>\n",
       "      <td>213</td>\n",
       "      <td>2927</td>\n",
       "      <td>Спектакль \"Сентябрь\" Лтд</td>\n",
       "      <td>ул. Красноярская, д. 6/3 стр. 761</td>\n",
       "      <td>2024-06-14</td>\n",
       "      <td>100</td>\n",
       "      <td>19.5250</td>\n",
       "      <td>kzt</td>\n",
       "    </tr>\n",
       "    <tr>\n",
       "      <th>290607</th>\n",
       "      <td>8365544</td>\n",
       "      <td>f29a8ec731fab1d</td>\n",
       "      <td>2024-06-14</td>\n",
       "      <td>2024-06-14 14:29:42</td>\n",
       "      <td>488578</td>\n",
       "      <td>нет</td>\n",
       "      <td>6</td>\n",
       "      <td>rub</td>\n",
       "      <td>mobile</td>\n",
       "      <td>230.75</td>\n",
       "      <td>Билеты в руки</td>\n",
       "      <td>5</td>\n",
       "      <td>3845.90</td>\n",
       "      <td>NaN</td>\n",
       "      <td>8183e81d-7f2d-4eeb-8fa6-506778e52f94</td>\n",
       "      <td>событие</td>\n",
       "      <td>другое</td>\n",
       "      <td>№2929</td>\n",
       "      <td>Светополянский округ</td>\n",
       "      <td>Речное</td>\n",
       "      <td>20595</td>\n",
       "      <td>2703</td>\n",
       "      <td>Музей музыкальных инструментов \"Разноцвет\" и п...</td>\n",
       "      <td>пр. Коллективный, д. 5 к. 6/8</td>\n",
       "      <td>2024-06-14</td>\n",
       "      <td>100</td>\n",
       "      <td>19.5250</td>\n",
       "      <td>kzt</td>\n",
       "    </tr>\n",
       "    <tr>\n",
       "      <th>290608</th>\n",
       "      <td>7032588</td>\n",
       "      <td>f7a0146fc193947</td>\n",
       "      <td>2024-06-14</td>\n",
       "      <td>2024-06-14 23:28:07</td>\n",
       "      <td>518322</td>\n",
       "      <td>нет</td>\n",
       "      <td>12</td>\n",
       "      <td>rub</td>\n",
       "      <td>mobile</td>\n",
       "      <td>749.53</td>\n",
       "      <td>Билеты в руки</td>\n",
       "      <td>3</td>\n",
       "      <td>6813.90</td>\n",
       "      <td>0.0</td>\n",
       "      <td>3301cd59-29cc-460f-92f8-92bfac5d2148</td>\n",
       "      <td>спектакль</td>\n",
       "      <td>театр</td>\n",
       "      <td>№4439</td>\n",
       "      <td>Североярская область</td>\n",
       "      <td>Озёрск</td>\n",
       "      <td>2</td>\n",
       "      <td>1044</td>\n",
       "      <td>Спектакль \"Ремесло\" Инк</td>\n",
       "      <td>алл. Степная, д. 5 стр. 9</td>\n",
       "      <td>2024-06-14</td>\n",
       "      <td>100</td>\n",
       "      <td>19.5250</td>\n",
       "      <td>kzt</td>\n",
       "    </tr>\n",
       "    <tr>\n",
       "      <th>290609</th>\n",
       "      <td>6730350</td>\n",
       "      <td>fc950d43881de43</td>\n",
       "      <td>2024-06-14</td>\n",
       "      <td>2024-06-14 06:56:17</td>\n",
       "      <td>533051</td>\n",
       "      <td>нет</td>\n",
       "      <td>18</td>\n",
       "      <td>rub</td>\n",
       "      <td>mobile</td>\n",
       "      <td>162.13</td>\n",
       "      <td>Облачко</td>\n",
       "      <td>2</td>\n",
       "      <td>1473.90</td>\n",
       "      <td>0.0</td>\n",
       "      <td>6a2e08b2-bf15-4424-8c60-5764e38a5d58</td>\n",
       "      <td>шоу</td>\n",
       "      <td>стендап</td>\n",
       "      <td>№2475</td>\n",
       "      <td>Светополянский округ</td>\n",
       "      <td>Глиноград</td>\n",
       "      <td>54</td>\n",
       "      <td>1244</td>\n",
       "      <td>Группа арт-менеджеров \"Салон\" Групп</td>\n",
       "      <td>бул. Гаражный, д. 332 стр. 3</td>\n",
       "      <td>2024-06-14</td>\n",
       "      <td>100</td>\n",
       "      <td>19.5250</td>\n",
       "      <td>kzt</td>\n",
       "    </tr>\n",
       "    <tr>\n",
       "      <th>290610</th>\n",
       "      <td>5218696</td>\n",
       "      <td>fd4d47438ebb946</td>\n",
       "      <td>2024-06-14</td>\n",
       "      <td>2024-06-14 20:51:14</td>\n",
       "      <td>527277</td>\n",
       "      <td>нет</td>\n",
       "      <td>18</td>\n",
       "      <td>rub</td>\n",
       "      <td>mobile</td>\n",
       "      <td>289.04</td>\n",
       "      <td>Лови билет!</td>\n",
       "      <td>3</td>\n",
       "      <td>4129.17</td>\n",
       "      <td>1.0</td>\n",
       "      <td>16b83ea3-ae36-46a4-868d-5b4da7649e2c</td>\n",
       "      <td>спектакль</td>\n",
       "      <td>театр</td>\n",
       "      <td>№1716</td>\n",
       "      <td>Широковская область</td>\n",
       "      <td>Радужнополье</td>\n",
       "      <td>35</td>\n",
       "      <td>3944</td>\n",
       "      <td>Клуб любителей театра \"Гардероб\" Инкорпорэйтед</td>\n",
       "      <td>пер. Элеваторный, д. 8/6 к. 310</td>\n",
       "      <td>2024-06-14</td>\n",
       "      <td>100</td>\n",
       "      <td>19.5250</td>\n",
       "      <td>kzt</td>\n",
       "    </tr>\n",
       "  </tbody>\n",
       "</table>\n",
       "<p>290611 rows × 28 columns</p>\n",
       "</div>"
      ],
      "text/plain": [
       "        order_id          user_id created_dt_msk       created_ts_msk  \\\n",
       "0        4359165  0002849b70a3ce2     2024-08-20  2024-08-20 16:08:03   \n",
       "1        6274963  44c1c640a242aea     2024-08-20  2024-08-20 22:12:04   \n",
       "2         474528  2b1f730d7024681     2024-08-20  2024-08-20 15:29:56   \n",
       "3        7477361  05ba93f1b1e1fdd     2024-08-20  2024-08-20 17:06:44   \n",
       "4         472150  3ee7dc2e115847f     2024-08-20  2024-08-20 02:57:22   \n",
       "...          ...              ...            ...                  ...   \n",
       "290606    236989  e75abeba6dd1fc4     2024-06-14  2024-06-14 18:21:55   \n",
       "290607   8365544  f29a8ec731fab1d     2024-06-14  2024-06-14 14:29:42   \n",
       "290608   7032588  f7a0146fc193947     2024-06-14  2024-06-14 23:28:07   \n",
       "290609   6730350  fc950d43881de43     2024-06-14  2024-06-14 06:56:17   \n",
       "290610   5218696  fd4d47438ebb946     2024-06-14  2024-06-14 20:51:14   \n",
       "\n",
       "        event_id cinema_circuit  age_limit currency_code  \\\n",
       "0         169230            нет         16           rub   \n",
       "1         237325            нет          0           rub   \n",
       "2         373657            нет         18           rub   \n",
       "3         534657            нет         16           rub   \n",
       "4         534657            нет         16           rub   \n",
       "...          ...            ...        ...           ...   \n",
       "290606     10229            нет         12           rub   \n",
       "290607    488578            нет          6           rub   \n",
       "290608    518322            нет         12           rub   \n",
       "290609    533051            нет         18           rub   \n",
       "290610    527277            нет         18           rub   \n",
       "\n",
       "       device_type_canonical  revenue   service_name  tickets_count     total  \\\n",
       "0                     mobile  1521.94   Край билетов              4  10870.99   \n",
       "1                     mobile   144.73      Мой билет              1   1033.76   \n",
       "2                     mobile   318.27        Облачко              3   2448.25   \n",
       "3                     mobile   339.61    Быстробилет              1   2612.35   \n",
       "4                     mobile   339.61    Быстробилет              1   2612.35   \n",
       "...                      ...      ...            ...            ...       ...   \n",
       "290606               desktop   843.87    Лови билет!              5  10548.38   \n",
       "290607                mobile   230.75  Билеты в руки              5   3845.90   \n",
       "290608                mobile   749.53  Билеты в руки              3   6813.90   \n",
       "290609                mobile   162.13        Облачко              2   1473.90   \n",
       "290610                mobile   289.04    Лови билет!              3   4129.17   \n",
       "\n",
       "        days_since_prev                            event_name  \\\n",
       "0                   NaN  f0f7b271-04eb-4af6-bcb8-8f05cf46d6ad   \n",
       "1                   0.0  40efeb04-81b7-4135-b41f-708ff00cc64c   \n",
       "2                   2.0  990b8b09-85d8-4ffb-9074-ab5303cd3c33   \n",
       "3                   1.0  dff567b7-11a5-4c4c-b223-70c8ab7efd15   \n",
       "4                   0.0  dff567b7-11a5-4c4c-b223-70c8ab7efd15   \n",
       "...                 ...                                   ...   \n",
       "290606              0.0  7e589239-e102-4205-9e8b-5983de8874b0   \n",
       "290607              NaN  8183e81d-7f2d-4eeb-8fa6-506778e52f94   \n",
       "290608              0.0  3301cd59-29cc-460f-92f8-92bfac5d2148   \n",
       "290609              0.0  6a2e08b2-bf15-4424-8c60-5764e38a5d58   \n",
       "290610              1.0  16b83ea3-ae36-46a4-868d-5b4da7649e2c   \n",
       "\n",
       "       event_type_description event_type_main organizers  \\\n",
       "0                   спектакль           театр      №3322   \n",
       "1                     событие        выставки      №4850   \n",
       "2                         шоу         стендап      №1124   \n",
       "3                     концерт        концерты      №1134   \n",
       "4                     концерт        концерты      №1134   \n",
       "...                       ...             ...        ...   \n",
       "290606              спектакль           театр      №1684   \n",
       "290607                событие          другое      №2929   \n",
       "290608              спектакль           театр      №4439   \n",
       "290609                    шоу         стендап      №2475   \n",
       "290610              спектакль           театр      №1716   \n",
       "\n",
       "                 region_name     city_name  city_id  venue_id  \\\n",
       "0         Каменевский регион    Глиногорск      213      3972   \n",
       "1         Каменевский регион    Глиногорск      213      2941   \n",
       "2       Североярская область        Озёрск        2      1631   \n",
       "3          Ветренский регион        Кокжар       20      2866   \n",
       "4          Ветренский регион        Кокжар       20      2866   \n",
       "...                      ...           ...      ...       ...   \n",
       "290606    Каменевский регион    Глиногорск      213      2927   \n",
       "290607  Светополянский округ        Речное    20595      2703   \n",
       "290608  Североярская область        Озёрск        2      1044   \n",
       "290609  Светополянский округ     Глиноград       54      1244   \n",
       "290610   Широковская область  Радужнополье       35      3944   \n",
       "\n",
       "                                               venue_name  \\\n",
       "0                        Сценический центр \"Деталь\" Групп   \n",
       "1               Музыкальная школа для детей \"Аккаунт\" Лтд   \n",
       "2                      Музей истории \"Воспоминание\" Групп   \n",
       "3                          Школа фотографии \"Золотое\" Инк   \n",
       "4                          Школа фотографии \"Золотое\" Инк   \n",
       "...                                                   ...   \n",
       "290606                           Спектакль \"Сентябрь\" Лтд   \n",
       "290607  Музей музыкальных инструментов \"Разноцвет\" и п...   \n",
       "290608                            Спектакль \"Ремесло\" Инк   \n",
       "290609                Группа арт-менеджеров \"Салон\" Групп   \n",
       "290610     Клуб любителей театра \"Гардероб\" Инкорпорэйтед   \n",
       "\n",
       "                              venue_address        data  nominal     curs  cdx  \n",
       "0       алл. Машиностроителей, д. 19 стр. 6  2024-08-20      100  18.6972  kzt  \n",
       "1                  алл. Шмидта, д. 9 стр. 4  2024-08-20      100  18.6972  kzt  \n",
       "2            наб. Тамбовская, д. 1/4 к. 577  2024-08-20      100  18.6972  kzt  \n",
       "3              ш. Микрорайон, д. 79 стр. 50  2024-08-20      100  18.6972  kzt  \n",
       "4              ш. Микрорайон, д. 79 стр. 50  2024-08-20      100  18.6972  kzt  \n",
       "...                                     ...         ...      ...      ...  ...  \n",
       "290606    ул. Красноярская, д. 6/3 стр. 761  2024-06-14      100  19.5250  kzt  \n",
       "290607        пр. Коллективный, д. 5 к. 6/8  2024-06-14      100  19.5250  kzt  \n",
       "290608            алл. Степная, д. 5 стр. 9  2024-06-14      100  19.5250  kzt  \n",
       "290609         бул. Гаражный, д. 332 стр. 3  2024-06-14      100  19.5250  kzt  \n",
       "290610      пер. Элеваторный, д. 8/6 к. 310  2024-06-14      100  19.5250  kzt  \n",
       "\n",
       "[290611 rows x 28 columns]"
      ]
     },
     "metadata": {},
     "output_type": "display_data"
    }
   ],
   "source": [
    "# Объединим таблицы oe_df и tenge в общий датафрейм total_df:\n",
    "total_df = pd.merge(oe_df, tenge, left_on='created_dt_msk', right_on='data')\n",
    "display(total_df)"
   ]
  },
  {
   "cell_type": "markdown",
   "metadata": {},
   "source": [
    "*Получили датафрейм `total_df`, содержащий 290611 строк и 28 столбцов.*"
   ]
  },
  {
   "cell_type": "markdown",
   "metadata": {},
   "source": [
    "* **Предварительный анализ показал, что пропуски в столбцах датафреймов отсутствуют, кроме столбца `days_since_prev`. Подтвердим это функционально.**"
   ]
  },
  {
   "cell_type": "code",
   "execution_count": 11,
   "metadata": {},
   "outputs": [
    {
     "data": {
      "text/plain": [
       "order_id                      0\n",
       "user_id                       0\n",
       "created_dt_msk                0\n",
       "created_ts_msk                0\n",
       "event_id                      0\n",
       "cinema_circuit                0\n",
       "age_limit                     0\n",
       "currency_code                 0\n",
       "device_type_canonical         0\n",
       "revenue                       0\n",
       "service_name                  0\n",
       "tickets_count                 0\n",
       "total                         0\n",
       "days_since_prev           21913\n",
       "event_name                    0\n",
       "event_type_description        0\n",
       "event_type_main               0\n",
       "organizers                    0\n",
       "region_name                   0\n",
       "city_name                     0\n",
       "city_id                       0\n",
       "venue_id                      0\n",
       "venue_name                    0\n",
       "venue_address                 0\n",
       "data                          0\n",
       "nominal                       0\n",
       "curs                          0\n",
       "cdx                           0\n",
       "dtype: int64"
      ]
     },
     "execution_count": 11,
     "metadata": {},
     "output_type": "execute_result"
    }
   ],
   "source": [
    "# Выведем сумму пропусков, если они имеются:\n",
    "total_df.isna().sum()"
   ]
  },
  {
   "cell_type": "markdown",
   "metadata": {},
   "source": [
    "* **Проведем преобразование следующих столбов датафрейма: `days_since_prev` приведем к целочисленному типу данных, а колонки `created_dt_msk`, `created_ts_msk` и `data`-  к типу datetime64. Также обратим внимание на размерность числовых столбцов (тип данных 'int64' и 'float64'), которую следует оптимизировать (уменьшить).**"
   ]
  },
  {
   "cell_type": "code",
   "execution_count": 12,
   "metadata": {},
   "outputs": [
    {
     "data": {
      "text/html": [
       "<div>\n",
       "<style scoped>\n",
       "    .dataframe tbody tr th:only-of-type {\n",
       "        vertical-align: middle;\n",
       "    }\n",
       "\n",
       "    .dataframe tbody tr th {\n",
       "        vertical-align: top;\n",
       "    }\n",
       "\n",
       "    .dataframe thead th {\n",
       "        text-align: right;\n",
       "    }\n",
       "</style>\n",
       "<table border=\"1\" class=\"dataframe\">\n",
       "  <thead>\n",
       "    <tr style=\"text-align: right;\">\n",
       "      <th></th>\n",
       "      <th>order_id</th>\n",
       "      <th>user_id</th>\n",
       "      <th>created_dt_msk</th>\n",
       "      <th>created_ts_msk</th>\n",
       "      <th>event_id</th>\n",
       "      <th>cinema_circuit</th>\n",
       "      <th>age_limit</th>\n",
       "      <th>currency_code</th>\n",
       "      <th>device_type_canonical</th>\n",
       "      <th>revenue</th>\n",
       "      <th>service_name</th>\n",
       "      <th>tickets_count</th>\n",
       "      <th>total</th>\n",
       "      <th>days_since_prev</th>\n",
       "      <th>event_name</th>\n",
       "      <th>event_type_description</th>\n",
       "      <th>event_type_main</th>\n",
       "      <th>organizers</th>\n",
       "      <th>region_name</th>\n",
       "      <th>city_name</th>\n",
       "      <th>city_id</th>\n",
       "      <th>venue_id</th>\n",
       "      <th>venue_name</th>\n",
       "      <th>venue_address</th>\n",
       "      <th>data</th>\n",
       "      <th>nominal</th>\n",
       "      <th>curs</th>\n",
       "      <th>cdx</th>\n",
       "    </tr>\n",
       "  </thead>\n",
       "  <tbody>\n",
       "    <tr>\n",
       "      <th>0</th>\n",
       "      <td>4359165</td>\n",
       "      <td>0002849b70a3ce2</td>\n",
       "      <td>2024-08-20</td>\n",
       "      <td>2024-08-20 16:08:03</td>\n",
       "      <td>169230</td>\n",
       "      <td>нет</td>\n",
       "      <td>16</td>\n",
       "      <td>rub</td>\n",
       "      <td>mobile</td>\n",
       "      <td>1521.94</td>\n",
       "      <td>Край билетов</td>\n",
       "      <td>4</td>\n",
       "      <td>10870.99</td>\n",
       "      <td>&lt;NA&gt;</td>\n",
       "      <td>f0f7b271-04eb-4af6-bcb8-8f05cf46d6ad</td>\n",
       "      <td>спектакль</td>\n",
       "      <td>театр</td>\n",
       "      <td>№3322</td>\n",
       "      <td>Каменевский регион</td>\n",
       "      <td>Глиногорск</td>\n",
       "      <td>213</td>\n",
       "      <td>3972</td>\n",
       "      <td>Сценический центр \"Деталь\" Групп</td>\n",
       "      <td>алл. Машиностроителей, д. 19 стр. 6</td>\n",
       "      <td>2024-08-20</td>\n",
       "      <td>100</td>\n",
       "      <td>18.6972</td>\n",
       "      <td>kzt</td>\n",
       "    </tr>\n",
       "    <tr>\n",
       "      <th>1</th>\n",
       "      <td>6274963</td>\n",
       "      <td>44c1c640a242aea</td>\n",
       "      <td>2024-08-20</td>\n",
       "      <td>2024-08-20 22:12:04</td>\n",
       "      <td>237325</td>\n",
       "      <td>нет</td>\n",
       "      <td>0</td>\n",
       "      <td>rub</td>\n",
       "      <td>mobile</td>\n",
       "      <td>144.73</td>\n",
       "      <td>Мой билет</td>\n",
       "      <td>1</td>\n",
       "      <td>1033.76</td>\n",
       "      <td>0</td>\n",
       "      <td>40efeb04-81b7-4135-b41f-708ff00cc64c</td>\n",
       "      <td>событие</td>\n",
       "      <td>выставки</td>\n",
       "      <td>№4850</td>\n",
       "      <td>Каменевский регион</td>\n",
       "      <td>Глиногорск</td>\n",
       "      <td>213</td>\n",
       "      <td>2941</td>\n",
       "      <td>Музыкальная школа для детей \"Аккаунт\" Лтд</td>\n",
       "      <td>алл. Шмидта, д. 9 стр. 4</td>\n",
       "      <td>2024-08-20</td>\n",
       "      <td>100</td>\n",
       "      <td>18.6972</td>\n",
       "      <td>kzt</td>\n",
       "    </tr>\n",
       "    <tr>\n",
       "      <th>2</th>\n",
       "      <td>474528</td>\n",
       "      <td>2b1f730d7024681</td>\n",
       "      <td>2024-08-20</td>\n",
       "      <td>2024-08-20 15:29:56</td>\n",
       "      <td>373657</td>\n",
       "      <td>нет</td>\n",
       "      <td>18</td>\n",
       "      <td>rub</td>\n",
       "      <td>mobile</td>\n",
       "      <td>318.27</td>\n",
       "      <td>Облачко</td>\n",
       "      <td>3</td>\n",
       "      <td>2448.25</td>\n",
       "      <td>2</td>\n",
       "      <td>990b8b09-85d8-4ffb-9074-ab5303cd3c33</td>\n",
       "      <td>шоу</td>\n",
       "      <td>стендап</td>\n",
       "      <td>№1124</td>\n",
       "      <td>Североярская область</td>\n",
       "      <td>Озёрск</td>\n",
       "      <td>2</td>\n",
       "      <td>1631</td>\n",
       "      <td>Музей истории \"Воспоминание\" Групп</td>\n",
       "      <td>наб. Тамбовская, д. 1/4 к. 577</td>\n",
       "      <td>2024-08-20</td>\n",
       "      <td>100</td>\n",
       "      <td>18.6972</td>\n",
       "      <td>kzt</td>\n",
       "    </tr>\n",
       "    <tr>\n",
       "      <th>3</th>\n",
       "      <td>7477361</td>\n",
       "      <td>05ba93f1b1e1fdd</td>\n",
       "      <td>2024-08-20</td>\n",
       "      <td>2024-08-20 17:06:44</td>\n",
       "      <td>534657</td>\n",
       "      <td>нет</td>\n",
       "      <td>16</td>\n",
       "      <td>rub</td>\n",
       "      <td>mobile</td>\n",
       "      <td>339.61</td>\n",
       "      <td>Быстробилет</td>\n",
       "      <td>1</td>\n",
       "      <td>2612.35</td>\n",
       "      <td>1</td>\n",
       "      <td>dff567b7-11a5-4c4c-b223-70c8ab7efd15</td>\n",
       "      <td>концерт</td>\n",
       "      <td>концерты</td>\n",
       "      <td>№1134</td>\n",
       "      <td>Ветренский регион</td>\n",
       "      <td>Кокжар</td>\n",
       "      <td>20</td>\n",
       "      <td>2866</td>\n",
       "      <td>Школа фотографии \"Золотое\" Инк</td>\n",
       "      <td>ш. Микрорайон, д. 79 стр. 50</td>\n",
       "      <td>2024-08-20</td>\n",
       "      <td>100</td>\n",
       "      <td>18.6972</td>\n",
       "      <td>kzt</td>\n",
       "    </tr>\n",
       "    <tr>\n",
       "      <th>4</th>\n",
       "      <td>472150</td>\n",
       "      <td>3ee7dc2e115847f</td>\n",
       "      <td>2024-08-20</td>\n",
       "      <td>2024-08-20 02:57:22</td>\n",
       "      <td>534657</td>\n",
       "      <td>нет</td>\n",
       "      <td>16</td>\n",
       "      <td>rub</td>\n",
       "      <td>mobile</td>\n",
       "      <td>339.61</td>\n",
       "      <td>Быстробилет</td>\n",
       "      <td>1</td>\n",
       "      <td>2612.35</td>\n",
       "      <td>0</td>\n",
       "      <td>dff567b7-11a5-4c4c-b223-70c8ab7efd15</td>\n",
       "      <td>концерт</td>\n",
       "      <td>концерты</td>\n",
       "      <td>№1134</td>\n",
       "      <td>Ветренский регион</td>\n",
       "      <td>Кокжар</td>\n",
       "      <td>20</td>\n",
       "      <td>2866</td>\n",
       "      <td>Школа фотографии \"Золотое\" Инк</td>\n",
       "      <td>ш. Микрорайон, д. 79 стр. 50</td>\n",
       "      <td>2024-08-20</td>\n",
       "      <td>100</td>\n",
       "      <td>18.6972</td>\n",
       "      <td>kzt</td>\n",
       "    </tr>\n",
       "  </tbody>\n",
       "</table>\n",
       "</div>"
      ],
      "text/plain": [
       "   order_id          user_id created_dt_msk       created_ts_msk  event_id  \\\n",
       "0   4359165  0002849b70a3ce2     2024-08-20  2024-08-20 16:08:03    169230   \n",
       "1   6274963  44c1c640a242aea     2024-08-20  2024-08-20 22:12:04    237325   \n",
       "2    474528  2b1f730d7024681     2024-08-20  2024-08-20 15:29:56    373657   \n",
       "3   7477361  05ba93f1b1e1fdd     2024-08-20  2024-08-20 17:06:44    534657   \n",
       "4    472150  3ee7dc2e115847f     2024-08-20  2024-08-20 02:57:22    534657   \n",
       "\n",
       "  cinema_circuit  age_limit currency_code device_type_canonical  revenue  \\\n",
       "0            нет         16           rub                mobile  1521.94   \n",
       "1            нет          0           rub                mobile   144.73   \n",
       "2            нет         18           rub                mobile   318.27   \n",
       "3            нет         16           rub                mobile   339.61   \n",
       "4            нет         16           rub                mobile   339.61   \n",
       "\n",
       "   service_name  tickets_count     total  days_since_prev  \\\n",
       "0  Край билетов              4  10870.99             <NA>   \n",
       "1     Мой билет              1   1033.76                0   \n",
       "2       Облачко              3   2448.25                2   \n",
       "3   Быстробилет              1   2612.35                1   \n",
       "4   Быстробилет              1   2612.35                0   \n",
       "\n",
       "                             event_name event_type_description  \\\n",
       "0  f0f7b271-04eb-4af6-bcb8-8f05cf46d6ad              спектакль   \n",
       "1  40efeb04-81b7-4135-b41f-708ff00cc64c                событие   \n",
       "2  990b8b09-85d8-4ffb-9074-ab5303cd3c33                    шоу   \n",
       "3  dff567b7-11a5-4c4c-b223-70c8ab7efd15                концерт   \n",
       "4  dff567b7-11a5-4c4c-b223-70c8ab7efd15                концерт   \n",
       "\n",
       "  event_type_main organizers           region_name   city_name  city_id  \\\n",
       "0           театр      №3322    Каменевский регион  Глиногорск      213   \n",
       "1        выставки      №4850    Каменевский регион  Глиногорск      213   \n",
       "2         стендап      №1124  Североярская область      Озёрск        2   \n",
       "3        концерты      №1134     Ветренский регион      Кокжар       20   \n",
       "4        концерты      №1134     Ветренский регион      Кокжар       20   \n",
       "\n",
       "   venue_id                                 venue_name  \\\n",
       "0      3972           Сценический центр \"Деталь\" Групп   \n",
       "1      2941  Музыкальная школа для детей \"Аккаунт\" Лтд   \n",
       "2      1631         Музей истории \"Воспоминание\" Групп   \n",
       "3      2866             Школа фотографии \"Золотое\" Инк   \n",
       "4      2866             Школа фотографии \"Золотое\" Инк   \n",
       "\n",
       "                         venue_address        data  nominal     curs  cdx  \n",
       "0  алл. Машиностроителей, д. 19 стр. 6  2024-08-20      100  18.6972  kzt  \n",
       "1             алл. Шмидта, д. 9 стр. 4  2024-08-20      100  18.6972  kzt  \n",
       "2       наб. Тамбовская, д. 1/4 к. 577  2024-08-20      100  18.6972  kzt  \n",
       "3         ш. Микрорайон, д. 79 стр. 50  2024-08-20      100  18.6972  kzt  \n",
       "4         ш. Микрорайон, д. 79 стр. 50  2024-08-20      100  18.6972  kzt  "
      ]
     },
     "execution_count": 12,
     "metadata": {},
     "output_type": "execute_result"
    }
   ],
   "source": [
    "# Преобразуем данные столбца 'days_since_prev' типа float64 в целочисленный тип данных (Int64) с учетом размерности,  \n",
    "# оставив пропущенные значения без изменений (как NaN):\n",
    "total_df['days_since_prev'] = total_df['days_since_prev'].astype('Int16')\n",
    "\n",
    "total_df.head()"
   ]
  },
  {
   "cell_type": "code",
   "execution_count": 13,
   "metadata": {},
   "outputs": [
    {
     "name": "stdout",
     "output_type": "stream",
     "text": [
      "<class 'pandas.core.frame.DataFrame'>\n",
      "Int64Index: 290611 entries, 0 to 290610\n",
      "Data columns (total 28 columns):\n",
      " #   Column                  Non-Null Count   Dtype         \n",
      "---  ------                  --------------   -----         \n",
      " 0   order_id                290611 non-null  int64         \n",
      " 1   user_id                 290611 non-null  object        \n",
      " 2   created_dt_msk          290611 non-null  datetime64[ns]\n",
      " 3   created_ts_msk          290611 non-null  datetime64[ns]\n",
      " 4   event_id                290611 non-null  int64         \n",
      " 5   cinema_circuit          290611 non-null  object        \n",
      " 6   age_limit               290611 non-null  int64         \n",
      " 7   currency_code           290611 non-null  object        \n",
      " 8   device_type_canonical   290611 non-null  object        \n",
      " 9   revenue                 290611 non-null  float64       \n",
      " 10  service_name            290611 non-null  object        \n",
      " 11  tickets_count           290611 non-null  int64         \n",
      " 12  total                   290611 non-null  float64       \n",
      " 13  days_since_prev         268698 non-null  Int16         \n",
      " 14  event_name              290611 non-null  object        \n",
      " 15  event_type_description  290611 non-null  object        \n",
      " 16  event_type_main         290611 non-null  object        \n",
      " 17  organizers              290611 non-null  object        \n",
      " 18  region_name             290611 non-null  object        \n",
      " 19  city_name               290611 non-null  object        \n",
      " 20  city_id                 290611 non-null  int64         \n",
      " 21  venue_id                290611 non-null  int64         \n",
      " 22  venue_name              290611 non-null  object        \n",
      " 23  venue_address           290611 non-null  object        \n",
      " 24  data                    290611 non-null  datetime64[ns]\n",
      " 25  nominal                 290611 non-null  int64         \n",
      " 26  curs                    290611 non-null  float64       \n",
      " 27  cdx                     290611 non-null  object        \n",
      "dtypes: Int16(1), datetime64[ns](3), float64(3), int64(7), object(14)\n",
      "memory usage: 62.9+ MB\n"
     ]
    }
   ],
   "source": [
    "# Приведем значения столбцов 'created_dt_msk', 'created_ts_msk' и 'data' строкового типа к типу данных datetime64,  \n",
    "# используя метод to_datetime() и цикл:\n",
    "for column in ['created_dt_msk','created_ts_msk','data']:\n",
    "    total_df[column] = pd.to_datetime(total_df[column])\n",
    "    \n",
    "# Выведем полученные типы данных:\n",
    "total_df.info()"
   ]
  },
  {
   "cell_type": "code",
   "execution_count": 14,
   "metadata": {},
   "outputs": [
    {
     "name": "stdout",
     "output_type": "stream",
     "text": [
      "<class 'pandas.core.frame.DataFrame'>\n",
      "Int64Index: 290611 entries, 0 to 290610\n",
      "Data columns (total 28 columns):\n",
      " #   Column                  Non-Null Count   Dtype         \n",
      "---  ------                  --------------   -----         \n",
      " 0   order_id                290611 non-null  int32         \n",
      " 1   user_id                 290611 non-null  object        \n",
      " 2   created_dt_msk          290611 non-null  datetime64[ns]\n",
      " 3   created_ts_msk          290611 non-null  datetime64[ns]\n",
      " 4   event_id                290611 non-null  int32         \n",
      " 5   cinema_circuit          290611 non-null  object        \n",
      " 6   age_limit               290611 non-null  int8          \n",
      " 7   currency_code           290611 non-null  object        \n",
      " 8   device_type_canonical   290611 non-null  object        \n",
      " 9   revenue                 290611 non-null  float64       \n",
      " 10  service_name            290611 non-null  object        \n",
      " 11  tickets_count           290611 non-null  int8          \n",
      " 12  total                   290611 non-null  float64       \n",
      " 13  days_since_prev         268698 non-null  Int16         \n",
      " 14  event_name              290611 non-null  object        \n",
      " 15  event_type_description  290611 non-null  object        \n",
      " 16  event_type_main         290611 non-null  object        \n",
      " 17  organizers              290611 non-null  object        \n",
      " 18  region_name             290611 non-null  object        \n",
      " 19  city_name               290611 non-null  object        \n",
      " 20  city_id                 290611 non-null  int32         \n",
      " 21  venue_id                290611 non-null  int16         \n",
      " 22  venue_name              290611 non-null  object        \n",
      " 23  venue_address           290611 non-null  object        \n",
      " 24  data                    290611 non-null  datetime64[ns]\n",
      " 25  nominal                 290611 non-null  int8          \n",
      " 26  curs                    290611 non-null  float64       \n",
      " 27  cdx                     290611 non-null  object        \n",
      "dtypes: Int16(1), datetime64[ns](3), float64(3), int16(1), int32(3), int8(3), object(14)\n",
      "memory usage: 52.1+ MB\n"
     ]
    }
   ],
   "source": [
    "# Оптимизируем размерность столбцов датафрейма 'total_df'с целочисленным типом данных, \n",
    "# используя метод to_numeric(). Зададим цикл:\n",
    "for column in ['order_id','event_id','age_limit','tickets_count','event_id','city_id','venue_id','nominal']:\n",
    "    total_df[column] = pd.to_numeric(total_df[column],\n",
    "                                    downcast='integer')\n",
    "    \n",
    "# Проверим типы данных в столбцах датафрейма:\n",
    "total_df.info()"
   ]
  },
  {
   "cell_type": "code",
   "execution_count": 15,
   "metadata": {},
   "outputs": [
    {
     "name": "stdout",
     "output_type": "stream",
     "text": [
      "<class 'pandas.core.frame.DataFrame'>\n",
      "Int64Index: 290611 entries, 0 to 290610\n",
      "Data columns (total 28 columns):\n",
      " #   Column                  Non-Null Count   Dtype         \n",
      "---  ------                  --------------   -----         \n",
      " 0   order_id                290611 non-null  int32         \n",
      " 1   user_id                 290611 non-null  object        \n",
      " 2   created_dt_msk          290611 non-null  datetime64[ns]\n",
      " 3   created_ts_msk          290611 non-null  datetime64[ns]\n",
      " 4   event_id                290611 non-null  int32         \n",
      " 5   cinema_circuit          290611 non-null  object        \n",
      " 6   age_limit               290611 non-null  int8          \n",
      " 7   currency_code           290611 non-null  object        \n",
      " 8   device_type_canonical   290611 non-null  object        \n",
      " 9   revenue                 290611 non-null  float32       \n",
      " 10  service_name            290611 non-null  object        \n",
      " 11  tickets_count           290611 non-null  int8          \n",
      " 12  total                   290611 non-null  float32       \n",
      " 13  days_since_prev         268698 non-null  Int16         \n",
      " 14  event_name              290611 non-null  object        \n",
      " 15  event_type_description  290611 non-null  object        \n",
      " 16  event_type_main         290611 non-null  object        \n",
      " 17  organizers              290611 non-null  object        \n",
      " 18  region_name             290611 non-null  object        \n",
      " 19  city_name               290611 non-null  object        \n",
      " 20  city_id                 290611 non-null  int32         \n",
      " 21  venue_id                290611 non-null  int16         \n",
      " 22  venue_name              290611 non-null  object        \n",
      " 23  venue_address           290611 non-null  object        \n",
      " 24  data                    290611 non-null  datetime64[ns]\n",
      " 25  nominal                 290611 non-null  int8          \n",
      " 26  curs                    290611 non-null  float32       \n",
      " 27  cdx                     290611 non-null  object        \n",
      "dtypes: Int16(1), datetime64[ns](3), float32(3), int16(1), int32(3), int8(3), object(14)\n",
      "memory usage: 48.8+ MB\n"
     ]
    }
   ],
   "source": [
    "# Аналогично, оптимизируем размерность столбцов датафрейма 'total_df'\n",
    "# с вещественным типом данных:\n",
    "for column in ['revenue','total','curs']:\n",
    "    total_df[column] = pd.to_numeric(total_df[column],\n",
    "                                    downcast='float')\n",
    "    \n",
    "# Проверим типы данных:\n",
    "total_df.info()"
   ]
  },
  {
   "cell_type": "markdown",
   "metadata": {},
   "source": [
    "***Подитожим:***\n",
    "\n",
    "*Оптимизированный датафрейм 'total_df' имеет объем оперативной памяти 48.8 MВ, содержит 290611 строк и 28 столбцов со следующими типами данных: 'float32'(3 столбца), 'datetime64(3), 'Int16'(1), 'int16(1)', 'int32(3)', 'int8'(3) и 'object'(14).*"
   ]
  },
  {
   "cell_type": "markdown",
   "metadata": {},
   "source": [
    "* **Проверим данные на явные и неявные дубликаты. Для оптимизации проверки проведём нормализацию данных в текстовых столбцах.**"
   ]
  },
  {
   "cell_type": "code",
   "execution_count": 16,
   "metadata": {},
   "outputs": [
    {
     "data": {
      "text/html": [
       "<div>\n",
       "<style scoped>\n",
       "    .dataframe tbody tr th:only-of-type {\n",
       "        vertical-align: middle;\n",
       "    }\n",
       "\n",
       "    .dataframe tbody tr th {\n",
       "        vertical-align: top;\n",
       "    }\n",
       "\n",
       "    .dataframe thead th {\n",
       "        text-align: right;\n",
       "    }\n",
       "</style>\n",
       "<table border=\"1\" class=\"dataframe\">\n",
       "  <thead>\n",
       "    <tr style=\"text-align: right;\">\n",
       "      <th></th>\n",
       "      <th>order_id</th>\n",
       "      <th>user_id</th>\n",
       "      <th>created_dt_msk</th>\n",
       "      <th>created_ts_msk</th>\n",
       "      <th>event_id</th>\n",
       "      <th>cinema_circuit</th>\n",
       "      <th>age_limit</th>\n",
       "      <th>currency_code</th>\n",
       "      <th>device_type_canonical</th>\n",
       "      <th>revenue</th>\n",
       "      <th>service_name</th>\n",
       "      <th>tickets_count</th>\n",
       "      <th>total</th>\n",
       "      <th>days_since_prev</th>\n",
       "      <th>event_name</th>\n",
       "      <th>event_type_description</th>\n",
       "      <th>event_type_main</th>\n",
       "      <th>organizers</th>\n",
       "      <th>region_name</th>\n",
       "      <th>city_name</th>\n",
       "      <th>city_id</th>\n",
       "      <th>venue_id</th>\n",
       "      <th>venue_name</th>\n",
       "      <th>venue_address</th>\n",
       "      <th>data</th>\n",
       "      <th>nominal</th>\n",
       "      <th>curs</th>\n",
       "      <th>cdx</th>\n",
       "    </tr>\n",
       "  </thead>\n",
       "  <tbody>\n",
       "    <tr>\n",
       "      <th>0</th>\n",
       "      <td>4359165</td>\n",
       "      <td>0002849b70a3ce2</td>\n",
       "      <td>2024-08-20</td>\n",
       "      <td>2024-08-20 16:08:03</td>\n",
       "      <td>169230</td>\n",
       "      <td>нет</td>\n",
       "      <td>16</td>\n",
       "      <td>rub</td>\n",
       "      <td>mobile</td>\n",
       "      <td>1521.939941</td>\n",
       "      <td>край билетов</td>\n",
       "      <td>4</td>\n",
       "      <td>10870.990234</td>\n",
       "      <td>&lt;NA&gt;</td>\n",
       "      <td>f0f7b271-04eb-4af6-bcb8-8f05cf46d6ad</td>\n",
       "      <td>спектакль</td>\n",
       "      <td>театр</td>\n",
       "      <td>№3322</td>\n",
       "      <td>каменевский регион</td>\n",
       "      <td>глиногорск</td>\n",
       "      <td>213</td>\n",
       "      <td>3972</td>\n",
       "      <td>сценический центр \"деталь\" групп</td>\n",
       "      <td>алл. машиностроителей, д. 19 стр. 6</td>\n",
       "      <td>2024-08-20</td>\n",
       "      <td>100</td>\n",
       "      <td>18.697201</td>\n",
       "      <td>kzt</td>\n",
       "    </tr>\n",
       "    <tr>\n",
       "      <th>1</th>\n",
       "      <td>6274963</td>\n",
       "      <td>44c1c640a242aea</td>\n",
       "      <td>2024-08-20</td>\n",
       "      <td>2024-08-20 22:12:04</td>\n",
       "      <td>237325</td>\n",
       "      <td>нет</td>\n",
       "      <td>0</td>\n",
       "      <td>rub</td>\n",
       "      <td>mobile</td>\n",
       "      <td>144.729996</td>\n",
       "      <td>мой билет</td>\n",
       "      <td>1</td>\n",
       "      <td>1033.760010</td>\n",
       "      <td>0</td>\n",
       "      <td>40efeb04-81b7-4135-b41f-708ff00cc64c</td>\n",
       "      <td>событие</td>\n",
       "      <td>выставки</td>\n",
       "      <td>№4850</td>\n",
       "      <td>каменевский регион</td>\n",
       "      <td>глиногорск</td>\n",
       "      <td>213</td>\n",
       "      <td>2941</td>\n",
       "      <td>музыкальная школа для детей \"аккаунт\" лтд</td>\n",
       "      <td>алл. шмидта, д. 9 стр. 4</td>\n",
       "      <td>2024-08-20</td>\n",
       "      <td>100</td>\n",
       "      <td>18.697201</td>\n",
       "      <td>kzt</td>\n",
       "    </tr>\n",
       "    <tr>\n",
       "      <th>2</th>\n",
       "      <td>474528</td>\n",
       "      <td>2b1f730d7024681</td>\n",
       "      <td>2024-08-20</td>\n",
       "      <td>2024-08-20 15:29:56</td>\n",
       "      <td>373657</td>\n",
       "      <td>нет</td>\n",
       "      <td>18</td>\n",
       "      <td>rub</td>\n",
       "      <td>mobile</td>\n",
       "      <td>318.269989</td>\n",
       "      <td>облачко</td>\n",
       "      <td>3</td>\n",
       "      <td>2448.250000</td>\n",
       "      <td>2</td>\n",
       "      <td>990b8b09-85d8-4ffb-9074-ab5303cd3c33</td>\n",
       "      <td>шоу</td>\n",
       "      <td>стендап</td>\n",
       "      <td>№1124</td>\n",
       "      <td>североярская область</td>\n",
       "      <td>озёрск</td>\n",
       "      <td>2</td>\n",
       "      <td>1631</td>\n",
       "      <td>музей истории \"воспоминание\" групп</td>\n",
       "      <td>наб. тамбовская, д. 1/4 к. 577</td>\n",
       "      <td>2024-08-20</td>\n",
       "      <td>100</td>\n",
       "      <td>18.697201</td>\n",
       "      <td>kzt</td>\n",
       "    </tr>\n",
       "    <tr>\n",
       "      <th>3</th>\n",
       "      <td>7477361</td>\n",
       "      <td>05ba93f1b1e1fdd</td>\n",
       "      <td>2024-08-20</td>\n",
       "      <td>2024-08-20 17:06:44</td>\n",
       "      <td>534657</td>\n",
       "      <td>нет</td>\n",
       "      <td>16</td>\n",
       "      <td>rub</td>\n",
       "      <td>mobile</td>\n",
       "      <td>339.609985</td>\n",
       "      <td>быстробилет</td>\n",
       "      <td>1</td>\n",
       "      <td>2612.350098</td>\n",
       "      <td>1</td>\n",
       "      <td>dff567b7-11a5-4c4c-b223-70c8ab7efd15</td>\n",
       "      <td>концерт</td>\n",
       "      <td>концерты</td>\n",
       "      <td>№1134</td>\n",
       "      <td>ветренский регион</td>\n",
       "      <td>кокжар</td>\n",
       "      <td>20</td>\n",
       "      <td>2866</td>\n",
       "      <td>школа фотографии \"золотое\" инк</td>\n",
       "      <td>ш. микрорайон, д. 79 стр. 50</td>\n",
       "      <td>2024-08-20</td>\n",
       "      <td>100</td>\n",
       "      <td>18.697201</td>\n",
       "      <td>kzt</td>\n",
       "    </tr>\n",
       "    <tr>\n",
       "      <th>4</th>\n",
       "      <td>472150</td>\n",
       "      <td>3ee7dc2e115847f</td>\n",
       "      <td>2024-08-20</td>\n",
       "      <td>2024-08-20 02:57:22</td>\n",
       "      <td>534657</td>\n",
       "      <td>нет</td>\n",
       "      <td>16</td>\n",
       "      <td>rub</td>\n",
       "      <td>mobile</td>\n",
       "      <td>339.609985</td>\n",
       "      <td>быстробилет</td>\n",
       "      <td>1</td>\n",
       "      <td>2612.350098</td>\n",
       "      <td>0</td>\n",
       "      <td>dff567b7-11a5-4c4c-b223-70c8ab7efd15</td>\n",
       "      <td>концерт</td>\n",
       "      <td>концерты</td>\n",
       "      <td>№1134</td>\n",
       "      <td>ветренский регион</td>\n",
       "      <td>кокжар</td>\n",
       "      <td>20</td>\n",
       "      <td>2866</td>\n",
       "      <td>школа фотографии \"золотое\" инк</td>\n",
       "      <td>ш. микрорайон, д. 79 стр. 50</td>\n",
       "      <td>2024-08-20</td>\n",
       "      <td>100</td>\n",
       "      <td>18.697201</td>\n",
       "      <td>kzt</td>\n",
       "    </tr>\n",
       "  </tbody>\n",
       "</table>\n",
       "</div>"
      ],
      "text/plain": [
       "   order_id          user_id created_dt_msk      created_ts_msk  event_id  \\\n",
       "0   4359165  0002849b70a3ce2     2024-08-20 2024-08-20 16:08:03    169230   \n",
       "1   6274963  44c1c640a242aea     2024-08-20 2024-08-20 22:12:04    237325   \n",
       "2    474528  2b1f730d7024681     2024-08-20 2024-08-20 15:29:56    373657   \n",
       "3   7477361  05ba93f1b1e1fdd     2024-08-20 2024-08-20 17:06:44    534657   \n",
       "4    472150  3ee7dc2e115847f     2024-08-20 2024-08-20 02:57:22    534657   \n",
       "\n",
       "  cinema_circuit  age_limit currency_code device_type_canonical      revenue  \\\n",
       "0            нет         16           rub                mobile  1521.939941   \n",
       "1            нет          0           rub                mobile   144.729996   \n",
       "2            нет         18           rub                mobile   318.269989   \n",
       "3            нет         16           rub                mobile   339.609985   \n",
       "4            нет         16           rub                mobile   339.609985   \n",
       "\n",
       "   service_name  tickets_count         total  days_since_prev  \\\n",
       "0  край билетов              4  10870.990234             <NA>   \n",
       "1     мой билет              1   1033.760010                0   \n",
       "2       облачко              3   2448.250000                2   \n",
       "3   быстробилет              1   2612.350098                1   \n",
       "4   быстробилет              1   2612.350098                0   \n",
       "\n",
       "                             event_name event_type_description  \\\n",
       "0  f0f7b271-04eb-4af6-bcb8-8f05cf46d6ad              спектакль   \n",
       "1  40efeb04-81b7-4135-b41f-708ff00cc64c                событие   \n",
       "2  990b8b09-85d8-4ffb-9074-ab5303cd3c33                    шоу   \n",
       "3  dff567b7-11a5-4c4c-b223-70c8ab7efd15                концерт   \n",
       "4  dff567b7-11a5-4c4c-b223-70c8ab7efd15                концерт   \n",
       "\n",
       "  event_type_main organizers           region_name   city_name  city_id  \\\n",
       "0           театр      №3322    каменевский регион  глиногорск      213   \n",
       "1        выставки      №4850    каменевский регион  глиногорск      213   \n",
       "2         стендап      №1124  североярская область      озёрск        2   \n",
       "3        концерты      №1134     ветренский регион      кокжар       20   \n",
       "4        концерты      №1134     ветренский регион      кокжар       20   \n",
       "\n",
       "   venue_id                                 venue_name  \\\n",
       "0      3972           сценический центр \"деталь\" групп   \n",
       "1      2941  музыкальная школа для детей \"аккаунт\" лтд   \n",
       "2      1631         музей истории \"воспоминание\" групп   \n",
       "3      2866             школа фотографии \"золотое\" инк   \n",
       "4      2866             школа фотографии \"золотое\" инк   \n",
       "\n",
       "                         venue_address       data  nominal       curs  cdx  \n",
       "0  алл. машиностроителей, д. 19 стр. 6 2024-08-20      100  18.697201  kzt  \n",
       "1             алл. шмидта, д. 9 стр. 4 2024-08-20      100  18.697201  kzt  \n",
       "2       наб. тамбовская, д. 1/4 к. 577 2024-08-20      100  18.697201  kzt  \n",
       "3         ш. микрорайон, д. 79 стр. 50 2024-08-20      100  18.697201  kzt  \n",
       "4         ш. микрорайон, д. 79 стр. 50 2024-08-20      100  18.697201  kzt  "
      ]
     },
     "execution_count": 16,
     "metadata": {},
     "output_type": "execute_result"
    }
   ],
   "source": [
    "# Нормализуем текстовые значения всех столбцов датафрейма total_df\n",
    "# и приведем их к нижнему регистру, используя метод str.lower(), \n",
    "# а также избавимся от возможных пробелов в строке методом str.strip():\n",
    "for column in total_df.select_dtypes(include=['object']).columns:\n",
    "    total_df[column] = total_df[column].astype(str).str.lower().str.strip()\n",
    "\n",
    "# Выведем результат\n",
    "total_df.head()"
   ]
  },
  {
   "cell_type": "markdown",
   "metadata": {},
   "source": [
    "* Проанализируем поочередно все уникальные значения в текстовых столбцах датафрейма, используя методы unique() и nunique()."
   ]
  },
  {
   "cell_type": "code",
   "execution_count": 17,
   "metadata": {},
   "outputs": [
    {
     "name": "stdout",
     "output_type": "stream",
     "text": [
      "Уникальных значений в столбце 'user_id': 21933\n",
      "Уникальных значений в столбце 'cinema_circuit': 6\n",
      "Уникальных значений в столбце 'currency_code': 2\n",
      "Уникальных значений в столбце 'device_type_canonical': 2\n",
      "Уникальных значений в столбце 'service_name': 36\n",
      "Уникальных значений в столбце 'event_name': 15248\n",
      "Уникальных значений в столбце 'event_type_description': 20\n",
      "Уникальных значений в столбце 'event_type_main': 7\n",
      "Уникальных значений в столбце 'organizers': 4293\n",
      "Уникальных значений в столбце 'region_name': 81\n",
      "Уникальных значений в столбце 'city_name': 352\n",
      "Уникальных значений в столбце 'venue_name': 3217\n",
      "Уникальных значений в столбце 'venue_address': 3225\n",
      "Уникальных значений в столбце 'cdx': 1\n"
     ]
    }
   ],
   "source": [
    "# Посчитаем количество уникальных значений в столбцах типа object.\n",
    "# Создадим список столбцов columns_unique:\n",
    "columns_nunique = ['user_id','cinema_circuit','currency_code',\n",
    "                  'device_type_canonical','service_name',\n",
    "                  'event_name','event_type_description',\n",
    "                  'event_type_main','organizers','region_name',\n",
    "                  'city_name','venue_name','venue_address','cdx']\n",
    "\n",
    "# Создадим словарь для хранения результатов:\n",
    "unique_counts = {}\n",
    "\n",
    "# Вычислим количество уникальных значений для каждого столбца:\n",
    "for column in columns_nunique:\n",
    "    unique_counts[column] = total_df[column].nunique()\n",
    "\n",
    "# Выведем результаты\n",
    "for column, count in unique_counts.items():\n",
    "    print(f\"Уникальных значений в столбце '{column}': {count}\")"
   ]
  },
  {
   "cell_type": "code",
   "execution_count": 18,
   "metadata": {},
   "outputs": [
    {
     "name": "stdout",
     "output_type": "stream",
     "text": [
      "Уникальных значений в столбце 'cinema_circuit': ['нет' 'москино' 'другое' 'киносити' 'киномакс' 'центрфильм']\n",
      "Уникальных значений в столбце 'currency_code': ['rub' 'kzt']\n",
      "Уникальных значений в столбце 'device_type_canonical': ['mobile' 'desktop']\n",
      "Уникальных значений в столбце 'service_name': ['край билетов' 'мой билет' 'облачко' 'быстробилет' 'билеты без проблем'\n",
      " 'весь в билетах' 'билеты в руки' 'прачечная' 'лови билет!'\n",
      " 'лучшие билеты' 'дом культуры' 'за билетом!' 'яблоко' 'show_ticket'\n",
      " 'тебе билет!' 'мир касс' 'выступления.ру' 'восьмёрка'\n",
      " 'городской дом культуры' 'росбилет' 'вперёд!' 'crazy ticket!' 'телебилет'\n",
      " 'радио ticket' 'кино билет' 'зе бест!' 'карандашру' 'шоу начинается!'\n",
      " 'лимоны' 'билет по телефону' 'тех билет' 'дырокол' 'быстрый кассир'\n",
      " 'реестр' 'цвет и билет' 'билеты в интернете']\n",
      "Уникальных значений в столбце 'event_type_description': ['спектакль' 'событие' 'шоу' 'концерт' 'ёлка' 'цирковое шоу' 'выставка'\n",
      " 'мюзикл' 'фестиваль' 'балет' 'спортивное мероприятие' 'спорт' 'опера'\n",
      " 'музыкальный спектакль' 'экскурсия' 'кукольный спектакль' 'подарок'\n",
      " 'снегурочка' 'оперетта' 'рок-мюзикл']\n",
      "Уникальных значений в столбце 'event_type_main': ['театр' 'выставки' 'стендап' 'концерты' 'ёлки' 'другое' 'спорт']\n",
      "Уникальных значений в столбце 'cdx': ['kzt']\n"
     ]
    }
   ],
   "source": [
    "# Выведем уникальные значения столбцов, количество которых позволяет это сделать.\n",
    "# Создадим список столбцов columns_unique:\n",
    "columns_unique = ['cinema_circuit','currency_code',\n",
    "                  'device_type_canonical','service_name',\n",
    "                  'event_type_description',\n",
    "                  'event_type_main','cdx']\n",
    "\n",
    "# Создадим словарь для хранения результатов:\n",
    "unique_names = {}\n",
    "\n",
    "# Представим список уникальных значений для каждого отобранного столбца:\n",
    "for column in columns_unique:\n",
    "    unique_names[column] = total_df[column].unique()\n",
    "\n",
    "# Выведем результаты\n",
    "for column, count in unique_names.items():\n",
    "    print(f\"Уникальных значений в столбце '{column}': {count}\")"
   ]
  },
  {
   "cell_type": "markdown",
   "metadata": {},
   "source": [
    "*Во всех столбцах значения выглядят уникальными, кроме столбца с описанием мероприятий `event_type_description`. Здесь некоторые значения по смыслу повторяются, поэтому их можно привести к единому названию.*"
   ]
  },
  {
   "cell_type": "code",
   "execution_count": 19,
   "metadata": {},
   "outputs": [
    {
     "data": {
      "text/html": [
       "<div>\n",
       "<style scoped>\n",
       "    .dataframe tbody tr th:only-of-type {\n",
       "        vertical-align: middle;\n",
       "    }\n",
       "\n",
       "    .dataframe tbody tr th {\n",
       "        vertical-align: top;\n",
       "    }\n",
       "\n",
       "    .dataframe thead th {\n",
       "        text-align: right;\n",
       "    }\n",
       "</style>\n",
       "<table border=\"1\" class=\"dataframe\">\n",
       "  <thead>\n",
       "    <tr style=\"text-align: right;\">\n",
       "      <th></th>\n",
       "      <th>order_id</th>\n",
       "      <th>user_id</th>\n",
       "      <th>created_dt_msk</th>\n",
       "      <th>created_ts_msk</th>\n",
       "      <th>event_id</th>\n",
       "      <th>cinema_circuit</th>\n",
       "      <th>age_limit</th>\n",
       "      <th>currency_code</th>\n",
       "      <th>device_type_canonical</th>\n",
       "      <th>revenue</th>\n",
       "      <th>service_name</th>\n",
       "      <th>tickets_count</th>\n",
       "      <th>total</th>\n",
       "      <th>days_since_prev</th>\n",
       "      <th>event_name</th>\n",
       "      <th>event_type_description</th>\n",
       "      <th>event_type_main</th>\n",
       "      <th>organizers</th>\n",
       "      <th>region_name</th>\n",
       "      <th>city_name</th>\n",
       "      <th>city_id</th>\n",
       "      <th>venue_id</th>\n",
       "      <th>venue_name</th>\n",
       "      <th>venue_address</th>\n",
       "      <th>data</th>\n",
       "      <th>nominal</th>\n",
       "      <th>curs</th>\n",
       "      <th>cdx</th>\n",
       "    </tr>\n",
       "  </thead>\n",
       "  <tbody>\n",
       "    <tr>\n",
       "      <th>0</th>\n",
       "      <td>4359165</td>\n",
       "      <td>0002849b70a3ce2</td>\n",
       "      <td>2024-08-20</td>\n",
       "      <td>2024-08-20 16:08:03</td>\n",
       "      <td>169230</td>\n",
       "      <td>нет</td>\n",
       "      <td>16</td>\n",
       "      <td>rub</td>\n",
       "      <td>mobile</td>\n",
       "      <td>1521.939941</td>\n",
       "      <td>край билетов</td>\n",
       "      <td>4</td>\n",
       "      <td>10870.990234</td>\n",
       "      <td>&lt;NA&gt;</td>\n",
       "      <td>f0f7b271-04eb-4af6-bcb8-8f05cf46d6ad</td>\n",
       "      <td>спектакль</td>\n",
       "      <td>театр</td>\n",
       "      <td>№3322</td>\n",
       "      <td>каменевский регион</td>\n",
       "      <td>глиногорск</td>\n",
       "      <td>213</td>\n",
       "      <td>3972</td>\n",
       "      <td>сценический центр \"деталь\" групп</td>\n",
       "      <td>алл. машиностроителей, д. 19 стр. 6</td>\n",
       "      <td>2024-08-20</td>\n",
       "      <td>100</td>\n",
       "      <td>18.697201</td>\n",
       "      <td>kzt</td>\n",
       "    </tr>\n",
       "    <tr>\n",
       "      <th>1</th>\n",
       "      <td>6274963</td>\n",
       "      <td>44c1c640a242aea</td>\n",
       "      <td>2024-08-20</td>\n",
       "      <td>2024-08-20 22:12:04</td>\n",
       "      <td>237325</td>\n",
       "      <td>нет</td>\n",
       "      <td>0</td>\n",
       "      <td>rub</td>\n",
       "      <td>mobile</td>\n",
       "      <td>144.729996</td>\n",
       "      <td>мой билет</td>\n",
       "      <td>1</td>\n",
       "      <td>1033.760010</td>\n",
       "      <td>0</td>\n",
       "      <td>40efeb04-81b7-4135-b41f-708ff00cc64c</td>\n",
       "      <td>событие</td>\n",
       "      <td>выставки</td>\n",
       "      <td>№4850</td>\n",
       "      <td>каменевский регион</td>\n",
       "      <td>глиногорск</td>\n",
       "      <td>213</td>\n",
       "      <td>2941</td>\n",
       "      <td>музыкальная школа для детей \"аккаунт\" лтд</td>\n",
       "      <td>алл. шмидта, д. 9 стр. 4</td>\n",
       "      <td>2024-08-20</td>\n",
       "      <td>100</td>\n",
       "      <td>18.697201</td>\n",
       "      <td>kzt</td>\n",
       "    </tr>\n",
       "    <tr>\n",
       "      <th>2</th>\n",
       "      <td>474528</td>\n",
       "      <td>2b1f730d7024681</td>\n",
       "      <td>2024-08-20</td>\n",
       "      <td>2024-08-20 15:29:56</td>\n",
       "      <td>373657</td>\n",
       "      <td>нет</td>\n",
       "      <td>18</td>\n",
       "      <td>rub</td>\n",
       "      <td>mobile</td>\n",
       "      <td>318.269989</td>\n",
       "      <td>облачко</td>\n",
       "      <td>3</td>\n",
       "      <td>2448.250000</td>\n",
       "      <td>2</td>\n",
       "      <td>990b8b09-85d8-4ffb-9074-ab5303cd3c33</td>\n",
       "      <td>шоу</td>\n",
       "      <td>стендап</td>\n",
       "      <td>№1124</td>\n",
       "      <td>североярская область</td>\n",
       "      <td>озёрск</td>\n",
       "      <td>2</td>\n",
       "      <td>1631</td>\n",
       "      <td>музей истории \"воспоминание\" групп</td>\n",
       "      <td>наб. тамбовская, д. 1/4 к. 577</td>\n",
       "      <td>2024-08-20</td>\n",
       "      <td>100</td>\n",
       "      <td>18.697201</td>\n",
       "      <td>kzt</td>\n",
       "    </tr>\n",
       "    <tr>\n",
       "      <th>3</th>\n",
       "      <td>7477361</td>\n",
       "      <td>05ba93f1b1e1fdd</td>\n",
       "      <td>2024-08-20</td>\n",
       "      <td>2024-08-20 17:06:44</td>\n",
       "      <td>534657</td>\n",
       "      <td>нет</td>\n",
       "      <td>16</td>\n",
       "      <td>rub</td>\n",
       "      <td>mobile</td>\n",
       "      <td>339.609985</td>\n",
       "      <td>быстробилет</td>\n",
       "      <td>1</td>\n",
       "      <td>2612.350098</td>\n",
       "      <td>1</td>\n",
       "      <td>dff567b7-11a5-4c4c-b223-70c8ab7efd15</td>\n",
       "      <td>концерт</td>\n",
       "      <td>концерты</td>\n",
       "      <td>№1134</td>\n",
       "      <td>ветренский регион</td>\n",
       "      <td>кокжар</td>\n",
       "      <td>20</td>\n",
       "      <td>2866</td>\n",
       "      <td>школа фотографии \"золотое\" инк</td>\n",
       "      <td>ш. микрорайон, д. 79 стр. 50</td>\n",
       "      <td>2024-08-20</td>\n",
       "      <td>100</td>\n",
       "      <td>18.697201</td>\n",
       "      <td>kzt</td>\n",
       "    </tr>\n",
       "    <tr>\n",
       "      <th>4</th>\n",
       "      <td>472150</td>\n",
       "      <td>3ee7dc2e115847f</td>\n",
       "      <td>2024-08-20</td>\n",
       "      <td>2024-08-20 02:57:22</td>\n",
       "      <td>534657</td>\n",
       "      <td>нет</td>\n",
       "      <td>16</td>\n",
       "      <td>rub</td>\n",
       "      <td>mobile</td>\n",
       "      <td>339.609985</td>\n",
       "      <td>быстробилет</td>\n",
       "      <td>1</td>\n",
       "      <td>2612.350098</td>\n",
       "      <td>0</td>\n",
       "      <td>dff567b7-11a5-4c4c-b223-70c8ab7efd15</td>\n",
       "      <td>концерт</td>\n",
       "      <td>концерты</td>\n",
       "      <td>№1134</td>\n",
       "      <td>ветренский регион</td>\n",
       "      <td>кокжар</td>\n",
       "      <td>20</td>\n",
       "      <td>2866</td>\n",
       "      <td>школа фотографии \"золотое\" инк</td>\n",
       "      <td>ш. микрорайон, д. 79 стр. 50</td>\n",
       "      <td>2024-08-20</td>\n",
       "      <td>100</td>\n",
       "      <td>18.697201</td>\n",
       "      <td>kzt</td>\n",
       "    </tr>\n",
       "    <tr>\n",
       "      <th>...</th>\n",
       "      <td>...</td>\n",
       "      <td>...</td>\n",
       "      <td>...</td>\n",
       "      <td>...</td>\n",
       "      <td>...</td>\n",
       "      <td>...</td>\n",
       "      <td>...</td>\n",
       "      <td>...</td>\n",
       "      <td>...</td>\n",
       "      <td>...</td>\n",
       "      <td>...</td>\n",
       "      <td>...</td>\n",
       "      <td>...</td>\n",
       "      <td>...</td>\n",
       "      <td>...</td>\n",
       "      <td>...</td>\n",
       "      <td>...</td>\n",
       "      <td>...</td>\n",
       "      <td>...</td>\n",
       "      <td>...</td>\n",
       "      <td>...</td>\n",
       "      <td>...</td>\n",
       "      <td>...</td>\n",
       "      <td>...</td>\n",
       "      <td>...</td>\n",
       "      <td>...</td>\n",
       "      <td>...</td>\n",
       "      <td>...</td>\n",
       "    </tr>\n",
       "    <tr>\n",
       "      <th>290606</th>\n",
       "      <td>236989</td>\n",
       "      <td>e75abeba6dd1fc4</td>\n",
       "      <td>2024-06-14</td>\n",
       "      <td>2024-06-14 18:21:55</td>\n",
       "      <td>10229</td>\n",
       "      <td>нет</td>\n",
       "      <td>12</td>\n",
       "      <td>rub</td>\n",
       "      <td>desktop</td>\n",
       "      <td>843.869995</td>\n",
       "      <td>лови билет!</td>\n",
       "      <td>5</td>\n",
       "      <td>10548.379883</td>\n",
       "      <td>0</td>\n",
       "      <td>7e589239-e102-4205-9e8b-5983de8874b0</td>\n",
       "      <td>спектакль</td>\n",
       "      <td>театр</td>\n",
       "      <td>№1684</td>\n",
       "      <td>каменевский регион</td>\n",
       "      <td>глиногорск</td>\n",
       "      <td>213</td>\n",
       "      <td>2927</td>\n",
       "      <td>спектакль \"сентябрь\" лтд</td>\n",
       "      <td>ул. красноярская, д. 6/3 стр. 761</td>\n",
       "      <td>2024-06-14</td>\n",
       "      <td>100</td>\n",
       "      <td>19.525000</td>\n",
       "      <td>kzt</td>\n",
       "    </tr>\n",
       "    <tr>\n",
       "      <th>290607</th>\n",
       "      <td>8365544</td>\n",
       "      <td>f29a8ec731fab1d</td>\n",
       "      <td>2024-06-14</td>\n",
       "      <td>2024-06-14 14:29:42</td>\n",
       "      <td>488578</td>\n",
       "      <td>нет</td>\n",
       "      <td>6</td>\n",
       "      <td>rub</td>\n",
       "      <td>mobile</td>\n",
       "      <td>230.750000</td>\n",
       "      <td>билеты в руки</td>\n",
       "      <td>5</td>\n",
       "      <td>3845.899902</td>\n",
       "      <td>&lt;NA&gt;</td>\n",
       "      <td>8183e81d-7f2d-4eeb-8fa6-506778e52f94</td>\n",
       "      <td>событие</td>\n",
       "      <td>другое</td>\n",
       "      <td>№2929</td>\n",
       "      <td>светополянский округ</td>\n",
       "      <td>речное</td>\n",
       "      <td>20595</td>\n",
       "      <td>2703</td>\n",
       "      <td>музей музыкальных инструментов \"разноцвет\" и п...</td>\n",
       "      <td>пр. коллективный, д. 5 к. 6/8</td>\n",
       "      <td>2024-06-14</td>\n",
       "      <td>100</td>\n",
       "      <td>19.525000</td>\n",
       "      <td>kzt</td>\n",
       "    </tr>\n",
       "    <tr>\n",
       "      <th>290608</th>\n",
       "      <td>7032588</td>\n",
       "      <td>f7a0146fc193947</td>\n",
       "      <td>2024-06-14</td>\n",
       "      <td>2024-06-14 23:28:07</td>\n",
       "      <td>518322</td>\n",
       "      <td>нет</td>\n",
       "      <td>12</td>\n",
       "      <td>rub</td>\n",
       "      <td>mobile</td>\n",
       "      <td>749.530029</td>\n",
       "      <td>билеты в руки</td>\n",
       "      <td>3</td>\n",
       "      <td>6813.899902</td>\n",
       "      <td>0</td>\n",
       "      <td>3301cd59-29cc-460f-92f8-92bfac5d2148</td>\n",
       "      <td>спектакль</td>\n",
       "      <td>театр</td>\n",
       "      <td>№4439</td>\n",
       "      <td>североярская область</td>\n",
       "      <td>озёрск</td>\n",
       "      <td>2</td>\n",
       "      <td>1044</td>\n",
       "      <td>спектакль \"ремесло\" инк</td>\n",
       "      <td>алл. степная, д. 5 стр. 9</td>\n",
       "      <td>2024-06-14</td>\n",
       "      <td>100</td>\n",
       "      <td>19.525000</td>\n",
       "      <td>kzt</td>\n",
       "    </tr>\n",
       "    <tr>\n",
       "      <th>290609</th>\n",
       "      <td>6730350</td>\n",
       "      <td>fc950d43881de43</td>\n",
       "      <td>2024-06-14</td>\n",
       "      <td>2024-06-14 06:56:17</td>\n",
       "      <td>533051</td>\n",
       "      <td>нет</td>\n",
       "      <td>18</td>\n",
       "      <td>rub</td>\n",
       "      <td>mobile</td>\n",
       "      <td>162.130005</td>\n",
       "      <td>облачко</td>\n",
       "      <td>2</td>\n",
       "      <td>1473.900024</td>\n",
       "      <td>0</td>\n",
       "      <td>6a2e08b2-bf15-4424-8c60-5764e38a5d58</td>\n",
       "      <td>шоу</td>\n",
       "      <td>стендап</td>\n",
       "      <td>№2475</td>\n",
       "      <td>светополянский округ</td>\n",
       "      <td>глиноград</td>\n",
       "      <td>54</td>\n",
       "      <td>1244</td>\n",
       "      <td>группа арт-менеджеров \"салон\" групп</td>\n",
       "      <td>бул. гаражный, д. 332 стр. 3</td>\n",
       "      <td>2024-06-14</td>\n",
       "      <td>100</td>\n",
       "      <td>19.525000</td>\n",
       "      <td>kzt</td>\n",
       "    </tr>\n",
       "    <tr>\n",
       "      <th>290610</th>\n",
       "      <td>5218696</td>\n",
       "      <td>fd4d47438ebb946</td>\n",
       "      <td>2024-06-14</td>\n",
       "      <td>2024-06-14 20:51:14</td>\n",
       "      <td>527277</td>\n",
       "      <td>нет</td>\n",
       "      <td>18</td>\n",
       "      <td>rub</td>\n",
       "      <td>mobile</td>\n",
       "      <td>289.040009</td>\n",
       "      <td>лови билет!</td>\n",
       "      <td>3</td>\n",
       "      <td>4129.169922</td>\n",
       "      <td>1</td>\n",
       "      <td>16b83ea3-ae36-46a4-868d-5b4da7649e2c</td>\n",
       "      <td>спектакль</td>\n",
       "      <td>театр</td>\n",
       "      <td>№1716</td>\n",
       "      <td>широковская область</td>\n",
       "      <td>радужнополье</td>\n",
       "      <td>35</td>\n",
       "      <td>3944</td>\n",
       "      <td>клуб любителей театра \"гардероб\" инкорпорэйтед</td>\n",
       "      <td>пер. элеваторный, д. 8/6 к. 310</td>\n",
       "      <td>2024-06-14</td>\n",
       "      <td>100</td>\n",
       "      <td>19.525000</td>\n",
       "      <td>kzt</td>\n",
       "    </tr>\n",
       "  </tbody>\n",
       "</table>\n",
       "<p>290611 rows × 28 columns</p>\n",
       "</div>"
      ],
      "text/plain": [
       "        order_id          user_id created_dt_msk      created_ts_msk  \\\n",
       "0        4359165  0002849b70a3ce2     2024-08-20 2024-08-20 16:08:03   \n",
       "1        6274963  44c1c640a242aea     2024-08-20 2024-08-20 22:12:04   \n",
       "2         474528  2b1f730d7024681     2024-08-20 2024-08-20 15:29:56   \n",
       "3        7477361  05ba93f1b1e1fdd     2024-08-20 2024-08-20 17:06:44   \n",
       "4         472150  3ee7dc2e115847f     2024-08-20 2024-08-20 02:57:22   \n",
       "...          ...              ...            ...                 ...   \n",
       "290606    236989  e75abeba6dd1fc4     2024-06-14 2024-06-14 18:21:55   \n",
       "290607   8365544  f29a8ec731fab1d     2024-06-14 2024-06-14 14:29:42   \n",
       "290608   7032588  f7a0146fc193947     2024-06-14 2024-06-14 23:28:07   \n",
       "290609   6730350  fc950d43881de43     2024-06-14 2024-06-14 06:56:17   \n",
       "290610   5218696  fd4d47438ebb946     2024-06-14 2024-06-14 20:51:14   \n",
       "\n",
       "        event_id cinema_circuit  age_limit currency_code  \\\n",
       "0         169230            нет         16           rub   \n",
       "1         237325            нет          0           rub   \n",
       "2         373657            нет         18           rub   \n",
       "3         534657            нет         16           rub   \n",
       "4         534657            нет         16           rub   \n",
       "...          ...            ...        ...           ...   \n",
       "290606     10229            нет         12           rub   \n",
       "290607    488578            нет          6           rub   \n",
       "290608    518322            нет         12           rub   \n",
       "290609    533051            нет         18           rub   \n",
       "290610    527277            нет         18           rub   \n",
       "\n",
       "       device_type_canonical      revenue   service_name  tickets_count  \\\n",
       "0                     mobile  1521.939941   край билетов              4   \n",
       "1                     mobile   144.729996      мой билет              1   \n",
       "2                     mobile   318.269989        облачко              3   \n",
       "3                     mobile   339.609985    быстробилет              1   \n",
       "4                     mobile   339.609985    быстробилет              1   \n",
       "...                      ...          ...            ...            ...   \n",
       "290606               desktop   843.869995    лови билет!              5   \n",
       "290607                mobile   230.750000  билеты в руки              5   \n",
       "290608                mobile   749.530029  билеты в руки              3   \n",
       "290609                mobile   162.130005        облачко              2   \n",
       "290610                mobile   289.040009    лови билет!              3   \n",
       "\n",
       "               total  days_since_prev                            event_name  \\\n",
       "0       10870.990234             <NA>  f0f7b271-04eb-4af6-bcb8-8f05cf46d6ad   \n",
       "1        1033.760010                0  40efeb04-81b7-4135-b41f-708ff00cc64c   \n",
       "2        2448.250000                2  990b8b09-85d8-4ffb-9074-ab5303cd3c33   \n",
       "3        2612.350098                1  dff567b7-11a5-4c4c-b223-70c8ab7efd15   \n",
       "4        2612.350098                0  dff567b7-11a5-4c4c-b223-70c8ab7efd15   \n",
       "...              ...              ...                                   ...   \n",
       "290606  10548.379883                0  7e589239-e102-4205-9e8b-5983de8874b0   \n",
       "290607   3845.899902             <NA>  8183e81d-7f2d-4eeb-8fa6-506778e52f94   \n",
       "290608   6813.899902                0  3301cd59-29cc-460f-92f8-92bfac5d2148   \n",
       "290609   1473.900024                0  6a2e08b2-bf15-4424-8c60-5764e38a5d58   \n",
       "290610   4129.169922                1  16b83ea3-ae36-46a4-868d-5b4da7649e2c   \n",
       "\n",
       "       event_type_description event_type_main organizers  \\\n",
       "0                   спектакль           театр      №3322   \n",
       "1                     событие        выставки      №4850   \n",
       "2                         шоу         стендап      №1124   \n",
       "3                     концерт        концерты      №1134   \n",
       "4                     концерт        концерты      №1134   \n",
       "...                       ...             ...        ...   \n",
       "290606              спектакль           театр      №1684   \n",
       "290607                событие          другое      №2929   \n",
       "290608              спектакль           театр      №4439   \n",
       "290609                    шоу         стендап      №2475   \n",
       "290610              спектакль           театр      №1716   \n",
       "\n",
       "                 region_name     city_name  city_id  venue_id  \\\n",
       "0         каменевский регион    глиногорск      213      3972   \n",
       "1         каменевский регион    глиногорск      213      2941   \n",
       "2       североярская область        озёрск        2      1631   \n",
       "3          ветренский регион        кокжар       20      2866   \n",
       "4          ветренский регион        кокжар       20      2866   \n",
       "...                      ...           ...      ...       ...   \n",
       "290606    каменевский регион    глиногорск      213      2927   \n",
       "290607  светополянский округ        речное    20595      2703   \n",
       "290608  североярская область        озёрск        2      1044   \n",
       "290609  светополянский округ     глиноград       54      1244   \n",
       "290610   широковская область  радужнополье       35      3944   \n",
       "\n",
       "                                               venue_name  \\\n",
       "0                        сценический центр \"деталь\" групп   \n",
       "1               музыкальная школа для детей \"аккаунт\" лтд   \n",
       "2                      музей истории \"воспоминание\" групп   \n",
       "3                          школа фотографии \"золотое\" инк   \n",
       "4                          школа фотографии \"золотое\" инк   \n",
       "...                                                   ...   \n",
       "290606                           спектакль \"сентябрь\" лтд   \n",
       "290607  музей музыкальных инструментов \"разноцвет\" и п...   \n",
       "290608                            спектакль \"ремесло\" инк   \n",
       "290609                группа арт-менеджеров \"салон\" групп   \n",
       "290610     клуб любителей театра \"гардероб\" инкорпорэйтед   \n",
       "\n",
       "                              venue_address       data  nominal       curs  \\\n",
       "0       алл. машиностроителей, д. 19 стр. 6 2024-08-20      100  18.697201   \n",
       "1                  алл. шмидта, д. 9 стр. 4 2024-08-20      100  18.697201   \n",
       "2            наб. тамбовская, д. 1/4 к. 577 2024-08-20      100  18.697201   \n",
       "3              ш. микрорайон, д. 79 стр. 50 2024-08-20      100  18.697201   \n",
       "4              ш. микрорайон, д. 79 стр. 50 2024-08-20      100  18.697201   \n",
       "...                                     ...        ...      ...        ...   \n",
       "290606    ул. красноярская, д. 6/3 стр. 761 2024-06-14      100  19.525000   \n",
       "290607        пр. коллективный, д. 5 к. 6/8 2024-06-14      100  19.525000   \n",
       "290608            алл. степная, д. 5 стр. 9 2024-06-14      100  19.525000   \n",
       "290609         бул. гаражный, д. 332 стр. 3 2024-06-14      100  19.525000   \n",
       "290610      пер. элеваторный, д. 8/6 к. 310 2024-06-14      100  19.525000   \n",
       "\n",
       "        cdx  \n",
       "0       kzt  \n",
       "1       kzt  \n",
       "2       kzt  \n",
       "3       kzt  \n",
       "4       kzt  \n",
       "...     ...  \n",
       "290606  kzt  \n",
       "290607  kzt  \n",
       "290608  kzt  \n",
       "290609  kzt  \n",
       "290610  kzt  \n",
       "\n",
       "[290611 rows x 28 columns]"
      ]
     },
     "metadata": {},
     "output_type": "display_data"
    }
   ],
   "source": [
    "# С помощью метода str.replace() внесём необходимые изменения в столбец event_type_description:\n",
    "total_df['event_type_description'] = total_df['event_type_description'].str.replace('спортивное мероприятие', 'спорт')\n",
    "total_df['event_type_description'] = total_df['event_type_description'].str.replace('музыкальный спектакль', 'мюзикл')\n",
    "total_df['event_type_description'] = total_df['event_type_description'].str.replace('подарок', 'ёлка')\n",
    "total_df['event_type_description'] = total_df['event_type_description'].str.replace('снегурочка', 'ёлка')\n",
    "\n",
    "# Получим результат\n",
    "display(total_df)"
   ]
  },
  {
   "cell_type": "code",
   "execution_count": 20,
   "metadata": {},
   "outputs": [
    {
     "name": "stdout",
     "output_type": "stream",
     "text": [
      "['спектакль' 'событие' 'шоу' 'концерт' 'ёлка' 'цирковое шоу' 'выставка'\n",
      " 'мюзикл' 'фестиваль' 'балет' 'спорт' 'опера' 'экскурсия'\n",
      " 'кукольный спектакль' 'оперетта' 'рок-мюзикл']\n"
     ]
    }
   ],
   "source": [
    "# Проверим результат:\n",
    "unique_events_type = total_df['event_type_description'].unique()\n",
    "\n",
    "print(unique_events_type)"
   ]
  },
  {
   "cell_type": "markdown",
   "metadata": {},
   "source": [
    "*Работа по выявлению неявных дубликатов проведена. Перейдём к устранению явных дубликатов в данных.*"
   ]
  },
  {
   "cell_type": "code",
   "execution_count": 21,
   "metadata": {},
   "outputs": [
    {
     "name": "stdout",
     "output_type": "stream",
     "text": [
      "Количество строк до удаления дубликатов:290611\n",
      "Количество найденных дубликатов:0\n",
      "Количество строк после удаления дубликатов:290611\n"
     ]
    }
   ],
   "source": [
    "# Посчитаем количество строк до удаления дубликатов с помощью метода shape[0] и результат сохраним \n",
    "# в переменную initial_row_count:\n",
    "initial_row_count = total_df.shape[0]\n",
    "\n",
    "# Сортируем датафрейм по всем столбцам, используя метод sort_values():\n",
    "df_sorted = total_df.sort_values(by=list(total_df.columns))\n",
    "\n",
    "# Определим количество дубликатов методом duplicated():\n",
    "duplicates = df_sorted[df_sorted.duplicated(keep=False)].shape[0]\n",
    "\n",
    "# Проведем удаление дубликатов в переменной df_no_duplicates с помощью метода drop_duplicates():\n",
    "df_no_duplicates = df_sorted.drop_duplicates()\n",
    "\n",
    "# Сохраним количество строк после удаления дубликатов в переменной final_row_count:\n",
    "final_row_count = df_no_duplicates.shape[0]\n",
    "\n",
    "# Выведем результат:\n",
    "print(f'Количество строк до удаления дубликатов:{initial_row_count}')\n",
    "print(f'Количество найденных дубликатов:{duplicates}')\n",
    "print(f'Количество строк после удаления дубликатов:{final_row_count}')"
   ]
  },
  {
   "cell_type": "markdown",
   "metadata": {},
   "source": [
    "*На первый взгляд, явных дубликатов нет, но рассмотрим столбцы, которые в совокупности дают информацию о бронировании билетов (данные 'order_id' не учитываем). Таким образом, выявленные дубликаты будут неявными. Проверим столбцы `user_id`, `created_dt_msk`, `created_ts_msk`, `cinema_circuit`, `age_limit`, `currency_code`, `device_type_canonical`, `revenue`, `service_name`, `tickets_count`, `total`, `days_since_prev`, `event_id`, `venue_id`,`event_name` в отдельной связке, где, вероятней всего, дублирующие значения могут быть.*"
   ]
  },
  {
   "cell_type": "code",
   "execution_count": 22,
   "metadata": {},
   "outputs": [
    {
     "name": "stdout",
     "output_type": "stream",
     "text": [
      "Исходное количесвто строк: 290611\n",
      "Количество найденных дубликатов: 58\n",
      "Количесвто строк после удаления дубликатов: 290581\n"
     ]
    }
   ],
   "source": [
    "# В переменной duplicat сохраняем найденное количество дубликатов по данным столбцам:\n",
    "duplicat = total_df.loc[total_df.duplicated(subset=['user_id', 'created_dt_msk', 'created_ts_msk', \n",
    "                                                    'cinema_circuit', 'age_limit', 'currency_code', \n",
    "                                                    'device_type_canonical', 'revenue', 'service_name',\n",
    "                                                    'tickets_count', 'total', 'days_since_prev',\n",
    "                                                   'event_id','venue_id','event_name'], keep=False)].shape[0]\n",
    "\n",
    "# Сортируем датафрейм по всем столбцам:\n",
    "sorted_df = total_df.sort_values(by=list(total_df.columns))\n",
    "\n",
    "# Удаляем дубликаты:\n",
    "new_df = sorted_df.drop_duplicates(subset=['user_id', 'created_dt_msk', 'created_ts_msk', \n",
    "                                                    'cinema_circuit', 'age_limit', 'currency_code', \n",
    "                                                    'device_type_canonical', 'revenue', 'service_name',\n",
    "                                                    'tickets_count', 'total', 'days_since_prev',\n",
    "                                                    'event_id','venue_id','event_name'])\n",
    "\n",
    "# Выведем количество строк после удаления дубликатов:\n",
    "final_df = new_df.shape[0]\n",
    "\n",
    "# Результат выведем на экран:\n",
    "\n",
    "print(f'Исходное количесвто строк: {initial_row_count}')\n",
    "print(f'Количество найденных дубликатов: {duplicat}')\n",
    "print(f'Количесвто строк после удаления дубликатов: {final_df}')"
   ]
  },
  {
   "cell_type": "markdown",
   "metadata": {},
   "source": [
    "***Исходя из проведенных вычислений, сделаем вывод:***\n",
    "\n",
    "*1. Для определения количества дубликатов была проведена сортировка даных по всем столбцам. Далее, с помощью метода duplicated() выявили, что дубликаты по всему датафрейму отсутствуют, **но в связке столбцов `user_id`, `created_dt_msk`, `created_ts_msk`, `cinema_circuit`, `age_limit`, `currency_code`, `device_type_canonical`, `revenue`, `service_name`, `tickets_count`, `total`, `days_since_prev`, `event_id`, `venue_id`,`event_name` их нашлось 58, что ничтожно по сравнению с общим количеством строк.**\n",
    "2. Выявленные дубликаты в данных столбцах удалены с помощью метода drop_duplicates(). Далее будет работать с датафреймом `new_df`.*"
   ]
  },
  {
   "cell_type": "markdown",
   "metadata": {},
   "source": [
    "* ***Добавим к датафрейму `new_df` дополнительные столбцы: `revenue_rub` — выручка с заказа в единой валюте — российских рублях, `one_ticket_revenue_rub` — выручка с продажи одного билета на мероприятие, `month` — месяц оформления заказа, `season` — информация о сезонности, включая такие категории, как: 'лето', 'осень', 'зима', 'весна'.***  "
   ]
  },
  {
   "cell_type": "code",
   "execution_count": 23,
   "metadata": {},
   "outputs": [
    {
     "name": "stdout",
     "output_type": "stream",
     "text": [
      "        revenue_rub  one_ticket_revenue_rub  month season\n",
      "208968   101.917229               50.958614      8   лето\n",
      "234664   105.939514               52.969757      9  осень\n",
      "6168      73.711258               18.427814      7   лето\n",
      "246574    93.972855               46.986427      9  осень\n",
      "257483     1.705745                0.852872      9  осень\n"
     ]
    }
   ],
   "source": [
    "# Создаем столбец с конвертируемой выручкой из тенге в рубли, учитывая курс конвертации рассчитан на 100 тенге:\n",
    "new_df['revenue_rub'] = total_df['revenue'] * (new_df['curs'] / 100)\n",
    "\n",
    "# Рассчитаем выручку с продажи одного билета в рублях и сохраним в столбец one_ticket_revenue_rub:\n",
    "new_df['one_ticket_revenue_rub'] = new_df['revenue_rub'] / new_df['tickets_count']\n",
    "\n",
    "# Добавим столбец с месяцем заказа:\n",
    "new_df['month'] = new_df['created_dt_msk'].dt.month\n",
    "\n",
    "# Сформируем функцию для определения сезона по месяцу. Полученный результат сохраним в столбец season:\n",
    "def get_season(month):\n",
    "    if month in[12, 1, 2]:\n",
    "        return 'зима'\n",
    "    elif month in [3, 4, 5]:\n",
    "        return 'весна'\n",
    "    elif month in [6, 7, 8]:\n",
    "        return 'лето'\n",
    "    else:\n",
    "        return 'осень'\n",
    "    \n",
    "new_df['season'] = new_df['month'].apply(get_season)\n",
    "\n",
    "# Проверим полученные результаты. Выведем первые строки созданных столбов:\n",
    "print(new_df[['revenue_rub', 'one_ticket_revenue_rub', 'month', 'season']].head())"
   ]
  },
  {
   "cell_type": "code",
   "execution_count": 24,
   "metadata": {},
   "outputs": [
    {
     "name": "stdout",
     "output_type": "stream",
     "text": [
      "<class 'pandas.core.frame.DataFrame'>\n",
      "Int64Index: 290581 entries, 208968 to 196625\n",
      "Data columns (total 32 columns):\n",
      " #   Column                  Non-Null Count   Dtype         \n",
      "---  ------                  --------------   -----         \n",
      " 0   order_id                290581 non-null  int32         \n",
      " 1   user_id                 290581 non-null  object        \n",
      " 2   created_dt_msk          290581 non-null  datetime64[ns]\n",
      " 3   created_ts_msk          290581 non-null  datetime64[ns]\n",
      " 4   event_id                290581 non-null  int32         \n",
      " 5   cinema_circuit          290581 non-null  object        \n",
      " 6   age_limit               290581 non-null  int8          \n",
      " 7   currency_code           290581 non-null  object        \n",
      " 8   device_type_canonical   290581 non-null  object        \n",
      " 9   revenue                 290581 non-null  float32       \n",
      " 10  service_name            290581 non-null  object        \n",
      " 11  tickets_count           290581 non-null  int8          \n",
      " 12  total                   290581 non-null  float32       \n",
      " 13  days_since_prev         268668 non-null  Int16         \n",
      " 14  event_name              290581 non-null  object        \n",
      " 15  event_type_description  290581 non-null  object        \n",
      " 16  event_type_main         290581 non-null  object        \n",
      " 17  organizers              290581 non-null  object        \n",
      " 18  region_name             290581 non-null  object        \n",
      " 19  city_name               290581 non-null  object        \n",
      " 20  city_id                 290581 non-null  int32         \n",
      " 21  venue_id                290581 non-null  int16         \n",
      " 22  venue_name              290581 non-null  object        \n",
      " 23  venue_address           290581 non-null  object        \n",
      " 24  data                    290581 non-null  datetime64[ns]\n",
      " 25  nominal                 290581 non-null  int8          \n",
      " 26  curs                    290581 non-null  float32       \n",
      " 27  cdx                     290581 non-null  object        \n",
      " 28  revenue_rub             290581 non-null  float32       \n",
      " 29  one_ticket_revenue_rub  290581 non-null  float32       \n",
      " 30  month                   290581 non-null  int64         \n",
      " 31  season                  290581 non-null  object        \n",
      "dtypes: Int16(1), datetime64[ns](3), float32(5), int16(1), int32(3), int64(1), int8(3), object(15)\n",
      "memory usage: 63.5+ MB\n"
     ]
    }
   ],
   "source": [
    "# Выведем общую информацию о датафрейме с учетом удаления дубликатов и добавления новых столбцов:\n",
    "new_df.info()"
   ]
  },
  {
   "cell_type": "markdown",
   "metadata": {},
   "source": [
    "* **Для анализа данных важными показателями являются выручка с заказа `revenue` и количество билетов в заказе `tickets_count`. Изучим распределение данных и наличие выбросов в указанных столбцах. Для этого используем статистические показатели, гистограммы распределения значений и диаграммы размаха. Если найдутся выбросы в выручке с заказа `revenue`, то отберем значения по 99-му процентилю. Учитывая, что данные изначально были представлены в разных валютах, разделим анализ на рубли и тенге.**"
   ]
  },
  {
   "cell_type": "code",
   "execution_count": 25,
   "metadata": {},
   "outputs": [
    {
     "name": "stdout",
     "output_type": "stream",
     "text": [
      "Размер данных в RUB: (285512, 32)\n",
      "Размер данных в KZT: (5069, 32)\n"
     ]
    }
   ],
   "source": [
    "# Разделим данные по валютам:\n",
    "df_rub = new_df[new_df['currency_code'] == 'rub'].copy()\n",
    "df_kzt = new_df[new_df['currency_code'] == 'kzt'].copy()\n",
    "\n",
    "print('Размер данных в RUB:', df_rub.shape)\n",
    "print('Размер данных в KZT:', df_kzt.shape)"
   ]
  },
  {
   "cell_type": "markdown",
   "metadata": {},
   "source": [
    "**Анализ статистических показателей и распределения данных выручки и количества купленных билетов для рублей (RUB)**"
   ]
  },
  {
   "cell_type": "code",
   "execution_count": 26,
   "metadata": {},
   "outputs": [
    {
     "name": "stdout",
     "output_type": "stream",
     "text": [
      "\n",
      "[Анализ RUB] Описательная статистика:\n",
      "Revenue:\n",
      "count    285512.000000\n",
      "mean        548.036255\n",
      "std         871.782104\n",
      "min         -90.760002\n",
      "25%         114.190002\n",
      "50%         346.700012\n",
      "99%        2570.800049\n",
      "max       81174.539062\n",
      "Name: revenue, dtype: float64\n",
      "\n",
      "Tickets_count:\n",
      "count    285512.000000\n",
      "mean          2.754185\n",
      "std           1.171569\n",
      "min           1.000000\n",
      "25%           2.000000\n",
      "50%           3.000000\n",
      "99%           6.000000\n",
      "max          57.000000\n",
      "Name: tickets_count, dtype: float64\n"
     ]
    }
   ],
   "source": [
    "# Выведем показатели описательной статистики:\n",
    "print('\\n[Анализ RUB] Описательная статистика:')\n",
    "print('Revenue:')\n",
    "print(df_rub['revenue'].describe(percentiles=[0.25, 0.5, 0.99]))\n",
    "print('\\nTickets_count:')\n",
    "print(df_rub['tickets_count'].describe(percentiles=[0.25, 0.5, 0.99]))"
   ]
  },
  {
   "cell_type": "code",
   "execution_count": 27,
   "metadata": {},
   "outputs": [
    {
     "data": {
      "image/png": "[encoded data removed]",
      "text/plain": [
       "<Figure size 1008x432 with 2 Axes>"
      ]
     },
     "metadata": {
      "needs_background": "light"
     },
     "output_type": "display_data"
    }
   ],
   "source": [
    "# Визуализируем распределение выручки от заказов.\n",
    "# Гистограмма распределения данных:\n",
    "plt.figure(figsize=(14, 6))\n",
    "plt.subplot(1, 2, 1)\n",
    "sns.histplot(df_rub['revenue'], bins=30, kde=True)\n",
    "plt.title('Распределение выручки (RUB)', pad=20, fontsize=14)\n",
    "plt.xlabel('Выручка, руб.')\n",
    "plt.ylabel('Количество заказов')\n",
    "\n",
    "# \"Ящик с усами\":\n",
    "plt.subplot(1, 2, 2)\n",
    "sns.boxplot(x=df_rub['revenue'])\n",
    "plt.title('Диаграмма размаха выручки (RUB)', pad=20, fontsize=14)\n",
    "plt.xlabel('Выручка, руб.')\n",
    "plt.tight_layout()\n",
    "plt.show()"
   ]
  },
  {
   "cell_type": "code",
   "execution_count": 28,
   "metadata": {},
   "outputs": [
    {
     "data": {
      "image/png": "[encoded data removed]",
      "text/plain": [
       "<Figure size 1008x432 with 2 Axes>"
      ]
     },
     "metadata": {
      "needs_background": "light"
     },
     "output_type": "display_data"
    }
   ],
   "source": [
    "# Представим визуализацию распределения количества заказанных билетов.\n",
    "# Гистограмма распределения данных:\n",
    "plt.figure(figsize=(14, 6))\n",
    "plt.subplot(1, 2, 1)\n",
    "sns.histplot(df_rub['tickets_count'], bins=30, kde=True)\n",
    "plt.title('Распределение количества билетов в заказах (RUB)', pad=20, fontsize=14)\n",
    "plt.xlabel('Количество билетов в заказе')\n",
    "plt.ylabel('Количество заказов (частота)')\n",
    "\n",
    "# \"Ящик с усами\":\n",
    "plt.subplot(1, 2, 2)\n",
    "sns.boxplot(x=df_rub['tickets_count'])\n",
    "plt.title('Диаграмма размаха количества билетов (RUB)', pad=20, fontsize=14)\n",
    "plt.xlabel('Количество билетов в заказе')\n",
    "plt.tight_layout()\n",
    "plt.show()"
   ]
  },
  {
   "cell_type": "code",
   "execution_count": 29,
   "metadata": {},
   "outputs": [
    {
     "name": "stdout",
     "output_type": "stream",
     "text": [
      "\n",
      "Фильтрация выбросов для RUB:\n",
      "99-й процентиль: 2570.80\n",
      "Удалено записей: 2800\n"
     ]
    },
    {
     "data": {
      "image/png": "[encoded data removed]",
      "text/plain": [
       "<Figure size 1008x432 with 2 Axes>"
      ]
     },
     "metadata": {
      "needs_background": "light"
     },
     "output_type": "display_data"
    }
   ],
   "source": [
    "# Проведем фильтрацию выбросов по данным выручки по 99-му процентилю: \n",
    "threshold_rub = df_rub['revenue'].quantile(0.99)\n",
    "df_rub_filtered = df_rub[df_rub['revenue'] <= threshold_rub]\n",
    "\n",
    "print(\"\\nФильтрация выбросов для RUB:\")\n",
    "print(f\"99-й процентиль: {threshold_rub:.2f}\")\n",
    "print(f\"Удалено записей: {len(df_rub) - len(df_rub_filtered)}\")\n",
    "\n",
    "# Визуализация после фильтрации\n",
    "plt.figure(figsize=(14, 6))\n",
    "plt.subplot(1, 2, 1)\n",
    "sns.histplot(df_rub_filtered['revenue'], bins=30, kde=True)\n",
    "plt.title('Распределение значений выручки после фильтрации (RUB)', pad=20, fontsize=14)\n",
    "plt.xlabel('Выручка, руб.')\n",
    "plt.ylabel('Количество заказов')\n",
    "\n",
    "\n",
    "plt.subplot(1, 2, 2)\n",
    "sns.boxplot(x=df_rub_filtered['revenue'])\n",
    "plt.title('Диаграмма размаха после фильтрации (RUB)', pad=20, fontsize=14)\n",
    "plt.xlabel('Выручка, руб.')\n",
    "plt.tight_layout()\n",
    "plt.show()"
   ]
  },
  {
   "cell_type": "code",
   "execution_count": 30,
   "metadata": {},
   "outputs": [
    {
     "name": "stdout",
     "output_type": "stream",
     "text": [
      "Revenue:\n",
      "count    282712.000000\n",
      "mean        510.826965\n",
      "std         500.935974\n",
      "min         -90.760002\n",
      "25%         112.129997\n",
      "50%         340.669998\n",
      "99%        2097.919922\n",
      "max        2570.800049\n",
      "Name: revenue, dtype: float64\n"
     ]
    }
   ],
   "source": [
    "# Выведем основные показатели статистики после фильтрации для выручки (RUB):\n",
    "print('Revenue:')\n",
    "print(df_rub_filtered['revenue'].describe(percentiles=[0.25, 0.5, 0.99]))"
   ]
  },
  {
   "cell_type": "markdown",
   "metadata": {},
   "source": [
    "**Анализ статистических показателей и распределения данных выручки и количества купленных билетов для тенге (KZT)**"
   ]
  },
  {
   "cell_type": "code",
   "execution_count": 31,
   "metadata": {},
   "outputs": [
    {
     "name": "stdout",
     "output_type": "stream",
     "text": [
      "\n",
      "[Анализ KZT] Описательная статистика:\n",
      "Revenue:\n",
      "count     5069.000000\n",
      "mean      4995.207031\n",
      "std       4916.752930\n",
      "min          0.000000\n",
      "25%        518.099976\n",
      "50%       3698.830078\n",
      "99%      17617.240234\n",
      "max      26425.859375\n",
      "Name: revenue, dtype: float64\n",
      "\n",
      "Tickets_count:\n",
      "count    5069.000000\n",
      "mean        2.762872\n",
      "std         1.115558\n",
      "min         1.000000\n",
      "25%         2.000000\n",
      "50%         3.000000\n",
      "99%         6.000000\n",
      "max         6.000000\n",
      "Name: tickets_count, dtype: float64\n"
     ]
    }
   ],
   "source": [
    "# Выведем показатели описательной статистики:\n",
    "print('\\n[Анализ KZT] Описательная статистика:')\n",
    "print('Revenue:')\n",
    "print(df_kzt['revenue'].describe(percentiles=[0.25, 0.5, 0.99]))\n",
    "print('\\nTickets_count:')\n",
    "print(df_kzt['tickets_count'].describe(percentiles=[0.25, 0.5, 0.99]))"
   ]
  },
  {
   "cell_type": "code",
   "execution_count": 32,
   "metadata": {},
   "outputs": [
    {
     "data": {
      "image/png": "[encoded data removed]",
      "text/plain": [
       "<Figure size 1008x432 with 2 Axes>"
      ]
     },
     "metadata": {
      "needs_background": "light"
     },
     "output_type": "display_data"
    }
   ],
   "source": [
    "# Визуализируем распределение выручки от заказов.\n",
    "# Гистограмма распределения данных:\n",
    "plt.figure(figsize=(14, 6))\n",
    "plt.subplot(1, 2, 1)\n",
    "sns.histplot(df_kzt['revenue'], bins=30, kde=True)\n",
    "plt.title('Распределение выручки (KZT)', pad=20, fontsize=14)\n",
    "plt.xlabel('Выручка, тенге.')\n",
    "plt.ylabel('Количество заказов')\n",
    "\n",
    "# \"Ящик с усами\":\n",
    "plt.subplot(1, 2, 2)\n",
    "sns.boxplot(x=df_kzt['revenue'])\n",
    "plt.title('Диаграмма размаха выручки (KZT)', pad=20, fontsize=14)\n",
    "plt.xlabel('Выручка, тенге.')\n",
    "plt.tight_layout()\n",
    "plt.show()"
   ]
  },
  {
   "cell_type": "code",
   "execution_count": 33,
   "metadata": {},
   "outputs": [
    {
     "data": {
      "image/png": "[encoded data removed]",
      "text/plain": [
       "<Figure size 1008x432 with 2 Axes>"
      ]
     },
     "metadata": {
      "needs_background": "light"
     },
     "output_type": "display_data"
    }
   ],
   "source": [
    "# Представим визуализацию распределения количества заказанных билетов.\n",
    "# Гистограмма распределения данных:\n",
    "plt.figure(figsize=(14, 6))\n",
    "plt.subplot(1, 2, 1)\n",
    "sns.histplot(df_kzt['tickets_count'], bins=30, kde=True)\n",
    "plt.title('Распределение количества билетов в заказах (KZT)', pad=20, fontsize=14)\n",
    "plt.xlabel('Количество билетов в заказе')\n",
    "plt.ylabel('Количество заказов (частота)')\n",
    "\n",
    "# \"Ящик с усами\":\n",
    "plt.subplot(1, 2, 2)\n",
    "sns.boxplot(x=df_kzt['tickets_count'])\n",
    "plt.title('Диаграмма размаха количества билетов (KZT)', pad=20, fontsize=14)\n",
    "plt.xlabel('Количество билетов в заказе')\n",
    "plt.tight_layout()\n",
    "plt.show()"
   ]
  },
  {
   "cell_type": "code",
   "execution_count": 34,
   "metadata": {},
   "outputs": [
    {
     "name": "stdout",
     "output_type": "stream",
     "text": [
      "\n",
      "Фильтрация выбросов для KZT:\n",
      "99-й процентиль: 17617.24\n",
      "Удалено записей: 29\n"
     ]
    },
    {
     "data": {
      "image/png": "[encoded data removed]",
      "text/plain": [
       "<Figure size 1008x432 with 2 Axes>"
      ]
     },
     "metadata": {
      "needs_background": "light"
     },
     "output_type": "display_data"
    }
   ],
   "source": [
    "# Проведем фильтрацию выбросов по данным выручки по 99-му процентилю: \n",
    "threshold_kzt = df_kzt['revenue'].quantile(0.99)\n",
    "df_kzt_filtered = df_kzt[df_kzt['revenue'] <= threshold_kzt]\n",
    "\n",
    "print(\"\\nФильтрация выбросов для KZT:\")\n",
    "print(f\"99-й процентиль: {threshold_kzt:.2f}\")\n",
    "print(f\"Удалено записей: {len(df_kzt) - len(df_kzt_filtered)}\")\n",
    "\n",
    "# Визуализация после фильтрации\n",
    "plt.figure(figsize=(14, 6))\n",
    "plt.subplot(1, 2, 1)\n",
    "sns.histplot(df_kzt_filtered['revenue'], bins=30, kde=True)\n",
    "plt.title('Распределение значений выручки после фильтрации (KZT)', pad=20, fontsize=14)\n",
    "plt.xlabel('Выручка, тенге.')\n",
    "plt.ylabel('Количество заказов')\n",
    "\n",
    "\n",
    "plt.subplot(1, 2, 2)\n",
    "sns.boxplot(x=df_kzt_filtered['revenue'])\n",
    "plt.title('Диаграмма размаха после фильтрации (KZT)', pad=20, fontsize=14)\n",
    "plt.xlabel('Выручка, тенге.')\n",
    "plt.tight_layout()\n",
    "plt.show()"
   ]
  },
  {
   "cell_type": "code",
   "execution_count": 35,
   "metadata": {},
   "outputs": [
    {
     "name": "stdout",
     "output_type": "stream",
     "text": [
      "Revenue:\n",
      "count     5040.000000\n",
      "mean      4893.668945\n",
      "std       4742.680176\n",
      "min          0.000000\n",
      "25%        515.349983\n",
      "50%       3698.830078\n",
      "99%      17617.240234\n",
      "max      17617.240234\n",
      "Name: revenue, dtype: float64\n"
     ]
    }
   ],
   "source": [
    "# Выведем основные показатели статистики после фильтрации для выручки (KZT):\n",
    "print('Revenue:')\n",
    "print(df_kzt_filtered['revenue'].describe(percentiles=[0.25, 0.5, 0.99]))"
   ]
  },
  {
   "cell_type": "markdown",
   "metadata": {},
   "source": [
    "Соберем отфильтрованные данные в единый датафрейм `filtr_df`."
   ]
  },
  {
   "cell_type": "code",
   "execution_count": 36,
   "metadata": {},
   "outputs": [
    {
     "name": "stdout",
     "output_type": "stream",
     "text": [
      "\n",
      "Итоговый размер отфильтрованных данных: (287752, 32)\n"
     ]
    }
   ],
   "source": [
    "# Используя функцию concat() объединим отфильтрованные данные:\n",
    "filtr_df = pd.concat([df_rub_filtered, df_kzt_filtered])\n",
    "print('\\nИтоговый размер отфильтрованных данных:', filtr_df.shape)"
   ]
  },
  {
   "cell_type": "markdown",
   "metadata": {},
   "source": [
    "---\n",
    "\n",
    "### Cделаем промежуточный вывод относительно проведенной предобработки данных:\n",
    "\n",
    "\n",
    "\n",
    "\n",
    "**1.** Изначально провели объединение трех таблиц: `orders`, `events` и `tenge` в датафрейм `total_df`.\n",
    "\n",
    "**2.** Выяснили, что пропуски в дадафрейме отсутствуют, кроме столбца `days_since_prev`, в котором пропуски оставлены без изменений.\n",
    "\n",
    "**3.** Провели преобразование некоторых стобцов к соответствующим типам данных, а именно: \n",
    "- `days_since_prev` к целочисленному типу данных;\n",
    "- `created_dt_msk`, `created_ts_msk` и `data` - к формату datetime64.\n",
    "\n",
    "**4.** Оптимизировали размерность числовых столбцов.\n",
    "\n",
    "**5.** Провели работу по выявлению явных и неявных дубликатов. Для этого нормализовали текстовые значения всех столбцов датафрейма и проанализировали их уникальные значения. В столбце `event_type_description` (описание мероприятий) некоторые значения привели к единому названию. В итоге, явные дубликаты во всем датафрейме не найдены, а дублирующие значения в связке столбцов `user_id`, `created_dt_msk`, `created_ts_msk`, `cinema_circuit`, `age_limit`, `currency_code`, `device_type_canonical`, `revenue`, `service_name`, `tickets_count`, `total`, `days_since_prev`, `event_id`, `venue_id`,`event_name` (бронирование билетов без учета идентификаторов заказа) обнаружены в количестве 58 и удалены.\n",
    "\n",
    "**6.** По условиям задачи в датафрейме были добавлены дополнительные столбцы: `revenue_rub` - выручка с заказа в единой валюте (рубли), `one_ticket_revenue_rub` - выручка с продажи одного билета, `month` - месяц оформления заказа, `season` - информация о сезонности с категориями: \"лето\", \"осень\", \"зима\" и \"весна\".\n",
    "\n",
    "**7.** Изучили распределение данных и наличие выбросов по выручке и количеству билетов в заказах в разрезе каждой валюты, а именно:\n",
    "- вывели показатели описательной статистики;\n",
    "- представили гистограмму распределения выручки в зависимости от числа заказов, а также диаграмму размаха, с помощью которой визуально определяются выбросы;\n",
    "- рассчетным способом по 99-му процентилю выявили выбросы и удалили их;\n",
    "- представили статистические показатели и визуализации выручки по отфильтрованным данным в рублях и тенге. Оба распределения правосторонние (с положительной ассиметрией).\n",
    "\n",
    "**8.** Данные после фильтрации объединили в единый датафрейм `filtr_df`, содержащий 287752 строки и 32 столбца. \n",
    "\n",
    "---"
   ]
  },
  {
   "cell_type": "markdown",
   "metadata": {},
   "source": [
    "## Исследовательский анализ данных"
   ]
  },
  {
   "cell_type": "markdown",
   "metadata": {},
   "source": [
    "### Анализ распределения заказов по сегментам и их сезонные изменения"
   ]
  },
  {
   "cell_type": "markdown",
   "metadata": {},
   "source": [
    "* **Проанализируем влияние сезонности на общее количество заказов с июня по октябрь 2024г. включительно.**"
   ]
  },
  {
   "cell_type": "code",
   "execution_count": 37,
   "metadata": {},
   "outputs": [
    {
     "name": "stdout",
     "output_type": "stream",
     "text": [
      "month\n",
      "6     34164\n",
      "7     40407\n",
      "8     44550\n",
      "9     69352\n",
      "10    99279\n",
      "Name: order_id, dtype: int64\n"
     ]
    }
   ],
   "source": [
    "# Сгруппируем по месяцам и выведем количество заказов для каждого месяца:\n",
    "monthly_orders = filtr_df.groupby('month')['order_id'].count()\n",
    "print(monthly_orders)"
   ]
  },
  {
   "cell_type": "code",
   "execution_count": 38,
   "metadata": {},
   "outputs": [
    {
     "data": {
      "image/png": "[encoded data removed]",
      "text/plain": [
       "<Figure size 936x432 with 1 Axes>"
      ]
     },
     "metadata": {
      "needs_background": "light"
     },
     "output_type": "display_data"
    }
   ],
   "source": [
    "# Завизуализируем полученный результат:\n",
    "plt.figure(figsize=(13, 6))\n",
    "\n",
    "sns.lineplot(x=monthly_orders.index, y=monthly_orders.values, marker='o')\n",
    "plt.title('Динамика заказов по месяцам (Лето-Осень 2024г.)', pad=20, fontsize=14)\n",
    "plt.xlabel('Месяц')\n",
    "plt.ylabel('Количество заказов')\n",
    "plt.xticks(range(6, 12), ['Июнь', 'Июль', 'Август', 'Сентябрь', 'Октябрь', 'Ноябрь'])\n",
    "plt.grid(True)\n",
    "plt.show()"
   ]
  },
  {
   "cell_type": "markdown",
   "metadata": {},
   "source": [
    "*График действительно подтверждает резкое увеличение активности пользователей с наступлением осени. Количество заказов с начала сентября к концу октября увеличилось практически в два раза.*"
   ]
  },
  {
   "cell_type": "markdown",
   "metadata": {},
   "source": [
    "* **Сравним летнее и осеннее распределение числа заказов в разрезе сигментов.** "
   ]
  },
  {
   "cell_type": "code",
   "execution_count": 39,
   "metadata": {},
   "outputs": [],
   "source": [
    "# Разделим данные по-сезонно: летние месяцы и осенние:\n",
    "summer = filtr_df[filtr_df['month'].isin([6, 7, 8])]\n",
    "autumn = filtr_df[filtr_df['month'].isin([9, 10])]"
   ]
  },
  {
   "cell_type": "code",
   "execution_count": 40,
   "metadata": {},
   "outputs": [
    {
     "data": {
      "image/png": "[encoded data removed]",
      "text/plain": [
       "<Figure size 1008x432 with 1 Axes>"
      ]
     },
     "metadata": {
      "needs_background": "light"
     },
     "output_type": "display_data"
    },
    {
     "data": {
      "image/png": "[encoded data removed]",
      "text/plain": [
       "<Figure size 1008x432 with 1 Axes>"
      ]
     },
     "metadata": {
      "needs_background": "light"
     },
     "output_type": "display_data"
    },
    {
     "data": {
      "image/png": "[encoded data removed]",
      "text/plain": [
       "<Figure size 1008x432 with 1 Axes>"
      ]
     },
     "metadata": {
      "needs_background": "light"
     },
     "output_type": "display_data"
    }
   ],
   "source": [
    "# Создадим функцию plot_seasonal_comparison, которая будет сравнивать доли заказов по категориям \n",
    "# (тип мероприятия, тип устройство и возрастной рейтинг) в зависимости от сезона:\n",
    "def plot_seasonal_comparison(data_summer, data_autumn, column, title):\n",
    "    summer_share = data_summer[column].value_counts(normalize=True) * 100\n",
    "    autumn_share = data_autumn[column].value_counts(normalize=True) * 100\n",
    "    \n",
    "    # Добавим визуализацию результатов:\n",
    "    plt.figure(figsize=(14, 6))\n",
    "    summer_share.plot(kind='bar', color='blue', alpha=0.7, label='Лето')\n",
    "    autumn_share.plot(kind='bar', color='orange', alpha=0.7, label='Осень')\n",
    "    plt.title(f'Распределение заказов по {title}', pad=20, fontsize=14)\n",
    "    plt.xlabel('Категория')\n",
    "    plt.ylabel('Доля заказов (%)')\n",
    "    plt.legend()\n",
    "    plt.xticks(rotation=45)\n",
    "    plt.grid()\n",
    "    plt.show()\n",
    "\n",
    "# Сравнение по типам мероприятий:\n",
    "plot_seasonal_comparison(summer, autumn, 'event_type_main', 'типам мероприятий')\n",
    "\n",
    "# Сравнение по устройствам:\n",
    "plot_seasonal_comparison(summer, autumn, 'device_type_canonical', 'типам устройств')\n",
    "\n",
    "# Сравнение по возрастному рейтингу:\n",
    "plot_seasonal_comparison(summer, autumn, 'age_limit', 'возрастному рейтингу')"
   ]
  },
  {
   "cell_type": "markdown",
   "metadata": {},
   "source": [
    "*По полученным визуальзациям видно, что пользовател сервиса Яндекс Афиша летом больше посещают концерты, театры, выставки и мероприятия категории \"Другое\" (незначительно), а осенью приобретают популярность спортивные мероприятия (популярность возрастает в два раза), стендапы и новогодние мероприятия. Также, зафиксируем, что летом пользователи предпочитают совершать заказы через мобильные устройства, а осенью - с помощью стационарных. В возрастной категории - летом наиболее популярны мероприятия с возрастными ограничениями особенно 18+, 16+ и 6+ (незначительно), а в осенний период - набирают популярность мероприятия с возрастным ограничением 12+ и О.*"
   ]
  },
  {
   "cell_type": "markdown",
   "metadata": {},
   "source": [
    "* **Изучим изменение выручки с продажи одного билета в зависимости от типа мероприятия летом и осенью.**"
   ]
  },
  {
   "cell_type": "code",
   "execution_count": 41,
   "metadata": {},
   "outputs": [],
   "source": [
    "# Добавим столбец с ценой билета в зависимости от сезона:\n",
    "summer['ticket_price'] = summer['revenue'] / summer['tickets_count']\n",
    "autumn['ticket_price'] = autumn['revenue'] / autumn['tickets_count']\n",
    "\n",
    "# Группируем по типу мероприятия и считаем среднюю цену билета:\n",
    "summer_avg = summer.groupby('event_type_main')['ticket_price'].mean()\n",
    "autumn_avg = autumn.groupby('event_type_main')['ticket_price'].mean()\n",
    "\n",
    "# Объединим результаты в один датафрейм:\n",
    "price_comp = pd.DataFrame({\n",
    "    'summer_price': summer_avg,\n",
    "    'autumn_price': autumn_avg\n",
    "})\n",
    "\n",
    "# Рассчитаем абсолютное и относительное изменение:\n",
    "price_comp['price_diff'] = price_comp['autumn_price'] - price_comp['summer_price']\n",
    "price_comp['price_change_%'] = (price_comp['price_diff'] / price_comp['summer_price']) * 100"
   ]
  },
  {
   "cell_type": "code",
   "execution_count": 42,
   "metadata": {},
   "outputs": [
    {
     "data": {
      "image/png": "[encoded data removed]",
      "text/plain": [
       "<Figure size 1080x504 with 1 Axes>"
      ]
     },
     "metadata": {
      "needs_background": "light"
     },
     "output_type": "display_data"
    }
   ],
   "source": [
    "# Создадим визуализацию сравнения средней стоимости билета по мероприятиям летом и осенью:\n",
    "price_comparison_melted = price_comp.reset_index().melt(\n",
    "    id_vars='event_type_main',\n",
    "    value_vars=['summer_price', 'autumn_price'],\n",
    "    var_name='season',\n",
    "    value_name='price'\n",
    ")\n",
    "\n",
    "plt.figure(figsize=(15, 7))\n",
    "sns.barplot(x='event_type_main', \n",
    "            y='price', \n",
    "            hue='season',\n",
    "            data=price_comparison_melted,\n",
    "            palette={'summer_price': 'skyblue', 'autumn_price': 'coral'})\n",
    "\n",
    "plt.title('Средняя выручка от продажи билетов по типам мероприятий', pad=20, fontsize=14)\n",
    "plt.xlabel('Тип мероприятия')\n",
    "plt.ylabel('Цена билета, руб.')\n",
    "plt.legend(title='Сезон', labels=['Лето', 'Осень'])\n",
    "plt.xticks(rotation=45)\n",
    "plt.grid()\n",
    "plt.show()"
   ]
  },
  {
   "cell_type": "markdown",
   "metadata": {},
   "source": [
    "*Видно, что в летний период средняя выручка выше от продажи билетов на концерты, елки и в театры. А осенью значение средней выручки от продажи билетов на стендап и выставки незначительно превышает летние показатели. Средняя стоимость билетов на спортивные мероприятия и мероприятия категории \"Другое\" практически одинакова в летний и осенний периоды.*"
   ]
  },
  {
   "cell_type": "code",
   "execution_count": 43,
   "metadata": {},
   "outputs": [
    {
     "data": {
      "image/png": "[encoded data removed]",
      "text/plain": [
       "<Figure size 1080x504 with 1 Axes>"
      ]
     },
     "metadata": {
      "needs_background": "light"
     },
     "output_type": "display_data"
    }
   ],
   "source": [
    "# Представим график изменения выручки осеннего периода по сравнению с летним:\n",
    "plt.figure(figsize=(15, 7))\n",
    "sns.barplot(x=price_comp.index, \n",
    "            y='price_change_%', \n",
    "            data=price_comp.reset_index(),\n",
    "            palette='viridis')\n",
    "\n",
    "plt.axhline(0, color='black', linestyle='--')\n",
    "plt.title('Изменение средней стоимости билета осенью относительно лета (%)', pad=20, fontsize=14)\n",
    "plt.xlabel('Тип мероприятия')\n",
    "plt.ylabel('Изменение цены, %')\n",
    "plt.xticks(rotation=45)\n",
    "plt.grid()\n",
    "plt.show()"
   ]
  },
  {
   "cell_type": "markdown",
   "metadata": {},
   "source": [
    "*График отображает, что показатели стоимости выше ноля свидетельствуют о повышении цены билета на определенное мероприятие осенью по сравнению с летом. И, соответственно, значения ниже нулевой отметки говоят о снижении стоимости билета осенью. Значит, в осенний период цены на билеты увеличиваются, примерно, на 5% на посещение выставок и стендапов. А значительное снижение цен осенью наблюдается на билеты концертов (около 35%). Так же чуть более 15% цены осенью снижаются на театры и елки. Стоимости билетов на спортивные мероприятия и категории \"Другое\" практически постоянны (снижение цены осенью не более, чем на 3%).*"
   ]
  },
  {
   "cell_type": "markdown",
   "metadata": {},
   "source": [
    "* **Подитожим:** *с наступлением осени активность пользователей сервиса Яндекс Афиша значительно повышается. Становятся очень популярными спортивные мероприятия, а также стендапы и мероприятия категории \"Елки\", хотя летом больше популярные концерты, театры и высавки. Стоимость билетов в осенний период по сравнению с летним на спортивные мероприятия и категории \"Елки\" незначительно падает (на 3% и 16% соответственно), а на стендапы  повышается, примерно на 5%. Существенное падение цен на билеты наблюдается в категоии \"Концерты\" - 35%. Летом  популярны мероприятия с возрастным ограничением 18+ и 16+, а в осенний период потенциальных покупателей больше интересуют мероприятия, рассчитанные зрителей: 12+ и без возрастного ограничения.*"
   ]
  },
  {
   "cell_type": "markdown",
   "metadata": {},
   "source": [
    "### Изучение осенней активности пользователей"
   ]
  },
  {
   "cell_type": "markdown",
   "metadata": {},
   "source": [
    "* **Проанализируем динамику изменений по дням для:**\n",
    "\n",
    "\n",
    "* общего числа заказов;\n",
    "* количества активных пользователей DAU;\n",
    "* среднего числа заказов на одного пользователя;\n",
    "* средней стоимости одного билета.\n",
    "\n",
    "Выведем эти показатели в сводной таблице."
   ]
  },
  {
   "cell_type": "code",
   "execution_count": 44,
   "metadata": {},
   "outputs": [
    {
     "data": {
      "text/html": [
       "<div>\n",
       "<style scoped>\n",
       "    .dataframe tbody tr th:only-of-type {\n",
       "        vertical-align: middle;\n",
       "    }\n",
       "\n",
       "    .dataframe tbody tr th {\n",
       "        vertical-align: top;\n",
       "    }\n",
       "\n",
       "    .dataframe thead th {\n",
       "        text-align: right;\n",
       "    }\n",
       "</style>\n",
       "<table border=\"1\" class=\"dataframe\">\n",
       "  <thead>\n",
       "    <tr style=\"text-align: right;\">\n",
       "      <th></th>\n",
       "      <th>created_dt_msk</th>\n",
       "      <th>total_orders</th>\n",
       "      <th>dau</th>\n",
       "      <th>avg_ticket_price</th>\n",
       "      <th>orders_per_user</th>\n",
       "    </tr>\n",
       "  </thead>\n",
       "  <tbody>\n",
       "    <tr>\n",
       "      <th>0</th>\n",
       "      <td>2024-09-01</td>\n",
       "      <td>1327</td>\n",
       "      <td>564</td>\n",
       "      <td>202.947678</td>\n",
       "      <td>2.352837</td>\n",
       "    </tr>\n",
       "    <tr>\n",
       "      <th>1</th>\n",
       "      <td>2024-09-02</td>\n",
       "      <td>1380</td>\n",
       "      <td>574</td>\n",
       "      <td>209.150574</td>\n",
       "      <td>2.404181</td>\n",
       "    </tr>\n",
       "    <tr>\n",
       "      <th>2</th>\n",
       "      <td>2024-09-03</td>\n",
       "      <td>5113</td>\n",
       "      <td>778</td>\n",
       "      <td>85.791336</td>\n",
       "      <td>6.571979</td>\n",
       "    </tr>\n",
       "    <tr>\n",
       "      <th>3</th>\n",
       "      <td>2024-09-04</td>\n",
       "      <td>1773</td>\n",
       "      <td>686</td>\n",
       "      <td>203.416611</td>\n",
       "      <td>2.584548</td>\n",
       "    </tr>\n",
       "    <tr>\n",
       "      <th>4</th>\n",
       "      <td>2024-09-05</td>\n",
       "      <td>1944</td>\n",
       "      <td>739</td>\n",
       "      <td>215.397751</td>\n",
       "      <td>2.630582</td>\n",
       "    </tr>\n",
       "    <tr>\n",
       "      <th>...</th>\n",
       "      <td>...</td>\n",
       "      <td>...</td>\n",
       "      <td>...</td>\n",
       "      <td>...</td>\n",
       "      <td>...</td>\n",
       "    </tr>\n",
       "    <tr>\n",
       "      <th>56</th>\n",
       "      <td>2024-10-27</td>\n",
       "      <td>2849</td>\n",
       "      <td>1034</td>\n",
       "      <td>188.802444</td>\n",
       "      <td>2.755319</td>\n",
       "    </tr>\n",
       "    <tr>\n",
       "      <th>57</th>\n",
       "      <td>2024-10-28</td>\n",
       "      <td>2838</td>\n",
       "      <td>985</td>\n",
       "      <td>172.596710</td>\n",
       "      <td>2.881218</td>\n",
       "    </tr>\n",
       "    <tr>\n",
       "      <th>58</th>\n",
       "      <td>2024-10-29</td>\n",
       "      <td>2836</td>\n",
       "      <td>998</td>\n",
       "      <td>180.071823</td>\n",
       "      <td>2.841683</td>\n",
       "    </tr>\n",
       "    <tr>\n",
       "      <th>59</th>\n",
       "      <td>2024-10-30</td>\n",
       "      <td>2927</td>\n",
       "      <td>1039</td>\n",
       "      <td>190.875580</td>\n",
       "      <td>2.817132</td>\n",
       "    </tr>\n",
       "    <tr>\n",
       "      <th>60</th>\n",
       "      <td>2024-10-31</td>\n",
       "      <td>5961</td>\n",
       "      <td>1272</td>\n",
       "      <td>152.971436</td>\n",
       "      <td>4.686321</td>\n",
       "    </tr>\n",
       "  </tbody>\n",
       "</table>\n",
       "<p>61 rows × 5 columns</p>\n",
       "</div>"
      ],
      "text/plain": [
       "   created_dt_msk  total_orders   dau  avg_ticket_price  orders_per_user\n",
       "0      2024-09-01          1327   564        202.947678         2.352837\n",
       "1      2024-09-02          1380   574        209.150574         2.404181\n",
       "2      2024-09-03          5113   778         85.791336         6.571979\n",
       "3      2024-09-04          1773   686        203.416611         2.584548\n",
       "4      2024-09-05          1944   739        215.397751         2.630582\n",
       "..            ...           ...   ...               ...              ...\n",
       "56     2024-10-27          2849  1034        188.802444         2.755319\n",
       "57     2024-10-28          2838   985        172.596710         2.881218\n",
       "58     2024-10-29          2836   998        180.071823         2.841683\n",
       "59     2024-10-30          2927  1039        190.875580         2.817132\n",
       "60     2024-10-31          5961  1272        152.971436         4.686321\n",
       "\n",
       "[61 rows x 5 columns]"
      ]
     },
     "metadata": {},
     "output_type": "display_data"
    }
   ],
   "source": [
    "# Обратимся к ранеее созданной переменной autumn, \n",
    "# содержащей данные за два осенних месяца (сентябрь и октябрь 2024), и \n",
    "# создадим сводную таблицу:\n",
    "daily_metrics = autumn.groupby('created_dt_msk').agg(\n",
    "    total_orders=('order_id', 'count'), # Общее число заказов\n",
    "    dau=('user_id', 'nunique'), # Уникальные пользователи (DAU)\n",
    "    avg_ticket_price=('ticket_price', 'mean'), # Средняя стоимость билета\n",
    ").reset_index()\n",
    "\n",
    "# Добавим метрику \"среднее число заказов на пользователя\":\n",
    "daily_metrics['orders_per_user'] = daily_metrics['total_orders'] / daily_metrics['dau']\n",
    "\n",
    "display(daily_metrics)"
   ]
  },
  {
   "cell_type": "markdown",
   "metadata": {},
   "source": [
    "Визуализируем данные показатели по дням, используя линейный график."
   ]
  },
  {
   "cell_type": "code",
   "execution_count": 45,
   "metadata": {},
   "outputs": [
    {
     "data": {
      "image/png": "[encoded data removed]",
      "text/plain": [
       "<Figure size 1296x936 with 4 Axes>"
      ]
     },
     "metadata": {
      "needs_background": "light"
     },
     "output_type": "display_data"
    }
   ],
   "source": [
    "plt.figure(figsize=(18, 13))\n",
    "\n",
    "# График 1: Общее число заказов\n",
    "plt.subplot(2, 2, 1)\n",
    "sns.lineplot(x='created_dt_msk', y='total_orders', data=daily_metrics, marker='o', color='#1f77b4')\n",
    "plt.title('Общее число заказов по дням', pad=20, fontsize=17)\n",
    "plt.xlabel('Дата')\n",
    "plt.ylabel('Количество заказов')\n",
    "plt.xticks(rotation=45)\n",
    "plt.grid()\n",
    "\n",
    "# График 2: DAU (уникальные пользователи)\n",
    "plt.subplot(2, 2, 2)\n",
    "sns.lineplot(x='created_dt_msk', y='dau', data=daily_metrics, marker='o', color='#ff7f0e')\n",
    "plt.title('Активные пользователи (DAU)', pad=20, fontsize=17)\n",
    "plt.xlabel('Дата')\n",
    "plt.ylabel('Количество пользователей')\n",
    "plt.xticks(rotation=45)\n",
    "plt.grid()\n",
    "\n",
    "# График 3: Заказов на пользователя\n",
    "plt.subplot(2, 2, 3)\n",
    "sns.lineplot(x='created_dt_msk', y='orders_per_user', data=daily_metrics, marker='o', color='#2ca02c')\n",
    "plt.title('Среднее число заказов на одного пользователя', pad=20, fontsize=17)\n",
    "plt.xlabel('Дата')\n",
    "plt.ylabel('Заказов/пользователя')\n",
    "plt.xticks(rotation=45)\n",
    "plt.grid()\n",
    "\n",
    "# График 4: Средняя стоимость билета\n",
    "plt.subplot(2, 2, 4)\n",
    "sns.lineplot(x='created_dt_msk', y='avg_ticket_price', data=daily_metrics, marker='o', color='#d62728')\n",
    "plt.title('Средняя стоимость билета', pad=20, fontsize=17)\n",
    "plt.xlabel('Дата')\n",
    "plt.ylabel('Цена, руб.')\n",
    "plt.xticks(rotation=45)\n",
    "plt.grid()\n",
    "\n",
    "plt.tight_layout()\n",
    "plt.show()"
   ]
  },
  {
   "cell_type": "markdown",
   "metadata": {},
   "source": [
    "*На графиках хорошо прослеживается взаимосвязь всех четырех показателей. Во-первых, наблюдается стабильный рост числа активных пользователей в осенний период, который прямо пропорционален увеличению общего числа заказов. Чем выше активность пользователей, тем больше число заказов и, следовательно, выше среднее количество заказов на одного пользователя. И это непосредственно связанно со средней стоимостью билета - на графиках отлично отображена дневная динамика зависимости средней стоимости билета с активностью поьзователей и, соответственно, с числом заказов.*"
   ]
  },
  {
   "cell_type": "markdown",
   "metadata": {},
   "source": [
    "* ***Изучим недельную цикличность. Выделим день недели и сравним пользовательскую активность в будни и выходные.***"
   ]
  },
  {
   "cell_type": "code",
   "execution_count": 46,
   "metadata": {},
   "outputs": [
    {
     "name": "stdout",
     "output_type": "stream",
     "text": [
      "            total_orders         dau  orders_per_user  avg_ticket_price\n",
      "is_weekend                                                             \n",
      "Будни        2906.772727  937.409091         3.065792        184.850784\n",
      "Выходные     2396.058824  887.823529         2.675162        200.579407\n"
     ]
    }
   ],
   "source": [
    "# Добавим в таблицу daily_metrics столбец с днем недели и типом дня (будни/выходные):\n",
    "daily_metrics['day_of_week'] = pd.to_datetime(daily_metrics['created_dt_msk']).dt.day_name()\n",
    "daily_metrics['is_weekend'] = daily_metrics['day_of_week'].isin(['Saturday', 'Sunday'])\n",
    "\n",
    "# Сравним средние значения показателей активности пользователей для будней и выходных:\n",
    "weekday_stats = daily_metrics.groupby('is_weekend').agg({\n",
    "    'total_orders': 'mean',\n",
    "    'dau': 'mean',\n",
    "    'orders_per_user': 'mean',\n",
    "    'avg_ticket_price': 'mean'\n",
    "}).rename(index={False: 'Будни', True: 'Выходные'})\n",
    "\n",
    "print(weekday_stats)"
   ]
  },
  {
   "cell_type": "code",
   "execution_count": 47,
   "metadata": {},
   "outputs": [
    {
     "data": {
      "image/png": "[encoded data removed]",
      "text/plain": [
       "<Figure size 936x432 with 1 Axes>"
      ]
     },
     "metadata": {
      "needs_background": "light"
     },
     "output_type": "display_data"
    }
   ],
   "source": [
    "# Зададим параметры диаграммы:\n",
    "fig, ax = plt.subplots(figsize=(13, 6))\n",
    "\n",
    "# Построим график:\n",
    "weekday_stats.T.plot(kind='bar', color=['#3498db', '#e74c3c'], ax=ax)\n",
    "\n",
    "# Настройки графика\n",
    "ax.set_title('Сравнение активности: будни относительно выходных', pad=20, fontsize=17)\n",
    "ax.set_ylabel('Среднее значение')\n",
    "ax.set_xlabel('Показатель активности пользователей')\n",
    "ax.set_xticklabels(ax.get_xticklabels(), rotation=0)\n",
    "ax.legend(title='День недели')\n",
    "plt.grid()\n",
    "\n",
    "plt.tight_layout()\n",
    "plt.show()"
   ]
  },
  {
   "cell_type": "markdown",
   "metadata": {},
   "source": [
    "*По рассчетным данным и полученной визуализации видно, что в будни активность пользователей (по общему числу заказов, количеству уникальных пользователей и числу заказов на одного пользователя) выше. А средняя стоимость билета в выходные дни незначительно выше, чем в будни, и это объяснимо.*"
   ]
  },
  {
   "cell_type": "markdown",
   "metadata": {},
   "source": [
    "* **Подитожим:** *График активности пользователей в осенний период имеет восходящий тренд, а, следовательно, и увеличение общего числа заказов и среднее количество заказов на одного пользователя, что непосредственно связанно со средней стоимостью билета - чем ниже цена, тем больше заказов. Отметим, что в первые числа каждого осеннего месяца наблюдается резкое падение цен, что на графиках с заказами отражается как резкий рост. Возможно, это связанно с проведением каких-либо акций или мероприятий со специальными скидками на цены. Анализ показателей активности в недельной цикличности фиксирует, что в будни активность пользователей выше, а средняя цена билета, незначительно, но ниже, что вполне понятно.*"
   ]
  },
  {
   "cell_type": "markdown",
   "metadata": {},
   "source": [
    "### Исследование зависимости популярности событий от регионов и партнеров "
   ]
  },
  {
   "cell_type": "markdown",
   "metadata": {},
   "source": [
    "* **Для каждого региона посчитаем уникальное количество мероприятий и общее число заказов и определим, в каких регионах предлагается наибольшее разнообразие мероприятий.**"
   ]
  },
  {
   "cell_type": "code",
   "execution_count": 48,
   "metadata": {},
   "outputs": [
    {
     "data": {
      "text/html": [
       "<div>\n",
       "<style scoped>\n",
       "    .dataframe tbody tr th:only-of-type {\n",
       "        vertical-align: middle;\n",
       "    }\n",
       "\n",
       "    .dataframe tbody tr th {\n",
       "        vertical-align: top;\n",
       "    }\n",
       "\n",
       "    .dataframe thead th {\n",
       "        text-align: right;\n",
       "    }\n",
       "</style>\n",
       "<table border=\"1\" class=\"dataframe\">\n",
       "  <thead>\n",
       "    <tr style=\"text-align: right;\">\n",
       "      <th></th>\n",
       "      <th>unique_events</th>\n",
       "      <th>total_orders</th>\n",
       "      <th>events_share</th>\n",
       "      <th>orders_share</th>\n",
       "    </tr>\n",
       "    <tr>\n",
       "      <th>region_name</th>\n",
       "      <th></th>\n",
       "      <th></th>\n",
       "      <th></th>\n",
       "      <th></th>\n",
       "    </tr>\n",
       "  </thead>\n",
       "  <tbody>\n",
       "    <tr>\n",
       "      <th>каменевский регион</th>\n",
       "      <td>5935</td>\n",
       "      <td>89665</td>\n",
       "      <td>26.54</td>\n",
       "      <td>31.16</td>\n",
       "    </tr>\n",
       "    <tr>\n",
       "      <th>североярская область</th>\n",
       "      <td>3800</td>\n",
       "      <td>43739</td>\n",
       "      <td>17.00</td>\n",
       "      <td>15.20</td>\n",
       "    </tr>\n",
       "    <tr>\n",
       "      <th>широковская область</th>\n",
       "      <td>1232</td>\n",
       "      <td>16169</td>\n",
       "      <td>5.51</td>\n",
       "      <td>5.62</td>\n",
       "    </tr>\n",
       "    <tr>\n",
       "      <th>светополянский округ</th>\n",
       "      <td>1075</td>\n",
       "      <td>7502</td>\n",
       "      <td>4.81</td>\n",
       "      <td>2.61</td>\n",
       "    </tr>\n",
       "    <tr>\n",
       "      <th>речиновская область</th>\n",
       "      <td>702</td>\n",
       "      <td>6267</td>\n",
       "      <td>3.14</td>\n",
       "      <td>2.18</td>\n",
       "    </tr>\n",
       "    <tr>\n",
       "      <th>травяная область</th>\n",
       "      <td>683</td>\n",
       "      <td>5036</td>\n",
       "      <td>3.05</td>\n",
       "      <td>1.75</td>\n",
       "    </tr>\n",
       "    <tr>\n",
       "      <th>горицветская область</th>\n",
       "      <td>551</td>\n",
       "      <td>5153</td>\n",
       "      <td>2.46</td>\n",
       "      <td>1.79</td>\n",
       "    </tr>\n",
       "  </tbody>\n",
       "</table>\n",
       "</div>"
      ],
      "text/plain": [
       "                      unique_events  total_orders  events_share  orders_share\n",
       "region_name                                                                  \n",
       "каменевский регион             5935         89665         26.54         31.16\n",
       "североярская область           3800         43739         17.00         15.20\n",
       "широковская область            1232         16169          5.51          5.62\n",
       "светополянский округ           1075          7502          4.81          2.61\n",
       "речиновская область             702          6267          3.14          2.18\n",
       "травяная область                683          5036          3.05          1.75\n",
       "горицветская область            551          5153          2.46          1.79"
      ]
     },
     "metadata": {},
     "output_type": "display_data"
    }
   ],
   "source": [
    "# Проведем группировку количества мероприятий и заказов по регионам:\n",
    "region_stats = filtr_df.groupby('region_name').agg(\n",
    "    unique_events=('event_id', 'nunique'), # Уникальные мероприятия\n",
    "    total_orders=('order_id', 'count') # Общее число заказов\n",
    ").sort_values('unique_events', ascending=False)\n",
    "\n",
    "# Посчитаем относительные значения:\n",
    "region_stats['events_share'] = round((region_stats['unique_events'] / region_stats['unique_events'].sum()) * 100, 2)\n",
    "region_stats['orders_share'] = round((region_stats['total_orders'] / region_stats['total_orders'].sum()) * 100, 2)\n",
    "\n",
    "# Сохраним ТОП-7 регионов в отдельную переменную top7_regions и выведем их на экран:\n",
    "top7_regions = region_stats.head(7)\n",
    "display(top7_regions)"
   ]
  },
  {
   "cell_type": "code",
   "execution_count": 49,
   "metadata": {},
   "outputs": [
    {
     "data": {
      "image/png": "[encoded data removed]",
      "text/plain": [
       "<Figure size 1008x432 with 1 Axes>"
      ]
     },
     "metadata": {
      "needs_background": "light"
     },
     "output_type": "display_data"
    }
   ],
   "source": [
    "# Создадим график распределения самых популярных регионов по количеству уникальных мероприятий:\n",
    "plt.figure(figsize=(14, 6))\n",
    "sns.barplot(x=top7_regions.index, y='unique_events', data=top7_regions, palette='viridis')\n",
    "plt.title('ТОП-7 регионов по количеству уникальных мероприятий', pad=20, fontsize=15)\n",
    "plt.xlabel('Название региона')\n",
    "plt.ylabel('Число мероприятий')\n",
    "plt.xticks(rotation=0)\n",
    "plt.grid(axis='y')\n",
    "plt.show()"
   ]
  },
  {
   "cell_type": "markdown",
   "metadata": {},
   "source": [
    "*Видно, что по количеству мероприятий явные лидирующие позиции занимают два региона: Каменевский регион - 5935 уникальных событий за летне-осенний период и Североярская область - 3800. Значит, эти регионы приносят львинную долю выручки от продажи всех билетов.*"
   ]
  },
  {
   "cell_type": "markdown",
   "metadata": {},
   "source": [
    "* **Перейдем к анализу партнеров и определим ключевых партнеров по объему продаж и количеству мероприятий.**"
   ]
  },
  {
   "cell_type": "code",
   "execution_count": 50,
   "metadata": {},
   "outputs": [
    {
     "data": {
      "text/html": [
       "<div>\n",
       "<style scoped>\n",
       "    .dataframe tbody tr th:only-of-type {\n",
       "        vertical-align: middle;\n",
       "    }\n",
       "\n",
       "    .dataframe tbody tr th {\n",
       "        vertical-align: top;\n",
       "    }\n",
       "\n",
       "    .dataframe thead th {\n",
       "        text-align: right;\n",
       "    }\n",
       "</style>\n",
       "<table border=\"1\" class=\"dataframe\">\n",
       "  <thead>\n",
       "    <tr style=\"text-align: right;\">\n",
       "      <th></th>\n",
       "      <th>total_revenue</th>\n",
       "      <th>unique_events</th>\n",
       "      <th>total_orders</th>\n",
       "      <th>revenue_share</th>\n",
       "    </tr>\n",
       "    <tr>\n",
       "      <th>service_name</th>\n",
       "      <th></th>\n",
       "      <th></th>\n",
       "      <th></th>\n",
       "      <th></th>\n",
       "    </tr>\n",
       "  </thead>\n",
       "  <tbody>\n",
       "    <tr>\n",
       "      <th>мой билет</th>\n",
       "      <td>39390728.0</td>\n",
       "      <td>1300</td>\n",
       "      <td>34440</td>\n",
       "      <td>23.299999</td>\n",
       "    </tr>\n",
       "    <tr>\n",
       "      <th>билеты без проблем</th>\n",
       "      <td>26495642.0</td>\n",
       "      <td>4247</td>\n",
       "      <td>62858</td>\n",
       "      <td>15.670000</td>\n",
       "    </tr>\n",
       "    <tr>\n",
       "      <th>облачко</th>\n",
       "      <td>18588614.0</td>\n",
       "      <td>2335</td>\n",
       "      <td>26402</td>\n",
       "      <td>10.990000</td>\n",
       "    </tr>\n",
       "    <tr>\n",
       "      <th>лови билет!</th>\n",
       "      <td>16675475.0</td>\n",
       "      <td>4867</td>\n",
       "      <td>40802</td>\n",
       "      <td>9.860000</td>\n",
       "    </tr>\n",
       "    <tr>\n",
       "      <th>весь в билетах</th>\n",
       "      <td>16533231.0</td>\n",
       "      <td>855</td>\n",
       "      <td>16425</td>\n",
       "      <td>9.780000</td>\n",
       "    </tr>\n",
       "    <tr>\n",
       "      <th>билеты в руки</th>\n",
       "      <td>13194330.0</td>\n",
       "      <td>3530</td>\n",
       "      <td>40281</td>\n",
       "      <td>7.800000</td>\n",
       "    </tr>\n",
       "    <tr>\n",
       "      <th>край билетов</th>\n",
       "      <td>6405689.0</td>\n",
       "      <td>252</td>\n",
       "      <td>6109</td>\n",
       "      <td>3.790000</td>\n",
       "    </tr>\n",
       "  </tbody>\n",
       "</table>\n",
       "</div>"
      ],
      "text/plain": [
       "                    total_revenue  unique_events  total_orders  revenue_share\n",
       "service_name                                                                 \n",
       "мой билет              39390728.0           1300         34440      23.299999\n",
       "билеты без проблем     26495642.0           4247         62858      15.670000\n",
       "облачко                18588614.0           2335         26402      10.990000\n",
       "лови билет!            16675475.0           4867         40802       9.860000\n",
       "весь в билетах         16533231.0            855         16425       9.780000\n",
       "билеты в руки          13194330.0           3530         40281       7.800000\n",
       "край билетов            6405689.0            252          6109       3.790000"
      ]
     },
     "metadata": {},
     "output_type": "display_data"
    }
   ],
   "source": [
    "# Сгруппируем агрегированные данные по билетным операторам (партнерам):\n",
    "partner_stats = filtr_df.groupby('service_name').agg(\n",
    "    total_revenue=('revenue', 'sum'), # Общая выручка\n",
    "    unique_events=('event_id', 'nunique'), # Уникальные мероприятия \n",
    "    total_orders=('order_id', 'count') # Общее число заказов\n",
    ").sort_values('total_revenue', ascending=False)\n",
    "\n",
    "# Добавим долю выручки:\n",
    "partner_stats['revenue_share'] = round((partner_stats['total_revenue'] / \n",
    "                                        partner_stats['total_revenue'].sum()) * 100, 2)\n",
    "# Сохраним ТОП-7 партнеров в отдельную переменную top7_partner и выведем их на экран:\n",
    "top7_partner = partner_stats.head(7)\n",
    "display(top7_partner)\n"
   ]
  },
  {
   "cell_type": "code",
   "execution_count": 51,
   "metadata": {},
   "outputs": [
    {
     "data": {
      "image/png": "[encoded data removed]",
      "text/plain": [
       "<Figure size 1296x576 with 2 Axes>"
      ]
     },
     "metadata": {
      "needs_background": "light"
     },
     "output_type": "display_data"
    }
   ],
   "source": [
    "# Зададим параметры визуализации:\n",
    "fig, axes = plt.subplots(1, 2, figsize=(18, 8))\n",
    "\n",
    "# График 1: Партнеры с максимальной выручкой:\n",
    "sns.barplot(x=top7_partner.index, y='total_revenue', data=top7_partner, ax=axes[0], palette='rocket')\n",
    "axes[0].set_title('ТОП-7 партнеров по суммарной выручке', pad=20, fontsize=15)\n",
    "axes[0].set_xlabel('Партнеры')\n",
    "axes[0].set_ylabel('Выручка, руб.')\n",
    "axes[0].tick_params(axis='x', rotation=90)\n",
    "axes[0].grid(axis='y')\n",
    "\n",
    "# График 2: По максимальному количеству мероприятий:\n",
    "sns.barplot(x=top7_partner.sort_values('unique_events', ascending=False).index, y='unique_events', \n",
    "            data=top7_partner.sort_values('unique_events', ascending=False), ax=axes[1], palette='mako')\n",
    "axes[1].set_title('ТОП-7 партнеров по количеству уникальных мероприятий', pad=20, fontsize=15)\n",
    "axes[1].set_xlabel('Партнеры')\n",
    "axes[1].set_ylabel('Количество мероприятий')\n",
    "axes[1].tick_params(axis='x', rotation=90)\n",
    "axes[1].grid(axis='y')\n",
    "\n",
    "plt.tight_layout()\n",
    "plt.show()"
   ]
  },
  {
   "cell_type": "markdown",
   "metadata": {},
   "source": [
    "*По полученным результатам видно, что максимальные суммы выручки за исследуемый период принесли следующие билетные опреаторы: \"мой билет\" - 39,4 млн.руб. и \"билеты без проблем\" - 26,5 млн.руб.. А по наибольшему числу уникальных событий лидируют: \"лови билет!\" - 4867 заказов и \"билеты без проблем\" - 4247. Билетный партнер \"билеты без проблем\" уверенно лидирует на втором месте по двум позициям!*"
   ]
  },
  {
   "cell_type": "markdown",
   "metadata": {},
   "source": [
    "* **Подитожим:** *Cудя по расчетным и графическим распределениям данных за летне-осенний период 2024, выделили ТОП-7 регионов (по числу уникальных мероприятий) и ТОП-7 билетных партнеров (по суммарной выручке). Лидерами среди регионов в данных позициях стали: Каменевский регион - 5935 уникальных событий и Североярская область - 3800. А среди билетных опреаторов можно выделить следующих (по выручке): \"мой билет\" - 39,4 млн.руб. и \"билеты без проблем\" - 26,5 млн.руб.; по наибольшему числу уникальных событий: \"лови билет!\" - 4867 заказов и \"билеты без проблем\" - 4247. Отметим, что билетный партнер \"билеты без проблем\" уверенно занимает второе месте по двум позициям! Можно предположить, что лидирующие билетные операторы расположены в регионах, входящих в ТОП-7.*"
   ]
  },
  {
   "cell_type": "markdown",
   "metadata": {},
   "source": [
    "##  Статистический анализ данных"
   ]
  },
  {
   "cell_type": "markdown",
   "metadata": {},
   "source": [
    "* **В данном разделе проведем отдельную проверку двух гипотез, которые предполагают большую активность пользователей мобильных устройств. В работе будем использовать датафрейм `autumn`, содержащий данные за осенний период.**"
   ]
  },
  {
   "cell_type": "markdown",
   "metadata": {},
   "source": [
    "### Гипотеза 1: Среднее количество заказов на одного пользователя мобильного приложения выше по сравнению с пользователями стационарных устройств.\n",
    "\n",
    "Попробуем статистически это доказать, используя одностороннюю проверку гипотезы с двумя выборками:\n",
    "\n",
    "- **Нулевая гипотеза H₀:** Среднее количество заказов на пользователя для мобильных устройств не выше, чем для стационарных.\n",
    "\n",
    "- **Альтернативная гипотеза H₁:** Среднее количество заказов на пользователя выше для мобильных устройств и это различие статистически значимо."
   ]
  },
  {
   "cell_type": "code",
   "execution_count": 52,
   "metadata": {},
   "outputs": [
    {
     "name": "stdout",
     "output_type": "stream",
     "text": [
      "Мобильные устройства: n=14192, mean=9.47\n",
      "Стационарные устройства: n=4868, mean=7.05\n"
     ]
    }
   ],
   "source": [
    "# Разделим \"осенних\" пользователей c заказами по типам устройств:\n",
    "mobile_orders = autumn[autumn['device_type_canonical'] == 'mobile'].groupby('user_id')['order_id'].count()\n",
    "desktop_orders = autumn[autumn['device_type_canonical'] == 'desktop'].groupby('user_id')['order_id'].count()\n",
    "\n",
    "# Выведем результат сравнения групп (размер выборок и среднее количесвто заказов на пользователя):\n",
    "print(f'Мобильные устройства: n={len(mobile_orders)}, mean={mobile_orders.mean():.2f}')\n",
    "print(f'Стационарные устройства: n={len(desktop_orders)}, mean={desktop_orders.mean():.2f}')"
   ]
  },
  {
   "cell_type": "markdown",
   "metadata": {},
   "source": [
    "*В данном случае, вероятней всего, будем применять t-тест Уэлча, т.к. в нашем случае проводится анализ средник пользовательских метрик, и размеры выборок существенно отличаются друг от друга - группа 'mobile_orders' в три раза больше 'desktop_orders'. Проверим условия для выполнения выбранного теста:*\n",
    "\n",
    "- *выборки должны быть независимы;*\n",
    "- *независимость от равенства выборочных дисперсий.*"
   ]
  },
  {
   "cell_type": "markdown",
   "metadata": {},
   "source": [
    "**Проверка независимости значений в выборках (отсутствие пересечений).**"
   ]
  },
  {
   "cell_type": "code",
   "execution_count": 53,
   "metadata": {},
   "outputs": [
    {
     "name": "stdout",
     "output_type": "stream",
     "text": [
      "Общих пользователей: 3249\n"
     ]
    }
   ],
   "source": [
    "# Проверка на пересечение поьзователей: \n",
    "common_users = set(mobile_orders.index) & set(desktop_orders.index)\n",
    "print(f'Общих пользователей: {len(common_users)}')"
   ]
  },
  {
   "cell_type": "code",
   "execution_count": 54,
   "metadata": {},
   "outputs": [
    {
     "data": {
      "image/png": "[encoded data removed]",
      "text/plain": [
       "<Figure size 864x360 with 1 Axes>"
      ]
     },
     "metadata": {},
     "output_type": "display_data"
    }
   ],
   "source": [
    "# Подтвердим пересечение визуально с помощью диаграммы Венна:\n",
    "plt.figure(figsize=(12, 5))\n",
    "venn2([set(desktop_orders.index), set(mobile_orders.index)], ('Стационарные устр-ва', 'Мобильные устр-ва'))\n",
    "plt.title('Пересечение пользователей между группами', fontsize=14)\n",
    "plt.show()"
   ]
  },
  {
   "cell_type": "markdown",
   "metadata": {},
   "source": [
    "*По полученным результатам видно, что есть 3429 пользователей, которые попали в обе выборки. Естественно, это нарушение проведения независимости тестов, результаты которых будут статистически некорректными. Удаленим таких пользователей из группы 'mobile_orders', оставив в группе 'desktop_orders', где количество наблюдений меньше.*"
   ]
  },
  {
   "cell_type": "code",
   "execution_count": 55,
   "metadata": {},
   "outputs": [
    {
     "name": "stdout",
     "output_type": "stream",
     "text": [
      "Мобильные устройства (очищенные данные): n=10943, mean=2.86\n",
      "Стационарные устройства: n=4868, mean=7.05\n"
     ]
    }
   ],
   "source": [
    "# Очистим группу пользователей с мобильными устройствами от пересечений:\n",
    "clean_mobile = autumn[(autumn['device_type_canonical'] == 'mobile') & (~autumn['user_id'].isin(common_users))]\n",
    "\n",
    "# Проведем агрегацию и выведем размер очищенной выборки и среднее выборочное:\n",
    "clean_mobile_orders = clean_mobile.groupby('user_id')['order_id'].count()\n",
    "print(f'Мобильные устройства (очищенные данные): n={len(clean_mobile_orders)}, mean={clean_mobile_orders.mean():.2f}')\n",
    "print(f'Стационарные устройства: n={len(desktop_orders)}, mean={desktop_orders.mean():.2f}')"
   ]
  },
  {
   "cell_type": "markdown",
   "metadata": {},
   "source": [
    "**Проверка равенства дисперсий.**"
   ]
  },
  {
   "cell_type": "code",
   "execution_count": 56,
   "metadata": {},
   "outputs": [
    {
     "name": "stdout",
     "output_type": "stream",
     "text": [
      "Тест Леване: p-value = 0.0000 Отвергаем Н0 (дисперсии разные)\n"
     ]
    }
   ],
   "source": [
    "# Проверим равенство выборочных дисперсий перед проведением t-теста с помощью теста Леване.\n",
    "# Сформулируем гипотезы:\n",
    "# - Н0: Дисперсии сравниваемых групп равны;\n",
    "# - Н1: Дисперсии сравниваемых групп не равны.\n",
    "\n",
    "alpha = 0.05\n",
    "\n",
    "levene_test = stats.levene(clean_mobile_orders, desktop_orders)\n",
    "print(f'Тест Леване: p-value = {levene_test.pvalue:.4f}', \n",
    "      'Нельзя отвергнуть Н0 (дисперсии равны)' if levene_test.pvalue > alpha else 'Отвергаем Н0 (дисперсии разные)')"
   ]
  },
  {
   "cell_type": "markdown",
   "metadata": {},
   "source": [
    "**Условия проверены - применяем односторонний t-тест Уэлча.**"
   ]
  },
  {
   "cell_type": "code",
   "execution_count": 57,
   "metadata": {},
   "outputs": [
    {
     "name": "stdout",
     "output_type": "stream",
     "text": [
      "\n",
      "Результат t-теста Уэлча:\n",
      "t-статистика = -8.097\n",
      "p-value = 1.000\n"
     ]
    }
   ],
   "source": [
    "# Односторонний тест (alternative='greater'):\n",
    "welch_result = stats.ttest_ind(clean_mobile_orders, desktop_orders, \n",
    "                              equal_var=False,  # Используем тест Уэлча\n",
    "                              alternative='greater')\n",
    "\n",
    "print(f\"\\nРезультат t-теста Уэлча:\")\n",
    "print(f\"t-статистика = {welch_result.statistic:.3f}\")\n",
    "print(f\"p-value = {welch_result.pvalue:.3f}\")"
   ]
  },
  {
   "cell_type": "code",
   "execution_count": 58,
   "metadata": {},
   "outputs": [
    {
     "name": "stdout",
     "output_type": "stream",
     "text": [
      "\n",
      "При p=1.000 недостаточно оснований отвергнуть H₀.\n"
     ]
    }
   ],
   "source": [
    "# Интерпретируем результаты:\n",
    "alpha = 0.05\n",
    "\n",
    "if welch_result.pvalue < alpha:\n",
    "    print(f\"\\nПри p={welch_result.pvalue:.3f} отвергаем H₀. Мобильные пользователи совершают достоверно больше заказов.\")\n",
    "else:\n",
    "    print(f\"\\nПри p={welch_result.pvalue:.3f} недостаточно оснований отвергнуть H₀.\")"
   ]
  },
  {
   "cell_type": "markdown",
   "metadata": {},
   "source": [
    "### Гипотеза 2: Среднее время между заказами пользователей мобильных приложений выше по сравнению с пользователями стационарных устройств.\n",
    "\n",
    "\n",
    "Так же проведем одностороннюю проверку гипотезы:\n",
    "\n",
    "- **Нулевая гипотеза H₀:** Среднее время между заказами у \"мобильных\" пользователей не больше, чем у \"стационарных\".\n",
    "\n",
    "- **Альтернативная гипотеза H₁:** Среднее время между заказами у \"мобильных\" пользователей значимо больше."
   ]
  },
  {
   "cell_type": "code",
   "execution_count": 59,
   "metadata": {},
   "outputs": [
    {
     "name": "stdout",
     "output_type": "stream",
     "text": [
      "Мобильные: n=120136, mean=1.6 дней\n",
      "Десктоп: n=29435, mean=1.8 дней\n"
     ]
    }
   ],
   "source": [
    "# Создадим функцию, которая рассчитает время между заказами для каждого пользователя (в днях):\n",
    "def calc_time_diff(autumn):\n",
    "    return (\n",
    "        autumn.sort_values('created_dt_msk')\n",
    "        .groupby('user_id')['created_dt_msk']\n",
    "        .diff()  # Разница между заказами\n",
    "        .dt.days  # Преобразуем в дни\n",
    "        .dropna()  # Удаляем NaN (первые заказы)\n",
    "    )\n",
    "\n",
    "# Фильтруем данные по устройствам:\n",
    "mobile_time_diff = calc_time_diff(autumn[autumn['device_type_canonical'] == 'mobile'])\n",
    "desktop_time_diff = calc_time_diff(autumn[autumn['device_type_canonical'] == 'desktop'])\n",
    "\n",
    "print(f\"Мобильные: n={len(mobile_time_diff)}, mean={mobile_time_diff.mean():.1f} дней\")\n",
    "print(f\"Десктоп: n={len(desktop_time_diff)}, mean={desktop_time_diff.mean():.1f} дней\")"
   ]
  },
  {
   "cell_type": "markdown",
   "metadata": {},
   "source": [
    "Перед выбором статистического теста необходимо проверить следующие условия:\n",
    "\n",
    "- убедиться в независимости выборок (проведено ранее);\n",
    "- проверить нормальность распределения (параметрический или непараметрический тест);\n",
    "- оценить размер выборок и дисперсию."
   ]
  },
  {
   "cell_type": "markdown",
   "metadata": {},
   "source": [
    "**Проверим нормальность распределения данных.**"
   ]
  },
  {
   "cell_type": "code",
   "execution_count": 60,
   "metadata": {},
   "outputs": [
    {
     "name": "stdout",
     "output_type": "stream",
     "text": [
      "Нормальность мобильных данных: p-value = 0.00000\n",
      "Нормальность десктопных данных: p-value = 0.00000\n",
      "Данные не нормальны → U-тест Манна-Уитни. Оснований для подтверждения Н0 нет.\n"
     ]
    }
   ],
   "source": [
    "# Проверим, соответствуют ли выборки нормальному распределению. Для этого выполним тест Шапиро-Уилка. \n",
    "# Cформулируем гипотезы:\n",
    "# - Н0: данные подчиняются нормальному распределению;\n",
    "# - Н1: данные не подчиняются нормальному рапределению.\n",
    "\n",
    "shapiro_mobile = stats.shapiro(mobile_time_diff)\n",
    "shapiro_desktop = stats.shapiro(desktop_time_diff)\n",
    "\n",
    "print(f\"Нормальность мобильных данных: p-value = {shapiro_mobile.pvalue:.5f}\")\n",
    "print(f\"Нормальность десктопных данных: p-value = {shapiro_desktop.pvalue:.5f}\")\n",
    "\n",
    "alpha = 0.05\n",
    "if shapiro_mobile.pvalue > alpha and shapiro_desktop.pvalue > alpha:\n",
    "    print(\"Данные нормальны → t-тест. Н0 подтверждается.\")\n",
    "else:\n",
    "    print(\"Данные не нормальны → U-тест Манна-Уитни. Оснований для подтверждения Н0 нет.\")"
   ]
  },
  {
   "cell_type": "code",
   "execution_count": 61,
   "metadata": {},
   "outputs": [
    {
     "data": {
      "image/png": "[encoded data removed]",
      "text/plain": [
       "<Figure size 1152x576 with 1 Axes>"
      ]
     },
     "metadata": {
      "needs_background": "light"
     },
     "output_type": "display_data"
    }
   ],
   "source": [
    "# Визуализируем распределение временного интервала между заказами по устройствам:\n",
    "plt.figure(figsize=(16, 8))\n",
    "sns.histplot(mobile_time_diff, bins=30, kde=True, color='blue', label='Мобильные')\n",
    "sns.histplot(desktop_time_diff, bins=30, kde=True, color='orange', label='Десктоп', alpha=0.7)\n",
    "plt.title('Распределение времени между заказами', pad=20, fontsize=15)\n",
    "plt.xlabel('Время между заказами (дни)')\n",
    "plt.ylabel('Частота заказов')\n",
    "plt.legend()\n",
    "plt.show()\n"
   ]
  },
  {
   "cell_type": "markdown",
   "metadata": {},
   "source": [
    "*Исходя из проверки условий приминения статистического теста, для проверки гипотезы подойдет тест Манна-Уитни, т.к. он не зависит от нормальности данных и устойчив к выбросам, которые наблюдаются в количестве дней на гистограмме.*"
   ]
  },
  {
   "cell_type": "code",
   "execution_count": 62,
   "metadata": {},
   "outputs": [
    {
     "name": "stdout",
     "output_type": "stream",
     "text": [
      "\n",
      "Результат U-теста Манна-Уитни:\n",
      "U-статистика = 1756854651 - различия между значениями в группах несущественны, p-value = 0.983\n",
      "Нет оснований отвергнуть нулевую гипотезу: различий нет или они не значимы.\n"
     ]
    }
   ],
   "source": [
    "# Проведем двухвыборочный t-тест Манна-Уитни (односторонний: Mobile > Desktop):\n",
    "stat, p_value = stats.mannwhitneyu(\n",
    "    mobile_time_diff, \n",
    "    desktop_time_diff, \n",
    "    alternative='greater'  \n",
    ")\n",
    "print('\\nРезультат U-теста Манна-Уитни:')\n",
    "print(f'U-статистика = {stat:.0f} - различия между значениями в группах несущественны, p-value = {p_value:.3f}')\n",
    "\n",
    "# Выведем результат:\n",
    "if p_value < alpha:\n",
    "    print('Отвергаем нулевую гипотезу: пользователи Санкт-Петербурга значимо больше времени проводят в приложении.')\n",
    "else:\n",
    "    print('Нет оснований отвергнуть нулевую гипотезу: различий нет или они не значимы.')"
   ]
  },
  {
   "cell_type": "markdown",
   "metadata": {},
   "source": [
    "* **Подитожим:** *Результаты проведенных статистических тестов для проверки предложенных гипотез подтверждают, что нет значимых оснований отвергать нулевые гипотезы о том, что среднее количество заказов и среднее время между ними пользователей мобильных устройств не превышают показатели для пользователей  стационарных устройств. Альтернативные гипотезы не подтвердились.*    "
   ]
  },
  {
   "cell_type": "markdown",
   "metadata": {},
   "source": [
    "##  Общий вывод и рекомендации"
   ]
  },
  {
   "cell_type": "markdown",
   "metadata": {},
   "source": [
    "* **Изложим информацию о данных, которые были использованы в проекте:**\n",
    "\n",
    "\n",
    "Для проведения исследовательского анализа были предоставлены следующие файлы: `final_tickets_orders_df.csv`,\n",
    "`final_tickets_events_df.csv` и `final_tickets_tenge_df.csv`, которые и были задействованы в работе. С данными этих датасетов был проведен большой объем работы относительно предварительной предобработки данных, а именно:\n",
    "\n",
    "\n",
    "* объединение всех датасетов в единный датафрейм `total_df`;\n",
    "* процесс оптимизации размерности данных и их преобразование;\n",
    "* выявление и дальнейшая работа с явными и неявными дубликатами и пропусками;\n",
    "* добавление в датафрейм дополнительных столбцов, необходимых по условию задачи: `revenue_rub`, `one_ticket_revenue_rub`, `month` и `season`;\n",
    "* изучение распределения данных и наличия выбросов по выручке и количеству билетов в заказах в разрезе каждой валюты;\n",
    "* объединение отфильтрованных данных в единый датафрейм `filtr_df`, содержащий 287752 строки и 32 столбца.\n",
    "\n",
    "\n",
    "* **Рассмотрим основные результаты исследовательского анализа данных:**\n",
    "\n",
    "\n",
    "1. С наступлением осени активность пользователей явно повышается. Резко возрастает популярность на спортивные мероприятия и стендапы (практчески в два раз!), а также мероприятия категории \"Елки\", хотя летом больше популярны концерты, театры и выставки (незначительно). В возрастной категории - летом наиболее популярны мероприятия с возрастными ограничениями особенно 18+, 16+ и 6+ (незначительно), а в осенний период - набирают популярность мероприятия с возрастным ограничением 12+ и О. Хотя значение средней выручки от продажи билетов в летне-осенний период на спортивные мероприятия практически неизменно. Осенью средний чек выше от продажи билетов на стендапы и выставки, а летом - от продажи билетов на концерты, мероприятия категории \"Елки\" и в театры. Что кассается изменения стоимости билета в осенний период по сравнению с летним, то цены на билеты увеличиваются, примерно, на 5% на посещение выставок и стендапов, значительное снижение цен осенью наблюдается на билеты концертов (около 35%). Так же чуть более 15% цены осенью снижаются на театры и елки. Стоимости билетов на спортивные мероприятия и категории \"Другое\" практически постоянны (снижение цены осенью не более, чем на 3%). Кроме того, стоит отметить, что летом пользователи предпочитают совершать заказы через мобильные устройства, а осенью - с помощью стационарных. Значит, летом они больше предпочитают находится на улице. \n",
    "\n",
    "\n",
    "2. Анализ осенней активности пользователей показывает, что с ростом числа активных пользователей  увеличивается и  общее число заказов и среднее количество заказов на одного пользователя, что непосредственно связанно со средней стоимостью билета - чем ниже цена, тем больше заказов. Также обратим внимание, что в первые числа каждого осеннего месяца наблюдается резкое падение цен, что на графиках с заказами отражается как резкий рост. Возможно, это связанно с проведением каких-либо акций или мероприятий со специальными скидками на цены. Анализ показателей активности в недельной цикличности фиксирует, что в будни активность пользователей выше, так как средняя цена билета, незначительно, но ниже.\n",
    "\n",
    "\n",
    "3. Был определен список ТОП-7 регионов (по числу заказов) и партнеров (по выручке). За летне-осенний период 2024 по числу заказов самымми значимыми регионами стали: Каменевский регион - 5935 уникальных событий и Североярская область - 3800. Среди билетных операторов по суммарной выручке лидируют такие, как \"мой билет\" - 39,4 млн.руб. и \"билеты без проблем\" - 26,5 млн.руб., а по наибольшему числу уникальных событий: \"лови билет!\" - 4867 заказов и \"билеты без проблем\" - 4247. Отметим, что билетный партнер \"билеты без проблем\" уверенно занимает второе месте по двум позициям! Можно предположить, что лидирующие билетные операторы (ТОП-7) расположены в регионах, входящих в список ТОП-7.\n",
    "\n",
    "\n",
    "* **Прокомментируем результаты проверки гипотез:**\n",
    "\n",
    "Важным моментом в ходе выполнения данного проекта стало проведение статистического анализа данных, а именно: проверка двух отдельных гипотез: \n",
    "\n",
    "- среднее количество заказов на одного пользователя мобильного приложения выше по сравнению с пользователями стационарных устройств;\n",
    "- среднее время между заказами пользователей мобильных приложений выше по сравнению с пользователями стационарных устройств.\n",
    "\n",
    "Проверка первой гипотезы о среднем количестве заказов с помощью t-теста Уэлча не подтвердила альтернативную гипотезу, что на одного пользователя мобильного приложения приходится больше заказов по сравнению с пользователями стационарных устройств.\n",
    "\n",
    "Используя статистический тест Манна-Уитни, проверка второй гипотезы о среднем времени между заказами также не нашла подтверждения альтернативной гипотезы, что для пользователей мобильных приложений среднее время между заказами выше по сравнению с пользователями стационарных устройств.\n",
    "\n",
    "Значит тип устройства, которым пользуются потенциальные покупатели, не влияет ни на количество заказов, ни на интервал времени между ними.\n",
    "\n",
    "* **В качестве рекомендаций:** \n",
    "\n",
    "На основании вышеизложенного можно предположить, что основное внимание нужно обратить на взаимосвязь между регионами из ТОП-7, типами мероприятий и выручкой, а также уникальным количеством пользователей, стоимостью билетов, преобладающей возрастной категорией и сезонностью проводимых мероприятий. Также стоит проанализировать действия билетных партнеров ТОП-7 и, возможно, выявить какие-то особенные факты в работе этих операторов, влияющие на высокие показатели количества заказов и выручки от проданных билетов. То есть, на начальном этапе важен анализ событий - концерты (особенно!) и театры в летний период, стендапы и спортивные мероприятия, хотя они не приносят много выручки, осенью (их количество, стоимость билетов, проводимые акции, возрастные ограничения), проводимых в Каменевском регионе и Североярской области, с учетом продажи билетов через партнеров \"мой билет\" и \"билеты без проблем\"."
   ]
  }
 ],
 "metadata": {
  "ExecuteTimeLog": [
   {
    "duration": 97,
    "start_time": "2025-07-13T23:24:21.511Z"
   },
   {
    "duration": 114,
    "start_time": "2025-07-13T23:24:37.899Z"
   },
   {
    "duration": 82,
    "start_time": "2025-07-14T13:47:48.248Z"
   },
   {
    "duration": 12520,
    "start_time": "2025-07-14T13:47:55.370Z"
   },
   {
    "duration": 1710,
    "start_time": "2025-07-14T13:48:07.892Z"
   },
   {
    "duration": 133,
    "start_time": "2025-07-14T13:50:23.205Z"
   },
   {
    "duration": 1838,
    "start_time": "2025-07-14T13:52:27.210Z"
   },
   {
    "duration": 143,
    "start_time": "2025-07-14T13:52:35.665Z"
   },
   {
    "duration": 120,
    "start_time": "2025-07-14T14:37:05.586Z"
   },
   {
    "duration": 119,
    "start_time": "2025-07-14T14:47:43.570Z"
   },
   {
    "duration": 4053,
    "start_time": "2025-07-14T14:47:49.578Z"
   },
   {
    "duration": 3,
    "start_time": "2025-07-14T14:47:53.634Z"
   },
   {
    "duration": 1821,
    "start_time": "2025-07-14T14:47:53.639Z"
   },
   {
    "duration": 153,
    "start_time": "2025-07-14T14:47:55.462Z"
   },
   {
    "duration": 149,
    "start_time": "2025-07-14T14:49:15.874Z"
   },
   {
    "duration": 4085,
    "start_time": "2025-07-14T14:49:51.412Z"
   },
   {
    "duration": 3,
    "start_time": "2025-07-14T14:49:55.500Z"
   },
   {
    "duration": 2607,
    "start_time": "2025-07-14T14:49:55.504Z"
   },
   {
    "duration": 140,
    "start_time": "2025-07-14T14:49:58.113Z"
   },
   {
    "duration": 91,
    "start_time": "2025-07-14T14:49:58.255Z"
   },
   {
    "duration": 364,
    "start_time": "2025-07-14T14:50:09.808Z"
   },
   {
    "duration": 29,
    "start_time": "2025-07-14T14:51:05.260Z"
   },
   {
    "duration": 1897,
    "start_time": "2025-07-14T15:21:46.446Z"
   },
   {
    "duration": 3,
    "start_time": "2025-07-14T15:23:03.214Z"
   },
   {
    "duration": 38,
    "start_time": "2025-07-14T15:34:53.769Z"
   },
   {
    "duration": 11,
    "start_time": "2025-07-14T15:35:40.902Z"
   },
   {
    "duration": 150,
    "start_time": "2025-07-14T15:50:01.414Z"
   },
   {
    "duration": 19,
    "start_time": "2025-07-14T16:22:03.686Z"
   },
   {
    "duration": 11,
    "start_time": "2025-07-14T16:37:03.610Z"
   },
   {
    "duration": 4215,
    "start_time": "2025-07-14T16:54:10.891Z"
   },
   {
    "duration": 3,
    "start_time": "2025-07-14T16:54:15.109Z"
   },
   {
    "duration": 1804,
    "start_time": "2025-07-14T16:54:15.115Z"
   },
   {
    "duration": 138,
    "start_time": "2025-07-14T16:54:16.921Z"
   },
   {
    "duration": 269,
    "start_time": "2025-07-14T16:54:17.063Z"
   },
   {
    "duration": 19,
    "start_time": "2025-07-14T16:54:17.334Z"
   },
   {
    "duration": 48,
    "start_time": "2025-07-14T16:54:17.356Z"
   },
   {
    "duration": 11,
    "start_time": "2025-07-14T16:54:17.405Z"
   },
   {
    "duration": 121,
    "start_time": "2025-07-14T16:55:44.805Z"
   },
   {
    "duration": 14,
    "start_time": "2025-07-14T16:55:56.406Z"
   },
   {
    "duration": 17,
    "start_time": "2025-07-14T16:56:18.446Z"
   },
   {
    "duration": 1092,
    "start_time": "2025-07-14T17:18:58.518Z"
   },
   {
    "duration": 4258,
    "start_time": "2025-07-14T17:24:35.603Z"
   },
   {
    "duration": 18,
    "start_time": "2025-07-14T17:24:39.871Z"
   },
   {
    "duration": 1722,
    "start_time": "2025-07-14T17:24:39.891Z"
   },
   {
    "duration": 144,
    "start_time": "2025-07-14T17:24:41.615Z"
   },
   {
    "duration": 252,
    "start_time": "2025-07-14T17:24:41.773Z"
   },
   {
    "duration": 38,
    "start_time": "2025-07-14T17:24:42.028Z"
   },
   {
    "duration": 35,
    "start_time": "2025-07-14T17:24:42.073Z"
   },
   {
    "duration": 12,
    "start_time": "2025-07-14T17:24:42.110Z"
   },
   {
    "duration": 1145,
    "start_time": "2025-07-14T17:24:42.123Z"
   },
   {
    "duration": 150,
    "start_time": "2025-07-14T17:24:43.273Z"
   },
   {
    "duration": 0,
    "start_time": "2025-07-14T17:24:43.425Z"
   },
   {
    "duration": 719,
    "start_time": "2025-07-14T17:26:23.101Z"
   },
   {
    "duration": 2998,
    "start_time": "2025-07-14T17:29:48.088Z"
   },
   {
    "duration": 3,
    "start_time": "2025-07-14T17:29:53.281Z"
   },
   {
    "duration": 1811,
    "start_time": "2025-07-14T17:29:53.542Z"
   },
   {
    "duration": 137,
    "start_time": "2025-07-14T17:29:55.356Z"
   },
   {
    "duration": 246,
    "start_time": "2025-07-14T17:29:55.495Z"
   },
   {
    "duration": 28,
    "start_time": "2025-07-14T17:29:55.744Z"
   },
   {
    "duration": 35,
    "start_time": "2025-07-14T17:29:55.774Z"
   },
   {
    "duration": 11,
    "start_time": "2025-07-14T17:29:55.812Z"
   },
   {
    "duration": 474,
    "start_time": "2025-07-14T17:29:55.825Z"
   },
   {
    "duration": 283,
    "start_time": "2025-07-14T17:29:56.301Z"
   },
   {
    "duration": 4094,
    "start_time": "2025-07-14T17:39:46.982Z"
   },
   {
    "duration": 3,
    "start_time": "2025-07-14T17:39:51.078Z"
   },
   {
    "duration": 3651,
    "start_time": "2025-07-14T17:39:51.082Z"
   },
   {
    "duration": 128,
    "start_time": "2025-07-14T17:39:54.735Z"
   },
   {
    "duration": 288,
    "start_time": "2025-07-14T17:39:54.866Z"
   },
   {
    "duration": 35,
    "start_time": "2025-07-14T17:39:55.156Z"
   },
   {
    "duration": 174,
    "start_time": "2025-07-14T17:39:55.194Z"
   },
   {
    "duration": 12,
    "start_time": "2025-07-14T17:39:55.371Z"
   },
   {
    "duration": 593,
    "start_time": "2025-07-14T17:39:55.384Z"
   },
   {
    "duration": 245,
    "start_time": "2025-07-14T17:39:55.979Z"
   },
   {
    "duration": 6,
    "start_time": "2025-07-14T17:39:56.226Z"
   },
   {
    "duration": 279,
    "start_time": "2025-07-14T17:43:49.472Z"
   },
   {
    "duration": 47,
    "start_time": "2025-07-14T20:35:10.317Z"
   },
   {
    "duration": 9495,
    "start_time": "2025-07-14T20:35:22.943Z"
   },
   {
    "duration": 3,
    "start_time": "2025-07-14T20:35:32.440Z"
   },
   {
    "duration": 1727,
    "start_time": "2025-07-14T20:35:32.445Z"
   },
   {
    "duration": 110,
    "start_time": "2025-07-14T20:35:34.174Z"
   },
   {
    "duration": 345,
    "start_time": "2025-07-14T20:35:34.287Z"
   },
   {
    "duration": 17,
    "start_time": "2025-07-14T20:35:34.634Z"
   },
   {
    "duration": 79,
    "start_time": "2025-07-14T20:35:34.652Z"
   },
   {
    "duration": 9,
    "start_time": "2025-07-14T20:35:34.733Z"
   },
   {
    "duration": 523,
    "start_time": "2025-07-14T20:35:34.744Z"
   },
   {
    "duration": 203,
    "start_time": "2025-07-14T20:35:35.272Z"
   },
   {
    "duration": 3,
    "start_time": "2025-07-14T20:35:35.477Z"
   },
   {
    "duration": 269,
    "start_time": "2025-07-14T20:35:35.482Z"
   },
   {
    "duration": 23,
    "start_time": "2025-07-14T20:50:33.684Z"
   },
   {
    "duration": 287,
    "start_time": "2025-07-14T21:01:49.698Z"
   },
   {
    "duration": 23,
    "start_time": "2025-07-14T21:03:05.129Z"
   },
   {
    "duration": 236,
    "start_time": "2025-07-14T21:16:14.163Z"
   },
   {
    "duration": 358,
    "start_time": "2025-07-14T21:28:08.761Z"
   },
   {
    "duration": 3649,
    "start_time": "2025-07-14T21:40:04.841Z"
   },
   {
    "duration": 3,
    "start_time": "2025-07-14T21:40:08.491Z"
   },
   {
    "duration": 1562,
    "start_time": "2025-07-14T21:40:08.495Z"
   },
   {
    "duration": 102,
    "start_time": "2025-07-14T21:40:10.059Z"
   },
   {
    "duration": 312,
    "start_time": "2025-07-14T21:40:10.163Z"
   },
   {
    "duration": 19,
    "start_time": "2025-07-14T21:40:10.476Z"
   },
   {
    "duration": 232,
    "start_time": "2025-07-14T21:40:10.496Z"
   },
   {
    "duration": 10,
    "start_time": "2025-07-14T21:40:10.729Z"
   },
   {
    "duration": 445,
    "start_time": "2025-07-14T21:40:10.741Z"
   },
   {
    "duration": 199,
    "start_time": "2025-07-14T21:40:11.187Z"
   },
   {
    "duration": 235,
    "start_time": "2025-07-14T21:40:11.387Z"
   },
   {
    "duration": 23,
    "start_time": "2025-07-14T21:40:11.624Z"
   },
   {
    "duration": 352,
    "start_time": "2025-07-14T21:40:11.649Z"
   },
   {
    "duration": 241,
    "start_time": "2025-07-14T21:40:12.004Z"
   },
   {
    "duration": 199,
    "start_time": "2025-07-14T21:40:12.247Z"
   },
   {
    "duration": 2763,
    "start_time": "2025-07-14T22:09:15.821Z"
   },
   {
    "duration": 3373,
    "start_time": "2025-07-14T22:11:48.498Z"
   },
   {
    "duration": 776,
    "start_time": "2025-07-14T22:36:53.067Z"
   },
   {
    "duration": 3736,
    "start_time": "2025-07-14T22:37:15.273Z"
   },
   {
    "duration": 3,
    "start_time": "2025-07-14T22:37:19.011Z"
   },
   {
    "duration": 2057,
    "start_time": "2025-07-14T22:37:19.015Z"
   },
   {
    "duration": 110,
    "start_time": "2025-07-14T22:37:21.073Z"
   },
   {
    "duration": 316,
    "start_time": "2025-07-14T22:37:21.185Z"
   },
   {
    "duration": 18,
    "start_time": "2025-07-14T22:37:21.503Z"
   },
   {
    "duration": 76,
    "start_time": "2025-07-14T22:37:21.522Z"
   },
   {
    "duration": 12,
    "start_time": "2025-07-14T22:37:21.600Z"
   },
   {
    "duration": 460,
    "start_time": "2025-07-14T22:37:21.614Z"
   },
   {
    "duration": 230,
    "start_time": "2025-07-14T22:37:22.076Z"
   },
   {
    "duration": 254,
    "start_time": "2025-07-14T22:37:22.307Z"
   },
   {
    "duration": 25,
    "start_time": "2025-07-14T22:37:22.563Z"
   },
   {
    "duration": 381,
    "start_time": "2025-07-14T22:37:22.590Z"
   },
   {
    "duration": 241,
    "start_time": "2025-07-14T22:37:22.974Z"
   },
   {
    "duration": 209,
    "start_time": "2025-07-14T22:37:23.217Z"
   },
   {
    "duration": 3109,
    "start_time": "2025-07-14T22:37:23.428Z"
   },
   {
    "duration": 5,
    "start_time": "2025-07-14T22:37:26.539Z"
   },
   {
    "duration": 824,
    "start_time": "2025-07-14T22:37:26.546Z"
   },
   {
    "duration": 576,
    "start_time": "2025-07-14T22:41:14.576Z"
   },
   {
    "duration": 170,
    "start_time": "2025-07-14T22:44:02.138Z"
   },
   {
    "duration": 124,
    "start_time": "2025-07-14T22:48:16.820Z"
   },
   {
    "duration": 3614,
    "start_time": "2025-07-14T23:13:17.899Z"
   },
   {
    "duration": 3,
    "start_time": "2025-07-14T23:13:21.515Z"
   },
   {
    "duration": 1745,
    "start_time": "2025-07-14T23:13:21.519Z"
   },
   {
    "duration": 103,
    "start_time": "2025-07-14T23:13:23.271Z"
   },
   {
    "duration": 361,
    "start_time": "2025-07-14T23:13:23.376Z"
   },
   {
    "duration": 18,
    "start_time": "2025-07-14T23:13:23.739Z"
   },
   {
    "duration": 99,
    "start_time": "2025-07-14T23:13:23.759Z"
   },
   {
    "duration": 11,
    "start_time": "2025-07-14T23:13:23.860Z"
   },
   {
    "duration": 449,
    "start_time": "2025-07-14T23:13:23.873Z"
   },
   {
    "duration": 207,
    "start_time": "2025-07-14T23:13:24.325Z"
   },
   {
    "duration": 242,
    "start_time": "2025-07-14T23:13:24.534Z"
   },
   {
    "duration": 26,
    "start_time": "2025-07-14T23:13:24.778Z"
   },
   {
    "duration": 361,
    "start_time": "2025-07-14T23:13:24.806Z"
   },
   {
    "duration": 233,
    "start_time": "2025-07-14T23:13:25.172Z"
   },
   {
    "duration": 207,
    "start_time": "2025-07-14T23:13:25.406Z"
   },
   {
    "duration": 3017,
    "start_time": "2025-07-14T23:13:25.615Z"
   },
   {
    "duration": 865,
    "start_time": "2025-07-14T23:13:28.634Z"
   },
   {
    "duration": 134,
    "start_time": "2025-07-14T23:13:29.501Z"
   },
   {
    "duration": 109,
    "start_time": "2025-07-14T23:25:23.837Z"
   },
   {
    "duration": 9,
    "start_time": "2025-07-14T23:25:57.001Z"
   },
   {
    "duration": 27,
    "start_time": "2025-07-14T23:33:56.544Z"
   },
   {
    "duration": 39,
    "start_time": "2025-07-14T23:36:04.568Z"
   },
   {
    "duration": 3724,
    "start_time": "2025-07-14T23:36:49.833Z"
   },
   {
    "duration": 2,
    "start_time": "2025-07-14T23:36:53.559Z"
   },
   {
    "duration": 1562,
    "start_time": "2025-07-14T23:36:53.563Z"
   },
   {
    "duration": 113,
    "start_time": "2025-07-14T23:36:55.127Z"
   },
   {
    "duration": 351,
    "start_time": "2025-07-14T23:36:55.243Z"
   },
   {
    "duration": 19,
    "start_time": "2025-07-14T23:36:55.596Z"
   },
   {
    "duration": 65,
    "start_time": "2025-07-14T23:36:55.617Z"
   },
   {
    "duration": 12,
    "start_time": "2025-07-14T23:36:55.684Z"
   },
   {
    "duration": 460,
    "start_time": "2025-07-14T23:36:55.697Z"
   },
   {
    "duration": 229,
    "start_time": "2025-07-14T23:36:56.159Z"
   },
   {
    "duration": 275,
    "start_time": "2025-07-14T23:36:56.390Z"
   },
   {
    "duration": 27,
    "start_time": "2025-07-14T23:36:56.667Z"
   },
   {
    "duration": 385,
    "start_time": "2025-07-14T23:36:56.696Z"
   },
   {
    "duration": 260,
    "start_time": "2025-07-14T23:36:57.084Z"
   },
   {
    "duration": 221,
    "start_time": "2025-07-14T23:36:57.346Z"
   },
   {
    "duration": 3351,
    "start_time": "2025-07-14T23:36:57.570Z"
   },
   {
    "duration": 850,
    "start_time": "2025-07-14T23:37:00.922Z"
   },
   {
    "duration": 151,
    "start_time": "2025-07-14T23:37:01.774Z"
   },
   {
    "duration": 142,
    "start_time": "2025-07-14T23:37:01.927Z"
   },
   {
    "duration": 368,
    "start_time": "2025-07-14T23:41:58.868Z"
   },
   {
    "duration": 10,
    "start_time": "2025-07-15T00:00:34.028Z"
   },
   {
    "duration": 624,
    "start_time": "2025-07-15T00:01:16.899Z"
   },
   {
    "duration": 640,
    "start_time": "2025-07-15T00:01:24.576Z"
   },
   {
    "duration": 23,
    "start_time": "2025-07-15T00:03:05.218Z"
   },
   {
    "duration": 3991,
    "start_time": "2025-07-15T00:05:53.449Z"
   },
   {
    "duration": 4638,
    "start_time": "2025-07-15T00:12:19.664Z"
   },
   {
    "duration": 1733,
    "start_time": "2025-07-15T00:23:48.313Z"
   },
   {
    "duration": 1926,
    "start_time": "2025-07-15T00:25:27.076Z"
   },
   {
    "duration": 1977,
    "start_time": "2025-07-15T00:26:15.336Z"
   },
   {
    "duration": 2001,
    "start_time": "2025-07-15T00:28:47.693Z"
   },
   {
    "duration": 3896,
    "start_time": "2025-07-15T00:29:31.461Z"
   },
   {
    "duration": 2,
    "start_time": "2025-07-15T00:29:35.359Z"
   },
   {
    "duration": 1794,
    "start_time": "2025-07-15T00:29:35.363Z"
   },
   {
    "duration": 128,
    "start_time": "2025-07-15T00:29:37.158Z"
   },
   {
    "duration": 285,
    "start_time": "2025-07-15T00:29:37.289Z"
   },
   {
    "duration": 22,
    "start_time": "2025-07-15T00:29:37.576Z"
   },
   {
    "duration": 105,
    "start_time": "2025-07-15T00:29:37.600Z"
   },
   {
    "duration": 12,
    "start_time": "2025-07-15T00:29:37.706Z"
   },
   {
    "duration": 482,
    "start_time": "2025-07-15T00:29:37.720Z"
   },
   {
    "duration": 234,
    "start_time": "2025-07-15T00:29:38.204Z"
   },
   {
    "duration": 288,
    "start_time": "2025-07-15T00:29:38.440Z"
   },
   {
    "duration": 23,
    "start_time": "2025-07-15T00:29:38.730Z"
   },
   {
    "duration": 406,
    "start_time": "2025-07-15T00:29:38.755Z"
   },
   {
    "duration": 275,
    "start_time": "2025-07-15T00:29:39.170Z"
   },
   {
    "duration": 243,
    "start_time": "2025-07-15T00:29:39.447Z"
   },
   {
    "duration": 3441,
    "start_time": "2025-07-15T00:29:39.692Z"
   },
   {
    "duration": 947,
    "start_time": "2025-07-15T00:29:43.135Z"
   },
   {
    "duration": 146,
    "start_time": "2025-07-15T00:29:44.084Z"
   },
   {
    "duration": 745,
    "start_time": "2025-07-15T00:29:44.232Z"
   },
   {
    "duration": 30,
    "start_time": "2025-07-15T00:29:44.979Z"
   },
   {
    "duration": 4711,
    "start_time": "2025-07-15T00:29:45.011Z"
   },
   {
    "duration": 2065,
    "start_time": "2025-07-15T00:29:49.724Z"
   },
   {
    "duration": 396,
    "start_time": "2025-07-15T01:18:42.343Z"
   },
   {
    "duration": 109,
    "start_time": "2025-07-15T01:19:19.354Z"
   },
   {
    "duration": 109,
    "start_time": "2025-07-15T01:20:09.684Z"
   },
   {
    "duration": 383,
    "start_time": "2025-07-15T01:20:59.884Z"
   },
   {
    "duration": 3713,
    "start_time": "2025-07-15T01:21:49.513Z"
   },
   {
    "duration": 3,
    "start_time": "2025-07-15T01:21:53.228Z"
   },
   {
    "duration": 1672,
    "start_time": "2025-07-15T01:21:53.233Z"
   },
   {
    "duration": 108,
    "start_time": "2025-07-15T01:21:54.907Z"
   },
   {
    "duration": 344,
    "start_time": "2025-07-15T01:21:55.017Z"
   },
   {
    "duration": 26,
    "start_time": "2025-07-15T01:21:55.362Z"
   },
   {
    "duration": 48,
    "start_time": "2025-07-15T01:21:55.390Z"
   },
   {
    "duration": 11,
    "start_time": "2025-07-15T01:21:55.440Z"
   },
   {
    "duration": 507,
    "start_time": "2025-07-15T01:21:55.453Z"
   },
   {
    "duration": 229,
    "start_time": "2025-07-15T01:21:55.961Z"
   },
   {
    "duration": 256,
    "start_time": "2025-07-15T01:21:56.192Z"
   },
   {
    "duration": 39,
    "start_time": "2025-07-15T01:21:56.450Z"
   },
   {
    "duration": 374,
    "start_time": "2025-07-15T01:21:56.491Z"
   },
   {
    "duration": 251,
    "start_time": "2025-07-15T01:21:56.872Z"
   },
   {
    "duration": 213,
    "start_time": "2025-07-15T01:21:57.125Z"
   },
   {
    "duration": 3238,
    "start_time": "2025-07-15T01:21:57.340Z"
   },
   {
    "duration": 879,
    "start_time": "2025-07-15T01:22:00.586Z"
   },
   {
    "duration": 145,
    "start_time": "2025-07-15T01:22:01.470Z"
   },
   {
    "duration": 725,
    "start_time": "2025-07-15T01:22:01.617Z"
   },
   {
    "duration": 38,
    "start_time": "2025-07-15T01:22:02.344Z"
   },
   {
    "duration": 4023,
    "start_time": "2025-07-15T01:22:02.386Z"
   },
   {
    "duration": 1822,
    "start_time": "2025-07-15T01:22:06.411Z"
   },
   {
    "duration": 411,
    "start_time": "2025-07-15T01:22:08.235Z"
   },
   {
    "duration": 378,
    "start_time": "2025-07-15T01:22:08.648Z"
   },
   {
    "duration": 356,
    "start_time": "2025-07-15T01:23:16.506Z"
   },
   {
    "duration": 3674,
    "start_time": "2025-07-15T01:28:35.776Z"
   },
   {
    "duration": 3,
    "start_time": "2025-07-15T01:28:39.452Z"
   },
   {
    "duration": 1792,
    "start_time": "2025-07-15T01:28:39.456Z"
   },
   {
    "duration": 130,
    "start_time": "2025-07-15T01:28:41.250Z"
   },
   {
    "duration": 413,
    "start_time": "2025-07-15T01:28:41.388Z"
   },
   {
    "duration": 20,
    "start_time": "2025-07-15T01:28:41.803Z"
   },
   {
    "duration": 75,
    "start_time": "2025-07-15T01:28:41.825Z"
   },
   {
    "duration": 11,
    "start_time": "2025-07-15T01:28:41.901Z"
   },
   {
    "duration": 564,
    "start_time": "2025-07-15T01:28:41.913Z"
   },
   {
    "duration": 223,
    "start_time": "2025-07-15T01:28:42.481Z"
   },
   {
    "duration": 255,
    "start_time": "2025-07-15T01:28:42.706Z"
   },
   {
    "duration": 36,
    "start_time": "2025-07-15T01:28:42.963Z"
   },
   {
    "duration": 408,
    "start_time": "2025-07-15T01:28:43.001Z"
   },
   {
    "duration": 271,
    "start_time": "2025-07-15T01:28:43.412Z"
   },
   {
    "duration": 219,
    "start_time": "2025-07-15T01:28:43.689Z"
   },
   {
    "duration": 3593,
    "start_time": "2025-07-15T01:28:43.909Z"
   },
   {
    "duration": 898,
    "start_time": "2025-07-15T01:28:47.503Z"
   },
   {
    "duration": 163,
    "start_time": "2025-07-15T01:28:48.403Z"
   },
   {
    "duration": 746,
    "start_time": "2025-07-15T01:28:48.568Z"
   },
   {
    "duration": 22,
    "start_time": "2025-07-15T01:28:49.316Z"
   },
   {
    "duration": 4741,
    "start_time": "2025-07-15T01:28:49.340Z"
   },
   {
    "duration": 2229,
    "start_time": "2025-07-15T01:28:54.085Z"
   },
   {
    "duration": 437,
    "start_time": "2025-07-15T01:28:56.318Z"
   },
   {
    "duration": 420,
    "start_time": "2025-07-15T01:28:56.757Z"
   },
   {
    "duration": 15,
    "start_time": "2025-07-15T09:35:55.893Z"
   },
   {
    "duration": 9754,
    "start_time": "2025-07-15T09:36:12.588Z"
   },
   {
    "duration": 3,
    "start_time": "2025-07-15T09:36:22.344Z"
   },
   {
    "duration": 1543,
    "start_time": "2025-07-15T09:36:22.349Z"
   },
   {
    "duration": 114,
    "start_time": "2025-07-15T09:36:23.894Z"
   },
   {
    "duration": 298,
    "start_time": "2025-07-15T09:36:24.013Z"
   },
   {
    "duration": 17,
    "start_time": "2025-07-15T09:36:24.312Z"
   },
   {
    "duration": 43,
    "start_time": "2025-07-15T09:36:24.330Z"
   },
   {
    "duration": 9,
    "start_time": "2025-07-15T09:36:24.374Z"
   },
   {
    "duration": 462,
    "start_time": "2025-07-15T09:36:24.385Z"
   },
   {
    "duration": 201,
    "start_time": "2025-07-15T09:36:24.848Z"
   },
   {
    "duration": 253,
    "start_time": "2025-07-15T09:36:25.050Z"
   },
   {
    "duration": 25,
    "start_time": "2025-07-15T09:36:25.305Z"
   },
   {
    "duration": 356,
    "start_time": "2025-07-15T09:36:25.332Z"
   },
   {
    "duration": 247,
    "start_time": "2025-07-15T09:36:25.691Z"
   },
   {
    "duration": 218,
    "start_time": "2025-07-15T09:36:25.939Z"
   },
   {
    "duration": 3135,
    "start_time": "2025-07-15T09:36:26.158Z"
   },
   {
    "duration": 916,
    "start_time": "2025-07-15T09:36:29.298Z"
   },
   {
    "duration": 137,
    "start_time": "2025-07-15T09:36:30.215Z"
   },
   {
    "duration": 721,
    "start_time": "2025-07-15T09:36:30.353Z"
   },
   {
    "duration": 36,
    "start_time": "2025-07-15T09:36:31.076Z"
   },
   {
    "duration": 3957,
    "start_time": "2025-07-15T09:36:31.114Z"
   },
   {
    "duration": 1731,
    "start_time": "2025-07-15T09:36:35.073Z"
   },
   {
    "duration": 385,
    "start_time": "2025-07-15T09:36:36.808Z"
   },
   {
    "duration": 374,
    "start_time": "2025-07-15T09:36:37.195Z"
   },
   {
    "duration": 4,
    "start_time": "2025-07-15T09:36:37.570Z"
   },
   {
    "duration": 111,
    "start_time": "2025-07-15T09:36:37.576Z"
   },
   {
    "duration": 5346,
    "start_time": "2025-07-15T09:39:48.364Z"
   },
   {
    "duration": 352,
    "start_time": "2025-07-15T09:45:11.583Z"
   },
   {
    "duration": 288,
    "start_time": "2025-07-15T09:50:45.228Z"
   },
   {
    "duration": 26,
    "start_time": "2025-07-15T09:59:15.911Z"
   },
   {
    "duration": 20,
    "start_time": "2025-07-15T09:59:51.088Z"
   },
   {
    "duration": 1301,
    "start_time": "2025-07-15T10:02:02.341Z"
   },
   {
    "duration": 1283,
    "start_time": "2025-07-15T10:09:59.643Z"
   },
   {
    "duration": 1267,
    "start_time": "2025-07-15T10:10:13.208Z"
   },
   {
    "duration": 1153,
    "start_time": "2025-07-15T10:10:22.919Z"
   },
   {
    "duration": 1135,
    "start_time": "2025-07-15T10:13:35.742Z"
   },
   {
    "duration": 1128,
    "start_time": "2025-07-15T10:14:07.851Z"
   },
   {
    "duration": 1181,
    "start_time": "2025-07-15T10:14:40.295Z"
   },
   {
    "duration": 1148,
    "start_time": "2025-07-15T10:19:29.523Z"
   },
   {
    "duration": 1266,
    "start_time": "2025-07-15T10:21:15.303Z"
   },
   {
    "duration": 1122,
    "start_time": "2025-07-15T10:24:27.837Z"
   },
   {
    "duration": 1115,
    "start_time": "2025-07-15T10:26:25.932Z"
   },
   {
    "duration": 1119,
    "start_time": "2025-07-15T10:26:37.900Z"
   },
   {
    "duration": 1212,
    "start_time": "2025-07-15T10:27:12.829Z"
   },
   {
    "duration": 1330,
    "start_time": "2025-07-15T10:27:23.370Z"
   },
   {
    "duration": 1107,
    "start_time": "2025-07-15T10:27:35.730Z"
   },
   {
    "duration": 1154,
    "start_time": "2025-07-15T10:27:58.590Z"
   },
   {
    "duration": 1161,
    "start_time": "2025-07-15T10:28:25.092Z"
   },
   {
    "duration": 1060,
    "start_time": "2025-07-15T10:28:36.172Z"
   },
   {
    "duration": 1192,
    "start_time": "2025-07-15T10:42:06.231Z"
   },
   {
    "duration": 12,
    "start_time": "2025-07-15T10:44:53.140Z"
   },
   {
    "duration": 485,
    "start_time": "2025-07-15T10:47:00.217Z"
   },
   {
    "duration": 365,
    "start_time": "2025-07-15T10:48:51.868Z"
   },
   {
    "duration": 435,
    "start_time": "2025-07-15T10:52:55.187Z"
   },
   {
    "duration": 283,
    "start_time": "2025-07-15T11:01:14.563Z"
   },
   {
    "duration": 19,
    "start_time": "2025-07-15T11:49:10.301Z"
   },
   {
    "duration": 12,
    "start_time": "2025-07-15T11:50:38.501Z"
   },
   {
    "duration": 8,
    "start_time": "2025-07-15T11:51:54.906Z"
   },
   {
    "duration": 12,
    "start_time": "2025-07-15T11:53:00.119Z"
   },
   {
    "duration": 393,
    "start_time": "2025-07-15T11:59:22.152Z"
   },
   {
    "duration": 11,
    "start_time": "2025-07-15T13:02:02.305Z"
   },
   {
    "duration": 6,
    "start_time": "2025-07-15T13:02:16.668Z"
   },
   {
    "duration": 5,
    "start_time": "2025-07-15T13:03:25.738Z"
   },
   {
    "duration": 176,
    "start_time": "2025-07-15T13:07:50.832Z"
   },
   {
    "duration": 162,
    "start_time": "2025-07-15T13:08:38.930Z"
   },
   {
    "duration": 165,
    "start_time": "2025-07-15T13:08:58.328Z"
   },
   {
    "duration": 8,
    "start_time": "2025-07-15T13:19:30.601Z"
   },
   {
    "duration": 393,
    "start_time": "2025-07-15T13:19:55.634Z"
   },
   {
    "duration": 672,
    "start_time": "2025-07-15T13:26:17.451Z"
   },
   {
    "duration": 606,
    "start_time": "2025-07-15T13:27:57.446Z"
   },
   {
    "duration": 598,
    "start_time": "2025-07-15T13:28:54.727Z"
   },
   {
    "duration": 683,
    "start_time": "2025-07-15T13:29:13.034Z"
   },
   {
    "duration": 622,
    "start_time": "2025-07-15T13:29:44.825Z"
   },
   {
    "duration": 604,
    "start_time": "2025-07-15T13:30:08.536Z"
   },
   {
    "duration": 670,
    "start_time": "2025-07-15T13:32:48.589Z"
   },
   {
    "duration": 765,
    "start_time": "2025-07-15T13:33:31.914Z"
   },
   {
    "duration": 650,
    "start_time": "2025-07-15T13:33:53.832Z"
   },
   {
    "duration": 704,
    "start_time": "2025-07-15T13:34:15.153Z"
   },
   {
    "duration": 348,
    "start_time": "2025-07-15T13:54:05.543Z"
   },
   {
    "duration": 47,
    "start_time": "2025-07-15T14:07:31.624Z"
   },
   {
    "duration": 12,
    "start_time": "2025-07-15T14:08:25.965Z"
   },
   {
    "duration": 295,
    "start_time": "2025-07-15T14:08:50.695Z"
   },
   {
    "duration": 314,
    "start_time": "2025-07-15T14:10:50.503Z"
   },
   {
    "duration": 227,
    "start_time": "2025-07-15T14:20:43.027Z"
   },
   {
    "duration": 225,
    "start_time": "2025-07-15T14:20:57.064Z"
   },
   {
    "duration": 222,
    "start_time": "2025-07-15T14:22:40.326Z"
   },
   {
    "duration": 215,
    "start_time": "2025-07-15T14:24:06.123Z"
   },
   {
    "duration": 234,
    "start_time": "2025-07-15T14:25:34.275Z"
   },
   {
    "duration": 208,
    "start_time": "2025-07-15T14:28:44.333Z"
   },
   {
    "duration": 229,
    "start_time": "2025-07-15T14:28:58.224Z"
   },
   {
    "duration": 197,
    "start_time": "2025-07-15T14:29:12.910Z"
   },
   {
    "duration": 92,
    "start_time": "2025-07-15T14:33:30.479Z"
   },
   {
    "duration": 97,
    "start_time": "2025-07-15T14:34:07.007Z"
   },
   {
    "duration": 29,
    "start_time": "2025-07-15T14:35:28.023Z"
   },
   {
    "duration": 215,
    "start_time": "2025-07-15T14:38:15.683Z"
   },
   {
    "duration": 318,
    "start_time": "2025-07-15T14:38:55.757Z"
   },
   {
    "duration": 208,
    "start_time": "2025-07-15T14:39:20.583Z"
   },
   {
    "duration": 224,
    "start_time": "2025-07-15T14:39:44.215Z"
   },
   {
    "duration": 250,
    "start_time": "2025-07-15T14:55:09.735Z"
   },
   {
    "duration": 3534,
    "start_time": "2025-07-15T15:09:07.985Z"
   },
   {
    "duration": 3,
    "start_time": "2025-07-15T15:09:11.521Z"
   },
   {
    "duration": 1481,
    "start_time": "2025-07-15T15:09:11.525Z"
   },
   {
    "duration": 103,
    "start_time": "2025-07-15T15:09:13.008Z"
   },
   {
    "duration": 696,
    "start_time": "2025-07-15T15:09:13.113Z"
   },
   {
    "duration": 17,
    "start_time": "2025-07-15T15:09:13.811Z"
   },
   {
    "duration": 176,
    "start_time": "2025-07-15T15:09:13.830Z"
   },
   {
    "duration": 9,
    "start_time": "2025-07-15T15:09:14.008Z"
   },
   {
    "duration": 444,
    "start_time": "2025-07-15T15:09:14.018Z"
   },
   {
    "duration": 195,
    "start_time": "2025-07-15T15:09:14.465Z"
   },
   {
    "duration": 257,
    "start_time": "2025-07-15T15:09:14.661Z"
   },
   {
    "duration": 23,
    "start_time": "2025-07-15T15:09:14.920Z"
   },
   {
    "duration": 347,
    "start_time": "2025-07-15T15:09:14.945Z"
   },
   {
    "duration": 221,
    "start_time": "2025-07-15T15:09:15.297Z"
   },
   {
    "duration": 193,
    "start_time": "2025-07-15T15:09:15.520Z"
   },
   {
    "duration": 2905,
    "start_time": "2025-07-15T15:09:15.715Z"
   },
   {
    "duration": 802,
    "start_time": "2025-07-15T15:09:18.621Z"
   },
   {
    "duration": 123,
    "start_time": "2025-07-15T15:09:19.424Z"
   },
   {
    "duration": 607,
    "start_time": "2025-07-15T15:09:19.549Z"
   },
   {
    "duration": 22,
    "start_time": "2025-07-15T15:09:20.157Z"
   },
   {
    "duration": 3756,
    "start_time": "2025-07-15T15:09:20.180Z"
   },
   {
    "duration": 1731,
    "start_time": "2025-07-15T15:09:23.938Z"
   },
   {
    "duration": 388,
    "start_time": "2025-07-15T15:09:25.671Z"
   },
   {
    "duration": 366,
    "start_time": "2025-07-15T15:09:26.060Z"
   },
   {
    "duration": 293,
    "start_time": "2025-07-15T15:09:26.428Z"
   },
   {
    "duration": 18,
    "start_time": "2025-07-15T15:09:26.723Z"
   },
   {
    "duration": 1290,
    "start_time": "2025-07-15T15:09:26.742Z"
   },
   {
    "duration": 1069,
    "start_time": "2025-07-15T15:09:28.036Z"
   },
   {
    "duration": 1217,
    "start_time": "2025-07-15T15:09:29.107Z"
   },
   {
    "duration": 92,
    "start_time": "2025-07-15T15:09:30.326Z"
   },
   {
    "duration": 0,
    "start_time": "2025-07-15T15:09:30.420Z"
   },
   {
    "duration": 0,
    "start_time": "2025-07-15T15:09:30.422Z"
   },
   {
    "duration": 0,
    "start_time": "2025-07-15T15:09:30.423Z"
   },
   {
    "duration": 0,
    "start_time": "2025-07-15T15:09:30.424Z"
   },
   {
    "duration": 0,
    "start_time": "2025-07-15T15:09:30.426Z"
   },
   {
    "duration": 0,
    "start_time": "2025-07-15T15:09:30.428Z"
   },
   {
    "duration": 0,
    "start_time": "2025-07-15T15:09:30.429Z"
   },
   {
    "duration": 0,
    "start_time": "2025-07-15T15:09:30.431Z"
   },
   {
    "duration": 0,
    "start_time": "2025-07-15T15:09:30.432Z"
   },
   {
    "duration": 0,
    "start_time": "2025-07-15T15:09:30.433Z"
   },
   {
    "duration": 0,
    "start_time": "2025-07-15T15:09:30.435Z"
   },
   {
    "duration": 0,
    "start_time": "2025-07-15T15:09:30.437Z"
   },
   {
    "duration": 0,
    "start_time": "2025-07-15T15:09:30.438Z"
   },
   {
    "duration": 11,
    "start_time": "2025-07-15T15:09:53.137Z"
   },
   {
    "duration": 14,
    "start_time": "2025-07-15T15:09:54.156Z"
   },
   {
    "duration": 472,
    "start_time": "2025-07-15T15:09:54.268Z"
   },
   {
    "duration": 517,
    "start_time": "2025-07-15T15:09:54.744Z"
   },
   {
    "duration": 422,
    "start_time": "2025-07-15T15:09:55.262Z"
   },
   {
    "duration": 16,
    "start_time": "2025-07-15T15:09:55.686Z"
   },
   {
    "duration": 285,
    "start_time": "2025-07-15T15:09:55.704Z"
   },
   {
    "duration": 9,
    "start_time": "2025-07-15T15:09:55.999Z"
   },
   {
    "duration": 178,
    "start_time": "2025-07-15T15:09:56.009Z"
   },
   {
    "duration": 366,
    "start_time": "2025-07-15T15:09:56.189Z"
   },
   {
    "duration": 644,
    "start_time": "2025-07-15T15:09:56.972Z"
   },
   {
    "duration": 48,
    "start_time": "2025-07-15T15:09:57.618Z"
   },
   {
    "duration": 246,
    "start_time": "2025-07-15T15:09:57.668Z"
   },
   {
    "duration": 270,
    "start_time": "2025-07-15T15:09:57.916Z"
   },
   {
    "duration": 3364,
    "start_time": "2025-07-15T15:29:46.043Z"
   },
   {
    "duration": 2,
    "start_time": "2025-07-15T15:29:49.409Z"
   },
   {
    "duration": 1672,
    "start_time": "2025-07-15T15:29:49.413Z"
   },
   {
    "duration": 102,
    "start_time": "2025-07-15T15:29:51.087Z"
   },
   {
    "duration": 284,
    "start_time": "2025-07-15T15:29:51.198Z"
   },
   {
    "duration": 21,
    "start_time": "2025-07-15T15:29:51.483Z"
   },
   {
    "duration": 166,
    "start_time": "2025-07-15T15:29:51.506Z"
   },
   {
    "duration": 19,
    "start_time": "2025-07-15T15:29:51.673Z"
   },
   {
    "duration": 473,
    "start_time": "2025-07-15T15:29:51.693Z"
   },
   {
    "duration": 204,
    "start_time": "2025-07-15T15:29:52.168Z"
   },
   {
    "duration": 232,
    "start_time": "2025-07-15T15:29:52.374Z"
   },
   {
    "duration": 22,
    "start_time": "2025-07-15T15:29:52.607Z"
   },
   {
    "duration": 339,
    "start_time": "2025-07-15T15:29:52.631Z"
   },
   {
    "duration": 226,
    "start_time": "2025-07-15T15:29:52.971Z"
   },
   {
    "duration": 191,
    "start_time": "2025-07-15T15:29:53.198Z"
   },
   {
    "duration": 2980,
    "start_time": "2025-07-15T15:29:53.390Z"
   },
   {
    "duration": 747,
    "start_time": "2025-07-15T15:29:56.372Z"
   },
   {
    "duration": 126,
    "start_time": "2025-07-15T15:29:57.121Z"
   },
   {
    "duration": 607,
    "start_time": "2025-07-15T15:29:57.248Z"
   },
   {
    "duration": 21,
    "start_time": "2025-07-15T15:29:57.856Z"
   },
   {
    "duration": 3793,
    "start_time": "2025-07-15T15:29:57.879Z"
   },
   {
    "duration": 1844,
    "start_time": "2025-07-15T15:30:01.674Z"
   },
   {
    "duration": 444,
    "start_time": "2025-07-15T15:30:03.520Z"
   },
   {
    "duration": 435,
    "start_time": "2025-07-15T15:30:03.966Z"
   },
   {
    "duration": 337,
    "start_time": "2025-07-15T15:30:04.403Z"
   },
   {
    "duration": 30,
    "start_time": "2025-07-15T15:30:04.743Z"
   },
   {
    "duration": 1377,
    "start_time": "2025-07-15T15:30:04.775Z"
   },
   {
    "duration": 1144,
    "start_time": "2025-07-15T15:30:06.157Z"
   },
   {
    "duration": 1356,
    "start_time": "2025-07-15T15:30:07.302Z"
   },
   {
    "duration": 14,
    "start_time": "2025-07-15T15:30:08.660Z"
   },
   {
    "duration": 36,
    "start_time": "2025-07-15T15:30:08.676Z"
   },
   {
    "duration": 520,
    "start_time": "2025-07-15T15:30:08.714Z"
   },
   {
    "duration": 438,
    "start_time": "2025-07-15T15:30:09.236Z"
   },
   {
    "duration": 470,
    "start_time": "2025-07-15T15:30:09.676Z"
   },
   {
    "duration": 8,
    "start_time": "2025-07-15T15:30:10.149Z"
   },
   {
    "duration": 295,
    "start_time": "2025-07-15T15:30:10.159Z"
   },
   {
    "duration": 9,
    "start_time": "2025-07-15T15:30:10.456Z"
   },
   {
    "duration": 208,
    "start_time": "2025-07-15T15:30:10.467Z"
   },
   {
    "duration": 385,
    "start_time": "2025-07-15T15:30:10.677Z"
   },
   {
    "duration": 668,
    "start_time": "2025-07-15T15:30:11.064Z"
   },
   {
    "duration": 50,
    "start_time": "2025-07-15T15:30:11.733Z"
   },
   {
    "duration": 246,
    "start_time": "2025-07-15T15:30:11.785Z"
   },
   {
    "duration": 281,
    "start_time": "2025-07-15T15:30:12.033Z"
   },
   {
    "duration": 47,
    "start_time": "2025-07-15T20:33:09.067Z"
   },
   {
    "duration": 9974,
    "start_time": "2025-07-15T20:33:15.147Z"
   },
   {
    "duration": 3,
    "start_time": "2025-07-15T20:33:25.123Z"
   },
   {
    "duration": 1620,
    "start_time": "2025-07-15T20:33:25.127Z"
   },
   {
    "duration": 107,
    "start_time": "2025-07-15T20:33:26.748Z"
   },
   {
    "duration": 471,
    "start_time": "2025-07-15T20:33:26.857Z"
   },
   {
    "duration": 17,
    "start_time": "2025-07-15T20:33:27.330Z"
   },
   {
    "duration": 133,
    "start_time": "2025-07-15T20:33:27.349Z"
   },
   {
    "duration": 9,
    "start_time": "2025-07-15T20:33:27.484Z"
   },
   {
    "duration": 464,
    "start_time": "2025-07-15T20:33:27.494Z"
   },
   {
    "duration": 207,
    "start_time": "2025-07-15T20:33:27.960Z"
   },
   {
    "duration": 235,
    "start_time": "2025-07-15T20:33:28.169Z"
   },
   {
    "duration": 23,
    "start_time": "2025-07-15T20:33:28.405Z"
   },
   {
    "duration": 361,
    "start_time": "2025-07-15T20:33:28.430Z"
   },
   {
    "duration": 225,
    "start_time": "2025-07-15T20:33:28.793Z"
   },
   {
    "duration": 187,
    "start_time": "2025-07-15T20:33:29.020Z"
   },
   {
    "duration": 3035,
    "start_time": "2025-07-15T20:33:29.209Z"
   },
   {
    "duration": 807,
    "start_time": "2025-07-15T20:33:32.246Z"
   },
   {
    "duration": 133,
    "start_time": "2025-07-15T20:33:33.055Z"
   },
   {
    "duration": 633,
    "start_time": "2025-07-15T20:33:33.189Z"
   },
   {
    "duration": 23,
    "start_time": "2025-07-15T20:33:33.824Z"
   },
   {
    "duration": 3994,
    "start_time": "2025-07-15T20:33:33.849Z"
   },
   {
    "duration": 1754,
    "start_time": "2025-07-15T20:33:37.845Z"
   },
   {
    "duration": 415,
    "start_time": "2025-07-15T20:33:39.601Z"
   },
   {
    "duration": 413,
    "start_time": "2025-07-15T20:33:40.018Z"
   },
   {
    "duration": 323,
    "start_time": "2025-07-15T20:33:40.433Z"
   },
   {
    "duration": 25,
    "start_time": "2025-07-15T20:33:40.757Z"
   },
   {
    "duration": 1160,
    "start_time": "2025-07-15T20:33:40.783Z"
   },
   {
    "duration": 1165,
    "start_time": "2025-07-15T20:33:41.946Z"
   },
   {
    "duration": 1220,
    "start_time": "2025-07-15T20:33:43.113Z"
   },
   {
    "duration": 12,
    "start_time": "2025-07-15T20:33:44.334Z"
   },
   {
    "duration": 23,
    "start_time": "2025-07-15T20:33:44.348Z"
   },
   {
    "duration": 531,
    "start_time": "2025-07-15T20:33:44.373Z"
   },
   {
    "duration": 403,
    "start_time": "2025-07-15T20:33:44.905Z"
   },
   {
    "duration": 409,
    "start_time": "2025-07-15T20:33:45.310Z"
   },
   {
    "duration": 8,
    "start_time": "2025-07-15T20:33:45.720Z"
   },
   {
    "duration": 308,
    "start_time": "2025-07-15T20:33:45.729Z"
   },
   {
    "duration": 11,
    "start_time": "2025-07-15T20:33:46.038Z"
   },
   {
    "duration": 202,
    "start_time": "2025-07-15T20:33:46.051Z"
   },
   {
    "duration": 370,
    "start_time": "2025-07-15T20:33:46.255Z"
   },
   {
    "duration": 675,
    "start_time": "2025-07-15T20:33:46.627Z"
   },
   {
    "duration": 50,
    "start_time": "2025-07-15T20:33:47.304Z"
   },
   {
    "duration": 256,
    "start_time": "2025-07-15T20:33:47.356Z"
   },
   {
    "duration": 328,
    "start_time": "2025-07-15T20:33:47.614Z"
   },
   {
    "duration": 2,
    "start_time": "2025-07-15T20:33:47.943Z"
   },
   {
    "duration": 144,
    "start_time": "2025-07-15T20:35:25.456Z"
   },
   {
    "duration": 760,
    "start_time": "2025-07-15T20:35:26.551Z"
   },
   {
    "duration": 141,
    "start_time": "2025-07-15T20:35:48.688Z"
   },
   {
    "duration": 628,
    "start_time": "2025-07-15T20:35:51.217Z"
   },
   {
    "duration": 51,
    "start_time": "2025-07-15T20:36:35.159Z"
   },
   {
    "duration": 234,
    "start_time": "2025-07-15T20:36:35.331Z"
   },
   {
    "duration": 304,
    "start_time": "2025-07-15T20:36:36.239Z"
   },
   {
    "duration": 2,
    "start_time": "2025-07-15T20:36:38.449Z"
   },
   {
    "duration": 57,
    "start_time": "2025-07-15T20:47:37.293Z"
   },
   {
    "duration": 152,
    "start_time": "2025-07-15T20:48:01.796Z"
   },
   {
    "duration": 65,
    "start_time": "2025-07-15T20:48:13.130Z"
   },
   {
    "duration": 109,
    "start_time": "2025-07-15T20:55:28.457Z"
   },
   {
    "duration": 1048,
    "start_time": "2025-07-15T20:56:39.520Z"
   },
   {
    "duration": 237,
    "start_time": "2025-07-15T20:58:07.087Z"
   },
   {
    "duration": 290,
    "start_time": "2025-07-15T20:58:20.387Z"
   },
   {
    "duration": 885,
    "start_time": "2025-07-15T20:58:43.061Z"
   },
   {
    "duration": 900,
    "start_time": "2025-07-15T20:59:15.323Z"
   },
   {
    "duration": 951,
    "start_time": "2025-07-15T20:59:36.057Z"
   },
   {
    "duration": 947,
    "start_time": "2025-07-15T20:59:49.464Z"
   },
   {
    "duration": 1079,
    "start_time": "2025-07-15T21:00:20.474Z"
   },
   {
    "duration": 945,
    "start_time": "2025-07-15T21:00:48.287Z"
   },
   {
    "duration": 962,
    "start_time": "2025-07-15T21:01:04.856Z"
   },
   {
    "duration": 957,
    "start_time": "2025-07-15T21:01:16.456Z"
   },
   {
    "duration": 994,
    "start_time": "2025-07-15T21:04:10.620Z"
   },
   {
    "duration": 7,
    "start_time": "2025-07-15T21:24:11.385Z"
   },
   {
    "duration": 16,
    "start_time": "2025-07-15T21:28:04.360Z"
   },
   {
    "duration": 275,
    "start_time": "2025-07-15T21:30:36.878Z"
   },
   {
    "duration": 360,
    "start_time": "2025-07-15T21:34:30.716Z"
   },
   {
    "duration": 300,
    "start_time": "2025-07-15T21:36:06.881Z"
   },
   {
    "duration": 322,
    "start_time": "2025-07-15T21:37:56.518Z"
   },
   {
    "duration": 289,
    "start_time": "2025-07-15T21:38:15.459Z"
   },
   {
    "duration": 294,
    "start_time": "2025-07-15T21:39:54.068Z"
   },
   {
    "duration": 309,
    "start_time": "2025-07-15T21:42:19.874Z"
   },
   {
    "duration": 3701,
    "start_time": "2025-07-15T22:24:05.656Z"
   },
   {
    "duration": 3,
    "start_time": "2025-07-15T22:24:09.359Z"
   },
   {
    "duration": 1631,
    "start_time": "2025-07-15T22:24:09.371Z"
   },
   {
    "duration": 113,
    "start_time": "2025-07-15T22:24:11.004Z"
   },
   {
    "duration": 331,
    "start_time": "2025-07-15T22:24:11.120Z"
   },
   {
    "duration": 23,
    "start_time": "2025-07-15T22:24:11.453Z"
   },
   {
    "duration": 66,
    "start_time": "2025-07-15T22:24:11.478Z"
   },
   {
    "duration": 11,
    "start_time": "2025-07-15T22:24:11.547Z"
   },
   {
    "duration": 458,
    "start_time": "2025-07-15T22:24:11.560Z"
   },
   {
    "duration": 232,
    "start_time": "2025-07-15T22:24:12.020Z"
   },
   {
    "duration": 238,
    "start_time": "2025-07-15T22:24:12.254Z"
   },
   {
    "duration": 25,
    "start_time": "2025-07-15T22:24:12.494Z"
   },
   {
    "duration": 367,
    "start_time": "2025-07-15T22:24:12.520Z"
   },
   {
    "duration": 244,
    "start_time": "2025-07-15T22:24:12.889Z"
   },
   {
    "duration": 206,
    "start_time": "2025-07-15T22:24:13.134Z"
   },
   {
    "duration": 3183,
    "start_time": "2025-07-15T22:24:13.341Z"
   },
   {
    "duration": 886,
    "start_time": "2025-07-15T22:24:16.526Z"
   },
   {
    "duration": 135,
    "start_time": "2025-07-15T22:24:17.413Z"
   },
   {
    "duration": 665,
    "start_time": "2025-07-15T22:24:17.550Z"
   },
   {
    "duration": 24,
    "start_time": "2025-07-15T22:24:18.217Z"
   },
   {
    "duration": 4226,
    "start_time": "2025-07-15T22:24:18.243Z"
   },
   {
    "duration": 1832,
    "start_time": "2025-07-15T22:24:22.471Z"
   },
   {
    "duration": 404,
    "start_time": "2025-07-15T22:24:24.305Z"
   },
   {
    "duration": 403,
    "start_time": "2025-07-15T22:24:24.710Z"
   },
   {
    "duration": 306,
    "start_time": "2025-07-15T22:24:25.115Z"
   },
   {
    "duration": 20,
    "start_time": "2025-07-15T22:24:25.423Z"
   },
   {
    "duration": 1199,
    "start_time": "2025-07-15T22:24:25.444Z"
   },
   {
    "duration": 1068,
    "start_time": "2025-07-15T22:24:26.645Z"
   },
   {
    "duration": 1217,
    "start_time": "2025-07-15T22:24:27.714Z"
   },
   {
    "duration": 14,
    "start_time": "2025-07-15T22:24:28.933Z"
   },
   {
    "duration": 25,
    "start_time": "2025-07-15T22:24:28.949Z"
   },
   {
    "duration": 428,
    "start_time": "2025-07-15T22:24:28.976Z"
   },
   {
    "duration": 502,
    "start_time": "2025-07-15T22:24:29.406Z"
   },
   {
    "duration": 408,
    "start_time": "2025-07-15T22:24:29.910Z"
   },
   {
    "duration": 8,
    "start_time": "2025-07-15T22:24:30.320Z"
   },
   {
    "duration": 327,
    "start_time": "2025-07-15T22:24:30.329Z"
   },
   {
    "duration": 14,
    "start_time": "2025-07-15T22:24:30.658Z"
   },
   {
    "duration": 185,
    "start_time": "2025-07-15T22:24:30.673Z"
   },
   {
    "duration": 413,
    "start_time": "2025-07-15T22:24:30.860Z"
   },
   {
    "duration": 686,
    "start_time": "2025-07-15T22:24:31.274Z"
   },
   {
    "duration": 50,
    "start_time": "2025-07-15T22:24:31.970Z"
   },
   {
    "duration": 278,
    "start_time": "2025-07-15T22:24:32.022Z"
   },
   {
    "duration": 276,
    "start_time": "2025-07-15T22:24:32.302Z"
   },
   {
    "duration": 64,
    "start_time": "2025-07-15T22:24:32.579Z"
   },
   {
    "duration": 1112,
    "start_time": "2025-07-15T22:24:32.644Z"
   },
   {
    "duration": 13,
    "start_time": "2025-07-15T22:24:33.757Z"
   },
   {
    "duration": 306,
    "start_time": "2025-07-15T22:24:33.771Z"
   },
   {
    "duration": 95,
    "start_time": "2025-07-16T11:38:46.107Z"
   },
   {
    "duration": 48,
    "start_time": "2025-07-16T11:39:07.636Z"
   },
   {
    "duration": 11089,
    "start_time": "2025-07-16T11:39:14.454Z"
   },
   {
    "duration": 2,
    "start_time": "2025-07-16T11:39:25.545Z"
   },
   {
    "duration": 1519,
    "start_time": "2025-07-16T11:39:25.549Z"
   },
   {
    "duration": 121,
    "start_time": "2025-07-16T11:39:27.070Z"
   },
   {
    "duration": 392,
    "start_time": "2025-07-16T11:39:27.193Z"
   },
   {
    "duration": 22,
    "start_time": "2025-07-16T11:39:27.587Z"
   },
   {
    "duration": 41,
    "start_time": "2025-07-16T11:39:27.611Z"
   },
   {
    "duration": 94,
    "start_time": "2025-07-16T11:39:27.655Z"
   },
   {
    "duration": 548,
    "start_time": "2025-07-16T11:39:27.751Z"
   },
   {
    "duration": 265,
    "start_time": "2025-07-16T11:39:28.301Z"
   },
   {
    "duration": 312,
    "start_time": "2025-07-16T11:39:28.570Z"
   },
   {
    "duration": 25,
    "start_time": "2025-07-16T11:39:28.884Z"
   },
   {
    "duration": 453,
    "start_time": "2025-07-16T11:39:28.912Z"
   },
   {
    "duration": 300,
    "start_time": "2025-07-16T11:39:29.370Z"
   },
   {
    "duration": 242,
    "start_time": "2025-07-16T11:39:29.673Z"
   },
   {
    "duration": 3521,
    "start_time": "2025-07-16T11:39:29.917Z"
   },
   {
    "duration": 1010,
    "start_time": "2025-07-16T11:39:33.440Z"
   },
   {
    "duration": 152,
    "start_time": "2025-07-16T11:39:34.453Z"
   },
   {
    "duration": 761,
    "start_time": "2025-07-16T11:39:34.607Z"
   },
   {
    "duration": 25,
    "start_time": "2025-07-16T11:39:35.370Z"
   },
   {
    "duration": 4488,
    "start_time": "2025-07-16T11:39:35.397Z"
   },
   {
    "duration": 2178,
    "start_time": "2025-07-16T11:39:39.887Z"
   },
   {
    "duration": 472,
    "start_time": "2025-07-16T11:39:42.067Z"
   },
   {
    "duration": 445,
    "start_time": "2025-07-16T11:39:42.541Z"
   },
   {
    "duration": 343,
    "start_time": "2025-07-16T11:39:42.988Z"
   },
   {
    "duration": 31,
    "start_time": "2025-07-16T11:39:43.333Z"
   },
   {
    "duration": 1344,
    "start_time": "2025-07-16T11:39:43.366Z"
   },
   {
    "duration": 1336,
    "start_time": "2025-07-16T11:39:44.711Z"
   },
   {
    "duration": 1388,
    "start_time": "2025-07-16T11:39:46.049Z"
   },
   {
    "duration": 22,
    "start_time": "2025-07-16T11:39:47.438Z"
   },
   {
    "duration": 14,
    "start_time": "2025-07-16T11:39:47.462Z"
   },
   {
    "duration": 491,
    "start_time": "2025-07-16T11:39:47.478Z"
   },
   {
    "duration": 611,
    "start_time": "2025-07-16T11:39:47.972Z"
   },
   {
    "duration": 508,
    "start_time": "2025-07-16T11:39:48.585Z"
   },
   {
    "duration": 8,
    "start_time": "2025-07-16T11:39:49.095Z"
   },
   {
    "duration": 327,
    "start_time": "2025-07-16T11:39:49.104Z"
   },
   {
    "duration": 20,
    "start_time": "2025-07-16T11:39:49.433Z"
   },
   {
    "duration": 236,
    "start_time": "2025-07-16T11:39:49.455Z"
   },
   {
    "duration": 437,
    "start_time": "2025-07-16T11:39:49.693Z"
   },
   {
    "duration": 748,
    "start_time": "2025-07-16T11:39:50.132Z"
   },
   {
    "duration": 52,
    "start_time": "2025-07-16T11:39:50.884Z"
   },
   {
    "duration": 278,
    "start_time": "2025-07-16T11:39:50.949Z"
   },
   {
    "duration": 364,
    "start_time": "2025-07-16T11:39:51.230Z"
   },
   {
    "duration": 78,
    "start_time": "2025-07-16T11:39:51.596Z"
   },
   {
    "duration": 1290,
    "start_time": "2025-07-16T11:39:51.676Z"
   },
   {
    "duration": 16,
    "start_time": "2025-07-16T11:39:52.969Z"
   },
   {
    "duration": 617,
    "start_time": "2025-07-16T11:39:52.986Z"
   },
   {
    "duration": 120,
    "start_time": "2025-07-16T11:39:53.604Z"
   },
   {
    "duration": 98,
    "start_time": "2025-07-16T11:40:45.839Z"
   },
   {
    "duration": 99,
    "start_time": "2025-07-16T11:41:03.038Z"
   },
   {
    "duration": 110,
    "start_time": "2025-07-16T11:41:18.867Z"
   },
   {
    "duration": 109,
    "start_time": "2025-07-16T11:41:39.522Z"
   },
   {
    "duration": 2015,
    "start_time": "2025-07-16T11:44:11.706Z"
   },
   {
    "duration": 1972,
    "start_time": "2025-07-16T11:44:30.703Z"
   },
   {
    "duration": 105,
    "start_time": "2025-07-16T11:44:55.039Z"
   },
   {
    "duration": 186,
    "start_time": "2025-07-16T11:45:46.506Z"
   },
   {
    "duration": 112,
    "start_time": "2025-07-16T11:46:26.070Z"
   },
   {
    "duration": 2284,
    "start_time": "2025-07-16T11:46:28.632Z"
   },
   {
    "duration": 113,
    "start_time": "2025-07-16T11:50:13.226Z"
   },
   {
    "duration": 28,
    "start_time": "2025-07-16T11:50:25.948Z"
   },
   {
    "duration": 4116,
    "start_time": "2025-07-16T11:50:55.492Z"
   },
   {
    "duration": 2,
    "start_time": "2025-07-16T11:50:59.610Z"
   },
   {
    "duration": 1942,
    "start_time": "2025-07-16T11:50:59.614Z"
   },
   {
    "duration": 142,
    "start_time": "2025-07-16T11:51:01.559Z"
   },
   {
    "duration": 1305,
    "start_time": "2025-07-16T11:51:01.703Z"
   },
   {
    "duration": 19,
    "start_time": "2025-07-16T11:51:03.010Z"
   },
   {
    "duration": 58,
    "start_time": "2025-07-16T11:51:03.031Z"
   },
   {
    "duration": 94,
    "start_time": "2025-07-16T11:51:03.090Z"
   },
   {
    "duration": 588,
    "start_time": "2025-07-16T11:51:03.186Z"
   },
   {
    "duration": 249,
    "start_time": "2025-07-16T11:51:03.776Z"
   },
   {
    "duration": 277,
    "start_time": "2025-07-16T11:51:04.027Z"
   },
   {
    "duration": 25,
    "start_time": "2025-07-16T11:51:04.306Z"
   },
   {
    "duration": 512,
    "start_time": "2025-07-16T11:51:04.332Z"
   },
   {
    "duration": 256,
    "start_time": "2025-07-16T11:51:04.852Z"
   },
   {
    "duration": 268,
    "start_time": "2025-07-16T11:51:05.110Z"
   },
   {
    "duration": 3563,
    "start_time": "2025-07-16T11:51:05.380Z"
   },
   {
    "duration": 1039,
    "start_time": "2025-07-16T11:51:08.944Z"
   },
   {
    "duration": 155,
    "start_time": "2025-07-16T11:51:09.985Z"
   },
   {
    "duration": 766,
    "start_time": "2025-07-16T11:51:10.141Z"
   },
   {
    "duration": 25,
    "start_time": "2025-07-16T11:51:10.909Z"
   },
   {
    "duration": 4639,
    "start_time": "2025-07-16T11:51:10.935Z"
   },
   {
    "duration": 2196,
    "start_time": "2025-07-16T11:51:15.576Z"
   },
   {
    "duration": 486,
    "start_time": "2025-07-16T11:51:17.775Z"
   },
   {
    "duration": 441,
    "start_time": "2025-07-16T11:51:18.264Z"
   },
   {
    "duration": 354,
    "start_time": "2025-07-16T11:51:18.707Z"
   },
   {
    "duration": 26,
    "start_time": "2025-07-16T11:51:19.064Z"
   },
   {
    "duration": 1465,
    "start_time": "2025-07-16T11:51:19.092Z"
   },
   {
    "duration": 1322,
    "start_time": "2025-07-16T11:51:20.560Z"
   },
   {
    "duration": 1571,
    "start_time": "2025-07-16T11:51:21.884Z"
   },
   {
    "duration": 20,
    "start_time": "2025-07-16T11:51:23.459Z"
   },
   {
    "duration": 12,
    "start_time": "2025-07-16T11:51:23.481Z"
   },
   {
    "duration": 538,
    "start_time": "2025-07-16T11:51:23.495Z"
   },
   {
    "duration": 609,
    "start_time": "2025-07-16T11:51:24.034Z"
   },
   {
    "duration": 519,
    "start_time": "2025-07-16T11:51:24.649Z"
   },
   {
    "duration": 10,
    "start_time": "2025-07-16T11:51:25.171Z"
   },
   {
    "duration": 361,
    "start_time": "2025-07-16T11:51:25.182Z"
   },
   {
    "duration": 18,
    "start_time": "2025-07-16T11:51:25.549Z"
   },
   {
    "duration": 245,
    "start_time": "2025-07-16T11:51:25.571Z"
   },
   {
    "duration": 432,
    "start_time": "2025-07-16T11:51:25.818Z"
   },
   {
    "duration": 866,
    "start_time": "2025-07-16T11:51:26.252Z"
   },
   {
    "duration": 73,
    "start_time": "2025-07-16T11:51:27.122Z"
   },
   {
    "duration": 321,
    "start_time": "2025-07-16T11:51:27.197Z"
   },
   {
    "duration": 374,
    "start_time": "2025-07-16T11:51:27.520Z"
   },
   {
    "duration": 92,
    "start_time": "2025-07-16T11:51:27.896Z"
   },
   {
    "duration": 1452,
    "start_time": "2025-07-16T11:51:27.990Z"
   },
   {
    "duration": 34,
    "start_time": "2025-07-16T11:51:29.444Z"
   },
   {
    "duration": 401,
    "start_time": "2025-07-16T11:51:29.480Z"
   },
   {
    "duration": 123,
    "start_time": "2025-07-16T11:51:29.883Z"
   },
   {
    "duration": 174,
    "start_time": "2025-07-16T11:51:30.007Z"
   },
   {
    "duration": 2034,
    "start_time": "2025-07-16T11:52:10.756Z"
   },
   {
    "duration": 209,
    "start_time": "2025-07-16T11:53:10.614Z"
   },
   {
    "duration": 198,
    "start_time": "2025-07-16T11:53:32.417Z"
   },
   {
    "duration": 125,
    "start_time": "2025-07-16T11:53:44.334Z"
   },
   {
    "duration": 204,
    "start_time": "2025-07-16T11:55:45.927Z"
   },
   {
    "duration": 304,
    "start_time": "2025-07-16T11:55:52.545Z"
   },
   {
    "duration": 190,
    "start_time": "2025-07-16T11:55:58.863Z"
   },
   {
    "duration": 202,
    "start_time": "2025-07-16T11:57:15.476Z"
   },
   {
    "duration": 199,
    "start_time": "2025-07-16T11:58:19.617Z"
   },
   {
    "duration": 11,
    "start_time": "2025-07-16T12:08:53.928Z"
   },
   {
    "duration": 120,
    "start_time": "2025-07-16T12:09:15.095Z"
   },
   {
    "duration": 99,
    "start_time": "2025-07-16T12:12:00.174Z"
   },
   {
    "duration": 100,
    "start_time": "2025-07-16T12:12:18.966Z"
   },
   {
    "duration": 98,
    "start_time": "2025-07-16T12:21:17.633Z"
   },
   {
    "duration": 1240,
    "start_time": "2025-07-16T12:23:19.182Z"
   },
   {
    "duration": 100,
    "start_time": "2025-07-16T12:26:19.241Z"
   },
   {
    "duration": 110,
    "start_time": "2025-07-16T12:26:38.915Z"
   },
   {
    "duration": 191,
    "start_time": "2025-07-16T12:27:25.886Z"
   },
   {
    "duration": 227,
    "start_time": "2025-07-16T12:27:33.241Z"
   },
   {
    "duration": 109,
    "start_time": "2025-07-16T12:30:11.863Z"
   },
   {
    "duration": 110,
    "start_time": "2025-07-16T12:32:14.117Z"
   },
   {
    "duration": 1037,
    "start_time": "2025-07-16T12:37:16.631Z"
   },
   {
    "duration": 165,
    "start_time": "2025-07-16T12:38:03.066Z"
   },
   {
    "duration": 145,
    "start_time": "2025-07-16T12:38:13.498Z"
   },
   {
    "duration": 1103,
    "start_time": "2025-07-16T12:38:25.703Z"
   },
   {
    "duration": 1055,
    "start_time": "2025-07-16T12:38:48.345Z"
   },
   {
    "duration": 118,
    "start_time": "2025-07-16T12:40:42.066Z"
   },
   {
    "duration": 1086,
    "start_time": "2025-07-16T12:40:51.882Z"
   },
   {
    "duration": 571,
    "start_time": "2025-07-16T12:43:43.139Z"
   },
   {
    "duration": 574,
    "start_time": "2025-07-16T12:47:33.731Z"
   },
   {
    "duration": 514,
    "start_time": "2025-07-16T12:47:48.727Z"
   },
   {
    "duration": 530,
    "start_time": "2025-07-16T12:48:45.337Z"
   },
   {
    "duration": 637,
    "start_time": "2025-07-16T12:50:27.304Z"
   },
   {
    "duration": 568,
    "start_time": "2025-07-16T12:52:53.514Z"
   },
   {
    "duration": 614,
    "start_time": "2025-07-16T12:53:05.016Z"
   },
   {
    "duration": 554,
    "start_time": "2025-07-16T12:53:44.274Z"
   },
   {
    "duration": 593,
    "start_time": "2025-07-16T12:55:38.220Z"
   },
   {
    "duration": 596,
    "start_time": "2025-07-16T12:56:02.134Z"
   },
   {
    "duration": 111,
    "start_time": "2025-07-16T12:57:21.727Z"
   },
   {
    "duration": 64,
    "start_time": "2025-07-16T13:13:37.981Z"
   },
   {
    "duration": 4183,
    "start_time": "2025-07-16T13:53:01.729Z"
   },
   {
    "duration": 2,
    "start_time": "2025-07-16T13:53:05.914Z"
   },
   {
    "duration": 1761,
    "start_time": "2025-07-16T13:53:05.918Z"
   },
   {
    "duration": 143,
    "start_time": "2025-07-16T13:53:07.682Z"
   },
   {
    "duration": 282,
    "start_time": "2025-07-16T13:53:07.827Z"
   },
   {
    "duration": 22,
    "start_time": "2025-07-16T13:53:08.111Z"
   },
   {
    "duration": 46,
    "start_time": "2025-07-16T13:53:08.150Z"
   },
   {
    "duration": 11,
    "start_time": "2025-07-16T13:53:08.198Z"
   },
   {
    "duration": 577,
    "start_time": "2025-07-16T13:53:08.211Z"
   },
   {
    "duration": 249,
    "start_time": "2025-07-16T13:53:08.791Z"
   },
   {
    "duration": 269,
    "start_time": "2025-07-16T13:53:09.041Z"
   },
   {
    "duration": 38,
    "start_time": "2025-07-16T13:53:09.311Z"
   },
   {
    "duration": 392,
    "start_time": "2025-07-16T13:53:09.351Z"
   },
   {
    "duration": 267,
    "start_time": "2025-07-16T13:53:09.745Z"
   },
   {
    "duration": 229,
    "start_time": "2025-07-16T13:53:10.014Z"
   },
   {
    "duration": 3730,
    "start_time": "2025-07-16T13:53:10.249Z"
   },
   {
    "duration": 935,
    "start_time": "2025-07-16T13:53:13.981Z"
   },
   {
    "duration": 160,
    "start_time": "2025-07-16T13:53:14.918Z"
   },
   {
    "duration": 788,
    "start_time": "2025-07-16T13:53:15.080Z"
   },
   {
    "duration": 25,
    "start_time": "2025-07-16T13:53:15.870Z"
   },
   {
    "duration": 4799,
    "start_time": "2025-07-16T13:53:15.897Z"
   },
   {
    "duration": 2075,
    "start_time": "2025-07-16T13:53:20.697Z"
   },
   {
    "duration": 465,
    "start_time": "2025-07-16T13:53:22.775Z"
   },
   {
    "duration": 440,
    "start_time": "2025-07-16T13:53:23.242Z"
   },
   {
    "duration": 345,
    "start_time": "2025-07-16T13:53:23.684Z"
   },
   {
    "duration": 30,
    "start_time": "2025-07-16T13:53:24.031Z"
   },
   {
    "duration": 1375,
    "start_time": "2025-07-16T13:53:24.064Z"
   },
   {
    "duration": 1302,
    "start_time": "2025-07-16T13:53:25.453Z"
   },
   {
    "duration": 1398,
    "start_time": "2025-07-16T13:53:26.758Z"
   },
   {
    "duration": 16,
    "start_time": "2025-07-16T13:53:28.164Z"
   },
   {
    "duration": 14,
    "start_time": "2025-07-16T13:53:28.182Z"
   },
   {
    "duration": 595,
    "start_time": "2025-07-16T13:53:28.198Z"
   },
   {
    "duration": 506,
    "start_time": "2025-07-16T13:53:28.795Z"
   },
   {
    "duration": 516,
    "start_time": "2025-07-16T13:53:29.303Z"
   },
   {
    "duration": 8,
    "start_time": "2025-07-16T13:53:29.821Z"
   },
   {
    "duration": 341,
    "start_time": "2025-07-16T13:53:29.831Z"
   },
   {
    "duration": 11,
    "start_time": "2025-07-16T13:53:30.174Z"
   },
   {
    "duration": 234,
    "start_time": "2025-07-16T13:53:30.187Z"
   },
   {
    "duration": 457,
    "start_time": "2025-07-16T13:53:30.423Z"
   },
   {
    "duration": 841,
    "start_time": "2025-07-16T13:53:30.881Z"
   },
   {
    "duration": 76,
    "start_time": "2025-07-16T13:53:31.724Z"
   },
   {
    "duration": 310,
    "start_time": "2025-07-16T13:53:31.802Z"
   },
   {
    "duration": 392,
    "start_time": "2025-07-16T13:53:32.114Z"
   },
   {
    "duration": 87,
    "start_time": "2025-07-16T13:53:32.508Z"
   },
   {
    "duration": 1394,
    "start_time": "2025-07-16T13:53:32.596Z"
   },
   {
    "duration": 15,
    "start_time": "2025-07-16T13:53:33.992Z"
   },
   {
    "duration": 391,
    "start_time": "2025-07-16T13:53:34.009Z"
   },
   {
    "duration": 132,
    "start_time": "2025-07-16T13:53:34.402Z"
   },
   {
    "duration": 218,
    "start_time": "2025-07-16T13:53:34.536Z"
   },
   {
    "duration": 113,
    "start_time": "2025-07-16T13:53:34.757Z"
   },
   {
    "duration": 601,
    "start_time": "2025-07-16T13:53:34.873Z"
   },
   {
    "duration": 4192,
    "start_time": "2025-07-16T13:56:34.288Z"
   },
   {
    "duration": 3,
    "start_time": "2025-07-16T13:56:38.482Z"
   },
   {
    "duration": 1296,
    "start_time": "2025-07-16T13:56:38.487Z"
   },
   {
    "duration": 121,
    "start_time": "2025-07-16T13:56:39.785Z"
   },
   {
    "duration": 318,
    "start_time": "2025-07-16T13:56:39.908Z"
   },
   {
    "duration": 24,
    "start_time": "2025-07-16T13:56:40.227Z"
   },
   {
    "duration": 59,
    "start_time": "2025-07-16T13:56:40.253Z"
   },
   {
    "duration": 11,
    "start_time": "2025-07-16T13:56:40.314Z"
   },
   {
    "duration": 568,
    "start_time": "2025-07-16T13:56:40.327Z"
   },
   {
    "duration": 267,
    "start_time": "2025-07-16T13:56:40.899Z"
   },
   {
    "duration": 304,
    "start_time": "2025-07-16T13:56:41.169Z"
   },
   {
    "duration": 28,
    "start_time": "2025-07-16T13:56:41.474Z"
   },
   {
    "duration": 446,
    "start_time": "2025-07-16T13:56:41.504Z"
   },
   {
    "duration": 292,
    "start_time": "2025-07-16T13:56:41.953Z"
   },
   {
    "duration": 224,
    "start_time": "2025-07-16T13:56:42.249Z"
   },
   {
    "duration": 3835,
    "start_time": "2025-07-16T13:56:42.475Z"
   },
   {
    "duration": 1062,
    "start_time": "2025-07-16T13:56:46.312Z"
   },
   {
    "duration": 153,
    "start_time": "2025-07-16T13:56:47.376Z"
   },
   {
    "duration": 760,
    "start_time": "2025-07-16T13:56:47.531Z"
   },
   {
    "duration": 42,
    "start_time": "2025-07-16T13:56:48.293Z"
   },
   {
    "duration": 4565,
    "start_time": "2025-07-16T13:56:48.351Z"
   },
   {
    "duration": 2131,
    "start_time": "2025-07-16T13:56:52.918Z"
   },
   {
    "duration": 477,
    "start_time": "2025-07-16T13:56:55.052Z"
   },
   {
    "duration": 410,
    "start_time": "2025-07-16T13:56:55.531Z"
   },
   {
    "duration": 345,
    "start_time": "2025-07-16T13:56:55.943Z"
   },
   {
    "duration": 22,
    "start_time": "2025-07-16T13:56:56.290Z"
   },
   {
    "duration": 1472,
    "start_time": "2025-07-16T13:56:56.314Z"
   },
   {
    "duration": 1308,
    "start_time": "2025-07-16T13:56:57.790Z"
   },
   {
    "duration": 1544,
    "start_time": "2025-07-16T13:56:59.099Z"
   },
   {
    "duration": 17,
    "start_time": "2025-07-16T13:57:00.645Z"
   },
   {
    "duration": 102,
    "start_time": "2025-07-16T13:57:00.665Z"
   },
   {
    "duration": 482,
    "start_time": "2025-07-16T13:57:00.769Z"
   },
   {
    "duration": 600,
    "start_time": "2025-07-16T13:57:01.253Z"
   },
   {
    "duration": 517,
    "start_time": "2025-07-16T13:57:01.857Z"
   },
   {
    "duration": 9,
    "start_time": "2025-07-16T13:57:02.376Z"
   },
   {
    "duration": 385,
    "start_time": "2025-07-16T13:57:02.387Z"
   },
   {
    "duration": 12,
    "start_time": "2025-07-16T13:57:02.774Z"
   },
   {
    "duration": 233,
    "start_time": "2025-07-16T13:57:02.788Z"
   },
   {
    "duration": 456,
    "start_time": "2025-07-16T13:57:03.024Z"
   },
   {
    "duration": 825,
    "start_time": "2025-07-16T13:57:03.482Z"
   },
   {
    "duration": 74,
    "start_time": "2025-07-16T13:57:04.309Z"
   },
   {
    "duration": 313,
    "start_time": "2025-07-16T13:57:04.385Z"
   },
   {
    "duration": 386,
    "start_time": "2025-07-16T13:57:04.700Z"
   },
   {
    "duration": 97,
    "start_time": "2025-07-16T13:57:05.088Z"
   },
   {
    "duration": 1475,
    "start_time": "2025-07-16T13:57:05.188Z"
   },
   {
    "duration": 17,
    "start_time": "2025-07-16T13:57:06.667Z"
   },
   {
    "duration": 507,
    "start_time": "2025-07-16T13:57:06.686Z"
   },
   {
    "duration": 123,
    "start_time": "2025-07-16T13:57:07.195Z"
   },
   {
    "duration": 228,
    "start_time": "2025-07-16T13:57:07.320Z"
   },
   {
    "duration": 130,
    "start_time": "2025-07-16T13:57:07.554Z"
   },
   {
    "duration": 555,
    "start_time": "2025-07-16T13:57:07.686Z"
   },
   {
    "duration": 4300,
    "start_time": "2025-07-16T15:09:15.969Z"
   },
   {
    "duration": 3,
    "start_time": "2025-07-16T15:09:20.272Z"
   },
   {
    "duration": 1719,
    "start_time": "2025-07-16T15:09:20.277Z"
   },
   {
    "duration": 118,
    "start_time": "2025-07-16T15:09:21.999Z"
   },
   {
    "duration": 243,
    "start_time": "2025-07-16T15:09:22.118Z"
   },
   {
    "duration": 20,
    "start_time": "2025-07-16T15:09:22.363Z"
   },
   {
    "duration": 31,
    "start_time": "2025-07-16T15:09:22.385Z"
   },
   {
    "duration": 10,
    "start_time": "2025-07-16T15:09:22.418Z"
   },
   {
    "duration": 551,
    "start_time": "2025-07-16T15:09:22.430Z"
   },
   {
    "duration": 239,
    "start_time": "2025-07-16T15:09:22.984Z"
   },
   {
    "duration": 309,
    "start_time": "2025-07-16T15:09:23.224Z"
   },
   {
    "duration": 40,
    "start_time": "2025-07-16T15:09:23.535Z"
   },
   {
    "duration": 437,
    "start_time": "2025-07-16T15:09:23.577Z"
   },
   {
    "duration": 304,
    "start_time": "2025-07-16T15:09:24.016Z"
   },
   {
    "duration": 248,
    "start_time": "2025-07-16T15:09:24.322Z"
   },
   {
    "duration": 3920,
    "start_time": "2025-07-16T15:09:24.572Z"
   },
   {
    "duration": 1083,
    "start_time": "2025-07-16T15:09:28.494Z"
   },
   {
    "duration": 159,
    "start_time": "2025-07-16T15:09:29.579Z"
   },
   {
    "duration": 861,
    "start_time": "2025-07-16T15:09:29.740Z"
   },
   {
    "duration": 29,
    "start_time": "2025-07-16T15:09:30.603Z"
   },
   {
    "duration": 4915,
    "start_time": "2025-07-16T15:09:30.634Z"
   },
   {
    "duration": 2172,
    "start_time": "2025-07-16T15:09:35.552Z"
   },
   {
    "duration": 518,
    "start_time": "2025-07-16T15:09:37.726Z"
   },
   {
    "duration": 470,
    "start_time": "2025-07-16T15:09:38.246Z"
   },
   {
    "duration": 388,
    "start_time": "2025-07-16T15:09:38.718Z"
   },
   {
    "duration": 22,
    "start_time": "2025-07-16T15:09:39.108Z"
   },
   {
    "duration": 1381,
    "start_time": "2025-07-16T15:09:39.132Z"
   },
   {
    "duration": 1322,
    "start_time": "2025-07-16T15:09:40.516Z"
   },
   {
    "duration": 1577,
    "start_time": "2025-07-16T15:09:41.840Z"
   },
   {
    "duration": 13,
    "start_time": "2025-07-16T15:09:43.419Z"
   },
   {
    "duration": 26,
    "start_time": "2025-07-16T15:09:43.434Z"
   },
   {
    "duration": 562,
    "start_time": "2025-07-16T15:09:43.462Z"
   },
   {
    "duration": 526,
    "start_time": "2025-07-16T15:09:44.026Z"
   },
   {
    "duration": 490,
    "start_time": "2025-07-16T15:09:44.555Z"
   },
   {
    "duration": 12,
    "start_time": "2025-07-16T15:09:45.051Z"
   },
   {
    "duration": 390,
    "start_time": "2025-07-16T15:09:45.066Z"
   },
   {
    "duration": 19,
    "start_time": "2025-07-16T15:09:45.460Z"
   },
   {
    "duration": 219,
    "start_time": "2025-07-16T15:09:45.481Z"
   },
   {
    "duration": 438,
    "start_time": "2025-07-16T15:09:45.702Z"
   },
   {
    "duration": 864,
    "start_time": "2025-07-16T15:09:46.142Z"
   },
   {
    "duration": 82,
    "start_time": "2025-07-16T15:09:47.008Z"
   },
   {
    "duration": 316,
    "start_time": "2025-07-16T15:09:47.092Z"
   },
   {
    "duration": 373,
    "start_time": "2025-07-16T15:09:47.410Z"
   },
   {
    "duration": 86,
    "start_time": "2025-07-16T15:09:47.785Z"
   },
   {
    "duration": 1429,
    "start_time": "2025-07-16T15:09:47.873Z"
   },
   {
    "duration": 16,
    "start_time": "2025-07-16T15:09:49.304Z"
   },
   {
    "duration": 473,
    "start_time": "2025-07-16T15:09:49.322Z"
   },
   {
    "duration": 128,
    "start_time": "2025-07-16T15:09:49.797Z"
   },
   {
    "duration": 242,
    "start_time": "2025-07-16T15:09:49.926Z"
   },
   {
    "duration": 124,
    "start_time": "2025-07-16T15:09:50.170Z"
   },
   {
    "duration": 590,
    "start_time": "2025-07-16T15:09:50.296Z"
   },
   {
    "duration": 1689,
    "start_time": "2025-07-16T15:09:50.888Z"
   },
   {
    "duration": 106,
    "start_time": "2025-07-16T15:10:15.231Z"
   },
   {
    "duration": 3024,
    "start_time": "2025-07-16T15:24:44.328Z"
   },
   {
    "duration": 2791,
    "start_time": "2025-07-16T15:25:31.564Z"
   },
   {
    "duration": 2718,
    "start_time": "2025-07-16T15:25:57.244Z"
   },
   {
    "duration": 2627,
    "start_time": "2025-07-16T15:27:27.161Z"
   },
   {
    "duration": 2391,
    "start_time": "2025-07-16T15:28:05.514Z"
   },
   {
    "duration": 2541,
    "start_time": "2025-07-16T15:28:49.939Z"
   },
   {
    "duration": 592,
    "start_time": "2025-07-16T15:35:08.075Z"
   },
   {
    "duration": 172,
    "start_time": "2025-07-16T15:36:02.880Z"
   },
   {
    "duration": 673,
    "start_time": "2025-07-16T15:36:03.771Z"
   },
   {
    "duration": 611,
    "start_time": "2025-07-16T15:36:42.356Z"
   },
   {
    "duration": 28,
    "start_time": "2025-07-16T15:36:50.405Z"
   },
   {
    "duration": 1907,
    "start_time": "2025-07-16T15:36:55.975Z"
   },
   {
    "duration": 1816,
    "start_time": "2025-07-16T15:37:01.836Z"
   },
   {
    "duration": 2138,
    "start_time": "2025-07-16T15:37:36.471Z"
   },
   {
    "duration": 19,
    "start_time": "2025-07-16T15:37:55.069Z"
   },
   {
    "duration": 15,
    "start_time": "2025-07-16T15:38:05.263Z"
   },
   {
    "duration": 466,
    "start_time": "2025-07-16T15:38:09.368Z"
   },
   {
    "duration": 467,
    "start_time": "2025-07-16T15:38:14.670Z"
   },
   {
    "duration": 529,
    "start_time": "2025-07-16T15:38:24.832Z"
   },
   {
    "duration": 16,
    "start_time": "2025-07-16T15:38:35.950Z"
   },
   {
    "duration": 550,
    "start_time": "2025-07-16T15:38:44.870Z"
   },
   {
    "duration": 9,
    "start_time": "2025-07-16T15:41:56.285Z"
   },
   {
    "duration": 202,
    "start_time": "2025-07-16T15:42:00.416Z"
   },
   {
    "duration": 744,
    "start_time": "2025-07-16T15:42:08.021Z"
   },
   {
    "duration": 926,
    "start_time": "2025-07-16T15:42:17.575Z"
   },
   {
    "duration": 77,
    "start_time": "2025-07-16T15:48:42.799Z"
   },
   {
    "duration": 265,
    "start_time": "2025-07-16T15:48:50.341Z"
   },
   {
    "duration": 326,
    "start_time": "2025-07-16T15:51:07.085Z"
   },
   {
    "duration": 106,
    "start_time": "2025-07-16T16:04:41.107Z"
   },
   {
    "duration": 1187,
    "start_time": "2025-07-16T16:04:44.523Z"
   },
   {
    "duration": 19,
    "start_time": "2025-07-16T16:15:28.823Z"
   },
   {
    "duration": 561,
    "start_time": "2025-07-16T16:15:28.845Z"
   },
   {
    "duration": 196,
    "start_time": "2025-07-16T16:24:49.644Z"
   },
   {
    "duration": 208,
    "start_time": "2025-07-16T16:25:00.523Z"
   },
   {
    "duration": 164,
    "start_time": "2025-07-16T16:26:22.457Z"
   },
   {
    "duration": 556,
    "start_time": "2025-07-16T16:27:08.016Z"
   },
   {
    "duration": 49,
    "start_time": "2025-07-16T16:48:53.881Z"
   },
   {
    "duration": 65,
    "start_time": "2025-07-16T16:49:33.544Z"
   },
   {
    "duration": 50,
    "start_time": "2025-07-16T16:50:30.974Z"
   },
   {
    "duration": 49,
    "start_time": "2025-07-16T16:51:58.080Z"
   },
   {
    "duration": 4341,
    "start_time": "2025-07-16T16:59:42.116Z"
   },
   {
    "duration": 6,
    "start_time": "2025-07-16T16:59:46.463Z"
   },
   {
    "duration": 1788,
    "start_time": "2025-07-16T16:59:46.471Z"
   },
   {
    "duration": 151,
    "start_time": "2025-07-16T16:59:48.270Z"
   },
   {
    "duration": 268,
    "start_time": "2025-07-16T16:59:48.423Z"
   },
   {
    "duration": 20,
    "start_time": "2025-07-16T16:59:48.692Z"
   },
   {
    "duration": 101,
    "start_time": "2025-07-16T16:59:48.714Z"
   },
   {
    "duration": 11,
    "start_time": "2025-07-16T16:59:48.816Z"
   },
   {
    "duration": 560,
    "start_time": "2025-07-16T16:59:48.830Z"
   },
   {
    "duration": 251,
    "start_time": "2025-07-16T16:59:49.393Z"
   },
   {
    "duration": 330,
    "start_time": "2025-07-16T16:59:49.646Z"
   },
   {
    "duration": 28,
    "start_time": "2025-07-16T16:59:49.980Z"
   },
   {
    "duration": 453,
    "start_time": "2025-07-16T16:59:50.010Z"
   },
   {
    "duration": 318,
    "start_time": "2025-07-16T16:59:50.466Z"
   },
   {
    "duration": 259,
    "start_time": "2025-07-16T16:59:50.786Z"
   },
   {
    "duration": 3960,
    "start_time": "2025-07-16T16:59:51.047Z"
   },
   {
    "duration": 1032,
    "start_time": "2025-07-16T16:59:55.010Z"
   },
   {
    "duration": 173,
    "start_time": "2025-07-16T16:59:56.043Z"
   },
   {
    "duration": 880,
    "start_time": "2025-07-16T16:59:56.218Z"
   },
   {
    "duration": 22,
    "start_time": "2025-07-16T16:59:57.100Z"
   },
   {
    "duration": 4989,
    "start_time": "2025-07-16T16:59:57.124Z"
   },
   {
    "duration": 2873,
    "start_time": "2025-07-16T17:00:02.117Z"
   },
   {
    "duration": 725,
    "start_time": "2025-07-16T17:00:04.992Z"
   },
   {
    "duration": 675,
    "start_time": "2025-07-16T17:00:05.719Z"
   },
   {
    "duration": 579,
    "start_time": "2025-07-16T17:00:06.396Z"
   },
   {
    "duration": 27,
    "start_time": "2025-07-16T17:00:06.977Z"
   },
   {
    "duration": 1963,
    "start_time": "2025-07-16T17:00:07.006Z"
   },
   {
    "duration": 1868,
    "start_time": "2025-07-16T17:00:08.976Z"
   },
   {
    "duration": 2127,
    "start_time": "2025-07-16T17:00:10.846Z"
   },
   {
    "duration": 23,
    "start_time": "2025-07-16T17:00:12.974Z"
   },
   {
    "duration": 78,
    "start_time": "2025-07-16T17:00:12.999Z"
   },
   {
    "duration": 617,
    "start_time": "2025-07-16T17:00:13.080Z"
   },
   {
    "duration": 540,
    "start_time": "2025-07-16T17:00:13.699Z"
   },
   {
    "duration": 517,
    "start_time": "2025-07-16T17:00:14.241Z"
   },
   {
    "duration": 19,
    "start_time": "2025-07-16T17:00:14.762Z"
   },
   {
    "duration": 524,
    "start_time": "2025-07-16T17:00:14.783Z"
   },
   {
    "duration": 14,
    "start_time": "2025-07-16T17:00:15.309Z"
   },
   {
    "duration": 240,
    "start_time": "2025-07-16T17:00:15.325Z"
   },
   {
    "duration": 664,
    "start_time": "2025-07-16T17:00:15.574Z"
   },
   {
    "duration": 961,
    "start_time": "2025-07-16T17:00:16.240Z"
   },
   {
    "duration": 97,
    "start_time": "2025-07-16T17:00:17.203Z"
   },
   {
    "duration": 299,
    "start_time": "2025-07-16T17:00:17.302Z"
   },
   {
    "duration": 395,
    "start_time": "2025-07-16T17:00:17.603Z"
   },
   {
    "duration": 119,
    "start_time": "2025-07-16T17:00:18.001Z"
   },
   {
    "duration": 1358,
    "start_time": "2025-07-16T17:00:18.122Z"
   },
   {
    "duration": 15,
    "start_time": "2025-07-16T17:00:19.482Z"
   },
   {
    "duration": 555,
    "start_time": "2025-07-16T17:00:19.499Z"
   },
   {
    "duration": 184,
    "start_time": "2025-07-16T17:00:20.056Z"
   },
   {
    "duration": 231,
    "start_time": "2025-07-16T17:00:20.242Z"
   },
   {
    "duration": 160,
    "start_time": "2025-07-16T17:00:20.478Z"
   },
   {
    "duration": 678,
    "start_time": "2025-07-16T17:00:20.640Z"
   },
   {
    "duration": 175,
    "start_time": "2025-07-16T17:00:21.321Z"
   },
   {
    "duration": 269,
    "start_time": "2025-07-16T17:00:21.498Z"
   },
   {
    "duration": 218,
    "start_time": "2025-07-16T17:00:21.774Z"
   },
   {
    "duration": 56,
    "start_time": "2025-07-16T20:09:16.612Z"
   },
   {
    "duration": 10512,
    "start_time": "2025-07-16T20:09:25.036Z"
   },
   {
    "duration": 3,
    "start_time": "2025-07-16T20:09:35.550Z"
   },
   {
    "duration": 1368,
    "start_time": "2025-07-16T20:09:35.555Z"
   },
   {
    "duration": 124,
    "start_time": "2025-07-16T20:09:36.926Z"
   },
   {
    "duration": 287,
    "start_time": "2025-07-16T20:09:37.053Z"
   },
   {
    "duration": 20,
    "start_time": "2025-07-16T20:09:37.342Z"
   },
   {
    "duration": 43,
    "start_time": "2025-07-16T20:09:37.364Z"
   },
   {
    "duration": 11,
    "start_time": "2025-07-16T20:09:37.409Z"
   },
   {
    "duration": 511,
    "start_time": "2025-07-16T20:09:37.421Z"
   },
   {
    "duration": 240,
    "start_time": "2025-07-16T20:09:37.936Z"
   },
   {
    "duration": 292,
    "start_time": "2025-07-16T20:09:38.178Z"
   },
   {
    "duration": 36,
    "start_time": "2025-07-16T20:09:38.471Z"
   },
   {
    "duration": 396,
    "start_time": "2025-07-16T20:09:38.508Z"
   },
   {
    "duration": 254,
    "start_time": "2025-07-16T20:09:38.906Z"
   },
   {
    "duration": 219,
    "start_time": "2025-07-16T20:09:39.162Z"
   },
   {
    "duration": 3540,
    "start_time": "2025-07-16T20:09:39.382Z"
   },
   {
    "duration": 887,
    "start_time": "2025-07-16T20:09:42.923Z"
   },
   {
    "duration": 149,
    "start_time": "2025-07-16T20:09:43.812Z"
   },
   {
    "duration": 743,
    "start_time": "2025-07-16T20:09:43.963Z"
   },
   {
    "duration": 43,
    "start_time": "2025-07-16T20:09:44.709Z"
   },
   {
    "duration": 4449,
    "start_time": "2025-07-16T20:09:44.756Z"
   },
   {
    "duration": 2601,
    "start_time": "2025-07-16T20:09:49.207Z"
   },
   {
    "duration": 687,
    "start_time": "2025-07-16T20:09:51.810Z"
   },
   {
    "duration": 667,
    "start_time": "2025-07-16T20:09:52.499Z"
   },
   {
    "duration": 526,
    "start_time": "2025-07-16T20:09:53.168Z"
   },
   {
    "duration": 30,
    "start_time": "2025-07-16T20:09:53.696Z"
   },
   {
    "duration": 1858,
    "start_time": "2025-07-16T20:09:53.727Z"
   },
   {
    "duration": 1586,
    "start_time": "2025-07-16T20:09:55.589Z"
   },
   {
    "duration": 1983,
    "start_time": "2025-07-16T20:09:57.176Z"
   },
   {
    "duration": 17,
    "start_time": "2025-07-16T20:09:59.161Z"
   },
   {
    "duration": 25,
    "start_time": "2025-07-16T20:09:59.180Z"
   },
   {
    "duration": 552,
    "start_time": "2025-07-16T20:09:59.207Z"
   },
   {
    "duration": 500,
    "start_time": "2025-07-16T20:09:59.761Z"
   },
   {
    "duration": 509,
    "start_time": "2025-07-16T20:10:00.263Z"
   },
   {
    "duration": 26,
    "start_time": "2025-07-16T20:10:00.773Z"
   },
   {
    "duration": 538,
    "start_time": "2025-07-16T20:10:00.801Z"
   },
   {
    "duration": 15,
    "start_time": "2025-07-16T20:10:01.341Z"
   },
   {
    "duration": 212,
    "start_time": "2025-07-16T20:10:01.357Z"
   },
   {
    "duration": 677,
    "start_time": "2025-07-16T20:10:01.570Z"
   },
   {
    "duration": 878,
    "start_time": "2025-07-16T20:10:02.249Z"
   },
   {
    "duration": 96,
    "start_time": "2025-07-16T20:10:03.129Z"
   },
   {
    "duration": 277,
    "start_time": "2025-07-16T20:10:03.227Z"
   },
   {
    "duration": 436,
    "start_time": "2025-07-16T20:10:03.506Z"
   },
   {
    "duration": 121,
    "start_time": "2025-07-16T20:10:03.944Z"
   },
   {
    "duration": 1240,
    "start_time": "2025-07-16T20:10:04.067Z"
   },
   {
    "duration": 17,
    "start_time": "2025-07-16T20:10:05.309Z"
   },
   {
    "duration": 373,
    "start_time": "2025-07-16T20:10:05.328Z"
   },
   {
    "duration": 200,
    "start_time": "2025-07-16T20:10:05.704Z"
   },
   {
    "duration": 263,
    "start_time": "2025-07-16T20:10:05.906Z"
   },
   {
    "duration": 172,
    "start_time": "2025-07-16T20:10:06.171Z"
   },
   {
    "duration": 582,
    "start_time": "2025-07-16T20:10:06.345Z"
   },
   {
    "duration": 172,
    "start_time": "2025-07-16T20:10:06.930Z"
   },
   {
    "duration": 108,
    "start_time": "2025-07-16T20:10:07.104Z"
   },
   {
    "duration": 1694,
    "start_time": "2025-07-16T20:10:07.213Z"
   },
   {
    "duration": 78,
    "start_time": "2025-07-16T20:13:21.173Z"
   },
   {
    "duration": 43,
    "start_time": "2025-07-16T20:54:14.430Z"
   },
   {
    "duration": 3981,
    "start_time": "2025-07-16T20:54:26.777Z"
   },
   {
    "duration": 3,
    "start_time": "2025-07-16T20:54:30.760Z"
   },
   {
    "duration": 1695,
    "start_time": "2025-07-16T20:54:30.765Z"
   },
   {
    "duration": 124,
    "start_time": "2025-07-16T20:54:32.463Z"
   },
   {
    "duration": 608,
    "start_time": "2025-07-16T20:54:32.588Z"
   },
   {
    "duration": 26,
    "start_time": "2025-07-16T20:54:33.198Z"
   },
   {
    "duration": 77,
    "start_time": "2025-07-16T20:54:33.227Z"
   },
   {
    "duration": 20,
    "start_time": "2025-07-16T20:54:33.306Z"
   },
   {
    "duration": 573,
    "start_time": "2025-07-16T20:54:33.329Z"
   },
   {
    "duration": 238,
    "start_time": "2025-07-16T20:54:33.906Z"
   },
   {
    "duration": 276,
    "start_time": "2025-07-16T20:54:34.147Z"
   },
   {
    "duration": 38,
    "start_time": "2025-07-16T20:54:34.425Z"
   },
   {
    "duration": 463,
    "start_time": "2025-07-16T20:54:34.465Z"
   },
   {
    "duration": 287,
    "start_time": "2025-07-16T20:54:34.930Z"
   },
   {
    "duration": 218,
    "start_time": "2025-07-16T20:54:35.220Z"
   },
   {
    "duration": 3496,
    "start_time": "2025-07-16T20:54:35.440Z"
   },
   {
    "duration": 944,
    "start_time": "2025-07-16T20:54:38.938Z"
   },
   {
    "duration": 153,
    "start_time": "2025-07-16T20:54:39.885Z"
   },
   {
    "duration": 726,
    "start_time": "2025-07-16T20:54:40.040Z"
   },
   {
    "duration": 33,
    "start_time": "2025-07-16T20:54:40.767Z"
   },
   {
    "duration": 4710,
    "start_time": "2025-07-16T20:54:40.802Z"
   },
   {
    "duration": 2798,
    "start_time": "2025-07-16T20:54:45.514Z"
   },
   {
    "duration": 726,
    "start_time": "2025-07-16T20:54:48.315Z"
   },
   {
    "duration": 698,
    "start_time": "2025-07-16T20:54:49.043Z"
   },
   {
    "duration": 539,
    "start_time": "2025-07-16T20:54:49.743Z"
   },
   {
    "duration": 38,
    "start_time": "2025-07-16T20:54:50.284Z"
   },
   {
    "duration": 1801,
    "start_time": "2025-07-16T20:54:50.324Z"
   },
   {
    "duration": 1656,
    "start_time": "2025-07-16T20:54:52.129Z"
   },
   {
    "duration": 1896,
    "start_time": "2025-07-16T20:54:53.787Z"
   },
   {
    "duration": 23,
    "start_time": "2025-07-16T20:54:55.685Z"
   },
   {
    "duration": 13,
    "start_time": "2025-07-16T20:54:55.710Z"
   },
   {
    "duration": 583,
    "start_time": "2025-07-16T20:54:55.725Z"
   },
   {
    "duration": 468,
    "start_time": "2025-07-16T20:54:56.311Z"
   },
   {
    "duration": 499,
    "start_time": "2025-07-16T20:54:56.781Z"
   },
   {
    "duration": 18,
    "start_time": "2025-07-16T20:54:57.283Z"
   },
   {
    "duration": 516,
    "start_time": "2025-07-16T20:54:57.304Z"
   },
   {
    "duration": 15,
    "start_time": "2025-07-16T20:54:57.822Z"
   },
   {
    "duration": 219,
    "start_time": "2025-07-16T20:54:57.839Z"
   },
   {
    "duration": 676,
    "start_time": "2025-07-16T20:54:58.060Z"
   },
   {
    "duration": 850,
    "start_time": "2025-07-16T20:54:58.738Z"
   },
   {
    "duration": 91,
    "start_time": "2025-07-16T20:54:59.590Z"
   },
   {
    "duration": 278,
    "start_time": "2025-07-16T20:54:59.683Z"
   },
   {
    "duration": 356,
    "start_time": "2025-07-16T20:54:59.963Z"
   },
   {
    "duration": 122,
    "start_time": "2025-07-16T20:55:00.321Z"
   },
   {
    "duration": 1295,
    "start_time": "2025-07-16T20:55:00.446Z"
   },
   {
    "duration": 17,
    "start_time": "2025-07-16T20:55:01.743Z"
   },
   {
    "duration": 444,
    "start_time": "2025-07-16T20:55:01.762Z"
   },
   {
    "duration": 182,
    "start_time": "2025-07-16T20:55:02.208Z"
   },
   {
    "duration": 218,
    "start_time": "2025-07-16T20:55:02.392Z"
   },
   {
    "duration": 172,
    "start_time": "2025-07-16T20:55:02.612Z"
   },
   {
    "duration": 544,
    "start_time": "2025-07-16T20:55:02.786Z"
   },
   {
    "duration": 167,
    "start_time": "2025-07-16T20:55:03.332Z"
   },
   {
    "duration": 84,
    "start_time": "2025-07-16T20:55:03.501Z"
   },
   {
    "duration": 143,
    "start_time": "2025-07-16T20:55:03.599Z"
   },
   {
    "duration": 0,
    "start_time": "2025-07-16T20:55:03.744Z"
   },
   {
    "duration": 301,
    "start_time": "2025-07-16T21:09:05.713Z"
   },
   {
    "duration": 276,
    "start_time": "2025-07-16T21:09:12.787Z"
   },
   {
    "duration": 287,
    "start_time": "2025-07-16T21:10:25.672Z"
   },
   {
    "duration": 12,
    "start_time": "2025-07-16T21:42:34.098Z"
   },
   {
    "duration": 5,
    "start_time": "2025-07-16T21:45:08.116Z"
   },
   {
    "duration": 119,
    "start_time": "2025-07-16T21:46:11.514Z"
   },
   {
    "duration": 5,
    "start_time": "2025-07-16T21:51:15.688Z"
   },
   {
    "duration": 11,
    "start_time": "2025-07-16T21:53:57.218Z"
   },
   {
    "duration": 97,
    "start_time": "2025-07-16T21:54:42.134Z"
   },
   {
    "duration": 101,
    "start_time": "2025-07-16T22:00:05.637Z"
   },
   {
    "duration": 9,
    "start_time": "2025-07-16T22:07:57.760Z"
   },
   {
    "duration": 136,
    "start_time": "2025-07-16T22:08:49.676Z"
   },
   {
    "duration": 145,
    "start_time": "2025-07-16T22:10:43.780Z"
   },
   {
    "duration": 144,
    "start_time": "2025-07-16T22:11:09.436Z"
   },
   {
    "duration": 3795,
    "start_time": "2025-07-16T22:11:17.894Z"
   },
   {
    "duration": 6,
    "start_time": "2025-07-16T22:11:21.692Z"
   },
   {
    "duration": 1653,
    "start_time": "2025-07-16T22:11:21.700Z"
   },
   {
    "duration": 113,
    "start_time": "2025-07-16T22:11:23.355Z"
   },
   {
    "duration": 310,
    "start_time": "2025-07-16T22:11:23.470Z"
   },
   {
    "duration": 23,
    "start_time": "2025-07-16T22:11:23.782Z"
   },
   {
    "duration": 101,
    "start_time": "2025-07-16T22:11:23.806Z"
   },
   {
    "duration": 10,
    "start_time": "2025-07-16T22:11:23.909Z"
   },
   {
    "duration": 495,
    "start_time": "2025-07-16T22:11:23.921Z"
   },
   {
    "duration": 235,
    "start_time": "2025-07-16T22:11:24.419Z"
   },
   {
    "duration": 280,
    "start_time": "2025-07-16T22:11:24.656Z"
   },
   {
    "duration": 27,
    "start_time": "2025-07-16T22:11:24.938Z"
   },
   {
    "duration": 396,
    "start_time": "2025-07-16T22:11:24.967Z"
   },
   {
    "duration": 264,
    "start_time": "2025-07-16T22:11:25.365Z"
   },
   {
    "duration": 211,
    "start_time": "2025-07-16T22:11:25.631Z"
   },
   {
    "duration": 3380,
    "start_time": "2025-07-16T22:11:25.844Z"
   },
   {
    "duration": 924,
    "start_time": "2025-07-16T22:11:29.226Z"
   },
   {
    "duration": 156,
    "start_time": "2025-07-16T22:11:30.152Z"
   },
   {
    "duration": 723,
    "start_time": "2025-07-16T22:11:30.310Z"
   },
   {
    "duration": 25,
    "start_time": "2025-07-16T22:11:31.035Z"
   },
   {
    "duration": 4332,
    "start_time": "2025-07-16T22:11:31.061Z"
   },
   {
    "duration": 2551,
    "start_time": "2025-07-16T22:11:35.399Z"
   },
   {
    "duration": 674,
    "start_time": "2025-07-16T22:11:37.952Z"
   },
   {
    "duration": 646,
    "start_time": "2025-07-16T22:11:38.627Z"
   },
   {
    "duration": 526,
    "start_time": "2025-07-16T22:11:39.275Z"
   },
   {
    "duration": 27,
    "start_time": "2025-07-16T22:11:39.802Z"
   },
   {
    "duration": 1764,
    "start_time": "2025-07-16T22:11:39.830Z"
   },
   {
    "duration": 1625,
    "start_time": "2025-07-16T22:11:41.598Z"
   },
   {
    "duration": 1933,
    "start_time": "2025-07-16T22:11:43.225Z"
   },
   {
    "duration": 17,
    "start_time": "2025-07-16T22:11:45.160Z"
   },
   {
    "duration": 60,
    "start_time": "2025-07-16T22:11:45.179Z"
   },
   {
    "duration": 588,
    "start_time": "2025-07-16T22:11:45.241Z"
   },
   {
    "duration": 475,
    "start_time": "2025-07-16T22:11:45.831Z"
   },
   {
    "duration": 462,
    "start_time": "2025-07-16T22:11:46.307Z"
   },
   {
    "duration": 7,
    "start_time": "2025-07-16T22:11:46.771Z"
   },
   {
    "duration": 548,
    "start_time": "2025-07-16T22:11:46.780Z"
   },
   {
    "duration": 15,
    "start_time": "2025-07-16T22:11:47.330Z"
   },
   {
    "duration": 210,
    "start_time": "2025-07-16T22:11:47.347Z"
   },
   {
    "duration": 659,
    "start_time": "2025-07-16T22:11:47.559Z"
   },
   {
    "duration": 808,
    "start_time": "2025-07-16T22:11:48.219Z"
   },
   {
    "duration": 92,
    "start_time": "2025-07-16T22:11:49.028Z"
   },
   {
    "duration": 268,
    "start_time": "2025-07-16T22:11:49.121Z"
   },
   {
    "duration": 328,
    "start_time": "2025-07-16T22:11:49.391Z"
   },
   {
    "duration": 112,
    "start_time": "2025-07-16T22:11:49.721Z"
   },
   {
    "duration": 1176,
    "start_time": "2025-07-16T22:11:49.834Z"
   },
   {
    "duration": 15,
    "start_time": "2025-07-16T22:11:51.012Z"
   },
   {
    "duration": 370,
    "start_time": "2025-07-16T22:11:51.028Z"
   },
   {
    "duration": 176,
    "start_time": "2025-07-16T22:11:51.401Z"
   },
   {
    "duration": 206,
    "start_time": "2025-07-16T22:11:51.580Z"
   },
   {
    "duration": 158,
    "start_time": "2025-07-16T22:11:51.788Z"
   },
   {
    "duration": 515,
    "start_time": "2025-07-16T22:11:51.949Z"
   },
   {
    "duration": 276,
    "start_time": "2025-07-16T22:11:52.466Z"
   },
   {
    "duration": 11,
    "start_time": "2025-07-16T22:11:52.744Z"
   },
   {
    "duration": 116,
    "start_time": "2025-07-16T22:11:52.757Z"
   },
   {
    "duration": 136,
    "start_time": "2025-07-16T22:11:52.874Z"
   },
   {
    "duration": 1811,
    "start_time": "2025-07-16T22:15:55.875Z"
   },
   {
    "duration": 132,
    "start_time": "2025-07-16T22:16:28.255Z"
   },
   {
    "duration": 108,
    "start_time": "2025-07-16T22:29:52.107Z"
   },
   {
    "duration": 309,
    "start_time": "2025-07-16T22:29:59.286Z"
   },
   {
    "duration": 261,
    "start_time": "2025-07-16T22:30:42.526Z"
   },
   {
    "duration": 248,
    "start_time": "2025-07-16T22:31:17.164Z"
   },
   {
    "duration": 87,
    "start_time": "2025-07-16T22:33:02.440Z"
   },
   {
    "duration": 343,
    "start_time": "2025-07-16T22:33:31.858Z"
   },
   {
    "duration": 3762,
    "start_time": "2025-07-16T22:33:39.303Z"
   },
   {
    "duration": 3,
    "start_time": "2025-07-16T22:33:43.067Z"
   },
   {
    "duration": 1702,
    "start_time": "2025-07-16T22:33:43.071Z"
   },
   {
    "duration": 111,
    "start_time": "2025-07-16T22:33:44.776Z"
   },
   {
    "duration": 312,
    "start_time": "2025-07-16T22:33:44.890Z"
   },
   {
    "duration": 20,
    "start_time": "2025-07-16T22:33:45.204Z"
   },
   {
    "duration": 108,
    "start_time": "2025-07-16T22:33:45.226Z"
   },
   {
    "duration": 10,
    "start_time": "2025-07-16T22:33:45.336Z"
   },
   {
    "duration": 480,
    "start_time": "2025-07-16T22:33:45.347Z"
   },
   {
    "duration": 248,
    "start_time": "2025-07-16T22:33:45.830Z"
   },
   {
    "duration": 264,
    "start_time": "2025-07-16T22:33:46.079Z"
   },
   {
    "duration": 25,
    "start_time": "2025-07-16T22:33:46.344Z"
   },
   {
    "duration": 387,
    "start_time": "2025-07-16T22:33:46.370Z"
   },
   {
    "duration": 249,
    "start_time": "2025-07-16T22:33:46.759Z"
   },
   {
    "duration": 205,
    "start_time": "2025-07-16T22:33:47.009Z"
   },
   {
    "duration": 3365,
    "start_time": "2025-07-16T22:33:47.216Z"
   },
   {
    "duration": 895,
    "start_time": "2025-07-16T22:33:50.584Z"
   },
   {
    "duration": 149,
    "start_time": "2025-07-16T22:33:51.482Z"
   },
   {
    "duration": 694,
    "start_time": "2025-07-16T22:33:51.632Z"
   },
   {
    "duration": 25,
    "start_time": "2025-07-16T22:33:52.328Z"
   },
   {
    "duration": 4354,
    "start_time": "2025-07-16T22:33:52.354Z"
   },
   {
    "duration": 2558,
    "start_time": "2025-07-16T22:33:56.710Z"
   },
   {
    "duration": 698,
    "start_time": "2025-07-16T22:33:59.270Z"
   },
   {
    "duration": 659,
    "start_time": "2025-07-16T22:33:59.969Z"
   },
   {
    "duration": 526,
    "start_time": "2025-07-16T22:34:00.630Z"
   },
   {
    "duration": 27,
    "start_time": "2025-07-16T22:34:01.158Z"
   },
   {
    "duration": 1696,
    "start_time": "2025-07-16T22:34:01.199Z"
   },
   {
    "duration": 1555,
    "start_time": "2025-07-16T22:34:02.899Z"
   },
   {
    "duration": 1893,
    "start_time": "2025-07-16T22:34:04.457Z"
   },
   {
    "duration": 18,
    "start_time": "2025-07-16T22:34:06.353Z"
   },
   {
    "duration": 35,
    "start_time": "2025-07-16T22:34:06.373Z"
   },
   {
    "duration": 531,
    "start_time": "2025-07-16T22:34:06.409Z"
   },
   {
    "duration": 443,
    "start_time": "2025-07-16T22:34:06.941Z"
   },
   {
    "duration": 501,
    "start_time": "2025-07-16T22:34:07.386Z"
   },
   {
    "duration": 17,
    "start_time": "2025-07-16T22:34:07.889Z"
   },
   {
    "duration": 492,
    "start_time": "2025-07-16T22:34:07.907Z"
   },
   {
    "duration": 15,
    "start_time": "2025-07-16T22:34:08.401Z"
   },
   {
    "duration": 205,
    "start_time": "2025-07-16T22:34:08.418Z"
   },
   {
    "duration": 669,
    "start_time": "2025-07-16T22:34:08.626Z"
   },
   {
    "duration": 801,
    "start_time": "2025-07-16T22:34:09.297Z"
   },
   {
    "duration": 82,
    "start_time": "2025-07-16T22:34:10.100Z"
   },
   {
    "duration": 267,
    "start_time": "2025-07-16T22:34:10.184Z"
   },
   {
    "duration": 375,
    "start_time": "2025-07-16T22:34:10.453Z"
   },
   {
    "duration": 118,
    "start_time": "2025-07-16T22:34:10.829Z"
   },
   {
    "duration": 1199,
    "start_time": "2025-07-16T22:34:10.948Z"
   },
   {
    "duration": 15,
    "start_time": "2025-07-16T22:34:12.148Z"
   },
   {
    "duration": 339,
    "start_time": "2025-07-16T22:34:12.165Z"
   },
   {
    "duration": 185,
    "start_time": "2025-07-16T22:34:12.506Z"
   },
   {
    "duration": 208,
    "start_time": "2025-07-16T22:34:12.693Z"
   },
   {
    "duration": 157,
    "start_time": "2025-07-16T22:34:12.902Z"
   },
   {
    "duration": 547,
    "start_time": "2025-07-16T22:34:13.061Z"
   },
   {
    "duration": 107,
    "start_time": "2025-07-16T22:34:13.610Z"
   },
   {
    "duration": 0,
    "start_time": "2025-07-16T22:34:13.718Z"
   },
   {
    "duration": 0,
    "start_time": "2025-07-16T22:34:13.720Z"
   },
   {
    "duration": 0,
    "start_time": "2025-07-16T22:34:13.721Z"
   },
   {
    "duration": 0,
    "start_time": "2025-07-16T22:34:13.722Z"
   },
   {
    "duration": 91,
    "start_time": "2025-07-16T22:35:19.271Z"
   },
   {
    "duration": 258,
    "start_time": "2025-07-16T22:35:55.974Z"
   },
   {
    "duration": 132,
    "start_time": "2025-07-16T22:39:35.747Z"
   },
   {
    "duration": 11,
    "start_time": "2025-07-16T22:39:42.783Z"
   },
   {
    "duration": 98,
    "start_time": "2025-07-16T22:39:43.755Z"
   },
   {
    "duration": 146,
    "start_time": "2025-07-16T22:39:49.080Z"
   },
   {
    "duration": 86,
    "start_time": "2025-07-16T22:46:22.246Z"
   },
   {
    "duration": 102,
    "start_time": "2025-07-16T22:46:31.963Z"
   },
   {
    "duration": 144,
    "start_time": "2025-07-16T22:47:36.395Z"
   },
   {
    "duration": 115,
    "start_time": "2025-07-16T22:55:54.675Z"
   },
   {
    "duration": 112,
    "start_time": "2025-07-16T22:56:32.877Z"
   },
   {
    "duration": 7885,
    "start_time": "2025-07-16T23:02:11.827Z"
   },
   {
    "duration": 7,
    "start_time": "2025-07-16T23:07:19.918Z"
   },
   {
    "duration": 17,
    "start_time": "2025-07-16T23:07:43.409Z"
   },
   {
    "duration": 7,
    "start_time": "2025-07-16T23:08:05.903Z"
   },
   {
    "duration": 6,
    "start_time": "2025-07-16T23:10:55.244Z"
   },
   {
    "duration": 6,
    "start_time": "2025-07-16T23:11:08.964Z"
   },
   {
    "duration": 4,
    "start_time": "2025-07-16T23:12:47.930Z"
   },
   {
    "duration": 122,
    "start_time": "2025-07-17T00:30:23.265Z"
   },
   {
    "duration": 128,
    "start_time": "2025-07-17T00:30:48.481Z"
   },
   {
    "duration": 234,
    "start_time": "2025-07-17T00:31:29.890Z"
   },
   {
    "duration": 4714,
    "start_time": "2025-07-17T00:32:02.831Z"
   },
   {
    "duration": 256,
    "start_time": "2025-07-17T00:47:42.364Z"
   },
   {
    "duration": 13,
    "start_time": "2025-07-17T00:59:02.290Z"
   },
   {
    "duration": 14,
    "start_time": "2025-07-17T00:59:25.421Z"
   },
   {
    "duration": 14,
    "start_time": "2025-07-17T00:59:36.062Z"
   },
   {
    "duration": 14,
    "start_time": "2025-07-17T01:05:23.826Z"
   },
   {
    "duration": 1638,
    "start_time": "2025-07-17T01:12:02.009Z"
   },
   {
    "duration": 1169,
    "start_time": "2025-07-17T01:12:22.858Z"
   },
   {
    "duration": 1238,
    "start_time": "2025-07-17T01:14:21.802Z"
   },
   {
    "duration": 1219,
    "start_time": "2025-07-17T01:18:19.555Z"
   },
   {
    "duration": 98,
    "start_time": "2025-07-17T01:29:11.192Z"
   },
   {
    "duration": 94,
    "start_time": "2025-07-17T01:36:24.409Z"
   },
   {
    "duration": 3877,
    "start_time": "2025-07-17T01:52:12.890Z"
   },
   {
    "duration": 3,
    "start_time": "2025-07-17T01:52:16.769Z"
   },
   {
    "duration": 1965,
    "start_time": "2025-07-17T01:52:16.774Z"
   },
   {
    "duration": 186,
    "start_time": "2025-07-17T01:52:18.741Z"
   },
   {
    "duration": 358,
    "start_time": "2025-07-17T01:52:18.929Z"
   },
   {
    "duration": 24,
    "start_time": "2025-07-17T01:52:19.289Z"
   },
   {
    "duration": 56,
    "start_time": "2025-07-17T01:52:19.315Z"
   },
   {
    "duration": 11,
    "start_time": "2025-07-17T01:52:19.373Z"
   },
   {
    "duration": 508,
    "start_time": "2025-07-17T01:52:19.386Z"
   },
   {
    "duration": 241,
    "start_time": "2025-07-17T01:52:19.898Z"
   },
   {
    "duration": 280,
    "start_time": "2025-07-17T01:52:20.141Z"
   },
   {
    "duration": 25,
    "start_time": "2025-07-17T01:52:20.423Z"
   },
   {
    "duration": 412,
    "start_time": "2025-07-17T01:52:20.450Z"
   },
   {
    "duration": 268,
    "start_time": "2025-07-17T01:52:20.864Z"
   },
   {
    "duration": 220,
    "start_time": "2025-07-17T01:52:21.135Z"
   },
   {
    "duration": 3590,
    "start_time": "2025-07-17T01:52:21.357Z"
   },
   {
    "duration": 914,
    "start_time": "2025-07-17T01:52:24.949Z"
   },
   {
    "duration": 184,
    "start_time": "2025-07-17T01:52:25.865Z"
   },
   {
    "duration": 747,
    "start_time": "2025-07-17T01:52:26.051Z"
   },
   {
    "duration": 28,
    "start_time": "2025-07-17T01:52:26.801Z"
   },
   {
    "duration": 4416,
    "start_time": "2025-07-17T01:52:26.830Z"
   },
   {
    "duration": 2654,
    "start_time": "2025-07-17T01:52:31.247Z"
   },
   {
    "duration": 698,
    "start_time": "2025-07-17T01:52:33.908Z"
   },
   {
    "duration": 694,
    "start_time": "2025-07-17T01:52:34.608Z"
   },
   {
    "duration": 540,
    "start_time": "2025-07-17T01:52:35.305Z"
   },
   {
    "duration": 27,
    "start_time": "2025-07-17T01:52:35.846Z"
   },
   {
    "duration": 1819,
    "start_time": "2025-07-17T01:52:35.875Z"
   },
   {
    "duration": 1675,
    "start_time": "2025-07-17T01:52:37.698Z"
   },
   {
    "duration": 2028,
    "start_time": "2025-07-17T01:52:39.374Z"
   },
   {
    "duration": 19,
    "start_time": "2025-07-17T01:52:41.411Z"
   },
   {
    "duration": 12,
    "start_time": "2025-07-17T01:52:41.432Z"
   },
   {
    "duration": 583,
    "start_time": "2025-07-17T01:52:41.445Z"
   },
   {
    "duration": 446,
    "start_time": "2025-07-17T01:52:42.030Z"
   },
   {
    "duration": 493,
    "start_time": "2025-07-17T01:52:42.478Z"
   },
   {
    "duration": 9,
    "start_time": "2025-07-17T01:52:42.973Z"
   },
   {
    "duration": 573,
    "start_time": "2025-07-17T01:52:42.983Z"
   },
   {
    "duration": 14,
    "start_time": "2025-07-17T01:52:43.557Z"
   },
   {
    "duration": 214,
    "start_time": "2025-07-17T01:52:43.573Z"
   },
   {
    "duration": 697,
    "start_time": "2025-07-17T01:52:43.789Z"
   },
   {
    "duration": 873,
    "start_time": "2025-07-17T01:52:44.488Z"
   },
   {
    "duration": 94,
    "start_time": "2025-07-17T01:52:45.363Z"
   },
   {
    "duration": 272,
    "start_time": "2025-07-17T01:52:45.459Z"
   },
   {
    "duration": 320,
    "start_time": "2025-07-17T01:52:45.733Z"
   },
   {
    "duration": 119,
    "start_time": "2025-07-17T01:52:46.055Z"
   },
   {
    "duration": 1259,
    "start_time": "2025-07-17T01:52:46.176Z"
   },
   {
    "duration": 14,
    "start_time": "2025-07-17T01:52:47.437Z"
   },
   {
    "duration": 361,
    "start_time": "2025-07-17T01:52:47.453Z"
   },
   {
    "duration": 172,
    "start_time": "2025-07-17T01:52:47.816Z"
   },
   {
    "duration": 215,
    "start_time": "2025-07-17T01:52:47.990Z"
   },
   {
    "duration": 168,
    "start_time": "2025-07-17T01:52:48.209Z"
   },
   {
    "duration": 553,
    "start_time": "2025-07-17T01:52:48.378Z"
   },
   {
    "duration": 298,
    "start_time": "2025-07-17T01:52:48.933Z"
   },
   {
    "duration": 11,
    "start_time": "2025-07-17T01:52:49.232Z"
   },
   {
    "duration": 117,
    "start_time": "2025-07-17T01:52:49.244Z"
   },
   {
    "duration": 119,
    "start_time": "2025-07-17T01:52:49.362Z"
   },
   {
    "duration": 17,
    "start_time": "2025-07-17T01:52:49.482Z"
   },
   {
    "duration": 8,
    "start_time": "2025-07-17T01:52:49.501Z"
   },
   {
    "duration": 9,
    "start_time": "2025-07-17T01:52:49.511Z"
   },
   {
    "duration": 4045,
    "start_time": "2025-07-17T01:52:49.522Z"
   },
   {
    "duration": 13,
    "start_time": "2025-07-17T01:52:53.569Z"
   },
   {
    "duration": 1286,
    "start_time": "2025-07-17T01:52:53.598Z"
   },
   {
    "duration": 97,
    "start_time": "2025-07-17T01:52:54.886Z"
   },
   {
    "duration": 10174,
    "start_time": "2025-07-17T11:58:24.171Z"
   },
   {
    "duration": 3,
    "start_time": "2025-07-17T11:58:34.347Z"
   },
   {
    "duration": 1526,
    "start_time": "2025-07-17T11:58:34.351Z"
   },
   {
    "duration": 109,
    "start_time": "2025-07-17T11:58:35.879Z"
   },
   {
    "duration": 306,
    "start_time": "2025-07-17T11:58:35.990Z"
   },
   {
    "duration": 20,
    "start_time": "2025-07-17T11:58:36.298Z"
   },
   {
    "duration": 221,
    "start_time": "2025-07-17T11:58:36.319Z"
   },
   {
    "duration": 11,
    "start_time": "2025-07-17T11:58:36.542Z"
   },
   {
    "duration": 529,
    "start_time": "2025-07-17T11:58:36.554Z"
   },
   {
    "duration": 224,
    "start_time": "2025-07-17T11:58:37.084Z"
   },
   {
    "duration": 241,
    "start_time": "2025-07-17T11:58:37.310Z"
   },
   {
    "duration": 30,
    "start_time": "2025-07-17T11:58:37.553Z"
   },
   {
    "duration": 384,
    "start_time": "2025-07-17T11:58:37.585Z"
   },
   {
    "duration": 247,
    "start_time": "2025-07-17T11:58:37.972Z"
   },
   {
    "duration": 200,
    "start_time": "2025-07-17T11:58:38.221Z"
   },
   {
    "duration": 3235,
    "start_time": "2025-07-17T11:58:38.423Z"
   },
   {
    "duration": 954,
    "start_time": "2025-07-17T11:58:41.659Z"
   },
   {
    "duration": 145,
    "start_time": "2025-07-17T11:58:42.614Z"
   },
   {
    "duration": 718,
    "start_time": "2025-07-17T11:58:42.761Z"
   },
   {
    "duration": 26,
    "start_time": "2025-07-17T11:58:43.480Z"
   },
   {
    "duration": 4487,
    "start_time": "2025-07-17T11:58:43.509Z"
   },
   {
    "duration": 2511,
    "start_time": "2025-07-17T11:58:47.999Z"
   },
   {
    "duration": 678,
    "start_time": "2025-07-17T11:58:50.512Z"
   },
   {
    "duration": 650,
    "start_time": "2025-07-17T11:58:51.191Z"
   },
   {
    "duration": 544,
    "start_time": "2025-07-17T11:58:51.843Z"
   },
   {
    "duration": 27,
    "start_time": "2025-07-17T11:58:52.389Z"
   },
   {
    "duration": 1733,
    "start_time": "2025-07-17T11:58:52.418Z"
   },
   {
    "duration": 1648,
    "start_time": "2025-07-17T11:58:54.153Z"
   },
   {
    "duration": 1867,
    "start_time": "2025-07-17T11:58:55.802Z"
   },
   {
    "duration": 17,
    "start_time": "2025-07-17T11:58:57.671Z"
   },
   {
    "duration": 13,
    "start_time": "2025-07-17T11:58:57.689Z"
   },
   {
    "duration": 546,
    "start_time": "2025-07-17T11:58:57.704Z"
   },
   {
    "duration": 470,
    "start_time": "2025-07-17T11:58:58.252Z"
   },
   {
    "duration": 485,
    "start_time": "2025-07-17T11:58:58.724Z"
   },
   {
    "duration": 9,
    "start_time": "2025-07-17T11:58:59.211Z"
   },
   {
    "duration": 507,
    "start_time": "2025-07-17T11:58:59.221Z"
   },
   {
    "duration": 14,
    "start_time": "2025-07-17T11:58:59.730Z"
   },
   {
    "duration": 205,
    "start_time": "2025-07-17T11:58:59.746Z"
   },
   {
    "duration": 673,
    "start_time": "2025-07-17T11:58:59.953Z"
   },
   {
    "duration": 837,
    "start_time": "2025-07-17T11:59:00.628Z"
   },
   {
    "duration": 76,
    "start_time": "2025-07-17T11:59:01.469Z"
   },
   {
    "duration": 287,
    "start_time": "2025-07-17T11:59:01.547Z"
   },
   {
    "duration": 335,
    "start_time": "2025-07-17T11:59:01.836Z"
   },
   {
    "duration": 123,
    "start_time": "2025-07-17T11:59:02.173Z"
   },
   {
    "duration": 1207,
    "start_time": "2025-07-17T11:59:02.297Z"
   },
   {
    "duration": 15,
    "start_time": "2025-07-17T11:59:03.505Z"
   },
   {
    "duration": 372,
    "start_time": "2025-07-17T11:59:03.521Z"
   },
   {
    "duration": 172,
    "start_time": "2025-07-17T11:59:03.895Z"
   },
   {
    "duration": 197,
    "start_time": "2025-07-17T11:59:04.070Z"
   },
   {
    "duration": 159,
    "start_time": "2025-07-17T11:59:04.269Z"
   },
   {
    "duration": 502,
    "start_time": "2025-07-17T11:59:04.430Z"
   },
   {
    "duration": 282,
    "start_time": "2025-07-17T11:59:04.933Z"
   },
   {
    "duration": 13,
    "start_time": "2025-07-17T11:59:05.217Z"
   },
   {
    "duration": 188,
    "start_time": "2025-07-17T11:59:05.232Z"
   },
   {
    "duration": 101,
    "start_time": "2025-07-17T11:59:05.423Z"
   },
   {
    "duration": 7,
    "start_time": "2025-07-17T11:59:05.526Z"
   },
   {
    "duration": 34,
    "start_time": "2025-07-17T11:59:05.535Z"
   },
   {
    "duration": 13,
    "start_time": "2025-07-17T11:59:05.571Z"
   },
   {
    "duration": 3927,
    "start_time": "2025-07-17T11:59:05.585Z"
   },
   {
    "duration": 12,
    "start_time": "2025-07-17T11:59:09.514Z"
   },
   {
    "duration": 1201,
    "start_time": "2025-07-17T11:59:09.528Z"
   },
   {
    "duration": 107,
    "start_time": "2025-07-17T11:59:10.731Z"
   },
   {
    "duration": 4972,
    "start_time": "2025-07-17T12:33:28.399Z"
   },
   {
    "duration": 3644,
    "start_time": "2025-07-17T12:33:44.384Z"
   },
   {
    "duration": 3,
    "start_time": "2025-07-17T12:33:48.030Z"
   },
   {
    "duration": 1417,
    "start_time": "2025-07-17T12:33:48.035Z"
   },
   {
    "duration": 112,
    "start_time": "2025-07-17T12:33:49.454Z"
   },
   {
    "duration": 494,
    "start_time": "2025-07-17T12:33:49.571Z"
   },
   {
    "duration": 18,
    "start_time": "2025-07-17T12:33:50.066Z"
   },
   {
    "duration": 227,
    "start_time": "2025-07-17T12:33:50.086Z"
   },
   {
    "duration": 10,
    "start_time": "2025-07-17T12:33:50.315Z"
   },
   {
    "duration": 584,
    "start_time": "2025-07-17T12:33:50.327Z"
   },
   {
    "duration": 239,
    "start_time": "2025-07-17T12:33:50.915Z"
   },
   {
    "duration": 244,
    "start_time": "2025-07-17T12:33:51.156Z"
   },
   {
    "duration": 24,
    "start_time": "2025-07-17T12:33:51.402Z"
   },
   {
    "duration": 368,
    "start_time": "2025-07-17T12:33:51.427Z"
   },
   {
    "duration": 239,
    "start_time": "2025-07-17T12:33:51.796Z"
   },
   {
    "duration": 228,
    "start_time": "2025-07-17T12:33:52.037Z"
   },
   {
    "duration": 3246,
    "start_time": "2025-07-17T12:33:52.270Z"
   },
   {
    "duration": 842,
    "start_time": "2025-07-17T12:33:55.518Z"
   },
   {
    "duration": 142,
    "start_time": "2025-07-17T12:33:56.361Z"
   },
   {
    "duration": 717,
    "start_time": "2025-07-17T12:33:56.505Z"
   },
   {
    "duration": 24,
    "start_time": "2025-07-17T12:33:57.225Z"
   },
   {
    "duration": 4161,
    "start_time": "2025-07-17T12:33:57.251Z"
   },
   {
    "duration": 2552,
    "start_time": "2025-07-17T12:34:01.414Z"
   },
   {
    "duration": 666,
    "start_time": "2025-07-17T12:34:03.968Z"
   },
   {
    "duration": 659,
    "start_time": "2025-07-17T12:34:04.636Z"
   },
   {
    "duration": 520,
    "start_time": "2025-07-17T12:34:05.297Z"
   },
   {
    "duration": 26,
    "start_time": "2025-07-17T12:34:05.819Z"
   },
   {
    "duration": 1702,
    "start_time": "2025-07-17T12:34:05.847Z"
   },
   {
    "duration": 1558,
    "start_time": "2025-07-17T12:34:07.555Z"
   },
   {
    "duration": 1814,
    "start_time": "2025-07-17T12:34:09.116Z"
   },
   {
    "duration": 20,
    "start_time": "2025-07-17T12:34:10.933Z"
   },
   {
    "duration": 23,
    "start_time": "2025-07-17T12:34:10.956Z"
   },
   {
    "duration": 585,
    "start_time": "2025-07-17T12:34:10.981Z"
   },
   {
    "duration": 440,
    "start_time": "2025-07-17T12:34:11.571Z"
   },
   {
    "duration": 435,
    "start_time": "2025-07-17T12:34:12.012Z"
   },
   {
    "duration": 7,
    "start_time": "2025-07-17T12:34:12.449Z"
   },
   {
    "duration": 483,
    "start_time": "2025-07-17T12:34:12.457Z"
   },
   {
    "duration": 13,
    "start_time": "2025-07-17T12:34:12.942Z"
   },
   {
    "duration": 179,
    "start_time": "2025-07-17T12:34:12.956Z"
   },
   {
    "duration": 637,
    "start_time": "2025-07-17T12:34:13.136Z"
   },
   {
    "duration": 788,
    "start_time": "2025-07-17T12:34:13.775Z"
   },
   {
    "duration": 77,
    "start_time": "2025-07-17T12:34:14.565Z"
   },
   {
    "duration": 256,
    "start_time": "2025-07-17T12:34:14.644Z"
   },
   {
    "duration": 297,
    "start_time": "2025-07-17T12:34:14.902Z"
   },
   {
    "duration": 108,
    "start_time": "2025-07-17T12:34:15.201Z"
   },
   {
    "duration": 1157,
    "start_time": "2025-07-17T12:34:15.311Z"
   },
   {
    "duration": 13,
    "start_time": "2025-07-17T12:34:16.470Z"
   },
   {
    "duration": 328,
    "start_time": "2025-07-17T12:34:16.485Z"
   },
   {
    "duration": 165,
    "start_time": "2025-07-17T12:34:16.815Z"
   },
   {
    "duration": 192,
    "start_time": "2025-07-17T12:34:16.981Z"
   },
   {
    "duration": 150,
    "start_time": "2025-07-17T12:34:17.175Z"
   },
   {
    "duration": 482,
    "start_time": "2025-07-17T12:34:17.327Z"
   },
   {
    "duration": 267,
    "start_time": "2025-07-17T12:34:17.811Z"
   },
   {
    "duration": 12,
    "start_time": "2025-07-17T12:34:18.080Z"
   },
   {
    "duration": 150,
    "start_time": "2025-07-17T12:34:18.094Z"
   },
   {
    "duration": 102,
    "start_time": "2025-07-17T12:34:18.246Z"
   },
   {
    "duration": 5,
    "start_time": "2025-07-17T12:34:18.350Z"
   },
   {
    "duration": 71,
    "start_time": "2025-07-17T12:34:18.371Z"
   },
   {
    "duration": 9,
    "start_time": "2025-07-17T12:34:18.444Z"
   },
   {
    "duration": 4812,
    "start_time": "2025-07-17T12:34:18.454Z"
   },
   {
    "duration": 0,
    "start_time": "2025-07-17T12:34:23.270Z"
   },
   {
    "duration": 0,
    "start_time": "2025-07-17T12:34:23.272Z"
   },
   {
    "duration": 0,
    "start_time": "2025-07-17T12:34:23.273Z"
   },
   {
    "duration": 3566,
    "start_time": "2025-07-17T12:34:32.498Z"
   },
   {
    "duration": 3399,
    "start_time": "2025-07-17T12:34:42.707Z"
   },
   {
    "duration": 14,
    "start_time": "2025-07-17T12:34:46.107Z"
   },
   {
    "duration": 1280,
    "start_time": "2025-07-17T12:34:46.122Z"
   },
   {
    "duration": 95,
    "start_time": "2025-07-17T12:34:47.404Z"
   },
   {
    "duration": 3722,
    "start_time": "2025-07-17T13:39:45.013Z"
   },
   {
    "duration": 3,
    "start_time": "2025-07-17T13:39:48.737Z"
   },
   {
    "duration": 1730,
    "start_time": "2025-07-17T13:39:48.741Z"
   },
   {
    "duration": 105,
    "start_time": "2025-07-17T13:39:50.473Z"
   },
   {
    "duration": 450,
    "start_time": "2025-07-17T13:39:50.580Z"
   },
   {
    "duration": 19,
    "start_time": "2025-07-17T13:39:51.032Z"
   },
   {
    "duration": 79,
    "start_time": "2025-07-17T13:39:51.053Z"
   },
   {
    "duration": 13,
    "start_time": "2025-07-17T13:39:51.133Z"
   },
   {
    "duration": 479,
    "start_time": "2025-07-17T13:39:51.148Z"
   },
   {
    "duration": 217,
    "start_time": "2025-07-17T13:39:51.629Z"
   },
   {
    "duration": 245,
    "start_time": "2025-07-17T13:39:51.848Z"
   },
   {
    "duration": 27,
    "start_time": "2025-07-17T13:39:52.095Z"
   },
   {
    "duration": 395,
    "start_time": "2025-07-17T13:39:52.123Z"
   },
   {
    "duration": 251,
    "start_time": "2025-07-17T13:39:52.520Z"
   },
   {
    "duration": 201,
    "start_time": "2025-07-17T13:39:52.773Z"
   },
   {
    "duration": 3133,
    "start_time": "2025-07-17T13:39:52.976Z"
   },
   {
    "duration": 920,
    "start_time": "2025-07-17T13:39:56.110Z"
   },
   {
    "duration": 143,
    "start_time": "2025-07-17T13:39:57.032Z"
   },
   {
    "duration": 655,
    "start_time": "2025-07-17T13:39:57.177Z"
   },
   {
    "duration": 23,
    "start_time": "2025-07-17T13:39:57.834Z"
   },
   {
    "duration": 4270,
    "start_time": "2025-07-17T13:39:57.871Z"
   },
   {
    "duration": 2603,
    "start_time": "2025-07-17T13:40:02.143Z"
   },
   {
    "duration": 672,
    "start_time": "2025-07-17T13:40:04.748Z"
   },
   {
    "duration": 658,
    "start_time": "2025-07-17T13:40:05.422Z"
   },
   {
    "duration": 522,
    "start_time": "2025-07-17T13:40:06.082Z"
   },
   {
    "duration": 25,
    "start_time": "2025-07-17T13:40:06.606Z"
   },
   {
    "duration": 1661,
    "start_time": "2025-07-17T13:40:06.633Z"
   },
   {
    "duration": 1566,
    "start_time": "2025-07-17T13:40:08.299Z"
   },
   {
    "duration": 1763,
    "start_time": "2025-07-17T13:40:09.870Z"
   },
   {
    "duration": 16,
    "start_time": "2025-07-17T13:40:11.635Z"
   },
   {
    "duration": 25,
    "start_time": "2025-07-17T13:40:11.652Z"
   },
   {
    "duration": 438,
    "start_time": "2025-07-17T13:40:11.679Z"
   },
   {
    "duration": 583,
    "start_time": "2025-07-17T13:40:12.119Z"
   },
   {
    "duration": 459,
    "start_time": "2025-07-17T13:40:12.704Z"
   },
   {
    "duration": 9,
    "start_time": "2025-07-17T13:40:13.165Z"
   },
   {
    "duration": 622,
    "start_time": "2025-07-17T13:40:13.176Z"
   },
   {
    "duration": 14,
    "start_time": "2025-07-17T13:40:13.800Z"
   },
   {
    "duration": 186,
    "start_time": "2025-07-17T13:40:13.815Z"
   },
   {
    "duration": 655,
    "start_time": "2025-07-17T13:40:14.003Z"
   },
   {
    "duration": 774,
    "start_time": "2025-07-17T13:40:14.660Z"
   },
   {
    "duration": 83,
    "start_time": "2025-07-17T13:40:15.436Z"
   },
   {
    "duration": 244,
    "start_time": "2025-07-17T13:40:15.521Z"
   },
   {
    "duration": 306,
    "start_time": "2025-07-17T13:40:15.770Z"
   },
   {
    "duration": 114,
    "start_time": "2025-07-17T13:40:16.078Z"
   },
   {
    "duration": 1190,
    "start_time": "2025-07-17T13:40:16.194Z"
   },
   {
    "duration": 13,
    "start_time": "2025-07-17T13:40:17.386Z"
   },
   {
    "duration": 361,
    "start_time": "2025-07-17T13:40:17.401Z"
   },
   {
    "duration": 173,
    "start_time": "2025-07-17T13:40:17.764Z"
   },
   {
    "duration": 195,
    "start_time": "2025-07-17T13:40:17.939Z"
   },
   {
    "duration": 162,
    "start_time": "2025-07-17T13:40:18.136Z"
   },
   {
    "duration": 504,
    "start_time": "2025-07-17T13:40:18.301Z"
   },
   {
    "duration": 274,
    "start_time": "2025-07-17T13:40:18.807Z"
   },
   {
    "duration": 12,
    "start_time": "2025-07-17T13:40:19.083Z"
   },
   {
    "duration": 107,
    "start_time": "2025-07-17T13:40:19.097Z"
   },
   {
    "duration": 110,
    "start_time": "2025-07-17T13:40:19.205Z"
   },
   {
    "duration": 6,
    "start_time": "2025-07-17T13:40:19.317Z"
   },
   {
    "duration": 24,
    "start_time": "2025-07-17T13:40:19.325Z"
   },
   {
    "duration": 19,
    "start_time": "2025-07-17T13:40:19.350Z"
   },
   {
    "duration": 3722,
    "start_time": "2025-07-17T13:40:19.371Z"
   },
   {
    "duration": 12,
    "start_time": "2025-07-17T13:40:23.095Z"
   },
   {
    "duration": 1292,
    "start_time": "2025-07-17T13:40:23.109Z"
   },
   {
    "duration": 87,
    "start_time": "2025-07-17T13:40:24.403Z"
   }
  ],
  "colab": {
   "provenance": []
  },
  "kernelspec": {
   "display_name": "Python 3 (ipykernel)",
   "language": "python",
   "name": "python3"
  },
  "language_info": {
   "codemirror_mode": {
    "name": "ipython",
    "version": 3
   },
   "file_extension": ".py",
   "mimetype": "text/x-python",
   "name": "python",
   "nbconvert_exporter": "python",
   "pygments_lexer": "ipython3",
   "version": "3.13.5"
  },
  "toc": {
   "base_numbering": 1,
   "nav_menu": {},
   "number_sections": true,
   "sideBar": true,
   "skip_h1_title": true,
   "title_cell": "Table of Contents",
   "title_sidebar": "Contents",
   "toc_cell": false,
   "toc_position": {},
   "toc_section_display": true,
   "toc_window_display": true
  }
 },
 "nbformat": 4,
 "nbformat_minor": 4
}

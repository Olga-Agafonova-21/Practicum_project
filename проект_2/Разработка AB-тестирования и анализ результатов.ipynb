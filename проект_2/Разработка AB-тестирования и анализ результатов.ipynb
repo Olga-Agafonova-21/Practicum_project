{
 "cells": [
  {
   "cell_type": "markdown",
   "metadata": {
    "id": "u98L9TgH0eMk"
   },
   "source": [
    "# Разработка A/B-тестирования и анализ результатов\n",
    "\n",
    "**Цель работы** - проведение A/B-теста, который позволит проверить гипотезу об увеличении вовлеченности пользователей в приложение с новым контентом, и анализ полученных результатов."
   ]
  },
  {
   "cell_type": "markdown",
   "metadata": {
    "id": "LJBRALHs0eMf"
   },
   "source": [
    "## Описание данных\n",
    "\n",
    "В работе будут использованы данные из трех таблиц:\n",
    "\n",
    "- `sessions_project_history.csv` — таблица с историческими данными по сессиям пользователей на период с 2025-08-15 по 2025-09-23. \n",
    "\n",
    "- `sessions_project_test_part.csv` — таблица с данными за первый день проведения A/B-теста, то есть за 2025-10-14. \n",
    "\n",
    "- `sessions_project_test.csv` — таблица с данными за весь период проведения A/B-теста, то есть с 2025-10-14 по 2025-11-02. \n",
    "\n",
    "\n",
    "У этих таблиц почти совпадает структура и содержание колонок, различаются лишь периоды наблюдения.\n",
    "\n",
    "Поля таблиц `sessions_project_history.csv`, `sessions_project_test.csv`, `sessions_project_test_part.csv`:\n",
    "\n",
    "- `user_id` — идентификатор пользователя;\n",
    "\n",
    "- `session_id` — идентификатор сессии в приложении;\n",
    "\n",
    "- `session_date` — дата сессии;\n",
    "\n",
    "- `session_start_ts` — дата и время начала сессии;\n",
    "\n",
    "- `install_date` — дата установки приложения;\n",
    "\n",
    "- `session_number` — порядковый номер сессии для конкретного пользователя;\n",
    "\n",
    "- `registration_flag` — является ли пользователь зарегистрированным;\n",
    "\n",
    "- `page_counter` — количество просмотренных страниц во время сессии;\n",
    "\n",
    "- `region` — регион пользователя;\n",
    "\n",
    "- `device` — тип устройства пользователя;\n",
    "\n",
    "- `test_group` — тестовая группа (в таблице с историческими данными этого столбца нет).\n"
   ]
  },
  {
   "cell_type": "markdown",
   "metadata": {
    "id": "UpOucjID0eMl"
   },
   "source": [
    "### Работа с историческими данными (EDA)"
   ]
  },
  {
   "cell_type": "markdown",
   "metadata": {
    "id": "8iJMtL-30eMl"
   },
   "source": [
    "#### Загрузка исторических данных\n",
    "\n",
    "Считаем и сохраним в датафрейм `sessions_history` CSV-файл с историческими данными о сессиях пользователей `sessions_project_history.csv`.\n",
    "\n",
    "Выведим на экран первые пять строк полученного датафрейма."
   ]
  },
  {
   "cell_type": "code",
   "execution_count": 1,
   "metadata": {
    "id": "6TPR2-1RPboT"
   },
   "outputs": [],
   "source": [
    "# Импортируем необходимые для анализа данных библиотеки и модули:\n",
    "import pandas as pd\n",
    "\n",
    "!pip install matplotlib_venn -q\n",
    "from matplotlib_venn import venn2\n",
    "import matplotlib.pyplot as plt\n",
    "\n",
    "import seaborn as sns\n",
    "\n",
    "import numpy as np\n",
    "\n",
    "from scipy import stats\n",
    "from statsmodels.stats.proportion import proportions_ztest\n",
    "\n",
    "import warnings\n",
    "warnings.simplefilter(action='ignore')"
   ]
  },
  {
   "cell_type": "code",
   "execution_count": 2,
   "metadata": {},
   "outputs": [
    {
     "name": "stdout",
     "output_type": "stream",
     "text": [
      "1.3.4\n",
      "3.4.3\n",
      "0.11.2\n"
     ]
    }
   ],
   "source": [
    "# Проверим существующие версии библиотек и при необходимости заменим на более новые:\n",
    "import pandas; print(pandas.__version__)\n",
    "import matplotlib; print(matplotlib.__version__)\n",
    "import seaborn; print(seaborn.__version__)"
   ]
  },
  {
   "cell_type": "code",
   "execution_count": 3,
   "metadata": {},
   "outputs": [
    {
     "name": "stdout",
     "output_type": "stream",
     "text": [
      "Requirement already satisfied: pandas==1.3.4 in /opt/conda/lib/python3.9/site-packages (1.3.4)\n",
      "Requirement already satisfied: numpy>=1.17.3 in /opt/conda/lib/python3.9/site-packages (from pandas==1.3.4) (1.21.1)\n",
      "Requirement already satisfied: python-dateutil>=2.7.3 in /opt/conda/lib/python3.9/site-packages (from pandas==1.3.4) (2.8.1)\n",
      "Requirement already satisfied: pytz>=2017.3 in /opt/conda/lib/python3.9/site-packages (from pandas==1.3.4) (2021.1)\n",
      "Requirement already satisfied: six>=1.5 in /opt/conda/lib/python3.9/site-packages (from python-dateutil>=2.7.3->pandas==1.3.4) (1.16.0)\n"
     ]
    }
   ],
   "source": [
    "!pip install pandas==1.3.4"
   ]
  },
  {
   "cell_type": "code",
   "execution_count": 4,
   "metadata": {},
   "outputs": [
    {
     "name": "stdout",
     "output_type": "stream",
     "text": [
      "Requirement already satisfied: matplotlib==3.4.3 in /opt/conda/lib/python3.9/site-packages (3.4.3)\r\n",
      "Requirement already satisfied: numpy>=1.16 in /opt/conda/lib/python3.9/site-packages (from matplotlib==3.4.3) (1.21.1)\r\n",
      "Requirement already satisfied: pyparsing>=2.2.1 in /opt/conda/lib/python3.9/site-packages (from matplotlib==3.4.3) (2.4.7)\r\n",
      "Requirement already satisfied: kiwisolver>=1.0.1 in /opt/conda/lib/python3.9/site-packages (from matplotlib==3.4.3) (1.4.4)\r\n",
      "Requirement already satisfied: pillow>=6.2.0 in /opt/conda/lib/python3.9/site-packages (from matplotlib==3.4.3) (8.4.0)\r\n",
      "Requirement already satisfied: python-dateutil>=2.7 in /opt/conda/lib/python3.9/site-packages (from matplotlib==3.4.3) (2.8.1)\r\n",
      "Requirement already satisfied: cycler>=0.10 in /opt/conda/lib/python3.9/site-packages (from matplotlib==3.4.3) (0.11.0)\r\n",
      "Requirement already satisfied: six>=1.5 in /opt/conda/lib/python3.9/site-packages (from python-dateutil>=2.7->matplotlib==3.4.3) (1.16.0)\r\n"
     ]
    }
   ],
   "source": [
    "!pip install matplotlib==3.4.3\n"
   ]
  },
  {
   "cell_type": "code",
   "execution_count": 5,
   "metadata": {},
   "outputs": [
    {
     "name": "stdout",
     "output_type": "stream",
     "text": [
      "Requirement already satisfied: seaborn==0.11.2 in /opt/conda/lib/python3.9/site-packages (0.11.2)\n",
      "Requirement already satisfied: scipy>=1.0 in /opt/conda/lib/python3.9/site-packages (from seaborn==0.11.2) (1.9.1)\n",
      "Requirement already satisfied: matplotlib>=2.2 in /opt/conda/lib/python3.9/site-packages (from seaborn==0.11.2) (3.4.3)\n",
      "Requirement already satisfied: pandas>=0.23 in /opt/conda/lib/python3.9/site-packages (from seaborn==0.11.2) (1.3.4)\n",
      "Requirement already satisfied: numpy>=1.15 in /opt/conda/lib/python3.9/site-packages (from seaborn==0.11.2) (1.21.1)\n",
      "Requirement already satisfied: kiwisolver>=1.0.1 in /opt/conda/lib/python3.9/site-packages (from matplotlib>=2.2->seaborn==0.11.2) (1.4.4)\n",
      "Requirement already satisfied: pillow>=6.2.0 in /opt/conda/lib/python3.9/site-packages (from matplotlib>=2.2->seaborn==0.11.2) (8.4.0)\n",
      "Requirement already satisfied: cycler>=0.10 in /opt/conda/lib/python3.9/site-packages (from matplotlib>=2.2->seaborn==0.11.2) (0.11.0)\n",
      "Requirement already satisfied: python-dateutil>=2.7 in /opt/conda/lib/python3.9/site-packages (from matplotlib>=2.2->seaborn==0.11.2) (2.8.1)\n",
      "Requirement already satisfied: pyparsing>=2.2.1 in /opt/conda/lib/python3.9/site-packages (from matplotlib>=2.2->seaborn==0.11.2) (2.4.7)\n",
      "Requirement already satisfied: pytz>=2017.3 in /opt/conda/lib/python3.9/site-packages (from pandas>=0.23->seaborn==0.11.2) (2021.1)\n",
      "Requirement already satisfied: six>=1.5 in /opt/conda/lib/python3.9/site-packages (from python-dateutil>=2.7->matplotlib>=2.2->seaborn==0.11.2) (1.16.0)\n"
     ]
    }
   ],
   "source": [
    "!pip install seaborn==0.11.2"
   ]
  },
  {
   "cell_type": "code",
   "execution_count": 6,
   "metadata": {},
   "outputs": [
    {
     "data": {
      "text/html": [
       "<div>\n",
       "<style scoped>\n",
       "    .dataframe tbody tr th:only-of-type {\n",
       "        vertical-align: middle;\n",
       "    }\n",
       "\n",
       "    .dataframe tbody tr th {\n",
       "        vertical-align: top;\n",
       "    }\n",
       "\n",
       "    .dataframe thead th {\n",
       "        text-align: right;\n",
       "    }\n",
       "</style>\n",
       "<table border=\"1\" class=\"dataframe\">\n",
       "  <thead>\n",
       "    <tr style=\"text-align: right;\">\n",
       "      <th></th>\n",
       "      <th>user_id</th>\n",
       "      <th>session_id</th>\n",
       "      <th>session_date</th>\n",
       "      <th>session_start_ts</th>\n",
       "      <th>install_date</th>\n",
       "      <th>session_number</th>\n",
       "      <th>registration_flag</th>\n",
       "      <th>page_counter</th>\n",
       "      <th>region</th>\n",
       "      <th>device</th>\n",
       "    </tr>\n",
       "  </thead>\n",
       "  <tbody>\n",
       "    <tr>\n",
       "      <th>0</th>\n",
       "      <td>E302123B7000BFE4</td>\n",
       "      <td>F9AF61A0C2023832</td>\n",
       "      <td>2025-08-15</td>\n",
       "      <td>2025-08-15 17:47:35</td>\n",
       "      <td>2025-08-15</td>\n",
       "      <td>1</td>\n",
       "      <td>0</td>\n",
       "      <td>3</td>\n",
       "      <td>CIS</td>\n",
       "      <td>iPhone</td>\n",
       "    </tr>\n",
       "    <tr>\n",
       "      <th>1</th>\n",
       "      <td>2530F72E221829FB</td>\n",
       "      <td>85003A206CBDAC6F</td>\n",
       "      <td>2025-08-15</td>\n",
       "      <td>2025-08-15 16:42:14</td>\n",
       "      <td>2025-08-15</td>\n",
       "      <td>1</td>\n",
       "      <td>0</td>\n",
       "      <td>4</td>\n",
       "      <td>MENA</td>\n",
       "      <td>Android</td>\n",
       "    </tr>\n",
       "    <tr>\n",
       "      <th>2</th>\n",
       "      <td>876E020A4FC512F5</td>\n",
       "      <td>3677423E49D72DEE</td>\n",
       "      <td>2025-08-15</td>\n",
       "      <td>2025-08-15 12:30:00</td>\n",
       "      <td>2025-08-15</td>\n",
       "      <td>1</td>\n",
       "      <td>0</td>\n",
       "      <td>4</td>\n",
       "      <td>EU</td>\n",
       "      <td>PC</td>\n",
       "    </tr>\n",
       "    <tr>\n",
       "      <th>3</th>\n",
       "      <td>2640B349E1D81584</td>\n",
       "      <td>956B45F5915CA225</td>\n",
       "      <td>2025-08-15</td>\n",
       "      <td>2025-08-15 15:31:31</td>\n",
       "      <td>2025-08-15</td>\n",
       "      <td>1</td>\n",
       "      <td>0</td>\n",
       "      <td>4</td>\n",
       "      <td>CIS</td>\n",
       "      <td>Android</td>\n",
       "    </tr>\n",
       "    <tr>\n",
       "      <th>4</th>\n",
       "      <td>94E1CBFAEF1F5EE9</td>\n",
       "      <td>83BF0DA35F9F1F40</td>\n",
       "      <td>2025-08-15</td>\n",
       "      <td>2025-08-15 21:33:53</td>\n",
       "      <td>2025-08-15</td>\n",
       "      <td>1</td>\n",
       "      <td>0</td>\n",
       "      <td>3</td>\n",
       "      <td>CIS</td>\n",
       "      <td>Android</td>\n",
       "    </tr>\n",
       "  </tbody>\n",
       "</table>\n",
       "</div>"
      ],
      "text/plain": [
       "            user_id        session_id session_date     session_start_ts  \\\n",
       "0  E302123B7000BFE4  F9AF61A0C2023832   2025-08-15  2025-08-15 17:47:35   \n",
       "1  2530F72E221829FB  85003A206CBDAC6F   2025-08-15  2025-08-15 16:42:14   \n",
       "2  876E020A4FC512F5  3677423E49D72DEE   2025-08-15  2025-08-15 12:30:00   \n",
       "3  2640B349E1D81584  956B45F5915CA225   2025-08-15  2025-08-15 15:31:31   \n",
       "4  94E1CBFAEF1F5EE9  83BF0DA35F9F1F40   2025-08-15  2025-08-15 21:33:53   \n",
       "\n",
       "  install_date  session_number  registration_flag  page_counter region  \\\n",
       "0   2025-08-15               1                  0             3    CIS   \n",
       "1   2025-08-15               1                  0             4   MENA   \n",
       "2   2025-08-15               1                  0             4     EU   \n",
       "3   2025-08-15               1                  0             4    CIS   \n",
       "4   2025-08-15               1                  0             3    CIS   \n",
       "\n",
       "    device  \n",
       "0   iPhone  \n",
       "1  Android  \n",
       "2       PC  \n",
       "3  Android  \n",
       "4  Android  "
      ]
     },
     "execution_count": 6,
     "metadata": {},
     "output_type": "execute_result"
    }
   ],
   "source": [
    "# Преобразуем датасет 'sessions_project_history.csv' в датафрейм 'sessions_history' и выведем первые строки:\n",
    "sessions_history = pd.read_csv('https://code.s3.yandex.net/datasets/sessions_project_history.csv')\n",
    "sessions_history.head()"
   ]
  },
  {
   "cell_type": "code",
   "execution_count": 7,
   "metadata": {},
   "outputs": [
    {
     "name": "stdout",
     "output_type": "stream",
     "text": [
      "<class 'pandas.core.frame.DataFrame'>\n",
      "RangeIndex: 435924 entries, 0 to 435923\n",
      "Data columns (total 10 columns):\n",
      " #   Column             Non-Null Count   Dtype \n",
      "---  ------             --------------   ----- \n",
      " 0   user_id            435924 non-null  object\n",
      " 1   session_id         435924 non-null  object\n",
      " 2   session_date       435924 non-null  object\n",
      " 3   session_start_ts   435924 non-null  object\n",
      " 4   install_date       435924 non-null  object\n",
      " 5   session_number     435924 non-null  int64 \n",
      " 6   registration_flag  435924 non-null  int64 \n",
      " 7   page_counter       435924 non-null  int64 \n",
      " 8   region             435924 non-null  object\n",
      " 9   device             435924 non-null  object\n",
      "dtypes: int64(3), object(7)\n",
      "memory usage: 33.3+ MB\n"
     ]
    }
   ],
   "source": [
    "# Выгрузим необходимую информацию для ознакомления с полученным датафреймом:\n",
    "sessions_history.info()"
   ]
  },
  {
   "cell_type": "markdown",
   "metadata": {
    "id": "qTDoiODz0eMo"
   },
   "source": [
    "#### Знакомство с данными\n",
    "- Для каждого уникального пользователя `user_id` рассчитаем количество уникальных сессий `session_id`.\n",
    "\n",
    "- Выведем на экран все данные из таблицы `sessions_history` для одного пользователя с наибольшим количеством сессий и, если таких несколько, выберем любого из них.\n",
    "\n",
    "- Изучим таблицу для одного пользователя, чтобы лучше понять логику формирования каждого столбца данных.\n",
    "\n"
   ]
  },
  {
   "cell_type": "code",
   "execution_count": 8,
   "metadata": {
    "id": "PWZO9vTIPbPN"
   },
   "outputs": [
    {
     "name": "stdout",
     "output_type": "stream",
     "text": [
      "                 user_id  session_id\n",
      "0       10E0DEFC1ABDBBE0          10\n",
      "1       6A73CB5566BB494D          10\n",
      "2       8A60431A825D035B           9\n",
      "3       D11541BAC141FB94           9\n",
      "4       5BCFE7C4DCC148E9           9\n",
      "...                  ...         ...\n",
      "134034  1DF13BB1953B3497           1\n",
      "134035  628502A3CE7E0A3C           1\n",
      "134036  1DEEF40DEFBD0C65           1\n",
      "134037  AC08479B7472C628           1\n",
      "134038  8A0882B6715D9EE5           1\n",
      "\n",
      "[134039 rows x 2 columns]\n"
     ]
    }
   ],
   "source": [
    "# Сгруппируем уникальных пользователей по количеству уникальных сессий:\n",
    "user_group = sessions_history.groupby('user_id')['session_id'].nunique().sort_values(ascending=False).reset_index()\n",
    "print(user_group)"
   ]
  },
  {
   "cell_type": "code",
   "execution_count": 9,
   "metadata": {
    "scrolled": true
   },
   "outputs": [
    {
     "data": {
      "text/html": [
       "<div>\n",
       "<style scoped>\n",
       "    .dataframe tbody tr th:only-of-type {\n",
       "        vertical-align: middle;\n",
       "    }\n",
       "\n",
       "    .dataframe tbody tr th {\n",
       "        vertical-align: top;\n",
       "    }\n",
       "\n",
       "    .dataframe thead th {\n",
       "        text-align: right;\n",
       "    }\n",
       "</style>\n",
       "<table border=\"1\" class=\"dataframe\">\n",
       "  <thead>\n",
       "    <tr style=\"text-align: right;\">\n",
       "      <th></th>\n",
       "      <th>user_id</th>\n",
       "      <th>session_id</th>\n",
       "      <th>session_date</th>\n",
       "      <th>session_start_ts</th>\n",
       "      <th>install_date</th>\n",
       "      <th>session_number</th>\n",
       "      <th>registration_flag</th>\n",
       "      <th>page_counter</th>\n",
       "      <th>region</th>\n",
       "      <th>device</th>\n",
       "    </tr>\n",
       "  </thead>\n",
       "  <tbody>\n",
       "    <tr>\n",
       "      <th>115558</th>\n",
       "      <td>10E0DEFC1ABDBBE0</td>\n",
       "      <td>B8F0423BBFFCF5DC</td>\n",
       "      <td>2025-08-14</td>\n",
       "      <td>2025-08-14 13:57:39</td>\n",
       "      <td>2025-08-14</td>\n",
       "      <td>1</td>\n",
       "      <td>0</td>\n",
       "      <td>4</td>\n",
       "      <td>CIS</td>\n",
       "      <td>Android</td>\n",
       "    </tr>\n",
       "    <tr>\n",
       "      <th>191751</th>\n",
       "      <td>10E0DEFC1ABDBBE0</td>\n",
       "      <td>87CA2FA549473837</td>\n",
       "      <td>2025-08-15</td>\n",
       "      <td>2025-08-15 16:42:10</td>\n",
       "      <td>2025-08-14</td>\n",
       "      <td>2</td>\n",
       "      <td>0</td>\n",
       "      <td>3</td>\n",
       "      <td>CIS</td>\n",
       "      <td>Android</td>\n",
       "    </tr>\n",
       "    <tr>\n",
       "      <th>239370</th>\n",
       "      <td>10E0DEFC1ABDBBE0</td>\n",
       "      <td>4ADD8011DCDCE318</td>\n",
       "      <td>2025-08-16</td>\n",
       "      <td>2025-08-16 19:53:21</td>\n",
       "      <td>2025-08-14</td>\n",
       "      <td>3</td>\n",
       "      <td>0</td>\n",
       "      <td>3</td>\n",
       "      <td>CIS</td>\n",
       "      <td>Android</td>\n",
       "    </tr>\n",
       "    <tr>\n",
       "      <th>274629</th>\n",
       "      <td>10E0DEFC1ABDBBE0</td>\n",
       "      <td>DF0FD0E09BF1F3D7</td>\n",
       "      <td>2025-08-17</td>\n",
       "      <td>2025-08-17 15:03:43</td>\n",
       "      <td>2025-08-14</td>\n",
       "      <td>4</td>\n",
       "      <td>0</td>\n",
       "      <td>1</td>\n",
       "      <td>CIS</td>\n",
       "      <td>Android</td>\n",
       "    </tr>\n",
       "    <tr>\n",
       "      <th>302501</th>\n",
       "      <td>10E0DEFC1ABDBBE0</td>\n",
       "      <td>3C221774B4DE6885</td>\n",
       "      <td>2025-08-18</td>\n",
       "      <td>2025-08-18 17:29:14</td>\n",
       "      <td>2025-08-14</td>\n",
       "      <td>5</td>\n",
       "      <td>0</td>\n",
       "      <td>4</td>\n",
       "      <td>CIS</td>\n",
       "      <td>Android</td>\n",
       "    </tr>\n",
       "    <tr>\n",
       "      <th>325557</th>\n",
       "      <td>10E0DEFC1ABDBBE0</td>\n",
       "      <td>031BD7A67048105B</td>\n",
       "      <td>2025-08-19</td>\n",
       "      <td>2025-08-19 13:23:55</td>\n",
       "      <td>2025-08-14</td>\n",
       "      <td>6</td>\n",
       "      <td>0</td>\n",
       "      <td>2</td>\n",
       "      <td>CIS</td>\n",
       "      <td>Android</td>\n",
       "    </tr>\n",
       "    <tr>\n",
       "      <th>345336</th>\n",
       "      <td>10E0DEFC1ABDBBE0</td>\n",
       "      <td>FF4315CF4AD4B100</td>\n",
       "      <td>2025-08-20</td>\n",
       "      <td>2025-08-20 19:31:54</td>\n",
       "      <td>2025-08-14</td>\n",
       "      <td>7</td>\n",
       "      <td>0</td>\n",
       "      <td>2</td>\n",
       "      <td>CIS</td>\n",
       "      <td>Android</td>\n",
       "    </tr>\n",
       "    <tr>\n",
       "      <th>377532</th>\n",
       "      <td>10E0DEFC1ABDBBE0</td>\n",
       "      <td>4045FEA0747203B4</td>\n",
       "      <td>2025-08-22</td>\n",
       "      <td>2025-08-22 17:54:13</td>\n",
       "      <td>2025-08-14</td>\n",
       "      <td>8</td>\n",
       "      <td>0</td>\n",
       "      <td>2</td>\n",
       "      <td>CIS</td>\n",
       "      <td>Android</td>\n",
       "    </tr>\n",
       "    <tr>\n",
       "      <th>403538</th>\n",
       "      <td>10E0DEFC1ABDBBE0</td>\n",
       "      <td>344B086C421C7F37</td>\n",
       "      <td>2025-08-24</td>\n",
       "      <td>2025-08-24 14:46:13</td>\n",
       "      <td>2025-08-14</td>\n",
       "      <td>9</td>\n",
       "      <td>0</td>\n",
       "      <td>2</td>\n",
       "      <td>CIS</td>\n",
       "      <td>Android</td>\n",
       "    </tr>\n",
       "    <tr>\n",
       "      <th>414743</th>\n",
       "      <td>10E0DEFC1ABDBBE0</td>\n",
       "      <td>054F20BA371E4C9D</td>\n",
       "      <td>2025-08-25</td>\n",
       "      <td>2025-08-25 18:36:41</td>\n",
       "      <td>2025-08-14</td>\n",
       "      <td>10</td>\n",
       "      <td>0</td>\n",
       "      <td>3</td>\n",
       "      <td>CIS</td>\n",
       "      <td>Android</td>\n",
       "    </tr>\n",
       "  </tbody>\n",
       "</table>\n",
       "</div>"
      ],
      "text/plain": [
       "                 user_id        session_id session_date     session_start_ts  \\\n",
       "115558  10E0DEFC1ABDBBE0  B8F0423BBFFCF5DC   2025-08-14  2025-08-14 13:57:39   \n",
       "191751  10E0DEFC1ABDBBE0  87CA2FA549473837   2025-08-15  2025-08-15 16:42:10   \n",
       "239370  10E0DEFC1ABDBBE0  4ADD8011DCDCE318   2025-08-16  2025-08-16 19:53:21   \n",
       "274629  10E0DEFC1ABDBBE0  DF0FD0E09BF1F3D7   2025-08-17  2025-08-17 15:03:43   \n",
       "302501  10E0DEFC1ABDBBE0  3C221774B4DE6885   2025-08-18  2025-08-18 17:29:14   \n",
       "325557  10E0DEFC1ABDBBE0  031BD7A67048105B   2025-08-19  2025-08-19 13:23:55   \n",
       "345336  10E0DEFC1ABDBBE0  FF4315CF4AD4B100   2025-08-20  2025-08-20 19:31:54   \n",
       "377532  10E0DEFC1ABDBBE0  4045FEA0747203B4   2025-08-22  2025-08-22 17:54:13   \n",
       "403538  10E0DEFC1ABDBBE0  344B086C421C7F37   2025-08-24  2025-08-24 14:46:13   \n",
       "414743  10E0DEFC1ABDBBE0  054F20BA371E4C9D   2025-08-25  2025-08-25 18:36:41   \n",
       "\n",
       "       install_date  session_number  registration_flag  page_counter region  \\\n",
       "115558   2025-08-14               1                  0             4    CIS   \n",
       "191751   2025-08-14               2                  0             3    CIS   \n",
       "239370   2025-08-14               3                  0             3    CIS   \n",
       "274629   2025-08-14               4                  0             1    CIS   \n",
       "302501   2025-08-14               5                  0             4    CIS   \n",
       "325557   2025-08-14               6                  0             2    CIS   \n",
       "345336   2025-08-14               7                  0             2    CIS   \n",
       "377532   2025-08-14               8                  0             2    CIS   \n",
       "403538   2025-08-14               9                  0             2    CIS   \n",
       "414743   2025-08-14              10                  0             3    CIS   \n",
       "\n",
       "         device  \n",
       "115558  Android  \n",
       "191751  Android  \n",
       "239370  Android  \n",
       "274629  Android  \n",
       "302501  Android  \n",
       "325557  Android  \n",
       "345336  Android  \n",
       "377532  Android  \n",
       "403538  Android  \n",
       "414743  Android  "
      ]
     },
     "metadata": {},
     "output_type": "display_data"
    }
   ],
   "source": [
    "# Выведем на экран все данные из таблицы 'sessions_history' для пользователя с идентификатором '10E0DEFC1ABDBBE0',\n",
    "# у которого максимальное число сессий:\n",
    "sessions_history_max = sessions_history[sessions_history['user_id']=='10E0DEFC1ABDBBE0']\n",
    "display(sessions_history_max)"
   ]
  },
  {
   "cell_type": "markdown",
   "metadata": {
    "id": "CmcGpJTP0eMq"
   },
   "source": [
    "#### Анализ числа регистраций\n",
    "Изучим первую важную метрику продукта — число регистраций пользователей в приложении. Используя исторические данные, визуализируем, как менялось число регистраций пользователей в приложении за время его существования. Для этого:\n",
    "\n",
    "- Агрегируем исторические данные и рассчитаем число уникальных пользователей и число зарегистрированных пользователей для каждого дня наблюдения. Для простоты будем считать, что у пользователя в течение дня бывает одна сессия максимум и статус регистрации в течение одного дня не может измениться.\n",
    "\n",
    "- Построим линейные графики общего числа пользователей и общего числа зарегистрированных пользователей по дням и  отобразим их на одном графике.\n",
    "\n",
    "- Построим отдельный линейный график доли зарегистрированных пользователей от всех пользователей по дням."
   ]
  },
  {
   "cell_type": "code",
   "execution_count": 10,
   "metadata": {
    "id": "tN_6Ml3EPatS"
   },
   "outputs": [
    {
     "name": "stdout",
     "output_type": "stream",
     "text": [
      "   session_date  total_users  reg_users\n",
      "0    2025-08-11         3919        169\n",
      "1    2025-08-12         6056        336\n",
      "2    2025-08-13         8489        464\n",
      "3    2025-08-14        10321        625\n",
      "4    2025-08-15        14065        840\n",
      "5    2025-08-16        12205        916\n",
      "6    2025-08-17        11200        833\n",
      "7    2025-08-18        10839        860\n",
      "8    2025-08-19        12118        831\n",
      "9    2025-08-20        13514       1008\n",
      "10   2025-08-21        15051       1063\n",
      "11   2025-08-22        17563       1251\n",
      "12   2025-08-23        16082       1253\n",
      "13   2025-08-24        13683       1181\n",
      "14   2025-08-25        13635       1060\n",
      "15   2025-08-26        13289       1050\n",
      "16   2025-08-27        14766       1076\n",
      "17   2025-08-28        15388       1175\n",
      "18   2025-08-29        16873       1174\n",
      "19   2025-08-30        14891       1165\n",
      "20   2025-08-31        13266       1105\n",
      "21   2025-09-01        12685       1028\n",
      "22   2025-09-02        12672       1039\n",
      "23   2025-09-03        12777       1035\n",
      "24   2025-09-04        13683       1007\n",
      "25   2025-09-05        15324       1030\n",
      "26   2025-09-06        13078       1023\n",
      "27   2025-09-07        12367       1069\n",
      "28   2025-09-08        11826       1009\n",
      "29   2025-09-09        11780        980\n",
      "30   2025-09-10        12526       1015\n",
      "31   2025-09-11         8623        824\n",
      "32   2025-09-12         6436        669\n",
      "33   2025-09-13         5183        537\n",
      "34   2025-09-14         4364        440\n",
      "35   2025-09-15         3698        383\n",
      "36   2025-09-16         3032        286\n",
      "37   2025-09-17         2548        272\n",
      "38   2025-09-18         1952        201\n",
      "39   2025-09-19         1418        132\n",
      "40   2025-09-20         1100        107\n",
      "41   2025-09-21          776         87\n",
      "42   2025-09-22          546         68\n",
      "43   2025-09-23          317         32\n"
     ]
    }
   ],
   "source": [
    "# Сгруппируем общее количество пользователей и число зарегистрированных пользователей по дням:\n",
    "days_group = sessions_history.groupby('session_date').agg(total_users=('user_id', 'nunique'), \n",
    "                                                reg_users=('registration_flag', 'sum')).reset_index()\n",
    "print(days_group)"
   ]
  },
  {
   "cell_type": "markdown",
   "metadata": {},
   "source": [
    "**На основе полученных данных построим график, отражающий динамику всех пользователей и зарегистрированных по дням.**"
   ]
  },
  {
   "cell_type": "code",
   "execution_count": 11,
   "metadata": {},
   "outputs": [
    {
     "data": {
      "image/png": "[encoded data removed]",
      "text/plain": [
       "<Figure size 1080x432 with 1 Axes>"
      ]
     },
     "metadata": {
      "needs_background": "light"
     },
     "output_type": "display_data"
    }
   ],
   "source": [
    "# Зададим параметры общего графика и построим линейные графики динамики пользователей:\n",
    "plt.figure(figsize=(15, 6))\n",
    "plt.plot(days_group['session_date'], days_group['total_users'], label='Все пользователи', marker='o')\n",
    "plt.plot(days_group['session_date'], days_group['reg_users'], label='Зарегистрированные пользователи', marker='o')\n",
    "plt.title('Динамика пользователей по дням', fontsize=14)\n",
    "plt.xlabel('Дата')\n",
    "plt.ylabel('Количество пользователей')\n",
    "plt.legend()\n",
    "plt.grid(True)\n",
    "plt.xticks(rotation=90)\n",
    "plt.show()"
   ]
  },
  {
   "cell_type": "markdown",
   "metadata": {},
   "source": [
    "***На графике видно, что ежедневное количество регистраций пользователей за период с 16.08.2025 по 10.09.2025, практически, одинаково. А начиная с 11.09.2025, число регистраций уменьшается и приходит к нулю. Также, отметим, что интерес к приложению общего числа пользователей отмечается в период с 15.08.2025 по 10.09.2025, а затем резко уменьшается, начиная с 10.09.2025, и, также, к концу анализируемого периода сводится к нулю. Возможно, в этот период проводились какие-либо акции (и т.п.), что привлекло прирост пользователей.***"
   ]
  },
  {
   "cell_type": "code",
   "execution_count": 12,
   "metadata": {},
   "outputs": [
    {
     "data": {
      "image/png": "[encoded data removed]",
      "text/plain": [
       "<Figure size 1080x360 with 1 Axes>"
      ]
     },
     "metadata": {
      "needs_background": "light"
     },
     "output_type": "display_data"
    }
   ],
   "source": [
    "# Сохраним в колонке 'days_group['reg_total']' долю зарегистрированных пользователей от общего их числа: \n",
    "days_group['reg_total'] = days_group['reg_users'] / days_group['total_users']\n",
    "\n",
    "# Представим визуально долю зарегистрированных пользователей по дням:\n",
    "plt.figure(figsize=(15, 5))\n",
    "plt.plot(days_group['session_date'], days_group['reg_total'], label='Зарегистрированные пользователи', marker='o', c='green')\n",
    "plt.title('Доля зарегистрированных пользователей', fontsize=14)\n",
    "plt.xlabel('Дата')\n",
    "plt.ylabel('Доля')\n",
    "plt.ylim(0, 1)\n",
    "plt.legend()\n",
    "plt.grid(True)\n",
    "plt.xticks(rotation=90)\n",
    "plt.show()"
   ]
  },
  {
   "cell_type": "markdown",
   "metadata": {},
   "source": [
    "***На графике видно, что доля ежедневных регистраций составляет, примерно, 10% от общего числа пользователей.***"
   ]
  },
  {
   "cell_type": "markdown",
   "metadata": {
    "id": "UR7D7RhF0eMr"
   },
   "source": [
    "#### Анализ числа просмотренных страниц\n",
    "Перейдем к следующей важной метрике продукта — число просмотренных страниц в приложении. Чем больше страниц просмотрено, тем сильнее пользователь увлечён контентом, а значит, выше шансы, что он зарегистрируется и оплатит подписку.\n",
    "\n",
    "- Найдем количество сессий для каждого значения количества просмотренных страниц.\n",
    "\n",
    "- Построим столбчатую диаграмму, где по оси X будет число просмотренных страниц, по оси Y — количество сессий."
   ]
  },
  {
   "cell_type": "code",
   "execution_count": 13,
   "metadata": {
    "id": "cb6hPlVzPaSf"
   },
   "outputs": [
    {
     "data": {
      "image/png": "[encoded data removed]",
      "text/plain": [
       "<Figure size 936x432 with 1 Axes>"
      ]
     },
     "metadata": {
      "needs_background": "light"
     },
     "output_type": "display_data"
    }
   ],
   "source": [
    "# Сгруппируем число уникальных сессий по количеству просмотренных страниц:\n",
    "page_group = sessions_history.groupby('page_counter')['session_id'].nunique().reset_index()\n",
    "page_group.columns = ['page_counter', 'sessions_count']\n",
    "\n",
    "# Зададим параметры визуализации и построим столбчатую диаграмму:\n",
    "plt.figure(figsize=(13, 6))\n",
    "plt.bar(page_group['page_counter'], page_group['sessions_count'], color='orange', edgecolor='darkgreen')\n",
    "\n",
    "plt.title('Количество сессий по числу просмотренных страниц', fontsize=14)\n",
    "plt.xlabel('Число просмотренных страниц')\n",
    "plt.ylabel('Количество сессий')\n",
    "\n",
    "plt.grid(axis='y', linestyle='--', alpha=0.6)\n",
    "plt.xticks(page_group['page_counter'])\n",
    "plt.show()"
   ]
  },
  {
   "cell_type": "markdown",
   "metadata": {},
   "source": [
    "***Видно, что максимальное число сессий приходится на пользователей, которые просматривают при посещении приложения 3 страницы.***"
   ]
  },
  {
   "cell_type": "markdown",
   "metadata": {
    "id": "xDltSpVP0eMr"
   },
   "source": [
    "#### Доля пользователей, просмотревших более четырёх страниц\n",
    "Рассмотрим показатель числа сессий, в рамках которых пользователь просмотрел 4 и более страниц. Этот показатель является важной прокси-метрикой для продукта, так как говорит об удовлетворённости пользователей контентом и алгоритмами рекомендаций.\n",
    "\n",
    "- В датафрейме `sessions_history` создадим дополнительный столбец `good_session`. В него войдёт значение `1`, если за одну сессию было просмотрено 4 и более страниц, и значение `0`, если было просмотрено меньше.\n",
    "\n",
    "- Построим график со средним значением доли успешных сессий от всех сессий по дням за весь период наблюдения."
   ]
  },
  {
   "cell_type": "code",
   "execution_count": 14,
   "metadata": {
    "id": "iygaPfixPYMW"
   },
   "outputs": [
    {
     "data": {
      "image/png": "[encoded data removed]",
      "text/plain": [
       "<Figure size 936x360 with 1 Axes>"
      ]
     },
     "metadata": {
      "needs_background": "light"
     },
     "output_type": "display_data"
    }
   ],
   "source": [
    "# Преобразуем столбец 'session_date' в формат datetime:\n",
    "sessions_history['session_date'] = pd.to_datetime(sessions_history['session_date'])\n",
    "\n",
    "# Создадим функцию is_good_session, которая будем возвращать значения \"0\" или \"1\" \n",
    "# в зависимости от кол-ва просмотренных страниц:\n",
    "def is_good_session(x):\n",
    "    return 1 if x >= 4 else 0\n",
    "\n",
    "# Добавим столбец 'good_session':\n",
    "sessions_history['good_session'] = sessions_history['page_counter'].apply(is_good_session)\n",
    "\n",
    "# Сгруппируем по дням (по датам) и посчитаем долю успешных сессий по значениям \"1\" столбца 'good_session' \n",
    "# с помощью метода mean():\n",
    "daily_group = sessions_history.groupby(sessions_history['session_date'].dt.date)['good_session'].mean().reset_index()    \n",
    "daily_group.columns = ['session_date', 'good_session_ratio']\n",
    "\n",
    "# Построим линейный график для отображения доли успешных сессий:\n",
    "plt.figure(figsize=(13, 5))\n",
    "sns.lineplot(data=daily_group, x='session_date', y='good_session_ratio', marker='o', color='red', linewidth=2)\n",
    "\n",
    "plt.title('Доля успешных сессий (просмотр более 4 страниц) по дням', fontsize=14)\n",
    "plt.xlabel('Дата')\n",
    "plt.ylabel('Доля успешных сессий')\n",
    "plt.ylim(0, 1)\n",
    "\n",
    "plt.grid(axis='y', linestyle='--', alpha=0.6)\n",
    "plt.xticks(rotation=0)\n",
    "plt.show()"
   ]
  },
  {
   "cell_type": "markdown",
   "metadata": {},
   "source": [
    "***На графике можно отметить, что доля успешных сессий распределена равномерно по дням и колеблется в пределах 30% от общего числа сессий.***"
   ]
  },
  {
   "cell_type": "markdown",
   "metadata": {
    "id": "21JcG77Y0eMt"
   },
   "source": [
    "###  Подготовка к тесту\n",
    "При планировании теста необходимо проделать несколько важных шагов:\n",
    "\n",
    "- Сформулируем нулевую и альтернативную гипотезы.\n",
    "\n",
    "- Определим целевую метрику.\n",
    "\n",
    "- Рассчитаем необходимый размер выборки.\n",
    "\n",
    "- Исходя из текущих значений трафика, рассчитаем необходимую длительность проведения теста."
   ]
  },
  {
   "cell_type": "markdown",
   "metadata": {
    "id": "kXdcwkjf859k"
   },
   "source": [
    "#### Формулировка нулевой и альтернативной гипотез\n"
   ]
  },
  {
   "cell_type": "markdown",
   "metadata": {
    "id": "RiKI8eT49h3F"
   },
   "source": [
    "**Сформулируем нулевую и альтернативную гипотезы:**\n",
    "\n",
    "***Нулевая гипотеза*** *: новый контент не повлияет на вовлеченность пользователей в приложение (изменения целевой метрики - доля успешных сессий между группами А (без нового алгоритма) и В (с новым алгоритмом) - не последует).*\n",
    "\n",
    "\n",
    "**H0: mu_a = mu_b**\n",
    "\n",
    "***Альтернативная гипотеза*** *: новый контент увеличит вовлеченность пользователей в приложение (определяющая метрика тестовой группы В будут больше, чем в контрольной группе А).*\n",
    "\n",
    "\n",
    "**H1: mu_a < mu_b**\n",
    "\n"
   ]
  },
  {
   "cell_type": "markdown",
   "metadata": {
    "id": "uzaeln270eMt"
   },
   "source": [
    "#### Расчёт размера выборки\n",
    "Рассчитаем необходимое для эксперимента количество пользователей.\n",
    "\n",
    "Для этого в коде установим следующие параметры:\n",
    "\n",
    "- Уровень значимости — 0.05.\n",
    "\n",
    "- Вероятность ошибки второго рода — 0.2.\n",
    "\n",
    "- Мощность теста.\n",
    "\n",
    "- Минимальный детектируемый эффект, или MDE, — 3% (в виде десятичной дроби). \n",
    "\n",
    "При расчёте размера выборки используем метод `solve_power()` из класса `power.NormalIndPower` модуля `statsmodels.stats`.\n",
    "\n",
    "Запустим ячейку и изучим полученное значение."
   ]
  },
  {
   "cell_type": "code",
   "execution_count": 15,
   "metadata": {
    "id": "zSxJyPGPNdaI"
   },
   "outputs": [
    {
     "name": "stdout",
     "output_type": "stream",
     "text": [
      "Необходимый размер выборки для каждой группы: 41040\n"
     ]
    }
   ],
   "source": [
    "from statsmodels.stats.power import NormalIndPower\n",
    "from statsmodels.stats.proportion import proportion_effectsize\n",
    "\n",
    "# Зададим параметры:\n",
    "alpha = 0.05 # Уровень значимости\n",
    "beta = 0.2 # Ошибка второго рода, часто 1 - мощность\n",
    "power = 0.8 # Мощность теста\n",
    "p = 0.3 # Базовый уровень доли\n",
    "mde = 0.03 * p  # Минимальный детектируемый эффект (3% от p)\n",
    "effect_size = proportion_effectsize(p, p + mde)\n",
    "\n",
    "# Инициализируем класс NormalIndPower:\n",
    "power_analysis = NormalIndPower()\n",
    "\n",
    "# Рассчитаем размер выборки:\n",
    "sample_size = power_analysis.solve_power(\n",
    "    effect_size = effect_size,\n",
    "    power = power,\n",
    "    alpha = alpha,\n",
    "    ratio = 1, # Равномерное распределение выборок\n",
    ")\n",
    "\n",
    "print(f\"Необходимый размер выборки для каждой группы: {int(sample_size)}\")"
   ]
  },
  {
   "cell_type": "markdown",
   "metadata": {
    "id": "qLEv4RoV0eMu"
   },
   "source": [
    "#### Расчёт длительности A/B-теста\n",
    "\n",
    "Используем данные о количестве пользователей в каждой выборке и среднем количестве пользователей приложения. Рассчитаем длительность теста, разделив одно на другое.\n",
    "\n",
    "- Рассчитаем среднее количество уникальных пользователей приложения в день.\n",
    "\n",
    "- Определим длительность теста исходя из рассчитанного значения размера выборок и среднего дневного трафика приложения. Количество дней округлим в большую сторону."
   ]
  },
  {
   "cell_type": "code",
   "execution_count": 16,
   "metadata": {
    "id": "KZDRbryDOGHa"
   },
   "outputs": [
    {
     "name": "stdout",
     "output_type": "stream",
     "text": [
      "Рассчитанная длительность A/B-теста при текущем уровене трафика в 9907 пользователей в день составит 9 дней\n"
     ]
    }
   ],
   "source": [
    "from math import ceil\n",
    "\n",
    "# Определим среднее количество пользователей приложения в день по историческим данным:\n",
    "avg_daily_users = int(sessions_history.groupby('session_date')['user_id'].nunique().mean())\n",
    "\n",
    "# Рассчитаем длительность теста в днях, как отношение размера выборки к среднему числу пользователей:\n",
    "test_duration = ceil(2 * sample_size / avg_daily_users)\n",
    "\n",
    "print(f\"Рассчитанная длительность A/B-теста при текущем уровене трафика в {avg_daily_users} пользователей в день составит {test_duration} дней\")"
   ]
  },
  {
   "cell_type": "markdown",
   "metadata": {
    "id": "ZuvtAdha0eMv"
   },
   "source": [
    "### Мониторинг А/В-теста"
   ]
  },
  {
   "cell_type": "markdown",
   "metadata": {
    "id": "jq5sE3Ya0eMv"
   },
   "source": [
    "#### Проверка распределения пользователей\n",
    "\n",
    "A/B-тест успешно запущен, и уже доступны данные за первые три дня. На этом этапе нужно убедиться, что всё идёт хорошо: пользователи разделены правильным образом, а интересующие вас метрики корректно считаются. Для этого:\n",
    "\n",
    "- Считаем и сохраним в датафрейм `sessions_test_part` CSV-файл с историческими данными о сессиях пользователей `sessions_project_test_part.csv`.\n",
    "\n",
    "- Рассчитаем количество уникальных пользователей в каждой из экспериментальных групп для одного дня наблюдения.\n",
    "\n",
    "- Рассчитаем и выведем на экран процентную разницу в количестве пользователей в группах A и B. Построим удобную визуализацию, на которой будет видно возможное различие двух групп.\n",
    "\n",
    "Для расчёта процентной разницы воспользуемся формулой:\n",
    "$$P = 100 \\cdot  \\frac{|A − B|}{A}$$"
   ]
  },
  {
   "cell_type": "code",
   "execution_count": 17,
   "metadata": {
    "id": "G1bqIzDJOUiz"
   },
   "outputs": [
    {
     "data": {
      "text/html": [
       "<div>\n",
       "<style scoped>\n",
       "    .dataframe tbody tr th:only-of-type {\n",
       "        vertical-align: middle;\n",
       "    }\n",
       "\n",
       "    .dataframe tbody tr th {\n",
       "        vertical-align: top;\n",
       "    }\n",
       "\n",
       "    .dataframe thead th {\n",
       "        text-align: right;\n",
       "    }\n",
       "</style>\n",
       "<table border=\"1\" class=\"dataframe\">\n",
       "  <thead>\n",
       "    <tr style=\"text-align: right;\">\n",
       "      <th></th>\n",
       "      <th>user_id</th>\n",
       "      <th>session_id</th>\n",
       "      <th>session_date</th>\n",
       "      <th>session_start_ts</th>\n",
       "      <th>install_date</th>\n",
       "      <th>session_number</th>\n",
       "      <th>registration_flag</th>\n",
       "      <th>page_counter</th>\n",
       "      <th>region</th>\n",
       "      <th>device</th>\n",
       "      <th>test_group</th>\n",
       "    </tr>\n",
       "  </thead>\n",
       "  <tbody>\n",
       "    <tr>\n",
       "      <th>0</th>\n",
       "      <td>3404844B53442747</td>\n",
       "      <td>B4901323BD537E45</td>\n",
       "      <td>2025-10-14</td>\n",
       "      <td>2025-10-14 19:28:49</td>\n",
       "      <td>2025-10-14</td>\n",
       "      <td>1</td>\n",
       "      <td>0</td>\n",
       "      <td>3</td>\n",
       "      <td>CIS</td>\n",
       "      <td>Android</td>\n",
       "      <td>B</td>\n",
       "    </tr>\n",
       "    <tr>\n",
       "      <th>1</th>\n",
       "      <td>3A2BF4D364E62D89</td>\n",
       "      <td>216FC619308F8788</td>\n",
       "      <td>2025-10-14</td>\n",
       "      <td>2025-10-14 21:11:04</td>\n",
       "      <td>2025-10-14</td>\n",
       "      <td>1</td>\n",
       "      <td>0</td>\n",
       "      <td>3</td>\n",
       "      <td>MENA</td>\n",
       "      <td>iPhone</td>\n",
       "      <td>A</td>\n",
       "    </tr>\n",
       "    <tr>\n",
       "      <th>2</th>\n",
       "      <td>79CDAE11E32B1597</td>\n",
       "      <td>EDFCE4AC1A504074</td>\n",
       "      <td>2025-10-14</td>\n",
       "      <td>2025-10-14 21:44:03</td>\n",
       "      <td>2025-10-14</td>\n",
       "      <td>1</td>\n",
       "      <td>0</td>\n",
       "      <td>3</td>\n",
       "      <td>CIS</td>\n",
       "      <td>iPhone</td>\n",
       "      <td>A</td>\n",
       "    </tr>\n",
       "    <tr>\n",
       "      <th>3</th>\n",
       "      <td>D6AF8D78297A931F</td>\n",
       "      <td>CF0AC0EEDE92C690</td>\n",
       "      <td>2025-10-14</td>\n",
       "      <td>2025-10-14 19:07:55</td>\n",
       "      <td>2025-10-14</td>\n",
       "      <td>1</td>\n",
       "      <td>0</td>\n",
       "      <td>4</td>\n",
       "      <td>CIS</td>\n",
       "      <td>PC</td>\n",
       "      <td>A</td>\n",
       "    </tr>\n",
       "    <tr>\n",
       "      <th>4</th>\n",
       "      <td>37E0CE723AE568E0</td>\n",
       "      <td>2E6ED45E8C86C4E9</td>\n",
       "      <td>2025-10-14</td>\n",
       "      <td>2025-10-14 15:39:44</td>\n",
       "      <td>2025-10-14</td>\n",
       "      <td>1</td>\n",
       "      <td>0</td>\n",
       "      <td>3</td>\n",
       "      <td>CIS</td>\n",
       "      <td>Mac</td>\n",
       "      <td>B</td>\n",
       "    </tr>\n",
       "  </tbody>\n",
       "</table>\n",
       "</div>"
      ],
      "text/plain": [
       "            user_id        session_id session_date     session_start_ts  \\\n",
       "0  3404844B53442747  B4901323BD537E45   2025-10-14  2025-10-14 19:28:49   \n",
       "1  3A2BF4D364E62D89  216FC619308F8788   2025-10-14  2025-10-14 21:11:04   \n",
       "2  79CDAE11E32B1597  EDFCE4AC1A504074   2025-10-14  2025-10-14 21:44:03   \n",
       "3  D6AF8D78297A931F  CF0AC0EEDE92C690   2025-10-14  2025-10-14 19:07:55   \n",
       "4  37E0CE723AE568E0  2E6ED45E8C86C4E9   2025-10-14  2025-10-14 15:39:44   \n",
       "\n",
       "  install_date  session_number  registration_flag  page_counter region  \\\n",
       "0   2025-10-14               1                  0             3    CIS   \n",
       "1   2025-10-14               1                  0             3   MENA   \n",
       "2   2025-10-14               1                  0             3    CIS   \n",
       "3   2025-10-14               1                  0             4    CIS   \n",
       "4   2025-10-14               1                  0             3    CIS   \n",
       "\n",
       "    device test_group  \n",
       "0  Android          B  \n",
       "1   iPhone          A  \n",
       "2   iPhone          A  \n",
       "3       PC          A  \n",
       "4      Mac          B  "
      ]
     },
     "execution_count": 17,
     "metadata": {},
     "output_type": "execute_result"
    }
   ],
   "source": [
    "# Сохраним в датафрейм 'sessions_test_part' датасет 'sessions_project_test_part.csv' и выведем первые его строки:\n",
    "sessions_test_part = pd.read_csv('https://code.s3.yandex.net/datasets/sessions_project_test_part.csv')\n",
    "sessions_test_part.head()"
   ]
  },
  {
   "cell_type": "code",
   "execution_count": 18,
   "metadata": {},
   "outputs": [
    {
     "name": "stdout",
     "output_type": "stream",
     "text": [
      "<class 'pandas.core.frame.DataFrame'>\n",
      "RangeIndex: 3130 entries, 0 to 3129\n",
      "Data columns (total 11 columns):\n",
      " #   Column             Non-Null Count  Dtype \n",
      "---  ------             --------------  ----- \n",
      " 0   user_id            3130 non-null   object\n",
      " 1   session_id         3130 non-null   object\n",
      " 2   session_date       3130 non-null   object\n",
      " 3   session_start_ts   3130 non-null   object\n",
      " 4   install_date       3130 non-null   object\n",
      " 5   session_number     3130 non-null   int64 \n",
      " 6   registration_flag  3130 non-null   int64 \n",
      " 7   page_counter       3130 non-null   int64 \n",
      " 8   region             3130 non-null   object\n",
      " 9   device             3130 non-null   object\n",
      " 10  test_group         3130 non-null   object\n",
      "dtypes: int64(3), object(8)\n",
      "memory usage: 269.1+ KB\n"
     ]
    }
   ],
   "source": [
    "# Выведем информацию о датафрейме:\n",
    "sessions_test_part.info()"
   ]
  },
  {
   "cell_type": "code",
   "execution_count": 19,
   "metadata": {},
   "outputs": [
    {
     "name": "stdout",
     "output_type": "stream",
     "text": [
      "test_group\n",
      "A    1477\n",
      "B    1466\n",
      "Name: user_id, dtype: int64\n"
     ]
    }
   ],
   "source": [
    "# Сохраним в переменной 'uniq_users' количество уникальных пользователей в группах А и В (за первый день теста):\n",
    "uniq_users = sessions_test_part.groupby('test_group')['user_id'].nunique()\n",
    "print(uniq_users)"
   ]
  },
  {
   "cell_type": "code",
   "execution_count": 20,
   "metadata": {},
   "outputs": [
    {
     "name": "stdout",
     "output_type": "stream",
     "text": [
      "Процентная разница между группами А и В: 0.74%\n"
     ]
    }
   ],
   "source": [
    "# И выведем разницу в количестве пользователей между группами в относительном значении:\n",
    "A = uniq_users['A']\n",
    "B = uniq_users['B']\n",
    "\n",
    "perc_diff = 100 * abs(A - B) / A\n",
    "print(f'Процентная разница между группами А и В: {perc_diff:.2f}%')"
   ]
  },
  {
   "cell_type": "code",
   "execution_count": 21,
   "metadata": {},
   "outputs": [
    {
     "data": {
      "image/png": "[encoded data removed]",
      "text/plain": [
       "<Figure size 936x360 with 1 Axes>"
      ]
     },
     "metadata": {
      "needs_background": "light"
     },
     "output_type": "display_data"
    }
   ],
   "source": [
    "# Завизуализируем результат различия групп А и В по количеству пользователей:\n",
    "plt.figure(figsize=(13, 5))\n",
    "\n",
    "ax = uniq_users.plot(kind='bar', color=['blue', 'orange'])\n",
    "ax.bar_label(ax.containers[0], label_type='edge')\n",
    "plt.title('Количество уникальных пользователей по группам А и В', fontsize=14)\n",
    "plt.xlabel('Группа')\n",
    "plt.ylabel('Количество пользователей')\n",
    "plt.xticks(rotation=0)\n",
    "plt.ylim(0, 1800)\n",
    "plt.grid(axis='y', linestyle='--', alpha=0.7)\n",
    "plt.show()"
   ]
  },
  {
   "cell_type": "markdown",
   "metadata": {
    "id": "sgpNY5bv0eM0"
   },
   "source": [
    "#### Проверка пересечений пользователей\n",
    "Помимо проверки равенства количества пользователей в группах, полезно убедиться в том, что группы независимы. Для этого нужно убедиться, что никто из пользователей случайно не попал в обе группы одновременно.\n",
    "\n",
    "- Рассчитаем количество пользователей, которые встречаются одновременно в группах A и B, или убедимся в том, что таких нет."
   ]
  },
  {
   "cell_type": "code",
   "execution_count": 22,
   "metadata": {
    "id": "E72ozN9FOX1u"
   },
   "outputs": [
    {
     "name": "stdout",
     "output_type": "stream",
     "text": [
      "Группы А и В полностью независимы - пересечений нет\n"
     ]
    }
   ],
   "source": [
    "# Выведем группы А и В в виде множеств, используя функцию set():\n",
    "groupp_A = set(sessions_test_part[sessions_test_part['test_group'] == 'A']['user_id'])\n",
    "groupp_B = set(sessions_test_part[sessions_test_part['test_group'] == 'B']['user_id'])\n",
    "\n",
    "# Определим пересечение пользователей (одновременное присутствие пользователей в группе А и В):\n",
    "dubl_users = groupp_A & groupp_B\n",
    "\n",
    "# Результат:\n",
    "if not dubl_users:\n",
    "    print('Группы А и В полностью независимы - пересечений нет')\n",
    "else:\n",
    "    print(f'Обнаружено {len(dubl_users)} пересекающихся пользователей: {dubl_users}')\n"
   ]
  },
  {
   "cell_type": "markdown",
   "metadata": {},
   "source": [
    "***Представим визуально результат пересечений с помощью диаграммы Венна***"
   ]
  },
  {
   "cell_type": "code",
   "execution_count": 23,
   "metadata": {},
   "outputs": [
    {
     "data": {
      "image/png": "[encoded data removed]",
      "text/plain": [
       "<Figure size 864x360 with 1 Axes>"
      ]
     },
     "metadata": {},
     "output_type": "display_data"
    }
   ],
   "source": [
    "# Зададим параметры визуализации:\n",
    "plt.figure(figsize=(12, 5))\n",
    "venn2([groupp_A, groupp_B], ('Группа А', 'Группа В'))\n",
    "plt.title('Пересечение пользователей между группами', fontsize=14)\n",
    "plt.show()"
   ]
  },
  {
   "cell_type": "markdown",
   "metadata": {},
   "source": [
    "***График подтверждает, что группы А и В независимы.***"
   ]
  },
  {
   "cell_type": "markdown",
   "metadata": {
    "id": "6RvkNLrg0eM1"
   },
   "source": [
    "#### Равномерность разделения пользователей по устройствам\n",
    "Также убедимся в том, что пользователи равномерно распределены по всем доступным категориальным переменным — типам устройств и регионам.\n",
    "\n",
    "Построим две диаграммы:\n",
    "\n",
    "- доля каждого типа устройства для пользователей из группы A,\n",
    "\n",
    "- доля каждого типа устройства для пользователей из группы B."
   ]
  },
  {
   "cell_type": "code",
   "execution_count": 24,
   "metadata": {
    "id": "x_IP6PUNPWHC"
   },
   "outputs": [
    {
     "name": "stdout",
     "output_type": "stream",
     "text": [
      "['Android' 'iPhone' 'PC' 'Mac']\n"
     ]
    }
   ],
   "source": [
    "# Для понимания, выведем все имеющиеся уникальные типы устройств:\n",
    "type_device = sessions_test_part['device'].unique()\n",
    "print(type_device)"
   ]
  },
  {
   "cell_type": "code",
   "execution_count": 25,
   "metadata": {},
   "outputs": [
    {
     "data": {
      "image/png": "[encoded data removed]",
      "text/plain": [
       "<Figure size 1008x432 with 2 Axes>"
      ]
     },
     "metadata": {},
     "output_type": "display_data"
    }
   ],
   "source": [
    "# Сохраним в переменную 'count_users' число уникальных пользователей, cгруппированных по группе и устройству:\n",
    "dev_users = sessions_test_part.groupby(['test_group', 'device'])['user_id'].nunique().reset_index()\n",
    "\n",
    "# Сгруппируем данные по группам А и В:\n",
    "group_a = dev_users[dev_users['test_group'] == 'A']\n",
    "group_b = dev_users[dev_users['test_group'] == 'B']\n",
    "\n",
    "# Рассчитаем доли для каждой группы:\n",
    "group_a['share'] = group_a['user_id'] / group_a['user_id'].sum() * 100\n",
    "group_b['share'] = group_b['user_id'] / group_b['user_id'].sum() * 100\n",
    "\n",
    "# Cоздадим график:\n",
    "fig, (ax1, ax2) = plt.subplots(1, 2, figsize=(14, 6))\n",
    "\n",
    "# Построим график для группы А в виде круговой диаграммы:\n",
    "ax1.pie(group_a['share'], labels=group_a['device'], \n",
    "       autopct='%.1f%%', colors=['#66b3ff', '#99ff99', '#ffcc99', '#ff9999'],\n",
    "       startangle=90)\n",
    "ax1.set_title('Группа А:Распределение устройств\\n(Всего пользователей: {})'.format(group_a['user_id'].sum()), fontweight='bold')\n",
    "\n",
    "# Также, построим круговую диаграмму для группы B:\n",
    "ax2.pie(group_b['share'], labels=group_b['device'], \n",
    "       autopct='%.1f%%', colors=['#66b3ff', '#99ff99', '#ffcc99', '#ff9999'],\n",
    "       startangle=90)\n",
    "ax2.set_title('Группа B:Распределение устройств\\n(Всего пользователей: {})'.format(group_b['user_id'].sum()), fontweight='bold')\n",
    "\n",
    "# Сформируем общий заголовок:\n",
    "plt.suptitle('Сравнение распределения типов устройств между группами А и В', y=1.05, fontsize=14, fontweight='bold')\n",
    "\n",
    "# Добавим пояснение к графику:\n",
    "fig.text(0.5, -0.5, 'Вывод: распределение устройств {} между группами'.format(\n",
    "                     'совпадает' if np.allclose(group_a['share'], group_b['share'], atol=5)\n",
    "                      else 'различается'), ha='center', fontsize=12, bbox=dict(facecolor='lightyellow', alpha=0.5))\n",
    "\n",
    "plt.tight_layout()\n",
    "plt.show()"
   ]
  },
  {
   "cell_type": "markdown",
   "metadata": {
    "id": "gAgmP6vo0eM1"
   },
   "source": [
    "#### Равномерность распределения пользователей по регионам\n",
    "Теперь убедимся, что пользователи равномерно распределены по регионам.\n",
    "\n",
    "Построим две диаграммы:\n",
    "\n",
    "- доля каждого региона для пользователей из группы A,\n",
    "\n",
    "- доля каждого региона для пользователей из группы B."
   ]
  },
  {
   "cell_type": "code",
   "execution_count": 26,
   "metadata": {
    "id": "3hAq-FG4OdYM"
   },
   "outputs": [
    {
     "name": "stdout",
     "output_type": "stream",
     "text": [
      "['CIS' 'MENA' 'EU']\n"
     ]
    }
   ],
   "source": [
    "# Выведем все уникальные названия регионов:\n",
    "type_device = sessions_test_part['region'].unique()\n",
    "print(type_device)"
   ]
  },
  {
   "cell_type": "code",
   "execution_count": 27,
   "metadata": {},
   "outputs": [
    {
     "data": {
      "image/png": "[encoded data removed]",
      "text/plain": [
       "<Figure size 1152x432 with 2 Axes>"
      ]
     },
     "metadata": {
      "needs_background": "light"
     },
     "output_type": "display_data"
    }
   ],
   "source": [
    "# Подсчитаем количество пользователей по регионам для каждой группы:\n",
    "reg_users = sessions_test_part.groupby(['test_group', 'region'])['user_id'].nunique().unstack(fill_value=0)\n",
    "\n",
    "# Рассчитаем доли каждого региона (в процентах):\n",
    "reg_perc = reg_users.div(reg_users.sum(axis=1), axis=0) * 100\n",
    "\n",
    "# Подготовим данные в относительных значениях по группам для визуализации:\n",
    "group_a_perc = reg_perc.loc['A'].sort_values(ascending=False)\n",
    "group_b_perc = reg_perc.loc['B'].sort_values(ascending=False)\n",
    "\n",
    "# Зададим параметры графиков:\n",
    "fig, (ax1, ax2) = plt.subplots(1, 2, figsize=(16, 6), sharey=True)\n",
    "\n",
    "# Построим график для группы А в виде столбчатой диаграммы:\n",
    "colors = plt.cm.tab20.colors\n",
    "ax1.bar(group_a_perc.index, group_a_perc.values, color=colors[:len(group_a_perc)]) \n",
    "ax1.set_title('Группа А: Распределение по регионам\\n(Всего пользователей: {})'.format(reg_users.loc['A'].sum()),\n",
    "               fontweight='bold', pad=20)\n",
    "ax1.set_ylabel('Доля пользователей, %')\n",
    "ax1.tick_params(axis='x', rotation=45)\n",
    "ax1.grid(axis='y',linestyle='--', alpha=0.7)\n",
    "\n",
    "# Добавим отображение значений на столбах, используя цикл:\n",
    "for i, v in enumerate(group_a_perc.values):\n",
    "    ax1.text(i, v+1, f'{v:.1f}%', ha='center')\n",
    "    \n",
    "# Построим, так же столбчатую диаграмму, для группы B:\n",
    "ax2.bar(group_b_perc.index, group_b_perc.values, color=colors[:len(group_b_perc)])\n",
    "ax2.set_title('Группа B: Распределение по регионам\\n(Всего пользователей: {})'.format(reg_users.loc['B'].sum()),\n",
    "               fontweight='bold', pad=20)\n",
    "ax2.tick_params(axis='x', rotation=45)\n",
    "ax2.grid(axis='y',linestyle='--', alpha=0.7)\n",
    "\n",
    "# Добавим значения на столбцы:\n",
    "for i, v in enumerate(group_b_perc.values):\n",
    "    ax2.text(i, v+1, f'{v:.1f}%', ha='center')\n",
    "    \n",
    "# Обозначим общий заголовок графика:\n",
    "plt.suptitle('Cравнение пользователей по регионам между группами А и В', y=1.05, fontsize=14, fontweight='bold')\n",
    "\n",
    "# Добавим пояснение к графику:\n",
    "max_diff = (group_a_perc - group_b_perc.reindex_like(group_a_perc).fillna(0)).abs().max()\n",
    "conclusion = 'Распределение регионов {} между группами (макс. разница: {:.1f}%)'.format(\n",
    "              'совпадает' if max_diff < 10 else 'различается', max_diff)\n",
    "fig.text(0.5, -0.5, conclusion, ha='center', fontsize=12, bbox=dict(facecolor='lightyellow', alpha=0.5))\n",
    "\n",
    "plt.ylim(0, 50)\n",
    "plt.tight_layout()\n",
    "plt.show()"
   ]
  },
  {
   "cell_type": "markdown",
   "metadata": {
    "id": "X2WSZ-sDrSUi"
   },
   "source": [
    "#### Вывод после проверки A/B-теста\n"
   ]
  },
  {
   "cell_type": "markdown",
   "metadata": {
    "id": "dDELHlAcOi8d"
   },
   "source": [
    "**На основе проведённого анализа результатов первого дня А/В-теста подитожим:**\n",
    "\n",
    "* Тестируемые группы А и В практически совпадают по числу уникальных пользователей. Разница составляет 0,74%: в группе А -  1477 пользователей, а в группе В - 1466.\n",
    "* Выборки являются независимыми - пересекающихщся (одних и тех же пользователей, присутствующих в обеих группах) не обнаруженно. Определено рассчетным путем и с помощью диаграммы Венна.\n",
    "* Количество пользователей в разрезе групп одинаково равномерно распределены и по типам устройств, и по регионам (разница в относительных значениях не существенна).\n",
    "\n",
    "***Следовательно, А/В-тестирование проходит корректно***."
   ]
  },
  {
   "cell_type": "markdown",
   "metadata": {
    "id": "nudRr_BQ0eM2"
   },
   "source": [
    "### Проверка результатов A/B-теста\n",
    "\n",
    "A/B-тест завершён. Убедимся в корректности проведенного А/В-теста и интерпретируем результаты."
   ]
  },
  {
   "cell_type": "markdown",
   "metadata": {
    "id": "JVve-YBB0eM2"
   },
   "source": [
    "#### Получение результатов теста и подсчёт основной метрики\n",
    "\n",
    "- Считаем и сохраним в датафрейм `sessions_test` CSV-файл с историческими данными о сессиях пользователей `sessions_project_test.csv`.\n",
    "\n",
    "- В датафрейме `sessions_test` создадим дополнительный столбец `good_session`. В него войдёт значение `1`, если за одну сессию было просмотрено 4 и более страниц, и значение `0`, если просмотрено меньше."
   ]
  },
  {
   "cell_type": "code",
   "execution_count": 28,
   "metadata": {
    "id": "EqRlwMtKPTir"
   },
   "outputs": [
    {
     "data": {
      "text/html": [
       "<div>\n",
       "<style scoped>\n",
       "    .dataframe tbody tr th:only-of-type {\n",
       "        vertical-align: middle;\n",
       "    }\n",
       "\n",
       "    .dataframe tbody tr th {\n",
       "        vertical-align: top;\n",
       "    }\n",
       "\n",
       "    .dataframe thead th {\n",
       "        text-align: right;\n",
       "    }\n",
       "</style>\n",
       "<table border=\"1\" class=\"dataframe\">\n",
       "  <thead>\n",
       "    <tr style=\"text-align: right;\">\n",
       "      <th></th>\n",
       "      <th>user_id</th>\n",
       "      <th>session_id</th>\n",
       "      <th>session_date</th>\n",
       "      <th>session_start_ts</th>\n",
       "      <th>install_date</th>\n",
       "      <th>session_number</th>\n",
       "      <th>registration_flag</th>\n",
       "      <th>page_counter</th>\n",
       "      <th>region</th>\n",
       "      <th>device</th>\n",
       "      <th>test_group</th>\n",
       "    </tr>\n",
       "  </thead>\n",
       "  <tbody>\n",
       "    <tr>\n",
       "      <th>0</th>\n",
       "      <td>6DAE3B3654DA738E</td>\n",
       "      <td>C69249E26E58F6E2</td>\n",
       "      <td>2025-10-26</td>\n",
       "      <td>2025-10-26 18:15:05</td>\n",
       "      <td>2025-10-16</td>\n",
       "      <td>3</td>\n",
       "      <td>0</td>\n",
       "      <td>3</td>\n",
       "      <td>MENA</td>\n",
       "      <td>Android</td>\n",
       "      <td>A</td>\n",
       "    </tr>\n",
       "    <tr>\n",
       "      <th>1</th>\n",
       "      <td>0A3FE5D1DD59110A</td>\n",
       "      <td>66D66D7C9F5181B7</td>\n",
       "      <td>2025-10-21</td>\n",
       "      <td>2025-10-21 17:04:53</td>\n",
       "      <td>2025-10-15</td>\n",
       "      <td>2</td>\n",
       "      <td>1</td>\n",
       "      <td>2</td>\n",
       "      <td>CIS</td>\n",
       "      <td>Android</td>\n",
       "      <td>B</td>\n",
       "    </tr>\n",
       "    <tr>\n",
       "      <th>2</th>\n",
       "      <td>2041F1D7AA740B88</td>\n",
       "      <td>50DE51D42215E74C</td>\n",
       "      <td>2025-10-23</td>\n",
       "      <td>2025-10-23 17:39:29</td>\n",
       "      <td>2025-10-19</td>\n",
       "      <td>3</td>\n",
       "      <td>0</td>\n",
       "      <td>2</td>\n",
       "      <td>MENA</td>\n",
       "      <td>Android</td>\n",
       "      <td>A</td>\n",
       "    </tr>\n",
       "    <tr>\n",
       "      <th>3</th>\n",
       "      <td>43D7585009168086</td>\n",
       "      <td>5763C0C353C22263</td>\n",
       "      <td>2025-10-24</td>\n",
       "      <td>2025-10-24 15:01:57</td>\n",
       "      <td>2025-10-18</td>\n",
       "      <td>4</td>\n",
       "      <td>0</td>\n",
       "      <td>1</td>\n",
       "      <td>CIS</td>\n",
       "      <td>iPhone</td>\n",
       "      <td>B</td>\n",
       "    </tr>\n",
       "    <tr>\n",
       "      <th>4</th>\n",
       "      <td>15AD68B14D62D88C</td>\n",
       "      <td>B1AD09F93C1053BC</td>\n",
       "      <td>2025-10-17</td>\n",
       "      <td>2025-10-17 17:34:39</td>\n",
       "      <td>2025-10-17</td>\n",
       "      <td>1</td>\n",
       "      <td>0</td>\n",
       "      <td>2</td>\n",
       "      <td>MENA</td>\n",
       "      <td>Android</td>\n",
       "      <td>B</td>\n",
       "    </tr>\n",
       "  </tbody>\n",
       "</table>\n",
       "</div>"
      ],
      "text/plain": [
       "            user_id        session_id session_date     session_start_ts  \\\n",
       "0  6DAE3B3654DA738E  C69249E26E58F6E2   2025-10-26  2025-10-26 18:15:05   \n",
       "1  0A3FE5D1DD59110A  66D66D7C9F5181B7   2025-10-21  2025-10-21 17:04:53   \n",
       "2  2041F1D7AA740B88  50DE51D42215E74C   2025-10-23  2025-10-23 17:39:29   \n",
       "3  43D7585009168086  5763C0C353C22263   2025-10-24  2025-10-24 15:01:57   \n",
       "4  15AD68B14D62D88C  B1AD09F93C1053BC   2025-10-17  2025-10-17 17:34:39   \n",
       "\n",
       "  install_date  session_number  registration_flag  page_counter region  \\\n",
       "0   2025-10-16               3                  0             3   MENA   \n",
       "1   2025-10-15               2                  1             2    CIS   \n",
       "2   2025-10-19               3                  0             2   MENA   \n",
       "3   2025-10-18               4                  0             1    CIS   \n",
       "4   2025-10-17               1                  0             2   MENA   \n",
       "\n",
       "    device test_group  \n",
       "0  Android          A  \n",
       "1  Android          B  \n",
       "2  Android          A  \n",
       "3   iPhone          B  \n",
       "4  Android          B  "
      ]
     },
     "execution_count": 28,
     "metadata": {},
     "output_type": "execute_result"
    }
   ],
   "source": [
    "# Сохраним датасет 'sessions_project_test.csv' в датафрейм 'sessions_test'. Выведем первые строки:\n",
    "sessions_test = pd.read_csv('https://code.s3.yandex.net/datasets/sessions_project_test.csv')\n",
    "sessions_test.head()"
   ]
  },
  {
   "cell_type": "code",
   "execution_count": 29,
   "metadata": {},
   "outputs": [
    {
     "name": "stdout",
     "output_type": "stream",
     "text": [
      "<class 'pandas.core.frame.DataFrame'>\n",
      "RangeIndex: 100005 entries, 0 to 100004\n",
      "Data columns (total 11 columns):\n",
      " #   Column             Non-Null Count   Dtype \n",
      "---  ------             --------------   ----- \n",
      " 0   user_id            100005 non-null  object\n",
      " 1   session_id         100005 non-null  object\n",
      " 2   session_date       100005 non-null  object\n",
      " 3   session_start_ts   100005 non-null  object\n",
      " 4   install_date       100005 non-null  object\n",
      " 5   session_number     100005 non-null  int64 \n",
      " 6   registration_flag  100005 non-null  int64 \n",
      " 7   page_counter       100005 non-null  int64 \n",
      " 8   region             100005 non-null  object\n",
      " 9   device             100005 non-null  object\n",
      " 10  test_group         100005 non-null  object\n",
      "dtypes: int64(3), object(8)\n",
      "memory usage: 8.4+ MB\n"
     ]
    }
   ],
   "source": [
    "# Выведем информацию о полученном датафрейме:\n",
    "sessions_test.info()"
   ]
  },
  {
   "cell_type": "code",
   "execution_count": 30,
   "metadata": {},
   "outputs": [
    {
     "data": {
      "text/html": [
       "<div>\n",
       "<style scoped>\n",
       "    .dataframe tbody tr th:only-of-type {\n",
       "        vertical-align: middle;\n",
       "    }\n",
       "\n",
       "    .dataframe tbody tr th {\n",
       "        vertical-align: top;\n",
       "    }\n",
       "\n",
       "    .dataframe thead th {\n",
       "        text-align: right;\n",
       "    }\n",
       "</style>\n",
       "<table border=\"1\" class=\"dataframe\">\n",
       "  <thead>\n",
       "    <tr style=\"text-align: right;\">\n",
       "      <th></th>\n",
       "      <th>user_id</th>\n",
       "      <th>session_id</th>\n",
       "      <th>session_date</th>\n",
       "      <th>session_start_ts</th>\n",
       "      <th>install_date</th>\n",
       "      <th>session_number</th>\n",
       "      <th>registration_flag</th>\n",
       "      <th>page_counter</th>\n",
       "      <th>region</th>\n",
       "      <th>device</th>\n",
       "      <th>test_group</th>\n",
       "      <th>good_session</th>\n",
       "    </tr>\n",
       "  </thead>\n",
       "  <tbody>\n",
       "    <tr>\n",
       "      <th>0</th>\n",
       "      <td>6DAE3B3654DA738E</td>\n",
       "      <td>C69249E26E58F6E2</td>\n",
       "      <td>2025-10-26</td>\n",
       "      <td>2025-10-26 18:15:05</td>\n",
       "      <td>2025-10-16</td>\n",
       "      <td>3</td>\n",
       "      <td>0</td>\n",
       "      <td>3</td>\n",
       "      <td>MENA</td>\n",
       "      <td>Android</td>\n",
       "      <td>A</td>\n",
       "      <td>0</td>\n",
       "    </tr>\n",
       "    <tr>\n",
       "      <th>1</th>\n",
       "      <td>0A3FE5D1DD59110A</td>\n",
       "      <td>66D66D7C9F5181B7</td>\n",
       "      <td>2025-10-21</td>\n",
       "      <td>2025-10-21 17:04:53</td>\n",
       "      <td>2025-10-15</td>\n",
       "      <td>2</td>\n",
       "      <td>1</td>\n",
       "      <td>2</td>\n",
       "      <td>CIS</td>\n",
       "      <td>Android</td>\n",
       "      <td>B</td>\n",
       "      <td>0</td>\n",
       "    </tr>\n",
       "    <tr>\n",
       "      <th>2</th>\n",
       "      <td>2041F1D7AA740B88</td>\n",
       "      <td>50DE51D42215E74C</td>\n",
       "      <td>2025-10-23</td>\n",
       "      <td>2025-10-23 17:39:29</td>\n",
       "      <td>2025-10-19</td>\n",
       "      <td>3</td>\n",
       "      <td>0</td>\n",
       "      <td>2</td>\n",
       "      <td>MENA</td>\n",
       "      <td>Android</td>\n",
       "      <td>A</td>\n",
       "      <td>0</td>\n",
       "    </tr>\n",
       "    <tr>\n",
       "      <th>3</th>\n",
       "      <td>43D7585009168086</td>\n",
       "      <td>5763C0C353C22263</td>\n",
       "      <td>2025-10-24</td>\n",
       "      <td>2025-10-24 15:01:57</td>\n",
       "      <td>2025-10-18</td>\n",
       "      <td>4</td>\n",
       "      <td>0</td>\n",
       "      <td>1</td>\n",
       "      <td>CIS</td>\n",
       "      <td>iPhone</td>\n",
       "      <td>B</td>\n",
       "      <td>0</td>\n",
       "    </tr>\n",
       "    <tr>\n",
       "      <th>4</th>\n",
       "      <td>15AD68B14D62D88C</td>\n",
       "      <td>B1AD09F93C1053BC</td>\n",
       "      <td>2025-10-17</td>\n",
       "      <td>2025-10-17 17:34:39</td>\n",
       "      <td>2025-10-17</td>\n",
       "      <td>1</td>\n",
       "      <td>0</td>\n",
       "      <td>2</td>\n",
       "      <td>MENA</td>\n",
       "      <td>Android</td>\n",
       "      <td>B</td>\n",
       "      <td>0</td>\n",
       "    </tr>\n",
       "    <tr>\n",
       "      <th>...</th>\n",
       "      <td>...</td>\n",
       "      <td>...</td>\n",
       "      <td>...</td>\n",
       "      <td>...</td>\n",
       "      <td>...</td>\n",
       "      <td>...</td>\n",
       "      <td>...</td>\n",
       "      <td>...</td>\n",
       "      <td>...</td>\n",
       "      <td>...</td>\n",
       "      <td>...</td>\n",
       "      <td>...</td>\n",
       "    </tr>\n",
       "    <tr>\n",
       "      <th>100000</th>\n",
       "      <td>CF77C27B238C1BE3</td>\n",
       "      <td>0F7BC9B33685377C</td>\n",
       "      <td>2025-10-22</td>\n",
       "      <td>2025-10-22 19:01:50</td>\n",
       "      <td>2025-10-20</td>\n",
       "      <td>3</td>\n",
       "      <td>0</td>\n",
       "      <td>3</td>\n",
       "      <td>MENA</td>\n",
       "      <td>Android</td>\n",
       "      <td>A</td>\n",
       "      <td>0</td>\n",
       "    </tr>\n",
       "    <tr>\n",
       "      <th>100001</th>\n",
       "      <td>D7ED66C581409AC2</td>\n",
       "      <td>26C4475005E70F47</td>\n",
       "      <td>2025-10-17</td>\n",
       "      <td>2025-10-17 22:12:38</td>\n",
       "      <td>2025-10-17</td>\n",
       "      <td>1</td>\n",
       "      <td>0</td>\n",
       "      <td>5</td>\n",
       "      <td>CIS</td>\n",
       "      <td>PC</td>\n",
       "      <td>A</td>\n",
       "      <td>1</td>\n",
       "    </tr>\n",
       "    <tr>\n",
       "      <th>100002</th>\n",
       "      <td>E7EA2D51238020C6</td>\n",
       "      <td>9B9CDE6A612CBD73</td>\n",
       "      <td>2025-10-24</td>\n",
       "      <td>2025-10-24 14:54:07</td>\n",
       "      <td>2025-10-14</td>\n",
       "      <td>2</td>\n",
       "      <td>0</td>\n",
       "      <td>3</td>\n",
       "      <td>MENA</td>\n",
       "      <td>PC</td>\n",
       "      <td>B</td>\n",
       "      <td>0</td>\n",
       "    </tr>\n",
       "    <tr>\n",
       "      <th>100003</th>\n",
       "      <td>8A6FEFD7F34C5DA1</td>\n",
       "      <td>37291EC27106EF9D</td>\n",
       "      <td>2025-10-18</td>\n",
       "      <td>2025-10-18 00:05:10</td>\n",
       "      <td>2025-10-14</td>\n",
       "      <td>3</td>\n",
       "      <td>0</td>\n",
       "      <td>4</td>\n",
       "      <td>EU</td>\n",
       "      <td>Android</td>\n",
       "      <td>B</td>\n",
       "      <td>1</td>\n",
       "    </tr>\n",
       "    <tr>\n",
       "      <th>100004</th>\n",
       "      <td>EE2CA3C8481A0DE8</td>\n",
       "      <td>A4C833633CD4412E</td>\n",
       "      <td>2025-10-23</td>\n",
       "      <td>2025-10-23 10:02:27</td>\n",
       "      <td>2025-10-19</td>\n",
       "      <td>2</td>\n",
       "      <td>0</td>\n",
       "      <td>2</td>\n",
       "      <td>MENA</td>\n",
       "      <td>Android</td>\n",
       "      <td>B</td>\n",
       "      <td>0</td>\n",
       "    </tr>\n",
       "  </tbody>\n",
       "</table>\n",
       "<p>100005 rows × 12 columns</p>\n",
       "</div>"
      ],
      "text/plain": [
       "                 user_id        session_id session_date     session_start_ts  \\\n",
       "0       6DAE3B3654DA738E  C69249E26E58F6E2   2025-10-26  2025-10-26 18:15:05   \n",
       "1       0A3FE5D1DD59110A  66D66D7C9F5181B7   2025-10-21  2025-10-21 17:04:53   \n",
       "2       2041F1D7AA740B88  50DE51D42215E74C   2025-10-23  2025-10-23 17:39:29   \n",
       "3       43D7585009168086  5763C0C353C22263   2025-10-24  2025-10-24 15:01:57   \n",
       "4       15AD68B14D62D88C  B1AD09F93C1053BC   2025-10-17  2025-10-17 17:34:39   \n",
       "...                  ...               ...          ...                  ...   \n",
       "100000  CF77C27B238C1BE3  0F7BC9B33685377C   2025-10-22  2025-10-22 19:01:50   \n",
       "100001  D7ED66C581409AC2  26C4475005E70F47   2025-10-17  2025-10-17 22:12:38   \n",
       "100002  E7EA2D51238020C6  9B9CDE6A612CBD73   2025-10-24  2025-10-24 14:54:07   \n",
       "100003  8A6FEFD7F34C5DA1  37291EC27106EF9D   2025-10-18  2025-10-18 00:05:10   \n",
       "100004  EE2CA3C8481A0DE8  A4C833633CD4412E   2025-10-23  2025-10-23 10:02:27   \n",
       "\n",
       "       install_date  session_number  registration_flag  page_counter region  \\\n",
       "0        2025-10-16               3                  0             3   MENA   \n",
       "1        2025-10-15               2                  1             2    CIS   \n",
       "2        2025-10-19               3                  0             2   MENA   \n",
       "3        2025-10-18               4                  0             1    CIS   \n",
       "4        2025-10-17               1                  0             2   MENA   \n",
       "...             ...             ...                ...           ...    ...   \n",
       "100000   2025-10-20               3                  0             3   MENA   \n",
       "100001   2025-10-17               1                  0             5    CIS   \n",
       "100002   2025-10-14               2                  0             3   MENA   \n",
       "100003   2025-10-14               3                  0             4     EU   \n",
       "100004   2025-10-19               2                  0             2   MENA   \n",
       "\n",
       "         device test_group  good_session  \n",
       "0       Android          A             0  \n",
       "1       Android          B             0  \n",
       "2       Android          A             0  \n",
       "3        iPhone          B             0  \n",
       "4       Android          B             0  \n",
       "...         ...        ...           ...  \n",
       "100000  Android          A             0  \n",
       "100001       PC          A             1  \n",
       "100002       PC          B             0  \n",
       "100003  Android          B             1  \n",
       "100004  Android          B             0  \n",
       "\n",
       "[100005 rows x 12 columns]"
      ]
     },
     "metadata": {},
     "output_type": "display_data"
    }
   ],
   "source": [
    "# Добавим в датафрейм 'sessions_test' столбец 'good_session' с заданными условиями:\n",
    "sessions_test['good_session'] = np.where(sessions_test['page_counter'] >= 4, 1, 0)\n",
    "display(sessions_test)"
   ]
  },
  {
   "cell_type": "markdown",
   "metadata": {
    "id": "aeYhrMYy0eM2"
   },
   "source": [
    "#### Проверка корректности результатов теста\n",
    "\n",
    "Прежде чем приступить к анализу ключевых продуктовых метрик, необходимо убедиться, что тест проведён корректно и мы будем сравнивать две сопоставимые группы. Для этого:\n",
    "\n",
    "- Рассчитаем количество уникальных сессий для каждого дня и обеих тестовых групп, используя группировку.\n",
    "\n",
    "- Проверим, что количество уникальных дневных сессий в двух выборках не различается или различия не статистически значимыми. Используем статистический тест, который позволит сделать вывод о равенстве средних двух выборок.\n",
    "\n",
    "- В качестве ответа выведем на экран полученное значение p-value и интерпретируем его."
   ]
  },
  {
   "cell_type": "code",
   "execution_count": 31,
   "metadata": {
    "id": "5NUlcltkTTSU"
   },
   "outputs": [
    {
     "name": "stdout",
     "output_type": "stream",
     "text": [
      "   session_date test_group  unique_sessions_count\n",
      "0    2025-10-14          A                   1502\n",
      "1    2025-10-14          B                   1628\n",
      "2    2025-10-15          A                   2235\n",
      "3    2025-10-15          B                   2283\n",
      "4    2025-10-16          A                   3280\n",
      "5    2025-10-16          B                   3241\n",
      "6    2025-10-17          A                   4089\n",
      "7    2025-10-17          B                   4054\n",
      "8    2025-10-18          A                   5013\n",
      "9    2025-10-18          B                   5059\n",
      "10   2025-10-19          A                   6535\n",
      "11   2025-10-19          B                   6779\n",
      "12   2025-10-20          A                   5837\n",
      "13   2025-10-20          B                   6089\n",
      "14   2025-10-21          A                   3927\n",
      "15   2025-10-21          B                   3981\n",
      "16   2025-10-22          A                   3083\n",
      "17   2025-10-22          B                   3111\n",
      "18   2025-10-23          A                   2470\n",
      "19   2025-10-23          B                   2548\n",
      "20   2025-10-24          A                   2090\n",
      "21   2025-10-24          B                   2068\n",
      "22   2025-10-25          A                   1897\n",
      "23   2025-10-25          B                   1814\n",
      "24   2025-10-26          A                   1669\n",
      "25   2025-10-26          B                   1692\n",
      "26   2025-10-27          A                   1454\n",
      "27   2025-10-27          B                   1517\n",
      "28   2025-10-28          A                   1279\n",
      "29   2025-10-28          B                   1289\n",
      "30   2025-10-29          A                   1068\n",
      "31   2025-10-29          B                   1131\n",
      "32   2025-10-30          A                    887\n",
      "33   2025-10-30          B                    876\n",
      "34   2025-10-31          A                    644\n",
      "35   2025-10-31          B                    669\n",
      "36   2025-11-01          A                    434\n",
      "37   2025-11-01          B                    465\n",
      "38   2025-11-02          A                    158\n",
      "39   2025-11-02          B                    160\n"
     ]
    }
   ],
   "source": [
    "# Сохраним в переменной 'unique_sessions' количество уникальных сессий, сгруппированных по дням и группам:\n",
    "unique_sessions = sessions_test.groupby(['session_date', 'test_group'])['session_id'].nunique().reset_index()\n",
    "unique_sessions.rename(columns={'session_id': 'unique_sessions_count'}, inplace=True)\n",
    "print(unique_sessions)"
   ]
  },
  {
   "cell_type": "code",
   "execution_count": 32,
   "metadata": {},
   "outputs": [],
   "source": [
    "# Разделим данные (кол-во уникальных сессий) на группы А и В :\n",
    "group_A = unique_sessions[unique_sessions['test_group'] == 'A']['unique_sessions_count']\n",
    "group_B = unique_sessions[unique_sessions['test_group'] == 'B']['unique_sessions_count']"
   ]
  },
  {
   "cell_type": "code",
   "execution_count": 33,
   "metadata": {},
   "outputs": [
    {
     "name": "stdout",
     "output_type": "stream",
     "text": [
      "Levene test p-value: 0.96\n",
      "Дисперсии равны (используем t-тест с равными дисперсиями - t-тест Стьюдента).\n"
     ]
    }
   ],
   "source": [
    "# Проверим равенство выборочных дисперсий перед проведением t-теста с помощью теста Левана\n",
    "# при заданном уровне значимости 0.05:\n",
    "levene_test = stats.levene(group_A, group_B)\n",
    "print(f'Levene test p-value: {levene_test.pvalue:.2f}')\n",
    "\n",
    "# Результат:\n",
    "if levene_test.pvalue > 0.05:\n",
    "    print('Дисперсии равны (используем t-тест с равными дисперсиями - t-тест Стьюдента).')\n",
    "else:\n",
    "    print('Дисперсии неравны (используем t-тест Уэлча).')"
   ]
  },
  {
   "cell_type": "code",
   "execution_count": 34,
   "metadata": {},
   "outputs": [
    {
     "name": "stdout",
     "output_type": "stream",
     "text": [
      "\n",
      "T-test p-value: 0.94\n",
      "\n",
      "Вывод: Нет статистически значимых различий между группами А и В (р > 0.05).\n"
     ]
    }
   ],
   "source": [
    "# Значит, при равенстве дисперсий проведем для средних выборочных значений групп А и В t-тест Стьюдента:\n",
    "t_stat, p_value = stats.ttest_ind(group_A, group_B, equal_var=True)\n",
    "alpha = 0.05\n",
    "\n",
    "print(f'\\nT-test p-value: {p_value:.2f}')\n",
    "\n",
    "# Интерпретируем результат:\n",
    "if p_value > alpha:\n",
    "    print('\\nВывод: Нет статистически значимых различий между группами А и В (р > 0.05).')\n",
    "else:\n",
    "    print('\\nВывод: Различия между группами А и В статистически значимы (р <= 0.05).')\n"
   ]
  },
  {
   "cell_type": "markdown",
   "metadata": {
    "id": "7kwRxzg70eM3"
   },
   "source": [
    "#### Сравнение доли успешных сессий\n",
    "\n",
    "Убедившись, что количество сессий в обеих выборках не различалось, перейдем к анализу ключевой метрики — доли успешных сессий.\n",
    "\n",
    "Используем созданный на первом шаге задания столбец `good_session` и рассчитаем долю успешных сессий для выборок A и B, а также разницу в этом показателе. Полученный вывод отобразим на экране."
   ]
  },
  {
   "cell_type": "code",
   "execution_count": 35,
   "metadata": {
    "id": "Uku-V1CpPRCz"
   },
   "outputs": [
    {
     "name": "stdout",
     "output_type": "stream",
     "text": [
      "  test_group  daily_good_sess\n",
      "0          A         0.307723\n",
      "1          B         0.318290\n"
     ]
    }
   ],
   "source": [
    "# Сгруппируем данные по группам и вычислим долю успешных сессий, как среднее значение данных столбца 'good_session':\n",
    "daily_good_sessions = sessions_test.groupby('test_group')['good_session'].mean().reset_index()\n",
    "daily_good_sessions.rename(columns={'good_session': 'daily_good_sess'}, inplace=True)\n",
    "\n",
    "print(daily_good_sessions)"
   ]
  },
  {
   "cell_type": "code",
   "execution_count": 36,
   "metadata": {},
   "outputs": [
    {
     "name": "stdout",
     "output_type": "stream",
     "text": [
      "\n",
      "Разница в долях успешных сессий (А - В) составляет: -0.0106.\n"
     ]
    }
   ],
   "source": [
    "# Вычислим разницу между долями успешных сессий групп А и В:\n",
    "rate_A = daily_good_sessions[daily_good_sessions['test_group'] == 'A']['daily_good_sess'].values[0]\n",
    "rate_B = daily_good_sessions[daily_good_sessions['test_group'] == 'B']['daily_good_sess'].values[0]\n",
    "difference = rate_A - rate_B\n",
    "print(f'\\nРазница в долях успешных сессий (А - В) составляет: {difference:.4f}.')"
   ]
  },
  {
   "cell_type": "markdown",
   "metadata": {},
   "source": [
    "**Значит, доля успешных сессий в группе В выше, примерно, на 1.1 процентный пункт.**"
   ]
  },
  {
   "cell_type": "markdown",
   "metadata": {
    "id": "9fMFuja10eM4"
   },
   "source": [
    "#### Насколько статистически значимо изменение ключевой метрики\n",
    "\n",
    "На предыдущем шаге мы убедились, что количество успешных сессий в тестовой выборке примерно на 1.1% выше, чем в контрольной, но делать выводы только на основе этого значения будет некорректно. Поэтому, для принятия решения необходимо определить: является ли это изменение статистически значимым.\n",
    "\n",
    "- Используя статистический тест, рассчитаем, является ли изменение в метрике доли успешных сессий статистически значимым.\n",
    "\n",
    "- Выведим на экран полученное значение p-value и выводы о статистической значимости, учитывая, что уровень значимости в эксперименте был выбран на уровне 0.05."
   ]
  },
  {
   "cell_type": "code",
   "execution_count": 37,
   "metadata": {
    "id": "gFvhRGwlPLS0"
   },
   "outputs": [
    {
     "name": "stdout",
     "output_type": "stream",
     "text": [
      "\n",
      "Z-тест p-value: 0.000315\n",
      "Вывод: Разнца статистически значима (р <= 0.05).\n"
     ]
    }
   ],
   "source": [
    "# Используем Z-тест для пропорций для определения статистической значимости полученного изменения метрики.\n",
    "# Посчитаем количество успехов и общее число наблюдений в каждой группе (размер выборки):\n",
    "success_A = sessions_test[sessions_test['test_group'] == 'A']['good_session'].sum()\n",
    "total_A = len(sessions_test[sessions_test['test_group'] == 'A'])\n",
    "\n",
    "success_B = sessions_test[sessions_test['test_group'] == 'B']['good_session'].sum()\n",
    "total_B = len(sessions_test[sessions_test['test_group'] == 'B'])\n",
    "\n",
    "alpha = 0.05\n",
    "\n",
    "# Проведем Z-тест для пропорций:\n",
    "z_stat, p_value = proportions_ztest(count=[success_A, success_B],\n",
    "                                   nobs=[total_A, total_B], alternative='two-sided')\n",
    "# Выведем результат:\n",
    "print(f'\\nZ-тест p-value: {p_value:.6f}')\n",
    "if p_value > alpha:\n",
    "    print('Вывод: Разнца статистически не значима (р > 0.05).')\n",
    "else:\n",
    "    print('Вывод: Разнца статистически значима (р <= 0.05).')"
   ]
  },
  {
   "cell_type": "markdown",
   "metadata": {
    "id": "GnJrkY9Q63zS"
   },
   "source": [
    "#### Вывод по результатам A/B-эксперимента\n",
    "\n",
    "**На основе проведённого анализа результатов А/В-теста сделаем следующие выводы:**\n",
    "\n",
    "- В ходе проведения эксперимента были изучены несколько важных показателей продукта: число регистраций пользователей в приложении, количество проссмотренных страниц и доля успешных сессий. \n",
    "\n",
    "- Были сформулированы нулевая и альтернативная гипотезы, определена ключевая метрика - доля успешных сессий, которая была рассчитана и проанализированна перед тестированием и после его  проведения. \n",
    "\n",
    "- Для проведения теста был рассчитан необходимый размер каждой выборки  - 41040 пользователей и определена длительность эксперимента - 9 день.\n",
    "\n",
    "- На начальном этапе эксперимента группы А и В были проверены на независимость данных (отсутствие пересечения пользователей) и на совпадение групп по числу пользователей  (разница не существенна -  0.74%), а также на равномерное распределение количества пользователей в группах по типам устройств и регионам.\n",
    "\n",
    "- Основные условия для корректного проведения А/В-тестирования были соблюдены. \n",
    "\n",
    "- В результате проведенного Z-теста для пропорций по итогам эксперимента было выявленно, что доля успешных сессий в тестовой группе (группа В) на 1.1% выше, чем в контрольной (группа А). Следовательно, внедрение нового алгоритма рекомендаций положительно повлияло на рост ключевой метрики.\n",
    "\n",
    "- Статистическая значимость выявленного эффекта оценивается значением p-value, равным 0.000315, которое меньше заданного уровня значимости 0.05. Значит, нулевая гипотеза не находит подтверждения. \n",
    "\n",
    "- **Рекомендации для команды разработчиков:** новый алгоритм рекомендаций имеет место быть в приложении. Анализ результатов проведенного тестирования показывает, что новый контент интересен пользователям, тем самым увеличивая их вовлеченность в приложение."
   ]
  }
 ],
 "metadata": {
  "ExecuteTimeLog": [
   {
    "duration": 419,
    "start_time": "2025-06-19T13:31:05.996Z"
   },
   {
    "duration": 104,
    "start_time": "2025-06-19T13:32:48.668Z"
   },
   {
    "duration": 391,
    "start_time": "2025-06-19T13:33:37.410Z"
   },
   {
    "duration": 108,
    "start_time": "2025-06-19T13:33:37.803Z"
   },
   {
    "duration": 0,
    "start_time": "2025-06-19T13:33:37.914Z"
   },
   {
    "duration": 0,
    "start_time": "2025-06-19T13:33:37.914Z"
   },
   {
    "duration": 399,
    "start_time": "2025-06-19T13:36:11.715Z"
   },
   {
    "duration": 104,
    "start_time": "2025-06-19T13:36:12.116Z"
   },
   {
    "duration": 0,
    "start_time": "2025-06-19T13:36:12.222Z"
   },
   {
    "duration": 0,
    "start_time": "2025-06-19T13:36:12.223Z"
   },
   {
    "duration": 1779,
    "start_time": "2025-06-19T13:48:11.070Z"
   },
   {
    "duration": 384,
    "start_time": "2025-06-19T13:48:20.968Z"
   },
   {
    "duration": 1725,
    "start_time": "2025-06-19T13:48:21.354Z"
   },
   {
    "duration": 580,
    "start_time": "2025-06-19T13:48:23.080Z"
   },
   {
    "duration": 0,
    "start_time": "2025-06-19T13:48:23.661Z"
   },
   {
    "duration": 1889,
    "start_time": "2025-06-19T13:49:29.240Z"
   },
   {
    "duration": 517,
    "start_time": "2025-06-19T13:55:02.547Z"
   },
   {
    "duration": 65,
    "start_time": "2025-06-19T13:58:54.792Z"
   },
   {
    "duration": 446,
    "start_time": "2025-06-19T14:01:21.104Z"
   },
   {
    "duration": 470,
    "start_time": "2025-06-19T14:01:36.066Z"
   },
   {
    "duration": 77,
    "start_time": "2025-06-19T14:03:40.431Z"
   },
   {
    "duration": 1335,
    "start_time": "2025-06-19T14:03:54.567Z"
   },
   {
    "duration": 29,
    "start_time": "2025-06-19T14:05:22.301Z"
   },
   {
    "duration": 30,
    "start_time": "2025-06-19T14:05:42.417Z"
   },
   {
    "duration": 34,
    "start_time": "2025-06-19T14:06:20.736Z"
   },
   {
    "duration": 33,
    "start_time": "2025-06-19T14:06:29.367Z"
   },
   {
    "duration": 38,
    "start_time": "2025-06-19T14:06:57.523Z"
   },
   {
    "duration": 556,
    "start_time": "2025-06-19T14:10:06.673Z"
   },
   {
    "duration": 516,
    "start_time": "2025-06-19T14:10:16.604Z"
   },
   {
    "duration": 36,
    "start_time": "2025-06-19T14:11:39.303Z"
   },
   {
    "duration": 937,
    "start_time": "2025-06-19T17:46:22.820Z"
   },
   {
    "duration": 83,
    "start_time": "2025-06-19T17:54:04.422Z"
   },
   {
    "duration": 715,
    "start_time": "2025-06-19T17:54:12.621Z"
   },
   {
    "duration": 2179,
    "start_time": "2025-06-19T17:54:13.338Z"
   },
   {
    "duration": 743,
    "start_time": "2025-06-19T17:54:15.519Z"
   },
   {
    "duration": 39,
    "start_time": "2025-06-19T17:54:16.264Z"
   },
   {
    "duration": 94,
    "start_time": "2025-06-19T17:54:16.305Z"
   },
   {
    "duration": 0,
    "start_time": "2025-06-19T17:54:16.401Z"
   },
   {
    "duration": 0,
    "start_time": "2025-06-19T17:54:16.402Z"
   },
   {
    "duration": 226,
    "start_time": "2025-06-19T17:54:48.460Z"
   },
   {
    "duration": 560,
    "start_time": "2025-06-19T18:07:16.689Z"
   },
   {
    "duration": 580,
    "start_time": "2025-06-19T18:11:21.573Z"
   },
   {
    "duration": 636,
    "start_time": "2025-06-19T18:11:35.085Z"
   },
   {
    "duration": 565,
    "start_time": "2025-06-19T18:12:09.523Z"
   },
   {
    "duration": 612,
    "start_time": "2025-06-19T18:12:25.086Z"
   },
   {
    "duration": 576,
    "start_time": "2025-06-19T18:12:36.928Z"
   },
   {
    "duration": 182,
    "start_time": "2025-06-19T18:22:35.934Z"
   },
   {
    "duration": 176,
    "start_time": "2025-06-19T18:23:06.846Z"
   },
   {
    "duration": 192,
    "start_time": "2025-06-19T18:23:29.574Z"
   },
   {
    "duration": 186,
    "start_time": "2025-06-19T18:26:04.212Z"
   },
   {
    "duration": 637,
    "start_time": "2025-06-19T18:26:22.716Z"
   },
   {
    "duration": 537,
    "start_time": "2025-06-19T18:27:36.652Z"
   },
   {
    "duration": 525,
    "start_time": "2025-06-19T18:27:49.795Z"
   },
   {
    "duration": 452,
    "start_time": "2025-06-19T18:59:19.225Z"
   },
   {
    "duration": 451,
    "start_time": "2025-06-19T18:59:32.701Z"
   },
   {
    "duration": 498,
    "start_time": "2025-06-19T18:59:56.886Z"
   },
   {
    "duration": 504,
    "start_time": "2025-06-19T19:00:20.198Z"
   },
   {
    "duration": 489,
    "start_time": "2025-06-19T19:00:52.185Z"
   },
   {
    "duration": 587,
    "start_time": "2025-06-19T19:01:03.130Z"
   },
   {
    "duration": 464,
    "start_time": "2025-06-19T19:01:18.599Z"
   },
   {
    "duration": 464,
    "start_time": "2025-06-19T19:01:30.387Z"
   },
   {
    "duration": 477,
    "start_time": "2025-06-19T19:01:45.097Z"
   },
   {
    "duration": 480,
    "start_time": "2025-06-19T19:01:59.058Z"
   },
   {
    "duration": 577,
    "start_time": "2025-06-19T19:02:57.156Z"
   },
   {
    "duration": 496,
    "start_time": "2025-06-19T19:03:24.598Z"
   },
   {
    "duration": 550,
    "start_time": "2025-06-19T19:03:36.121Z"
   },
   {
    "duration": 596,
    "start_time": "2025-06-19T19:03:52.950Z"
   },
   {
    "duration": 135,
    "start_time": "2025-06-19T19:17:24.345Z"
   },
   {
    "duration": 594,
    "start_time": "2025-06-19T19:18:05.962Z"
   },
   {
    "duration": 504,
    "start_time": "2025-06-19T19:18:18.206Z"
   },
   {
    "duration": 541,
    "start_time": "2025-06-19T19:18:25.173Z"
   },
   {
    "duration": 507,
    "start_time": "2025-06-19T19:18:35.007Z"
   },
   {
    "duration": 85,
    "start_time": "2025-06-19T19:51:58.966Z"
   },
   {
    "duration": 662,
    "start_time": "2025-06-19T19:52:09.743Z"
   },
   {
    "duration": 1897,
    "start_time": "2025-06-19T19:52:10.407Z"
   },
   {
    "duration": 148,
    "start_time": "2025-06-19T19:52:12.306Z"
   },
   {
    "duration": 635,
    "start_time": "2025-06-19T19:52:12.456Z"
   },
   {
    "duration": 47,
    "start_time": "2025-06-19T19:52:13.093Z"
   },
   {
    "duration": 212,
    "start_time": "2025-06-19T19:52:13.142Z"
   },
   {
    "duration": 562,
    "start_time": "2025-06-19T19:52:13.356Z"
   },
   {
    "duration": 498,
    "start_time": "2025-06-19T19:52:13.919Z"
   },
   {
    "duration": 439,
    "start_time": "2025-06-19T19:52:14.419Z"
   },
   {
    "duration": 65,
    "start_time": "2025-06-19T19:52:14.861Z"
   },
   {
    "duration": 0,
    "start_time": "2025-06-19T19:52:14.927Z"
   },
   {
    "duration": 0,
    "start_time": "2025-06-19T19:52:14.928Z"
   },
   {
    "duration": 535,
    "start_time": "2025-06-19T19:52:35.588Z"
   },
   {
    "duration": 436,
    "start_time": "2025-06-19T19:53:12.173Z"
   },
   {
    "duration": 476,
    "start_time": "2025-06-19T19:54:41.547Z"
   },
   {
    "duration": 1196,
    "start_time": "2025-06-19T19:54:46.701Z"
   },
   {
    "duration": 3345,
    "start_time": "2025-06-19T19:54:47.898Z"
   },
   {
    "duration": 154,
    "start_time": "2025-06-19T19:54:51.245Z"
   },
   {
    "duration": 624,
    "start_time": "2025-06-19T19:54:51.401Z"
   },
   {
    "duration": 45,
    "start_time": "2025-06-19T19:54:52.027Z"
   },
   {
    "duration": 215,
    "start_time": "2025-06-19T19:54:52.074Z"
   },
   {
    "duration": 552,
    "start_time": "2025-06-19T19:54:52.290Z"
   },
   {
    "duration": 495,
    "start_time": "2025-06-19T19:54:52.844Z"
   },
   {
    "duration": 485,
    "start_time": "2025-06-19T19:54:53.341Z"
   },
   {
    "duration": 682,
    "start_time": "2025-06-19T19:54:53.828Z"
   },
   {
    "duration": 121,
    "start_time": "2025-06-19T19:54:54.512Z"
   },
   {
    "duration": 0,
    "start_time": "2025-06-19T19:54:54.638Z"
   },
   {
    "duration": 490,
    "start_time": "2025-06-19T19:55:46.149Z"
   },
   {
    "duration": 17,
    "start_time": "2025-06-19T20:01:10.939Z"
   },
   {
    "duration": 15,
    "start_time": "2025-06-19T20:47:13.751Z"
   },
   {
    "duration": 16,
    "start_time": "2025-06-19T20:58:47.704Z"
   },
   {
    "duration": 9,
    "start_time": "2025-06-19T21:22:22.353Z"
   },
   {
    "duration": 153,
    "start_time": "2025-06-19T21:22:29.616Z"
   },
   {
    "duration": 170,
    "start_time": "2025-06-19T21:22:48.369Z"
   },
   {
    "duration": 182,
    "start_time": "2025-06-19T21:23:17.530Z"
   },
   {
    "duration": 10,
    "start_time": "2025-06-19T21:30:44.830Z"
   },
   {
    "duration": 171,
    "start_time": "2025-06-19T21:30:52.577Z"
   },
   {
    "duration": 168,
    "start_time": "2025-06-19T21:31:26.155Z"
   },
   {
    "duration": 48,
    "start_time": "2025-06-20T16:13:48.981Z"
   },
   {
    "duration": 1469,
    "start_time": "2025-06-20T16:13:56.151Z"
   },
   {
    "duration": 2103,
    "start_time": "2025-06-20T16:13:57.622Z"
   },
   {
    "duration": 156,
    "start_time": "2025-06-20T16:13:59.726Z"
   },
   {
    "duration": 696,
    "start_time": "2025-06-20T16:13:59.885Z"
   },
   {
    "duration": 38,
    "start_time": "2025-06-20T16:14:00.583Z"
   },
   {
    "duration": 243,
    "start_time": "2025-06-20T16:14:00.623Z"
   },
   {
    "duration": 595,
    "start_time": "2025-06-20T16:14:00.871Z"
   },
   {
    "duration": 525,
    "start_time": "2025-06-20T16:14:01.472Z"
   },
   {
    "duration": 506,
    "start_time": "2025-06-20T16:14:01.999Z"
   },
   {
    "duration": 768,
    "start_time": "2025-06-20T16:14:02.507Z"
   },
   {
    "duration": 22,
    "start_time": "2025-06-20T16:14:03.277Z"
   },
   {
    "duration": 198,
    "start_time": "2025-06-20T16:14:03.300Z"
   },
   {
    "duration": 102,
    "start_time": "2025-06-20T16:14:03.501Z"
   },
   {
    "duration": 55,
    "start_time": "2025-06-20T19:28:47.962Z"
   },
   {
    "duration": 1492,
    "start_time": "2025-06-20T19:28:52.527Z"
   },
   {
    "duration": 2469,
    "start_time": "2025-06-20T19:28:54.022Z"
   },
   {
    "duration": 173,
    "start_time": "2025-06-20T19:28:56.493Z"
   },
   {
    "duration": 640,
    "start_time": "2025-06-20T19:28:56.668Z"
   },
   {
    "duration": 55,
    "start_time": "2025-06-20T19:28:57.310Z"
   },
   {
    "duration": 221,
    "start_time": "2025-06-20T19:28:57.367Z"
   },
   {
    "duration": 614,
    "start_time": "2025-06-20T19:28:57.590Z"
   },
   {
    "duration": 556,
    "start_time": "2025-06-20T19:28:58.206Z"
   },
   {
    "duration": 473,
    "start_time": "2025-06-20T19:28:58.764Z"
   },
   {
    "duration": 747,
    "start_time": "2025-06-20T19:28:59.240Z"
   },
   {
    "duration": 23,
    "start_time": "2025-06-20T19:28:59.989Z"
   },
   {
    "duration": 188,
    "start_time": "2025-06-20T19:29:00.014Z"
   },
   {
    "duration": 79,
    "start_time": "2025-06-20T19:29:00.204Z"
   },
   {
    "duration": 583,
    "start_time": "2025-06-20T19:29:21.083Z"
   },
   {
    "duration": 509,
    "start_time": "2025-06-20T19:29:39.532Z"
   },
   {
    "duration": 589,
    "start_time": "2025-06-20T19:29:50.856Z"
   },
   {
    "duration": 6,
    "start_time": "2025-06-20T19:55:37.026Z"
   },
   {
    "duration": 5,
    "start_time": "2025-06-20T20:01:46.143Z"
   },
   {
    "duration": 156,
    "start_time": "2025-06-20T20:08:30.899Z"
   },
   {
    "duration": 251,
    "start_time": "2025-06-20T20:12:05.665Z"
   },
   {
    "duration": 1298,
    "start_time": "2025-06-20T20:14:40.449Z"
   },
   {
    "duration": 2112,
    "start_time": "2025-06-20T20:14:41.749Z"
   },
   {
    "duration": 165,
    "start_time": "2025-06-20T20:14:43.863Z"
   },
   {
    "duration": 669,
    "start_time": "2025-06-20T20:14:44.030Z"
   },
   {
    "duration": 41,
    "start_time": "2025-06-20T20:14:44.701Z"
   },
   {
    "duration": 227,
    "start_time": "2025-06-20T20:14:44.744Z"
   },
   {
    "duration": 595,
    "start_time": "2025-06-20T20:14:44.972Z"
   },
   {
    "duration": 569,
    "start_time": "2025-06-20T20:14:45.569Z"
   },
   {
    "duration": 464,
    "start_time": "2025-06-20T20:14:46.140Z"
   },
   {
    "duration": 721,
    "start_time": "2025-06-20T20:14:46.607Z"
   },
   {
    "duration": 31,
    "start_time": "2025-06-20T20:14:47.330Z"
   },
   {
    "duration": 198,
    "start_time": "2025-06-20T20:14:47.363Z"
   },
   {
    "duration": 49,
    "start_time": "2025-06-20T20:14:47.563Z"
   },
   {
    "duration": 7,
    "start_time": "2025-06-20T20:14:47.613Z"
   },
   {
    "duration": 25,
    "start_time": "2025-06-20T20:14:47.622Z"
   },
   {
    "duration": 238,
    "start_time": "2025-06-20T20:14:47.649Z"
   },
   {
    "duration": 1285,
    "start_time": "2025-06-22T13:21:38.457Z"
   },
   {
    "duration": 2494,
    "start_time": "2025-06-22T13:21:39.744Z"
   },
   {
    "duration": 155,
    "start_time": "2025-06-22T13:21:42.240Z"
   },
   {
    "duration": 564,
    "start_time": "2025-06-22T13:21:42.399Z"
   },
   {
    "duration": 45,
    "start_time": "2025-06-22T13:21:42.964Z"
   },
   {
    "duration": 182,
    "start_time": "2025-06-22T13:21:43.011Z"
   },
   {
    "duration": 545,
    "start_time": "2025-06-22T13:21:43.198Z"
   },
   {
    "duration": 480,
    "start_time": "2025-06-22T13:21:43.745Z"
   },
   {
    "duration": 436,
    "start_time": "2025-06-22T13:21:44.227Z"
   },
   {
    "duration": 682,
    "start_time": "2025-06-22T13:21:44.666Z"
   },
   {
    "duration": 20,
    "start_time": "2025-06-22T13:21:45.349Z"
   },
   {
    "duration": 171,
    "start_time": "2025-06-22T13:21:45.370Z"
   },
   {
    "duration": 54,
    "start_time": "2025-06-22T13:21:45.542Z"
   },
   {
    "duration": 6,
    "start_time": "2025-06-22T13:21:45.598Z"
   },
   {
    "duration": 105,
    "start_time": "2025-06-22T13:21:45.606Z"
   },
   {
    "duration": 227,
    "start_time": "2025-06-22T13:21:45.713Z"
   },
   {
    "duration": 4,
    "start_time": "2025-06-22T13:45:46.840Z"
   },
   {
    "duration": 9019,
    "start_time": "2025-06-22T13:46:24.177Z"
   },
   {
    "duration": 7375,
    "start_time": "2025-06-22T13:46:57.484Z"
   },
   {
    "duration": 1340,
    "start_time": "2025-06-22T13:47:48.170Z"
   },
   {
    "duration": 4,
    "start_time": "2025-06-22T13:47:49.512Z"
   },
   {
    "duration": 2476,
    "start_time": "2025-06-22T13:47:49.518Z"
   },
   {
    "duration": 2347,
    "start_time": "2025-06-22T13:47:51.996Z"
   },
   {
    "duration": 2214,
    "start_time": "2025-06-22T13:47:54.345Z"
   },
   {
    "duration": 160,
    "start_time": "2025-06-22T13:47:56.561Z"
   },
   {
    "duration": 519,
    "start_time": "2025-06-22T13:47:56.723Z"
   },
   {
    "duration": 41,
    "start_time": "2025-06-22T13:47:57.244Z"
   },
   {
    "duration": 220,
    "start_time": "2025-06-22T13:47:57.298Z"
   },
   {
    "duration": 649,
    "start_time": "2025-06-22T13:47:57.520Z"
   },
   {
    "duration": 523,
    "start_time": "2025-06-22T13:47:58.171Z"
   },
   {
    "duration": 410,
    "start_time": "2025-06-22T13:47:58.698Z"
   },
   {
    "duration": 675,
    "start_time": "2025-06-22T13:47:59.110Z"
   },
   {
    "duration": 113,
    "start_time": "2025-06-22T13:47:59.787Z"
   },
   {
    "duration": 184,
    "start_time": "2025-06-22T13:47:59.902Z"
   },
   {
    "duration": 66,
    "start_time": "2025-06-22T13:48:00.088Z"
   },
   {
    "duration": 8,
    "start_time": "2025-06-22T13:48:00.155Z"
   },
   {
    "duration": 32,
    "start_time": "2025-06-22T13:48:00.164Z"
   },
   {
    "duration": 551,
    "start_time": "2025-06-22T13:48:00.198Z"
   },
   {
    "duration": 246,
    "start_time": "2025-06-22T13:50:28.997Z"
   },
   {
    "duration": 248,
    "start_time": "2025-06-22T13:51:42.205Z"
   },
   {
    "duration": 258,
    "start_time": "2025-06-22T13:51:50.968Z"
   },
   {
    "duration": 243,
    "start_time": "2025-06-22T13:52:03.425Z"
   },
   {
    "duration": 271,
    "start_time": "2025-06-22T14:01:30.161Z"
   },
   {
    "duration": 43,
    "start_time": "2025-06-22T14:07:39.534Z"
   },
   {
    "duration": 1065,
    "start_time": "2025-06-22T14:28:13.301Z"
   },
   {
    "duration": 950,
    "start_time": "2025-06-22T14:28:36.233Z"
   },
   {
    "duration": 1317,
    "start_time": "2025-06-22T14:28:48.698Z"
   },
   {
    "duration": 3,
    "start_time": "2025-06-22T14:28:50.017Z"
   },
   {
    "duration": 2517,
    "start_time": "2025-06-22T14:28:50.022Z"
   },
   {
    "duration": 2359,
    "start_time": "2025-06-22T14:28:52.541Z"
   },
   {
    "duration": 1749,
    "start_time": "2025-06-22T14:28:54.903Z"
   },
   {
    "duration": 166,
    "start_time": "2025-06-22T14:28:56.654Z"
   },
   {
    "duration": 477,
    "start_time": "2025-06-22T14:28:56.822Z"
   },
   {
    "duration": 40,
    "start_time": "2025-06-22T14:28:57.301Z"
   },
   {
    "duration": 220,
    "start_time": "2025-06-22T14:28:57.343Z"
   },
   {
    "duration": 579,
    "start_time": "2025-06-22T14:28:57.566Z"
   },
   {
    "duration": 511,
    "start_time": "2025-06-22T14:28:58.146Z"
   },
   {
    "duration": 405,
    "start_time": "2025-06-22T14:28:58.659Z"
   },
   {
    "duration": 700,
    "start_time": "2025-06-22T14:28:59.065Z"
   },
   {
    "duration": 103,
    "start_time": "2025-06-22T14:28:59.767Z"
   },
   {
    "duration": 177,
    "start_time": "2025-06-22T14:28:59.871Z"
   },
   {
    "duration": 58,
    "start_time": "2025-06-22T14:29:00.049Z"
   },
   {
    "duration": 6,
    "start_time": "2025-06-22T14:29:00.108Z"
   },
   {
    "duration": 79,
    "start_time": "2025-06-22T14:29:00.116Z"
   },
   {
    "duration": 572,
    "start_time": "2025-06-22T14:29:00.198Z"
   },
   {
    "duration": 1130,
    "start_time": "2025-06-22T14:29:00.772Z"
   },
   {
    "duration": 0,
    "start_time": "2025-06-22T14:29:01.904Z"
   },
   {
    "duration": 0,
    "start_time": "2025-06-22T14:29:01.905Z"
   },
   {
    "duration": 1203,
    "start_time": "2025-06-22T14:31:41.380Z"
   },
   {
    "duration": 935,
    "start_time": "2025-06-22T14:31:54.764Z"
   },
   {
    "duration": 11,
    "start_time": "2025-06-22T14:33:39.232Z"
   },
   {
    "duration": 10,
    "start_time": "2025-06-22T14:34:24.119Z"
   },
   {
    "duration": 5,
    "start_time": "2025-06-22T14:34:37.228Z"
   },
   {
    "duration": 8,
    "start_time": "2025-06-22T14:35:10.554Z"
   },
   {
    "duration": 495,
    "start_time": "2025-06-22T14:42:45.125Z"
   },
   {
    "duration": 8,
    "start_time": "2025-06-22T14:53:07.028Z"
   },
   {
    "duration": 2406,
    "start_time": "2025-06-22T14:55:30.300Z"
   },
   {
    "duration": 7918,
    "start_time": "2025-06-22T15:01:58.627Z"
   },
   {
    "duration": 3734,
    "start_time": "2025-06-22T15:02:14.702Z"
   },
   {
    "duration": 4,
    "start_time": "2025-06-22T15:02:18.438Z"
   },
   {
    "duration": 2377,
    "start_time": "2025-06-22T15:02:18.443Z"
   },
   {
    "duration": 2329,
    "start_time": "2025-06-22T15:02:20.822Z"
   },
   {
    "duration": 2008,
    "start_time": "2025-06-22T15:02:23.153Z"
   },
   {
    "duration": 158,
    "start_time": "2025-06-22T15:02:25.162Z"
   },
   {
    "duration": 473,
    "start_time": "2025-06-22T15:02:25.322Z"
   },
   {
    "duration": 39,
    "start_time": "2025-06-22T15:02:25.796Z"
   },
   {
    "duration": 237,
    "start_time": "2025-06-22T15:02:25.836Z"
   },
   {
    "duration": 582,
    "start_time": "2025-06-22T15:02:26.075Z"
   },
   {
    "duration": 507,
    "start_time": "2025-06-22T15:02:26.658Z"
   },
   {
    "duration": 403,
    "start_time": "2025-06-22T15:02:27.167Z"
   },
   {
    "duration": 687,
    "start_time": "2025-06-22T15:02:27.571Z"
   },
   {
    "duration": 114,
    "start_time": "2025-06-22T15:02:28.260Z"
   },
   {
    "duration": 180,
    "start_time": "2025-06-22T15:02:28.376Z"
   },
   {
    "duration": 46,
    "start_time": "2025-06-22T15:02:28.558Z"
   },
   {
    "duration": 5,
    "start_time": "2025-06-22T15:02:28.607Z"
   },
   {
    "duration": 4,
    "start_time": "2025-06-22T15:02:28.614Z"
   },
   {
    "duration": 452,
    "start_time": "2025-06-22T15:02:28.620Z"
   },
   {
    "duration": 7,
    "start_time": "2025-06-22T15:02:29.075Z"
   },
   {
    "duration": 153,
    "start_time": "2025-06-22T15:02:29.098Z"
   },
   {
    "duration": 2,
    "start_time": "2025-06-22T15:02:29.253Z"
   },
   {
    "duration": 60,
    "start_time": "2025-06-22T15:04:21.927Z"
   },
   {
    "duration": 55,
    "start_time": "2025-06-22T15:04:40.919Z"
   },
   {
    "duration": 85,
    "start_time": "2025-06-22T15:04:59.639Z"
   },
   {
    "duration": 75,
    "start_time": "2025-06-22T15:05:07.412Z"
   },
   {
    "duration": 9,
    "start_time": "2025-06-22T15:06:41.478Z"
   },
   {
    "duration": 30,
    "start_time": "2025-06-22T15:10:19.837Z"
   },
   {
    "duration": 99,
    "start_time": "2025-06-22T15:40:19.367Z"
   },
   {
    "duration": 105,
    "start_time": "2025-06-22T15:40:28.384Z"
   },
   {
    "duration": 1219,
    "start_time": "2025-06-22T15:50:33.196Z"
   },
   {
    "duration": 1322,
    "start_time": "2025-06-22T15:53:46.391Z"
   },
   {
    "duration": 205,
    "start_time": "2025-06-22T15:57:06.143Z"
   },
   {
    "duration": 2429,
    "start_time": "2025-06-22T16:22:45.862Z"
   },
   {
    "duration": 32,
    "start_time": "2025-06-22T16:28:56.155Z"
   },
   {
    "duration": 3673,
    "start_time": "2025-06-22T16:29:16.322Z"
   },
   {
    "duration": 4,
    "start_time": "2025-06-22T16:29:19.999Z"
   },
   {
    "duration": 2362,
    "start_time": "2025-06-22T16:29:20.004Z"
   },
   {
    "duration": 2497,
    "start_time": "2025-06-22T16:29:22.368Z"
   },
   {
    "duration": 1809,
    "start_time": "2025-06-22T16:29:24.867Z"
   },
   {
    "duration": 167,
    "start_time": "2025-06-22T16:29:26.678Z"
   },
   {
    "duration": 536,
    "start_time": "2025-06-22T16:29:26.847Z"
   },
   {
    "duration": 46,
    "start_time": "2025-06-22T16:29:27.385Z"
   },
   {
    "duration": 241,
    "start_time": "2025-06-22T16:29:27.433Z"
   },
   {
    "duration": 708,
    "start_time": "2025-06-22T16:29:27.677Z"
   },
   {
    "duration": 520,
    "start_time": "2025-06-22T16:29:28.387Z"
   },
   {
    "duration": 456,
    "start_time": "2025-06-22T16:29:28.909Z"
   },
   {
    "duration": 717,
    "start_time": "2025-06-22T16:29:29.368Z"
   },
   {
    "duration": 114,
    "start_time": "2025-06-22T16:29:30.099Z"
   },
   {
    "duration": 187,
    "start_time": "2025-06-22T16:29:30.214Z"
   },
   {
    "duration": 108,
    "start_time": "2025-06-22T16:29:30.403Z"
   },
   {
    "duration": 31,
    "start_time": "2025-06-22T16:29:30.512Z"
   },
   {
    "duration": 3,
    "start_time": "2025-06-22T16:29:30.545Z"
   },
   {
    "duration": 514,
    "start_time": "2025-06-22T16:29:30.550Z"
   },
   {
    "duration": 8,
    "start_time": "2025-06-22T16:29:31.065Z"
   },
   {
    "duration": 136,
    "start_time": "2025-06-22T16:29:31.075Z"
   },
   {
    "duration": 141,
    "start_time": "2025-06-22T16:29:31.213Z"
   },
   {
    "duration": 0,
    "start_time": "2025-06-22T16:29:31.356Z"
   },
   {
    "duration": 30,
    "start_time": "2025-06-22T16:29:57.206Z"
   },
   {
    "duration": 23,
    "start_time": "2025-06-22T16:30:02.296Z"
   },
   {
    "duration": 16,
    "start_time": "2025-06-22T16:44:10.511Z"
   },
   {
    "duration": 363,
    "start_time": "2025-06-22T16:44:39.618Z"
   },
   {
    "duration": 356,
    "start_time": "2025-06-22T16:46:47.287Z"
   },
   {
    "duration": 3650,
    "start_time": "2025-06-22T16:51:06.591Z"
   },
   {
    "duration": 3,
    "start_time": "2025-06-22T16:51:10.243Z"
   },
   {
    "duration": 2374,
    "start_time": "2025-06-22T16:51:10.248Z"
   },
   {
    "duration": 2344,
    "start_time": "2025-06-22T16:51:12.625Z"
   },
   {
    "duration": 1764,
    "start_time": "2025-06-22T16:51:14.970Z"
   },
   {
    "duration": 162,
    "start_time": "2025-06-22T16:51:16.735Z"
   },
   {
    "duration": 469,
    "start_time": "2025-06-22T16:51:16.899Z"
   },
   {
    "duration": 47,
    "start_time": "2025-06-22T16:51:17.370Z"
   },
   {
    "duration": 224,
    "start_time": "2025-06-22T16:51:17.419Z"
   },
   {
    "duration": 607,
    "start_time": "2025-06-22T16:51:17.646Z"
   },
   {
    "duration": 523,
    "start_time": "2025-06-22T16:51:18.254Z"
   },
   {
    "duration": 410,
    "start_time": "2025-06-22T16:51:18.779Z"
   },
   {
    "duration": 678,
    "start_time": "2025-06-22T16:51:19.191Z"
   },
   {
    "duration": 114,
    "start_time": "2025-06-22T16:51:19.870Z"
   },
   {
    "duration": 185,
    "start_time": "2025-06-22T16:51:19.986Z"
   },
   {
    "duration": 67,
    "start_time": "2025-06-22T16:51:20.173Z"
   },
   {
    "duration": 6,
    "start_time": "2025-06-22T16:51:20.242Z"
   },
   {
    "duration": 6,
    "start_time": "2025-06-22T16:51:20.249Z"
   },
   {
    "duration": 412,
    "start_time": "2025-06-22T16:51:20.256Z"
   },
   {
    "duration": 29,
    "start_time": "2025-06-22T16:51:20.671Z"
   },
   {
    "duration": 83,
    "start_time": "2025-06-22T16:51:20.702Z"
   },
   {
    "duration": 38,
    "start_time": "2025-06-22T16:51:20.786Z"
   },
   {
    "duration": 390,
    "start_time": "2025-06-22T16:51:20.826Z"
   },
   {
    "duration": 48,
    "start_time": "2025-06-22T20:32:03.751Z"
   },
   {
    "duration": 9846,
    "start_time": "2025-06-22T20:32:16.931Z"
   },
   {
    "duration": 4,
    "start_time": "2025-06-22T20:32:26.779Z"
   },
   {
    "duration": 9198,
    "start_time": "2025-06-22T20:32:26.784Z"
   },
   {
    "duration": 6188,
    "start_time": "2025-06-22T20:32:35.985Z"
   },
   {
    "duration": 2055,
    "start_time": "2025-06-22T20:32:42.175Z"
   },
   {
    "duration": 145,
    "start_time": "2025-06-22T20:32:44.232Z"
   },
   {
    "duration": 616,
    "start_time": "2025-06-22T20:32:44.379Z"
   },
   {
    "duration": 46,
    "start_time": "2025-06-22T20:32:44.997Z"
   },
   {
    "duration": 230,
    "start_time": "2025-06-22T20:32:45.045Z"
   },
   {
    "duration": 540,
    "start_time": "2025-06-22T20:32:45.278Z"
   },
   {
    "duration": 121,
    "start_time": "2025-06-22T20:32:45.819Z"
   },
   {
    "duration": 0,
    "start_time": "2025-06-22T20:32:45.942Z"
   },
   {
    "duration": 0,
    "start_time": "2025-06-22T20:32:45.943Z"
   },
   {
    "duration": 0,
    "start_time": "2025-06-22T20:32:45.945Z"
   },
   {
    "duration": 0,
    "start_time": "2025-06-22T20:32:45.946Z"
   },
   {
    "duration": 0,
    "start_time": "2025-06-22T20:32:45.947Z"
   },
   {
    "duration": 0,
    "start_time": "2025-06-22T20:32:45.948Z"
   },
   {
    "duration": 0,
    "start_time": "2025-06-22T20:32:45.949Z"
   },
   {
    "duration": 0,
    "start_time": "2025-06-22T20:32:45.950Z"
   },
   {
    "duration": 0,
    "start_time": "2025-06-22T20:32:45.952Z"
   },
   {
    "duration": 0,
    "start_time": "2025-06-22T20:32:45.953Z"
   },
   {
    "duration": 0,
    "start_time": "2025-06-22T20:32:45.954Z"
   },
   {
    "duration": 0,
    "start_time": "2025-06-22T20:32:45.955Z"
   },
   {
    "duration": 0,
    "start_time": "2025-06-22T20:32:45.957Z"
   },
   {
    "duration": 18,
    "start_time": "2025-06-22T20:33:21.285Z"
   },
   {
    "duration": 2499,
    "start_time": "2025-06-22T20:33:43.724Z"
   },
   {
    "duration": 3,
    "start_time": "2025-06-22T20:33:46.226Z"
   },
   {
    "duration": 2541,
    "start_time": "2025-06-22T20:33:46.231Z"
   },
   {
    "duration": 2549,
    "start_time": "2025-06-22T20:33:50.338Z"
   },
   {
    "duration": 1777,
    "start_time": "2025-06-22T20:33:58.105Z"
   },
   {
    "duration": 163,
    "start_time": "2025-06-22T20:34:00.900Z"
   },
   {
    "duration": 585,
    "start_time": "2025-06-22T20:34:04.670Z"
   },
   {
    "duration": 39,
    "start_time": "2025-06-22T20:34:05.983Z"
   },
   {
    "duration": 198,
    "start_time": "2025-06-22T20:34:07.977Z"
   },
   {
    "duration": 535,
    "start_time": "2025-06-22T20:34:10.178Z"
   },
   {
    "duration": 3755,
    "start_time": "2025-06-22T20:45:22.431Z"
   },
   {
    "duration": 3,
    "start_time": "2025-06-22T20:45:26.188Z"
   },
   {
    "duration": 2474,
    "start_time": "2025-06-22T20:45:26.193Z"
   },
   {
    "duration": 2436,
    "start_time": "2025-06-22T20:45:28.669Z"
   },
   {
    "duration": 1993,
    "start_time": "2025-06-22T20:45:31.107Z"
   },
   {
    "duration": 166,
    "start_time": "2025-06-22T20:45:33.102Z"
   },
   {
    "duration": 535,
    "start_time": "2025-06-22T20:45:33.270Z"
   },
   {
    "duration": 47,
    "start_time": "2025-06-22T20:45:33.807Z"
   },
   {
    "duration": 235,
    "start_time": "2025-06-22T20:45:33.855Z"
   },
   {
    "duration": 626,
    "start_time": "2025-06-22T20:45:34.092Z"
   },
   {
    "duration": 507,
    "start_time": "2025-06-22T20:45:34.720Z"
   },
   {
    "duration": 416,
    "start_time": "2025-06-22T20:45:35.228Z"
   },
   {
    "duration": 679,
    "start_time": "2025-06-22T20:45:35.645Z"
   },
   {
    "duration": 126,
    "start_time": "2025-06-22T20:45:36.325Z"
   },
   {
    "duration": 189,
    "start_time": "2025-06-22T20:45:36.453Z"
   },
   {
    "duration": 56,
    "start_time": "2025-06-22T20:45:36.644Z"
   },
   {
    "duration": 6,
    "start_time": "2025-06-22T20:45:36.702Z"
   },
   {
    "duration": 31,
    "start_time": "2025-06-22T20:45:36.709Z"
   },
   {
    "duration": 570,
    "start_time": "2025-06-22T20:45:36.742Z"
   },
   {
    "duration": 8,
    "start_time": "2025-06-22T20:45:37.314Z"
   },
   {
    "duration": 80,
    "start_time": "2025-06-22T20:45:37.339Z"
   },
   {
    "duration": 4,
    "start_time": "2025-06-22T20:45:37.421Z"
   },
   {
    "duration": 360,
    "start_time": "2025-06-22T20:45:37.427Z"
   },
   {
    "duration": 29,
    "start_time": "2025-06-22T20:45:37.788Z"
   },
   {
    "duration": 4,
    "start_time": "2025-06-22T20:46:58.802Z"
   },
   {
    "duration": 356,
    "start_time": "2025-06-22T20:49:35.071Z"
   },
   {
    "duration": 503,
    "start_time": "2025-06-22T21:37:20.596Z"
   },
   {
    "duration": 417,
    "start_time": "2025-06-22T21:40:05.181Z"
   },
   {
    "duration": 432,
    "start_time": "2025-06-22T21:41:19.059Z"
   },
   {
    "duration": 401,
    "start_time": "2025-06-22T21:41:28.914Z"
   },
   {
    "duration": 44,
    "start_time": "2025-06-23T16:36:17.498Z"
   },
   {
    "duration": 10254,
    "start_time": "2025-06-23T16:36:25.752Z"
   },
   {
    "duration": 4,
    "start_time": "2025-06-23T16:36:36.008Z"
   },
   {
    "duration": 8977,
    "start_time": "2025-06-23T16:36:36.014Z"
   },
   {
    "duration": 6495,
    "start_time": "2025-06-23T16:36:44.993Z"
   },
   {
    "duration": 2329,
    "start_time": "2025-06-23T16:36:51.490Z"
   },
   {
    "duration": 155,
    "start_time": "2025-06-23T16:36:53.820Z"
   },
   {
    "duration": 593,
    "start_time": "2025-06-23T16:36:53.976Z"
   },
   {
    "duration": 38,
    "start_time": "2025-06-23T16:36:54.571Z"
   },
   {
    "duration": 239,
    "start_time": "2025-06-23T16:36:54.611Z"
   },
   {
    "duration": 539,
    "start_time": "2025-06-23T16:36:54.852Z"
   },
   {
    "duration": 120,
    "start_time": "2025-06-23T16:36:55.392Z"
   },
   {
    "duration": 0,
    "start_time": "2025-06-23T16:36:55.514Z"
   },
   {
    "duration": 0,
    "start_time": "2025-06-23T16:36:55.516Z"
   },
   {
    "duration": 0,
    "start_time": "2025-06-23T16:36:55.516Z"
   },
   {
    "duration": 0,
    "start_time": "2025-06-23T16:36:55.517Z"
   },
   {
    "duration": 0,
    "start_time": "2025-06-23T16:36:55.519Z"
   },
   {
    "duration": 0,
    "start_time": "2025-06-23T16:36:55.519Z"
   },
   {
    "duration": 0,
    "start_time": "2025-06-23T16:36:55.521Z"
   },
   {
    "duration": 0,
    "start_time": "2025-06-23T16:36:55.521Z"
   },
   {
    "duration": 0,
    "start_time": "2025-06-23T16:36:55.522Z"
   },
   {
    "duration": 0,
    "start_time": "2025-06-23T16:36:55.523Z"
   },
   {
    "duration": 0,
    "start_time": "2025-06-23T16:36:55.524Z"
   },
   {
    "duration": 0,
    "start_time": "2025-06-23T16:36:55.525Z"
   },
   {
    "duration": 0,
    "start_time": "2025-06-23T16:36:55.526Z"
   },
   {
    "duration": 0,
    "start_time": "2025-06-23T16:36:55.527Z"
   },
   {
    "duration": 0,
    "start_time": "2025-06-23T16:36:55.527Z"
   },
   {
    "duration": 3615,
    "start_time": "2025-06-23T16:41:10.960Z"
   },
   {
    "duration": 3,
    "start_time": "2025-06-23T16:41:14.578Z"
   },
   {
    "duration": 2305,
    "start_time": "2025-06-23T16:41:14.583Z"
   },
   {
    "duration": 2289,
    "start_time": "2025-06-23T16:41:16.890Z"
   },
   {
    "duration": 3066,
    "start_time": "2025-06-23T16:41:19.182Z"
   },
   {
    "duration": 3110,
    "start_time": "2025-06-23T16:41:22.250Z"
   },
   {
    "duration": 149,
    "start_time": "2025-06-23T16:41:25.362Z"
   },
   {
    "duration": 482,
    "start_time": "2025-06-23T16:41:25.512Z"
   },
   {
    "duration": 40,
    "start_time": "2025-06-23T16:41:25.995Z"
   },
   {
    "duration": 215,
    "start_time": "2025-06-23T16:41:26.036Z"
   },
   {
    "duration": 585,
    "start_time": "2025-06-23T16:41:26.252Z"
   },
   {
    "duration": 483,
    "start_time": "2025-06-23T16:41:26.839Z"
   },
   {
    "duration": 397,
    "start_time": "2025-06-23T16:41:27.323Z"
   },
   {
    "duration": 704,
    "start_time": "2025-06-23T16:41:27.723Z"
   },
   {
    "duration": 115,
    "start_time": "2025-06-23T16:41:28.429Z"
   },
   {
    "duration": 167,
    "start_time": "2025-06-23T16:41:28.546Z"
   },
   {
    "duration": 88,
    "start_time": "2025-06-23T16:41:28.714Z"
   },
   {
    "duration": 5,
    "start_time": "2025-06-23T16:41:28.804Z"
   },
   {
    "duration": 3,
    "start_time": "2025-06-23T16:41:28.811Z"
   },
   {
    "duration": 401,
    "start_time": "2025-06-23T16:41:28.816Z"
   },
   {
    "duration": 7,
    "start_time": "2025-06-23T16:41:29.219Z"
   },
   {
    "duration": 92,
    "start_time": "2025-06-23T16:41:29.227Z"
   },
   {
    "duration": 3,
    "start_time": "2025-06-23T16:41:29.321Z"
   },
   {
    "duration": 359,
    "start_time": "2025-06-23T16:41:29.326Z"
   },
   {
    "duration": 3,
    "start_time": "2025-06-23T16:41:29.687Z"
   },
   {
    "duration": 432,
    "start_time": "2025-06-23T16:41:29.692Z"
   },
   {
    "duration": 632,
    "start_time": "2025-06-23T16:41:30.125Z"
   },
   {
    "duration": 729,
    "start_time": "2025-06-23T16:44:39.977Z"
   },
   {
    "duration": 832,
    "start_time": "2025-06-23T16:44:59.331Z"
   },
   {
    "duration": 45,
    "start_time": "2025-06-23T16:45:01.927Z"
   },
   {
    "duration": 10,
    "start_time": "2025-06-23T16:45:42.499Z"
   },
   {
    "duration": 9,
    "start_time": "2025-06-23T17:00:15.844Z"
   },
   {
    "duration": 14,
    "start_time": "2025-06-23T17:00:27.698Z"
   },
   {
    "duration": 56,
    "start_time": "2025-06-23T17:09:43.630Z"
   },
   {
    "duration": 45,
    "start_time": "2025-06-23T17:16:26.150Z"
   },
   {
    "duration": 52,
    "start_time": "2025-06-23T17:23:18.060Z"
   },
   {
    "duration": 1406,
    "start_time": "2025-06-23T17:47:13.477Z"
   },
   {
    "duration": 3767,
    "start_time": "2025-06-23T17:47:44.217Z"
   },
   {
    "duration": 6,
    "start_time": "2025-06-23T17:47:47.986Z"
   },
   {
    "duration": 2425,
    "start_time": "2025-06-23T17:47:47.993Z"
   },
   {
    "duration": 2387,
    "start_time": "2025-06-23T17:47:50.420Z"
   },
   {
    "duration": 2370,
    "start_time": "2025-06-23T17:47:52.809Z"
   },
   {
    "duration": 2114,
    "start_time": "2025-06-23T17:47:55.181Z"
   },
   {
    "duration": 160,
    "start_time": "2025-06-23T17:47:57.296Z"
   },
   {
    "duration": 498,
    "start_time": "2025-06-23T17:47:57.461Z"
   },
   {
    "duration": 57,
    "start_time": "2025-06-23T17:47:57.962Z"
   },
   {
    "duration": 234,
    "start_time": "2025-06-23T17:47:58.021Z"
   },
   {
    "duration": 641,
    "start_time": "2025-06-23T17:47:58.257Z"
   },
   {
    "duration": 531,
    "start_time": "2025-06-23T17:47:58.899Z"
   },
   {
    "duration": 406,
    "start_time": "2025-06-23T17:47:59.432Z"
   },
   {
    "duration": 720,
    "start_time": "2025-06-23T17:47:59.842Z"
   },
   {
    "duration": 125,
    "start_time": "2025-06-23T17:48:00.565Z"
   },
   {
    "duration": 190,
    "start_time": "2025-06-23T17:48:00.691Z"
   },
   {
    "duration": 106,
    "start_time": "2025-06-23T17:48:00.882Z"
   },
   {
    "duration": 10,
    "start_time": "2025-06-23T17:48:00.989Z"
   },
   {
    "duration": 7,
    "start_time": "2025-06-23T17:48:01.000Z"
   },
   {
    "duration": 10,
    "start_time": "2025-06-23T17:48:01.008Z"
   },
   {
    "duration": 425,
    "start_time": "2025-06-23T17:48:01.019Z"
   },
   {
    "duration": 13,
    "start_time": "2025-06-23T17:48:01.462Z"
   },
   {
    "duration": 113,
    "start_time": "2025-06-23T17:48:01.477Z"
   },
   {
    "duration": 4,
    "start_time": "2025-06-23T17:48:01.592Z"
   },
   {
    "duration": 388,
    "start_time": "2025-06-23T17:48:01.597Z"
   },
   {
    "duration": 4,
    "start_time": "2025-06-23T17:48:01.986Z"
   },
   {
    "duration": 435,
    "start_time": "2025-06-23T17:48:01.991Z"
   },
   {
    "duration": 611,
    "start_time": "2025-06-23T17:48:02.427Z"
   },
   {
    "duration": 0,
    "start_time": "2025-06-23T17:48:03.039Z"
   },
   {
    "duration": 0,
    "start_time": "2025-06-23T17:48:03.041Z"
   },
   {
    "duration": 0,
    "start_time": "2025-06-23T17:48:03.042Z"
   },
   {
    "duration": 0,
    "start_time": "2025-06-23T17:48:03.043Z"
   },
   {
    "duration": 0,
    "start_time": "2025-06-23T17:48:03.044Z"
   },
   {
    "duration": 500,
    "start_time": "2025-06-23T17:49:01.284Z"
   },
   {
    "duration": 51,
    "start_time": "2025-06-23T17:49:06.169Z"
   },
   {
    "duration": 17,
    "start_time": "2025-06-23T17:49:18.451Z"
   },
   {
    "duration": 41,
    "start_time": "2025-06-23T17:49:26.688Z"
   },
   {
    "duration": 1712,
    "start_time": "2025-06-23T17:49:30.969Z"
   },
   {
    "duration": 1300,
    "start_time": "2025-06-23T17:51:18.341Z"
   },
   {
    "duration": 5,
    "start_time": "2025-06-23T17:53:14.425Z"
   },
   {
    "duration": 10,
    "start_time": "2025-06-23T17:53:20.687Z"
   },
   {
    "duration": 3719,
    "start_time": "2025-06-23T17:54:32.084Z"
   },
   {
    "duration": 4,
    "start_time": "2025-06-23T17:54:35.805Z"
   },
   {
    "duration": 2381,
    "start_time": "2025-06-23T17:54:35.811Z"
   },
   {
    "duration": 2450,
    "start_time": "2025-06-23T17:54:38.193Z"
   },
   {
    "duration": 2319,
    "start_time": "2025-06-23T17:54:40.646Z"
   },
   {
    "duration": 2173,
    "start_time": "2025-06-23T17:54:42.968Z"
   },
   {
    "duration": 163,
    "start_time": "2025-06-23T17:54:45.143Z"
   },
   {
    "duration": 530,
    "start_time": "2025-06-23T17:54:45.308Z"
   },
   {
    "duration": 52,
    "start_time": "2025-06-23T17:54:45.839Z"
   },
   {
    "duration": 249,
    "start_time": "2025-06-23T17:54:45.892Z"
   },
   {
    "duration": 625,
    "start_time": "2025-06-23T17:54:46.143Z"
   },
   {
    "duration": 499,
    "start_time": "2025-06-23T17:54:46.770Z"
   },
   {
    "duration": 461,
    "start_time": "2025-06-23T17:54:47.272Z"
   },
   {
    "duration": 727,
    "start_time": "2025-06-23T17:54:47.736Z"
   },
   {
    "duration": 120,
    "start_time": "2025-06-23T17:54:48.465Z"
   },
   {
    "duration": 188,
    "start_time": "2025-06-23T17:54:48.587Z"
   },
   {
    "duration": 74,
    "start_time": "2025-06-23T17:54:48.777Z"
   },
   {
    "duration": 11,
    "start_time": "2025-06-23T17:54:48.852Z"
   },
   {
    "duration": 33,
    "start_time": "2025-06-23T17:54:48.865Z"
   },
   {
    "duration": 4,
    "start_time": "2025-06-23T17:54:48.899Z"
   },
   {
    "duration": 443,
    "start_time": "2025-06-23T17:54:48.904Z"
   },
   {
    "duration": 21,
    "start_time": "2025-06-23T17:54:49.349Z"
   },
   {
    "duration": 72,
    "start_time": "2025-06-23T17:54:49.372Z"
   },
   {
    "duration": 18,
    "start_time": "2025-06-23T17:54:49.445Z"
   },
   {
    "duration": 346,
    "start_time": "2025-06-23T17:54:49.465Z"
   },
   {
    "duration": 4,
    "start_time": "2025-06-23T17:54:49.812Z"
   },
   {
    "duration": 441,
    "start_time": "2025-06-23T17:54:49.817Z"
   },
   {
    "duration": 497,
    "start_time": "2025-06-23T17:54:50.262Z"
   },
   {
    "duration": 56,
    "start_time": "2025-06-23T17:54:50.761Z"
   },
   {
    "duration": 13,
    "start_time": "2025-06-23T17:54:50.819Z"
   },
   {
    "duration": 118,
    "start_time": "2025-06-23T17:54:50.834Z"
   },
   {
    "duration": 5,
    "start_time": "2025-06-23T17:54:50.953Z"
   },
   {
    "duration": 76,
    "start_time": "2025-06-23T17:54:50.959Z"
   },
   {
    "duration": 4,
    "start_time": "2025-06-23T18:05:45.278Z"
   },
   {
    "duration": 4,
    "start_time": "2025-06-23T18:08:16.751Z"
   },
   {
    "duration": 4,
    "start_time": "2025-06-23T18:08:21.115Z"
   },
   {
    "duration": 5,
    "start_time": "2025-06-23T18:13:57.383Z"
   },
   {
    "duration": 102,
    "start_time": "2025-06-23T18:42:50.898Z"
   },
   {
    "duration": 3577,
    "start_time": "2025-06-23T18:43:17.719Z"
   },
   {
    "duration": 4,
    "start_time": "2025-06-23T18:43:21.298Z"
   },
   {
    "duration": 2290,
    "start_time": "2025-06-23T18:43:21.304Z"
   },
   {
    "duration": 2301,
    "start_time": "2025-06-23T18:43:23.596Z"
   },
   {
    "duration": 2255,
    "start_time": "2025-06-23T18:43:25.900Z"
   },
   {
    "duration": 2735,
    "start_time": "2025-06-23T18:43:28.157Z"
   },
   {
    "duration": 162,
    "start_time": "2025-06-23T18:43:30.894Z"
   },
   {
    "duration": 478,
    "start_time": "2025-06-23T18:43:31.062Z"
   },
   {
    "duration": 50,
    "start_time": "2025-06-23T18:43:31.542Z"
   },
   {
    "duration": 236,
    "start_time": "2025-06-23T18:43:31.594Z"
   },
   {
    "duration": 599,
    "start_time": "2025-06-23T18:43:31.832Z"
   },
   {
    "duration": 491,
    "start_time": "2025-06-23T18:43:32.433Z"
   },
   {
    "duration": 397,
    "start_time": "2025-06-23T18:43:32.925Z"
   },
   {
    "duration": 697,
    "start_time": "2025-06-23T18:43:33.325Z"
   },
   {
    "duration": 135,
    "start_time": "2025-06-23T18:43:34.024Z"
   },
   {
    "duration": 188,
    "start_time": "2025-06-23T18:43:34.162Z"
   },
   {
    "duration": 77,
    "start_time": "2025-06-23T18:43:34.351Z"
   },
   {
    "duration": 10,
    "start_time": "2025-06-23T18:43:34.429Z"
   },
   {
    "duration": 23,
    "start_time": "2025-06-23T18:43:34.441Z"
   },
   {
    "duration": 38,
    "start_time": "2025-06-23T18:43:34.465Z"
   },
   {
    "duration": 478,
    "start_time": "2025-06-23T18:43:34.505Z"
   },
   {
    "duration": 8,
    "start_time": "2025-06-23T18:43:34.985Z"
   },
   {
    "duration": 151,
    "start_time": "2025-06-23T18:43:34.994Z"
   },
   {
    "duration": 4,
    "start_time": "2025-06-23T18:43:35.146Z"
   },
   {
    "duration": 425,
    "start_time": "2025-06-23T18:43:35.151Z"
   },
   {
    "duration": 3,
    "start_time": "2025-06-23T18:43:35.578Z"
   },
   {
    "duration": 434,
    "start_time": "2025-06-23T18:43:35.582Z"
   },
   {
    "duration": 1097,
    "start_time": "2025-06-23T18:43:36.018Z"
   },
   {
    "duration": 57,
    "start_time": "2025-06-23T18:43:37.117Z"
   },
   {
    "duration": 87,
    "start_time": "2025-06-23T18:43:37.175Z"
   },
   {
    "duration": 47,
    "start_time": "2025-06-23T18:43:37.264Z"
   },
   {
    "duration": 5,
    "start_time": "2025-06-23T18:43:37.312Z"
   },
   {
    "duration": 10,
    "start_time": "2025-06-23T18:43:37.318Z"
   },
   {
    "duration": 31,
    "start_time": "2025-06-23T18:43:37.329Z"
   },
   {
    "duration": 104,
    "start_time": "2025-06-23T18:43:37.362Z"
   },
   {
    "duration": 10,
    "start_time": "2025-06-23T18:44:28.141Z"
   },
   {
    "duration": 11,
    "start_time": "2025-06-23T18:45:06.511Z"
   },
   {
    "duration": 12,
    "start_time": "2025-06-23T18:45:54.023Z"
   },
   {
    "duration": 14,
    "start_time": "2025-06-23T18:49:44.906Z"
   },
   {
    "duration": 1260,
    "start_time": "2025-06-23T18:55:31.243Z"
   },
   {
    "duration": 12,
    "start_time": "2025-06-23T18:56:05.747Z"
   },
   {
    "duration": 6,
    "start_time": "2025-06-23T18:56:53.123Z"
   },
   {
    "duration": 2386,
    "start_time": "2025-06-23T19:01:11.812Z"
   },
   {
    "duration": 3677,
    "start_time": "2025-06-23T19:01:25.782Z"
   },
   {
    "duration": 4,
    "start_time": "2025-06-23T19:01:29.462Z"
   },
   {
    "duration": 2417,
    "start_time": "2025-06-23T19:01:29.467Z"
   },
   {
    "duration": 2325,
    "start_time": "2025-06-23T19:01:31.887Z"
   },
   {
    "duration": 2351,
    "start_time": "2025-06-23T19:01:34.214Z"
   },
   {
    "duration": 2053,
    "start_time": "2025-06-23T19:01:36.567Z"
   },
   {
    "duration": 150,
    "start_time": "2025-06-23T19:01:38.622Z"
   },
   {
    "duration": 468,
    "start_time": "2025-06-23T19:01:38.774Z"
   },
   {
    "duration": 42,
    "start_time": "2025-06-23T19:01:39.244Z"
   },
   {
    "duration": 247,
    "start_time": "2025-06-23T19:01:39.289Z"
   },
   {
    "duration": 624,
    "start_time": "2025-06-23T19:01:39.538Z"
   },
   {
    "duration": 469,
    "start_time": "2025-06-23T19:01:40.164Z"
   },
   {
    "duration": 396,
    "start_time": "2025-06-23T19:01:40.635Z"
   },
   {
    "duration": 646,
    "start_time": "2025-06-23T19:01:41.032Z"
   },
   {
    "duration": 13,
    "start_time": "2025-06-23T19:01:41.680Z"
   },
   {
    "duration": 187,
    "start_time": "2025-06-23T19:01:41.694Z"
   },
   {
    "duration": 190,
    "start_time": "2025-06-23T19:01:41.882Z"
   },
   {
    "duration": 100,
    "start_time": "2025-06-23T19:01:42.073Z"
   },
   {
    "duration": 77,
    "start_time": "2025-06-23T19:01:42.175Z"
   },
   {
    "duration": 74,
    "start_time": "2025-06-23T19:01:42.253Z"
   },
   {
    "duration": 393,
    "start_time": "2025-06-23T19:01:42.329Z"
   },
   {
    "duration": 7,
    "start_time": "2025-06-23T19:01:42.724Z"
   },
   {
    "duration": 94,
    "start_time": "2025-06-23T19:01:42.733Z"
   },
   {
    "duration": 4,
    "start_time": "2025-06-23T19:01:42.829Z"
   },
   {
    "duration": 350,
    "start_time": "2025-06-23T19:01:42.834Z"
   },
   {
    "duration": 4,
    "start_time": "2025-06-23T19:01:43.186Z"
   },
   {
    "duration": 413,
    "start_time": "2025-06-23T19:01:43.191Z"
   },
   {
    "duration": 526,
    "start_time": "2025-06-23T19:01:43.607Z"
   },
   {
    "duration": 54,
    "start_time": "2025-06-23T19:01:44.136Z"
   },
   {
    "duration": 57,
    "start_time": "2025-06-23T19:01:44.191Z"
   },
   {
    "duration": 45,
    "start_time": "2025-06-23T19:01:44.249Z"
   },
   {
    "duration": 43,
    "start_time": "2025-06-23T19:01:44.296Z"
   },
   {
    "duration": 9,
    "start_time": "2025-06-23T19:01:44.341Z"
   },
   {
    "duration": 5,
    "start_time": "2025-06-23T19:01:44.352Z"
   },
   {
    "duration": 25,
    "start_time": "2025-06-23T19:01:44.359Z"
   },
   {
    "duration": 6,
    "start_time": "2025-06-23T19:01:44.385Z"
   },
   {
    "duration": 6,
    "start_time": "2025-06-23T19:02:46.057Z"
   },
   {
    "duration": 5,
    "start_time": "2025-06-23T19:04:02.881Z"
   },
   {
    "duration": 56,
    "start_time": "2025-06-23T19:26:58.564Z"
   },
   {
    "duration": 51,
    "start_time": "2025-06-23T19:27:56.616Z"
   },
   {
    "duration": 56,
    "start_time": "2025-06-23T19:29:32.246Z"
   },
   {
    "duration": 2174,
    "start_time": "2025-06-23T19:49:24.018Z"
   },
   {
    "duration": 5,
    "start_time": "2025-06-23T19:49:26.194Z"
   },
   {
    "duration": 2141,
    "start_time": "2025-06-23T19:49:37.292Z"
   },
   {
    "duration": 2153,
    "start_time": "2025-06-23T19:49:39.435Z"
   },
   {
    "duration": 2193,
    "start_time": "2025-06-23T19:49:41.590Z"
   },
   {
    "duration": 1636,
    "start_time": "2025-06-23T19:49:43.785Z"
   },
   {
    "duration": 3258,
    "start_time": "2025-06-23T19:53:08.612Z"
   },
   {
    "duration": 139,
    "start_time": "2025-06-23T19:54:10.142Z"
   },
   {
    "duration": 366,
    "start_time": "2025-06-23T19:58:07.630Z"
   },
   {
    "duration": 36,
    "start_time": "2025-06-23T20:00:24.804Z"
   },
   {
    "duration": 138,
    "start_time": "2025-06-23T20:07:49.407Z"
   },
   {
    "duration": 539,
    "start_time": "2025-06-23T20:13:15.639Z"
   },
   {
    "duration": 355,
    "start_time": "2025-06-23T20:50:05.908Z"
   },
   {
    "duration": 589,
    "start_time": "2025-06-23T20:58:57.729Z"
   },
   {
    "duration": 120,
    "start_time": "2025-06-23T21:12:31.883Z"
   },
   {
    "duration": 183,
    "start_time": "2025-06-23T21:16:17.790Z"
   },
   {
    "duration": 10,
    "start_time": "2025-06-23T21:16:46.023Z"
   },
   {
    "duration": 3,
    "start_time": "2025-06-23T21:20:49.975Z"
   },
   {
    "duration": 326,
    "start_time": "2025-06-23T21:22:38.895Z"
   },
   {
    "duration": 66,
    "start_time": "2025-06-23T21:25:07.680Z"
   },
   {
    "duration": 118,
    "start_time": "2025-06-23T21:26:04.237Z"
   },
   {
    "duration": 3595,
    "start_time": "2025-06-23T21:26:29.583Z"
   },
   {
    "duration": 4,
    "start_time": "2025-06-23T21:26:33.180Z"
   },
   {
    "duration": 2235,
    "start_time": "2025-06-23T21:26:33.185Z"
   },
   {
    "duration": 2259,
    "start_time": "2025-06-23T21:26:35.422Z"
   },
   {
    "duration": 2210,
    "start_time": "2025-06-23T21:26:37.684Z"
   },
   {
    "duration": 2183,
    "start_time": "2025-06-23T21:26:39.896Z"
   },
   {
    "duration": 144,
    "start_time": "2025-06-23T21:26:42.080Z"
   },
   {
    "duration": 428,
    "start_time": "2025-06-23T21:26:42.226Z"
   },
   {
    "duration": 41,
    "start_time": "2025-06-23T21:26:42.655Z"
   },
   {
    "duration": 191,
    "start_time": "2025-06-23T21:26:42.697Z"
   },
   {
    "duration": 602,
    "start_time": "2025-06-23T21:26:42.890Z"
   },
   {
    "duration": 506,
    "start_time": "2025-06-23T21:26:43.494Z"
   },
   {
    "duration": 416,
    "start_time": "2025-06-23T21:26:44.002Z"
   },
   {
    "duration": 656,
    "start_time": "2025-06-23T21:26:44.421Z"
   },
   {
    "duration": 15,
    "start_time": "2025-06-23T21:26:45.079Z"
   },
   {
    "duration": 184,
    "start_time": "2025-06-23T21:26:45.096Z"
   },
   {
    "duration": 67,
    "start_time": "2025-06-23T21:26:45.282Z"
   },
   {
    "duration": 12,
    "start_time": "2025-06-23T21:26:45.351Z"
   },
   {
    "duration": 26,
    "start_time": "2025-06-23T21:26:45.365Z"
   },
   {
    "duration": 81,
    "start_time": "2025-06-23T21:26:45.394Z"
   },
   {
    "duration": 431,
    "start_time": "2025-06-23T21:26:45.477Z"
   },
   {
    "duration": 9,
    "start_time": "2025-06-23T21:26:45.910Z"
   },
   {
    "duration": 87,
    "start_time": "2025-06-23T21:26:45.921Z"
   },
   {
    "duration": 5,
    "start_time": "2025-06-23T21:26:46.010Z"
   },
   {
    "duration": 354,
    "start_time": "2025-06-23T21:26:46.016Z"
   },
   {
    "duration": 4,
    "start_time": "2025-06-23T21:26:46.371Z"
   },
   {
    "duration": 427,
    "start_time": "2025-06-23T21:26:46.376Z"
   },
   {
    "duration": 532,
    "start_time": "2025-06-23T21:26:46.805Z"
   },
   {
    "duration": 48,
    "start_time": "2025-06-23T21:26:47.338Z"
   },
   {
    "duration": 14,
    "start_time": "2025-06-23T21:26:47.388Z"
   },
   {
    "duration": 64,
    "start_time": "2025-06-23T21:26:47.404Z"
   },
   {
    "duration": 5,
    "start_time": "2025-06-23T21:26:47.469Z"
   },
   {
    "duration": 17,
    "start_time": "2025-06-23T21:26:47.475Z"
   },
   {
    "duration": 7,
    "start_time": "2025-06-23T21:26:47.493Z"
   },
   {
    "duration": 13,
    "start_time": "2025-06-23T21:26:47.502Z"
   },
   {
    "duration": 4,
    "start_time": "2025-06-23T21:26:47.516Z"
   },
   {
    "duration": 87,
    "start_time": "2025-06-23T21:26:47.522Z"
   },
   {
    "duration": 4,
    "start_time": "2025-06-23T21:29:56.340Z"
   },
   {
    "duration": 366,
    "start_time": "2025-06-23T21:31:30.727Z"
   },
   {
    "duration": 337,
    "start_time": "2025-06-23T21:32:44.529Z"
   },
   {
    "duration": 353,
    "start_time": "2025-06-23T21:35:00.154Z"
   },
   {
    "duration": 514,
    "start_time": "2025-06-23T21:45:32.038Z"
   },
   {
    "duration": 44,
    "start_time": "2025-06-23T21:45:59.885Z"
   },
   {
    "duration": 40,
    "start_time": "2025-06-23T21:49:10.801Z"
   },
   {
    "duration": 5,
    "start_time": "2025-06-23T21:50:05.574Z"
   },
   {
    "duration": 5,
    "start_time": "2025-06-23T21:50:51.792Z"
   },
   {
    "duration": 1431,
    "start_time": "2025-06-23T21:55:49.412Z"
   },
   {
    "duration": 5,
    "start_time": "2025-06-23T21:56:09.309Z"
   },
   {
    "duration": 11,
    "start_time": "2025-06-23T21:56:20.790Z"
   },
   {
    "duration": 3512,
    "start_time": "2025-06-23T21:56:30.973Z"
   },
   {
    "duration": 3,
    "start_time": "2025-06-23T21:56:34.487Z"
   },
   {
    "duration": 2218,
    "start_time": "2025-06-23T21:56:34.492Z"
   },
   {
    "duration": 2192,
    "start_time": "2025-06-23T21:56:36.712Z"
   },
   {
    "duration": 2208,
    "start_time": "2025-06-23T21:56:38.906Z"
   },
   {
    "duration": 1634,
    "start_time": "2025-06-23T21:56:41.116Z"
   },
   {
    "duration": 154,
    "start_time": "2025-06-23T21:56:42.751Z"
   },
   {
    "duration": 429,
    "start_time": "2025-06-23T21:56:42.906Z"
   },
   {
    "duration": 44,
    "start_time": "2025-06-23T21:56:43.336Z"
   },
   {
    "duration": 181,
    "start_time": "2025-06-23T21:56:43.382Z"
   },
   {
    "duration": 547,
    "start_time": "2025-06-23T21:56:43.565Z"
   },
   {
    "duration": 493,
    "start_time": "2025-06-23T21:56:44.114Z"
   },
   {
    "duration": 408,
    "start_time": "2025-06-23T21:56:44.608Z"
   },
   {
    "duration": 612,
    "start_time": "2025-06-23T21:56:45.019Z"
   },
   {
    "duration": 12,
    "start_time": "2025-06-23T21:56:45.632Z"
   },
   {
    "duration": 163,
    "start_time": "2025-06-23T21:56:45.646Z"
   },
   {
    "duration": 64,
    "start_time": "2025-06-23T21:56:45.810Z"
   },
   {
    "duration": 10,
    "start_time": "2025-06-23T21:56:45.875Z"
   },
   {
    "duration": 103,
    "start_time": "2025-06-23T21:56:45.886Z"
   },
   {
    "duration": 3,
    "start_time": "2025-06-23T21:56:45.991Z"
   },
   {
    "duration": 510,
    "start_time": "2025-06-23T21:56:45.996Z"
   },
   {
    "duration": 7,
    "start_time": "2025-06-23T21:56:46.507Z"
   },
   {
    "duration": 84,
    "start_time": "2025-06-23T21:56:46.516Z"
   },
   {
    "duration": 4,
    "start_time": "2025-06-23T21:56:46.601Z"
   },
   {
    "duration": 347,
    "start_time": "2025-06-23T21:56:46.606Z"
   },
   {
    "duration": 8,
    "start_time": "2025-06-23T21:56:46.955Z"
   },
   {
    "duration": 418,
    "start_time": "2025-06-23T21:56:46.964Z"
   },
   {
    "duration": 491,
    "start_time": "2025-06-23T21:56:47.384Z"
   },
   {
    "duration": 46,
    "start_time": "2025-06-23T21:56:47.877Z"
   },
   {
    "duration": 39,
    "start_time": "2025-06-23T21:56:47.925Z"
   },
   {
    "duration": 38,
    "start_time": "2025-06-23T21:56:47.966Z"
   },
   {
    "duration": 48,
    "start_time": "2025-06-23T21:56:48.006Z"
   },
   {
    "duration": 7,
    "start_time": "2025-06-23T21:56:48.055Z"
   },
   {
    "duration": 12,
    "start_time": "2025-06-23T21:56:48.063Z"
   },
   {
    "duration": 15,
    "start_time": "2025-06-23T21:56:48.076Z"
   },
   {
    "duration": 5,
    "start_time": "2025-06-23T21:56:48.092Z"
   },
   {
    "duration": 76,
    "start_time": "2025-06-23T21:56:48.098Z"
   },
   {
    "duration": 3396,
    "start_time": "2025-06-23T23:47:42.976Z"
   },
   {
    "duration": 3,
    "start_time": "2025-06-23T23:47:46.374Z"
   },
   {
    "duration": 2216,
    "start_time": "2025-06-23T23:47:46.379Z"
   },
   {
    "duration": 2166,
    "start_time": "2025-06-23T23:47:48.597Z"
   },
   {
    "duration": 2171,
    "start_time": "2025-06-23T23:47:50.765Z"
   },
   {
    "duration": 1888,
    "start_time": "2025-06-23T23:47:52.938Z"
   },
   {
    "duration": 150,
    "start_time": "2025-06-23T23:47:54.827Z"
   },
   {
    "duration": 444,
    "start_time": "2025-06-23T23:47:54.979Z"
   },
   {
    "duration": 41,
    "start_time": "2025-06-23T23:47:55.425Z"
   },
   {
    "duration": 211,
    "start_time": "2025-06-23T23:47:55.469Z"
   },
   {
    "duration": 608,
    "start_time": "2025-06-23T23:47:55.682Z"
   },
   {
    "duration": 499,
    "start_time": "2025-06-23T23:47:56.291Z"
   },
   {
    "duration": 410,
    "start_time": "2025-06-23T23:47:56.792Z"
   },
   {
    "duration": 624,
    "start_time": "2025-06-23T23:47:57.203Z"
   },
   {
    "duration": 12,
    "start_time": "2025-06-23T23:47:57.829Z"
   },
   {
    "duration": 208,
    "start_time": "2025-06-23T23:47:57.842Z"
   },
   {
    "duration": 92,
    "start_time": "2025-06-23T23:47:58.051Z"
   },
   {
    "duration": 91,
    "start_time": "2025-06-23T23:47:58.145Z"
   },
   {
    "duration": 7,
    "start_time": "2025-06-23T23:47:58.237Z"
   },
   {
    "duration": 18,
    "start_time": "2025-06-23T23:47:58.245Z"
   },
   {
    "duration": 458,
    "start_time": "2025-06-23T23:47:58.265Z"
   },
   {
    "duration": 7,
    "start_time": "2025-06-23T23:47:58.725Z"
   },
   {
    "duration": 82,
    "start_time": "2025-06-23T23:47:58.734Z"
   },
   {
    "duration": 4,
    "start_time": "2025-06-23T23:47:58.817Z"
   },
   {
    "duration": 343,
    "start_time": "2025-06-23T23:47:58.822Z"
   },
   {
    "duration": 3,
    "start_time": "2025-06-23T23:47:59.167Z"
   },
   {
    "duration": 424,
    "start_time": "2025-06-23T23:47:59.172Z"
   },
   {
    "duration": 485,
    "start_time": "2025-06-23T23:47:59.600Z"
   },
   {
    "duration": 52,
    "start_time": "2025-06-23T23:48:00.086Z"
   },
   {
    "duration": 24,
    "start_time": "2025-06-23T23:48:00.139Z"
   },
   {
    "duration": 41,
    "start_time": "2025-06-23T23:48:00.165Z"
   },
   {
    "duration": 18,
    "start_time": "2025-06-23T23:48:00.207Z"
   },
   {
    "duration": 47,
    "start_time": "2025-06-23T23:48:00.226Z"
   },
   {
    "duration": 38,
    "start_time": "2025-06-23T23:48:00.275Z"
   },
   {
    "duration": 33,
    "start_time": "2025-06-23T23:48:00.315Z"
   },
   {
    "duration": 27,
    "start_time": "2025-06-23T23:48:00.349Z"
   },
   {
    "duration": 133,
    "start_time": "2025-06-23T23:48:00.378Z"
   },
   {
    "duration": 50,
    "start_time": "2025-06-24T03:21:37.373Z"
   },
   {
    "duration": 9762,
    "start_time": "2025-06-24T03:21:42.090Z"
   },
   {
    "duration": 4,
    "start_time": "2025-06-24T03:21:51.855Z"
   },
   {
    "duration": 8700,
    "start_time": "2025-06-24T03:21:51.860Z"
   },
   {
    "duration": 7031,
    "start_time": "2025-06-24T03:22:00.563Z"
   },
   {
    "duration": 3354,
    "start_time": "2025-06-24T03:22:07.598Z"
   },
   {
    "duration": 2243,
    "start_time": "2025-06-24T03:22:10.954Z"
   },
   {
    "duration": 150,
    "start_time": "2025-06-24T03:22:13.199Z"
   },
   {
    "duration": 623,
    "start_time": "2025-06-24T03:22:13.351Z"
   },
   {
    "duration": 40,
    "start_time": "2025-06-24T03:22:13.976Z"
   },
   {
    "duration": 218,
    "start_time": "2025-06-24T03:22:14.017Z"
   },
   {
    "duration": 550,
    "start_time": "2025-06-24T03:22:14.236Z"
   },
   {
    "duration": 132,
    "start_time": "2025-06-24T03:22:14.788Z"
   },
   {
    "duration": 0,
    "start_time": "2025-06-24T03:22:14.923Z"
   },
   {
    "duration": 0,
    "start_time": "2025-06-24T03:22:14.924Z"
   },
   {
    "duration": 0,
    "start_time": "2025-06-24T03:22:14.925Z"
   },
   {
    "duration": 0,
    "start_time": "2025-06-24T03:22:14.926Z"
   },
   {
    "duration": 0,
    "start_time": "2025-06-24T03:22:14.928Z"
   },
   {
    "duration": 0,
    "start_time": "2025-06-24T03:22:14.928Z"
   },
   {
    "duration": 0,
    "start_time": "2025-06-24T03:22:14.930Z"
   },
   {
    "duration": 0,
    "start_time": "2025-06-24T03:22:14.931Z"
   },
   {
    "duration": 0,
    "start_time": "2025-06-24T03:22:14.932Z"
   },
   {
    "duration": 0,
    "start_time": "2025-06-24T03:22:14.934Z"
   },
   {
    "duration": 0,
    "start_time": "2025-06-24T03:22:14.935Z"
   },
   {
    "duration": 0,
    "start_time": "2025-06-24T03:22:14.936Z"
   },
   {
    "duration": 0,
    "start_time": "2025-06-24T03:22:14.938Z"
   },
   {
    "duration": 0,
    "start_time": "2025-06-24T03:22:14.939Z"
   },
   {
    "duration": 0,
    "start_time": "2025-06-24T03:22:14.972Z"
   },
   {
    "duration": 0,
    "start_time": "2025-06-24T03:22:14.973Z"
   },
   {
    "duration": 0,
    "start_time": "2025-06-24T03:22:14.974Z"
   },
   {
    "duration": 0,
    "start_time": "2025-06-24T03:22:14.975Z"
   },
   {
    "duration": 0,
    "start_time": "2025-06-24T03:22:14.976Z"
   },
   {
    "duration": 0,
    "start_time": "2025-06-24T03:22:14.977Z"
   },
   {
    "duration": 0,
    "start_time": "2025-06-24T03:22:14.978Z"
   },
   {
    "duration": 0,
    "start_time": "2025-06-24T03:22:14.979Z"
   },
   {
    "duration": 0,
    "start_time": "2025-06-24T03:22:14.980Z"
   },
   {
    "duration": 0,
    "start_time": "2025-06-24T03:22:14.982Z"
   },
   {
    "duration": 0,
    "start_time": "2025-06-24T03:22:14.982Z"
   },
   {
    "duration": 3791,
    "start_time": "2025-06-24T03:22:31.839Z"
   },
   {
    "duration": 4,
    "start_time": "2025-06-24T03:22:35.633Z"
   },
   {
    "duration": 2457,
    "start_time": "2025-06-24T03:22:35.639Z"
   },
   {
    "duration": 2374,
    "start_time": "2025-06-24T03:22:38.098Z"
   },
   {
    "duration": 2436,
    "start_time": "2025-06-24T03:22:40.475Z"
   },
   {
    "duration": 1538,
    "start_time": "2025-06-24T03:22:42.914Z"
   },
   {
    "duration": 150,
    "start_time": "2025-06-24T03:22:44.454Z"
   },
   {
    "duration": 495,
    "start_time": "2025-06-24T03:22:44.605Z"
   },
   {
    "duration": 40,
    "start_time": "2025-06-24T03:22:45.101Z"
   },
   {
    "duration": 220,
    "start_time": "2025-06-24T03:22:45.143Z"
   },
   {
    "duration": 651,
    "start_time": "2025-06-24T03:22:45.365Z"
   },
   {
    "duration": 544,
    "start_time": "2025-06-24T03:22:46.018Z"
   },
   {
    "duration": 390,
    "start_time": "2025-06-24T03:22:46.564Z"
   },
   {
    "duration": 692,
    "start_time": "2025-06-24T03:22:46.970Z"
   },
   {
    "duration": 20,
    "start_time": "2025-06-24T03:22:47.664Z"
   },
   {
    "duration": 223,
    "start_time": "2025-06-24T03:22:47.685Z"
   },
   {
    "duration": 66,
    "start_time": "2025-06-24T03:22:47.910Z"
   },
   {
    "duration": 11,
    "start_time": "2025-06-24T03:22:47.977Z"
   },
   {
    "duration": 7,
    "start_time": "2025-06-24T03:22:47.990Z"
   },
   {
    "duration": 110,
    "start_time": "2025-06-24T03:22:47.999Z"
   },
   {
    "duration": 3617,
    "start_time": "2025-06-24T03:22:48.111Z"
   },
   {
    "duration": 8,
    "start_time": "2025-06-24T03:22:51.730Z"
   },
   {
    "duration": 115,
    "start_time": "2025-06-24T03:22:51.740Z"
   },
   {
    "duration": 4,
    "start_time": "2025-06-24T03:22:51.857Z"
   },
   {
    "duration": 357,
    "start_time": "2025-06-24T03:22:51.864Z"
   },
   {
    "duration": 6,
    "start_time": "2025-06-24T03:22:52.224Z"
   },
   {
    "duration": 473,
    "start_time": "2025-06-24T03:22:52.232Z"
   },
   {
    "duration": 470,
    "start_time": "2025-06-24T03:22:52.707Z"
   },
   {
    "duration": 48,
    "start_time": "2025-06-24T03:22:53.179Z"
   },
   {
    "duration": 16,
    "start_time": "2025-06-24T03:22:53.228Z"
   },
   {
    "duration": 65,
    "start_time": "2025-06-24T03:22:53.245Z"
   },
   {
    "duration": 4,
    "start_time": "2025-06-24T03:22:53.312Z"
   },
   {
    "duration": 24,
    "start_time": "2025-06-24T03:22:53.318Z"
   },
   {
    "duration": 5,
    "start_time": "2025-06-24T03:22:53.344Z"
   },
   {
    "duration": 59,
    "start_time": "2025-06-24T03:22:53.350Z"
   },
   {
    "duration": 29,
    "start_time": "2025-06-24T03:22:53.411Z"
   },
   {
    "duration": 70,
    "start_time": "2025-06-24T03:22:53.442Z"
   },
   {
    "duration": 536,
    "start_time": "2025-06-24T03:22:57.639Z"
   },
   {
    "duration": 3930,
    "start_time": "2025-06-24T03:28:40.877Z"
   },
   {
    "duration": 5,
    "start_time": "2025-06-24T03:28:44.809Z"
   },
   {
    "duration": 2434,
    "start_time": "2025-06-24T03:28:44.816Z"
   },
   {
    "duration": 2526,
    "start_time": "2025-06-24T03:28:47.253Z"
   },
   {
    "duration": 2395,
    "start_time": "2025-06-24T03:28:49.782Z"
   },
   {
    "duration": 1772,
    "start_time": "2025-06-24T03:28:52.179Z"
   },
   {
    "duration": 154,
    "start_time": "2025-06-24T03:28:53.953Z"
   },
   {
    "duration": 480,
    "start_time": "2025-06-24T03:28:54.108Z"
   },
   {
    "duration": 38,
    "start_time": "2025-06-24T03:28:54.590Z"
   },
   {
    "duration": 238,
    "start_time": "2025-06-24T03:28:54.630Z"
   },
   {
    "duration": 655,
    "start_time": "2025-06-24T03:28:54.870Z"
   },
   {
    "duration": 529,
    "start_time": "2025-06-24T03:28:55.526Z"
   },
   {
    "duration": 423,
    "start_time": "2025-06-24T03:28:56.057Z"
   },
   {
    "duration": 676,
    "start_time": "2025-06-24T03:28:56.482Z"
   },
   {
    "duration": 23,
    "start_time": "2025-06-24T03:28:57.160Z"
   },
   {
    "duration": 194,
    "start_time": "2025-06-24T03:28:57.184Z"
   },
   {
    "duration": 60,
    "start_time": "2025-06-24T03:28:57.380Z"
   },
   {
    "duration": 101,
    "start_time": "2025-06-24T03:28:57.442Z"
   },
   {
    "duration": 8,
    "start_time": "2025-06-24T03:28:57.544Z"
   },
   {
    "duration": 19,
    "start_time": "2025-06-24T03:28:57.553Z"
   },
   {
    "duration": 1166,
    "start_time": "2025-06-24T03:28:57.574Z"
   },
   {
    "duration": 8,
    "start_time": "2025-06-24T03:28:58.742Z"
   },
   {
    "duration": 90,
    "start_time": "2025-06-24T03:28:58.751Z"
   },
   {
    "duration": 3,
    "start_time": "2025-06-24T03:28:58.843Z"
   },
   {
    "duration": 359,
    "start_time": "2025-06-24T03:28:58.848Z"
   },
   {
    "duration": 3,
    "start_time": "2025-06-24T03:28:59.209Z"
   },
   {
    "duration": 424,
    "start_time": "2025-06-24T03:28:59.214Z"
   },
   {
    "duration": 507,
    "start_time": "2025-06-24T03:28:59.641Z"
   },
   {
    "duration": 54,
    "start_time": "2025-06-24T03:29:00.150Z"
   },
   {
    "duration": 35,
    "start_time": "2025-06-24T03:29:00.205Z"
   },
   {
    "duration": 50,
    "start_time": "2025-06-24T03:29:00.241Z"
   },
   {
    "duration": 16,
    "start_time": "2025-06-24T03:29:00.293Z"
   },
   {
    "duration": 39,
    "start_time": "2025-06-24T03:29:00.311Z"
   },
   {
    "duration": 14,
    "start_time": "2025-06-24T03:29:00.352Z"
   },
   {
    "duration": 23,
    "start_time": "2025-06-24T03:29:00.367Z"
   },
   {
    "duration": 10,
    "start_time": "2025-06-24T03:29:00.392Z"
   },
   {
    "duration": 98,
    "start_time": "2025-06-24T03:29:00.404Z"
   },
   {
    "duration": 927,
    "start_time": "2025-06-24T11:36:55.591Z"
   },
   {
    "duration": 18,
    "start_time": "2025-06-24T11:37:07.231Z"
   },
   {
    "duration": 18,
    "start_time": "2025-06-24T11:39:05.661Z"
   },
   {
    "duration": 15,
    "start_time": "2025-06-24T11:40:52.230Z"
   },
   {
    "duration": 10059,
    "start_time": "2025-06-24T11:40:59.976Z"
   },
   {
    "duration": 5,
    "start_time": "2025-06-24T11:41:10.036Z"
   },
   {
    "duration": 8719,
    "start_time": "2025-06-24T11:41:10.042Z"
   },
   {
    "duration": 6281,
    "start_time": "2025-06-24T11:41:18.764Z"
   },
   {
    "duration": 3166,
    "start_time": "2025-06-24T11:41:25.047Z"
   },
   {
    "duration": 2694,
    "start_time": "2025-06-24T11:41:28.215Z"
   },
   {
    "duration": 152,
    "start_time": "2025-06-24T11:41:30.911Z"
   },
   {
    "duration": 619,
    "start_time": "2025-06-24T11:41:31.065Z"
   },
   {
    "duration": 39,
    "start_time": "2025-06-24T11:41:31.686Z"
   },
   {
    "duration": 216,
    "start_time": "2025-06-24T11:41:31.728Z"
   },
   {
    "duration": 568,
    "start_time": "2025-06-24T11:41:31.945Z"
   },
   {
    "duration": 120,
    "start_time": "2025-06-24T11:41:32.515Z"
   },
   {
    "duration": 0,
    "start_time": "2025-06-24T11:41:32.637Z"
   },
   {
    "duration": 0,
    "start_time": "2025-06-24T11:41:32.639Z"
   },
   {
    "duration": 0,
    "start_time": "2025-06-24T11:41:32.640Z"
   },
   {
    "duration": 0,
    "start_time": "2025-06-24T11:41:32.642Z"
   },
   {
    "duration": 0,
    "start_time": "2025-06-24T11:41:32.643Z"
   },
   {
    "duration": 0,
    "start_time": "2025-06-24T11:41:32.644Z"
   },
   {
    "duration": 0,
    "start_time": "2025-06-24T11:41:32.659Z"
   },
   {
    "duration": 0,
    "start_time": "2025-06-24T11:41:32.660Z"
   },
   {
    "duration": 0,
    "start_time": "2025-06-24T11:41:32.661Z"
   },
   {
    "duration": 0,
    "start_time": "2025-06-24T11:41:32.663Z"
   },
   {
    "duration": 0,
    "start_time": "2025-06-24T11:41:32.664Z"
   },
   {
    "duration": 0,
    "start_time": "2025-06-24T11:41:32.666Z"
   },
   {
    "duration": 0,
    "start_time": "2025-06-24T11:41:32.667Z"
   },
   {
    "duration": 0,
    "start_time": "2025-06-24T11:41:32.669Z"
   },
   {
    "duration": 0,
    "start_time": "2025-06-24T11:41:32.670Z"
   },
   {
    "duration": 0,
    "start_time": "2025-06-24T11:41:32.671Z"
   },
   {
    "duration": 0,
    "start_time": "2025-06-24T11:41:32.673Z"
   },
   {
    "duration": 0,
    "start_time": "2025-06-24T11:41:32.674Z"
   },
   {
    "duration": 0,
    "start_time": "2025-06-24T11:41:32.676Z"
   },
   {
    "duration": 0,
    "start_time": "2025-06-24T11:41:32.677Z"
   },
   {
    "duration": 0,
    "start_time": "2025-06-24T11:41:32.678Z"
   },
   {
    "duration": 0,
    "start_time": "2025-06-24T11:41:32.679Z"
   },
   {
    "duration": 0,
    "start_time": "2025-06-24T11:41:32.681Z"
   },
   {
    "duration": 0,
    "start_time": "2025-06-24T11:41:32.682Z"
   },
   {
    "duration": 0,
    "start_time": "2025-06-24T11:41:32.684Z"
   },
   {
    "duration": 3829,
    "start_time": "2025-06-24T11:42:14.782Z"
   },
   {
    "duration": 4,
    "start_time": "2025-06-24T11:42:18.613Z"
   },
   {
    "duration": 2389,
    "start_time": "2025-06-24T11:42:18.619Z"
   },
   {
    "duration": 2466,
    "start_time": "2025-06-24T11:42:21.011Z"
   },
   {
    "duration": 2467,
    "start_time": "2025-06-24T11:42:23.480Z"
   },
   {
    "duration": 1730,
    "start_time": "2025-06-24T11:42:25.950Z"
   },
   {
    "duration": 176,
    "start_time": "2025-06-24T11:42:27.681Z"
   },
   {
    "duration": 455,
    "start_time": "2025-06-24T11:42:27.859Z"
   },
   {
    "duration": 51,
    "start_time": "2025-06-24T11:42:28.315Z"
   },
   {
    "duration": 253,
    "start_time": "2025-06-24T11:42:28.370Z"
   },
   {
    "duration": 615,
    "start_time": "2025-06-24T11:42:28.625Z"
   },
   {
    "duration": 506,
    "start_time": "2025-06-24T11:42:29.242Z"
   },
   {
    "duration": 416,
    "start_time": "2025-06-24T11:42:29.749Z"
   },
   {
    "duration": 717,
    "start_time": "2025-06-24T11:42:30.167Z"
   },
   {
    "duration": 117,
    "start_time": "2025-06-24T11:42:30.886Z"
   },
   {
    "duration": 0,
    "start_time": "2025-06-24T11:42:31.005Z"
   },
   {
    "duration": 0,
    "start_time": "2025-06-24T11:42:31.006Z"
   },
   {
    "duration": 0,
    "start_time": "2025-06-24T11:42:31.008Z"
   },
   {
    "duration": 0,
    "start_time": "2025-06-24T11:42:31.009Z"
   },
   {
    "duration": 0,
    "start_time": "2025-06-24T11:42:31.010Z"
   },
   {
    "duration": 0,
    "start_time": "2025-06-24T11:42:31.012Z"
   },
   {
    "duration": 0,
    "start_time": "2025-06-24T11:42:31.014Z"
   },
   {
    "duration": 0,
    "start_time": "2025-06-24T11:42:31.015Z"
   },
   {
    "duration": 0,
    "start_time": "2025-06-24T11:42:31.016Z"
   },
   {
    "duration": 0,
    "start_time": "2025-06-24T11:42:31.018Z"
   },
   {
    "duration": 0,
    "start_time": "2025-06-24T11:42:31.137Z"
   },
   {
    "duration": 0,
    "start_time": "2025-06-24T11:42:31.139Z"
   },
   {
    "duration": 0,
    "start_time": "2025-06-24T11:42:31.140Z"
   },
   {
    "duration": 0,
    "start_time": "2025-06-24T11:42:31.141Z"
   },
   {
    "duration": 0,
    "start_time": "2025-06-24T11:42:31.143Z"
   },
   {
    "duration": 0,
    "start_time": "2025-06-24T11:42:31.159Z"
   },
   {
    "duration": 0,
    "start_time": "2025-06-24T11:42:31.160Z"
   },
   {
    "duration": 0,
    "start_time": "2025-06-24T11:42:31.162Z"
   },
   {
    "duration": 0,
    "start_time": "2025-06-24T11:42:31.163Z"
   },
   {
    "duration": 0,
    "start_time": "2025-06-24T11:42:31.165Z"
   },
   {
    "duration": 0,
    "start_time": "2025-06-24T11:42:31.166Z"
   },
   {
    "duration": 0,
    "start_time": "2025-06-24T11:42:31.168Z"
   },
   {
    "duration": 14,
    "start_time": "2025-06-24T11:43:15.836Z"
   },
   {
    "duration": 16,
    "start_time": "2025-06-24T11:52:18.423Z"
   },
   {
    "duration": 17,
    "start_time": "2025-06-24T12:08:00.297Z"
   },
   {
    "duration": 26,
    "start_time": "2025-06-24T12:08:23.340Z"
   },
   {
    "duration": 11,
    "start_time": "2025-06-24T12:19:50.437Z"
   },
   {
    "duration": 15,
    "start_time": "2025-06-24T12:20:11.344Z"
   },
   {
    "duration": 3713,
    "start_time": "2025-06-24T12:20:17.955Z"
   },
   {
    "duration": 4,
    "start_time": "2025-06-24T12:20:21.670Z"
   },
   {
    "duration": 2380,
    "start_time": "2025-06-24T12:20:21.676Z"
   },
   {
    "duration": 2429,
    "start_time": "2025-06-24T12:20:24.058Z"
   },
   {
    "duration": 2371,
    "start_time": "2025-06-24T12:20:26.489Z"
   },
   {
    "duration": 8424,
    "start_time": "2025-06-24T12:20:28.862Z"
   },
   {
    "duration": 164,
    "start_time": "2025-06-24T12:20:37.288Z"
   },
   {
    "duration": 473,
    "start_time": "2025-06-24T12:20:37.458Z"
   },
   {
    "duration": 50,
    "start_time": "2025-06-24T12:20:37.933Z"
   },
   {
    "duration": 217,
    "start_time": "2025-06-24T12:20:37.987Z"
   },
   {
    "duration": 616,
    "start_time": "2025-06-24T12:20:38.205Z"
   },
   {
    "duration": 521,
    "start_time": "2025-06-24T12:20:38.823Z"
   },
   {
    "duration": 395,
    "start_time": "2025-06-24T12:20:39.346Z"
   },
   {
    "duration": 696,
    "start_time": "2025-06-24T12:20:39.742Z"
   },
   {
    "duration": 120,
    "start_time": "2025-06-24T12:20:40.439Z"
   },
   {
    "duration": 0,
    "start_time": "2025-06-24T12:20:40.560Z"
   },
   {
    "duration": 0,
    "start_time": "2025-06-24T12:20:40.563Z"
   },
   {
    "duration": 0,
    "start_time": "2025-06-24T12:20:40.563Z"
   },
   {
    "duration": 0,
    "start_time": "2025-06-24T12:20:40.565Z"
   },
   {
    "duration": 0,
    "start_time": "2025-06-24T12:20:40.566Z"
   },
   {
    "duration": 0,
    "start_time": "2025-06-24T12:20:40.567Z"
   },
   {
    "duration": 0,
    "start_time": "2025-06-24T12:20:40.568Z"
   },
   {
    "duration": 0,
    "start_time": "2025-06-24T12:20:40.569Z"
   },
   {
    "duration": 0,
    "start_time": "2025-06-24T12:20:40.570Z"
   },
   {
    "duration": 0,
    "start_time": "2025-06-24T12:20:40.571Z"
   },
   {
    "duration": 0,
    "start_time": "2025-06-24T12:20:40.682Z"
   },
   {
    "duration": 0,
    "start_time": "2025-06-24T12:20:40.683Z"
   },
   {
    "duration": 0,
    "start_time": "2025-06-24T12:20:40.684Z"
   },
   {
    "duration": 0,
    "start_time": "2025-06-24T12:20:40.685Z"
   },
   {
    "duration": 0,
    "start_time": "2025-06-24T12:20:40.686Z"
   },
   {
    "duration": 0,
    "start_time": "2025-06-24T12:20:40.688Z"
   },
   {
    "duration": 0,
    "start_time": "2025-06-24T12:20:40.689Z"
   },
   {
    "duration": 0,
    "start_time": "2025-06-24T12:20:40.690Z"
   },
   {
    "duration": 0,
    "start_time": "2025-06-24T12:20:40.690Z"
   },
   {
    "duration": 0,
    "start_time": "2025-06-24T12:20:40.691Z"
   },
   {
    "duration": 0,
    "start_time": "2025-06-24T12:20:40.693Z"
   },
   {
    "duration": 0,
    "start_time": "2025-06-24T12:20:40.694Z"
   },
   {
    "duration": 0,
    "start_time": "2025-06-24T12:20:40.695Z"
   },
   {
    "duration": 16,
    "start_time": "2025-06-24T12:21:20.455Z"
   },
   {
    "duration": 11,
    "start_time": "2025-06-24T12:21:26.097Z"
   },
   {
    "duration": 16,
    "start_time": "2025-06-24T12:21:56.690Z"
   },
   {
    "duration": 15,
    "start_time": "2025-06-24T12:22:14.080Z"
   },
   {
    "duration": 15,
    "start_time": "2025-06-24T12:22:42.694Z"
   },
   {
    "duration": 17,
    "start_time": "2025-06-24T12:26:39.803Z"
   },
   {
    "duration": 3,
    "start_time": "2025-06-24T12:30:51.704Z"
   },
   {
    "duration": 18,
    "start_time": "2025-06-24T12:32:13.846Z"
   },
   {
    "duration": 175,
    "start_time": "2025-06-24T12:34:27.661Z"
   },
   {
    "duration": 16,
    "start_time": "2025-06-24T12:41:28.404Z"
   },
   {
    "duration": 183,
    "start_time": "2025-06-24T12:46:15.610Z"
   },
   {
    "duration": 202,
    "start_time": "2025-06-24T12:46:21.581Z"
   },
   {
    "duration": 1348,
    "start_time": "2025-06-24T12:49:00.549Z"
   },
   {
    "duration": 11,
    "start_time": "2025-06-24T12:49:01.899Z"
   },
   {
    "duration": 5,
    "start_time": "2025-06-24T12:49:02.780Z"
   },
   {
    "duration": 4,
    "start_time": "2025-06-24T12:49:04.906Z"
   },
   {
    "duration": 530,
    "start_time": "2025-06-24T12:49:06.608Z"
   },
   {
    "duration": 8,
    "start_time": "2025-06-24T12:49:13.494Z"
   },
   {
    "duration": 76,
    "start_time": "2025-06-24T12:49:18.035Z"
   },
   {
    "duration": 4,
    "start_time": "2025-06-24T12:49:31.803Z"
   },
   {
    "duration": 356,
    "start_time": "2025-06-24T12:49:34.274Z"
   },
   {
    "duration": 4,
    "start_time": "2025-06-24T12:49:40.197Z"
   },
   {
    "duration": 433,
    "start_time": "2025-06-24T12:49:40.977Z"
   },
   {
    "duration": 535,
    "start_time": "2025-06-24T12:50:05.679Z"
   },
   {
    "duration": 52,
    "start_time": "2025-06-24T12:50:06.216Z"
   },
   {
    "duration": 133,
    "start_time": "2025-06-24T12:50:06.270Z"
   },
   {
    "duration": 41,
    "start_time": "2025-06-24T12:50:08.333Z"
   },
   {
    "duration": 5,
    "start_time": "2025-06-24T12:50:08.583Z"
   },
   {
    "duration": 5,
    "start_time": "2025-06-24T12:50:08.875Z"
   },
   {
    "duration": 5,
    "start_time": "2025-06-24T12:50:10.282Z"
   },
   {
    "duration": 18,
    "start_time": "2025-06-24T12:50:17.723Z"
   },
   {
    "duration": 7,
    "start_time": "2025-06-24T12:50:19.056Z"
   },
   {
    "duration": 6,
    "start_time": "2025-06-24T12:57:12.380Z"
   },
   {
    "duration": 7,
    "start_time": "2025-06-24T12:57:53.627Z"
   },
   {
    "duration": 6,
    "start_time": "2025-06-24T12:59:22.851Z"
   },
   {
    "duration": 73,
    "start_time": "2025-06-24T13:00:04.784Z"
   },
   {
    "duration": 5,
    "start_time": "2025-06-24T13:00:16.097Z"
   },
   {
    "duration": 5,
    "start_time": "2025-06-24T13:01:09.702Z"
   },
   {
    "duration": 5,
    "start_time": "2025-06-24T13:01:39.694Z"
   },
   {
    "duration": 5,
    "start_time": "2025-06-24T13:01:45.403Z"
   },
   {
    "duration": 6,
    "start_time": "2025-06-24T13:05:34.601Z"
   },
   {
    "duration": 5,
    "start_time": "2025-06-24T13:06:04.865Z"
   },
   {
    "duration": 5,
    "start_time": "2025-06-24T13:08:13.118Z"
   },
   {
    "duration": 5,
    "start_time": "2025-06-24T13:08:23.658Z"
   },
   {
    "duration": 3,
    "start_time": "2025-06-24T13:09:54.735Z"
   },
   {
    "duration": 5,
    "start_time": "2025-06-24T13:14:01.435Z"
   },
   {
    "duration": 65,
    "start_time": "2025-06-24T13:15:34.521Z"
   },
   {
    "duration": 4047,
    "start_time": "2025-06-24T13:18:20.542Z"
   },
   {
    "duration": 4,
    "start_time": "2025-06-24T13:18:24.592Z"
   },
   {
    "duration": 2570,
    "start_time": "2025-06-24T13:18:24.598Z"
   },
   {
    "duration": 2416,
    "start_time": "2025-06-24T13:18:27.171Z"
   },
   {
    "duration": 2471,
    "start_time": "2025-06-24T13:18:29.589Z"
   },
   {
    "duration": 2001,
    "start_time": "2025-06-24T13:18:32.063Z"
   },
   {
    "duration": 158,
    "start_time": "2025-06-24T13:18:34.066Z"
   },
   {
    "duration": 473,
    "start_time": "2025-06-24T13:18:34.226Z"
   },
   {
    "duration": 41,
    "start_time": "2025-06-24T13:18:34.701Z"
   },
   {
    "duration": 208,
    "start_time": "2025-06-24T13:18:34.758Z"
   },
   {
    "duration": 725,
    "start_time": "2025-06-24T13:18:34.968Z"
   },
   {
    "duration": 551,
    "start_time": "2025-06-24T13:18:35.695Z"
   },
   {
    "duration": 401,
    "start_time": "2025-06-24T13:18:36.248Z"
   },
   {
    "duration": 692,
    "start_time": "2025-06-24T13:18:36.651Z"
   },
   {
    "duration": 23,
    "start_time": "2025-06-24T13:18:37.345Z"
   },
   {
    "duration": 190,
    "start_time": "2025-06-24T13:18:37.369Z"
   },
   {
    "duration": 43,
    "start_time": "2025-06-24T13:18:37.561Z"
   },
   {
    "duration": 95,
    "start_time": "2025-06-24T13:18:37.605Z"
   },
   {
    "duration": 5,
    "start_time": "2025-06-24T13:18:37.702Z"
   },
   {
    "duration": 6,
    "start_time": "2025-06-24T13:18:37.709Z"
   },
   {
    "duration": 500,
    "start_time": "2025-06-24T13:18:37.716Z"
   },
   {
    "duration": 7,
    "start_time": "2025-06-24T13:18:38.217Z"
   },
   {
    "duration": 100,
    "start_time": "2025-06-24T13:18:38.226Z"
   },
   {
    "duration": 3,
    "start_time": "2025-06-24T13:18:38.328Z"
   },
   {
    "duration": 370,
    "start_time": "2025-06-24T13:18:38.333Z"
   },
   {
    "duration": 4,
    "start_time": "2025-06-24T13:18:38.705Z"
   },
   {
    "duration": 420,
    "start_time": "2025-06-24T13:18:38.710Z"
   },
   {
    "duration": 475,
    "start_time": "2025-06-24T13:18:39.133Z"
   },
   {
    "duration": 56,
    "start_time": "2025-06-24T13:18:39.610Z"
   },
   {
    "duration": 15,
    "start_time": "2025-06-24T13:18:39.668Z"
   },
   {
    "duration": 45,
    "start_time": "2025-06-24T13:18:39.686Z"
   },
   {
    "duration": 6,
    "start_time": "2025-06-24T13:18:39.758Z"
   },
   {
    "duration": 10,
    "start_time": "2025-06-24T13:18:39.766Z"
   },
   {
    "duration": 7,
    "start_time": "2025-06-24T13:18:39.778Z"
   },
   {
    "duration": 16,
    "start_time": "2025-06-24T13:18:39.786Z"
   },
   {
    "duration": 6,
    "start_time": "2025-06-24T13:18:39.803Z"
   },
   {
    "duration": 92,
    "start_time": "2025-06-24T13:18:39.811Z"
   },
   {
    "duration": 9832,
    "start_time": "2025-06-25T07:06:54.203Z"
   },
   {
    "duration": 3,
    "start_time": "2025-06-25T07:07:04.037Z"
   },
   {
    "duration": 9440,
    "start_time": "2025-06-25T07:07:04.042Z"
   },
   {
    "duration": 7095,
    "start_time": "2025-06-25T07:07:13.486Z"
   },
   {
    "duration": 3262,
    "start_time": "2025-06-25T07:07:20.584Z"
   },
   {
    "duration": 1865,
    "start_time": "2025-06-25T07:07:23.848Z"
   },
   {
    "duration": 163,
    "start_time": "2025-06-25T07:07:25.715Z"
   },
   {
    "duration": 626,
    "start_time": "2025-06-25T07:07:25.879Z"
   },
   {
    "duration": 38,
    "start_time": "2025-06-25T07:07:26.507Z"
   },
   {
    "duration": 213,
    "start_time": "2025-06-25T07:07:26.548Z"
   },
   {
    "duration": 563,
    "start_time": "2025-06-25T07:07:26.763Z"
   },
   {
    "duration": 124,
    "start_time": "2025-06-25T07:07:27.328Z"
   },
   {
    "duration": 0,
    "start_time": "2025-06-25T07:07:27.454Z"
   },
   {
    "duration": 0,
    "start_time": "2025-06-25T07:07:27.455Z"
   },
   {
    "duration": 0,
    "start_time": "2025-06-25T07:07:27.456Z"
   },
   {
    "duration": 0,
    "start_time": "2025-06-25T07:07:27.457Z"
   },
   {
    "duration": 0,
    "start_time": "2025-06-25T07:07:27.458Z"
   },
   {
    "duration": 0,
    "start_time": "2025-06-25T07:07:27.459Z"
   },
   {
    "duration": 0,
    "start_time": "2025-06-25T07:07:27.460Z"
   },
   {
    "duration": 0,
    "start_time": "2025-06-25T07:07:27.476Z"
   },
   {
    "duration": 0,
    "start_time": "2025-06-25T07:07:27.477Z"
   },
   {
    "duration": 0,
    "start_time": "2025-06-25T07:07:27.478Z"
   },
   {
    "duration": 0,
    "start_time": "2025-06-25T07:07:27.479Z"
   },
   {
    "duration": 1,
    "start_time": "2025-06-25T07:07:27.480Z"
   },
   {
    "duration": 0,
    "start_time": "2025-06-25T07:07:27.482Z"
   },
   {
    "duration": 0,
    "start_time": "2025-06-25T07:07:27.483Z"
   },
   {
    "duration": 0,
    "start_time": "2025-06-25T07:07:27.484Z"
   },
   {
    "duration": 0,
    "start_time": "2025-06-25T07:07:27.485Z"
   },
   {
    "duration": 0,
    "start_time": "2025-06-25T07:07:27.486Z"
   },
   {
    "duration": 0,
    "start_time": "2025-06-25T07:07:27.487Z"
   },
   {
    "duration": 1,
    "start_time": "2025-06-25T07:07:27.488Z"
   },
   {
    "duration": 0,
    "start_time": "2025-06-25T07:07:27.489Z"
   },
   {
    "duration": 0,
    "start_time": "2025-06-25T07:07:27.490Z"
   },
   {
    "duration": 0,
    "start_time": "2025-06-25T07:07:27.491Z"
   },
   {
    "duration": 0,
    "start_time": "2025-06-25T07:07:27.492Z"
   },
   {
    "duration": 0,
    "start_time": "2025-06-25T07:07:27.493Z"
   },
   {
    "duration": 0,
    "start_time": "2025-06-25T07:07:27.494Z"
   },
   {
    "duration": 3855,
    "start_time": "2025-06-25T07:08:00.899Z"
   },
   {
    "duration": 4,
    "start_time": "2025-06-25T07:08:04.756Z"
   },
   {
    "duration": 2572,
    "start_time": "2025-06-25T07:08:04.762Z"
   },
   {
    "duration": 2378,
    "start_time": "2025-06-25T07:08:07.336Z"
   },
   {
    "duration": 2371,
    "start_time": "2025-06-25T07:08:09.717Z"
   },
   {
    "duration": 1830,
    "start_time": "2025-06-25T07:08:12.090Z"
   },
   {
    "duration": 161,
    "start_time": "2025-06-25T07:08:13.922Z"
   },
   {
    "duration": 552,
    "start_time": "2025-06-25T07:08:14.085Z"
   },
   {
    "duration": 47,
    "start_time": "2025-06-25T07:08:14.639Z"
   },
   {
    "duration": 203,
    "start_time": "2025-06-25T07:08:14.688Z"
   },
   {
    "duration": 654,
    "start_time": "2025-06-25T07:08:14.893Z"
   },
   {
    "duration": 533,
    "start_time": "2025-06-25T07:08:15.549Z"
   },
   {
    "duration": 439,
    "start_time": "2025-06-25T07:08:16.084Z"
   },
   {
    "duration": 725,
    "start_time": "2025-06-25T07:08:16.526Z"
   },
   {
    "duration": 23,
    "start_time": "2025-06-25T07:08:17.253Z"
   },
   {
    "duration": 177,
    "start_time": "2025-06-25T07:08:17.278Z"
   },
   {
    "duration": 67,
    "start_time": "2025-06-25T07:08:17.456Z"
   },
   {
    "duration": 96,
    "start_time": "2025-06-25T07:08:17.525Z"
   },
   {
    "duration": 9,
    "start_time": "2025-06-25T07:08:17.623Z"
   },
   {
    "duration": 4,
    "start_time": "2025-06-25T07:08:17.634Z"
   },
   {
    "duration": 1128,
    "start_time": "2025-06-25T07:08:17.639Z"
   },
   {
    "duration": 8,
    "start_time": "2025-06-25T07:08:18.776Z"
   },
   {
    "duration": 78,
    "start_time": "2025-06-25T07:08:18.785Z"
   },
   {
    "duration": 11,
    "start_time": "2025-06-25T07:08:18.877Z"
   },
   {
    "duration": 358,
    "start_time": "2025-06-25T07:08:18.890Z"
   },
   {
    "duration": 4,
    "start_time": "2025-06-25T07:08:19.249Z"
   },
   {
    "duration": 470,
    "start_time": "2025-06-25T07:08:19.255Z"
   },
   {
    "duration": 1257,
    "start_time": "2025-06-25T07:08:19.727Z"
   },
   {
    "duration": 49,
    "start_time": "2025-06-25T07:08:20.986Z"
   },
   {
    "duration": 78,
    "start_time": "2025-06-25T07:08:21.036Z"
   },
   {
    "duration": 44,
    "start_time": "2025-06-25T07:08:21.115Z"
   },
   {
    "duration": 5,
    "start_time": "2025-06-25T07:08:21.161Z"
   },
   {
    "duration": 30,
    "start_time": "2025-06-25T07:08:21.167Z"
   },
   {
    "duration": 7,
    "start_time": "2025-06-25T07:08:21.198Z"
   },
   {
    "duration": 19,
    "start_time": "2025-06-25T07:08:21.207Z"
   },
   {
    "duration": 7,
    "start_time": "2025-06-25T07:08:21.227Z"
   },
   {
    "duration": 82,
    "start_time": "2025-06-25T07:08:21.235Z"
   },
   {
    "duration": 4019,
    "start_time": "2025-06-25T07:10:32.593Z"
   },
   {
    "duration": 5,
    "start_time": "2025-06-25T07:10:36.614Z"
   },
   {
    "duration": 2480,
    "start_time": "2025-06-25T07:10:36.621Z"
   },
   {
    "duration": 2438,
    "start_time": "2025-06-25T07:10:39.103Z"
   },
   {
    "duration": 2435,
    "start_time": "2025-06-25T07:10:41.543Z"
   },
   {
    "duration": 2233,
    "start_time": "2025-06-25T07:10:43.980Z"
   },
   {
    "duration": 162,
    "start_time": "2025-06-25T07:10:46.215Z"
   },
   {
    "duration": 485,
    "start_time": "2025-06-25T07:10:46.379Z"
   },
   {
    "duration": 44,
    "start_time": "2025-06-25T07:10:46.866Z"
   },
   {
    "duration": 215,
    "start_time": "2025-06-25T07:10:46.913Z"
   },
   {
    "duration": 609,
    "start_time": "2025-06-25T07:10:47.129Z"
   },
   {
    "duration": 544,
    "start_time": "2025-06-25T07:10:47.740Z"
   },
   {
    "duration": 460,
    "start_time": "2025-06-25T07:10:48.286Z"
   },
   {
    "duration": 710,
    "start_time": "2025-06-25T07:10:48.748Z"
   },
   {
    "duration": 25,
    "start_time": "2025-06-25T07:10:49.460Z"
   },
   {
    "duration": 187,
    "start_time": "2025-06-25T07:10:49.487Z"
   },
   {
    "duration": 49,
    "start_time": "2025-06-25T07:10:49.676Z"
   },
   {
    "duration": 101,
    "start_time": "2025-06-25T07:10:49.726Z"
   },
   {
    "duration": 7,
    "start_time": "2025-06-25T07:10:49.829Z"
   },
   {
    "duration": 4,
    "start_time": "2025-06-25T07:10:49.838Z"
   },
   {
    "duration": 1461,
    "start_time": "2025-06-25T07:10:49.844Z"
   },
   {
    "duration": 8,
    "start_time": "2025-06-25T07:10:51.307Z"
   },
   {
    "duration": 97,
    "start_time": "2025-06-25T07:10:51.316Z"
   },
   {
    "duration": 4,
    "start_time": "2025-06-25T07:10:51.415Z"
   },
   {
    "duration": 418,
    "start_time": "2025-06-25T07:10:51.420Z"
   },
   {
    "duration": 5,
    "start_time": "2025-06-25T07:10:51.839Z"
   },
   {
    "duration": 492,
    "start_time": "2025-06-25T07:10:51.845Z"
   },
   {
    "duration": 1515,
    "start_time": "2025-06-25T07:10:52.341Z"
   },
   {
    "duration": 51,
    "start_time": "2025-06-25T07:10:53.857Z"
   },
   {
    "duration": 20,
    "start_time": "2025-06-25T07:10:53.910Z"
   },
   {
    "duration": 51,
    "start_time": "2025-06-25T07:10:53.932Z"
   },
   {
    "duration": 5,
    "start_time": "2025-06-25T07:10:53.985Z"
   },
   {
    "duration": 12,
    "start_time": "2025-06-25T07:10:53.992Z"
   },
   {
    "duration": 5,
    "start_time": "2025-06-25T07:10:54.006Z"
   },
   {
    "duration": 190,
    "start_time": "2025-06-25T07:10:54.012Z"
   },
   {
    "duration": 6,
    "start_time": "2025-06-25T07:10:54.204Z"
   },
   {
    "duration": 66,
    "start_time": "2025-06-25T07:10:54.212Z"
   }
  ],
  "colab": {
   "provenance": []
  },
  "kernelspec": {
   "display_name": "Python [conda env:base] *",
   "language": "python",
   "name": "conda-base-py"
  },
  "language_info": {
   "codemirror_mode": {
    "name": "ipython",
    "version": 3
   },
   "file_extension": ".py",
   "mimetype": "text/x-python",
   "name": "python",
   "nbconvert_exporter": "python",
   "pygments_lexer": "ipython3",
   "version": "3.13.5"
  },
  "toc": {
   "base_numbering": 1,
   "nav_menu": {},
   "number_sections": true,
   "sideBar": true,
   "skip_h1_title": true,
   "title_cell": "Table of Contents",
   "title_sidebar": "Contents",
   "toc_cell": false,
   "toc_position": {},
   "toc_section_display": true,
   "toc_window_display": false
  }
 },
 "nbformat": 4,
 "nbformat_minor": 4
}
